{
 "cells": [
  {
   "cell_type": "code",
   "execution_count": null,
   "metadata": {},
   "outputs": [],
   "source": [
    "def solve(divided, divisor):\n",
    "    answer = []\n",
    "    answer.append(divided.coefficients(sparse=False)[::-1])\n",
    "    answer.append(divisor.coefficients(sparse=False)[::-1])\n",
    "    reminder = divided._maxima_().divide(divisor).sage()[1]\n",
    "    return reminder\n",
    "print(solve((x^2+x+1)*(2*x^2+x+2), (x^3+x+2)))"
   ]
  }
 ],
 "metadata": {
  "kernelspec": {
   "display_name": "SageMath 9.3",
   "language": "sage",
   "name": "sagemath"
  },
  "language_info": {
   "codemirror_mode": {
    "name": "ipython",
    "version": 3
   },
   "file_extension": ".py",
   "mimetype": "text/x-python",
   "name": "python",
   "nbconvert_exporter": "python",
   "pygments_lexer": "ipython3",
   "version": "3.7.10"
  }
 },
 "nbformat": 4,
 "nbformat_minor": 4
}
