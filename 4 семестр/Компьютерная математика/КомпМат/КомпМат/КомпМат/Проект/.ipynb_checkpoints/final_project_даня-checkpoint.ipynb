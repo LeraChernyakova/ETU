{
 "cells": [
  {
   "cell_type": "markdown",
   "metadata": {},
   "source": [
    "# Итоговый проект"
   ]
  },
  {
   "cell_type": "markdown",
   "metadata": {},
   "source": [
    "Данный модуль является заключительным для обязательных глав курса по SageMath. В рамках итогового проекта студент должен будет выполнить одну объемную задачу, покрывающую в той или иной степени все рассмотренные темы: от символьных вычислений и графиков, до основ линейной алгебры в Sage. Прошу обратить внимание, что Ваша работа будет проверяться такими же студентами, как и Вы, поэтому:\n",
    "1. Грамотно оформляйте свою работу, пишите подробные комментарии, что вы делаете (либо же вставляйте в Ваше копию блокнота блоки Markdown, содержащие пояснения). \n",
    "2. Работа будет считаться выполненной только после того, как автор работы проверит не менее 3-х работ других студентов."
   ]
  },
  {
   "cell_type": "markdown",
   "metadata": {},
   "source": [
    "## Условие задания"
   ]
  },
  {
   "cell_type": "markdown",
   "metadata": {},
   "source": [
    "В данной работе Вам будет необходимо привести к каноническому виду уравнения кривой и поверхности второго порядка по данному Вам варианту. Просьба, после этого блока вставить блок Markdown с указанием номера Вашего варианта. План работы над заданием:\n",
    "1. Задать уравнения кривой второго порядка и поверхности второго порядка в символьном виде.\n",
    "2. Построить графики заданной кривой и поверхности. Обратить внимание на расположение координаты 0, 0.\n",
    "3. Привести аналитически (например, методом ортогонального преобразования) квадратичные формы, описывающие кривую и поверхность второго порядка к каноническому виду.\n",
    "4. Построить графики приведенных к каноническому виду кривой и поверхности второго порядка. \n",
    "5. Сделать выводы, оформить блокнот."
   ]
  },
  {
   "cell_type": "markdown",
   "metadata": {},
   "source": [
    "## Вариант 3\n",
    "Задана следующая квадратичная форма:\n",
    "$$ x^2+y^2+12xy+6x+24y=0 $$"
   ]
  },
  {
   "cell_type": "code",
   "execution_count": 221,
   "metadata": {},
   "outputs": [],
   "source": [
    "# задайте уравнение к.ф. в символьном виде\n",
    "y = var(' y ')\n",
    "f = x^2+y^2+12*x*y+6*x+24*y\n"
   ]
  },
  {
   "cell_type": "markdown",
   "metadata": {},
   "source": [
    "Теперь построим график заданной кривой:"
   ]
  },
  {
   "cell_type": "code",
   "execution_count": 222,
   "metadata": {},
   "outputs": [
    {
     "data": {
      "image/png": "[encoded data removed]",
      "text/plain": [
       "Graphics object consisting of 1 graphics primitive"
      ]
     },
     "metadata": {},
     "output_type": "display_data"
    }
   ],
   "source": [
    "p = implicit_plot(f, (-30, 30), (-30,30), color=\"red\")\n",
    "p.show()"
   ]
  },
  {
   "cell_type": "markdown",
   "metadata": {},
   "source": [
    "Теперь найдем асимптоты (при наличии) и также добавим их на график:"
   ]
  },
  {
   "cell_type": "markdown",
   "metadata": {},
   "source": [
    "**Алгоритм построения ассимптот.**\n",
    "\n",
    "Ассимптота - прямая, обладающая тем свойством, что расстояние от точки: $(x, f(x))$ графика функции до этой прямой стремится к нулю при неограниченном удалении точки графика от начала координат. Задается уравнением вида:\n",
    "$$ y = kx +  b $$\n",
    "У функции может не быть ассимптот, а может и быть бесконечно много, тут так сразу не угадаешь. Благо, жизнь нам предлагает алгоритм по нахождению ассимптот функции, при этом этот же алгоритм позволяет доказать, что ассимптот не существует.\n",
    "\n",
    "Ассимптота существует, если оба предела: $$\\lim_{x\\to \\infty} \\frac{f(x)}{x}=k$$  и  $$\\lim_{x\\to \\infty} {f(x)-kx}=b$$ существуют и не равны бесконечности.\n",
    "\n",
    "Но жестокая судьба так и шепчет, что не все так просто. И дейтсвительно, ведь функция, заданная выше, задана неявно, а значит, для нахождения ее ассимптот нужны более общие правила.\n",
    "\n",
    "Имеем что-то вроде: $$F(x,y)=0 $$  Пусть асимптота описывается уравнением $y=kx+b$, тогда, подставляя это выражение для $y$ в уравнение кривой, получаем алгебраическое уравнение относительно одной переменной $x$:\n",
    "$${A_0}{x^n} + {A_1}{x^{n - 1}} +  \\ldots  + {A_{n - 1}}x + {A_n} = 0$$\n",
    "\n",
    "где коэффициенты $A_i$зависят от параметров асимптоты $k$ и $b$ (причем коэффициент $A_0$ зависит лишь от $k$). Значения $k$ и $b$ определяются из условия:\n",
    "$$\\left\\{ \\begin{array}{l}\n",
    "{A_0}\\left( k \\right) = 0\\\\\n",
    "{A_1}\\left( {k,b} \\right) = 0\n",
    "\\end{array} \\right..$$\n",
    "\n",
    "Для нахождения вертикальной асимптоты нужно подставить ее уравнение $x=a$ в уравнение кривой и преобразовать последнее к виду:\n",
    "\n",
    "$${B_0}{y^n} + {B_1}{y^{n - 1}} +  \\ldots  + {B_{n - 1}}y + {B_n} = 0$$\n",
    "\n",
    "Необходимым условием существования вертикальной асимптоты является отсутствие в последнем уравнении старшего члена ${B_0}{y^n}$ Значение параметра $a$ определяется из условия:\n",
    "$${B_1}\\left( a \\right) = 0$$\n",
    "\n",
    "Приведенные формулы для асимптот неявно заданных кривых справедливы, если кривая не имеет особых точек на бесконечности."
   ]
  },
  {
   "cell_type": "markdown",
   "metadata": {},
   "source": [
    "Подставим $ y = kx+b$ в уравнение и приведем подобные:"
   ]
  },
  {
   "cell_type": "code",
   "execution_count": 223,
   "metadata": {
    "scrolled": true
   },
   "outputs": [
    {
     "data": {
      "text/plain": [
       "k^2*x^2 + 2*b*k*x + 12*k*x^2 + b^2 + 12*b*x + 24*k*x + x^2 + 24*b + 6*x"
      ]
     },
     "execution_count": 223,
     "metadata": {},
     "output_type": "execute_result"
    }
   ],
   "source": [
    "from sage.calculus.calculus import at\n",
    "var('k b')\n",
    "f = at(f, [y == k*x+b])\n",
    "f = expand(f)\n",
    "# результат раскрытия скобок и приведения подобных слагаемых\n",
    "f"
   ]
  },
  {
   "cell_type": "markdown",
   "metadata": {},
   "source": [
    "Далее возьмем коэфициенты при двух старших степенях х."
   ]
  },
  {
   "cell_type": "code",
   "execution_count": 224,
   "metadata": {},
   "outputs": [],
   "source": [
    "coeffs_list = f.coefficients(x)\n",
    "A_0, A_1 = coeffs_list[-1][0], coeffs_list[-2][0]"
   ]
  },
  {
   "cell_type": "markdown",
   "metadata": {},
   "source": [
    "И, наконец, решим систему из полученных уравнений, найдя k и b:"
   ]
  },
  {
   "cell_type": "code",
   "execution_count": 225,
   "metadata": {
    "scrolled": false
   },
   "outputs": [],
   "source": [
    "solution = solve([A_0 == 0, A_1 == 0], k, b)\n",
    "asympt = k*x+b\n",
    "asympt_1 = at(asympt, solution[0])\n",
    "asympt_2 = at(asympt, solution[1])"
   ]
  },
  {
   "cell_type": "markdown",
   "metadata": {},
   "source": [
    "Теперь остается добавить на график обе ассимптоты:"
   ]
  },
  {
   "cell_type": "code",
   "execution_count": 226,
   "metadata": {},
   "outputs": [
    {
     "data": {
      "image/png": "[encoded data removed]",
      "text/plain": [
       "Graphics object consisting of 3 graphics primitives"
      ]
     },
     "metadata": {},
     "output_type": "display_data"
    }
   ],
   "source": [
    "a_1 = plot(asympt_1, (-5, 1))\n",
    "a_2 = plot(asympt_2, (-30, 30))\n",
    "show(p+a_1+a_2)"
   ]
  },
  {
   "cell_type": "markdown",
   "metadata": {},
   "source": [
    "1. Теория по построению асимптот неявно заданной функции\n",
    "2. Задание на нахождение производной неявно заданной функции\n",
    "3. Построить график производной функции, которая задает кривую 2-го порядка (синим цветом выделить промежутки убывания функции, красным - возрастания).\n",
    "4. Заставить найти точку пересечения асимптот"
   ]
  },
  {
   "cell_type": "markdown",
   "metadata": {},
   "source": [
    "Осталось только найти точку пересечения ассимптот:"
   ]
  },
  {
   "cell_type": "code",
   "execution_count": 394,
   "metadata": {},
   "outputs": [],
   "source": [
    "# приравняем правые части уравнений асимптот и решим полученное уравнение от одной переменной\n",
    "x_0 = solve([asympt_1 == asympt_2], x)[0]\n",
    "y_0 = at(asympt_1, [x_0])"
   ]
  },
  {
   "cell_type": "markdown",
   "metadata": {},
   "source": [
    "Для удобной работы с уравнением кривой второго порядка, само уравнения надо представить в виде суммы некоей квадратичной формы и линейного функционала. В данном случае часть уравнения, являющаяся КФ имеет вид:\n",
    "                           $$ x^2 + y^2 + 12xy $$\n",
    "Линейная часть выглядит так:\n",
    " $$ 6x + 24y $$\n",
    "Введем теперь вектор $v$:\n",
    "$$ v = v_e = (x, y)^T $$\n",
    "Тогда если обозначить матрицу квадратичной формы за $Q$, а матрицу линейного функционала за $L$, то наше уравнение примет следующий вид:\n",
    "$$ v^T * Q * v + L*v = 0$$"
   ]
  },
  {
   "cell_type": "markdown",
   "metadata": {},
   "source": [
    "Ваша текущая задача заключается в том, чтобы составить матрицы Q и L:\n",
    "(Замечание: в SageMath существует объект QuadraticForm, который позволяет работать не с абстрактными матрицами, а с матрицами именно квадратичной формы. Решение, реализованное не по шаблону, с использованием QuadraticForm также будет приниматься, но рассматриваться в ноутбуке не будет)."
   ]
  },
  {
   "cell_type": "code",
   "execution_count": 395,
   "metadata": {},
   "outputs": [],
   "source": [
    "v = matrix([x,y])\n",
    "Q = matrix([[1,6],[6,1]])\n",
    "L = matrix([6, 24])"
   ]
  },
  {
   "cell_type": "markdown",
   "metadata": {},
   "source": [
    "Теперь нам нужно диагонализировать матрицу КФ: для этого нам нужно перейти из стандартного базиса к базису из собственных векторов. Следовательно, следует найти собственные числа и векторы матрицы $Q$:"
   ]
  },
  {
   "cell_type": "code",
   "execution_count": 351,
   "metadata": {},
   "outputs": [],
   "source": [
    "# т.к. метод возвращает тройки, возьмем только собственные вектора ([1]), извлечем элемент из кортежа ([0])\n",
    "eigvec_2, eigvec_1 = Q.right_eigenvectors()\n",
    "eigvec_1 = matrix(eigvec_1[1][0])\n",
    "eigvec_2 = matrix(eigvec_2[1][0])"
   ]
  },
  {
   "cell_type": "markdown",
   "metadata": {},
   "source": [
    "Получив собственные векторы матрицы можно задать матрицу перехода от стандартного базиса в $R^2$ к базису из собственных векторов. Запишите матрицу перехода, составив ее из собственных векторов и при необходимости избавившись от дробей в векторах (вектора следует нормировать):"
   ]
  },
  {
   "cell_type": "code",
   "execution_count": 352,
   "metadata": {},
   "outputs": [
    {
     "data": {
      "text/plain": [
       "[ 1 -1]\n",
       "[ 1  1]"
      ]
     },
     "execution_count": 352,
     "metadata": {},
     "output_type": "execute_result"
    }
   ],
   "source": [
    "transform_matrix = matrix([eigvec_1[0], eigvec_2[0]])\n",
    "transform_matrix"
   ]
  },
  {
   "cell_type": "markdown",
   "metadata": {},
   "source": [
    "Теперь проверьте равенство норм обоих собственных векторов (обратите внимение, здесь используется стандартная евклидова, т.е. вторая, норма):"
   ]
  },
  {
   "cell_type": "code",
   "execution_count": 396,
   "metadata": {
    "scrolled": true
   },
   "outputs": [
    {
     "data": {
      "text/plain": [
       "True"
      ]
     },
     "execution_count": 396,
     "metadata": {},
     "output_type": "execute_result"
    }
   ],
   "source": [
    "eigvec_1.norm(2) == eigvec_2.norm(2)"
   ]
  },
  {
   "cell_type": "markdown",
   "metadata": {},
   "source": [
    "Перепишем теперь матрицу $Q$ в новом базисе:"
   ]
  },
  {
   "cell_type": "code",
   "execution_count": 397,
   "metadata": {},
   "outputs": [
    {
     "data": {
      "text/plain": [
       "[-5  0]\n",
       "[ 0  7]"
      ]
     },
     "execution_count": 397,
     "metadata": {},
     "output_type": "execute_result"
    }
   ],
   "source": [
    "Q_new = transform_matrix*Q*transform_matrix^(-1)\n",
    "Q_new"
   ]
  },
  {
   "cell_type": "markdown",
   "metadata": {},
   "source": [
    "Теперь подставим полученные переменные в наше исходное уравнение:"
   ]
  },
  {
   "cell_type": "code",
   "execution_count": 398,
   "metadata": {},
   "outputs": [],
   "source": [
    "# т.к. изначально вектор v мы представили как матрицу из 1 строки, \n",
    "# транспонируем наоборот, в сравнении с формулой\n",
    "f_1 = (v*Q_new*v.transpose()+L*v.transpose())[0][0]"
   ]
  },
  {
   "cell_type": "markdown",
   "metadata": {},
   "source": [
    "Для проверки решения снова построим график:"
   ]
  },
  {
   "cell_type": "code",
   "execution_count": 399,
   "metadata": {
    "scrolled": true
   },
   "outputs": [],
   "source": [
    "p_1 = implicit_plot(f_1, xrange=(-30,30), yrange=(-30, 30), color=\"red\")"
   ]
  },
  {
   "cell_type": "markdown",
   "metadata": {},
   "source": [
    "Если все было сделано верно, то мы должны были добиться поворота графика таким образом, чтобы он стал параллелен одной из осей координат. Остались только последние штрихи: отцентрировать график."
   ]
  },
  {
   "cell_type": "code",
   "execution_count": 405,
   "metadata": {},
   "outputs": [
    {
     "data": {
      "image/png": "[encoded data removed]",
      "text/plain": [
       "Graphics object consisting of 1 graphics primitive"
      ]
     },
     "metadata": {},
     "output_type": "display_data"
    }
   ],
   "source": [
    "# график получился параллелен Ox\n",
    "p_1.show()"
   ]
  },
  {
   "cell_type": "markdown",
   "metadata": {},
   "source": [
    "Теперь путем параллельного переноса отцентрируем график гиперболы:\n",
    "\n",
    "**Замечание.** Сдвигать надо на значение х и у, полученные полученные в предыдущем шаге(точки пересечения ассимптот функции после поворота)"
   ]
  },
  {
   "cell_type": "code",
   "execution_count": 369,
   "metadata": {
    "scrolled": true
   },
   "outputs": [],
   "source": [
    "#ниже нахождение точки пересечения асимптот аналогичное тому, что мы делали для графика до поворота\n",
    "left_part=f_1.substitute(y=k*x+b)\n",
    "coefficents=left_part.coefficients(x,sparse=False)\n",
    "coef1,coef2=coefficents[1]==0,coefficents[2]==0"
   ]
  },
  {
   "cell_type": "code",
   "execution_count": 370,
   "metadata": {},
   "outputs": [],
   "source": [
    "# решаем систему относительно k,b\n",
    "solution = solve([coef1,coef2],k,b)\n",
    "y_0 = k*x+b\n",
    "y_1 = at(y_0, solution[0])\n",
    "y_2 = at(y_0, solution[1])"
   ]
  },
  {
   "cell_type": "code",
   "execution_count": 402,
   "metadata": {},
   "outputs": [],
   "source": [
    "# находим x и подставляем в уравнение одной из асимптот, находим y\n",
    "x_pad = solve(y_1 == y_2, x, solution_dict=True)[0][x]\n",
    "y_pad = y_1.substitute(x=x_pad)"
   ]
  },
  {
   "cell_type": "code",
   "execution_count": 403,
   "metadata": {
    "scrolled": true
   },
   "outputs": [],
   "source": [
    "res = implicit_plot(f_1(x=x+x_pad, y=y+y_pad), xrange=(-20,20), yrange=(-20, 20), color=\"red\")"
   ]
  },
  {
   "cell_type": "code",
   "execution_count": 406,
   "metadata": {},
   "outputs": [
    {
     "data": {
      "image/png": "[encoded data removed]",
      "text/plain": [
       "Graphics object consisting of 1 graphics primitive"
      ]
     },
     "metadata": {},
     "output_type": "display_data"
    }
   ],
   "source": [
    "res.show()"
   ]
  },
  {
   "cell_type": "markdown",
   "metadata": {},
   "source": [
    "Поздравляем! С помощью параллельного переноса график гиперболы был отцентрирован, а первая часть проекта завершена."
   ]
  }
 ],
 "metadata": {
  "kernelspec": {
   "display_name": "SageMath 9.3",
   "language": "sage",
   "name": "sagemath"
  },
  "language_info": {
   "codemirror_mode": {
    "name": "ipython",
    "version": 3
   },
   "file_extension": ".py",
   "mimetype": "text/x-python",
   "name": "python",
   "nbconvert_exporter": "python",
   "pygments_lexer": "ipython3",
   "version": "3.7.10"
  }
 },
 "nbformat": 4,
 "nbformat_minor": 4
}
