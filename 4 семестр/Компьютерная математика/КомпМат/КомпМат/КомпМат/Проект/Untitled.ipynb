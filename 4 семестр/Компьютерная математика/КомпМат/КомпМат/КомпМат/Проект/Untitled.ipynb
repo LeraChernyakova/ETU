{
 "cells": [
  {
   "cell_type": "code",
   "execution_count": 8,
   "metadata": {},
   "outputs": [
    {
     "name": "stdout",
     "output_type": "stream",
     "text": [
      "x^2 - 4*x*y - y^2 - 4*x - 8*y == 2\n",
      "-k^2*x^2 - 2*b*k*x - 4*k*x^2 - b^2 - 4*b*x - 8*k*x + x^2 - 8*b - 4*x == 2\n",
      "-2*b*k - 4*b - 8*k - 4\n",
      "-k^2 - 4*k + 1\n",
      "-x*(sqrt(5) + 2) - 6/5*sqrt(5) - 4\n"
     ]
    }
   ],
   "source": [
    "y = var('y')\n",
    "function = x^2-y^2-4*x*y-4*x-8*y==2\n",
    "print(function)\n",
    "\n",
    "var('k')\n",
    "var('b')\n",
    "function = function.substitute(y=k*x+b).expand()\n",
    "print(function)\n",
    "\n",
    "equation_left = function.left()\n",
    "x_coef = equation_left.coefficients(x)\n",
    "x_coef1, x_coef2 = x_coef[1][0], x_coef[2][0]\n",
    "print(x_coef1)\n",
    "print(x_coef2)\n",
    "\n",
    "system = solve([ x_coef1 == 0, x_coef2 == 0], k, b, solution_dict=True)\n",
    "asymptota = k*x+b\n",
    "asymptota1 = system[0][k]*x+system[0][b]\n",
    "print(asymptota1)"
   ]
  },
  {
   "cell_type": "code",
   "execution_count": null,
   "metadata": {},
   "outputs": [],
   "source": []
  }
 ],
 "metadata": {
  "kernelspec": {
   "display_name": "SageMath 9.3",
   "language": "sage",
   "name": "sagemath"
  },
  "language_info": {
   "codemirror_mode": {
    "name": "ipython",
    "version": 3
   },
   "file_extension": ".py",
   "mimetype": "text/x-python",
   "name": "python",
   "nbconvert_exporter": "python",
   "pygments_lexer": "ipython3",
   "version": "3.7.10"
  }
 },
 "nbformat": 4,
 "nbformat_minor": 4
}
