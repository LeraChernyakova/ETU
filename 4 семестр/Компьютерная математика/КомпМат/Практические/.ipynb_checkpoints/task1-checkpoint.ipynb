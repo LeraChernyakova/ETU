{
 "cells": [
  {
   "cell_type": "markdown",
   "metadata": {},
   "source": [
    "# Практическая работа №1: Алгоритмы эффективного вычисления одночленов\n",
    "\n",
    "Выполнила студентка гр. 1304 Чернякова Валерия. Вариант №51."
   ]
  },
  {
   "cell_type": "markdown",
   "metadata": {},
   "source": [
    "## Цель работы\n",
    "\n",
    "Сформировать знания о работе алгоритмах вычисления одночленов за минимальное число операций, привить навык использования систем компьютерной математики для реализации алгоритмов."
   ]
  },
  {
   "cell_type": "markdown",
   "metadata": {},
   "source": [
    "## Основные теоретические положения\n",
    "Для оценки количества затраченных операций в ходе работы алгоритмов введены следующие **обозначения**:\n",
    "<ul>\n",
    "<li>$ \\lambda(n) = \\lfloor log_2(n)\\rfloor $  -  уменьшенная на единицу бинарная запись числа $ n $.</li>\n",
    "<li>$ \\nu(n) $  -  вес Хемминга для бинарной записи числа $ n $. Вес Хемминга  -  количество ненулевых цифр в записи числа.</li>\n",
    "</ul>\n",
    "\n",
    "### Бинарный метод  _«SX»_\n",
    "Описание алгоритма для возведения числа $ x $ в степень $ n $ методом _«SX»_.\n",
    "<ol>\n",
    "    <li>Записать натуральное число $ n $ в бинарном виде:</li>\n",
    "    $ n = (a_ma_{m-1}...a_2a_1)_2 $, причем $ a_m = 1 $.<br>\n",
    "    <li>Отбросить старший бит:</li>\n",
    "    $ (a_{m-1}...a_2a_1)_2 $<br>\n",
    "    <li>Произвести замену по следующему правилу:</li>\n",
    "        <ul>\n",
    "        <li>$ a_i = 1 \\Rightarrow a_i = SX $</li>  \n",
    "        <li>$ a_i = 0 \\Rightarrow a_i = X $</li>\n",
    "        </ul>\n",
    "    <li>Результат, читаемый слева на право, превращается в правило вычисления $ x^n $, если букву _«S»_ интерпретировать как операцию возведения в квадрат (_S_ – square – квадрат), а букву _«X»_  -  как операцию умножения на $ x $.</li><br>\n",
    "</ol>\n",
    "    \n",
    "Число операций для бинарного метода «SX»: $ \\lambda(n) + \\nu(n) - 1 $\n",
    "\n",
    "### Бинарный метод  возведения в степень справа налево\n",
    "<ol>\n",
    "Описание алгоритма возведения числа $ x $ в степень $ n $ методом справа налево.\n",
    "<li>На нулевой итерации определяются следующие значения:</li>\n",
    "$ N:=n \\quad  \n",
    "Y:=1 \\quad  \n",
    "Z:=x $<br>\n",
    "<li>Осуществление проверки числа $ N $  -  чётное оно или нет. Если чётно - переход на пункт 3, иначе на пункт 4.</li>\n",
    "<li>$N$ оказалось чётным:</li>\n",
    "<ul>\n",
    "<li>$ N := \\lfloor N/2 \\rfloor $</li>  \n",
    "<li>$ Z := Z \\cdot Z $</li>  \n",
    "<li>Возвращаемся к пункту 2.</li>\n",
    "</ul>\n",
    "<li>$N$ оказалось нечётным:</li>\n",
    "<ul>\n",
    "<li>$N := \\lfloor N/2 \\rfloor$</li>   \n",
    "<li>$Y := Y \\cdot Z$</li>   \n",
    "</ul>\n",
    "    Проверка числа $N$  -  равно ли оно нулю.</li>\n",
    "<ul>\n",
    "<li>$N$ оказалось равным нулю $\\Rightarrow$ Возвращается значение $Y$ в качестве ответа. Окончание работы алгоритма.</li>     \n",
    "<li>$N$ оказалось не равным нулю $\\Rightarrow$Возвращение к $3$ пункту алгоритма, и начинается его выполнение с момента переприсваивания значения $Z$.</li>\n",
    "</ul>\n",
    "</ol>\n",
    "\n",
    "Число операций для бинарного метода справа налево: $ \\lambda(n) + \\nu(n) $\n",
    "\n",
    "### Метод множителей\n",
    "Описание алгоритма возведения числа $ x $ в степень $ n $ методом множителей.\n",
    "1. Представить $ n $, как $ n = p \\cdot q$, где $p$  -  наименьший простой множитель $n$, a $q > 1$.  \n",
    "    $x^n$ можно найти, вычислив $x^p$ и возведя эту велечину в степень равную $q$.<br>\n",
    "2. Если $n$  -  простое число $\\Rightarrow$ Сначала вычисляется $x^{n-1}$, а в конце домножается на $x$.<br>\n",
    "3. Если $n=1$ $\\Rightarrow$ Получаем $x^n$ без вычислений.<br>\n",
    "\n",
    "Таким образом, следуя алгоритму и раскладывая по мере необходимости числа $p$ или $q$ в соответствии с ним, в итоге будет получено значение $x^n$.\n",
    "\n",
    "### Дерево степеней\n",
    "Описание построения дерева степеней $k$-го уровня.\n",
    "* Корень дерева всегда одно и тоже число  -  $1$.\n",
    "* Пусть построен $k$-ый уровень дерева. Необходимо построить $(k+1)$ уровень.\n",
    "* Берем каждый узел $n$ на $k$-ом уровне слева направо и присоединяем к нему снизу узлы.<br> \n",
    "    $n+a_0, n+a_1,\\dots,n+a_{k-1}=2\\cdot n$<br>\n",
    "* Здесь порядок присоединения важен. Значения $\\{a_i\\}^{k-1}_{i=0}, a_0=1$ представляют собой путь от корня дерева до узла $n$.\n",
    "* Если какой-то узел уже появлялся раньше в дереве, то он устраняется(новый узел не появляется)."
   ]
  },
  {
   "cell_type": "markdown",
   "metadata": {},
   "source": [
    "## Постановка задачи\n",
    "\n",
    "Реализовать алгоритмы вычисления мономов за минимальное число операций с использованием системы компьютерной алгебры SageMath, провести анализ алгоритмов. Полученные результаты содержательно проинтерпретировать."
   ]
  },
  {
   "cell_type": "markdown",
   "metadata": {},
   "source": [
    "## Выполнение работы"
   ]
  },
  {
   "cell_type": "markdown",
   "metadata": {},
   "source": [
    "### Реализация бинарного метода  возведения в степень _«SX»_"
   ]
  },
  {
   "cell_type": "markdown",
   "metadata": {},
   "source": [
    "Для данного метода разработаем программный код. Функция _SX_ - реализация метода. Принимает на вход натуральное число $n$ - степень, в которую необходимо возвести число. Для работы с бинарной запись числа создана функция _bin\\_operations_ - перевод числа в двоичную систему счисления и отбрасывание старшего бита, полученный результат возвращается. В двочиной записи числа без учета старшего бита происходит замена $0$ и $1 $ на _S_ и _SX_ соотвественно. Переменная _answer_ предназначена для хранения результата. Для возведения числа в степень в цикле просматриваются все буквы, получившиеся после замены, и значение переменной _answer_ меняется следующим образом: $S\\Rightarrow$возведение в квадрат, $X\\Rightarrow$умножение на $x$. Функция возвращает отформатированный ответ, по которому можно отследить процесс возведения числа в степень $n$ и подсчитать количество операций."
   ]
  },
  {
   "cell_type": "code",
   "execution_count": 1,
   "metadata": {},
   "outputs": [],
   "source": [
    "# Функция для обработки степени n перед началом работы главной идеи алгоритма SX\n",
    "def bin_operations(n):\n",
    "    # Перевод n в довичное представление.\n",
    "    # Первые два символа - префикс => берется срез\n",
    "    bin_n = bin(n)[2:]\n",
    "    # Отбрасывание страшего бита\n",
    "    drop_n = bin_n[1:]\n",
    "    return drop_n\n",
    "\n",
    "# Форматированный вывод процесса возведения в степень\n",
    "def formatted_answer(operations_xi):\n",
    "    str_answer = str()\n",
    "    for elem in operations_xi:\n",
    "        # Берется элемент под индексом 1, так как в нем хранится значение x_i\n",
    "        str_answer += str(elem[1])\n",
    "        str_answer += '->'\n",
    "    # Возвращается строка без учета двух последних символов '->'\n",
    "    return str_answer[:len(str_answer)-2]\n",
    "\n",
    "def SX(n):\n",
    "    # Вызов метода, который обрабатывает число n перед основным алгоритмом\n",
    "    n = bin_operations(n)\n",
    "    # Замена 0 и 1 в соотвествии с алгоритмом на S и SX соотвественно\n",
    "    n_SX = n.replace('1', 'SX').replace('0', 'S')\n",
    "    # Вывод последовательности \"S\" и \"X\"\n",
    "    show(n_SX)\n",
    "    # Начальное значение ancwer - переменная x\n",
    "    answer = var('x')\n",
    "    # Подсчет количества операци\n",
    "    operations = 0\n",
    "    # Список списков, где 0 индекс - итерация, 1 - значение x_i \n",
    "    operations_xi = []\n",
    "    operations_xi += [[operations, answer]]\n",
    "    # Цикл по строке из S X\n",
    "    for letters in n_SX:\n",
    "        operations += 1\n",
    "        if letters == 'S':\n",
    "            # Возведение в квадрат, если \"S\"\n",
    "            answer ^= 2\n",
    "            operations_xi += [[operations, answer]]\n",
    "        elif letters == 'X':\n",
    "            # Умножение на x, если \"X\"\n",
    "            answer *= x\n",
    "            operations_xi += [[operations, answer]]\n",
    "    # Вывод количества итераций\n",
    "    print('Количество операций:', operations)\n",
    "    # Возвращается строка - последовательность возведения в степень\n",
    "    return(formatted_answer(operations_xi))"
   ]
  },
  {
   "cell_type": "markdown",
   "metadata": {},
   "source": [
    "Протестируем работу программы для следующих $n: 17, 45, 66$."
   ]
  },
  {
   "cell_type": "code",
   "execution_count": 2,
   "metadata": {},
   "outputs": [
    {
     "data": {
      "text/html": [
       "SSSSX"
      ],
      "text/plain": [
       "'SSSSX'"
      ]
     },
     "metadata": {},
     "output_type": "display_data"
    },
    {
     "name": "stdout",
     "output_type": "stream",
     "text": [
      "Количество операций: 5\n"
     ]
    },
    {
     "data": {
      "text/html": [
       "x->x^2->x^4->x^8->x^16->x^17"
      ],
      "text/plain": [
       "'x->x^2->x^4->x^8->x^16->x^17'"
      ]
     },
     "metadata": {},
     "output_type": "display_data"
    }
   ],
   "source": [
    "show(SX(17))"
   ]
  },
  {
   "cell_type": "code",
   "execution_count": 3,
   "metadata": {},
   "outputs": [
    {
     "data": {
      "text/html": [
       "SSXSXSSX"
      ],
      "text/plain": [
       "'SSXSXSSX'"
      ]
     },
     "metadata": {},
     "output_type": "display_data"
    },
    {
     "name": "stdout",
     "output_type": "stream",
     "text": [
      "Количество операций: 8\n"
     ]
    },
    {
     "data": {
      "text/html": [
       "x->x^2->x^4->x^5->x^10->x^11->x^22->x^44->x^45"
      ],
      "text/plain": [
       "'x->x^2->x^4->x^5->x^10->x^11->x^22->x^44->x^45'"
      ]
     },
     "metadata": {},
     "output_type": "display_data"
    }
   ],
   "source": [
    "show(SX(45))"
   ]
  },
  {
   "cell_type": "code",
   "execution_count": 4,
   "metadata": {},
   "outputs": [
    {
     "data": {
      "text/html": [
       "SSSSSXS"
      ],
      "text/plain": [
       "'SSSSSXS'"
      ]
     },
     "metadata": {},
     "output_type": "display_data"
    },
    {
     "name": "stdout",
     "output_type": "stream",
     "text": [
      "Количество операций: 7\n"
     ]
    },
    {
     "data": {
      "text/html": [
       "x->x^2->x^4->x^8->x^16->x^32->x^33->x^66"
      ],
      "text/plain": [
       "'x->x^2->x^4->x^8->x^16->x^32->x^33->x^66'"
      ]
     },
     "metadata": {},
     "output_type": "display_data"
    }
   ],
   "source": [
    "show(SX(66))"
   ]
  },
  {
   "cell_type": "markdown",
   "metadata": {},
   "source": [
    "Произведем оценку числа операций для выбранных $n$. Сравним результат - количество операций, выдаваемых программой и вычисляемых по формуле.<br>\n",
    "Для подсчёта количества операций методом _«SX»_ воспользуемся следующей формулой:<br>\n",
    "$$ \\lambda(n) + \\nu(n) - 1 $$\n",
    "1. $n = 17_{10} = 10001_2\\Rightarrow \\lambda(n) = 4, \\nu(n) = 2.$ Количество операций = $ 4 + 2 - 1 = 5 \\Rightarrow$ результаты совпадают.<br>\n",
    "2. $n = 45_{10} = 101101_2\\Rightarrow \\lambda(n) = 5, \\nu(n) = 4.$ Количество операций = $ 5 + 4 - 1 = 8 \\Rightarrow$ результаты совпадают.<br>\n",
    "3. $n = 66_{10} = 1000010_2\\Rightarrow \\lambda(n) = 6, \\nu(n) = 2.$ Количество операций = $ 6 + 2 - 1 = 7 \\Rightarrow$ результаты совпадают.\n",
    "\n",
    "Таким образом, при подсчете количества операций для данного метода код программы, его реализующий, работает корректно.\n",
    "\n",
    "**Выводы**<br>\n",
    "Был реализован бинарный метод возведения в степень _«SX»_. Проверена корректность его работы для трех значений степени $n$. Метод является более эффективным в сравнении с простым умножением числа самого на себя $n$ раз. Также можно сделать следующий вывод: чем больше единиц, тем больше операций, и наоборот, соотвественно, для меньшего числа единиц. Это объясняется тем, что $1$ заменяется ни одной буквой, а целым сочетанием -  _SX_. "
   ]
  },
  {
   "cell_type": "markdown",
   "metadata": {},
   "source": [
    "### Реализация бинарного метода возведения в степень справа налево"
   ]
  },
  {
   "cell_type": "markdown",
   "metadata": {},
   "source": [
    "Для данного метода разработаем программный код. Функция _right_left_ - реализация метода. Принимает на вход натуральное число $n$ - степень, в которую необходимо возвести число. Начальная инициализация переменных согласно алгоритму: $N = n, Y = 1, Z = x$. Перменная _iterat_ предназначена для подсчета количества итераций. Пока значение $N$ не станет равным $0$ реализуется алгоритм, описанный в главе _«Основные теоретические положения»_ в подглаве _«Бинарный метод возведения в степень справа налево»_. Функция выводит отформатированный ответ, по которому можно отследить процесс возведения числа в степень $n$ и измененеие переменных, а вовращает значение $Y$ - ответ."
   ]
  },
  {
   "cell_type": "code",
   "execution_count": 5,
   "metadata": {},
   "outputs": [],
   "source": [
    "def right_left(n):\n",
    "    # Начальная инициализация\n",
    "    N = n\n",
    "    Y = 1\n",
    "    Z = var('x')\n",
    "    # Подсчет количества итераций\n",
    "    iterat = 0\n",
    "    # Для вывода форматированного ответа\n",
    "    print ('i', '\\t', 'N' , '\\t', 'Y', '\\t', 'Z')\n",
    "    while N != 0:\n",
    "        # Вывод каждой итерации алгоритма\n",
    "        print(iterat, '\\t', N, '\\t', Y, '\\t',Z)\n",
    "        iterat += 1\n",
    "        # Порядок действий при четном N\n",
    "        if N%2 == 0:\n",
    "            N = floor(N/2)\n",
    "            Z *= Z\n",
    "        # Порядок действий при нечетном N\n",
    "        else:\n",
    "            N = floor(N/2)\n",
    "            Y *= Z\n",
    "            if N == 0:\n",
    "                break\n",
    "            else:\n",
    "                Z *= Z\n",
    "    # Вывод последней итерации\n",
    "    print(iterat, '\\t', N, '\\t', Y, '\\t',Z)\n",
    "    # Y - ответ\n",
    "    return Y"
   ]
  },
  {
   "cell_type": "markdown",
   "metadata": {},
   "source": [
    "Протестируем работу программы для следующих $n: 17, 45, 66$."
   ]
  },
  {
   "cell_type": "code",
   "execution_count": 6,
   "metadata": {
    "scrolled": true
   },
   "outputs": [
    {
     "name": "stdout",
     "output_type": "stream",
     "text": [
      "i \t N \t Y \t Z\n",
      "0 \t 17 \t 1 \t x\n",
      "1 \t 8 \t x \t x^2\n",
      "2 \t 4 \t x \t x^4\n",
      "3 \t 2 \t x \t x^8\n",
      "4 \t 1 \t x \t x^16\n",
      "5 \t 0 \t x^17 \t x^16\n"
     ]
    },
    {
     "data": {
      "text/html": [
       "<html><script type=\"math/tex; mode=display\">\\newcommand{\\Bold}[1]{\\mathbf{#1}}x^{17}</script></html>"
      ],
      "text/latex": [
       "$$\\newcommand{\\Bold}[1]{\\mathbf{#1}}x^{17}$$"
      ],
      "text/plain": [
       "x^17"
      ]
     },
     "metadata": {},
     "output_type": "display_data"
    }
   ],
   "source": [
    "show(right_left(17))"
   ]
  },
  {
   "cell_type": "markdown",
   "metadata": {},
   "source": [
    "Результат для $n = 17$ в виде таблицы:\n",
    "\n",
    "| $№$ итерации | Значение $N$ | Значение $Y$ | Значение $Z$ |\n",
    "|--------------|--------------|--------------|--------------|\n",
    "| $0$          | $17$         | $1$          | $x$          |\n",
    "| $1$          | $8$          | $x$          | $x^2$        |\n",
    "| $2$          | $4$          | $x$          | $x^4$        |\n",
    "| $3$          | $2$          | $x$          | $x^8$        |\n",
    "| $4$          | $1$          | $x$          | $x^{16}$     |\n",
    "| $5$          | $0$          | $x^{17}$     | $x^{16}$     |"
   ]
  },
  {
   "cell_type": "code",
   "execution_count": 7,
   "metadata": {},
   "outputs": [
    {
     "name": "stdout",
     "output_type": "stream",
     "text": [
      "i \t N \t Y \t Z\n",
      "0 \t 45 \t 1 \t x\n",
      "1 \t 22 \t x \t x^2\n",
      "2 \t 11 \t x \t x^4\n",
      "3 \t 5 \t x^5 \t x^8\n",
      "4 \t 2 \t x^13 \t x^16\n",
      "5 \t 1 \t x^13 \t x^32\n",
      "6 \t 0 \t x^45 \t x^32\n"
     ]
    },
    {
     "data": {
      "text/html": [
       "<html><script type=\"math/tex; mode=display\">\\newcommand{\\Bold}[1]{\\mathbf{#1}}x^{45}</script></html>"
      ],
      "text/latex": [
       "$$\\newcommand{\\Bold}[1]{\\mathbf{#1}}x^{45}$$"
      ],
      "text/plain": [
       "x^45"
      ]
     },
     "metadata": {},
     "output_type": "display_data"
    }
   ],
   "source": [
    "show(right_left(45))"
   ]
  },
  {
   "cell_type": "markdown",
   "metadata": {},
   "source": [
    "Результат для $n = 45$ в виде таблицы:\n",
    "\n",
    "| $№$ итерации | Значение $N$ | Значение $Y$ | Значение $Z$ |\n",
    "|--------------|--------------|--------------|--------------|\n",
    "| $0$          | $45$         | $1$          | $x$          |\n",
    "| $1$          | $22$         | $x$          | $x^2$        |\n",
    "| $2$          | $11$         | $x$          | $x^4$        |\n",
    "| $3$          | $5$          | $x^5$        | $x^8$        |\n",
    "| $4$          | $2$          | $x^{13}$     | $x^{16}$     |\n",
    "| $5$          | $1$          | $x^{13}$     | $x^{32}$     |\n",
    "| $6$          | $0$          | $x^{45}$     | $x^{32}$     |"
   ]
  },
  {
   "cell_type": "code",
   "execution_count": 8,
   "metadata": {},
   "outputs": [
    {
     "name": "stdout",
     "output_type": "stream",
     "text": [
      "i \t N \t Y \t Z\n",
      "0 \t 66 \t 1 \t x\n",
      "1 \t 33 \t 1 \t x^2\n",
      "2 \t 16 \t x^2 \t x^4\n",
      "3 \t 8 \t x^2 \t x^8\n",
      "4 \t 4 \t x^2 \t x^16\n",
      "5 \t 2 \t x^2 \t x^32\n",
      "6 \t 1 \t x^2 \t x^64\n",
      "7 \t 0 \t x^66 \t x^64\n"
     ]
    },
    {
     "data": {
      "text/html": [
       "<html><script type=\"math/tex; mode=display\">\\newcommand{\\Bold}[1]{\\mathbf{#1}}x^{66}</script></html>"
      ],
      "text/latex": [
       "$$\\newcommand{\\Bold}[1]{\\mathbf{#1}}x^{66}$$"
      ],
      "text/plain": [
       "x^66"
      ]
     },
     "metadata": {},
     "output_type": "display_data"
    }
   ],
   "source": [
    "show(right_left(66))"
   ]
  },
  {
   "cell_type": "markdown",
   "metadata": {},
   "source": [
    "Результат для $n = 66$ в виде таблицы:\n",
    "\n",
    "| $№$ итерации | Значение $N$ | Значение $Y$ | Значение $Z$ |\n",
    "|--------------|--------------|--------------|--------------|\n",
    "| $0$          | $66$         | $1$          | $x$          |\n",
    "| $1$          | $33$         | $1$          | $x^2$        |\n",
    "| $2$          | $16$         | $x^2$        | $x^4$        |\n",
    "| $3$          | $8$          | $x^2$        | $x^8$        |\n",
    "| $4$          | $4$          | $x^2$        | $x^{16}$     |\n",
    "| $5$          | $2$          | $x^2$        | $x^{32}$     |\n",
    "| $6$          | $1$          | $x^2$        | $x^{64}$     |\n",
    "| $7$          | $0$          | $x^{66}$     | $x^{64}$     |"
   ]
  },
  {
   "cell_type": "markdown",
   "metadata": {},
   "source": [
    "Произведем оценку числа операций для выбранных $n$. Сравним результат - количество операций, выдаваемых программой и вычисляемых по формуле.  \n",
    "За операции, которые являются результатом работы программы, будем считать количество изменений значений $Y$ и $Z$ в соотвествующих столбцах.  \n",
    "Произведем подсчет количества операций, основываясь на таблицах, составленных по результатам работы программы:\n",
    "1. $n = 17_{10} \\Rightarrow$ Количество операций $6$.\n",
    "2. $n = 45_{10} \\Rightarrow$ Количество операций $9$.\n",
    "3. $n = 66_{10} \\Rightarrow$ Количество операций $8$.\n",
    "\n",
    "Для подсчёта количества операций методом справа налево воспользуемся следующей формулой:\n",
    "$$ \\lambda(n) + \\nu(n) $$\n",
    "1. $n = 17_{10} = 10001_2\\Rightarrow \\lambda(n) = 4, \\nu(n) = 2.$ Количество операций = $ 4 + 2 = 6 \\Rightarrow$ результаты совпадают.\n",
    "2. $n = 45_{10} = 101101_2\\Rightarrow \\lambda(n) = 5, \\nu(n) = 4.$ Количество операций = $ 5 + 4 = 9 \\Rightarrow$ результаты совпадают.\n",
    "3. $n = 66_{10} = 1000010_2\\Rightarrow \\lambda(n) = 6, \\nu(n) = 2.$ Количество операций = $ 6 + 2 = 8 \\Rightarrow$ результаты совпадают.\n",
    "\n",
    "Таким образом, при подсчете количества операций для данного метода код программы, его реализующий, работает корректно.\n",
    "\n",
    "**Выводы**  \n",
    "Был реализован бинарный метод возведения в степень справа налево. Проверена корректность его работы для трех значений степени $n$. Реализованный алгоритм метода справа налево работает медленнее в сравнении с методом _«SX»_, так как содержит операции деления, что увеличивает время работы программы. Значение $Z$ после завершения работы алгоритма в общем случае равна $x^{2^{k-1}}$, где $k$ - количество итераций."
   ]
  },
  {
   "cell_type": "markdown",
   "metadata": {},
   "source": [
    "### Сравнение методов возведения в степень _«SX»_ и справа налево\n",
    "Для сравнение будем использовать результаты оценки операций, полученные в соответсвующих пунктах _«Реализация бинарного метода возведения в степень «SX»»_ и _«Реализация бинарного метода возведения в степень справа налево»_ соотвественно.\n",
    "\n",
    "| $n$  | Метод _«SX»_ | Метод справа налево |\n",
    "|------|--------------|---------------------|\n",
    "| $17$ | $5$          | $6$                 |\n",
    "| $45$ | $8$          | $9$                 |\n",
    "| $66$ | $7$          | $8$                 |"
   ]
  },
  {
   "cell_type": "markdown",
   "metadata": {},
   "source": [
    "Исходя из значений, представленных в таблице, легко сделать вывод, что метод _«SX»_ затрачивает меньше операций, чем справа налево. Это также доказывается на основе формул, подсчитывающих число операций. Для метода _«SX»_: $ \\lambda(n) + \\nu(n) - 1$. Для метода справа налево:$\\lambda(n) + \\nu(n)$. Таким образом, метод справа налево уступает методу _«SX»_ в скорости возведения в необходимую степень на одну операцию."
   ]
  },
  {
   "cell_type": "markdown",
   "metadata": {},
   "source": [
    "### Метод множителей"
   ]
  },
  {
   "cell_type": "markdown",
   "metadata": {},
   "source": [
    "Для ранее приведенных $n$ вручную выполним метод множителей. Воспользуемся алгоритмом, описанном в разделе _«Основные теоретические положения»_.\n",
    "\n",
    "**Метод множителей для** $ n = 17 $.\n",
    "\n",
    "Так как $ n $ просто число, то вычислим сначала $ x^{n-1} $, а затем умножим на $ x $.  \n",
    "$ x^{n-1} \\Rightarrow x^{16}$  \n",
    "Найдем $ p $ - наименьший простой множитель $ n-1 = 16 $.  \n",
    "$ p = 2, q = 8 $  \n",
    "Значит, $ n = 2 \\cdot 8 $  \n",
    "$ (x^2)^8 $  \n",
    "$ y = x^2 $  \n",
    "$ x^2 \\to x, x^2 $ - 1 операция  \n",
    "$ y^8 = y, y^2, y^4, y^8 $ - 3 операции  \n",
    "Домножаем в конце на $ x $ - 1 операция  \n",
    "Итого: 5 операций.\n",
    "\n",
    "**Метод множителей для** $ n = 45 $.  \n",
    "Найдем $ p $ - наименьший простой множитель $ n = 45 $.  \n",
    "$ p = 3, q = 15 $  \n",
    "Значит, $ n = 3 \\cdot 15 $  \n",
    "$ (x^3)^{15} $  \n",
    "$ y = x^3 = x^2 \\cdot x $ - 1 операция  \n",
    "$ x^2 \\to x, x^2 $ - 1 операция  \n",
    "$ y^{15} = (y^3)^5 $  \n",
    "$ z = y^3 = y^2 \\cdot y$ - 1 операция  \n",
    "$ y^2 \\to y, y^2 $ - 1 операция  \n",
    "$ z^5 = z^4 \\cdot z $ - 1 операция  \n",
    "$ z^4 \\to z, z^2, z^4 $ - 2 операции  \n",
    "Итого: 7 операций.\n",
    "\n",
    "**Метод множителей для** $ n = 66 $.  \n",
    "Найдем $ p $ - наименьший простой множитель $ n = 66 $.  \n",
    "$ p = 2, q = 33 $  \n",
    "Значит, $ n = 2 \\cdot 33 $  \n",
    "$ (x^2)^{33} $  \n",
    "$ y = x^2 $  \n",
    "$ x^2 \\to x, x^2 $ - 1 операция  \n",
    "$ y^{33} = (y^3)^{11} $  \n",
    "$ z = y^3 = y^2 \\cdot y$ - 1 операция  \n",
    "$ y^2 \\to y, y^2 $ - 1 операция  \n",
    "$ z^{11} = z^{10} \\cdot z $ - 1 операция  \n",
    "$ z^{10} = (z^2)^5 $  \n",
    "$ w = z^2 $  \n",
    "$ z^2 \\to z, z^2 $ - 1 операция  \n",
    "$ w^5 = w^4 \\cdot w $ - 1 операция  \n",
    "$ w^4 \\to w, w^2, w^4 $ - 2 операции  \n",
    "Итого: 8 операций.\n",
    "\n",
    "Определим при каком $n$, метод множителей дает результат хуже, чем метод _«SX»_.\n",
    "\n",
    "| $n$  | Метод _«SX»_ | Метод множителей |\n",
    "|------|--------------|------------------|\n",
    "| $17$ | $5$          | $5$              |\n",
    "| $45$ | $8$          | $7$              |\n",
    "| $66$ | $7$          | $8$              |"
   ]
  },
  {
   "cell_type": "markdown",
   "metadata": {},
   "source": [
    "Таким образом, основываясь на результатах, представленных в таблице, метод _множителей_ дает результат хуже при $n = 66$."
   ]
  },
  {
   "cell_type": "markdown",
   "metadata": {},
   "source": [
    "**Выводы**  \n",
    "Метод множителей основан на разложении степени $n$ на множители. Метод множителей во многих случаях(но не всегда) позволяет улучшить результат бинарного метода. Например, при $n = 45$ метод множителей затрачивает 7 операций, тогда как метод _«SX»_ - 8. Но для $n$ равного 66 метод множителей окажется хуже, так как затрачивает на 1 операцию больше бинарного метода."
   ]
  },
  {
   "cell_type": "markdown",
   "metadata": {},
   "source": [
    "### Реализация алгоритма  «дерево степеней»"
   ]
  },
  {
   "cell_type": "markdown",
   "metadata": {},
   "source": [
    "Для данного метода разработаем программный код. Функция _tree_bulding_ - реализация метода. Принимает на вход натуральное число $k$ - уровень, до которого необходимо простроить дерево. Алгоритм построения реализован следующим образом. Создан словарь, где ключ - вершина, а по нему хранится родитель. В цикле _for_ перебераются все вершины, находящиеся на одном уровне, для каждой находятся все родители, и проверяется, можно ли добавить новую вершину, равную сумме текущей и каждого из полученных родителей, а также вершина, равная удвоенному значению текущего узла. Функция вовращает словарь-дерево."
   ]
  },
  {
   "cell_type": "code",
   "execution_count": 9,
   "metadata": {},
   "outputs": [],
   "source": [
    "# Нахождение всех родителей вершины\n",
    "def all_parents(tree, node):\n",
    "    # Первый элемент в списке - значению по ключу, который пришел на вход функции\n",
    "    all_parents = [tree[node]]\n",
    "    # Родитель - значение хранящееся по ключу node\n",
    "    parent = tree[node]\n",
    "    # 1 - последний родитель, а у нее нет родителя, т.е. он 0\n",
    "    while parent != 0:\n",
    "        # Добавление новых родителей и переход к следующим\n",
    "        all_parents += [tree[parent]]\n",
    "        parent = tree[parent]\n",
    "    all_parents.sort()\n",
    "    return all_parents\n",
    "\n",
    "# Функция построения дерева степеней\n",
    "def tree_building(k):\n",
    "    # Список вершин, которые уже есть в дереве\n",
    "    nodes = [1]\n",
    "    # Словарь-дерево, по ключу хранится родитель вершины\n",
    "    tree = {1:0}\n",
    "    # Дети какой-либо вершины, для которых необходимо также найти детей\n",
    "    child = [1]\n",
    "    # Цикл по уровням, до которого необходио построить \"дерево степеней\"\n",
    "    for level in range(k):\n",
    "        # Список для детей, которые будут найдены \n",
    "        new_child = list()\n",
    "        # Цикл по узлам списка child\n",
    "        for node in child:\n",
    "            # Находим всех родителей вершины\n",
    "            parents = all_parents(tree, node)\n",
    "            # Проходимся по всем родителям\n",
    "            for parent in parents:\n",
    "                # Проверка, что ребенок <= текущий node*2 и его еще нет среди вершин дерева\n",
    "                if node+parent <= 2*node and node+parent not in tree.keys():\n",
    "                    # Добавление ребенка\n",
    "                    tree[node+parent] = node\n",
    "                    new_child += [node+parent]\n",
    "            # Проверка на возможность добавить узел, равный текущему *2 \n",
    "            if 2*node not in tree.keys():\n",
    "                # Добавление ребенка\n",
    "                tree[2*node] = node\n",
    "                new_child += [2*node]\n",
    "        child = new_child \n",
    "    return tree"
   ]
  },
  {
   "cell_type": "markdown",
   "metadata": {},
   "source": [
    "Далее реализована функция _get_way_. Она позволяет найти путь от верщины дерева до заданного числа $n$."
   ]
  },
  {
   "cell_type": "code",
   "execution_count": 10,
   "metadata": {},
   "outputs": [],
   "source": [
    "def get_way(tree, n):\n",
    "    # Путь - список вершин, по которым необходимо пройти\n",
    "    way = list()\n",
    "    # Если вершины нет в дереве\n",
    "    if n not in tree.keys():\n",
    "        return None\n",
    "    else:\n",
    "        # Путь = все родители вершины + сама вершина\n",
    "        way = all_parents(tree, n) + [n]\n",
    "        return way[1:]"
   ]
  },
  {
   "cell_type": "markdown",
   "metadata": {},
   "source": [
    "Реализована функция _tree_for_show_. Для того, чтобы корректно сделать визуализацию «дерева степеней» с помощью средств sage необходимо получить следующий словарь: ключ - вершина, по ключу хранятся все дети вершины. "
   ]
  },
  {
   "cell_type": "code",
   "execution_count": 11,
   "metadata": {},
   "outputs": [],
   "source": [
    "def tree_for_show(tree):\n",
    "    show_tree = {}\n",
    "    # Цикл по ключам изначального дерева\n",
    "    for key in tree:\n",
    "        # Родитель ключ\n",
    "        parent = key\n",
    "        child = []\n",
    "        # В изначальном словаре по ключу хранится родитель, поэтому еще один цикл по ключам\n",
    "        for key_ in tree:\n",
    "            # Поиск детей по соотвествии значения по ключу с parent\n",
    "            if tree[key_] == parent:\n",
    "                child += [key_]\n",
    "        # Если дети нашлись - добавление в дерево для визуализации\n",
    "        if len(child) != 0:\n",
    "            child.sort()\n",
    "            show_tree[parent] = child\n",
    "    return show_tree"
   ]
  },
  {
   "cell_type": "markdown",
   "metadata": {},
   "source": [
    "Реализована функция _print_tree_, строящее дерево степеней до нужного уровня и отображающая путь до заданного числа $n$ с помощью методов sage."
   ]
  },
  {
   "cell_type": "code",
   "execution_count": 12,
   "metadata": {},
   "outputs": [],
   "source": [
    "def print_tree(tree, n):\n",
    "    show_tree = tree_for_show(tree)\n",
    "    way = get_way(tree, n)\n",
    "    output_tree = Graph(show_tree)\n",
    "    output_tree.show(layout = 'tree', tree_root = 1, vertex_color = 'white', vertex_colors = {'#00FF00': way})"
   ]
  },
  {
   "cell_type": "markdown",
   "metadata": {
    "scrolled": false
   },
   "source": [
    "Построим дерево до $6$-го уровня и выделим путь до $n = 21$."
   ]
  },
  {
   "cell_type": "code",
   "execution_count": 13,
   "metadata": {
    "scrolled": true
   },
   "outputs": [
    {
     "data": {
      "image/png": "[encoded data removed]",
      "text/plain": [
       "Graphics object consisting of 72 graphics primitives"
      ]
     },
     "metadata": {},
     "output_type": "display_data"
    }
   ],
   "source": [
    "print_tree(tree_building(6), 21)"
   ]
  },
  {
   "cell_type": "markdown",
   "metadata": {},
   "source": [
    "Для $21$ цепочка следующая:\n",
    "$x \\to x^2 \\to x^3 \\to x^5 \\to x^7 \\to x^{14} \\to x^{21}$"
   ]
  },
  {
   "cell_type": "markdown",
   "metadata": {},
   "source": [
    "Построим дерево до $5$-го уровня и выделим путь до $n = 17$."
   ]
  },
  {
   "cell_type": "code",
   "execution_count": 14,
   "metadata": {},
   "outputs": [
    {
     "data": {
      "image/png": "[encoded data removed]",
      "text/plain": [
       "Graphics object consisting of 42 graphics primitives"
      ]
     },
     "metadata": {},
     "output_type": "display_data"
    }
   ],
   "source": [
    "print_tree(tree_building(5), 17)"
   ]
  },
  {
   "cell_type": "markdown",
   "metadata": {},
   "source": [
    "Для $17$ цепочка следующая:\n",
    "$x \\to x^2 \\to x^4 \\to x^8 \\to x^{16} \\to x^{17}$"
   ]
  },
  {
   "cell_type": "markdown",
   "metadata": {},
   "source": [
    "Сравним данный метод с предыдущими. "
   ]
  },
  {
   "cell_type": "markdown",
   "metadata": {},
   "source": [
    "Сравним с каждый из методов на трех значениях $n$, использованных раннее.\\\n",
    "Вначале выведем количество операций для $n$, получающееся с помощью «дерева степеней». Для этого будем выводить результат работы метода _get_way_, а именно длину пути, уменьшенного на единицу, то есть количество ребер."
   ]
  },
  {
   "cell_type": "code",
   "execution_count": 15,
   "metadata": {},
   "outputs": [
    {
     "name": "stdout",
     "output_type": "stream",
     "text": [
      "n = 17, количество операций -  5\n",
      "n = 45, количество операций -  7\n",
      "n = 66, количество операций -  7\n"
     ]
    }
   ],
   "source": [
    "print('n = 17, количество операций - ', len(get_way(tree_building(10), 17)) - 1)\n",
    "print('n = 45, количество операций - ', len(get_way(tree_building(10), 45)) - 1)\n",
    "print('n = 66, количество операций - ', len(get_way(tree_building(10), 66)) - 1)"
   ]
  },
  {
   "cell_type": "markdown",
   "metadata": {},
   "source": [
    "| $n$  | Метод _«SX»_ | Метод справа налево | Метод множителей | «Дерево степеней» |\n",
    "|------|--------------|---------------------|------------------|-------------------|\n",
    "| $17$ | $5$          | $6$                 | $5$              | $5$               |\n",
    "| $45$ | $8$          | $9$                 | $7$              | $7$               |\n",
    "| $66$ | $7$          | $8$                 | $8$              | $7$               |\n",
    "\n",
    "Основываясь на данных, представленных в таблице, метод \"дерева степеней\" дает лучший результат в сравнении с другими."
   ]
  },
  {
   "cell_type": "markdown",
   "metadata": {},
   "source": [
    "**Выводы**  \n",
    "Был реализован метод «дерева степеней». Реализовано построение дерева и пути до натурального числа $n$ - степень, в которое необходимо возвести число. Дерево позволяет для каждого значения $n$ определить некоторую цепочку наименьшей длины и таким образом получить достаточно быстрый способ вычисления некоторого числа в данной степени. Метод не устпает другим, таким как _«SX»_, справа налево и множителей, и даже их превосходить в зависимости от значения $n$."
   ]
  },
  {
   "cell_type": "markdown",
   "metadata": {},
   "source": [
    "### Реализация метода «дерева убывающих  степеней»"
   ]
  },
  {
   "cell_type": "markdown",
   "metadata": {},
   "source": [
    "Для реализации данного метода воспользуемся кодом программы, написанным для метода «дерева степеней» и изменим порядок добавления вершин - в порядке убывания значения."
   ]
  },
  {
   "cell_type": "code",
   "execution_count": 16,
   "metadata": {},
   "outputs": [],
   "source": [
    "def all_parents(tree, node):\n",
    "    all_parents = [tree[node]]\n",
    "    parent = tree[node]\n",
    "    while parent != 0:\n",
    "        all_parents += [tree[parent]]\n",
    "        parent = tree[parent]\n",
    "    all_parents.sort(reverse = True)\n",
    "    return all_parents\n",
    "\n",
    "def tree_building(k):\n",
    "    nodes = [1]\n",
    "    tree = {1:0}\n",
    "    child = [1]\n",
    "    for level in range(k):\n",
    "        new_child = list()\n",
    "        for node in child:\n",
    "            if 2*node not in tree.keys():\n",
    "                tree[2*node] = node\n",
    "                new_child += [2*node]\n",
    "            parents = all_parents(tree, node)\n",
    "            for parent in parents:\n",
    "                if node+parent <= 2*node and node+parent not in tree.keys():\n",
    "                    tree[node+parent] = node\n",
    "                    new_child += [node+parent]\n",
    "        child = new_child \n",
    "    return tree"
   ]
  },
  {
   "cell_type": "markdown",
   "metadata": {},
   "source": [
    "Также внесем изменения в функцию находящую путь до $n$ - _get_way_. Возвращать значения списка пути _way_ будем как срез от начала до длины списка уменьшенного на $1$, так как теперь в конце присутсвует $0$. Это необходимо для корректного отображения дерева."
   ]
  },
  {
   "cell_type": "code",
   "execution_count": 17,
   "metadata": {},
   "outputs": [],
   "source": [
    "def get_way(tree, n):\n",
    "    way = list()\n",
    "    if n not in tree.keys():\n",
    "        return None\n",
    "    else:\n",
    "        way = [n]+all_parents(tree, n) \n",
    "        return way[:len(way)-1]"
   ]
  },
  {
   "cell_type": "markdown",
   "metadata": {},
   "source": [
    "Построим дерево убывающих степеней до $6$-го уровня и выделим путь до $n = 21$."
   ]
  },
  {
   "cell_type": "code",
   "execution_count": 18,
   "metadata": {},
   "outputs": [
    {
     "data": {
      "image/png": "[encoded data removed]",
      "text/plain": [
       "Graphics object consisting of 66 graphics primitives"
      ]
     },
     "metadata": {},
     "output_type": "display_data"
    }
   ],
   "source": [
    "print_tree(tree_building(6), 21)"
   ]
  },
  {
   "cell_type": "markdown",
   "metadata": {},
   "source": [
    "Для $21$ цепочка следующая:$x \\to x^2 \\to x^4 \\to x^8 \\to x^{16} \\to x^{20} \\to x^{21}$"
   ]
  },
  {
   "cell_type": "markdown",
   "metadata": {},
   "source": [
    "Построим дерево убывающих степеней до $5$-го уровня и выделим путь до $n = 17$."
   ]
  },
  {
   "cell_type": "code",
   "execution_count": 19,
   "metadata": {},
   "outputs": [
    {
     "data": {
      "image/png": "[encoded data removed]",
      "text/plain": [
       "Graphics object consisting of 40 graphics primitives"
      ]
     },
     "metadata": {},
     "output_type": "display_data"
    }
   ],
   "source": [
    "print_tree(tree_building(5), 17)"
   ]
  },
  {
   "cell_type": "markdown",
   "metadata": {},
   "source": [
    "Для $17$ цепочка следующая:\n",
    "$x \\to x^2 \\to x^4 \\to x^8 \\to x^{16} \\to x^{17}$"
   ]
  },
  {
   "cell_type": "markdown",
   "metadata": {},
   "source": [
    "Докажем, что такое дерево даёт метод вычисления $x^n$, который требует столько же умножений, сколько и при бинарном методе. Для этого напишем функцию, подтверждающую данное утверждение."
   ]
  },
  {
   "cell_type": "code",
   "execution_count": 20,
   "metadata": {},
   "outputs": [
    {
     "name": "stdout",
     "output_type": "stream",
     "text": [
      "Утверждение корректно!\n"
     ]
    }
   ],
   "source": [
    "def tree_vs_SX():\n",
    "    tree = tree_building(18)\n",
    "    for n in range(2, 1500):\n",
    "        SX_operation = floor(log(n, 2)) + bin(n)[2:].count('1') - 1\n",
    "        tree_operation = len(get_way(tree, n)) - 1\n",
    "        if SX_operation != tree_operation:\n",
    "            print('Утверждение некорректно!')\n",
    "            return\n",
    "    print('Утверждение корректно!')\n",
    "\n",
    "tree_vs_SX()"
   ]
  },
  {
   "cell_type": "markdown",
   "metadata": {},
   "source": [
    "**Выводы**  \n",
    "Реализован метод «дерева убывающих  степеней», основанный на коде программы «дерева степеней» с необходимыми модификациями. Осуществлена проверка, что данный метод и метод _«SX»_ затрачивают однаковое число умножений."
   ]
  },
  {
   "cell_type": "markdown",
   "metadata": {},
   "source": [
    "## Выводы\n",
    "Изучены методы, позволяющие возводить число в степень быстрее, чем простое умножение числа самого на себя столько раз. Для таких методов были написаны алгоритмы с использованием компьютерной алгебры SageMath.  \n",
    "Реализованы бинарные методы возведения в степень _«SX»_ и справа налево, для которых был произведен сравнительный анализ быстроты возведения в степень на основе значений, полученных в ходе выполнения работы программного кода и на основе формул. На практике вручную прописана работа метода множителей. Реализованы также алгоритмы для «дерева степеней» и «дерева убывающих  степеней», для которого было доказано, что он затрачивает столько же умножений, что и бинарный метод _«SX»_.  \n",
    "Каждый из алгоритмов был проверен на работоспособность."
   ]
  }
 ],
 "metadata": {
  "kernelspec": {
   "display_name": "SageMath 9.3",
   "language": "sage",
   "name": "sagemath"
  },
  "language_info": {
   "codemirror_mode": {
    "name": "ipython",
    "version": 3
   },
   "file_extension": ".py",
   "mimetype": "text/x-python",
   "name": "python",
   "nbconvert_exporter": "python",
   "pygments_lexer": "ipython3",
   "version": "3.7.10"
  }
 },
 "nbformat": 4,
 "nbformat_minor": 4
}
