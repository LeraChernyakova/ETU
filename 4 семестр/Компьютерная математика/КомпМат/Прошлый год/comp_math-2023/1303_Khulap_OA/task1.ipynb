{
 "cells": [
  {
   "cell_type": "markdown",
   "metadata": {},
   "source": [
    "# Практическая работа №1: Алгоритмы эффективного вычисления одночленов\n",
    "\n",
    "Выполнила студентка гр. 1303 Хулап Олеся."
   ]
  },
  {
   "cell_type": "markdown",
   "metadata": {},
   "source": [
    "## Цель работы\n",
    "\n",
    "Сформировать знания о работе алгоритмах вычисления одночленов за\n",
    "минимальное число операций, привить навык использования систем ком-\n",
    "пьютерной математики для реализации алгоритмов."
   ]
  },
  {
   "cell_type": "markdown",
   "metadata": {},
   "source": [
    "## Основные теоретические положения\n",
    "\n",
    "Рассмотрим 4 метода вычисления одночленов с помощью минимального количества операций, а также соответствующие оценки количества затрачиваемых операций.<br>\n",
    "\n",
    "### Используемые операции:<br>\n",
    "$\\lambda(n) = \\lfloor log_{2}(n) \\rfloor$ - длина бинарной записи n, уменьшенная на 1<br>\n",
    "$\\nu(n)$ - вес Хэмминга для бинарной записи числа $n$ (количество единиц в бинарной записи числа)\n",
    "\n",
    "### Бинарный метод $SX$\n",
    "\n",
    "Данный метод осуществляет возведение числа $n$ в степень с помощью следующего алгоритма:\n",
    "<ol>\n",
    "<li>Необходимо представить $n$ в бинарном виде $n = (a_{m}, a_{m-1}, ..., a_{1})_{2}$, при том $a_{m} = 1$</li>\n",
    "<li>Далее отбрасываем старший бит</li>\n",
    "<li>Преобразуем запись $n$ следующим образом:<center>$a_{i} = 1 \\Rightarrow a_{i} = SX$<br>$a_{i} = 0 \\Rightarrow a_{i} = S$</center></li>\n",
    "<li>Вычисление выполняется, начиная с $x$ и идёт по преобразованной записи $n:$<center>$a_{i} = S \\Rightarrow x = x ^ 2$<br>$a_{i} = X \\Rightarrow x = x * x$</center></li>\n",
    "</ol>\n",
    "Число операций для бинарного метода $SX$: $\\lambda(n) + \\nu(n) - 1$\n",
    "    \n",
    "### Бинарный метод возведения справа налево \n",
    "Для возведения числа в степень $n$ требуется:\n",
    "<ol>\n",
    "    <li>На нулевой итерации присвоить N, Y и Z следующие значения: $N = n; Y = 1; Z = x$</li>\n",
    "    <li>Если $N$ чётно - перейти на пункт 3, иначе - на пункт 4</li>\n",
    "    <li>Переприсваиваем $N = \\lfloor N/2 \\rfloor; Z = Z * Z$; переходим на пункт 2</li>\n",
    "    <li>Переприсваиваем $N = \\lfloor N/2 \\rfloor; Y = Z * Y$</li>\n",
    "    <li>Если $N = 0$, то возвращаем $Y$ как ответ и завершаем работу алгоритма. Иначе - переприсваиваем $Z = Z * Z$ и переходим на пункт 2</li>\n",
    "</ol>\n",
    "Число операций для бинарного метода справа налево: $\\lambda(n) + \\nu(n)$\n",
    "\n",
    "### Метод множителей\n",
    "Далее представлены шаги возведения в степень $n$ методом множителей:\n",
    "<ol>\n",
    "    <li>Представим $n$ в виде разложения $n = p * q$, где $p$ - наименьший простой множитель числп $n$, а $q > 1$. Тогда $x^n$ можно найти, вычислив $x^p$ и возведя эту величину в степень $q$</li>\n",
    "    <li>Если $n$ - простое, то вычислим $x^{n-1}$ и умножим его на x</li>\n",
    "    <li>Если же $n = 1$, то искомая степень найдена.</li>\n",
    "</ol>\n",
    "С помощью данного алгоритма можно разложить (тем самым вычисляя) $p$ на любом шаге и, в итоге, получить $x^n$\n",
    "\n",
    "### Дерево степеней\n",
    "Данный метод осуществляет возведение числа $n$ в степень с помощью следующего алгоритма:\n",
    "<ol>\n",
    "    <li>На нулевом уровне в дереве только один узел - $1$ - корень дерева</li>\n",
    "    <li>$k+1$-й уровень строится так: берётся каждый узел $i$ на $k$-м уровне слева направо и присоединяются узлы $i+a_{0}, i+a_{1}, ..., i+a_{k-1}$</li>\n",
    "    <li>При этом, если узел уже появлялся - он не добавляется</li>\n",
    "</ol>\n"
   ]
  },
  {
   "cell_type": "markdown",
   "metadata": {},
   "source": [
    "## Постановка задачи\n",
    "\n",
    "Реализовать алгоритмы вычисления мономов за минимальное число операций с использованием системы компьютерной алгебры SageMath, провести анализ алгоритмов. Полученные результаты содержательно проинтерпретировать."
   ]
  },
  {
   "cell_type": "markdown",
   "metadata": {},
   "source": [
    "## Выполнение работы\n",
    "\n",
    "### Бинарный метод SX\n",
    "Реализуем функцию $SxFunction$, которая будет принимать на вход целочисленное значение, являющееся степенью, в которую нужно возвести переменную. В функции значение степени записывается в двоичном виде без старшего бита. Далее, по алгоритму, единицы заменяются на $SX$, двойки - на $S$. Переменная $res$ хранит итоговое значение, которое получится в ходе итерации по преобразованной $SX$-строке. Для наглядности выведем $SX$-строку, а также значение $res$ на каждой итерации алгоритма в виде (номер итерации: значение $result$).\n"
   ]
  },
  {
   "cell_type": "code",
   "execution_count": 102,
   "metadata": {},
   "outputs": [],
   "source": [
    "def SxFunction(n):\n",
    "    if n < 1:\n",
    "        return 1\n",
    "    bin_n = str(bin(n))[3:]\n",
    "    sx_repres = bin_n.replace('1','SX')\n",
    "    sx_repres = sx_repres.replace('0', 'S')\n",
    "    res = var('x')\n",
    "    show(sx_repres)\n",
    "    for i, elem in enumerate(sx_repres):\n",
    "        if elem == 'X':\n",
    "            res *= x\n",
    "        else:\n",
    "            res = res^2\n",
    "        print(f\"({i + 1}: {res})\", end = ' ')\n",
    "    return res"
   ]
  },
  {
   "cell_type": "markdown",
   "metadata": {},
   "source": [
    "Пример работы программы для нескольких $n$, равных $13, 45, 87$: "
   ]
  },
  {
   "cell_type": "code",
   "execution_count": 103,
   "metadata": {},
   "outputs": [
    {
     "data": {
      "text/html": [
       "SXSSX"
      ],
      "text/plain": [
       "'SXSSX'"
      ]
     },
     "metadata": {},
     "output_type": "display_data"
    },
    {
     "name": "stdout",
     "output_type": "stream",
     "text": [
      "(1: x^2) (2: x^3) (3: x^6) (4: x^12) (5: x^13) "
     ]
    },
    {
     "data": {
      "text/html": [
       "<html><script type=\"math/tex; mode=display\">\\newcommand{\\Bold}[1]{\\mathbf{#1}}x^{13}</script></html>"
      ],
      "text/latex": [
       "$$\\newcommand{\\Bold}[1]{\\mathbf{#1}}x^{13}$$"
      ],
      "text/plain": [
       "x^13"
      ]
     },
     "metadata": {},
     "output_type": "display_data"
    }
   ],
   "source": [
    "show(SxFunction(13))"
   ]
  },
  {
   "cell_type": "code",
   "execution_count": 104,
   "metadata": {},
   "outputs": [
    {
     "data": {
      "text/html": [
       "SSXSXSSX"
      ],
      "text/plain": [
       "'SSXSXSSX'"
      ]
     },
     "metadata": {},
     "output_type": "display_data"
    },
    {
     "name": "stdout",
     "output_type": "stream",
     "text": [
      "(1: x^2) (2: x^4) (3: x^5) (4: x^10) (5: x^11) (6: x^22) (7: x^44) (8: x^45) "
     ]
    },
    {
     "data": {
      "text/html": [
       "<html><script type=\"math/tex; mode=display\">\\newcommand{\\Bold}[1]{\\mathbf{#1}}x^{45}</script></html>"
      ],
      "text/latex": [
       "$$\\newcommand{\\Bold}[1]{\\mathbf{#1}}x^{45}$$"
      ],
      "text/plain": [
       "x^45"
      ]
     },
     "metadata": {},
     "output_type": "display_data"
    }
   ],
   "source": [
    "show(SxFunction(45))"
   ]
  },
  {
   "cell_type": "code",
   "execution_count": 105,
   "metadata": {
    "scrolled": true
   },
   "outputs": [
    {
     "data": {
      "text/html": [
       "SSXSSXSXSX"
      ],
      "text/plain": [
       "'SSXSSXSXSX'"
      ]
     },
     "metadata": {},
     "output_type": "display_data"
    },
    {
     "name": "stdout",
     "output_type": "stream",
     "text": [
      "(1: x^2) (2: x^4) (3: x^5) (4: x^10) (5: x^20) (6: x^21) (7: x^42) (8: x^43) (9: x^86) (10: x^87) "
     ]
    },
    {
     "data": {
      "text/html": [
       "<html><script type=\"math/tex; mode=display\">\\newcommand{\\Bold}[1]{\\mathbf{#1}}x^{87}</script></html>"
      ],
      "text/latex": [
       "$$\\newcommand{\\Bold}[1]{\\mathbf{#1}}x^{87}$$"
      ],
      "text/plain": [
       "x^87"
      ]
     },
     "metadata": {},
     "output_type": "display_data"
    }
   ],
   "source": [
    "show(SxFunction(87))"
   ]
  },
  {
   "cell_type": "markdown",
   "metadata": {},
   "source": [
    "Проверка оценки числа операций для данных $n$:<br>\n",
    "$n = 13 \\Rightarrow \\lambda(n) = \\lfloor log_{2}(n) \\rfloor = 3; \\nu(n) = 3; \\lambda(n) + \\nu(n) - 1 = 5 \\Rightarrow$ Верно<br>\n",
    "$n = 45 \\Rightarrow \\lambda(n) = \\lfloor log_{2}(n) \\rfloor = 5; \\nu(n) = 4; \\lambda(n) + \\nu(n) - 1 = 8 \\Rightarrow$ Верно<br>\n",
    "$n = 87 \\Rightarrow \\lambda(n) = \\lfloor log_{2}(n) \\rfloor = 6; \\nu(n) = 5; \\lambda(n) + \\nu(n) - 1 = 10 \\Rightarrow$ Верно<br>\n",
    "Таким образом, можно сделать вывод, что для выбранных $n$ формула для вычисления количества операций корректна.\n",
    "\n",
    "#### Вывод\n",
    "Реализован бинарный метод $SX$, проверена его работоспособность и оценка количества операций. Метод прост в реализации, при этом позволяет быстро вычислить одночлен. Также, благодаря оценке можно легко узнать, за сколько итераций будет произведён расчёт."
   ]
  },
  {
   "cell_type": "markdown",
   "metadata": {},
   "source": [
    "### 2. Метод возведения справа налево"
   ]
  },
  {
   "cell_type": "markdown",
   "metadata": {},
   "source": [
    "Реализуем функцию $RightToLeftFunction$, которая на вход принимает целочисленное значение, являющееся степенью, в которую нужно возвести переменную. Внутри функции инициализируется нулевая итерация из теоретического положения (п.1), а также основной алгоритм (п.2 - п.5). Реализована возможность вывода промежуточных значений $N, Y, Z$."
   ]
  },
  {
   "cell_type": "code",
   "execution_count": 106,
   "metadata": {},
   "outputs": [],
   "source": [
    "def RightToLeftFunction(n, intermediateInfo = False):\n",
    "    counter = 0\n",
    "    N = n\n",
    "    Y = 1\n",
    "    Z = var('x')\n",
    "    while True:\n",
    "        if N % 2 == 0:\n",
    "            N = floor(N / 2)\n",
    "            Z = Z * Z\n",
    "        else:\n",
    "            N = floor(N / 2)\n",
    "            Y = Z * Y\n",
    "            if (N == 0):\n",
    "                counter += 1\n",
    "                break\n",
    "            else:\n",
    "                Z = Z * Z\n",
    "        counter += 1\n",
    "        if (intermediateInfo): print(f\"iteration: {counter}\\nN: {N}\\nY: {Y}\\nZ: {Z}\\n\")\n",
    "    if (intermediateInfo): print(f\"iteration: {counter}\\nN: {N}\\nY: {Y}\\nZ: {Z}\\n\")\n",
    "    return Y"
   ]
  },
  {
   "cell_type": "markdown",
   "metadata": {},
   "source": [
    "Пример работы программы для нескольких $n$, равных $13, 45, 87$: "
   ]
  },
  {
   "cell_type": "code",
   "execution_count": 107,
   "metadata": {
    "scrolled": true
   },
   "outputs": [
    {
     "data": {
      "text/html": [
       "<html><script type=\"math/tex; mode=display\">\\newcommand{\\Bold}[1]{\\mathbf{#1}}x^{13}</script></html>"
      ],
      "text/latex": [
       "$$\\newcommand{\\Bold}[1]{\\mathbf{#1}}x^{13}$$"
      ],
      "text/plain": [
       "x^13"
      ]
     },
     "metadata": {},
     "output_type": "display_data"
    }
   ],
   "source": [
    "show(RightToLeftFunction(13))"
   ]
  },
  {
   "cell_type": "markdown",
   "metadata": {},
   "source": [
    "##### Листинг работы алгоритма для n = 13:"
   ]
  },
  {
   "cell_type": "markdown",
   "metadata": {},
   "source": [
    "| № итерации | Значение N | Значение Y | Значение Z |\n",
    "|:----------:|:----------:|:----------:|:----------:|\n",
    "|      0     |     13     |      1     |     $x$    |\n",
    "|      1     |      6     |     $x$    |    $x^2$    |\n",
    "|      2     |      3     |     $x$    |    $x^4$   |\n",
    "|      3     |      1     |    $x^5$   |    $x^8$   |\n",
    "|      4     |      0     |  $x^{13}$  |   $x^{8}$  |"
   ]
  },
  {
   "cell_type": "code",
   "execution_count": 108,
   "metadata": {
    "scrolled": true
   },
   "outputs": [
    {
     "data": {
      "text/html": [
       "<html><script type=\"math/tex; mode=display\">\\newcommand{\\Bold}[1]{\\mathbf{#1}}x^{45}</script></html>"
      ],
      "text/latex": [
       "$$\\newcommand{\\Bold}[1]{\\mathbf{#1}}x^{45}$$"
      ],
      "text/plain": [
       "x^45"
      ]
     },
     "metadata": {},
     "output_type": "display_data"
    }
   ],
   "source": [
    "show(RightToLeftFunction(45))"
   ]
  },
  {
   "cell_type": "markdown",
   "metadata": {},
   "source": [
    "##### Листинг работы алгоритма для n = 45:"
   ]
  },
  {
   "cell_type": "markdown",
   "metadata": {},
   "source": [
    "| № итерации | Значение N | Значение Y | Значение Z |\n",
    "|:----------:|:----------:|:----------:|:----------:|\n",
    "|      0     |     45     |      1     |     $x$    |\n",
    "|      1     |     22     |     $x$    |    $x^2$   |\n",
    "|      2     |     11     |     $x$    |    $x^4$   |\n",
    "|      3     |      5     |    $x^5$   |    $x^8$   |\n",
    "|      4     |      2     |  $x^{13}$  |  $x^{16}$  |\n",
    "|      5     |      1     |  $x^{13}$  |  $x^{32}$  |\n",
    "|      6     |      0     |  $x^{45}$  |  $x^{64}$  |"
   ]
  },
  {
   "cell_type": "code",
   "execution_count": 109,
   "metadata": {},
   "outputs": [
    {
     "data": {
      "text/html": [
       "<html><script type=\"math/tex; mode=display\">\\newcommand{\\Bold}[1]{\\mathbf{#1}}x^{87}</script></html>"
      ],
      "text/latex": [
       "$$\\newcommand{\\Bold}[1]{\\mathbf{#1}}x^{87}$$"
      ],
      "text/plain": [
       "x^87"
      ]
     },
     "metadata": {},
     "output_type": "display_data"
    }
   ],
   "source": [
    "show(RightToLeftFunction(87))"
   ]
  },
  {
   "cell_type": "markdown",
   "metadata": {},
   "source": [
    "##### Листинг работы алгоритма для n = 87:"
   ]
  },
  {
   "cell_type": "markdown",
   "metadata": {},
   "source": [
    "| № итерации | Значение N | Значение Y | Значение Z |\n",
    "|:----------:|:----------:|:----------:|:----------:|\n",
    "|      0     |     87     |      1     |     $x$    |\n",
    "|      1     |     43     |     $x$    |    $x^2$   |\n",
    "|      2     |     21     |    $x^3$   |    $x^4$   |\n",
    "|      3     |     10     |    $x^7$   |    $x^8$   |\n",
    "|      4     |      5     |   $x^{7}$  |  $x^{16}$  |\n",
    "|      5     |      2     |  $x^{23}$  |  $x^{32}$  |\n",
    "|      6     |      1     |  $x^{23}$  |  $x^{64}$  |\n",
    "|      7     |      0     |  $x^{87}$  |  $x^{128}$ |"
   ]
  },
  {
   "cell_type": "markdown",
   "metadata": {},
   "source": [
    "Проверим оценку числа операций для данных $n$:<br>\n",
    "$n = 13 \\Rightarrow \\lambda(n) = \\lfloor log_{2}(n) \\rfloor = 3; \\nu(n) = 3; \\lambda(n) + \\nu(n)  = 6 \\Rightarrow$ Верно<br>\n",
    "$n = 45 \\Rightarrow \\lambda(n) = \\lfloor log_{2}(n) \\rfloor = 5; \\nu(n) = 4; \\lambda(n) + \\nu(n)  = 9 \\Rightarrow$ Верно<br>\n",
    "$n = 87 \\Rightarrow \\lambda(n) = \\lfloor log_{2}(n) \\rfloor = 6; \\nu(n) = 5; \\lambda(n) + \\nu(n)  = 11 \\Rightarrow$ Верно<br>\n",
    "Таким образом, можно сделать вывод, что для наших $n$ формула для вычисления количества операций корректна.\n",
    "#### Вывод\n",
    "Реализован бинарный метод возведения числа в степень справа налево, проверена его работоспособность и оценка количества операций. Метод не такой простой, как метод $SX$, а также требует на одну операцию больше, что подтверждено на практике. При этом легко можно вычислить число операций для данного метода по формуле $\\lambda(n) + \\nu(n)$. В общем случае после завершения алгоритма значение $Z$ будет равно $x^{2^{k-2}}$, где $k$ - число итераций метода."
   ]
  },
  {
   "cell_type": "markdown",
   "metadata": {},
   "source": [
    "### 3. Сравнение бинарного метода \"SX\" и метод возведения справа налево"
   ]
  },
  {
   "cell_type": "markdown",
   "metadata": {},
   "source": [
    "Учитывая оценки, количество операций в методе справа налево на 1 больше, чем в методе $SX$. Число итераций в методе справа налево можно оценить как $\\lfloor log_{2}(n) \\rfloor + 2$. В методе $SX$ же число итераций равно $\\lambda(n) + \\nu(n) - 1$, поэтому бинарный метод $SX$ выгоднее возведения справа налево."
   ]
  },
  {
   "cell_type": "markdown",
   "metadata": {},
   "source": [
    "### 4. Метод множителей"
   ]
  },
  {
   "cell_type": "markdown",
   "metadata": {},
   "source": [
    "Реализуем метод множителей вручную для $n= 13, n = 47, n = 87$ по алгоритму, приведённому в теоретическом положении.<br>"
   ]
  },
  {
   "cell_type": "markdown",
   "metadata": {},
   "source": [
    "#### Метод множителей для n = 13\n",
    "$x^{13} = x * x^{12}$<br>\n",
    "$x^{12} = (x^2)^6$<br>\n",
    "$x^6 = (x^2)^3$<br>\n",
    "$x^3 = x * x^2$<br>\n",
    "$x^2 = x * x$<br>\n",
    "Получаем следующую последовательность: $x, x^2, x^3, x^6, x^{12}, x^{13}$ <br>\n",
    "\n",
    "Всего 5 операций."
   ]
  },
  {
   "cell_type": "markdown",
   "metadata": {},
   "source": [
    "#### Метод множителей для n = 45:\n",
    "$x^{45} = (x^{15})^{3}$<br>\n",
    "$x^{44} = (x^{22})^2$<br>\n",
    "$x^{22} = (x^{11})^2$<br>\n",
    "$x^{11} = x * x^{10}$<br>\n",
    "$x^{10} = (x^5)^2$<br>\n",
    "$x^5 = x * x^4$<br>\n",
    "$x^4 = (x^2)^2$<br>\n",
    "$x^2 = x * x$<br>\n",
    "Получаем следующую последовательность: $x, x^2, x^4, x^5, x^{10}, x^{11}, x^{22}, x^{44}, x^{45}$ <br>\n",
    "\n",
    "Всего 8 операций."
   ]
  },
  {
   "cell_type": "markdown",
   "metadata": {},
   "source": [
    "#### Метод множителей для n = 87\n",
    "$x^{87} = x * x^{86}$<br>\n",
    "$x^{86} = (x^{43})^{2}$<br>\n",
    "$x^{43} = x * x^{42}$<br>\n",
    "$x^{42} = (x^{21})^2$<br>\n",
    "$x^{21} = x * x^{20}$<br>\n",
    "$x^{20} = (x^{10})^2$<br>\n",
    "$x^{10} = (x^5)^2$<br>\n",
    "$x^5 = x * x^4$<br>\n",
    "$x^4 = (x^2)^2$<br>\n",
    "$x^2 = x * x$<br>\n",
    "Получаем следующую последовательность: $x, x^2, x^4, x^5, x^{10}, x^{20}, x^{21}, x^{42}, x^{43}, x^{86}, x^{87}$ <br>\n",
    "\n",
    "Всего 10 операций."
   ]
  },
  {
   "cell_type": "markdown",
   "metadata": {},
   "source": [
    "#### Вывод\n",
    "Рассмотрен метод множителей для нескольких $n$. Его преимущество заключается в простоте идеи, возможности легко посчитать количество операций для возведения числа в степень вручную. Помимо этого, метод множителей может быть быстрее, чем бинарный (например, для $n=15$). Его недостатки состоят в сложности реализации, а также он иногда может проигрывать другим методам (например, бинарному при $n=33$)."
   ]
  },
  {
   "cell_type": "markdown",
   "metadata": {},
   "source": [
    "### 5. Построение дерева степеней"
   ]
  },
  {
   "cell_type": "markdown",
   "metadata": {},
   "source": [
    "Была реализована функция $buildTree()$, которая генерирует дерево степеней, по алгоритму описанному в теоретических положениях. На вход функции подаётся количество уровней, которые надо построить"
   ]
  },
  {
   "cell_type": "code",
   "execution_count": 110,
   "metadata": {},
   "outputs": [],
   "source": [
    "def buildTree(n):\n",
    "    found = False\n",
    "    tree = Graph()\n",
    "    tree.add_vertex(1)\n",
    "    vertices = [1]\n",
    "    \n",
    "    while found == False:\n",
    "        new_vertices = []\n",
    "        \n",
    "        for el in vertices:\n",
    "            path = tree.shortest_path(1, el)\n",
    "            for vert in path:\n",
    "                new_vertice = el + vert\n",
    "                if new_vertice not in tree.vertices():\n",
    "                    tree.add_vertex(new_vertice)\n",
    "                    tree.add_edge(el, new_vertice)\n",
    "                    new_vertices.append(new_vertice)\n",
    "                    \n",
    "                    if new_vertice == n:\n",
    "                        found = True\n",
    "                        \n",
    "        vertices = new_vertices \n",
    "        \n",
    "    return tree"
   ]
  },
  {
   "cell_type": "markdown",
   "metadata": {},
   "source": [
    "Далее были реализованы функции поиска пути возведения числа в степень $n$ и вывода дерева на экран с выделеным на нём путём"
   ]
  },
  {
   "cell_type": "code",
   "execution_count": 111,
   "metadata": {},
   "outputs": [],
   "source": [
    "def buildPath(tree, vertice):\n",
    "    path = []\n",
    "    vertice_path = tree.shortest_path(1, vertice)\n",
    "    for i in range(len(vertice_path)-1):\n",
    "        path.append((vertice_path[i], vertice_path[i+1]))\n",
    "    return path\n",
    "\n",
    "def printTree(n):\n",
    "    tree = buildTree(n)\n",
    "    plt = tree.plot(layout = 'tree', figsize=(10, 5), tree_root = 1, edge_colors={(1, 0, 0): edge_path(tree, n)})\n",
    "    plt.show()"
   ]
  },
  {
   "cell_type": "markdown",
   "metadata": {},
   "source": [
    "Продемонстрируем работу программы. Построим дерево и выделим путь до вершины $n=13$:"
   ]
  },
  {
   "cell_type": "code",
   "execution_count": 112,
   "metadata": {},
   "outputs": [
    {
     "data": {
      "image/png": "[encoded data removed]",
      "text/plain": [
       "Graphics object consisting of 42 graphics primitives"
      ]
     },
     "metadata": {},
     "output_type": "display_data"
    }
   ],
   "source": [
    "printTree(13)"
   ]
  },
  {
   "cell_type": "markdown",
   "metadata": {},
   "source": [
    "Построим дерево и выделим путь до вершины $n = 45$:"
   ]
  },
  {
   "cell_type": "code",
   "execution_count": 113,
   "metadata": {},
   "outputs": [
    {
     "data": {
      "image/png": "[encoded data removed]",
      "text/plain": [
       "Graphics object consisting of 124 graphics primitives"
      ]
     },
     "metadata": {},
     "output_type": "display_data"
    }
   ],
   "source": [
    "printTree(45)"
   ]
  },
  {
   "cell_type": "markdown",
   "metadata": {},
   "source": [
    "Получим цепочку вычисления $x^{45}$ с помощью дерева степеней:"
   ]
  },
  {
   "cell_type": "code",
   "execution_count": 114,
   "metadata": {
    "scrolled": true
   },
   "outputs": [
    {
     "data": {
      "text/plain": [
       "[(1, 2), (2, 3), (3, 5), (5, 10), (10, 15), (15, 30), (30, 45)]"
      ]
     },
     "execution_count": 114,
     "metadata": {},
     "output_type": "execute_result"
    }
   ],
   "source": [
    "buildPath(buildTree(45), 45)"
   ]
  },
  {
   "cell_type": "markdown",
   "metadata": {},
   "source": [
    "Так, получили цепочку $x, x^3, x^5, x^{10}, x^{15}, x^{30}, x^{45}$."
   ]
  },
  {
   "cell_type": "markdown",
   "metadata": {},
   "source": [
    "Сравним данный метод с методом $SX$. Напишем функцию, возвращающую количество операций умножения для бинарного метода $SX$:"
   ]
  },
  {
   "cell_type": "code",
   "execution_count": 115,
   "metadata": {
    "scrolled": true
   },
   "outputs": [
    {
     "name": "stdout",
     "output_type": "stream",
     "text": [
      "Утверждение корректно\n"
     ]
    }
   ],
   "source": [
    "def SXTreeComparison():\n",
    "    tree = buildTree(2000)\n",
    "    \n",
    "    for i in range(2, 1000):\n",
    "        if (floor(log(i, 2)) + bin(i)[2:].count('1') - 1) < len(tree.shortest_path(1, i)) - 1:\n",
    "            print(\"Утверждение не является корректным\")\n",
    "            return\n",
    "    print(\"Утверждение корректно\")\n",
    "    \n",
    "SXTreeComparison()"
   ]
  },
  {
   "cell_type": "markdown",
   "metadata": {},
   "source": [
    "#### Вывод\n",
    "Таким образом, дерево степеней является эффективным способом нахождения степени числа, оно примерно совпадает по количеству операций с методом $SX$, а иногда и превосходит ($n$ = 55, $n$ = 23), а значит, дерево эффективнее метода возведения справа налево."
   ]
  },
  {
   "cell_type": "markdown",
   "metadata": {},
   "source": [
    "## Выводы\n",
    "Были реализованы и сравнены методы возведения числа в заданную степень ($SX$, метод возведения в степень справа налево, дерево степеней, метод множителей). Наиболее эффективным оказался метод дерева степеней, наименее эфективным – метод возведения в степень справа налево."
   ]
  }
 ],
 "metadata": {
  "kernelspec": {
   "display_name": "SageMath 9.3",
   "language": "sage",
   "name": "sagemath"
  },
  "language_info": {
   "codemirror_mode": {
    "name": "ipython",
    "version": 3
   },
   "file_extension": ".py",
   "mimetype": "text/x-python",
   "name": "python",
   "nbconvert_exporter": "python",
   "pygments_lexer": "ipython3",
   "version": "3.7.10"
  }
 },
 "nbformat": 4,
 "nbformat_minor": 4
}
