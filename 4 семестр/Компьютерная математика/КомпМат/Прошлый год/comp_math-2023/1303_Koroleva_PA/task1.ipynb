{
 "cells": [
  {
   "cell_type": "markdown",
   "metadata": {},
   "source": [
    "# Практическая работа №1: Алгоритмы эффективного вычисления одночленов\n",
    "\n",
    "Выполнила студентка гр. 1303 Королева Полина Вариант №12."
   ]
  },
  {
   "cell_type": "markdown",
   "metadata": {},
   "source": [
    "## Цель работы\n",
    "\n",
    "Сформировать знания о работе алгоритмов вычисления одночленов за минимальное число операций, привить навык использования систем компьютерной математики для реализации алгоритмов."
   ]
  },
  {
   "cell_type": "markdown",
   "metadata": {},
   "source": [
    "## Основные теоретические положения\n",
    "Обозначения:\n",
    "\n",
    "$\\lambda(n) - $ уменьшенная на 1 длина бинарной записи n\n",
    "\n",
    "$\\nu(n) - $ вес Хэмминга для бинарной записи (кол-во не нулевых цифр в записи числа)\n",
    "\n",
    "Для возведения числа x в степень n существуют следующие методы:\n",
    "\n",
    "**Бинарный метод «SX»**\n",
    "1. Перевести n в двоичную систему исчисления: $ n = (a_m , ..., a_1)_2 $\n",
    "2. Отбросить старший бит: $(a_{m-1} , ..., a_1)_2$\n",
    "3. Произвести замену: \n",
    "\n",
    "    $a_i = 1 \\Rightarrow a_i = SX$\n",
    "\n",
    "    $a_i = 0 \\Rightarrow a_i = S$\n",
    "\n",
    "4. Получается строка, в которой указаны слева направо действия над x, для возведения его в степень n, где\n",
    "$ S $ - возведение в квадрат\n",
    "$ X $ - уможение на x\n",
    "\n",
    "\n",
    "Число операций для этого метода: $\\lambda(n) + \\nu(n) - 1$\n",
    "\n",
    "\n",
    "**Метод справа-налево**\n",
    "1. Изначальные значения: $N = n,  Y = 1, Z = x$\n",
    "2. Если $N$ четное, делим его на 2 и возводим $Z$ в квадрат, иначе делим на 2, умножаем $Y$ на $Z и возводим $Z$ в квадрат$\n",
    "3. Второй пункт повторяется до тех пор, пока N не окажется равным 0\n",
    "\n",
    "Переменная Y будет содержать ответ\n",
    "\n",
    "Число операций для этого метода: $\\lambda(n) + \\nu(n)$\n",
    "\n",
    "**Метод множителей**\n",
    "1. Представить $n = q \\cdot p$, где $p$ - наименьший простой множитель, $q > 1 \\Rightarrow $ нужно вычислить $(x^p)^q$ \n",
    "2. Если $n$ - простое, вычислить $x^{n-1}$ и умножить на $x$\n",
    "3. При $n=1$ получится сразу $x^n$\n",
    "\n",
    "**Метод дерева степеней**\n",
    "1. Пусть построен $k$-ый уровень дерева\n",
    "2. Двигаясь слева направо, для каждого узла $n$ на этом уровне, присоединяются снизу узлы: $n+a_0, n+a_1, ... , 2n = n+a_{k-1}$\n",
    "\n",
    "$\\{a_i\\}_{i=0}^{k-1} $ - путь от корня к узлу $n$, где $a_0 = 1$"
   ]
  },
  {
   "cell_type": "markdown",
   "metadata": {},
   "source": [
    "## Постановка задачи\n",
    "\n",
    "Реализовать алгоритмы вычисления мономов за минимальное число операций с использованием системы компьютерной алгебры SageMath, провести анализ алгоритмов. Полученные результаты содержательно проинтерпретировать."
   ]
  },
  {
   "cell_type": "markdown",
   "metadata": {},
   "source": [
    "## Выполнение работы\n",
    "\n",
    "\n",
    "## 1. Бинарный метод\n",
    "Разработаем код для этого метода:"
   ]
  },
  {
   "cell_type": "code",
   "execution_count": 134,
   "metadata": {},
   "outputs": [],
   "source": [
    "def method_SX(n):\n",
    "    i = 1\n",
    "    n_bin = str(bin(n))[3::] #срез начинается с 3 индекса, т.к индексы 0-1 - обозначение бинарной записи, а 2 - старший бит\n",
    "    res = n_bin.replace('0', 'S').replace('1', 'SX')\n",
    "    print(\"Получена строка: \", res) \n",
    "    print(\"Степень после каждой итерации:\")\n",
    "    value = var('x')\n",
    "    show(value)\n",
    "    for letter in res:\n",
    "        if letter == 'S':\n",
    "            value^=2\n",
    "        else:\n",
    "            value*=x\n",
    "        show(value)\n",
    "    return value"
   ]
  },
  {
   "cell_type": "code",
   "execution_count": 135,
   "metadata": {},
   "outputs": [
    {
     "name": "stdout",
     "output_type": "stream",
     "text": [
      "Получена строка:  SSX\n",
      "Степень после каждой итерации:\n"
     ]
    },
    {
     "data": {
      "text/html": [
       "<html><script type=\"math/tex; mode=display\">\\newcommand{\\Bold}[1]{\\mathbf{#1}}x</script></html>"
      ],
      "text/latex": [
       "$$\\newcommand{\\Bold}[1]{\\mathbf{#1}}x$$"
      ],
      "text/plain": [
       "x"
      ]
     },
     "metadata": {},
     "output_type": "display_data"
    },
    {
     "data": {
      "text/html": [
       "<html><script type=\"math/tex; mode=display\">\\newcommand{\\Bold}[1]{\\mathbf{#1}}x^{2}</script></html>"
      ],
      "text/latex": [
       "$$\\newcommand{\\Bold}[1]{\\mathbf{#1}}x^{2}$$"
      ],
      "text/plain": [
       "x^2"
      ]
     },
     "metadata": {},
     "output_type": "display_data"
    },
    {
     "data": {
      "text/html": [
       "<html><script type=\"math/tex; mode=display\">\\newcommand{\\Bold}[1]{\\mathbf{#1}}x^{4}</script></html>"
      ],
      "text/latex": [
       "$$\\newcommand{\\Bold}[1]{\\mathbf{#1}}x^{4}$$"
      ],
      "text/plain": [
       "x^4"
      ]
     },
     "metadata": {},
     "output_type": "display_data"
    },
    {
     "data": {
      "text/html": [
       "<html><script type=\"math/tex; mode=display\">\\newcommand{\\Bold}[1]{\\mathbf{#1}}x^{5}</script></html>"
      ],
      "text/latex": [
       "$$\\newcommand{\\Bold}[1]{\\mathbf{#1}}x^{5}$$"
      ],
      "text/plain": [
       "x^5"
      ]
     },
     "metadata": {},
     "output_type": "display_data"
    },
    {
     "data": {
      "text/plain": [
       "x^5"
      ]
     },
     "execution_count": 135,
     "metadata": {},
     "output_type": "execute_result"
    }
   ],
   "source": [
    "method_SX(5)"
   ]
  },
  {
   "cell_type": "code",
   "execution_count": 136,
   "metadata": {},
   "outputs": [
    {
     "name": "stdout",
     "output_type": "stream",
     "text": [
      "Получена строка:  SSSSSSS\n",
      "Степень после каждой итерации:\n"
     ]
    },
    {
     "data": {
      "text/html": [
       "<html><script type=\"math/tex; mode=display\">\\newcommand{\\Bold}[1]{\\mathbf{#1}}x</script></html>"
      ],
      "text/latex": [
       "$$\\newcommand{\\Bold}[1]{\\mathbf{#1}}x$$"
      ],
      "text/plain": [
       "x"
      ]
     },
     "metadata": {},
     "output_type": "display_data"
    },
    {
     "data": {
      "text/html": [
       "<html><script type=\"math/tex; mode=display\">\\newcommand{\\Bold}[1]{\\mathbf{#1}}x^{2}</script></html>"
      ],
      "text/latex": [
       "$$\\newcommand{\\Bold}[1]{\\mathbf{#1}}x^{2}$$"
      ],
      "text/plain": [
       "x^2"
      ]
     },
     "metadata": {},
     "output_type": "display_data"
    },
    {
     "data": {
      "text/html": [
       "<html><script type=\"math/tex; mode=display\">\\newcommand{\\Bold}[1]{\\mathbf{#1}}x^{4}</script></html>"
      ],
      "text/latex": [
       "$$\\newcommand{\\Bold}[1]{\\mathbf{#1}}x^{4}$$"
      ],
      "text/plain": [
       "x^4"
      ]
     },
     "metadata": {},
     "output_type": "display_data"
    },
    {
     "data": {
      "text/html": [
       "<html><script type=\"math/tex; mode=display\">\\newcommand{\\Bold}[1]{\\mathbf{#1}}x^{8}</script></html>"
      ],
      "text/latex": [
       "$$\\newcommand{\\Bold}[1]{\\mathbf{#1}}x^{8}$$"
      ],
      "text/plain": [
       "x^8"
      ]
     },
     "metadata": {},
     "output_type": "display_data"
    },
    {
     "data": {
      "text/html": [
       "<html><script type=\"math/tex; mode=display\">\\newcommand{\\Bold}[1]{\\mathbf{#1}}x^{16}</script></html>"
      ],
      "text/latex": [
       "$$\\newcommand{\\Bold}[1]{\\mathbf{#1}}x^{16}$$"
      ],
      "text/plain": [
       "x^16"
      ]
     },
     "metadata": {},
     "output_type": "display_data"
    },
    {
     "data": {
      "text/html": [
       "<html><script type=\"math/tex; mode=display\">\\newcommand{\\Bold}[1]{\\mathbf{#1}}x^{32}</script></html>"
      ],
      "text/latex": [
       "$$\\newcommand{\\Bold}[1]{\\mathbf{#1}}x^{32}$$"
      ],
      "text/plain": [
       "x^32"
      ]
     },
     "metadata": {},
     "output_type": "display_data"
    },
    {
     "data": {
      "text/html": [
       "<html><script type=\"math/tex; mode=display\">\\newcommand{\\Bold}[1]{\\mathbf{#1}}x^{64}</script></html>"
      ],
      "text/latex": [
       "$$\\newcommand{\\Bold}[1]{\\mathbf{#1}}x^{64}$$"
      ],
      "text/plain": [
       "x^64"
      ]
     },
     "metadata": {},
     "output_type": "display_data"
    },
    {
     "data": {
      "text/html": [
       "<html><script type=\"math/tex; mode=display\">\\newcommand{\\Bold}[1]{\\mathbf{#1}}x^{128}</script></html>"
      ],
      "text/latex": [
       "$$\\newcommand{\\Bold}[1]{\\mathbf{#1}}x^{128}$$"
      ],
      "text/plain": [
       "x^128"
      ]
     },
     "metadata": {},
     "output_type": "display_data"
    },
    {
     "data": {
      "text/plain": [
       "x^128"
      ]
     },
     "execution_count": 136,
     "metadata": {},
     "output_type": "execute_result"
    }
   ],
   "source": [
    "method_SX(128)"
   ]
  },
  {
   "cell_type": "code",
   "execution_count": 137,
   "metadata": {},
   "outputs": [
    {
     "name": "stdout",
     "output_type": "stream",
     "text": [
      "Получена строка:  SXSXSXSXSXSXSX\n",
      "Степень после каждой итерации:\n"
     ]
    },
    {
     "data": {
      "text/html": [
       "<html><script type=\"math/tex; mode=display\">\\newcommand{\\Bold}[1]{\\mathbf{#1}}x</script></html>"
      ],
      "text/latex": [
       "$$\\newcommand{\\Bold}[1]{\\mathbf{#1}}x$$"
      ],
      "text/plain": [
       "x"
      ]
     },
     "metadata": {},
     "output_type": "display_data"
    },
    {
     "data": {
      "text/html": [
       "<html><script type=\"math/tex; mode=display\">\\newcommand{\\Bold}[1]{\\mathbf{#1}}x^{2}</script></html>"
      ],
      "text/latex": [
       "$$\\newcommand{\\Bold}[1]{\\mathbf{#1}}x^{2}$$"
      ],
      "text/plain": [
       "x^2"
      ]
     },
     "metadata": {},
     "output_type": "display_data"
    },
    {
     "data": {
      "text/html": [
       "<html><script type=\"math/tex; mode=display\">\\newcommand{\\Bold}[1]{\\mathbf{#1}}x^{3}</script></html>"
      ],
      "text/latex": [
       "$$\\newcommand{\\Bold}[1]{\\mathbf{#1}}x^{3}$$"
      ],
      "text/plain": [
       "x^3"
      ]
     },
     "metadata": {},
     "output_type": "display_data"
    },
    {
     "data": {
      "text/html": [
       "<html><script type=\"math/tex; mode=display\">\\newcommand{\\Bold}[1]{\\mathbf{#1}}x^{6}</script></html>"
      ],
      "text/latex": [
       "$$\\newcommand{\\Bold}[1]{\\mathbf{#1}}x^{6}$$"
      ],
      "text/plain": [
       "x^6"
      ]
     },
     "metadata": {},
     "output_type": "display_data"
    },
    {
     "data": {
      "text/html": [
       "<html><script type=\"math/tex; mode=display\">\\newcommand{\\Bold}[1]{\\mathbf{#1}}x^{7}</script></html>"
      ],
      "text/latex": [
       "$$\\newcommand{\\Bold}[1]{\\mathbf{#1}}x^{7}$$"
      ],
      "text/plain": [
       "x^7"
      ]
     },
     "metadata": {},
     "output_type": "display_data"
    },
    {
     "data": {
      "text/html": [
       "<html><script type=\"math/tex; mode=display\">\\newcommand{\\Bold}[1]{\\mathbf{#1}}x^{14}</script></html>"
      ],
      "text/latex": [
       "$$\\newcommand{\\Bold}[1]{\\mathbf{#1}}x^{14}$$"
      ],
      "text/plain": [
       "x^14"
      ]
     },
     "metadata": {},
     "output_type": "display_data"
    },
    {
     "data": {
      "text/html": [
       "<html><script type=\"math/tex; mode=display\">\\newcommand{\\Bold}[1]{\\mathbf{#1}}x^{15}</script></html>"
      ],
      "text/latex": [
       "$$\\newcommand{\\Bold}[1]{\\mathbf{#1}}x^{15}$$"
      ],
      "text/plain": [
       "x^15"
      ]
     },
     "metadata": {},
     "output_type": "display_data"
    },
    {
     "data": {
      "text/html": [
       "<html><script type=\"math/tex; mode=display\">\\newcommand{\\Bold}[1]{\\mathbf{#1}}x^{30}</script></html>"
      ],
      "text/latex": [
       "$$\\newcommand{\\Bold}[1]{\\mathbf{#1}}x^{30}$$"
      ],
      "text/plain": [
       "x^30"
      ]
     },
     "metadata": {},
     "output_type": "display_data"
    },
    {
     "data": {
      "text/html": [
       "<html><script type=\"math/tex; mode=display\">\\newcommand{\\Bold}[1]{\\mathbf{#1}}x^{31}</script></html>"
      ],
      "text/latex": [
       "$$\\newcommand{\\Bold}[1]{\\mathbf{#1}}x^{31}$$"
      ],
      "text/plain": [
       "x^31"
      ]
     },
     "metadata": {},
     "output_type": "display_data"
    },
    {
     "data": {
      "text/html": [
       "<html><script type=\"math/tex; mode=display\">\\newcommand{\\Bold}[1]{\\mathbf{#1}}x^{62}</script></html>"
      ],
      "text/latex": [
       "$$\\newcommand{\\Bold}[1]{\\mathbf{#1}}x^{62}$$"
      ],
      "text/plain": [
       "x^62"
      ]
     },
     "metadata": {},
     "output_type": "display_data"
    },
    {
     "data": {
      "text/html": [
       "<html><script type=\"math/tex; mode=display\">\\newcommand{\\Bold}[1]{\\mathbf{#1}}x^{63}</script></html>"
      ],
      "text/latex": [
       "$$\\newcommand{\\Bold}[1]{\\mathbf{#1}}x^{63}$$"
      ],
      "text/plain": [
       "x^63"
      ]
     },
     "metadata": {},
     "output_type": "display_data"
    },
    {
     "data": {
      "text/html": [
       "<html><script type=\"math/tex; mode=display\">\\newcommand{\\Bold}[1]{\\mathbf{#1}}x^{126}</script></html>"
      ],
      "text/latex": [
       "$$\\newcommand{\\Bold}[1]{\\mathbf{#1}}x^{126}$$"
      ],
      "text/plain": [
       "x^126"
      ]
     },
     "metadata": {},
     "output_type": "display_data"
    },
    {
     "data": {
      "text/html": [
       "<html><script type=\"math/tex; mode=display\">\\newcommand{\\Bold}[1]{\\mathbf{#1}}x^{127}</script></html>"
      ],
      "text/latex": [
       "$$\\newcommand{\\Bold}[1]{\\mathbf{#1}}x^{127}$$"
      ],
      "text/plain": [
       "x^127"
      ]
     },
     "metadata": {},
     "output_type": "display_data"
    },
    {
     "data": {
      "text/html": [
       "<html><script type=\"math/tex; mode=display\">\\newcommand{\\Bold}[1]{\\mathbf{#1}}x^{254}</script></html>"
      ],
      "text/latex": [
       "$$\\newcommand{\\Bold}[1]{\\mathbf{#1}}x^{254}$$"
      ],
      "text/plain": [
       "x^254"
      ]
     },
     "metadata": {},
     "output_type": "display_data"
    },
    {
     "data": {
      "text/html": [
       "<html><script type=\"math/tex; mode=display\">\\newcommand{\\Bold}[1]{\\mathbf{#1}}x^{255}</script></html>"
      ],
      "text/latex": [
       "$$\\newcommand{\\Bold}[1]{\\mathbf{#1}}x^{255}$$"
      ],
      "text/plain": [
       "x^255"
      ]
     },
     "metadata": {},
     "output_type": "display_data"
    },
    {
     "data": {
      "text/plain": [
       "x^255"
      ]
     },
     "execution_count": 137,
     "metadata": {},
     "output_type": "execute_result"
    }
   ],
   "source": [
    "method_SX(255)"
   ]
  },
  {
   "cell_type": "markdown",
   "metadata": {},
   "source": [
    "### Вывод\n",
    "Был реализован бинарный метод SX, его корректность проверена на тестах. Метод действительно быстрее возводит число в степень, нежели при последовательном возведении. Замечено что метод совершает больше итераций, когда количество единиц в бинарной записи числа увеличивается."
   ]
  },
  {
   "cell_type": "markdown",
   "metadata": {},
   "source": [
    "## 2. Метод справа налево\n",
    "Разработаем код для этого метода:"
   ]
  },
  {
   "cell_type": "code",
   "execution_count": 138,
   "metadata": {
    "scrolled": true
   },
   "outputs": [],
   "source": [
    "def method_RL(n):\n",
    "    N = n\n",
    "    Y = 1\n",
    "    Z = x\n",
    "    i = 0\n",
    "    \n",
    "    print(\"№\\t|N\\t|Y\\t|Z\\t\")\n",
    "    print(\"--------|-------|-------|-------\")\n",
    "    print(i, N, Y, Z, sep='\\t|')\n",
    "    \n",
    "    while N != 0:\n",
    "        if N%2:\n",
    "            Y *= Z\n",
    "        N //= 2 #поскольку в алгоритме есть одинаковые действия для четной и нечетной N, вынесем их из условия\n",
    "        Z^=2\n",
    "        i+=1\n",
    "        print(i, N, Y, Z, sep='\\t|')\n",
    "    return Y"
   ]
  },
  {
   "cell_type": "code",
   "execution_count": 139,
   "metadata": {},
   "outputs": [
    {
     "name": "stdout",
     "output_type": "stream",
     "text": [
      "№\t|N\t|Y\t|Z\t\n",
      "--------|-------|-------|-------\n",
      "0\t|5\t|1\t|x\n",
      "1\t|2\t|x\t|x^2\n",
      "2\t|1\t|x\t|x^4\n",
      "3\t|0\t|x^5\t|x^8\n"
     ]
    },
    {
     "data": {
      "text/plain": [
       "x^5"
      ]
     },
     "execution_count": 139,
     "metadata": {},
     "output_type": "execute_result"
    }
   ],
   "source": [
    "method_RL(5)"
   ]
  },
  {
   "cell_type": "markdown",
   "metadata": {},
   "source": [
    "Если переместить полученную таблицу в блок Markdown, результат красиво оформится:\n",
    "\n",
    "№\t|N\t|Y\t|Z\t\n",
    "--------|-------|-------|-------\n",
    "0\t|5\t|1\t|x\n",
    "1\t|2\t|x\t|x^2\n",
    "2\t|1\t|x\t|x^4\n",
    "3\t|0\t|x^5\t|x^8"
   ]
  },
  {
   "cell_type": "code",
   "execution_count": 140,
   "metadata": {},
   "outputs": [
    {
     "name": "stdout",
     "output_type": "stream",
     "text": [
      "№\t|N\t|Y\t|Z\t\n",
      "--------|-------|-------|-------\n",
      "0\t|128\t|1\t|x\n",
      "1\t|64\t|1\t|x^2\n",
      "2\t|32\t|1\t|x^4\n",
      "3\t|16\t|1\t|x^8\n",
      "4\t|8\t|1\t|x^16\n",
      "5\t|4\t|1\t|x^32\n",
      "6\t|2\t|1\t|x^64\n",
      "7\t|1\t|1\t|x^128\n",
      "8\t|0\t|x^128\t|x^256\n"
     ]
    },
    {
     "data": {
      "text/plain": [
       "x^128"
      ]
     },
     "execution_count": 140,
     "metadata": {},
     "output_type": "execute_result"
    }
   ],
   "source": [
    "method_RL(128)"
   ]
  },
  {
   "cell_type": "markdown",
   "metadata": {},
   "source": [
    "№\t|N\t|Y\t|Z\t\n",
    "--------|-------|-------|-------\n",
    "0\t|128\t|1\t|x\n",
    "1\t|64\t|1\t|x^2\n",
    "2\t|32\t|1\t|x^4\n",
    "3\t|16\t|1\t|x^8\n",
    "4\t|8\t|1\t|x^16\n",
    "5\t|4\t|1\t|x^32\n",
    "6\t|2\t|1\t|x^64\n",
    "7\t|1\t|1\t|x^128\n",
    "8\t|0\t|x^128\t|x^256"
   ]
  },
  {
   "cell_type": "code",
   "execution_count": 141,
   "metadata": {},
   "outputs": [
    {
     "name": "stdout",
     "output_type": "stream",
     "text": [
      "№\t|N\t|Y\t|Z\t\n",
      "--------|-------|-------|-------\n",
      "0\t|255\t|1\t|x\n",
      "1\t|127\t|x\t|x^2\n",
      "2\t|63\t|x^3\t|x^4\n",
      "3\t|31\t|x^7\t|x^8\n",
      "4\t|15\t|x^15\t|x^16\n",
      "5\t|7\t|x^31\t|x^32\n",
      "6\t|3\t|x^63\t|x^64\n",
      "7\t|1\t|x^127\t|x^128\n",
      "8\t|0\t|x^255\t|x^256\n"
     ]
    },
    {
     "data": {
      "text/plain": [
       "x^255"
      ]
     },
     "execution_count": 141,
     "metadata": {},
     "output_type": "execute_result"
    }
   ],
   "source": [
    "method_RL(255)"
   ]
  },
  {
   "cell_type": "markdown",
   "metadata": {},
   "source": [
    "№\t|N\t|Y\t|Z\t\n",
    "--------|-------|-------|-------\n",
    "0\t|255\t|1\t|x\n",
    "1\t|127\t|x\t|x^2\n",
    "2\t|63\t|x^3\t|x^4\n",
    "3\t|31\t|x^7\t|x^8\n",
    "4\t|15\t|x^15\t|x^16\n",
    "5\t|7\t|x^31\t|x^32\n",
    "6\t|3\t|x^63\t|x^64\n",
    "7\t|1\t|x^127\t|x^128\n",
    "8\t|0\t|x^255\t|x^256"
   ]
  },
  {
   "cell_type": "markdown",
   "metadata": {},
   "source": [
    "### Вывод\n",
    "Был реализован метод справа налево, его корректность проверена на тестах, вывод оформлен в таблицы Markdown. Метод справа налево, как и бинарный метод, очень эффективен для вычисления монома. В общем случае после завершения алгоритма, $Z = (\\cfrac{Y_k}{Y_{k-1}})^2$ или $Z = x^{2^i}$, где $i$ - кол-во итераций "
   ]
  },
  {
   "cell_type": "markdown",
   "metadata": {},
   "source": [
    "## 3. Сравнение бинарного метода SX и метода справа налево\n",
    "Чтобы получить более общую оценку, в прошлых пунтках были проведены тесты на маленьких числах и на числах с маленьким/большим кол-вом единиц в бинарной записи.\n",
    "\n",
    "В этом пункте проведем сравнение кол-ва итераций в двух методах и сравнение теоретической оценки с практическими данными."
   ]
  },
  {
   "cell_type": "markdown",
   "metadata": {},
   "source": [
    "###  Тест1\n",
    "$n = 5$"
   ]
  },
  {
   "cell_type": "markdown",
   "metadata": {},
   "source": [
    "Бинарная запись: $5 = (101)_2$\n",
    "\n",
    "Как видно, при маленьких числах кол-во итераций в методах одинаково и в данном случае $i = 3$ \n",
    "\n",
    "Сравним с теоретической оценкой:\n",
    "\n",
    "$\\lambda(n) + \\nu(n) - 1 = 2 + 2 - 1 = 3  \\Rightarrow $ оценка метода SX корректна\n",
    "\n",
    "$\\lambda(n) + \\nu(n) = 2 + 2 = 4 \\Rightarrow $ оценка метода справа-налево корректна"
   ]
  },
  {
   "cell_type": "markdown",
   "metadata": {},
   "source": [
    "###  Тест2\n",
    "$n = 128$\n",
    "\n",
    "Бинарная запись: $128 = (10000000)_2$, т.е вес Хэмминга для этого числа очень мал\n",
    "\n",
    "Для теста с $n = 128$ метод SX затратил 7 итераций, метод справа-налево - 8\n",
    "\n",
    "Сравним с теоретической оценкой:\n",
    "\n",
    "$\\lambda(n) + \\nu(n) - 1 = 7 + 1 - 1 = 7  \\Rightarrow $ оценка метода SX корректна\n",
    "\n",
    "$\\lambda(n) + \\nu(n) = 7 + 1 = 8 \\Rightarrow $ - оценка метода справа-налево корректна"
   ]
  },
  {
   "cell_type": "markdown",
   "metadata": {},
   "source": [
    "### Тест3 \n",
    "$n = 255$\n",
    "\n",
    "Бинарная запись: $255 = (11111111)_2$, т.е вес Хэмминга для этого числа велик\n",
    "\n",
    "Для теста с $n = 255$ метод SX затратил 14 итераций, метод справа-налево - 8\n",
    "\n",
    "Сравним с теоретической оценкой:\n",
    "\n",
    "$\\lambda(n) + \\nu(n) - 1 = 7 + 8 - 1 = 14  \\Rightarrow $ оценка метода SX корректна\n",
    "\n",
    "$\\lambda(n) + \\nu(n) = 7 + 8 = 15 \\Rightarrow $ оценка метода справа-налево корректна (т.к оценка сложности сверху, она может оказаться несколько выше практической сложности, это нормально)"
   ]
  },
  {
   "cell_type": "markdown",
   "metadata": {},
   "source": [
    "### Вывод\n",
    "Были сравнены кол-ва итераций для каждого метода в зависимости от входных данных, были проверены оценки сложности, теоретические данные сошлись с практическими."
   ]
  },
  {
   "cell_type": "markdown",
   "metadata": {},
   "source": [
    "## 4. Метод множителей\n",
    "Выполним вручную метод множителей с $n = 5, n = 128, n = 255$"
   ]
  },
  {
   "cell_type": "markdown",
   "metadata": {},
   "source": [
    "**n = 5**\n",
    "\n",
    "Т.к $n = 5$ - простое число, вычислим $x^{n-1} = x^4$\n",
    "\n",
    "$n = p \\cdot q, p = 2, q = 2 $\n",
    "\n",
    "$x^5 = x^4 \\cdot x $ (1 операция умножения)\n",
    "\n",
    "$x^5 = (x^2)^2 \\cdot x$ (+2 операции возведения в квадрат)\n",
    "\n",
    "**Итого: 3 операции**\n"
   ]
  },
  {
   "cell_type": "markdown",
   "metadata": {},
   "source": [
    "**n = 128**\n",
    "\n",
    "$128 = 2 \\cdot 64 $\n",
    "\n",
    "$x^{128} = (x^2)^{64} $ (1 операция возведения в квадрат)\n",
    "\n",
    "$(x^2)^{64} = ((x^2)^2)^{32} = (((x^2)^2)^2)^{16} = ((((x^2)^2)^2)^2)^8 =  (((((x^2)^2)^2)^2)^2)^4 = (((((((x^2)^2)^2)^2)^2)^2)^2)$ (+6 операций возведения в квадрат)\n",
    "\n",
    "**Итого: 7 операций**"
   ]
  },
  {
   "cell_type": "markdown",
   "metadata": {},
   "source": [
    "**n = 255**\n",
    "\n",
    "$255 = 3 \\cdot 85 $\n",
    "\n",
    "$x^{255} = (x^3)^{85} $\n",
    "\n",
    "Введем замену $y$:\n",
    "\n",
    "$y = x^3 = x^2 \\cdot x $ (2 операции - возведение в квадрат и умножение)\n",
    "\n",
    "$x^{255} = y^{85} = (y^5)^{17}$ \n",
    "\n",
    "Введем замену $z$:\n",
    "\n",
    "$z = y^5 = (y^2)^2 \\cdot y $ (+3 операции)\n",
    "\n",
    "$x^{255} = z^{17} = z^{16} \\cdot z = (z^2)^8 \\cdot z = (((z^2)^2)^2)^2 \\cdot z $ (+5 операций - умножение и 4 возведения в квадрат)\n",
    "\n",
    "\n",
    "**Итого: 10 операций**"
   ]
  },
  {
   "cell_type": "markdown",
   "metadata": {},
   "source": [
    "### Вывод\n",
    "Был рассмотрен метод множителей.\n",
    "\n",
    "В сравнении с двумя рассмотренными ранее методами, метод множителей такой же быстрый. \n",
    "\n",
    "- Для $n=5$ кол-во итераций то же, что и в двух других методах\n",
    "- Для $n=128$ скорость совпадает с бинарным методом и чуть быстрее метода справа-налево\n",
    "- Для $n=255$ этот метод окзался быстрее бинарного, но немного медленнее метода справа-налево."
   ]
  },
  {
   "cell_type": "markdown",
   "metadata": {},
   "source": [
    "## 5. Дерево степеней\n",
    "\n",
    "Разработаем код, выполняющий построение дерева степеней. \n",
    "\n",
    "Дерево будет храниться в виде словаря {вершина1: [список ее родителей вплоть до корня], ... }"
   ]
  },
  {
   "cell_type": "code",
   "execution_count": 142,
   "metadata": {},
   "outputs": [],
   "source": [
    "def method_Tree(k):\n",
    "    tree = {1:[1]}\n",
    "    leaf = [1]\n",
    "    for level in range(k):\n",
    "        new_leaf = []\n",
    "        for elem in leaf:\n",
    "            for parent in tree[elem]:\n",
    "                tmp = elem+parent\n",
    "                if tmp not in tree:\n",
    "                    new_leaf.append(tmp)\n",
    "                    tree[tmp] = tree[elem]+[tmp]\n",
    "        leaf = new_leaf\n",
    "    return tree"
   ]
  },
  {
   "cell_type": "markdown",
   "metadata": {},
   "source": [
    "Для отображения дерева реализуем функцию print_tree().\n",
    "\n",
    "В ней словарь преобразуется к виду, который подходит для sage, создается граф на основе нового словаря и выводится в виде красивого рисунка."
   ]
  },
  {
   "cell_type": "code",
   "execution_count": 143,
   "metadata": {},
   "outputs": [],
   "source": [
    "def print_tree(tree, n):\n",
    "    new_tree = tree.copy()\n",
    "    new_tree.pop(1)\n",
    "    sage_tree = {}\n",
    "    for node, parent in new_tree.items():\n",
    "        if not sage_tree.get(parent[-2]):\n",
    "            sage_tree[parent[-2]] = [node]\n",
    "        else:\n",
    "            sage_tree[parent[-2]].append(node)\n",
    "    graph = Graph(sage_tree)\n",
    "    graph_plot = graph.plot(layout='tree', tree_root=1, vertex_color='white', vertex_colors={'orange': tree[n]})\n",
    "    graph_plot.show()"
   ]
  },
  {
   "cell_type": "markdown",
   "metadata": {},
   "source": [
    "Проверим работоспособность кода для k=5, n = 24:"
   ]
  },
  {
   "cell_type": "code",
   "execution_count": 144,
   "metadata": {},
   "outputs": [
    {
     "data": {
      "image/png": "[encoded data removed]",
      "text/plain": [
       "Graphics object consisting of 42 graphics primitives"
      ]
     },
     "metadata": {},
     "output_type": "display_data"
    }
   ],
   "source": [
    "print_tree(method_Tree(5), 24)"
   ]
  },
  {
   "cell_type": "markdown",
   "metadata": {},
   "source": [
    "Чтобы сравнить этот метод с предыдущими, проведем тесты для $n = 5, n = 128$"
   ]
  },
  {
   "cell_type": "code",
   "execution_count": 145,
   "metadata": {},
   "outputs": [
    {
     "data": {
      "image/png": "[encoded data removed]",
      "text/plain": [
       "Graphics object consisting of 14 graphics primitives"
      ]
     },
     "metadata": {},
     "output_type": "display_data"
    }
   ],
   "source": [
    "print_tree(method_Tree(3), 5)"
   ]
  },
  {
   "cell_type": "markdown",
   "metadata": {},
   "source": [
    "Таким образом для $x^5$ цепочка будет следующей:\n",
    "\n",
    "$x \\rightarrow x^2 \\rightarrow x^3 \\rightarrow x^5$\n",
    "\n",
    "Количество итераций $= 3$"
   ]
  },
  {
   "cell_type": "code",
   "execution_count": 146,
   "metadata": {},
   "outputs": [
    {
     "data": {
      "image/png": "[encoded data removed]",
      "text/plain": [
       "Graphics object consisting of 124 graphics primitives"
      ]
     },
     "metadata": {},
     "output_type": "display_data"
    }
   ],
   "source": [
    "print_tree(method_Tree(7), 128)"
   ]
  },
  {
   "cell_type": "markdown",
   "metadata": {},
   "source": [
    "Для $x^{128}$ цепочка будет следующей:\n",
    "\n",
    "$x \\rightarrow x^2 \\rightarrow x^4 \\rightarrow x^8 \\rightarrow x^{16} \\rightarrow x^{32} \\rightarrow x^{64} \\rightarrow x^{128}$\n",
    "\n",
    "Количество итераций $= 7$"
   ]
  },
  {
   "cell_type": "markdown",
   "metadata": {},
   "source": [
    "### Вывод\n",
    "Был реализован метод дерева степеней, дерево отображено с использованием средств sagemath, найдена цепочка операций для разных $n$. \n",
    "\n",
    "Тестирование показало, что метод дерева степеней не уступает по скорости бинарному методу для $n=5$ и $n=128$."
   ]
  },
  {
   "cell_type": "markdown",
   "metadata": {},
   "source": [
    "## Выводы\n",
    "\n",
    "Были сформированы знания о работе алгоритмов вычисления одночленов за минимальное число операций, привит навык использования систем компьютерной математики для реализации алгоритмов.\n",
    "\n",
    "Реализованы: бинарный метод SX, метод справа-налево, метод множителей и метод степеней. Методы были сравнены по кол-ву итераций, была проведена теоретическая оценка сложности, изучен способ построения Markdown таблиц и отображения графов посредством sagemath."
   ]
  }
 ],
 "metadata": {
  "kernelspec": {
   "display_name": "SageMath 9.3",
   "language": "sage",
   "name": "sagemath"
  },
  "language_info": {
   "codemirror_mode": {
    "name": "ipython",
    "version": 3
   },
   "file_extension": ".py",
   "mimetype": "text/x-python",
   "name": "python",
   "nbconvert_exporter": "python",
   "pygments_lexer": "ipython3",
   "version": "3.7.10"
  }
 },
 "nbformat": 4,
 "nbformat_minor": 4
}
