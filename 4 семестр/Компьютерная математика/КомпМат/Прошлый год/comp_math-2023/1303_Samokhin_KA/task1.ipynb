{
 "cells": [
  {
   "cell_type": "markdown",
   "metadata": {},
   "source": [
    "# Практическая работа №1: Алгоритмы эффективного вычисления одночленов\n",
    "\n",
    "Выполнил студент гр. 1303 Самохин Кирилл. Вариант №18."
   ]
  },
  {
   "cell_type": "markdown",
   "metadata": {},
   "source": [
    "## Цель работы\n",
    "\n",
    "Сформировать знания о работе алгоритмах вычисления одночленов за\n",
    "минимальное число операций, привить навык использования систем компьютерной математики для реализации алгоритмов."
   ]
  },
  {
   "cell_type": "markdown",
   "metadata": {},
   "source": [
    "## Основные теоретические положения\n",
    "\n",
    "Введём ряд понятий:\n",
    "\n",
    "$ \\lambda(n) = \\lfloor \\log_{2}(n)\\rfloor $ - уменьшенная на 1 длина бинарной записи числа n.\n",
    "\n",
    "$ \\nu(n) $ - вес Хэмминга для бинарной записи (количество не нулевых цифр в записи числа).\n",
    "\n",
    "### Бинарный метод *SX*\n",
    "\n",
    "1. Представить n в бинарном виде: $ n = (a_{m}, a_{m-1}, ... , a_{1})_{2} $, причём $a_{m} = 1 $.\n",
    "2. Отбросить старший бит: $ (a_{m-1}, ... , a_{1})_{2} $.\n",
    "3. Провести преобразование путём замены:\n",
    "    * $a_{i} = 1 \\Rightarrow a_{i} = SX $\n",
    "    * $a_{i} = 0 \\Rightarrow a_{i} = X $\n",
    "4. В результате получается строка, с помощью которой можно понять, какие действия необходимо произвести над x для вычисления для возведения его в степень n:\n",
    "    * $S$ - возведение в квадрат\n",
    "    * $X$ - умножение на x.\n",
    "    \n",
    "Число операций для этого метода: $\\lambda(n) + \\nu(n) - 1$\n",
    "\n",
    "### Метод справа-налево\n",
    "\n",
    "1. Значения на нулевой итерации: $ N = n, Y = 1, Z = x $\n",
    "2. Если N - чётное, то дели его на 2 и возводим Z в квадрат, в противном случае (N - нечётное) также делим N пополам, умножаем Y на Z и возводим Z  квадрат.\n",
    "3. Повторяем действия в п.2 до тех пор, пока N не окажется равен 0. После завершения итераций возвращаем Y.\n",
    "\n",
    "Число операций для этого метода:  $\\lambda(n) + \\nu(n)$\n",
    "\n",
    "### Метод множителей\n",
    "\n",
    "1. Представить n в виде: $n = p \\cdot q$, где $n$ - наименьший простой множитель, а $q \\gt 0$. Чтобы найти искомый $x^n$, необходимо вычислить $x^p$ и возвести результат в степень $q$.\n",
    "2. Если n - простое, вычисляем $x^{n-1}$ и умножаем на $x$.\n",
    "3. При $n = 1$, получим $x^n$.\n",
    "\n",
    "### Дерево степеней\n",
    "\n",
    "1. На нулевом уровне (корне) дерева расположен узел 1.\n",
    "2. $k+1-й$ уровень дерева строится по следующему правилу: на уровне $k$ берётся узел n, и к нему присоединяюются узлы $n+a_0, n+a_1, ... , n+a_{k-1}$. Где $\\{a_i\\}_{i=0}^{k-1}$ - путь от корня дерева 1 до узла n.\n",
    "3. Если узел уже был добавлен в дерево, повторно мы его не добавляем."
   ]
  },
  {
   "cell_type": "markdown",
   "metadata": {},
   "source": [
    "## Постановка задачи\n",
    "\n",
    "Реализовать алгоритмы вычисления мономов за минимальное число операций с использованием системы компьютерной алгебры SageMath, провести анализ алгоритмов. Полученные результаты содержательно проинтерпретировать."
   ]
  },
  {
   "cell_type": "markdown",
   "metadata": {},
   "source": [
    "## Выполнение работы"
   ]
  },
  {
   "cell_type": "markdown",
   "metadata": {},
   "source": [
    "### 1. Бинарный метод SX\n",
    "\n",
    "Разработаем функцию, реализующую бинарный метод SX:"
   ]
  },
  {
   "cell_type": "code",
   "execution_count": 12,
   "metadata": {
    "scrolled": true
   },
   "outputs": [],
   "source": [
    "def SX_method(n):\n",
    "    bin_n = bin(n)[3:]\n",
    "    bin_n = bin_n.replace('0', 'S').replace('1', 'SX')\n",
    "    res = var('x')\n",
    "    print(\"Получена строка: \", bin_n)\n",
    "    for i, el in enumerate(bin_n):\n",
    "        if el == 'S':\n",
    "            res^=2\n",
    "        else:\n",
    "            res*=x\n",
    "        print(f'(Итерация №{i+1}: {res})')\n",
    "    return res    "
   ]
  },
  {
   "cell_type": "markdown",
   "metadata": {},
   "source": [
    "Протестируем написанную функцию на числах: 8, 93, 149"
   ]
  },
  {
   "cell_type": "code",
   "execution_count": 30,
   "metadata": {
    "scrolled": true
   },
   "outputs": [
    {
     "name": "stdout",
     "output_type": "stream",
     "text": [
      "Получена строка:  SSS\n",
      "(Итерация №1: x^2)\n",
      "(Итерация №2: x^4)\n",
      "(Итерация №3: x^8)\n"
     ]
    },
    {
     "data": {
      "text/plain": [
       "x^8"
      ]
     },
     "execution_count": 30,
     "metadata": {},
     "output_type": "execute_result"
    }
   ],
   "source": [
    "SX_method(8)"
   ]
  },
  {
   "cell_type": "code",
   "execution_count": 15,
   "metadata": {},
   "outputs": [
    {
     "name": "stdout",
     "output_type": "stream",
     "text": [
      "Получена строка:  SSXSXSXSSX\n",
      "(Итерация №1: x^2)\n",
      "(Итерация №2: x^4)\n",
      "(Итерация №3: x^5)\n",
      "(Итерация №4: x^10)\n",
      "(Итерация №5: x^11)\n",
      "(Итерация №6: x^22)\n",
      "(Итерация №7: x^23)\n",
      "(Итерация №8: x^46)\n",
      "(Итерация №9: x^92)\n",
      "(Итерация №10: x^93)\n"
     ]
    },
    {
     "data": {
      "text/plain": [
       "x^93"
      ]
     },
     "execution_count": 15,
     "metadata": {},
     "output_type": "execute_result"
    }
   ],
   "source": [
    "SX_method(93)"
   ]
  },
  {
   "cell_type": "code",
   "execution_count": 17,
   "metadata": {},
   "outputs": [
    {
     "name": "stdout",
     "output_type": "stream",
     "text": [
      "Получена строка:  SSSXSSXSSX\n",
      "(Итерация №1: x^2)\n",
      "(Итерация №2: x^4)\n",
      "(Итерация №3: x^8)\n",
      "(Итерация №4: x^9)\n",
      "(Итерация №5: x^18)\n",
      "(Итерация №6: x^36)\n",
      "(Итерация №7: x^37)\n",
      "(Итерация №8: x^74)\n",
      "(Итерация №9: x^148)\n",
      "(Итерация №10: x^149)\n"
     ]
    },
    {
     "data": {
      "text/plain": [
       "x^149"
      ]
     },
     "execution_count": 17,
     "metadata": {},
     "output_type": "execute_result"
    }
   ],
   "source": [
    "SX_method(149)"
   ]
  },
  {
   "cell_type": "markdown",
   "metadata": {},
   "source": [
    "Проведём теоретическую оценку числа операций для выбранных тестовых значений:\n",
    "\n",
    "$n = 8 \\Rightarrow \\lambda(8) = \\lfloor \\log_{2}(8)\\rfloor = 3; \\nu(8) = 1; \\lambda(8) + \\nu(8) - 1 = 3 \\rightarrow $ *верно*\n",
    "\n",
    "$n = 93 \\Rightarrow \\lambda(93) = \\lfloor \\log_{2}(93)\\rfloor = 6; \\nu(93) = 5; \\lambda(93) + \\nu(93) - 1 = 10 \\rightarrow $ *верно*\n",
    "\n",
    "$n = 149 \\Rightarrow \\lambda(149) = \\lfloor \\log_{2}(149)\\rfloor = 7; \\nu(149) = 4; \\lambda(149) + \\nu(149) - 1 = 10 \\rightarrow $ *верно*\n",
    "\n",
    "Проведённые вычисления подтверждают корректность работы реализованного алгоритма.\n",
    "\n",
    "#### Вывод\n",
    "\n",
    "Реализован бинарный метод SX. Корректность работы проверена на трёх разных значениях, полученное число итераций совпало с теоретической оценкой для данного метода. В ходе тестов обнаружено, что, с увеличением числа единиц в бинарной записи числа, также увеличивается и количество итериций."
   ]
  },
  {
   "cell_type": "markdown",
   "metadata": {},
   "source": [
    "### 2. Метод справа-налево\n",
    "\n",
    "Разработаем функцию, реализующую бинарный метод возведения в степень справа-налево:"
   ]
  },
  {
   "cell_type": "code",
   "execution_count": 33,
   "metadata": {},
   "outputs": [],
   "source": [
    "def RL_method(n):\n",
    "    N = n\n",
    "    Y = 1\n",
    "    Z = var('x')\n",
    "    i = 0\n",
    "    print(f'iteration №{i}: N={N}, Y={Y}, Z={Z}')\n",
    "    while True:\n",
    "        if N%2:\n",
    "            N = floor(N/2)\n",
    "            Y*=Z\n",
    "            if (N == 0):\n",
    "                i += 1\n",
    "                print(f'iteration №{i}: N={N}, Y={Y}, Z={Z}')\n",
    "                break\n",
    "            Z^=2\n",
    "        else:\n",
    "            N = floor(N/2)\n",
    "            Z^=2\n",
    "        i+=1\n",
    "        print(f'iteration №{i}: N={N}, Y={Y}, Z={Z}')\n",
    "    return Y"
   ]
  },
  {
   "cell_type": "code",
   "execution_count": 38,
   "metadata": {},
   "outputs": [
    {
     "name": "stdout",
     "output_type": "stream",
     "text": [
      "iteration №0: N=8, Y=1, Z=x\n",
      "iteration №1: N=4, Y=1, Z=x^2\n",
      "iteration №2: N=2, Y=1, Z=x^4\n",
      "iteration №3: N=1, Y=1, Z=x^8\n",
      "iteration №4: N=0, Y=x^8, Z=x^8\n"
     ]
    },
    {
     "data": {
      "text/plain": [
       "x^8"
      ]
     },
     "execution_count": 38,
     "metadata": {},
     "output_type": "execute_result"
    }
   ],
   "source": [
    "RL_method(8)"
   ]
  },
  {
   "cell_type": "code",
   "execution_count": 35,
   "metadata": {},
   "outputs": [
    {
     "name": "stdout",
     "output_type": "stream",
     "text": [
      "iteration №0: N=93, Y=1, Z=x\n",
      "iteration №1: N=46, Y=x, Z=x^2\n",
      "iteration №2: N=23, Y=x, Z=x^4\n",
      "iteration №3: N=11, Y=x^5, Z=x^8\n",
      "iteration №4: N=5, Y=x^13, Z=x^16\n",
      "iteration №5: N=2, Y=x^29, Z=x^32\n",
      "iteration №6: N=1, Y=x^29, Z=x^64\n",
      "iteration №7: N=0, Y=x^93, Z=x^64\n"
     ]
    },
    {
     "data": {
      "text/plain": [
       "x^93"
      ]
     },
     "execution_count": 35,
     "metadata": {},
     "output_type": "execute_result"
    }
   ],
   "source": [
    "RL_method(93)"
   ]
  },
  {
   "cell_type": "code",
   "execution_count": 36,
   "metadata": {},
   "outputs": [
    {
     "name": "stdout",
     "output_type": "stream",
     "text": [
      "iteration №0: N=149, Y=1, Z=x\n",
      "iteration №1: N=74, Y=x, Z=x^2\n",
      "iteration №2: N=37, Y=x, Z=x^4\n",
      "iteration №3: N=18, Y=x^5, Z=x^8\n",
      "iteration №4: N=9, Y=x^5, Z=x^16\n",
      "iteration №5: N=4, Y=x^21, Z=x^32\n",
      "iteration №6: N=2, Y=x^21, Z=x^64\n",
      "iteration №7: N=1, Y=x^21, Z=x^128\n",
      "iteration №8: N=0, Y=x^149, Z=x^128\n"
     ]
    },
    {
     "data": {
      "text/plain": [
       "x^149"
      ]
     },
     "execution_count": 36,
     "metadata": {},
     "output_type": "execute_result"
    }
   ],
   "source": [
    "RL_method(149)"
   ]
  },
  {
   "cell_type": "markdown",
   "metadata": {},
   "source": [
    "Оформим результаты работы алгоритма в виде таблиц:"
   ]
  },
  {
   "cell_type": "markdown",
   "metadata": {},
   "source": [
    "Для $n = 8$:\n",
    "\n",
    "| № | N | Y   | Z    |\n",
    "|---|---|-----|------|\n",
    "| 0 | 8 | 1   | x    |\n",
    "| 1 | 4 | 1   | x^2  |\n",
    "| 2 | 2 | 1   | x^4  |\n",
    "| 3 | 1 | 1   | x^8  |\n",
    "| 4 | 0 | x^8 | x^8  |"
   ]
  },
  {
   "cell_type": "markdown",
   "metadata": {},
   "source": [
    "Для $n = 93$:\n",
    "\n",
    "| № | N  | Y    | Z     |\n",
    "|---|----|------|-------|\n",
    "| 0 | 93 | 1    | x     |\n",
    "| 1 | 46 | x    | x^2   |\n",
    "| 2 | 23 | x    | x^4   |\n",
    "| 3 | 11 | x^5  | x^8   |\n",
    "| 4 | 5  | x^13 | x^16  |\n",
    "| 5 | 2  | x^29 | x^32  |\n",
    "| 6 | 1  | x^29 | x^64  |\n",
    "| 7 | 0  | x^93 | x^64  |"
   ]
  },
  {
   "cell_type": "markdown",
   "metadata": {},
   "source": [
    "Для $n = 149$:\n",
    "\n",
    "| № | N   | Y     | Z     |\n",
    "|---|-----|-------|-------|\n",
    "| 0 | 149 | 1     | x     |\n",
    "| 1 | 74  | x     | x^2   |\n",
    "| 2 | 37  | x     | x^4   |\n",
    "| 3 | 18  | x^5   | x^8   |\n",
    "| 4 | 9   | x^5   | x^16  |\n",
    "| 5 | 4   | x^21  | x^32  |\n",
    "| 6 | 2   | x^21  | x^64  |\n",
    "| 7 | 1   | x^21  | x^128 |\n",
    "| 8 | 0   | x^149 | x^128 |"
   ]
  },
  {
   "cell_type": "markdown",
   "metadata": {},
   "source": [
    "Проведём теоретическую оценку числа операций для выбранных тестовых значений:\n",
    "\n",
    "$n = 8 \\Rightarrow \\lambda(8) = \\lfloor \\log_{2}(8)\\rfloor = 3; \\nu(8) = 1; \\lambda(8) + \\nu(8) = 4 \\rightarrow $ *верно*\n",
    "\n",
    "$n = 93 \\Rightarrow \\lambda(93) = \\lfloor \\log_{2}(93)\\rfloor = 6; \\nu(93) = 5; \\lambda(93) + \\nu(93) - 1 = 11 \\rightarrow $ *верно*\n",
    "\n",
    "$n = 149 \\Rightarrow \\lambda(149) = \\lfloor \\log_{2}(149)\\rfloor = 7; \\nu(149) = 4; \\lambda(149) + \\nu(149) - 1 = 11 \\rightarrow $ *верно*\n",
    "\n",
    "Проведённые вычисления подтверждают корректность работы реализованного алгоритма.\n",
    "\n",
    "#### Вывод\n",
    "\n",
    "Реализован бинарный метод возвдения в степень справа-налево, результаты оформлены в виде таблиц в Markdown. Корректность работы проверена на трёх разных значениях, полученное число итераций совпало с теоретической оценкой для данного метода. В холде теоретических вычислений и проведения тестов было выяснено, что метод требует на одну операцию больше, чем метод SX."
   ]
  },
  {
   "cell_type": "markdown",
   "metadata": {},
   "source": [
    "### 3. Сравнение бинарного метода *SX* и метода справа-налево\n",
    "\n",
    "1. Бинарный метод *SX* - количество итераций совпадает с количеством итераций и оценивается как $\\lambda(n) + \\nu(n) - 1$.\n",
    "2. Бинарный метод возведения в степень справа-налево - число итераций оценивается как $ \\lfloor \\log_{2}(n)\\rfloor + 2$\n",
    "\n",
    "Принимая во внимание тот факт, что метод *SX* требует меньше как итераций, так и операций, делаем вывод, что бинарный метод *SX* является более выгодным."
   ]
  },
  {
   "cell_type": "markdown",
   "metadata": {},
   "source": [
    "### 4. Метод множителей\n",
    "\n",
    "Выполним вручную метод множителей для $n = 8; 93; 149$"
   ]
  },
  {
   "cell_type": "markdown",
   "metadata": {},
   "source": [
    "**n = 8:**\n",
    "\n",
    "$8 = 4 \\cdot 2$\n",
    "\n",
    "$x^{8} = (x^{2})^{4} = ((x^2)^2)^2$\n",
    "\n",
    "Рассчитаем нужные значения: <br>\n",
    "$x^2 \\rightarrow x, x^2$  (+1 операция) <br>\n",
    "$(x^2)^2 \\rightarrow x^2, (x^2)^2$  (+1 операция) <br>\n",
    "$((x^2)^2)^2 \\rightarrow (x^2)^2, ((x^2)^2)^2$  (+1 операция) <br>\n",
    "Итого 3 операции. Можно видеть, что метод множителей может привести к результату за столько же операций, что и метод *SX*."
   ]
  },
  {
   "cell_type": "markdown",
   "metadata": {},
   "source": [
    "**n = 93:**\n",
    "\n",
    "$93 = 3 \\cdot 31$\n",
    "\n",
    "$x^{93} = (x^{3})^{31}$ <br>\n",
    "$(x^3)^{31} = x^3 \\cdot (x^3)^{30}$ <br>\n",
    "$(x^3)^{30} = (((x^3)^2)^3)^5$\n",
    "\n",
    "Рассчитаем нужные значения: <br>\n",
    "$x^3 \\rightarrow x, x^2, x^3$ (+2 операции) <br>\n",
    "$(x^3)^{2} \\rightarrow (x^3), (x^3)^2$ (+1 операция) <br>\n",
    "$((x^3)^2)^3 \\rightarrow ((x^3)^2), ((x^3)^2)^2, ((x^3)^2)^3$ (+2 операции) <br>\n",
    "$(((x^3)^2)^3)^5 \\rightarrow (((x^3)^2)^3), (((x^3)^2)^3)^2, (((x^3)^2)^3)^4, (((x^3)^2)^3)^5$ (+3 операции) <br>\n",
    "$(x^3)^{31} = x^3 \\cdot (x^3)^{30} \\rightarrow (x^3)^{30}, (x^3)^{31}$ (+1 операция) <br>\n",
    "Итого 9 операций. Из этого примера видно, что метод множителей также может быть и короче бинарного метода *SX*."
   ]
  },
  {
   "cell_type": "markdown",
   "metadata": {},
   "source": [
    "**n = 149:**\n",
    "\n",
    "$x^{149} = x \\cdot x^{148}$ <br>\n",
    "$x^{148} = ((x^2)^2)^{37}$ <br>\n",
    "$((x^2)^2)^{37} = ((x^2)^2) \\cdot ((x^2)^2)^{36}$ <br>\n",
    "$((x^2)^2)^{36} = (((((x^2)^2)^2)^2)^3)^3$\n",
    "\n",
    "Рассчитаем нужные значения: <br>\n",
    "$x^2 \\rightarrow x, x^2$ (+1 операция) <br>\n",
    "$(x^2)^2 \\rightarrow x^2, (x^2)^2$ (+1 операция) <br>\n",
    "$((x^2)^2)^2 \\rightarrow (x^2)^2, ((x^2)^2)^2$ (+1 операция) <br>\n",
    "$(((x^2)^2)^2)^2 \\rightarrow ((x^2)^2)^2, (((x^2)^2)^2)^2$ (+1 операция)<br>\n",
    "$((((x^2)^2)^2)^2)^3 \\rightarrow (((x^2)^2)^2)^2, ((((x^2)^2)^2)^2)^2, ((((x^2)^2)^2)^2)^3$ (+2 операции) <br>\n",
    "$(((((x^2)^2)^2)^2)^3)^3 \\rightarrow ((((x^2)^2)^2)^2)^3, (((((x^2)^2)^2)^2)^3)^2, (((((x^2)^2)^2)^2)^3)^3$ (+2 операции) <br>\n",
    "$(((((x^2)^2)^2)^2)^3)^3 = ((x^2)^2)^{36}$ <br>\n",
    "$((x^2)^2)^{37} = ((x^2)^2) \\cdot ((x^2)^2)^{36} \\rightarrow ((x^2)^2)^{36}, ((x^2)^2)^{37}$ (+1 операция) <br>\n",
    "$x^{149} = x \\cdot x^{140} \\rightarrow x^{148}, x^{149}$ (+1 операция) <br>\n",
    "Итого 10 операций.\n",
    "\n",
    "#### Вывод\n",
    "\n",
    "Рассмотрен метод множителей для нескольких $n$, в ходе исследования стало понятно, что по скорости метод множителей либо идентичен, либо быстрее метода *SX*. Однако, в большинстве случаев он менее предпочтителен из-за более сложной реализации."
   ]
  },
  {
   "cell_type": "markdown",
   "metadata": {},
   "source": [
    "### 5. Дерево степеней\n",
    "\n",
    "Разработаем функцию, реализующую бпостроение дерева степеней:"
   ]
  },
  {
   "cell_type": "code",
   "execution_count": 8,
   "metadata": {},
   "outputs": [],
   "source": [
    "def Tree_method(k):\n",
    "    tree = {1:[1]}\n",
    "    leafs = [1]\n",
    "    for _ in range(k):\n",
    "        new_leafs = []\n",
    "        for el in leafs:\n",
    "            for parent in tree[el]:\n",
    "                tmp = el+parent\n",
    "                if tmp not in tree:\n",
    "                    new_leafs.append(tmp)\n",
    "                    tree[tmp] = tree[el]+[tmp]\n",
    "        leafs = new_leafs\n",
    "    return tree"
   ]
  },
  {
   "cell_type": "markdown",
   "metadata": {},
   "source": [
    "Напишем функцию ***show_tree(tree, n)***, осуществляющую отображение полученного дерева и выделение пути до необходимой выершины."
   ]
  },
  {
   "cell_type": "code",
   "execution_count": 20,
   "metadata": {},
   "outputs": [],
   "source": [
    "def show_tree(tree, n):\n",
    "    tmp_tree = tree.copy()\n",
    "    tmp_tree.pop(1)\n",
    "    graph = {}\n",
    "    for item, parents in tmp_tree.items():\n",
    "        if not graph.get(parents[-2]):\n",
    "            graph[parents[-2]] = [item]\n",
    "        else:\n",
    "            graph[parents[-2]].append(item)\n",
    "    res_graph = Graph(graph)\n",
    "    col_tree = res_graph.plot(layout='tree', tree_root=1, vertex_color='white', vertex_colors={'green': tree[n]})\n",
    "    col_tree.show()"
   ]
  },
  {
   "cell_type": "markdown",
   "metadata": {},
   "source": [
    "Проведём тестирование реализованных функций на использованных ранее значениях $n = 8, 93, 149$."
   ]
  },
  {
   "cell_type": "code",
   "execution_count": 32,
   "metadata": {},
   "outputs": [
    {
     "data": {
      "image/png": "[encoded data removed]",
      "text/plain": [
       "Graphics object consisting of 42 graphics primitives"
      ]
     },
     "metadata": {},
     "output_type": "display_data"
    }
   ],
   "source": [
    "show_tree(Tree_method(5), 8)"
   ]
  },
  {
   "cell_type": "markdown",
   "metadata": {},
   "source": [
    "На графе видно, что, для получения $x^8$ цепочка будет следующей:\n",
    "\n",
    "$x \\rightarrow x^2 \\rightarrow x^4 \\rightarrow x^8$\n",
    "\n",
    "Количество операций - 3. Для этого же числа методу *SX* потребовалось 3 операции, методу возведения в степень справа-налево - 4, а методу множителей - 3.\n",
    "\n",
    "#### Вывод\n",
    "\n",
    "Реализован метод возведения в степень при помощи дерева степеней. Обнаружено, что данный метод не медленее методов *SX*, возведения в степень справа-налево и метода множителей."
   ]
  },
  {
   "cell_type": "markdown",
   "metadata": {},
   "source": [
    "## Выводы\n",
    "\n",
    "В ходе выполнения работы были сформированы знания о работе алгоритмов вычисления мономов за минимальное число операций, привит навык использования системы компьютерной математики *SageMath* для реализации алгоритмов. <br>\n",
    "Реализованы такии алгоритмы как: бинарный метод *SX*, бинарный метод возвдения в степень справа-налево, метод множителей, а также метод возведения в степень с использованием дерева степеней. Также проведено сравнение теоретической и практической сложностей упомянутых алгоритмов."
   ]
  }
 ],
 "metadata": {
  "kernelspec": {
   "display_name": "SageMath 9.3",
   "language": "sage",
   "name": "sagemath"
  },
  "language_info": {
   "codemirror_mode": {
    "name": "ipython",
    "version": 3
   },
   "file_extension": ".py",
   "mimetype": "text/x-python",
   "name": "python",
   "nbconvert_exporter": "python",
   "pygments_lexer": "ipython3",
   "version": "3.7.10"
  }
 },
 "nbformat": 4,
 "nbformat_minor": 4
}
