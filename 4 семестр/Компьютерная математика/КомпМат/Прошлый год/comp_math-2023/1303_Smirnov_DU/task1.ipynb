{
 "cells": [
  {
   "cell_type": "markdown",
   "metadata": {},
   "source": [
    "# Практическая работа №1: Алгоритмы эффективного вычисления одночленов\n",
    "\n",
    "Выполнил студент гр. 1303 Смирнов Дмитрий. Вариант №19."
   ]
  },
  {
   "cell_type": "markdown",
   "metadata": {},
   "source": [
    "## Цель работы\n",
    "\n",
    "Сформировать знания о работе алгоритмах вычисления одночленов за\n",
    "минимальное число операций, привить навык использования систем ком-\n",
    "пьютерной математики для реализации алгоритмов."
   ]
  },
  {
   "cell_type": "markdown",
   "metadata": {},
   "source": [
    "## Основные теоретические положения\n",
    "\n",
    "Рассмотрим методы вычисления одночленов за минимальное число операций, а также приведём некоторые оценки количества операций для вычисления одночленов.\n",
    "\n",
    "Введём понятия для оценки числа операций:\n",
    "\n",
    "$\\lambda(n) = \\lfloor \\mathrm{lb}(n) \\rfloor$ - уменьшенная на еденицу бинарная запись $n$<br>\n",
    "$\\nu(n)$ - вес Хэмминга для бинарной записи числа $n$ (число единиц в бинарной записи)"
   ]
  },
  {
   "cell_type": "markdown",
   "metadata": {},
   "source": [
    "### Бинарный метод \\\"SX\\\"\n",
    "\n",
    "Алгоритм для возведения в степень $n$ бинарным методом $SX$:\n",
    "<ol>\n",
    "<li>Представим $n$ в бинарном виде $n = (a_{m}a_{m-1} ... a_{1})_{2} = a_{m}2^{m-1} + a_{m-1}2^{m-2} + ... + a_{2}2 + a_{1} $, при том $a_{m} = 1$</li>\n",
    "<li>Отбросим старший бит $a_{m}$</li>\n",
    "<li>\n",
    "    Делаем замену в бинарной записи $ n:$\n",
    "    <center>\n",
    "        $a_{i} = 1 \\Rightarrow a_{i} = SX$<br>\n",
    "        $a_{i} = 0 \\Rightarrow a_{i} = S$\n",
    "    </center>\n",
    "</li>\n",
    "<li>\n",
    "    Вычисление:<br>\n",
    "    Начинаем с $x$<br>\n",
    "    Далее идём по преобразованной записи $n:$<br>\n",
    "    <center>\n",
    "        $a_{i} = S \\Rightarrow x = x ^ 2$<br>\n",
    "        $a_{i} = X \\Rightarrow x = x \\cdot x$\n",
    "    </center>\n",
    "    </li>\n",
    "</ol>\n",
    "\n",
    "Количество операций умножения при использовании бинарного метода равно: $\\lambda(n) + \\nu(n) - 1$\n",
    "    \n"
   ]
  },
  {
   "cell_type": "markdown",
   "metadata": {},
   "source": [
    "### Бинарный метод возведения справа налево\n",
    "\n",
    "Метод возведения справа налево осуществляет возведение некоторого числа $x$ в степень $n$ по следующему алгоритму:\n",
    "<ol>\n",
    "    <li>Начинаем с $N = n, Y = 1, Z = x$</li>\n",
    "    <li>Пока $N \\neq 0$ вычисляем новые значения: <br>\n",
    "        $\\blacktriangleright$ $N = \\bigg\\lfloor \\cfrac{N}{2} \\bigg\\rfloor; Z = Z \\cdot Z$, если $N$ - четное<br>\n",
    "        $\\blacktriangleright$ $N = \\bigg\\lfloor \\cfrac{N}{2} \\bigg\\rfloor; Y = Z \\cdot Y$, если $N$ - нечетное<br>\n",
    "    </li>\n",
    "    <li>Возвращаем $Y$ и выходим из алгоритма</li>\n",
    "</ol>\n",
    "Количество операций умножения при использовании бинарного метода равно: $\\lambda(n) + \\nu(n)$"
   ]
  },
  {
   "cell_type": "markdown",
   "metadata": {},
   "source": [
    "### Метод множителей\n",
    "Метод множителей осуществляет возведение некоторого числа в степень согласно следующему алгоритму:\n",
    "<ol>\n",
    "    <li>Представим $n$ в виде разложения $n = p \\cdot q$, где $p$ - наименьший простой множитель $n$, а $q > 1$. Таким образом, $x^n$ можно найти, вычислив $x^p$ и возведя эту величину в степень $q$</li>\n",
    "    <li>Если $n$ - простое и $n > 1$, то $ x = x^{n-1} \\cdot x$</li>\n",
    "    <li>При $n = 1$ - то нашли искомое значение</li>\n",
    "</ol>"
   ]
  },
  {
   "cell_type": "markdown",
   "metadata": {},
   "source": [
    "### Дерево степеней\n",
    "Дерево степеней строится согласно следующему алгоритму:\n",
    "<ol>\n",
    "    <li>На нулевом уровне в дереве только один узел - $1$. Это корень дерева</li>\n",
    "    <li>$k+1$-й уровень строим так: берём каждый узел $v$ на $k$-м уровне слева направо и присоединяем узлы $v+a_{0}, v+a_{1}, ..., v+a_{k-1}$, если они ещё не присутствуют в дереве.</li>\n",
    "</ol>\n",
    "Таким образом дерево степеней может быть построено до требуемого уровня"
   ]
  },
  {
   "cell_type": "markdown",
   "metadata": {},
   "source": [
    "## Постановка задачи\n",
    "\n",
    "Реализовать алгоритмы вычисления мономов за минимальное число операций с использованием системы компьютерной алгебры SageMath, провести анализ алгоритмов. Полученные результаты содержательно проинтерпретировать."
   ]
  },
  {
   "cell_type": "markdown",
   "metadata": {},
   "source": [
    "## Выполнение работы"
   ]
  },
  {
   "cell_type": "markdown",
   "metadata": {},
   "source": [
    "### 1. Бинарный метод SX\n",
    "Код реализующий данный метод представлен ниже"
   ]
  },
  {
   "cell_type": "code",
   "execution_count": 1,
   "metadata": {},
   "outputs": [],
   "source": [
    "def methodSX(n):\n",
    "    if 0 < n < 1:\n",
    "        raise ValueError\n",
    "    if n == 0:\n",
    "        return 1\n",
    "    bin_n = str(bin(n))[3:]\n",
    "    n_expressedSX = bin_n.replace('1','SX').replace('0', 'S')\n",
    "    answer = var('x')\n",
    "    print(f\"Число n представленное ввиде строки из SX:\\n{n_expressedSX}\")\n",
    "    for i, char in enumerate(n_expressedSX):\n",
    "        if char == 'S':\n",
    "            answer ^= 2\n",
    "        else:\n",
    "            answer *= x\n",
    "        print(f\"{i + 1} Итерация:\")\n",
    "        show(answer)\n",
    "    print(f\"Всего операций: {len(n_expressedSX)}\")\n",
    "    return answer"
   ]
  },
  {
   "cell_type": "markdown",
   "metadata": {},
   "source": [
    "Приведём пример работы программы на нескольких $n$, а именно $3, 17, 8$: "
   ]
  },
  {
   "cell_type": "code",
   "execution_count": 2,
   "metadata": {},
   "outputs": [
    {
     "name": "stdout",
     "output_type": "stream",
     "text": [
      "Число n представленное ввиде строки из SX:\n",
      "SX\n",
      "1 Итерация:\n"
     ]
    },
    {
     "data": {
      "text/html": [
       "<html><script type=\"math/tex; mode=display\">\\newcommand{\\Bold}[1]{\\mathbf{#1}}x^{2}</script></html>"
      ],
      "text/latex": [
       "$$\\newcommand{\\Bold}[1]{\\mathbf{#1}}x^{2}$$"
      ],
      "text/plain": [
       "x^2"
      ]
     },
     "metadata": {},
     "output_type": "display_data"
    },
    {
     "name": "stdout",
     "output_type": "stream",
     "text": [
      "2 Итерация:\n"
     ]
    },
    {
     "data": {
      "text/html": [
       "<html><script type=\"math/tex; mode=display\">\\newcommand{\\Bold}[1]{\\mathbf{#1}}x^{3}</script></html>"
      ],
      "text/latex": [
       "$$\\newcommand{\\Bold}[1]{\\mathbf{#1}}x^{3}$$"
      ],
      "text/plain": [
       "x^3"
      ]
     },
     "metadata": {},
     "output_type": "display_data"
    },
    {
     "name": "stdout",
     "output_type": "stream",
     "text": [
      "Всего операций: 2\n"
     ]
    },
    {
     "data": {
      "text/html": [
       "<html><script type=\"math/tex; mode=display\">\\newcommand{\\Bold}[1]{\\mathbf{#1}}x^{3}</script></html>"
      ],
      "text/latex": [
       "$$\\newcommand{\\Bold}[1]{\\mathbf{#1}}x^{3}$$"
      ],
      "text/plain": [
       "x^3"
      ]
     },
     "metadata": {},
     "output_type": "display_data"
    }
   ],
   "source": [
    "show(methodSX(3))"
   ]
  },
  {
   "cell_type": "markdown",
   "metadata": {},
   "source": [
    "$n = 3; \\lambda(n) = 1; \\nu(n) = 2;$ Оценка: $\\lambda(n) + \\nu(n) - 1 = 2; $ Кол-во операций совпало"
   ]
  },
  {
   "cell_type": "code",
   "execution_count": 3,
   "metadata": {
    "scrolled": false
   },
   "outputs": [
    {
     "name": "stdout",
     "output_type": "stream",
     "text": [
      "Число n представленное ввиде строки из SX:\n",
      "SSSSX\n",
      "1 Итерация:\n"
     ]
    },
    {
     "data": {
      "text/html": [
       "<html><script type=\"math/tex; mode=display\">\\newcommand{\\Bold}[1]{\\mathbf{#1}}x^{2}</script></html>"
      ],
      "text/latex": [
       "$$\\newcommand{\\Bold}[1]{\\mathbf{#1}}x^{2}$$"
      ],
      "text/plain": [
       "x^2"
      ]
     },
     "metadata": {},
     "output_type": "display_data"
    },
    {
     "name": "stdout",
     "output_type": "stream",
     "text": [
      "2 Итерация:\n"
     ]
    },
    {
     "data": {
      "text/html": [
       "<html><script type=\"math/tex; mode=display\">\\newcommand{\\Bold}[1]{\\mathbf{#1}}x^{4}</script></html>"
      ],
      "text/latex": [
       "$$\\newcommand{\\Bold}[1]{\\mathbf{#1}}x^{4}$$"
      ],
      "text/plain": [
       "x^4"
      ]
     },
     "metadata": {},
     "output_type": "display_data"
    },
    {
     "name": "stdout",
     "output_type": "stream",
     "text": [
      "3 Итерация:\n"
     ]
    },
    {
     "data": {
      "text/html": [
       "<html><script type=\"math/tex; mode=display\">\\newcommand{\\Bold}[1]{\\mathbf{#1}}x^{8}</script></html>"
      ],
      "text/latex": [
       "$$\\newcommand{\\Bold}[1]{\\mathbf{#1}}x^{8}$$"
      ],
      "text/plain": [
       "x^8"
      ]
     },
     "metadata": {},
     "output_type": "display_data"
    },
    {
     "name": "stdout",
     "output_type": "stream",
     "text": [
      "4 Итерация:\n"
     ]
    },
    {
     "data": {
      "text/html": [
       "<html><script type=\"math/tex; mode=display\">\\newcommand{\\Bold}[1]{\\mathbf{#1}}x^{16}</script></html>"
      ],
      "text/latex": [
       "$$\\newcommand{\\Bold}[1]{\\mathbf{#1}}x^{16}$$"
      ],
      "text/plain": [
       "x^16"
      ]
     },
     "metadata": {},
     "output_type": "display_data"
    },
    {
     "name": "stdout",
     "output_type": "stream",
     "text": [
      "5 Итерация:\n"
     ]
    },
    {
     "data": {
      "text/html": [
       "<html><script type=\"math/tex; mode=display\">\\newcommand{\\Bold}[1]{\\mathbf{#1}}x^{17}</script></html>"
      ],
      "text/latex": [
       "$$\\newcommand{\\Bold}[1]{\\mathbf{#1}}x^{17}$$"
      ],
      "text/plain": [
       "x^17"
      ]
     },
     "metadata": {},
     "output_type": "display_data"
    },
    {
     "name": "stdout",
     "output_type": "stream",
     "text": [
      "Всего операций: 5\n"
     ]
    },
    {
     "data": {
      "text/html": [
       "<html><script type=\"math/tex; mode=display\">\\newcommand{\\Bold}[1]{\\mathbf{#1}}x^{17}</script></html>"
      ],
      "text/latex": [
       "$$\\newcommand{\\Bold}[1]{\\mathbf{#1}}x^{17}$$"
      ],
      "text/plain": [
       "x^17"
      ]
     },
     "metadata": {},
     "output_type": "display_data"
    }
   ],
   "source": [
    "show(methodSX(17))"
   ]
  },
  {
   "cell_type": "markdown",
   "metadata": {},
   "source": [
    "$ n = 17; \\lambda(n) = 4; \\nu(n) = 2;$ Оценка: $\\lambda(n) + \\nu(n) - 1 = 5; $ Кол-во операций совпало"
   ]
  },
  {
   "cell_type": "code",
   "execution_count": 4,
   "metadata": {
    "scrolled": false
   },
   "outputs": [
    {
     "name": "stdout",
     "output_type": "stream",
     "text": [
      "Число n представленное ввиде строки из SX:\n",
      "SSS\n",
      "1 Итерация:\n"
     ]
    },
    {
     "data": {
      "text/html": [
       "<html><script type=\"math/tex; mode=display\">\\newcommand{\\Bold}[1]{\\mathbf{#1}}x^{2}</script></html>"
      ],
      "text/latex": [
       "$$\\newcommand{\\Bold}[1]{\\mathbf{#1}}x^{2}$$"
      ],
      "text/plain": [
       "x^2"
      ]
     },
     "metadata": {},
     "output_type": "display_data"
    },
    {
     "name": "stdout",
     "output_type": "stream",
     "text": [
      "2 Итерация:\n"
     ]
    },
    {
     "data": {
      "text/html": [
       "<html><script type=\"math/tex; mode=display\">\\newcommand{\\Bold}[1]{\\mathbf{#1}}x^{4}</script></html>"
      ],
      "text/latex": [
       "$$\\newcommand{\\Bold}[1]{\\mathbf{#1}}x^{4}$$"
      ],
      "text/plain": [
       "x^4"
      ]
     },
     "metadata": {},
     "output_type": "display_data"
    },
    {
     "name": "stdout",
     "output_type": "stream",
     "text": [
      "3 Итерация:\n"
     ]
    },
    {
     "data": {
      "text/html": [
       "<html><script type=\"math/tex; mode=display\">\\newcommand{\\Bold}[1]{\\mathbf{#1}}x^{8}</script></html>"
      ],
      "text/latex": [
       "$$\\newcommand{\\Bold}[1]{\\mathbf{#1}}x^{8}$$"
      ],
      "text/plain": [
       "x^8"
      ]
     },
     "metadata": {},
     "output_type": "display_data"
    },
    {
     "name": "stdout",
     "output_type": "stream",
     "text": [
      "Всего операций: 3\n"
     ]
    },
    {
     "data": {
      "text/html": [
       "<html><script type=\"math/tex; mode=display\">\\newcommand{\\Bold}[1]{\\mathbf{#1}}x^{8}</script></html>"
      ],
      "text/latex": [
       "$$\\newcommand{\\Bold}[1]{\\mathbf{#1}}x^{8}$$"
      ],
      "text/plain": [
       "x^8"
      ]
     },
     "metadata": {},
     "output_type": "display_data"
    }
   ],
   "source": [
    "show(methodSX(8))"
   ]
  },
  {
   "cell_type": "markdown",
   "metadata": {},
   "source": [
    "$ n = 8; \\lambda(n) = 3; \\nu(n) = 1;$ Оценка: $\\lambda(n) + \\nu(n) - 1 = 3; $ Кол-во операций совпало"
   ]
  },
  {
   "cell_type": "markdown",
   "metadata": {},
   "source": [
    "#### Вывод\n",
    "Реализован бинарный метод SX, корректность алгоритма проверена на тестах. Метод действительно быстрее возводит число в степень, чем последовательное возведение. Чем больше едениц в бинарной записи числа, тем больше операций алгоритм делает."
   ]
  },
  {
   "cell_type": "markdown",
   "metadata": {},
   "source": [
    "### 2. Метод возведения справа налево\n",
    "Код реализующий данный метод представлен ниже"
   ]
  },
  {
   "cell_type": "code",
   "execution_count": 5,
   "metadata": {},
   "outputs": [],
   "source": [
    "def methodRL(n):\n",
    "    N = n\n",
    "    Y = 1\n",
    "    Z = var('x')\n",
    "    i = 0\n",
    "    \n",
    "    print(\"| № | N | Y | Z |\")\n",
    "    print(\"|:--:|:--:|:--:|:--:|\")\n",
    "    print(f\"| {i} | {N} | {Y} | {Z} |\")\n",
    "    \n",
    "    while N != 0:\n",
    "        if N % 2 != 0:\n",
    "            Y *= Z\n",
    "        N //= 2 \n",
    "        Z ^= 2\n",
    "        i += 1\n",
    "        print(f\"| {i} | {N} | {Y} | {Z} |\")\n",
    "    return Y"
   ]
  },
  {
   "cell_type": "markdown",
   "metadata": {},
   "source": [
    "Приведём пример работы программы на нескольких $n$, а именно $3, 17, 8$. Для каждого $n$ выведем результат в виде таблицы.: "
   ]
  },
  {
   "cell_type": "code",
   "execution_count": 6,
   "metadata": {
    "scrolled": false
   },
   "outputs": [
    {
     "name": "stdout",
     "output_type": "stream",
     "text": [
      "| № | N | Y | Z |\n",
      "|:--:|:--:|:--:|:--:|\n",
      "| 0 | 3 | 1 | x |\n",
      "| 1 | 1 | x | x^2 |\n",
      "| 2 | 0 | x^3 | x^4 |\n"
     ]
    },
    {
     "data": {
      "text/html": [
       "<html><script type=\"math/tex; mode=display\">\\newcommand{\\Bold}[1]{\\mathbf{#1}}x^{3}</script></html>"
      ],
      "text/latex": [
       "$$\\newcommand{\\Bold}[1]{\\mathbf{#1}}x^{3}$$"
      ],
      "text/plain": [
       "x^3"
      ]
     },
     "metadata": {},
     "output_type": "display_data"
    }
   ],
   "source": [
    "show(methodRL(3))"
   ]
  },
  {
   "cell_type": "markdown",
   "metadata": {},
   "source": [
    "| № | N | Y | Z |\n",
    "|:--:|:--:|:--:|:--:|\n",
    "| 0 | 3 | 1 | x |\n",
    "| 1 | 1 | x | x^2 |\n",
    "| 2 | 0 | x^3 | x^4 |"
   ]
  },
  {
   "cell_type": "markdown",
   "metadata": {},
   "source": [
    "$n = 3; \\lambda(n) = 1; \\nu(n) = 2;$ Оценка: $\\lambda(n) + \\nu(n) = 3; $ Кол-во операций совпало"
   ]
  },
  {
   "cell_type": "code",
   "execution_count": 7,
   "metadata": {
    "scrolled": true
   },
   "outputs": [
    {
     "name": "stdout",
     "output_type": "stream",
     "text": [
      "| № | N | Y | Z |\n",
      "|:--:|:--:|:--:|:--:|\n",
      "| 0 | 17 | 1 | x |\n",
      "| 1 | 8 | x | x^2 |\n",
      "| 2 | 4 | x | x^4 |\n",
      "| 3 | 2 | x | x^8 |\n",
      "| 4 | 1 | x | x^16 |\n",
      "| 5 | 0 | x^17 | x^32 |\n"
     ]
    },
    {
     "data": {
      "text/html": [
       "<html><script type=\"math/tex; mode=display\">\\newcommand{\\Bold}[1]{\\mathbf{#1}}x^{17}</script></html>"
      ],
      "text/latex": [
       "$$\\newcommand{\\Bold}[1]{\\mathbf{#1}}x^{17}$$"
      ],
      "text/plain": [
       "x^17"
      ]
     },
     "metadata": {},
     "output_type": "display_data"
    }
   ],
   "source": [
    "show(methodRL(17))"
   ]
  },
  {
   "cell_type": "markdown",
   "metadata": {},
   "source": [
    "| № | N | Y | Z |\n",
    "|:--:|:--:|:--:|:--:|\n",
    "| 0 | 17 | 1 | x |\n",
    "| 1 | 8 | x | x^2 |\n",
    "| 2 | 4 | x | x^4 |\n",
    "| 3 | 2 | x | x^8 |\n",
    "| 4 | 1 | x | x^16 |\n",
    "| 5 | 0 | x^17 | x^32 |"
   ]
  },
  {
   "cell_type": "markdown",
   "metadata": {},
   "source": [
    "$ n = 17; \\lambda(n) = 3; \\nu(n) = 2;$ Оценка: $\\lambda(n) + \\nu(n) = 6; $ Кол-во операций совпало"
   ]
  },
  {
   "cell_type": "code",
   "execution_count": 8,
   "metadata": {
    "scrolled": false
   },
   "outputs": [
    {
     "name": "stdout",
     "output_type": "stream",
     "text": [
      "| № | N | Y | Z |\n",
      "|:--:|:--:|:--:|:--:|\n",
      "| 0 | 8 | 1 | x |\n",
      "| 1 | 4 | 1 | x^2 |\n",
      "| 2 | 2 | 1 | x^4 |\n",
      "| 3 | 1 | 1 | x^8 |\n",
      "| 4 | 0 | x^8 | x^16 |\n"
     ]
    },
    {
     "data": {
      "text/html": [
       "<html><script type=\"math/tex; mode=display\">\\newcommand{\\Bold}[1]{\\mathbf{#1}}x^{8}</script></html>"
      ],
      "text/latex": [
       "$$\\newcommand{\\Bold}[1]{\\mathbf{#1}}x^{8}$$"
      ],
      "text/plain": [
       "x^8"
      ]
     },
     "metadata": {},
     "output_type": "display_data"
    }
   ],
   "source": [
    "show(methodRL(8))"
   ]
  },
  {
   "cell_type": "markdown",
   "metadata": {},
   "source": [
    "| № | N | Y | Z |\n",
    "|:--:|:--:|:--:|:--:|\n",
    "| 0 | 8 | 1 | x |\n",
    "| 1 | 4 | 1 | x^2 |\n",
    "| 2 | 2 | 1 | x^4 |\n",
    "| 3 | 1 | 1 | x^8 |\n",
    "| 4 | 0 | x^8 | x^16 |"
   ]
  },
  {
   "cell_type": "markdown",
   "metadata": {},
   "source": [
    "$ n = 8; \\lambda(n) = 3; \\nu(n) = 1;$ Оценка: $\\lambda(n) + \\nu(n) = 4; $ Кол-во операций совпало"
   ]
  },
  {
   "cell_type": "markdown",
   "metadata": {},
   "source": [
    "#### Вывод\n",
    "Реализован бинарный метод возведения в степень справа налево. Алгоритм был проверен на 3 различных значениях. Данный метод требует на одну операцию умножения больше, чем метод $SX$."
   ]
  },
  {
   "cell_type": "markdown",
   "metadata": {},
   "source": [
    "### 3. Сравнение бинарного метода \"SX\" и метод возведения справа налево"
   ]
  },
  {
   "cell_type": "markdown",
   "metadata": {},
   "source": [
    "Число операций в методе справа налево больше, чем в методе $SX$, это заметно по оценке. Число операций в методе справа налево оценивается как $\\lambda(n) + \\nu(n)$. В методе $SX$ же число операций равно $\\lambda(n) + \\nu(n) - 1$.\n",
    "Таким образом, бинарный метод $SX$ выгоднее возведения справа налево."
   ]
  },
  {
   "cell_type": "markdown",
   "metadata": {},
   "source": [
    "### 4. Метод множителей"
   ]
  },
  {
   "cell_type": "markdown",
   "metadata": {},
   "source": [
    "Выполним метод множителей вручную для $n = 3, 17, 8$ по алгоритму, приведённому в теоретическом положении.<br>"
   ]
  },
  {
   "cell_type": "markdown",
   "metadata": {},
   "source": [
    "#### Метод множителей для n = 3:\n",
    "$x; x \\cdot x =  x^2; x \\cdot x^2 = x^3$ <br>\n",
    "Всего 2 операции"
   ]
  },
  {
   "cell_type": "markdown",
   "metadata": {},
   "source": [
    "#### Метод множителей для n = 17\n",
    "$x^{17} = x \\cdot x^{16}$ <br>\n",
    "$x^{17} = x \\cdot (x^8)^2$ <br>\n",
    "$x^{17} = x \\cdot ((x^4)^2)^2$ <br>\n",
    "$x^{17} = x \\cdot (((x^2)^2)^2)^2$ <br>\n",
    "Итого 5 операций."
   ]
  },
  {
   "cell_type": "markdown",
   "metadata": {},
   "source": [
    "#### Метод множителей для n = 8\n",
    "$x^8 = (x^4)^2$<br>\n",
    "$x^8 = ((x^2)^2)^2$ <br>\n",
    "Итого 3 операций."
   ]
  },
  {
   "cell_type": "markdown",
   "metadata": {},
   "source": [
    "#### Вывод\n",
    "Рассмотрен метод множителей для нескольких $n$. Его преимущество заключается в наглядности и простоте идеи. <br> Метод множителей в некоторых случаях может быть как быстрее, так и равен методу \"$SX$\". "
   ]
  },
  {
   "cell_type": "markdown",
   "metadata": {},
   "source": [
    "### 5. Построение дерева степеней"
   ]
  },
  {
   "cell_type": "markdown",
   "metadata": {},
   "source": [
    "Реализуем алгоритм построения дерева степеней до $k$-го уровня: <br>\n",
    "Дерево будем хранить в виде словаря, где ключами будут являться степени(узлы), а значениями - список из \"родителей\" данной вершины."
   ]
  },
  {
   "cell_type": "code",
   "execution_count": 9,
   "metadata": {},
   "outputs": [],
   "source": [
    "def treeBuilder(k):\n",
    "    tree = {1:[1]}\n",
    "    currentVertices = [1]\n",
    "    for _ in range(k):\n",
    "        tmpVertices = []\n",
    "        for vertex in currentVertices:\n",
    "            for parent in tree[vertex]:\n",
    "                tmpVertex = vertex+parent\n",
    "                if tmpVertex not in tree:\n",
    "                    tmpVertices.append(tmpVertex)\n",
    "                    tree[tmpVertex] = tree[vertex]+[tmpVertex]\n",
    "        currentVertices = tmpVertices\n",
    "    return tree"
   ]
  },
  {
   "cell_type": "code",
   "execution_count": 10,
   "metadata": {},
   "outputs": [],
   "source": [
    "def printTree(tree, path=None):\n",
    "    tmpTree = tree.copy()\n",
    "    tmpTree.pop(1)\n",
    "    printableTree = {}\n",
    "    for vertex, parents in tmpTree.items():\n",
    "        if not printableTree.get(parents[-2]):\n",
    "            printableTree[parents[-2]] = [vertex]\n",
    "        else:\n",
    "            printableTree[parents[-2]].append(vertex)\n",
    "    graph = Graph(printableTree)\n",
    "    plt = graph.plot(layout='tree', tree_root=1, vertex_color='magenta', vertex_colors={\"yellow\": tree[path]} if path else {})\n",
    "    plt.show()"
   ]
  },
  {
   "cell_type": "markdown",
   "metadata": {},
   "source": [
    "Построим дерево до 4-го уровня:"
   ]
  },
  {
   "cell_type": "code",
   "execution_count": 11,
   "metadata": {},
   "outputs": [
    {
     "data": {
      "image/png": "[encoded data removed]",
      "text/plain": [
       "Graphics object consisting of 24 graphics primitives"
      ]
     },
     "metadata": {},
     "output_type": "display_data"
    }
   ],
   "source": [
    "printTree(treeBuilder(4))"
   ]
  },
  {
   "cell_type": "markdown",
   "metadata": {},
   "source": [
    "Для того, чтобы сравнить данный метод с методами, описанными выше, протестируем его для значений $n = 3, 17, 8$."
   ]
  },
  {
   "cell_type": "code",
   "execution_count": 12,
   "metadata": {
    "scrolled": false
   },
   "outputs": [
    {
     "data": {
      "image/png": "[encoded data removed]",
      "text/plain": [
       "Graphics object consisting of 24 graphics primitives"
      ]
     },
     "metadata": {},
     "output_type": "display_data"
    }
   ],
   "source": [
    "printTree(treeBuilder(4), 3)"
   ]
  },
  {
   "cell_type": "markdown",
   "metadata": {},
   "source": [
    "Цепочка имеет вид: $x, x^2, x^3$ Количество операций 2."
   ]
  },
  {
   "cell_type": "code",
   "execution_count": 13,
   "metadata": {},
   "outputs": [
    {
     "data": {
      "image/png": "[encoded data removed]",
      "text/plain": [
       "Graphics object consisting of 42 graphics primitives"
      ]
     },
     "metadata": {},
     "output_type": "display_data"
    }
   ],
   "source": [
    "printTree(treeBuilder(5), 17)"
   ]
  },
  {
   "cell_type": "markdown",
   "metadata": {},
   "source": [
    "Цепочка имеет вид: $x, x^2, x^4, x^8, x^{16}, x^{17}$. Количество операций 5."
   ]
  },
  {
   "cell_type": "code",
   "execution_count": 14,
   "metadata": {},
   "outputs": [
    {
     "data": {
      "image/png": "[encoded data removed]",
      "text/plain": [
       "Graphics object consisting of 42 graphics primitives"
      ]
     },
     "metadata": {},
     "output_type": "display_data"
    }
   ],
   "source": [
    "printTree(treeBuilder(5), 8)"
   ]
  },
  {
   "cell_type": "markdown",
   "metadata": {},
   "source": [
    "Цепочка имеет вид: $x, x^2, x^4, x^8$. Количество операций 3."
   ]
  },
  {
   "cell_type": "markdown",
   "metadata": {},
   "source": [
    "#### Вывод\n",
    "Реализовано дерево степеней. Было выявлено, что данный метод не медленнее метода \"$SX$\" и метода множителей."
   ]
  },
  {
   "cell_type": "markdown",
   "metadata": {},
   "source": [
    "## Выводы\n",
    "Cформированы знания о работе алгоритмов вычисления мономов за минимальное число операций, привит навык использования систем компьютерной математики для реализации алгоритмов.\n",
    "Реализован бинарный метод $SX$, метод возведения в степень справа налево, рассмотрен метод множителей и реализовано \"дерево степеней\". Алгоритмы проверены на работоспособность, произведено сравнение с теоретическими положениями.<br>"
   ]
  }
 ],
 "metadata": {
  "kernelspec": {
   "display_name": "SageMath 9.3",
   "language": "sage",
   "name": "sagemath"
  },
  "language_info": {
   "codemirror_mode": {
    "name": "ipython",
    "version": 3
   },
   "file_extension": ".py",
   "mimetype": "text/x-python",
   "name": "python",
   "nbconvert_exporter": "python",
   "pygments_lexer": "ipython3",
   "version": "3.7.10"
  }
 },
 "nbformat": 4,
 "nbformat_minor": 4
}
