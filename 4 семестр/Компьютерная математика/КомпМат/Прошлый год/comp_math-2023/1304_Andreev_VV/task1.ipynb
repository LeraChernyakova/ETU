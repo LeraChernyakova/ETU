{
 "cells": [
  {
   "cell_type": "markdown",
   "metadata": {},
   "source": [
    "# Практическая работа №1: Название работы\n",
    "\n",
    "Выполнил студент гр. 1304 Андреев Вячеслав. Вариант №27."
   ]
  },
  {
   "cell_type": "markdown",
   "metadata": {},
   "source": [
    "## Цель работы\n",
    "\n",
    "Сформировать знания о работе алгоритмах вычисления одночленов за минимальное число операций, привить навык использования систем компьютерной математики для реализации алгоритмов."
   ]
  },
  {
   "cell_type": "markdown",
   "metadata": {},
   "source": [
    "## Основные теоретические положения\n",
    "\n",
    "Используемые обосначения: \\\n",
    "$\\lambda(n) = \\lfloor \\log_{2}(n) \\rfloor$ --- (длина бинарной записи n) - 1 \\\n",
    "$\\nu(n)$ --- вес Хэмминга, число единиц в бинарной записи n\n",
    "\n",
    "### Бинарный метод SX\n",
    "\n",
    "Алгоритм для возведения числа $x$ в степень $n$ бинарным методом \"SX\":\n",
    "<ol>\n",
    "    <li>Запишем $n$ в бинарном виде $n = (a_{m}, a_{m-1}, ..., a_{1})_{2}$, $a_{m} = 1$</li>\n",
    "    <li>В полученной записи отбросим старший бит</li>\n",
    "    <li>Произведем замены в записи:<br>\n",
    "        $a_{i} = 1 \\Rightarrow a_{i} = SX$<br>\n",
    "        $a_{i} = 0 \\Rightarrow a_{i} = S$\n",
    "    <li>Выполним вычисления:<br>\n",
    "        result = $x$ <br>\n",
    "        Идём по преобразованной записи $n$:<br>\n",
    "        $a_{i} = S \\Rightarrow result = result ^ 2$<br>\n",
    "        $a_{i} = X \\Rightarrow result = result * x$\n",
    "    </li>\n",
    "</ol>\n",
    "Число операций для бинарного метода $SX = \\lambda(n) + \\nu(n) - 1$\n",
    "    \n",
    "### Бинарный метод возведения справа налево \n",
    "Алгоритм для возведения числа $x$ в степень $n$ методом справа налево:\n",
    "<ol>\n",
    "    <li>Начальные значения:<br>\n",
    "        $N = n$<br> \n",
    "        $Y = 1$<br>\n",
    "        $Z = x$\n",
    "    </li>\n",
    "    <li>$N$ чётно?<br>\n",
    "        дa) переходим на пункт 3<br>\n",
    "        нет) переходим на пункт 4\n",
    "    </li>\n",
    "    <li>$N = \\lfloor N/2 \\rfloor$<br>\n",
    "        $Z = Z * Z$<br>\n",
    "        переходим на пункт 2\n",
    "    </li>\n",
    "    <li>$N = \\lfloor N/2 \\rfloor$<br>\n",
    "        $Y = Z * Y$\n",
    "    </li>\n",
    "    <li>$N == 0$?<br>\n",
    "        да) $Y$ - ответ и выходим из алгоритма<br>\n",
    "        нет) $Z = Z * Z$ и переходим на пункт 2\n",
    "    </li>\n",
    "</ol>\n",
    "Число операций для бинарного метода справа налево $ = \\lambda(n) + \\nu(n)$\n",
    "\n",
    "### Метод простых множителей\n",
    "Алгоритм для возведения числа $x$ в степень $n$ методом множителей:\n",
    "<ol>\n",
    "    <li>Представим $n$ как $n = p * q$, где<br>\n",
    "        $p$ - наименьший простой множитель $n$,<br>\n",
    "        $q > 1$.<br>\n",
    "        $x^n = (x^p)^q$\n",
    "    </li>\n",
    "    <li>Если $n$ - простое, то $x^n = x^{n-1} * x$</li>\n",
    "    <li>Если $n = 1$, то $x^n = x$</li>\n",
    "</ol>\n",
    "Таким образом можно на любом шаге раскладывать $p$, тем самым вычисляя $x^n$.\n",
    "\n",
    "### Дерево степеней\n",
    "Алгоритм построения дерева степеней до $k$-го уровня:\n",
    "<ol>\n",
    "    <li>Корень дерева $ = 1$ $(k = 0)$.</li>\n",
    "    <li>Уровень $k+1$: для каждого узла $n$ на $k$-м уровне слева направо присоединяем узлы, которые образуют путь от корня до $n$ $(n+a_{1}, ..., n+a_{k})$</li>\n",
    "    <li>Если узел уже есть в дереве, то он не добавляется</li>\n",
    "</ol>\n"
   ]
  },
  {
   "cell_type": "markdown",
   "metadata": {},
   "source": [
    "## Постановка задачи\n",
    "\n",
    "Реализовать алгоритмы вычисления мономов за минимальное число операций с использованием системы компьютерной алгебры SageMath, провести анализ алгоритмов. Полученные результаты содержательно проинтерпретировать."
   ]
  },
  {
   "cell_type": "markdown",
   "metadata": {},
   "source": [
    "## Выполнение работы\n",
    "\n",
    "### Бинарный метод SX\n",
    "Функция *SxMethod* принимает на вход:<br>\n",
    "*arg* - выражение для возведения в степень.<br>\n",
    "*n* - целую степень, в которую нужно возвести *arg*.<br>\n",
    "\n",
    "В ходе работы алгоритм выводит полученный \"SX\" формат и значение выражения на каждой итерации."
   ]
  },
  {
   "cell_type": "code",
   "execution_count": 32,
   "metadata": {},
   "outputs": [
    {
     "data": {
      "text/plain": [
       "x"
      ]
     },
     "execution_count": 32,
     "metadata": {},
     "output_type": "execute_result"
    }
   ],
   "source": [
    "# create needed variables\n",
    "var('x')"
   ]
  },
  {
   "cell_type": "code",
   "execution_count": 33,
   "metadata": {},
   "outputs": [],
   "source": [
    "def SxMethod(arg, n):\n",
    "    if n < 1:\n",
    "        return 1\n",
    "    BinaryN = str(bin(n))[3:] # remove first bit and added str convertion chars\n",
    "    SXStr = BinaryN.replace('1','SX').replace('0', 'S') # convert binary format into SX format\n",
    "    print(SXStr)\n",
    "        \n",
    "    # process SX method\n",
    "    LResult = arg\n",
    "    for i in range(len(SXStr)):\n",
    "        if SXStr[i] == 'X':\n",
    "            LResult *= arg\n",
    "        else:\n",
    "            LResult ^= 2\n",
    "        print(i, \" : \", LResult)\n",
    "    return LResult"
   ]
  },
  {
   "cell_type": "code",
   "execution_count": 34,
   "metadata": {},
   "outputs": [
    {
     "name": "stdout",
     "output_type": "stream",
     "text": [
      "SSSXS\n",
      "0  :  x^2\n",
      "1  :  x^4\n",
      "2  :  x^8\n",
      "3  :  x^9\n",
      "4  :  x^18\n",
      "x^18\n"
     ]
    }
   ],
   "source": [
    "print(SxMethod(x, 18))"
   ]
  },
  {
   "cell_type": "code",
   "execution_count": 75,
   "metadata": {},
   "outputs": [
    {
     "name": "stdout",
     "output_type": "stream",
     "text": [
      "SSSSXSSX\n",
      "0  :  x^2\n",
      "1  :  x^4\n",
      "2  :  x^8\n",
      "3  :  x^16\n",
      "4  :  x^17\n",
      "5  :  x^34\n",
      "6  :  x^68\n",
      "7  :  x^69\n",
      "x^69\n"
     ]
    }
   ],
   "source": [
    "print(SxMethod(x, 69))"
   ]
  },
  {
   "cell_type": "code",
   "execution_count": 76,
   "metadata": {},
   "outputs": [
    {
     "name": "stdout",
     "output_type": "stream",
     "text": [
      "SXSXSS\n",
      "0  :  x^2\n",
      "1  :  x^3\n",
      "2  :  x^6\n",
      "3  :  x^7\n",
      "4  :  x^14\n",
      "5  :  x^28\n",
      "x^28\n"
     ]
    }
   ],
   "source": [
    "print(SxMethod(x, 28))"
   ]
  },
  {
   "cell_type": "markdown",
   "metadata": {},
   "source": [
    "Сравним полученные результаты с теоретическими положениями:<br>\n",
    "$n = 18 \\Rightarrow \\lambda(n) = \\lfloor \\log_{2}(n) \\rfloor = 4; \\nu(n) = 2; \\lambda(n) + \\nu(n) - 1 = 5$<br>\n",
    "$n = 69 \\Rightarrow \\lambda(n) = \\lfloor \\log_{2}(n) \\rfloor = 6; \\nu(n) = 3; \\lambda(n) + \\nu(n) - 1 = 8$<br>\n",
    "$n = 28 \\Rightarrow \\lambda(n) = \\lfloor \\log_{2}(n) \\rfloor = 5; \\nu(n) = 2; \\lambda(n) + \\nu(n) - 1 = 6$<br>\n",
    "\n",
    "Теоретические положения совпали с результатом работы алгоритма.\n",
    "\n",
    "#### Вывод\n",
    "Реализован бинарный метод \"SX\", проведено тестирование алгоритма. Теоретические положения о количестве операций совпали с практической работой алгоритма. Данный метод довольно прост в реализации, кроме того можно легко узнать, за сколько итераций будет произведён расчёт."
   ]
  },
  {
   "cell_type": "markdown",
   "metadata": {},
   "source": [
    "### 2. Бинарный метод возведения справа налево\n",
    "Функция *RightToLeftMethod* принимает на вход:<br>\n",
    "*arg* - выражение для возведения в степень.<br>\n",
    "*n* - целую степень, в которую нужно возвести *arg*.<br>\n",
    "\n",
    "Сначала алгоритм производит инициализацию, согласно пункту 1.<br>\n",
    "В ходе работы алгоритм выводит промежуточные значения N, Y, Z на каждой итерации."
   ]
  },
  {
   "cell_type": "code",
   "execution_count": 37,
   "metadata": {},
   "outputs": [],
   "source": [
    "def RightToLeftMethod(arg, n):\n",
    "    # init algorithm\n",
    "    N = n\n",
    "    Y = 1\n",
    "    Z = arg\n",
    "    Iteration = 0\n",
    "    \n",
    "    #process right to left method\n",
    "    while N != 0:\n",
    "        print(\"{Iteration}: N = {N} Y = {Y} Z = {Z}\".format(Iteration = str(Iteration), N = str(N), Y = str(Y), Z = str(Z)))\n",
    "        if N % 2 == 0:\n",
    "            N = floor(N / 2)\n",
    "            Z *= Z\n",
    "        else:\n",
    "            N = floor(N / 2)\n",
    "            Y *= Z\n",
    "            Z *= Z\n",
    "        Iteration += 1   \n",
    "    print(\"{Iteration}: N = {N} Y = {Y} Z = {Z}\".format(Iteration = str(Iteration), N = str(N), Y = str(Y), Z = str(Z)))\n",
    "    return Y"
   ]
  },
  {
   "cell_type": "code",
   "execution_count": 38,
   "metadata": {},
   "outputs": [
    {
     "name": "stdout",
     "output_type": "stream",
     "text": [
      "0: N = 18 Y = 1 Z = x\n",
      "1: N = 9 Y = 1 Z = x^2\n",
      "2: N = 4 Y = x^2 Z = x^4\n",
      "3: N = 2 Y = x^2 Z = x^8\n",
      "4: N = 1 Y = x^2 Z = x^16\n",
      "5: N = 0 Y = x^18 Z = x^32\n",
      "x^18\n"
     ]
    }
   ],
   "source": [
    "print(RightToLeftMethod(x, 18))"
   ]
  },
  {
   "cell_type": "markdown",
   "metadata": {},
   "source": [
    "Результат работы алгоритма для n = 18:\n",
    "\n",
    "| № итерации | Значение N | Значение Y | Значение Z |\n",
    "|:----------:|:----------:|:----------:|:----------:|\n",
    "|      0     |     18     |      1     |       $x$  |\n",
    "|      1     |      9     |      1     |   $x^{2}$  |\n",
    "|      2     |      4     |   $x^{2}$  |   $x^{4}$  |\n",
    "|      3     |      2     |   $x^{2}$  |   $x^{8}$  |\n",
    "|      4     |      1     |   $x^{2}$  |   $x^{16}$ |\n",
    "|      5     |      0     |   $x^{18}$ |   $x^{32}$ |"
   ]
  },
  {
   "cell_type": "code",
   "execution_count": 39,
   "metadata": {},
   "outputs": [
    {
     "name": "stdout",
     "output_type": "stream",
     "text": [
      "0: N = 69 Y = 1 Z = x\n",
      "1: N = 34 Y = x Z = x^2\n",
      "2: N = 17 Y = x Z = x^4\n",
      "3: N = 8 Y = x^5 Z = x^8\n",
      "4: N = 4 Y = x^5 Z = x^16\n",
      "5: N = 2 Y = x^5 Z = x^32\n",
      "6: N = 1 Y = x^5 Z = x^64\n",
      "7: N = 0 Y = x^69 Z = x^128\n",
      "x^69\n"
     ]
    }
   ],
   "source": [
    "print(RightToLeftMethod(x, 69))"
   ]
  },
  {
   "cell_type": "markdown",
   "metadata": {},
   "source": [
    "Результат работы алгоритма для n = 69:\n",
    "\n",
    "| № итерации | Значение N | Значение Y | Значение Z |\n",
    "|:----------:|:----------:|:----------:|:----------:|\n",
    "|      0     |     69     |      1     |       $x$  |\n",
    "|      1     |     34     |     $x$    |   $x^{2}$  |\n",
    "|      2     |     17     |     $x$    |   $x^{4}$  |\n",
    "|      3     |      8     |   $x^{5}$  |   $x^{8}$  |\n",
    "|      4     |      4     |   $x^{5}$  |   $x^{16}$ |\n",
    "|      5     |      2     |   $x^{5}$  |   $x^{32}$ |\n",
    "|      6     |      1     |   $x^{5}$  |   $x^{64}$ |\n",
    "|      7     |      0     |   $x^{69}$ |  $x^{128}$ |"
   ]
  },
  {
   "cell_type": "code",
   "execution_count": 40,
   "metadata": {},
   "outputs": [
    {
     "name": "stdout",
     "output_type": "stream",
     "text": [
      "0: N = 28 Y = 1 Z = x\n",
      "1: N = 14 Y = 1 Z = x^2\n",
      "2: N = 7 Y = 1 Z = x^4\n",
      "3: N = 3 Y = x^4 Z = x^8\n",
      "4: N = 1 Y = x^12 Z = x^16\n",
      "5: N = 0 Y = x^28 Z = x^32\n",
      "x^28\n"
     ]
    }
   ],
   "source": [
    "print(RightToLeftMethod(x, 28))"
   ]
  },
  {
   "cell_type": "markdown",
   "metadata": {},
   "source": [
    "Результат работы алгоритма для n = 28\n",
    "\n",
    "| № итерации | Значение N | Значение Y | Значение Z |\n",
    "|:----------:|:----------:|:----------:|:----------:|\n",
    "|      0     |     28     |      1     |       $x$  |\n",
    "|      1     |     14     |      1     |   $x^{2}$  |\n",
    "|      2     |      7     |      1     |   $x^{4}$  |\n",
    "|      3     |      3     |   $x^{4}$  |   $x^{8}$  |\n",
    "|      4     |      1     |  $x^{12}$  |   $x^{16}$ |\n",
    "|      5     |      0     |  $x^{28}$  |   $x^{32}$ |"
   ]
  },
  {
   "cell_type": "markdown",
   "metadata": {},
   "source": [
    "Сравним полученные результаты с теоретическими положениями:<br>\n",
    "$n = 18 \\Rightarrow \\lambda(n) = \\lfloor \\log_{2}(n) \\rfloor = 4; \\nu(n) = 2; \\lambda(n) + \\nu(n) = 6$<br>\n",
    "$n = 69 \\Rightarrow \\lambda(n) = \\lfloor \\log_{2}(n) \\rfloor = 6; \\nu(n) = 3; \\lambda(n) + \\nu(n) = 9$<br>\n",
    "$n = 28 \\Rightarrow \\lambda(n) = \\lfloor \\log_{2}(n) \\rfloor = 5; \\nu(n) = 2; \\lambda(n) + \\nu(n) = 7$<br>\n",
    "\n",
    "Теоретические положения совпали с результатом работы алгоритма.\n",
    "\n",
    "#### Вывод\n",
    "Реализован бинарный метод возведения справа налево, проведено тестирование алгоритма. Теоретические положения о количестве операций совпали с практической работой алгоритма. Данный метод является менее простым для понимания, нежели метод возведения \"SX\", кроме того он требует на одну итерацию больше, что подтверждено на практике. Число итераций, за сколько будет произведён расчёт, можно также легко подсчитать по формуле."
   ]
  },
  {
   "cell_type": "markdown",
   "metadata": {},
   "source": [
    "### 3. Сравнение бинарного метода \"SX\" и метода возведения справа налево\n",
    "\n",
    "Число операций в методе справа налево больше, чем в методе \"SX\". \n",
    "Число итераций в методе справа налево можно оценить как $\\lfloor \\log_{2}(n) \\rfloor + 2$. В методе \"SX\" же число итераций равно $\\lambda(n) + \\nu(n) - 1$.\n",
    "Таким образом, бинарный метод \"SX\" выгоднее метода возведения справа налево."
   ]
  },
  {
   "cell_type": "markdown",
   "metadata": {},
   "source": [
    "### 4. Метод множителей\n",
    "\n",
    "Проведем работу метода множителей вручную для $n = 18, n = 69, n = 28$."
   ]
  },
  {
   "cell_type": "markdown",
   "metadata": {},
   "source": [
    "#### Метод множителей для n = 18:\n",
    "\n",
    "$x^{18} = (x^{9})^{2}$<br>\n",
    "$x^{9} = (x^{3})^{3}$<br>\n",
    "$x^{3} = x * x^{2}$<br>\n",
    "\n",
    "$x^{3} \\rightarrow x, x^{2}, x^{3}$ (2 операции)<br>\n",
    "$x^{9} \\rightarrow x^{3}, (x^{3})^{2}, (x^{3})^{3}$ (2 операции)<br>\n",
    "$x^{18} \\rightarrow x^{9}, (x^{9})^{2}$ (1 операция)<br>\n",
    "\n",
    "Итого 5 операций.<br>\n",
    "Данный пример демонстрирует, что метод множителей может работать также как и метода \"SX\".<br>\n",
    "И быстрее метода возведения в степень справа налево (за 6 операций)."
   ]
  },
  {
   "cell_type": "markdown",
   "metadata": {},
   "source": [
    "#### Метод множителей для n = 69:\n",
    "\n",
    "$x^{69} = (x^{23})^{3}$<br>\n",
    "$x^{23} = x * x^{22}$<br>\n",
    "$x^{22} = (x^{11})^{2}$<br>\n",
    "$x^{11} = x * x^{10}$<br>\n",
    "$x^{10} = (x^{5})^{2}$<br>\n",
    "$x^{5} = x * x^{4}$<br>\n",
    "$x^{4} = (x^{2})^{2}$<br>\n",
    "\n",
    "$x^{4} \\rightarrow x, x^{2}, x^{4}$ (2 операции)<br>\n",
    "$x^{5} \\rightarrow x^{4}, x^{5}$ (1 операция)<br>\n",
    "$x^{10} \\rightarrow x^{5}, x^{10}$ (1 операция)<br>\n",
    "$x^{11} \\rightarrow x^{10}, x^{11}$ (1 операция)<br>\n",
    "$x^{22} \\rightarrow x^{11}, x^{22}$ (1 операция)<br>\n",
    "$x^{23} \\rightarrow x^{22}, x^{23}$ (1 операция)<br>\n",
    "$x^{69} \\rightarrow x^{23}, (x^{23})^{2}, (x^{23})^{3}$ (2 операции)<br>\n",
    "\n",
    "Итого 9 операций.<br>\n",
    "Данный пример демонстрирует, что метод множителей может работать медленнее метода \"SX\"(8 операций).<br>\n",
    "И также как и метод возведения в степень справа налево."
   ]
  },
  {
   "cell_type": "markdown",
   "metadata": {},
   "source": [
    "#### Метод множителей для n = 28:\n",
    "\n",
    "$x^{28} = (x^{14})^{2}$<br>\n",
    "$x^{14} = (x^{7})^{2}$<br>\n",
    "$x^{7} = x * x^{6}$<br>\n",
    "$x^{6} = (x^{3})^{2}$<br>\n",
    "$x^{3} = x * x^{2}$<br>\n",
    "\n",
    "$x^{3} \\rightarrow x, x^{2}, x^{3}$ (2 операции)<br>\n",
    "$x^{6} \\rightarrow x^{3}, x^{6} $ (1 операция)<br>\n",
    "$x^{7} \\rightarrow x^{6}, x^{7}$ (1 операция)<br>\n",
    "$x^{14} \\rightarrow x^{7}, x^{14}$ (1 операция)<br>\n",
    "$x^{28} \\rightarrow x^{14}, x^{28}$ (1 операция)<br>\n",
    "\n",
    "Итого 6 операций.<br>"
   ]
  },
  {
   "cell_type": "markdown",
   "metadata": {},
   "source": [
    "#### Метод множителей для n = 15:\n",
    "\n",
    "$x^{15} = (x^{5})^{3}$<br>\n",
    "$x^{5} = x * x^{4}$<br>\n",
    "\n",
    "$x^{5} \\rightarrow x, x^{2}, x^{4}, x^{5}$ (3 операции)<br>\n",
    "$x^{15} \\rightarrow x^{5}, x^{10}, x^{15} $ (2 операция)<br>\n",
    "\n",
    "Итого 5 операций.<br>\n",
    "Данный пример демонстрирует, что метод множителей может работать быстрее метода \"SX\"(6 операций)."
   ]
  },
  {
   "cell_type": "code",
   "execution_count": 41,
   "metadata": {},
   "outputs": [
    {
     "name": "stdout",
     "output_type": "stream",
     "text": [
      "SXSXSX\n",
      "0  :  x^2\n",
      "1  :  x^3\n",
      "2  :  x^6\n",
      "3  :  x^7\n",
      "4  :  x^14\n",
      "5  :  x^15\n",
      "x^15\n"
     ]
    }
   ],
   "source": [
    "print(SxMethod(x, 15))"
   ]
  },
  {
   "cell_type": "markdown",
   "metadata": {},
   "source": [
    "#### Вывод\n",
    "\n",
    "Рассмотрен метод множителей для некоторых n. Алгоритм довольно наглядный, что позволяет легко посчитать количество операций для возведения числа в степень \"руками\". Метод множителей может быть быстрее, чем метод \"SX\", но иногда может проигрывать другим методам. Метод множителей довольно сложен в реализации."
   ]
  },
  {
   "cell_type": "markdown",
   "metadata": {},
   "source": [
    "### 5. Построение дерева степеней\n",
    "\n",
    "Функция *GetNodeWithAllParents* возвращает список всех родителей данного узла в порядке от корня до текущего (включая его).<br>\n",
    "Принимает на вход:<br>\n",
    "*Tree* - дерево, в котором расположен узел.<br>\n",
    "*Node* - Узел, для которого нужно построить список родителей.<br>\n",
    "\n",
    "Функция *GetPathToNodeEdges* возвращает путь до данного узла в виде списка ребер.<br>\n",
    "Принимает на вход:<br>\n",
    "*Tree* - дерево, в котором расположен узел.<br>\n",
    "*Node* - Узел, для которого нужно построить список ребер.<br>\n",
    "\n",
    "Функция *CreateTree* строит дерево до указанного уровня.<br>\n",
    "Принимает на вход:<br>\n",
    "*Level* - уровень, до которого строить дерево.<br>\n",
    "\n",
    "Реализайия алгоритма построения дерева степеней:\n",
    "- Для хранения дерева используется словарь вида {узел: список родителей}.\n",
    "- Перебираются уровни от 0 до *Level*, где просматриваются все возможные новые элементы, которые можно вставить на следующий уровень. \n",
    "- Элемент добавляется, если его еще не было в дереве.\n",
    "\n",
    "\n",
    "Функция *PlotTree* выводит на экран дерево с отображением пути от корня до указанного узла.<br>\n",
    "Принимает на вход:<br>\n",
    "*Tree* - дерево, в котором расположен узел.<br>\n",
    "*PathEndNode* - Узел конца пути.<br>"
   ]
  },
  {
   "cell_type": "code",
   "execution_count": 44,
   "metadata": {},
   "outputs": [],
   "source": [
    "def GetNodeWithAllParents(Tree, Node):\n",
    "    LResult = [Node]\n",
    "    while Node != 1:\n",
    "        Node = Tree[Node][0]\n",
    "        LResult.append(Node)\n",
    "    return LResult[::-1] # reverse to have sequence start from root\n",
    "\n",
    "def GetPathToNodeEdges(Tree, Node):\n",
    "    LParentsList = GetNodeWithAllParents(Tree, Node)\n",
    "    LResult = []\n",
    "    for i in range(len(LParentsList) - 1):\n",
    "        LResult.append((LParentsList[i], LParentsList[i + 1]))\n",
    "    return LResult\n",
    "\n",
    "def CreateTree(Level):\n",
    "    LTree = {1:[]} \n",
    "    LLevelNodes = [1]\n",
    "    for l in range(Level):\n",
    "        LNextLevelNodes = []\n",
    "        for LNode in LLevelNodes:\n",
    "            for LParentNode in GetNodeWithAllParents(LTree, LNode):\n",
    "                LNewNode = LNode + LParentNode\n",
    "                if LNewNode in LTree:\n",
    "                    continue\n",
    "                LTree[LNewNode] = [LNode]\n",
    "                LNextLevelNodes.append(LNewNode)\n",
    "        LLevelNodes = LNextLevelNodes\n",
    "    return LTree\n",
    "\n",
    "def PlotTree(Tree, PathEndNode):\n",
    "    P = Graph(Tree).plot(layout = 'tree', tree_root = 1, vertex_color = 'white', by_component = True, edge_colors={(1, 0, 1): GetPathToNodeEdges(Tree, PathEndNode)})\n",
    "    P.show()"
   ]
  },
  {
   "cell_type": "code",
   "execution_count": 49,
   "metadata": {},
   "outputs": [
    {
     "data": {
      "image/png": "[encoded data removed]",
      "text/plain": [
       "Graphics object consisting of 42 graphics primitives"
      ]
     },
     "metadata": {},
     "output_type": "display_data"
    }
   ],
   "source": [
    "PlotTree(CreateTree(5), 9)"
   ]
  },
  {
   "cell_type": "code",
   "execution_count": 54,
   "metadata": {},
   "outputs": [
    {
     "name": "stdout",
     "output_type": "stream",
     "text": [
      "[1, 2, 3, 6, 9]\n"
     ]
    }
   ],
   "source": [
    "print(GetNodeWithAllParents(CreateTree(5), 9))"
   ]
  },
  {
   "cell_type": "markdown",
   "metadata": {},
   "source": [
    "Цепочка: $x, x^{2}, x^{3}, x^{6}, x^{9}$."
   ]
  },
  {
   "cell_type": "code",
   "execution_count": 58,
   "metadata": {},
   "outputs": [
    {
     "data": {
      "image/png": "[encoded data removed]",
      "text/plain": [
       "Graphics object consisting of 72 graphics primitives"
      ]
     },
     "metadata": {},
     "output_type": "display_data"
    }
   ],
   "source": [
    "PlotTree(CreateTree(6), 28)"
   ]
  },
  {
   "cell_type": "code",
   "execution_count": 59,
   "metadata": {},
   "outputs": [
    {
     "name": "stdout",
     "output_type": "stream",
     "text": [
      "[1, 2, 3, 5, 7, 14, 28]\n"
     ]
    }
   ],
   "source": [
    "print(GetNodeWithAllParents(CreateTree(6), 28))"
   ]
  },
  {
   "cell_type": "markdown",
   "metadata": {},
   "source": [
    "Цепочка: $x, x^{2}, x^{3}, x^{5}, x^{7}, x^{14}, x^{28}$."
   ]
  },
  {
   "cell_type": "markdown",
   "metadata": {},
   "source": [
    "Сравним метод \"дерева степеней\" с методом \"SX\". \n",
    "Для этого подсчитаем количество операций умножения для обоих методов."
   ]
  },
  {
   "cell_type": "code",
   "execution_count": 69,
   "metadata": {},
   "outputs": [],
   "source": [
    "def GetSXOperationsCount(n):\n",
    "    LLambda = floor(log(n, 2))\n",
    "    LMu = bin(n)[2:].count('1')\n",
    "    return LLambda + LMu - 1\n",
    "\n",
    "\n",
    "def GetTreeOperationsCount(SearchNode):\n",
    "    LTree = {1:[]} \n",
    "    LLevelNodes = [1]\n",
    "    LOperationsCount = 0\n",
    "    while not SearchNode in LTree:\n",
    "        LOperationsCount += 1\n",
    "        LNextLevelNodes = []\n",
    "        for LNode in LLevelNodes:\n",
    "            for LParentNode in GetNodeWithAllParents(LTree, LNode):\n",
    "                LNewNode = LNode + LParentNode\n",
    "                if LNewNode == SearchNode:\n",
    "                    return LOperationsCount\n",
    "                if LNewNode in LTree:\n",
    "                    continue\n",
    "                LTree[LNewNode] = [LNode]\n",
    "                LNextLevelNodes.append(LNewNode)\n",
    "        LLevelNodes = LNextLevelNodes\n",
    "    return LOperationsCount"
   ]
  },
  {
   "cell_type": "markdown",
   "metadata": {},
   "source": [
    "Проверим, что дерево степеней не хуже бинарного метода до $n = 7000$."
   ]
  },
  {
   "cell_type": "code",
   "execution_count": 70,
   "metadata": {},
   "outputs": [
    {
     "name": "stdout",
     "output_type": "stream",
     "text": [
      "Good\n"
     ]
    }
   ],
   "source": [
    "IsCorrect = True\n",
    "for i in range(2, 7000):\n",
    "    if GetSXOperationsCount(i) < GetTreeOperationsCount(i):\n",
    "        IsCorrect = False\n",
    "        break\n",
    "\n",
    "if IsCorrect:\n",
    "    print(\"Good\")\n",
    "else:\n",
    "    print(\"Bad\")"
   ]
  },
  {
   "cell_type": "markdown",
   "metadata": {},
   "source": [
    "#### Вывод\n",
    "\n",
    "Реализован алгоритм \"дерева степеней\". Полученное дерево было визуализированно при помощи SageMath до заданного уровня, с выделением цветом пути от корня до заданного узла. Данный метод не проигрывает методу \"SX\" до $n = 7000$, а значит и не проигрывает бинарному методу возведения справа налево. Кроме того, метод дерева степеней требует меньше операций умножения по сравнению с методом множителей."
   ]
  },
  {
   "cell_type": "markdown",
   "metadata": {},
   "source": [
    "### 6. Изменённое дерево степеней\n",
    "\n",
    "Для получения дерева убывающих степеней сделаем так, чтобы узлы, расположенные ниже узла $i$, присоединялись в порядке убывания:<br>\n",
    "$i+a_{k-1}, ..., i+a_{1},i+a_{0}$<br>\n",
    "Для этого достаточно модифицировать функцию *GetNodeWithAllParents*."
   ]
  },
  {
   "cell_type": "code",
   "execution_count": 71,
   "metadata": {},
   "outputs": [],
   "source": [
    "def GetNodeWithAllParents(Tree, Node):\n",
    "    LResult = [Node]\n",
    "    while Node != 1:\n",
    "        Node = Tree[Node][0]\n",
    "        LResult.append(Node)\n",
    "    return LResult"
   ]
  },
  {
   "cell_type": "code",
   "execution_count": 72,
   "metadata": {},
   "outputs": [
    {
     "data": {
      "image/png": "[encoded data removed]",
      "text/plain": [
       "Graphics object consisting of 40 graphics primitives"
      ]
     },
     "metadata": {},
     "output_type": "display_data"
    }
   ],
   "source": [
    "PlotTree(CreateTree(5), 9)"
   ]
  },
  {
   "cell_type": "code",
   "execution_count": 73,
   "metadata": {},
   "outputs": [
    {
     "data": {
      "image/png": "[encoded data removed]",
      "text/plain": [
       "Graphics object consisting of 66 graphics primitives"
      ]
     },
     "metadata": {},
     "output_type": "display_data"
    }
   ],
   "source": [
    "PlotTree(CreateTree(6), 28)"
   ]
  },
  {
   "cell_type": "markdown",
   "metadata": {},
   "source": [
    "Проверим, что изменённое дерево степеней требует столько же операций умножений, сколько и бинарный метод до $n = 7000$."
   ]
  },
  {
   "cell_type": "code",
   "execution_count": 74,
   "metadata": {},
   "outputs": [
    {
     "name": "stdout",
     "output_type": "stream",
     "text": [
      "Good\n"
     ]
    }
   ],
   "source": [
    "IsCorrect = True\n",
    "for i in range(2, 7000):\n",
    "    if GetSXOperationsCount(i) != GetTreeOperationsCount(i):\n",
    "        IsCorrect = False\n",
    "        break\n",
    "\n",
    "if IsCorrect:\n",
    "    print(\"Good\")\n",
    "else:\n",
    "    print(\"Bad\")"
   ]
  },
  {
   "cell_type": "markdown",
   "metadata": {},
   "source": [
    "## Выводы\n",
    "\n",
    "В ходе практической работы были сформированы знания о работе алгоритмов вычисления одночленов за минимальное число операций. Был привит навык использования системы компьютерной алгебры *SageMath* для реализации алгоритмов.<br>\n",
    "Реализован бинарный метод \"SX\", бинарный метод возведения в степень справа налево, рассмотрен метод множителей и реализован алгоритм \"дерева степеней\". Произведены тесты алгоритмов и сравнение с теоретическими положениями.<br>\n",
    "Также алгоритмы были сравнены друг с другом."
   ]
  }
 ],
 "metadata": {
  "kernelspec": {
   "display_name": "SageMath 9.5",
   "language": "sage",
   "name": "sagemath"
  },
  "language_info": {
   "codemirror_mode": {
    "name": "ipython",
    "version": 3
   },
   "file_extension": ".py",
   "mimetype": "text/x-python",
   "name": "python",
   "nbconvert_exporter": "python",
   "pygments_lexer": "ipython3",
   "version": "3.10.7"
  }
 },
 "nbformat": 4,
 "nbformat_minor": 4
}
