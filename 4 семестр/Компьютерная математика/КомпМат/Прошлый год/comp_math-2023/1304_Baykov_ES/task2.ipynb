{
 "cells": [
  {
   "cell_type": "markdown",
   "metadata": {},
   "source": [
    "# Практическая работа №2: Исследование алгоритмов формирования аддитивных цепочек\n",
    "\n",
    "Выполнил студент гр. 1304 Байков Егор. Вариант №29."
   ]
  },
  {
   "cell_type": "markdown",
   "metadata": {},
   "source": [
    "## Цель работы\n",
    "\n",
    "Формирование представления о аддитивных цепочках, выработать умение составлять и применять алгоритмы для нахождения минимальных аддитивных цепочек для заданного числа, привить навык использования систем компьютерной математики для реализации алгоритмов."
   ]
  },
  {
   "cell_type": "markdown",
   "metadata": {},
   "source": [
    "## Основные теоретические положения\n",
    "\n",
    "### Аддитивные цепочки\n",
    "\n",
    "Аддитивной цепочкой для $n \\in \\mathbb{N}$ - последовательность натуральных чисел, где каждый элемент равен сумме любых двух предыдущих элементов цепочки.<br>\n",
    "<center>$1=a_0, a_1,..., a_m=n, \\space a_i = a_j + a_k, \\forall\\space k \\le j \\lt i$</center><br>\n",
    "Число $r$ называется наименьшей длиной аддитивной цепочки натурального числа $n$ и обозначается $l(n) = r$<br>\n",
    "Справедливы некоторые оценки для $l(n)$:<br>\n",
    "<center>$l(mn) \\le l(m) + l(n)$</center><br>\n",
    "<center>$l(n) \\le \\lambda(n)+ \\nu(n) - 1$ (для бинарного метода $SX$)</center><br>\n",
    "<center>$l(n) \\ge \\lceil \\log_2n \\rceil$</center>\n",
    "\n",
    "### Шаг аддитивной цепочки\n",
    "Пара $(j, k),\\space 0 \\le k \\le j \\lt i$ называют шагом $i$. Если существует более одной пары $(j, k)$ полагают что $j$ большее из возможных.<br>\n",
    "Виды шагов:<br>\n",
    "<ol>\n",
    "    <li>Удвоение: $j = k = i - 1$</li>\n",
    "    <li>Звёздный шаг: $j = i - 1$</li>\n",
    "    <li>Малый шаг: $\\lambda(a_i) = \\lambda(a_{i-1})$</li>\n",
    "</ol><br>\n",
    "Свойства шагов аддитивных цепочек:<br>\n",
    "<ol>\n",
    "    <li>Первый шаг всегда удвоение</li>\n",
    "    <li>Удвоение - звёздный шаг, но не малый.</li>\n",
    "    <li>Если $i$-ый - не малый шаг, то $(i+1)$-ый шаг либо малый, либо звёздный, либо и тот и другой.</li>\n",
    "    <li>За удвоением следует звёздный шаг.</li>\n",
    "    <li>Если $(i+1)$-ый - ни малый и ни звёздный шаг, то $i$-ый шаг должен быть малым.</li>\n",
    "</ol><br>\n",
    "\n",
    "*Теорема*. Если аддитивная цепочка включает $d$ удвоений и $f = r - d$ - неудвоений, то<br>\n",
    "<center>$n \\le 2^{d-1}F_{f+3}$, где $F_j$ - число Фибонначи.</center>\n",
    "\n",
    "*Следствие*. Если аддитивная цепочка включает $f$ неудвоений и $s$ малых шагов, то<br>\n",
    "<center>$s \\le f \\le \\dfrac{s}{(1 - \\log_2(\\varphi))}$, где $\\varphi = \\dfrac{\\sqrt(5) + 1}{2}$ - золотое сечение</center><br>\n",
    "\n",
    "### Алгоритм Брауэра\n",
    "Алгоритм Брауэра позволяет вычислить $n$-ую степень за<br>\n",
    "<center>$l_B(n) = \\lambda(n) + \\dfrac{\\lambda(n)}{\\lambda(\\lambda(n))} + O\\left(\\dfrac{\\lambda(n) * \\lambda(\\lambda(\\lambda(n)))}{(\\lambda(\\lambda(n)))^2}\\right)$</center><br>\n",
    "умножений.<br>\n",
    "Самая короткая аддитивная цепочка для числа $n$ имеет длину $\\lambda(n)$. Доказано что почти для всех $n$ минимальная аддитивная цепочка имеет длину $l_B(n)$.<br>\n",
    "\n",
    "*Определение*. Для натурального числа $n$ при заданном натуральном числе $k$ можно построить цепочку Брауэра с помощью рекурентной формулы<br>\n",
    "$$B_k(n) = \\begin{cases}\n",
    "            1, 2,\\dots, 2^{k-1} &\\quad\\text{if}\\space n \\lt 2^k\\\\ \n",
    "            B_k(q), 2q, 4q,\\dots, 2^kq, n &\\quad\\text{if}\\space n \\ge 2^k \\space\\text{and}\\space q = \\lfloor \\dfrac{n}{2^k} \\rfloor\n",
    "            \\end{cases}$$<br>\n",
    "Данная цепочка имеет длину<br>\n",
    "$$l_B(n) = j(k + 1) + 2^k - 2$$<br>\n",
    "при условии $jk \\le \\lambda(n) \\lt (j+1)k$.<br>\n",
    "Длина будет минимизирована для большого $n$, если положить $k = \\lambda(\\lambda(n)) - 2 \\lambda(\\lambda(\\lambda(n)))$<br>\n",
    "\n",
    "*Работа алгоритма*.<br>\n",
    "Задается некий фиксированный параметр $k$ для рассматриваемого числа $n$. Выполняется вычисление \"вспомогательных чисел\".<br>\n",
    "$$d = 2^k \\quad q_1 = [\\dfrac{n}{d}] \\quad r_1 = n \\space\\mathrm{mod}\\space d \\Rightarrow \\space n = q_1d + r_1 \\space (0 \\le r_1 \\lt d)$$<br>\n",
    "$$q_1 = [\\dfrac{q_1}{d}] \\quad r_2 = q_1 \\space\\mathrm{mod}\\space d \\Rightarrow \\space q_1 = q_2d + r_2 \\space (0 \\le r_2 \\lt d)$$<br>\n",
    "Данная процедура идет до $q_s \\lt d \\Rightarrow q_{s-1} = q_sd+r_s$ таким образом имеет вид:<br>\n",
    "$$n = 2^kq_1 + r_1 = 2^k(2^kq_2 + r_2) + r_1 = 2^k(2^k \\dots (2^kq_s + r_s) \\dots ) + r_2) + r_1$$<br>\n",
    "\n",
    "### Звёздные цепочки\n",
    "\n",
    "*Определение*. Звёздная цепочка - аддитивная цепочка, включающая только звездный шаг и удвоение.<br>\n",
    "1. Длина звездной цепочки $l^*(n)$\n",
    "2. Шаг звёздной цепочки: $a_i = a_{i-1} + a_k, \\space \\forall \\space k \\lt i$\n",
    "3. Очевидно: $l(n) \\le l^*(n)$\n",
    "*Определение*. Пусть дана звездная цепочка длины $m-1$ вида $1 = a_1 a_2 a_3\\dots a_m$. Для каждой звездной цепочки существует вектор индексов $r = \\left\\{ r_1,r_2, \\dots ,r_m \\right\\}$ длины $m - 1$ такой, что $r_i = \\left\\{ z: \\: 1 \\le z \\le i \\right\\} \\quad a_i = a_{i - 1} + a_{r_{i - 1}}, \\; a \\le i \\le m - 1$\n",
    "1. Первый элемент вектора $r_1$ всегда $= 1$, второй элемент $r_2 = \\left\\{1,2\\right\\}$. Последний элемент принимает значения от $1$ до $m-1$\n",
    "2. Наибольшая звездная цепочка будет иметь вид $a = 1,2,4,\\dots,2^{m - 1}$, а ее вектор индексов $r = \\left\\{1,2,3,\\dots,m-1\\right\\}$\n",
    "3. Наименьшая звездная цепочка будет иметь вид $a = 1,2,3,\\dots,m$, а ее вектор индексов $r = \\left\\{1,1,1,\\dots,1\\right\\}$\n",
    "\n",
    "### Сравнимость двух векторов\n",
    "Даны 2 вектора индексов равной длины $r = \\left\\{r_1,r_2,r_3,\\dots,r_m\\right\\}, \\widetilde{r} = \\left\\{\\widetilde{r_1},\\widetilde{r_2},\\widetilde{r_3},\\dots,\\widetilde{r_m}\\right\\}$. Тогда $r \\succ \\widetilde{r}$, если $r_1 = \\widetilde{r_1} = 1, r_2 = \\widetilde{r_2}, \\dots, r_{i - 1} = \\widetilde{r_{i-1}}$, причем $r_i \\gt \\widetilde{r_i}$\n",
    "\n",
    "\n",
    "Для переходи от вектора $r$ к следующему (меньшему) вектору $\\widetilde{r}$ необходимо найти самую старшую позицию, содержащую число больше 1 и уменьшаем ее на 1, предшествующие позиции оставляем без изменений.\n",
    "\n",
    "### Алгоритм дробления индексов\n",
    "Пусть задано $n \\in \\mathbb{N}$. Необходимо найти минимальную звездную цепочку, такую , что $a_m = n$.\n",
    "\n",
    "Рассмотрим вектор индексов вида $$\\left\\{r_1,r_2,r_3,\\dots,r_q\\right\\} \\cup \\left\\{\\rho_{q + 1},\\rho_{q + 2},\\rho_{q + 3},\\dots,\\rho_{m}\\right\\} $$ \n",
    "Назовем левую часть фиксированной, а правую - меняющейся.\n",
    "\n",
    "$$a_{min} = a_{q+1} + m - q, \\quad\\text{при} \\left\\{r_1,r_2,r_3,\\dots,r_q\\right\\} \\cup \\left\\{1,1,1,\\dots,1\\right\\} \\\\ \n",
    "a_{max} = a_{q+1} \\cdot 2^{m - q}, \\quad\\text{при} \\left\\{r_1,r_2,r_3,\\dots,r_q\\right\\} \\cup \\left\\{q + 1,q + 2,q + 3,\\dots,m\\right\\}$$\n",
    "\n",
    "Описание алгоритма:\n",
    "1. Запускаем внешний цикл по длинам цепочек: $\\underline{l}(n) \\le m \\le \\overline{l}(n)$.<br>\n",
    "    Выбираем число $q \\in \\mathbb{N}$. Пусть $q = \\frac{m}{2}$\n",
    "2. Запускаем внутренний цекл перебора всех $\\left\\{r_1,r_2,r_3,\\dots,r_q\\right\\}$ ($q!$ шагов). <br>\n",
    "    На каждом шаге при фиксированной части вычисляем $a_{min}$ и $a_{max}$<br>\n",
    "    1) Если $a_m = n$ - задача решена<br>\n",
    "    2) Если $n \\notin \\left[a_{min},a_{max}\\right]$, то переходим к следующему набору $\\left\\{r_1,r_2,r_3,\\dots,r_q\\right\\}$<br>\n",
    "    3) Если $n \\in \\left[a_{min},a_{max}\\right]$, то организуем внутренний цикл перебора меняющейся части $\\left\\{\\rho_{q + 1},\\rho_{q + 2},\\rho_{q + 3},\\dots,\\rho_{m}\\right\\}$. Таких наборов $\\frac{m!}{q!}$ штук:<br>\n",
    "    3.1) Если обнаруживается $a_m = n$ - задача решена.<br>\n",
    "    3.2) Если в цикле таких векторов не оказалось, то переходим к следующей (по введенной упорядоченности) фиксированной части $\\left\\{r_1,r_2,r_3,\\dots,r_q\\right\\}$\n",
    "3. Если все наборы фиксированной длины исчерпаны, то увеличиваем их длину во внешнем цикле.\n",
    "\n",
    "### Гипотеза Шольца-Брауэра\n",
    "$$l(2^{n} - 1) \\le l(n) + n - 1$$\n",
    "1. Гипотеза доказана для звездных цепочек:$$l^{*}(2^{n} - 1) \\le l^{*}(n) + n - 1$$\n",
    "2. Гипотеза справедлива для всех $n \\lt 5784689$\n",
    "3. Равенство выполняется для всех $1 \\le n \\le 64$"
   ]
  },
  {
   "cell_type": "markdown",
   "metadata": {},
   "source": [
    "## Постановка задачи\n",
    "\n",
    "Реализовать точные и приближённые алгоритмы нахождения минимальных аддитивных цепочек с использованием системы компьютерной математики SageMath, провести анализ алгоритмов. Полученные результаты содержательно проинтерпретировать"
   ]
  },
  {
   "cell_type": "markdown",
   "metadata": {},
   "source": [
    "## Выполнение работы"
   ]
  },
  {
   "cell_type": "markdown",
   "metadata": {},
   "source": [
    "### 1. Алгоритм Брауэра\n",
    "\n",
    "Реализуем функцию $Bauer\\_algorithm$, принимающую на вход некоторое натуральное чилсо $n$, для которого необходимо найти приблидженную аддитивную цепочку, и некоторый параметр $k$. Функция возвращает кортеж из двух списков - со вспомогательными числами и с аддитивной цепочкой."
   ]
  },
  {
   "cell_type": "code",
   "execution_count": 37,
   "metadata": {},
   "outputs": [],
   "source": [
    "def Brauer_algorithm(n: int, k: int):\n",
    "    d = 2^k\n",
    "    q_list, r_list = [], []\n",
    "    temp_q = n\n",
    "    while temp_q >= d:\n",
    "        q_list.append(temp_q // d)\n",
    "        r_list.append(temp_q % d)\n",
    "        temp_q //= d\n",
    "    q_list = q_list[::-1]\n",
    "    r_list = r_list[::-1]\n",
    "    auxiliary_numbers = [_ for _ in range(1, d)]\n",
    "    additive_chain = []\n",
    "    temp = q_list[0]\n",
    "    for i in range(len(q_list)):\n",
    "        for j in range(k):\n",
    "            temp *= 2\n",
    "            additive_chain.append(temp)\n",
    "        temp += r_list[i]\n",
    "        additive_chain.append(temp) if r_list[i] != 0 else None\n",
    "    while additive_chain[0] < d:\n",
    "        additive_chain.pop(0)\n",
    "    return (auxiliary_numbers, additive_chain)"
   ]
  },
  {
   "cell_type": "code",
   "execution_count": 38,
   "metadata": {},
   "outputs": [],
   "source": [
    "def print_Brauer_algorithm(result):\n",
    "    print(f'Auxiliary numbers: {result[0]}')\n",
    "    print(f'Additive chain: {result[1]}')\n",
    "    print(f'Length of additive chain: {len(result[1])}', '\\n')\n",
    "\n",
    "def pretty_print_Brauer_algorithm(test_numbers):\n",
    "    print('| n | k | Length of additive chain | Additive chain |')\n",
    "    print('|:------------:|:------------:|:--------------------------:|:---------------------|')\n",
    "    for elem in test_numbers:\n",
    "        for k in range(2,5):\n",
    "            result = Brauer_algorithm(elem, k)\n",
    "            chain = result[0]\n",
    "            chain += result[1]\n",
    "            print(f'|{elem}|{k}|{len(chain)}|{chain}|')"
   ]
  },
  {
   "cell_type": "markdown",
   "metadata": {},
   "source": [
    "Для демострации работы программы были написаны две дополнительные функции $print\\_Brauer\\_algorithm$ и $pretty\\_print\\_Brauer\\_algorithm$. Первая демонстрирует работоспособность реализованного алгоритма в простом виде, вторая функция делает вывод более читаемым, оформляя его в виде таблицы. Рассмотрим работу программы."
   ]
  },
  {
   "cell_type": "code",
   "execution_count": 39,
   "metadata": {},
   "outputs": [
    {
     "name": "stdout",
     "output_type": "stream",
     "text": [
      "test#0\n",
      "n = 12343, k = 2\n",
      "Auxiliary numbers: [1, 2, 3]\n",
      "Additive chain: [6, 12, 24, 48, 96, 192, 384, 768, 771, 1542, 3084, 3085, 6170, 12340, 12343]\n",
      "Length of additive chain: 15 \n",
      "\n",
      "n = 12343, k = 3\n",
      "Auxiliary numbers: [1, 2, 3, 4, 5, 6, 7]\n",
      "Additive chain: [12, 24, 48, 96, 192, 384, 768, 1536, 1542, 3084, 6168, 12336, 12343]\n",
      "Length of additive chain: 13 \n",
      "\n",
      "n = 12343, k = 4\n",
      "Auxiliary numbers: [1, 2, 3, 4, 5, 6, 7, 8, 9, 10, 11, 12, 13, 14, 15]\n",
      "Additive chain: [24, 48, 96, 192, 384, 768, 771, 1542, 3084, 6168, 12336, 12343]\n",
      "Length of additive chain: 12 \n",
      "\n",
      "test#1\n",
      "n = 32134, k = 2\n",
      "Auxiliary numbers: [1, 2, 3]\n",
      "Additive chain: [4, 7, 14, 28, 31, 62, 124, 125, 250, 500, 502, 1004, 2008, 4016, 8032, 8033, 16066, 32132, 32134]\n",
      "Length of additive chain: 19 \n",
      "\n",
      "n = 32134, k = 3\n",
      "Auxiliary numbers: [1, 2, 3, 4, 5, 6, 7]\n",
      "Additive chain: [14, 28, 56, 62, 124, 248, 496, 502, 1004, 2008, 4016, 8032, 16064, 32128, 32134]\n",
      "Length of additive chain: 15 \n",
      "\n",
      "n = 32134, k = 4\n",
      "Auxiliary numbers: [1, 2, 3, 4, 5, 6, 7, 8, 9, 10, 11, 12, 13, 14, 15]\n",
      "Additive chain: [28, 56, 112, 125, 250, 500, 1000, 2000, 2008, 4016, 8032, 16064, 32128, 32134]\n",
      "Length of additive chain: 14 \n",
      "\n",
      "test#2\n",
      "n = 2313, k = 2\n",
      "Auxiliary numbers: [1, 2, 3]\n",
      "Additive chain: [4, 8, 9, 18, 36, 72, 144, 288, 576, 578, 1156, 2312, 2313]\n",
      "Length of additive chain: 13 \n",
      "\n",
      "n = 2313, k = 3\n",
      "Auxiliary numbers: [1, 2, 3, 4, 5, 6, 7]\n",
      "Additive chain: [8, 16, 32, 36, 72, 144, 288, 289, 578, 1156, 2312, 2313]\n",
      "Length of additive chain: 12 \n",
      "\n",
      "n = 2313, k = 4\n",
      "Auxiliary numbers: [1, 2, 3, 4, 5, 6, 7, 8, 9, 10, 11, 12, 13, 14, 15]\n",
      "Additive chain: [18, 36, 72, 144, 288, 576, 1152, 2304, 2313]\n",
      "Length of additive chain: 9 \n",
      "\n",
      "test#3\n",
      "n = 34445, k = 2\n",
      "Auxiliary numbers: [1, 2, 3]\n",
      "Additive chain: [4, 8, 16, 32, 33, 66, 132, 134, 268, 536, 538, 1076, 2152, 4304, 8608, 8611, 17222, 34444, 34445]\n",
      "Length of additive chain: 19 \n",
      "\n",
      "n = 34445, k = 3\n",
      "Auxiliary numbers: [1, 2, 3, 4, 5, 6, 7]\n",
      "Additive chain: [8, 16, 32, 64, 67, 134, 268, 536, 538, 1076, 2152, 4304, 4305, 8610, 17220, 34440, 34445]\n",
      "Length of additive chain: 17 \n",
      "\n",
      "n = 34445, k = 4\n",
      "Auxiliary numbers: [1, 2, 3, 4, 5, 6, 7, 8, 9, 10, 11, 12, 13, 14, 15]\n",
      "Additive chain: [16, 32, 64, 128, 134, 268, 536, 1072, 2144, 2152, 4304, 8608, 17216, 34432, 34445]\n",
      "Length of additive chain: 15 \n",
      "\n",
      "test#4\n",
      "n = 98732, k = 2\n",
      "Auxiliary numbers: [1, 2, 3]\n",
      "Additive chain: [4, 6, 12, 24, 48, 96, 192, 384, 385, 770, 1540, 1542, 3084, 6168, 6170, 12340, 24680, 24683, 49366, 98732]\n",
      "Length of additive chain: 20 \n",
      "\n",
      "n = 98732, k = 3\n",
      "Auxiliary numbers: [1, 2, 3, 4, 5, 6, 7]\n",
      "Additive chain: [12, 24, 48, 96, 192, 384, 768, 1536, 1542, 3084, 6168, 12336, 12341, 24682, 49364, 98728, 98732]\n",
      "Length of additive chain: 17 \n",
      "\n",
      "n = 98732, k = 4\n",
      "Auxiliary numbers: [1, 2, 3, 4, 5, 6, 7, 8, 9, 10, 11, 12, 13, 14, 15]\n",
      "Additive chain: [16, 24, 48, 96, 192, 384, 385, 770, 1540, 3080, 6160, 6170, 12340, 24680, 49360, 98720, 98732]\n",
      "Length of additive chain: 17 \n",
      "\n"
     ]
    }
   ],
   "source": [
    "test_numbers = [12343, 32134, 2313, 34445, 98732]\n",
    "for number in test_numbers:\n",
    "    print(f'test#{test_numbers.index(number)}')\n",
    "    for k in range(2, 5):\n",
    "        print(f'n = {number}, k = {k}')\n",
    "        print_Brauer_algorithm(Brauer_algorithm(number, k))"
   ]
  },
  {
   "cell_type": "markdown",
   "metadata": {},
   "source": [
    "| n | k | Length of additive chain | Additive chain |\n",
    "|:------------:|:------------:|:--------------------------:|:---------------------|\n",
    "|12343|2|18|[1, 2, 3, 6, 12, 24, 48, 96, 192, 384, 768, 771, 1542, 3084, 3085, 6170, 12340, 12343]|\n",
    "|12343|3|20|[1, 2, 3, 4, 5, 6, 7, 12, 24, 48, 96, 192, 384, 768, 1536, 1542, 3084, 6168, 12336, 12343]|\n",
    "|12343|4|27|[1, 2, 3, 4, 5, 6, 7, 8, 9, 10, 11, 12, 13, 14, 15, 24, 48, 96, 192, 384, 768, 771, 1542, 3084, 6168, 12336, 12343]|\n",
    "|32134|2|22|[1, 2, 3, 4, 7, 14, 28, 31, 62, 124, 125, 250, 500, 502, 1004, 2008, 4016, 8032, 8033, 16066, 32132, 32134]|\n",
    "|32134|3|22|[1, 2, 3, 4, 5, 6, 7, 14, 28, 56, 62, 124, 248, 496, 502, 1004, 2008, 4016, 8032, 16064, 32128, 32134]|\n",
    "|32134|4|29|[1, 2, 3, 4, 5, 6, 7, 8, 9, 10, 11, 12, 13, 14, 15, 28, 56, 112, 125, 250, 500, 1000, 2000, 2008, 4016, 8032, 16064, 32128, 32134]|\n",
    "|2313|2|16|[1, 2, 3, 4, 8, 9, 18, 36, 72, 144, 288, 576, 578, 1156, 2312, 2313]|\n",
    "|2313|3|19|[1, 2, 3, 4, 5, 6, 7, 8, 16, 32, 36, 72, 144, 288, 289, 578, 1156, 2312, 2313]|\n",
    "|2313|4|24|[1, 2, 3, 4, 5, 6, 7, 8, 9, 10, 11, 12, 13, 14, 15, 18, 36, 72, 144, 288, 576, 1152, 2304, 2313]|\n",
    "|34445|2|22|[1, 2, 3, 4, 8, 16, 32, 33, 66, 132, 134, 268, 536, 538, 1076, 2152, 4304, 8608, 8611, 17222, 34444, 34445]|\n",
    "|34445|3|24|[1, 2, 3, 4, 5, 6, 7, 8, 16, 32, 64, 67, 134, 268, 536, 538, 1076, 2152, 4304, 4305, 8610, 17220, 34440, 34445]|\n",
    "|34445|4|30|[1, 2, 3, 4, 5, 6, 7, 8, 9, 10, 11, 12, 13, 14, 15, 16, 32, 64, 128, 134, 268, 536, 1072, 2144, 2152, 4304, 8608, 17216, 34432, 34445]|\n",
    "|98732|2|23|[1, 2, 3, 4, 6, 12, 24, 48, 96, 192, 384, 385, 770, 1540, 1542, 3084, 6168, 6170, 12340, 24680, 24683, 49366, 98732]|\n",
    "|98732|3|24|[1, 2, 3, 4, 5, 6, 7, 12, 24, 48, 96, 192, 384, 768, 1536, 1542, 3084, 6168, 12336, 12341, 24682, 49364, 98728, 98732]|\n",
    "|98732|4|32|[1, 2, 3, 4, 5, 6, 7, 8, 9, 10, 11, 12, 13, 14, 15, 16, 24, 48, 96, 192, 384, 385, 770, 1540, 3080, 6160, 6170, 12340, 24680, 49360, 98720, 98732]|"
   ]
  },
  {
   "cell_type": "markdown",
   "metadata": {},
   "source": [
    "Рассмотрим минимальные аддитивные цепочки для чисел приведенных в таблице и сравним их с результатми полученными в ходе выполнения алгоритма Брауэра."
   ]
  },
  {
   "cell_type": "markdown",
   "metadata": {},
   "source": [
    "|   n   | Minimal length of additive chan |                                                Additive chain                                               | Lengths of the chains obtained by the Brauer algorithm |\n",
    "|:-----:|:-------------------------------:|:-----------------------------------------------------------------------------------------------------------|--------------------------------------------------------|\n",
    "| 12343 |                18               | [1, 2, 3, 6, 12, 24, 48, 96, 192, 384, 768, 771, 1542, 3084, 6168, 6171, 12342, 12343]                      | [18, 20, 27]                                           |\n",
    "| 32134 |                20               | [1, 2, 4, 8, 16, 17, 33, 50, 100, 200, 250, 500, 1000, 2000, 4000, 8000, 8033, 16066, 16067, 32134]         | [22, 22, 29]                                           |\n",
    "|  2313 |                14               | [1, 2, 4, 8, 9, 18, 36, 72, 144, 288, 576, 1152, 2304, 2313]                                                | [16, 19, 24]                                           |\n",
    "| 34445 |                20               | [1, 2, 4, 8, 16, 32, 34, 35, 67, 134, 268, 536, 1072, 2144, 4288, 8576, 8611, 17222, 34444, 34445]          | [22, 24, 30]                                           |\n",
    "| 98732 |                21               | [1, 2, 3, 6, 12, 24, 48, 96, 192, 384, 768, 771, 1542, 3084, 3085, 6170, 12340, 24680, 24683, 49366, 98732] | [23, 24, 32]                                           |"
   ]
  },
  {
   "cell_type": "markdown",
   "metadata": {},
   "source": [
    "### Вывод\n",
    "\n",
    "Из последней таблицы видно что алгоритм Брауэра только один раз нашел минимальную по длине аддитивную цепочку, все остальные длины полученные алгоритмом больше минимальных. Это происходит из-за вычисления вспомогательных чисел, которые могут не пригодиться при построении цепочки. Алгоритм Брауэра выдает приближенный ответ за малое количество времени."
   ]
  },
  {
   "cell_type": "markdown",
   "metadata": {},
   "source": [
    "### 2. Алгоритм дробления вектора индексов\n",
    "\n",
    "Для оценки длин аддитивных цепочек будем использовть следующие неравенства:<br>\n",
    "$$l(n) \\le \\lambda(n) + \\nu(n) - 1$$<br>\n",
    "$$l(n) \\ge \\lambda(n) + \\log_2(\\nu(n))$$<br>\n",
    "\n",
    "Реализуем функции $restore\\_additive\\_chain$, которая будет восстанавливать по векторую индексов аддитивную цепочку, и $find\\_additive\\_chain\\_VSA$, которая ищет минимальную аддитивную цепочку с помощью алгоритма дробления вектора."
   ]
  },
  {
   "cell_type": "code",
   "execution_count": 40,
   "metadata": {},
   "outputs": [],
   "source": [
    "def restore_additive_chain(index_vector):\n",
    "    additive_chain = [1]\n",
    "    for elem in index_vector:\n",
    "        additive_chain.append(additive_chain[len(additive_chain) - 1] + additive_chain[elem - 1])\n",
    "    return additive_chain\n",
    "\n",
    "def find_additive_chain_VSA(n): #VSA - vector splittin algorithm\n",
    "    min_edge_m = int(log(n, 2)) + int(log(bin(n)[2:].count('1') ,2))\n",
    "    max_edge_m = int(log(n, 2)) + bin(n)[2:].count('1') - 1\n",
    "    for m in range(min_edge_m, max_edge_m + 1):\n",
    "        q = m // 2\n",
    "        fixed_vector_part = [r for r in range(1, q + 1)]\n",
    "        for _ in range(factorial(q)):\n",
    "            a_q_1 = restore_additive_chain(fixed_vector_part)[-1]\n",
    "            a_min = a_q_1 + m - q\n",
    "            a_max = a_q_1 * 2^(m-q)\n",
    "            if a_min <= n <= a_max:\n",
    "                changing_vector_part = [ro for ro in range(q + 1, m + 1)]\n",
    "                for __ in range(factorial(m)//factorial(q)):\n",
    "                    if(restore_additive_chain(fixed_vector_part + changing_vector_part)[-1] == n):\n",
    "                        return fixed_vector_part + changing_vector_part\n",
    "                    for i in range(m - 1, q - 1, -1):\n",
    "                        if changing_vector_part[i - q] != 1:\n",
    "                            changing_vector_part[i - q] -= 1\n",
    "                            break\n",
    "                        else:\n",
    "                            changing_vector_part[i - q] = i + 1\n",
    "            for i in range(q - 1,  -1, -1):\n",
    "                if fixed_vector_part[i] != 1:\n",
    "                    fixed_vector_part[i] -= 1\n",
    "                    break\n",
    "                else:\n",
    "                    fixed_vector_part[i] = i + 1"
   ]
  },
  {
   "cell_type": "markdown",
   "metadata": {},
   "source": [
    "Теперь проведем проверку на значениях $n$ больших $1000$, при этом подберем такие значения, для которых поиск будет осуществляться не слишком долго (меньше чем полчаса)."
   ]
  },
  {
   "cell_type": "code",
   "execution_count": 41,
   "metadata": {},
   "outputs": [
    {
     "name": "stdout",
     "output_type": "stream",
     "text": [
      "n = 1728\n",
      "Index vector: [1, 2, 3, 4, 5, 6, 7, 8, 9, 7, 11, 11]\n",
      "Additive chain: [1, 2, 4, 8, 16, 32, 64, 128, 256, 512, 576, 1152, 1728]; length = 13\n",
      "Time: 0.000000 s\n",
      "\n",
      "n = 1288\n",
      "Index vector: [1, 2, 3, 4, 5, 6, 7, 8, 9, 10, 9, 4]\n",
      "Additive chain: [1, 2, 4, 8, 16, 32, 64, 128, 256, 512, 1024, 1280, 1288]; length = 13\n",
      "Time: 15.390625 s\n",
      "\n",
      "n = 1344\n",
      "Index vector: [1, 2, 3, 4, 5, 6, 7, 8, 9, 10, 9, 7]\n",
      "Additive chain: [1, 2, 4, 8, 16, 32, 64, 128, 256, 512, 1024, 1280, 1344]; length = 13\n",
      "Time: 15.343750 s\n",
      "\n",
      "n = 3073\n",
      "Index vector: [1, 2, 3, 4, 5, 6, 7, 8, 9, 10, 11, 11, 1]\n",
      "Additive chain: [1, 2, 4, 8, 16, 32, 64, 128, 256, 512, 1024, 2048, 3072, 3073]; length = 14\n",
      "Time: 7.062500 s\n",
      "\n",
      "n = 4800\n",
      "Index vector: [1, 2, 3, 4, 5, 6, 7, 8, 9, 10, 10, 7, 13, 13]\n",
      "Additive chain: [1, 2, 4, 8, 16, 32, 64, 128, 256, 512, 1024, 1536, 1600, 3200, 4800]; length = 15\n",
      "Time: 0.046875 s\n",
      "\n"
     ]
    }
   ],
   "source": [
    "from time import process_time_ns\n",
    "tests = [1728, 1288, 1344, 3073, 4800]\n",
    "for test in tests:\n",
    "    start = process_time_ns()\n",
    "    index_vector = find_additive_chain_VSA(test)\n",
    "    end = process_time_ns()\n",
    "    print(f'n = {test}')\n",
    "    print(f'Index vector: {index_vector}\\nAdditive chain: {restore_additive_chain(index_vector)}; length = {len(restore_additive_chain(index_vector))}\\nTime: {float((end - start) / 10^9):.6f} s\\n')"
   ]
  },
  {
   "cell_type": "markdown",
   "metadata": {},
   "source": [
    "Сравним алгоритм дробления вектора индексов с алгоритмом Брауэра. Используем те же тестовые значения."
   ]
  },
  {
   "cell_type": "code",
   "execution_count": 36,
   "metadata": {},
   "outputs": [
    {
     "name": "stdout",
     "output_type": "stream",
     "text": [
      "n = 1728, k = 1\n",
      "Additive chain: [1, 2, 3, 6, 12, 13, 26, 27, 54, 108, 216, 432, 864, 1728]; length = 14\n",
      "\n",
      "n = 1728, k = 2\n",
      "Additive chain: [1, 2, 3, 4, 6, 12, 24, 27, 54, 108, 216, 432, 864, 1728]; length = 14\n",
      "\n",
      "n = 1728, k = 3\n",
      "Additive chain: [1, 2, 3, 4, 5, 6, 7, 12, 24, 27, 54, 108, 216, 432, 864, 1728]; length = 16\n",
      "\n",
      "n = 1288, k = 1\n",
      "Additive chain: [1, 2, 4, 5, 10, 20, 40, 80, 160, 161, 322, 644, 1288]; length = 13\n",
      "\n",
      "n = 1288, k = 2\n",
      "Additive chain: [1, 2, 3, 4, 5, 10, 20, 40, 80, 160, 320, 322, 644, 1288]; length = 14\n",
      "\n",
      "n = 1288, k = 3\n",
      "Additive chain: [1, 2, 3, 4, 5, 6, 7, 8, 16, 20, 40, 80, 160, 161, 322, 644, 1288]; length = 17\n",
      "\n",
      "n = 1344, k = 1\n",
      "Additive chain: [1, 2, 4, 5, 10, 20, 21, 42, 84, 168, 336, 672, 1344]; length = 13\n",
      "\n",
      "n = 1344, k = 2\n",
      "Additive chain: [1, 2, 3, 4, 5, 10, 20, 21, 42, 84, 168, 336, 672, 1344]; length = 14\n",
      "\n",
      "n = 1344, k = 3\n",
      "Additive chain: [1, 2, 3, 4, 5, 6, 7, 8, 16, 21, 42, 84, 168, 336, 672, 1344]; length = 16\n",
      "\n",
      "n = 3073, k = 1\n",
      "Additive chain: [1, 2, 3, 6, 12, 24, 48, 96, 192, 384, 768, 1536, 3072, 3073]; length = 14\n",
      "\n",
      "n = 3073, k = 2\n",
      "Additive chain: [1, 2, 3, 6, 12, 24, 48, 96, 192, 384, 768, 1536, 3072, 3073]; length = 14\n",
      "\n",
      "n = 3073, k = 3\n",
      "Additive chain: [1, 2, 3, 4, 5, 6, 7, 12, 24, 48, 96, 192, 384, 768, 1536, 3072, 3073]; length = 17\n",
      "\n",
      "n = 4800, k = 1\n",
      "Additive chain: [1, 2, 4, 8, 9, 18, 36, 37, 74, 75, 150, 300, 600, 1200, 2400, 4800]; length = 16\n",
      "\n",
      "n = 4800, k = 2\n",
      "Additive chain: [1, 2, 3, 4, 8, 16, 18, 36, 72, 75, 150, 300, 600, 1200, 2400, 4800]; length = 16\n",
      "\n",
      "n = 4800, k = 3\n",
      "Additive chain: [1, 2, 3, 4, 5, 6, 7, 8, 9, 18, 36, 72, 75, 150, 300, 600, 1200, 2400, 4800]; length = 19\n",
      "\n"
     ]
    }
   ],
   "source": [
    "for test in tests:\n",
    "    for k in range(1, 4):\n",
    "        print(f'n = {test}, k = {k}')\n",
    "        result = Brauer_algorithm(test, k)\n",
    "        additive_chain = result[0] + result[1]\n",
    "        print(f'Additive chain: {additive_chain}; length = {len(additive_chain)}\\n')"
   ]
  },
  {
   "cell_type": "markdown",
   "metadata": {},
   "source": [
    "|n|Vector of indexes|Additive chain| Minimal length of additive chan |Calculation time|Lengths of the chains obtained by the Brauer algorithm|\n",
    "|-|-|-|-|-|-|\n",
    "|1728|[1, 2, 3, 4, 5, 6, 7, 8, 9, 7, 11, 11]|[1, 2, 4, 8, 16, 32, 64, 128, 256, 512, 576, 1152, 1728]|13|0.015625 s|[14, 14, 16]|\n",
    "|1288|[1, 2, 3, 4, 5, 6, 7, 8, 9, 10, 9, 4]|[1, 2, 4, 8, 16, 32, 64, 128, 256, 512, 1024, 1280, 1288]|13|15.406250 s|[13, 14, 17]|\n",
    "|1344|[1, 2, 3, 4, 5, 6, 7, 8, 9, 10, 9, 7]|[1, 2, 4, 8, 16, 32, 64, 128, 256, 512, 1024, 1280, 1344]|13|15.250000 s|[13, 14, 16]|\n",
    "|3073|[1, 2, 3, 4, 5, 6, 7, 8, 9, 10, 11, 11, 1]|[1, 2, 4, 8, 16, 32, 64, 128, 256, 512, 1024, 2048, 3072, 3073]|14|7.015625 s|[14, 14, 17]|\n",
    "|4800|[1, 2, 3, 4, 5, 6, 7, 8, 9, 10, 10, 7, 13, 13]|[1, 2, 4, 8, 16, 32, 64, 128, 256, 512, 1024, 1536, 1600, 3200, 4800]|15|0.031250 s|[16, 16, 19]|"
   ]
  },
  {
   "cell_type": "markdown",
   "metadata": {},
   "source": [
    "### Вывод\n",
    "\n",
    "Поскольку алгоритм осуществляет полный перебор вариантов, то он является отличным способом нахождения минимальной аддитивной цепочки. Однако, из-за полного перебора значений алгоритм работает очень долго (для некоторых значений более получаса), что явяляется большим минусом этого алгоритма."
   ]
  },
  {
   "cell_type": "markdown",
   "metadata": {},
   "source": [
    "### 3. Гипотеза Шольца-Брауэра\n",
    "\n",
    "Проверим гипотезу Шольца-Брауэра на $1 \\le n \\le 12$. Гипотеза гласит, что: $l(2^n - 1) \\le l(n) + n - 1$. Однако, для чисел $1 \\le n \\le 64$ сохраняется равенство, т.е.: $l(2^n - 1) = l(n) + n - 1$"
   ]
  },
  {
   "cell_type": "code",
   "execution_count": 46,
   "metadata": {},
   "outputs": [
    {
     "name": "stdout",
     "output_type": "stream",
     "text": [
      "The hypothesis is correct for the number: 1\n",
      "The hypothesis is correct for the number: 2\n",
      "The hypothesis is correct for the number: 3\n",
      "The hypothesis is correct for the number: 4\n",
      "The hypothesis is correct for the number: 5\n",
      "The hypothesis is correct for the number: 6\n",
      "The hypothesis is correct for the number: 7\n",
      "The hypothesis is correct for the number: 8\n",
      "The hypothesis is correct for the number: 9\n",
      "The hypothesis is correct for the number: 10\n",
      "The hypothesis is correct for the number: 11\n",
      "The hypothesis is correct for the number: 12\n"
     ]
    }
   ],
   "source": [
    "scholz_brauer_test = [_ for _ in range(1, 12 + 1)]\n",
    "for test in scholz_brauer_test:\n",
    "    additive_chain_2_pow_n = restore_additive_chain(find_additive_chain_VSA(2^test - 1))\n",
    "    additive_chain_n = restore_additive_chain(find_additive_chain_VSA(test))\n",
    "    if len(additive_chain_2_pow_n) == len(additive_chain_n) + test - 1:\n",
    "        print(f'The hypothesis is correct for the number: {test}')\n",
    "    else:\n",
    "        print(f'The hypothesis is incorrect for the number: {test}')"
   ]
  },
  {
   "cell_type": "markdown",
   "metadata": {},
   "source": [
    "|$$n$$|$$l(2^n-1)$$|$$l(n) + n - 1$$|Hypothesis is correct|Additive chain for $$l(2^n-1)$$|\n",
    "|-|-|-|-|:-:|\n",
    "|1|1|1|Correct|[1]|\n",
    "|2|3|3|Correct|[1, 2, 3]|\n",
    "|3|5|5|Correct|[1, 2, 4, 6, 7]|\n",
    "|4|6|6|Correct|[1, 2, 4, 5, 10, 15]|\n",
    "|5|8|8|Correct|[1, 2, 4, 8, 10, 20, 30, 31]|\n",
    "|6|9|9|Correct|[1, 2, 4, 8, 16, 20, 21, 42, 63]|\n",
    "|7|11|11|Correct|[1, 2, 4, 8, 16, 32, 40, 42, 84, 126, 127]|\n",
    "|8|11|11|Correct|[1, 2, 4, 8, 16, 17, 34, 68, 85, 170, 255]|\n",
    "|9|13|13|Correct|[1, 2, 4, 8, 16, 32, 64, 72, 73, 146, 292, 438, 511]|\n",
    "|10|14|14|Correct|[1, 2, 3, 6, 12, 15, 30, 60, 120, 240, 255, 510, 1020, 1023]|\n",
    "|11|16|16|Correct|[1, 2, 3, 6, 12, 15, 30, 60, 120, 240, 255, 510, 1020, 1023, 2046, 2047]|\n",
    "|12|16|16|Correct|[1, 2, 3, 6, 12, 15, 30, 60, 120, 240, 255, 510, 1020, 2040, 4080, 4095]|"
   ]
  },
  {
   "cell_type": "markdown",
   "metadata": {},
   "source": [
    "### Вывод\n",
    "\n",
    "Для чисел $1 \\le n \\le 12$ была проверена и доказана подлиннось гипотезы."
   ]
  },
  {
   "cell_type": "markdown",
   "metadata": {},
   "source": [
    "## Выводы\n",
    "\n",
    "Реализованы алгоритм Брауэра и алгоритм дробления вектора индексов, затем были проведены сравнения данных алгоритмов. Применены навыки использования системы компьютерной математики SageMath. Сформировано представление об аддитивных цепочках, вырабатано умение составлять и применять алгоритмы для нахождения минимальных аддитивных цепочек для заданного числа."
   ]
  }
 ],
 "metadata": {
  "kernelspec": {
   "display_name": "SageMath 9.3",
   "language": "sage",
   "name": "sagemath"
  },
  "language_info": {
   "codemirror_mode": {
    "name": "ipython",
    "version": 3
   },
   "file_extension": ".py",
   "mimetype": "text/x-python",
   "name": "python",
   "nbconvert_exporter": "python",
   "pygments_lexer": "ipython3",
   "version": "3.7.10"
  }
 },
 "nbformat": 4,
 "nbformat_minor": 4
}
