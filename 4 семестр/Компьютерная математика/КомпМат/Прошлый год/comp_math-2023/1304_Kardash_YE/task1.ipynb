{
 "cells": [
  {
   "cell_type": "markdown",
   "metadata": {},
   "source": [
    "# Практическая работа №1: Алгоритмы эффективного вычисления одночленов\n",
    "\n",
    "Выполнил студент гр. 1304 Кардаш Ярослав вариант №9"
   ]
  },
  {
   "cell_type": "markdown",
   "metadata": {},
   "source": [
    "## Цель работы\n",
    "\n",
    "Сформировать знания о работе алгоритмах вычисления одночленов за\n",
    "минимальное число операций, привить навык использования систем ком-\n",
    "пьютерной математики для реализации алгоритмов."
   ]
  },
  {
   "cell_type": "markdown",
   "metadata": {},
   "source": [
    "## Основные теоретические положения\n",
    "\n",
    "Рассмотрим задачу вычисления одночленов за минимальное количество операций\n",
    "\n",
    "\n",
    "### Бинарный метод SX\n",
    "Ход работы алгоритма:\n",
    "<ol>\n",
    "<li> Представим некоторое натуральное число n в бинарном виде, т.е. \n",
    "    $n = (a_{m}, a_{m-1}, ..., a_{1})_{2}$, причем $a_{m} = 1$\n",
    "<li> Отбросим старший бит $a_{m}$\n",
    "<li> Заменим: $a_{i} = $SX$,  $если: \n",
    "    $a_{i} = $1 <br>\n",
    "    $a_{i} = $S$, $если:\n",
    "    $a_{i} = $0 \n",
    "<li> Теперь пройти по получившейся записи и выполнить следующие вычисления: <br>\n",
    "    Если $a[i]$ == $S$: $x = x^2$ <br>\n",
    "    Если $a[i]$ == $X$: $x = x*x$ <br>\n",
    "</ol>\n",
    "Для алгоритма справедлива следующая оценка числа операций: <br>\n",
    "$iter$ = $\\lambda(n)$ + $\\nu(n)$ - $1$ <br>\n",
    "Где $\\lambda(n)$ - уменьшенная на 1 длина бинарной записи числа <br>\n",
    "$\\nu(n)$ - вес Хэмминга - количество единиц в бинарной записи числа\n",
    "\n",
    "    Результат работы алгоритма - ответ на поставленную задачу\n",
    "\n",
    "\n",
    "    \n",
    "### Бинарный метод возведения справа налево \n",
    "Ход работы алгоритма:\n",
    "<ol>\n",
    "    <li> Присвоим $N = n$ $Y =1$ $Z = x$ <br> где n степень, в которую нужно возвести число, x -  число\n",
    "     <li> Если N четно, $N = N/2$, $Z = Z^2$ <br>\n",
    "         Иначе $N = floor(N)$ (округление вниз), $Y = Z*Y$. Если $N == 0$ то возвращаем Y, иначе $Z = Z^2$\n",
    "      <li> Пункт 2 повторяется (до тех пор пока $N$ $\\not=$ $0$ т.е. пока не будет возвращен $Y) \n",
    "\n",
    "Для алгоритма справедлива следующая оценка числа операций: <br>\n",
    "$iter$ = $\\lambda(n)$ + $\\nu(n)$ <br>\n",
    "Где $\\lambda(n)$ - уменьшенная на 1 длина бинарной записи числа <br>\n",
    "$\\nu(n)$ - вес Хэмминга - количество единиц в бинарной записи числа\n",
    "\n",
    "### Метод множителей\n",
    "Ход работы алгоритма:\n",
    "<ol>\n",
    "    1. Представим степень n как $n = p*q$ где $p$ - минимальный простой множитель n, $q>1$\n",
    "          Тогда $x^n$ = $ x^{n^{q}}$ <br>\n",
    "    2. Если $x^n$ -  простое, $x^n = x^{n-1} * x$ \n",
    "       При $ n = 1$ $x^n = x$\n",
    "       Если $x^n$ не простое, продолжаем раскладывать его как указано в шаге 1. \n",
    "\n",
    "### Дерево степеней\n",
    "Ход построения дерева степеней:\n",
    "<ol>\n",
    "    1. Корневой элемент дерева = 1 <br>\n",
    "    2. Далее уровни строятся следующим образом: <br>\n",
    "       к каждой вершине k уровня пристраиваются дочерние узлы k+1 уровня такие, что их можно получить с помощью значений вершин, стоящих строго выше в дереве. <br>\n",
    "    3. Уже добавленные узлы повторно в дерево не добавляются"
   ]
  },
  {
   "cell_type": "markdown",
   "metadata": {},
   "source": [
    "## Постановка задачи\n",
    "\n",
    "Реализовать алгоритмы вычисления мономов за минимальное число операций с использованием системы компьютерной алгебры SageMath, провести анализ алгоритмов. Полученные результаты содержательно проинтерпретировать."
   ]
  },
  {
   "cell_type": "markdown",
   "metadata": {},
   "source": [
    "## Выполнение работы\n",
    "\n",
    "### Бинарный метод SX\n",
    "\n",
    "Реализация алгоритма SX в методе sx_alg(grade) <br>\n",
    "На вход подается натуральное число grade - степень, в которую необходимо возвести число <br>\n",
    "Согласно алгоритму сперва получается SX представление число (выводится на экран), затем в цикле число возводится в степень. Каждый шаг итерации также выводится на экран. Метод возвращает кортеж из числа операций и возведенного в степень числа"
   ]
  },
  {
   "cell_type": "code",
   "execution_count": 1,
   "metadata": {},
   "outputs": [],
   "source": [
    "#реализация алгоритма SX\n",
    "def sx_alg(grade):\n",
    "    res = var('x')\n",
    "    bin_note = str(bin(grade)[3:]) #первые два символа - 0b, третий - первый бит числа\n",
    "    bin_note = bin_note.replace('1','SX').replace('0','S')\n",
    "    print(bin_note)\n",
    "    counter = 0\n",
    "    for letters in bin_note:\n",
    "        if letters == 'S':\n",
    "            res= res*res\n",
    "        elif letters == 'X':\n",
    "            res *= x\n",
    "        counter+=1\n",
    "        print(str(counter) +':',res,end=' ')\n",
    "    print()\n",
    "    return counter,res"
   ]
  },
  {
   "cell_type": "markdown",
   "metadata": {},
   "source": [
    "Протестируем метод, передав ему некоторые значения степени"
   ]
  },
  {
   "cell_type": "code",
   "execution_count": 2,
   "metadata": {},
   "outputs": [
    {
     "name": "stdout",
     "output_type": "stream",
     "text": [
      "SSSSX\n",
      "1: x^2 2: x^4 3: x^8 4: x^16 5: x^17 \n",
      "(5, x^17)\n"
     ]
    }
   ],
   "source": [
    "print(sx_alg(17))"
   ]
  },
  {
   "cell_type": "code",
   "execution_count": 3,
   "metadata": {},
   "outputs": [
    {
     "name": "stdout",
     "output_type": "stream",
     "text": [
      "SSSXSXSX\n",
      "1: x^2 2: x^4 3: x^8 4: x^9 5: x^18 6: x^19 7: x^38 8: x^39 \n",
      "(8, x^39)\n"
     ]
    }
   ],
   "source": [
    "print(sx_alg(39))"
   ]
  },
  {
   "cell_type": "code",
   "execution_count": 4,
   "metadata": {
    "scrolled": true
   },
   "outputs": [
    {
     "name": "stdout",
     "output_type": "stream",
     "text": [
      "SXSSXSXS\n",
      "1: x^2 2: x^3 3: x^6 4: x^12 5: x^13 6: x^26 7: x^27 8: x^54 \n",
      "(8, x^54)\n"
     ]
    }
   ],
   "source": [
    "print(sx_alg(54))"
   ]
  },
  {
   "cell_type": "markdown",
   "metadata": {},
   "source": [
    "\n",
    "#### Вывод\n",
    "Реализован метод SX, позволяющий эффективно возводить одночлен в степень. \n",
    "Этот алгоритм позволяет возводить мономы в степень гораздо быстрее, чем методы последовательного умножения.\n",
    "Из хода работы алгоритма можно установить, что он более эффективен для чисел, в бинарной записи которого мало единиц."
   ]
  },
  {
   "cell_type": "markdown",
   "metadata": {},
   "source": [
    "### 2. Метод возведения справа налево"
   ]
  },
  {
   "cell_type": "markdown",
   "metadata": {},
   "source": [
    "В методе rl_alg реализуется алгоритм возведения в степень справа налево"
   ]
  },
  {
   "cell_type": "code",
   "execution_count": 5,
   "metadata": {},
   "outputs": [],
   "source": [
    "#реализиация алгоритма возведения в степень справа налево\n",
    "def rl_alg(grade):\n",
    "    N = grade\n",
    "    Y = 1\n",
    "    Z = var('x')\n",
    "    counter = 0\n",
    "    print(counter,N,Y,Z)\n",
    "    while N != 0:\n",
    "        if N%2 ==0: \n",
    "            N = N//2\n",
    "            Z = Z*Z\n",
    "        else:\n",
    "            N = floor(N/2)\n",
    "            Y = Z*Y\n",
    "            if N==0:\n",
    "                break\n",
    "            else:\n",
    "                Z = Z*Z\n",
    "        counter+=1\n",
    "        print(counter,N,Y,Z)\n",
    "    print(counter+1,N,Y,Z)\n",
    "    return Y\n",
    "\n"
   ]
  },
  {
   "cell_type": "markdown",
   "metadata": {},
   "source": [
    "Протестируем метод такими же значениями, как и метод SX. Результаты представим в виде таблицы."
   ]
  },
  {
   "cell_type": "code",
   "execution_count": 6,
   "metadata": {
    "scrolled": true
   },
   "outputs": [
    {
     "name": "stdout",
     "output_type": "stream",
     "text": [
      "0 17 1 x\n",
      "1 8 x x^2\n",
      "2 4 x x^4\n",
      "3 2 x x^8\n",
      "4 1 x x^16\n",
      "5 0 x^17 x^16\n"
     ]
    },
    {
     "data": {
      "text/html": [
       "<html><script type=\"math/tex; mode=display\">\\newcommand{\\Bold}[1]{\\mathbf{#1}}x^{17}</script></html>"
      ],
      "text/plain": [
       "x^17"
      ]
     },
     "metadata": {},
     "output_type": "display_data"
    }
   ],
   "source": [
    "show(rl_alg(17))"
   ]
  },
  {
   "cell_type": "markdown",
   "metadata": {},
   "source": [
    "Сформируем результат работы программы в виде таблицы <br>\n",
    "N = 17 <br>"
   ]
  },
  {
   "cell_type": "markdown",
   "metadata": {},
   "source": [
    "\n",
    "| № итерации | Значение N | Значение Y | Значение Z   | \n",
    "|:----------:|:----------:|:----------:|:----------:  | \n",
    "|      0     |     17     |    1       |      $x$     | \n",
    "|      1     |     8      |    $x$     |    $x^2$     | \n",
    "|      2     |     4      |    $x$     |     $x^4$    | \n",
    "|      3     |      2     |    $x$     |     $x^8$    | \n",
    "|      4     |      1     |    $x$     |    $x^{16}$  |\n",
    "|      5     |      0     |    $x^{17}$|    $x^{16}$  |"
   ]
  },
  {
   "cell_type": "markdown",
   "metadata": {},
   "source": [
    "\n"
   ]
  },
  {
   "cell_type": "code",
   "execution_count": 7,
   "metadata": {
    "scrolled": true
   },
   "outputs": [
    {
     "name": "stdout",
     "output_type": "stream",
     "text": [
      "0 39 1 x\n",
      "1 19 x x^2\n",
      "2 9 x^3 x^4\n",
      "3 4 x^7 x^8\n",
      "4 2 x^7 x^16\n",
      "5 1 x^7 x^32\n",
      "6 0 x^39 x^32\n"
     ]
    },
    {
     "data": {
      "text/html": [
       "<html><script type=\"math/tex; mode=display\">\\newcommand{\\Bold}[1]{\\mathbf{#1}}x^{39}</script></html>"
      ],
      "text/plain": [
       "x^39"
      ]
     },
     "metadata": {},
     "output_type": "display_data"
    }
   ],
   "source": [
    "show(rl_alg(39))"
   ]
  },
  {
   "cell_type": "markdown",
   "metadata": {},
   "source": [
    "Сформируем результат работы программы в виде таблицы <br>\n",
    "N = 39 <br>"
   ]
  },
  {
   "cell_type": "markdown",
   "metadata": {},
   "source": [
    "\n",
    "| № итерации | Значение N | Значение Y | Значение Z   | \n",
    "|:----------:|:----------:|:----------:|:----------:  | \n",
    "|      0     |     39     |    1       |      $x$     | \n",
    "|      1     |     19     |    $x$     |    $x^2$     | \n",
    "|      2     |      9     |    $x^3$   |     $x^4$    | \n",
    "|      3     |      4     |    $x^7$   |     $x^8$    | \n",
    "|      4     |      2     |    $x^7$   |    $x^{16}$  |\n",
    "|      5     |      1     |    $x^7$   |    $x^{32}$  |\n",
    "|      6     |      0     |    $x^{39}$|    $x^{32}$  |"
   ]
  },
  {
   "cell_type": "code",
   "execution_count": 8,
   "metadata": {},
   "outputs": [
    {
     "name": "stdout",
     "output_type": "stream",
     "text": [
      "0 54 1 x\n",
      "1 27 1 x^2\n",
      "2 13 x^2 x^4\n",
      "3 6 x^6 x^8\n",
      "4 3 x^6 x^16\n",
      "5 1 x^22 x^32\n",
      "6 0 x^54 x^32\n"
     ]
    },
    {
     "data": {
      "text/html": [
       "<html><script type=\"math/tex; mode=display\">\\newcommand{\\Bold}[1]{\\mathbf{#1}}x^{54}</script></html>"
      ],
      "text/plain": [
       "x^54"
      ]
     },
     "metadata": {},
     "output_type": "display_data"
    }
   ],
   "source": [
    "show(rl_alg(54))"
   ]
  },
  {
   "cell_type": "markdown",
   "metadata": {},
   "source": [
    "Сформируем результат работы программы в виде таблицы <br>\n",
    "N = 54 <br>"
   ]
  },
  {
   "cell_type": "markdown",
   "metadata": {},
   "source": [
    "\n",
    "| № итерации | Значение N | Значение Y | Значение Z   | \n",
    "|:----------:|:----------:|:----------:|:----------:  | \n",
    "|      0     |     54     |    1       |      $x$     | \n",
    "|      1     |     27     |    1       |    $x^2$     | \n",
    "|      2     |     13     |    $x^2$   |     $x^4$    | \n",
    "|      3     |      6     |    $x^6$   |     $x^8$    | \n",
    "|      4     |      3     |    $x^6$   |    $x^{16}$  |\n",
    "|      5     |      1     |    $x^{22}$|    $x^{32}$  |\n",
    "|      6     |      0     |    $x^{54}$|    $x^{32}$  |"
   ]
  },
  {
   "cell_type": "markdown",
   "metadata": {},
   "source": [
    "Можно установить, что в общем случае значение $Z$ = $x^{2^{m-2}}$, <br>m - количество итераций в ходе работы алгоритма (нумерация итераций начинается с 0)"
   ]
  },
  {
   "cell_type": "markdown",
   "metadata": {},
   "source": [
    "\n",
    "#### Вывод\n",
    "Реализован алгоритм возведения в степень справа налево, результаты работы выведены в формате таблицы.\n",
    "Этот алгоритм так же работает быстрее, чем методы последовательного умножения. <br>\n",
    "Из оценки скорости работы алгоритма можно установить, что в общем случае он работает хуже алгоритма SX"
   ]
  },
  {
   "cell_type": "markdown",
   "metadata": {},
   "source": [
    "### 3. Сравнение бинарного метода \"SX\" и метод возведения справа налево"
   ]
  },
  {
   "cell_type": "markdown",
   "metadata": {},
   "source": [
    "Исходя из оценки количества операций для методов:\n",
    "метод SX выполняется за $\\lambda(n)$ + $\\nu(n)$ -$1$ операций <br>\n",
    "Метод справа налево выполняется за $\\lambda(n)$ + $\\nu(n)$ операций <br>\n",
    "Справедливость данной оценки можно наблюдать, сравнив число операций для обоих методов в соответствующих пунктах работы (для наглядности в качестве примеров для демонстрации работы алгоритмов были использованы одинаковые числа)"
   ]
  },
  {
   "cell_type": "markdown",
   "metadata": {},
   "source": [
    "### 4. Метод множителей"
   ]
  },
  {
   "cell_type": "markdown",
   "metadata": {},
   "source": [
    "Выполним метод множителей для чисел 17, 39, 54. Алгоритм приведен в разделе основных теоретических положений."
   ]
  },
  {
   "cell_type": "markdown",
   "metadata": {},
   "source": [
    "$n = 17$ <br>\n",
    "$x^{17} = x^{16} *x$  1 операция <br>\n",
    "$x^{16} = (x^2)^8 = ((x^2)^2)^4 = ((((x^2)^2)^2)^2)$  +3 операции (без получения $x^2$) <br>\n",
    "$x^2 = x*x$ +1 операция <br>\n",
    "Итого - 5 операций"
   ]
  },
  {
   "cell_type": "markdown",
   "metadata": {},
   "source": [
    "n = 39 <br>\n",
    "$x^{39} = (x^3)^{12} * x^3$ <br>\n",
    "$x^{39} = x^3 * (((x^3)^2)^2)^3$ <br>\n",
    "$x^3$ - 2 операции <br>\n",
    "$(x^3)^2$ +1 операции <br>\n",
    "$((x^3)^2)^2$  +1 операция <br>\n",
    "$(((x^3)^2)^2)^3$ +2 операции <br>\n",
    "$x^3 * (((x^3)^2)^2)^3$ +1 операция <br>\n",
    "\n",
    "Итого - 7 операций."
   ]
  },
  {
   "cell_type": "markdown",
   "metadata": {},
   "source": [
    "n =54 <br>\n",
    "$x^{54} = (x^2)^{27} = $ <br>\n",
    "$ = ((x^2)^3)^9 = (((x^2)^3)^3)^3$ <br>\n",
    "$ x^2 = x*x $ 1 операция <br>\n",
    "$ (x^2)^3 $ +2 операции <br>\n",
    "$ ((x^2)^3)^3 $ +2 операции <br>\n",
    "$ (((x^2)^3)^3)^3$ +2 операции <br>\n",
    "Итого 7 операций"
   ]
  },
  {
   "cell_type": "markdown",
   "metadata": {},
   "source": [
    "Продемонстрируем также степень, при которой число операций в методе SX меньше, чем в методе множителей\n",
    "n = 33\n",
    "$x^{33} = (x^3)^{11} = (x^3) * (x^3)^{10} = (x^3) * ((x^3)^2)^5$ <br>\n",
    "$ x^3 $ - 2 операции <br>\n",
    "$ (x^3)^2 $ +1 операция <br>\n",
    "$ ((x^3)^2)^5)$ +3 операции <br>\n",
    "$ (x^3) *((x^3)^2)^5$ +1 операция <br>\n",
    " Итого 7 операций"
   ]
  },
  {
   "cell_type": "code",
   "execution_count": 9,
   "metadata": {
    "scrolled": true
   },
   "outputs": [
    {
     "name": "stdout",
     "output_type": "stream",
     "text": [
      "SSSSSX\n",
      "1: x^2 2: x^4 3: x^8 4: x^16 5: x^32 6: x^33 \n",
      "(6, x^33)\n"
     ]
    }
   ],
   "source": [
    "print(sx_alg(33))"
   ]
  },
  {
   "cell_type": "markdown",
   "metadata": {},
   "source": [
    "\n",
    "#### Вывод\n",
    "Проанализирован и выполнен метод множителей. Установлено, что метод множителей может быть как быстрее, так и медленнее бинарного метода SX, в зависимости от количества единиц в бинарной записи числа."
   ]
  },
  {
   "cell_type": "markdown",
   "metadata": {},
   "source": [
    "### 5. Построение дерева степеней"
   ]
  },
  {
   "cell_type": "markdown",
   "metadata": {},
   "source": [
    "В методе bulid_tree построим дерево степеней согласно алгоритму из теоретических положений. <br>\n",
    "Дерево будет храниться в виде словаря, где ключ - элемент дерева, а значение - все предки данного ключа вплоть до корня. <br>\n",
    "В цикле обходятся все родители каждого из детей на текущем уровне и таким образом формируется следующий уровень. Если элемент уже находится в дереве, повтороно он туда не включается."
   ]
  },
  {
   "cell_type": "code",
   "execution_count": 10,
   "metadata": {},
   "outputs": [],
   "source": [
    "def build_tree(level,is_decrease = False):\n",
    "    tree = {1:[1]}\n",
    "    children = [1]\n",
    "    for lev_count in range(level):\n",
    "        cur_children = []\n",
    "        for child in children:\n",
    "            for parent in tree[child]:\n",
    "                new_child = child+parent\n",
    "                if new_child not in tree.keys():\n",
    "                    cur_children.append(new_child)\n",
    "                    tree[new_child] = tree[child] + [new_child]\n",
    "        children = cur_children\n",
    "    return tree"
   ]
  },
  {
   "cell_type": "markdown",
   "metadata": {},
   "source": [
    "В методе show_tree передадим созданное дерево и искому вершину, приведем дерево к виду графа в sage и отобразим его."
   ]
  },
  {
   "cell_type": "code",
   "execution_count": 11,
   "metadata": {},
   "outputs": [],
   "source": [
    "def show_tree(tree,node):\n",
    "    if node not in tree:\n",
    "        print(\"Данный узел находится ниже в дереве степеней\")\n",
    "        node = 1\n",
    "    copy_tree = tree.copy()\n",
    "    copy_tree.pop(1)\n",
    "    show_tree = {}\n",
    "    for key,parent in copy_tree.items():\n",
    "        if not show_tree.get(parent[-2]):\n",
    "            show_tree[parent[-2]] = [key]\n",
    "        else:\n",
    "            show_tree[parent[-2]].append(key)\n",
    "    graph = Graph(show_tree)\n",
    "    pict = graph.plot(layout='tree',tree_root=1,vertex_color = 'yellow', vertex_colors = {'lime': tree[node]})\n",
    "    pict.show()"
   ]
  },
  {
   "cell_type": "markdown",
   "metadata": {},
   "source": [
    "Протестируем методы, построив дерево до 5 уровня и получив путь до элемента 8"
   ]
  },
  {
   "cell_type": "code",
   "execution_count": 12,
   "metadata": {},
   "outputs": [
    {
     "data": {
      "image/png": "[encoded data removed]",
      "text/plain": [
       "Graphics object consisting of 42 graphics primitives"
      ]
     },
     "metadata": {},
     "output_type": "display_data"
    }
   ],
   "source": [
    "show_tree(build_tree(5),8)"
   ]
  },
  {
   "cell_type": "markdown",
   "metadata": {},
   "source": [
    "Еще одна демонстрация - работа вплоть до 7 уровня и поиск элемента 37"
   ]
  },
  {
   "cell_type": "code",
   "execution_count": 13,
   "metadata": {},
   "outputs": [
    {
     "data": {
      "image/png": "[encoded data removed]",
      "text/plain": [
       "Graphics object consisting of 124 graphics primitives"
      ]
     },
     "metadata": {},
     "output_type": "display_data"
    }
   ],
   "source": [
    "show_tree(build_tree(7),37)"
   ]
  },
  {
   "cell_type": "markdown",
   "metadata": {},
   "source": [
    "Теперь сравним метод дерева степеней и SX алгоритм <br>\n",
    "Для алгоритма SX количество операций = $\\lambda(n)$ + $\\nu(n)$ - $1$ <br>\n",
    "Для метода дерева степеней достаточно вывести значение словаря с деревом по ключу искомой вершины"
   ]
  },
  {
   "cell_type": "code",
   "execution_count": 14,
   "metadata": {},
   "outputs": [
    {
     "name": "stdout",
     "output_type": "stream",
     "text": [
      "количество итераций в дереве степеней 7\n",
      "количество итераций в SX методе 7\n"
     ]
    }
   ],
   "source": [
    "val = 37\n",
    "print(\"количество итераций в дереве степеней\", len(build_tree(7)[val])-1)\n",
    "print(\"количество итераций в SX методе\", floor(log(val, 2)) + bin(val)[2:].count('1') - 1)"
   ]
  },
  {
   "cell_type": "markdown",
   "metadata": {},
   "source": [
    "Можно запустить цикл и проверить, что дерево степеней не проигрывает методу SX (количество операций не больше) вплоть до n = 1000"
   ]
  },
  {
   "cell_type": "code",
   "execution_count": 15,
   "metadata": {
    "scrolled": true
   },
   "outputs": [
    {
     "name": "stdout",
     "output_type": "stream",
     "text": [
      "Утверждение верно\n"
     ]
    }
   ],
   "source": [
    "n = 1000\n",
    "flag = True\n",
    "for i in range(1,n):\n",
    "    if len(build_tree(15)[i])-1 > floor(log(i, 2)) + bin(i)[2:].count('1') - 1:\n",
    "        flag = False\n",
    "        print(i)\n",
    "        break\n",
    "if flag:\n",
    "    print(\"Утверждение верно\")\n",
    "else:\n",
    "    print(\"Утверждение неверно\")"
   ]
  },
  {
   "cell_type": "markdown",
   "metadata": {},
   "source": [
    "#### Вывод\n",
    "Реализован метод дерева степеней, в котором вплоть до некоторого уровня n строится дерево, отображающее то, как можно получить степени за наименьшее число шагов.\n",
    "С помощью методов отрисовки sage по заданным параметрам уровня и искомой степени изображен график дерева, цветом отмечен путь от искомой вершины до корня.\n",
    "Проверено вплоть до n = 1000, что метод степеней дает не большее количество операций, чем метод SX.\n",
    "Среди преимуществ использования дерева степеней можно выделить то, что, построив дерево вплоть до некотого уровня, можно быстро найти любую степень, находящуюся на не превышающем заданного уровне."
   ]
  },
  {
   "cell_type": "markdown",
   "metadata": {},
   "source": [
    "## Выводы\n",
    "Сформировать знания о работе алгоритмах вычисления одночленов за\n",
    "минимальное число операций, привить навык использования систем ком-\n",
    "пьютерной математики для реализации алгоритмов.\n",
    "Сформированы знания о работе вычисления одночленов за минимальное число операций, для реализации алгоритмов использована компьютерная система sage, использующая язык python.\n",
    "Реализованы и протестированы алгоритмы SX и метод справа налево, изучен метод множителей (с его помощью вручную посчитаны значения), реализован метод дерева степеней.\n",
    "Проверена работоспособность алгоритмов и верность оценок количества операций.\n",
    "Произведено сравнение метода SX, метода справа налево и метода множителей, метода SX и метода дерева степеней, подтверждены теоретические утверждения о том, как соотносятся скорости их работы."
   ]
  }
 ],
 "metadata": {
  "kernelspec": {
   "display_name": "SageMath 9.0",
   "language": "sage",
   "name": "sagemath"
  },
  "language_info": {
   "codemirror_mode": {
    "name": "ipython",
    "version": 3
   },
   "file_extension": ".py",
   "mimetype": "text/x-python",
   "name": "python",
   "nbconvert_exporter": "python",
   "pygments_lexer": "ipython3",
   "version": "3.8.10"
  }
 },
 "nbformat": 4,
 "nbformat_minor": 4
}
