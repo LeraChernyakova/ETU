{
 "cells": [
  {
   "cell_type": "markdown",
   "metadata": {},
   "source": [
    "# Практическая работа №1: Алгоритмы эффективного вычисления одночленов\n",
    "\n",
    "Выполнил студент гр. 1304 Мамин Роман. Вариант №40."
   ]
  },
  {
   "cell_type": "markdown",
   "metadata": {},
   "source": [
    "## Цель работы\n",
    "\n",
    "Цель данной работы заключается в приобретении знаний о том, как эффективно вычислять одночлены, используя минимальное количество операций, а также в освоении навыков использования компьютерных математических систем для реализации данных алгоритмов."
   ]
  },
  {
   "cell_type": "markdown",
   "metadata": {},
   "source": [
    "## Основные теоретические положения\n",
    "\n",
    "### Метод бинарного SX\n",
    "Последовательность работы алгоритма:\n",
    "\n",
    "<ol>\n",
    "<li> Представим некоторое натуральное число n в двоичной форме: \n",
    "    $n = (a_{m}, a_{m-1}, ..., a_{1})_{2}$, где $a_{m} = 1$\n",
    "<li> Уберем старший бит $a_{m}$\n",
    "<li> Заменяем: $a_{i} = $SX$,  $если: \n",
    "    $a_{i} = $1 <br>\n",
    "    $a_{i} = $S$, $если:\n",
    "    $a_{i} = $0 \n",
    "<li> Выполняем вычисление: <br>\n",
    "    Если $a[i]$ == $S$: $x = x^2$ <br>\n",
    "    Если $a[i]$ == $X$: $x = x*x$ <br>\n",
    "</ol>\n",
    "Число операций для бинарного метода $SX$ можно записать следующим образом: $\\lambda(n) + \\nu(n) - 1$\n",
    "\n",
    "### Бинарный метод возведения справа налево \n",
    "Далее представлен алгоритм для возведения в степень $n$ (т. е. вычисления $x^n$) методом справа налево:\n",
    "<ol>\n",
    "    <li>На нулевой итерации поставим $N = n; Y = 1; Z = x$</li>\n",
    "    <li>Если $N$ чётно - переходим на пункт 3, иначе - на пункт 4</li>\n",
    "    <li>Переприсваиваем $N = \\lfloor N/2 \\rfloor; Z = Z * Z$; переходим на пункт 2</li>\n",
    "    <li>Переприсваиваем $N = \\lfloor N/2 \\rfloor; Y = Z * Y$</li>\n",
    "    <li>Если $N = 0$, то возвращаем $Y$ как ответ и выходим из алгоритма. Иначе - переприсваиваем $Z = Z * Z$ и переходим на пункт 2</li>\n",
    "</ol>\n",
    "Число операций для бинарного метода справа налево можно записать следующим образом: $\\lambda(n) + \\nu(n)$\n",
    "\n",
    "### Метод множителей\n",
    "Последовательность работы алгоритма:\n",
    "<ol>\n",
    "    1. Представим степень n как $n = p*q$ где $p$ - минимальный простой множитель n, $q>1$\n",
    "          Тогда $x^n$ = $ x^{n^{q}}$ <br>\n",
    "    2. Если $x^n$ является простым числом, то его можно представить как произведение $x^{n-1}$ и $x$, то есть $x^n = x^{n-1} * x$. Если $n = 1$, то $x^n = x$. Если же $x^n$ не является простым числом, то необходимо продолжать разложение, используя тот же самый алгоритм, описанный в шаге 1.\n",
    "</ol>\n",
    "\n",
    "### Дерево степеней\n",
    "Последовательность работы алгоритма построения дерева степеней до $k$-го уровня:\n",
    "<ol>\n",
    "    <li>В дереве на самом верхнем уровне имеется только один узел с номером $1$, который является корневым узлом.</li>\n",
    "    <li>Чтобы построить $k+1$-й уровень дерева, необходимо взять каждый узел $i$ на $k$-м уровне, начиная слева и двигаясь направо, и присоединить к нему узлы с номерами $i+a_{0}, i+a_{1}, ..., i+a_{k-1}$.</li>\n",
    "    <li>Если узел уже присутствует, то он не будет добавлен повторно.</li>\n",
    "</ol>"
   ]
  },
  {
   "cell_type": "markdown",
   "metadata": {},
   "source": [
    "## Постановка задачи\n",
    "\n",
    "Для выполнения задачи требуется реализовать алгоритмы, которые позволяют вычислять мономы с использованием системы компьютерной алгебры SageMath с минимальным количеством операций. Затем следует провести анализ этих алгоритмов. Полученные результаты могут быть проинтерпретированы в контексте эффективности и скорости работы каждого алгоритма, что позволит выбрать наиболее оптимальный алгоритм для решения конкретной задачи."
   ]
  },
  {
   "cell_type": "markdown",
   "metadata": {},
   "source": [
    "## Выполнение работы\n",
    "\n",
    "### Бинарный метод SX\n",
    "\n",
    "Функция реализует алгоритм бинарного метода SX для возведения числа `x` в степень `n`. Функция принимает на вход один аргумент `n`, который представляет собой степень, в которую необходимо возвести число `x`.\n",
    "\n",
    "### Входные параметры:\n",
    "- `n` - натуральное число, степень в которую нужно возвести число `x`\n",
    "\n",
    "### Пример использования:\n",
    "binary_method_SX(13)\n",
    "\n",
    "### Описание переменных:\n",
    "\n",
    "- `x` - символьная переменная, которая хранит введенное пользователем число.\n",
    "- `result` - переменная, которая инициализируется значением `x`.\n",
    "- `xi` - переменная, которая инициализируется значением `x`.\n",
    "- `s_or_x_sequence` - переменная, которая используется для хранения последовательности операций `S` и `X`.\n",
    "- `iteration` - переменная, которая используется для отслеживания количества итераций.\n",
    "- `n` - аргумент функции, который представляет собой степень, в которую необходимо возвести число `x`.\n",
    "- `operations` - возвращаемый список операций `S` и `X`.\n",
    "- `values` - возвращаемый список значений `x_i` после каждой итерации.\n",
    "\n",
    "\n",
    "\n"
   ]
  },
  {
   "cell_type": "code",
   "execution_count": 20,
   "metadata": {},
   "outputs": [],
   "source": [
    "def binary_method_SX(n):\n",
    "    # Создаем переменную x, используя функцию var() из библиотеки SageMath\n",
    "    x = var('x')\n",
    "    k = n\n",
    "    \n",
    "    # Инициализируем результат и xi значением x\n",
    "    result = x\n",
    "    xi = x\n",
    "\n",
    "    # Инициализируем переменную для последовательности операций\n",
    "    s_or_x_sequence = ''\n",
    "    \n",
    "    # Инициализируем счетчик итераций\n",
    "    iteration = 1\n",
    "    \n",
    "    print(\"Итерации:\")\n",
    "    # Пока степень n больше 1\n",
    "    while n > 1:\n",
    "        # Если n четное число\n",
    "        if n % 2 == 0 and n!=2:\n",
    "            # Возводим xi в квадрат\n",
    "            xi = xi^2\n",
    "            # Делим n на 2\n",
    "            n = n // 2\n",
    "            # Добавляем символ 'S' к последовательности операций\n",
    "            s_or_x_sequence += 'S'\n",
    "        # Если n нечетное число\n",
    "        else:\n",
    "            # Умножаем xi на x\n",
    "            xi = xi * x\n",
    "            # Уменьшаем n на 1\n",
    "            n = n - 1\n",
    "            # Добавляем символ 'X' к последовательности операций\n",
    "            s_or_x_sequence += 'X'\n",
    "        print(f\"{iteration}: {xi} {n}\")\n",
    "        iteration += 1\n",
    "    print(f\"Последователность: {s_or_x_sequence[::-1]}\")"
   ]
  },
  {
   "cell_type": "code",
   "execution_count": 21,
   "metadata": {},
   "outputs": [
    {
     "name": "stdout",
     "output_type": "stream",
     "text": [
      "Итерации:\n",
      "1: x^2 36\n",
      "2: x^4 18\n",
      "3: x^8 9\n",
      "4: x^9 8\n",
      "5: x^18 4\n",
      "6: x^36 2\n",
      "7: x^37 1\n",
      "Последователность: XSSXSSX\n"
     ]
    }
   ],
   "source": [
    "n = 37\n",
    "binary_method_SX(n)"
   ]
  },
  {
   "cell_type": "code",
   "execution_count": 22,
   "metadata": {},
   "outputs": [
    {
     "name": "stdout",
     "output_type": "stream",
     "text": [
      "Итерации:\n",
      "1: x^2 22\n",
      "2: x^4 11\n",
      "3: x^5 10\n",
      "4: x^10 5\n",
      "5: x^11 4\n",
      "6: x^22 2\n",
      "7: x^23 1\n",
      "Последователность: XSXSXSX\n"
     ]
    }
   ],
   "source": [
    "n = 23\n",
    "binary_method_SX(n)"
   ]
  },
  {
   "cell_type": "code",
   "execution_count": 23,
   "metadata": {},
   "outputs": [
    {
     "name": "stdout",
     "output_type": "stream",
     "text": [
      "Итерации:\n",
      "1: x^2 16\n",
      "2: x^4 8\n",
      "3: x^8 4\n",
      "4: x^16 2\n",
      "5: x^17 1\n",
      "Последователность: XSSSX\n"
     ]
    }
   ],
   "source": [
    "n = 17\n",
    "binary_method_SX(n)"
   ]
  },
  {
   "cell_type": "markdown",
   "metadata": {},
   "source": [
    "Проверим оценку числа операций для данных $n$:<br>\n",
    "\n",
    "$n = 37 \\Rightarrow \\lambda(n) = \\lfloor log_{2}(n) \\rfloor = 5; \\nu(n) = 3; \\lambda(n) + \\nu(n) - 1 = 7 \\Rightarrow$ Верно<br>\n",
    "$n = 23 \\Rightarrow \\lambda(n) = \\lfloor log_{2}(n) \\rfloor = 4; \\nu(n) = 4; \\lambda(n) + \\nu(n) - 1 = 7 \\Rightarrow$ Верно<br>\n",
    "$n = 17 \\Rightarrow \\lambda(n) = \\lfloor log_{2}(n) \\rfloor = 4; \\nu(n) = 2; \\lambda(n) + \\nu(n) - 1 = 5 \\Rightarrow$ Верно<br>\n",
    "\n",
    "Формула для вычисления количества операций корректна."
   ]
  },
  {
   "cell_type": "markdown",
   "metadata": {},
   "source": [
    "### Вывод\n",
    "\n",
    "Реализован алгоритм бинарного метода SX, который позволяет быстро и эффективно вычислять степени числа $x$. В результате проверки работоспособности алгоритма было выявлено, что он действительно работает корректно и выдает правильный результат. Кроме того, благодаря теоретической оценке числа операций, можно заранее узнать, сколько итераций потребуется для вычисления степени числа $x$. В силу простоты реализации и понимания алгоритма, он может быть использован в различных задачах, связанных с вычислением степеней чисел."
   ]
  },
  {
   "cell_type": "markdown",
   "metadata": {},
   "source": [
    "### Бинарный метод возведения справа налево\n",
    "\n",
    "Функция реализует алгоритм право-налево бинарного возведения числа в степень. Функция принимает на вход один аргумент `n`, который представляет собой степень, в которую необходимо возвести число `x`.\n",
    "\n",
    "### Входные параметры:\n",
    "- `n` - натуральное число, степень в которую нужно возвести число `x`\n",
    "\n",
    "### Пример использования:\n",
    "right_to_left_binary_exponentiation(13)\n",
    "\n",
    "### Описание переменных\n",
    "\n",
    "- `x_var` - символьная переменная, которая хранит введенное пользователем число.\n",
    "- `N` - переменная, которая инициализируется значением `n` и используется для отслеживания степени, в которую необходимо возвести число `x`.\n",
    "- `Y` - переменная, которая инициализируется значением `1` и используется для хранения результата возведения числа `x` в степень `n`.\n",
    "- `Z` - переменная, которая инициализируется значением `x_var` и используется для хранения промежуточных результатов при выполнении алгоритма.\n",
    "- `iteration` - переменная, которая используется для отслеживания количества итераций.\n"
   ]
  },
  {
   "cell_type": "code",
   "execution_count": 24,
   "metadata": {},
   "outputs": [],
   "source": [
    "def right_to_left_binary_exponentiation(n):\n",
    "    # Инициализация символьной переменной x_var\n",
    "    x_var = var('x')\n",
    "    \n",
    "    # Инициализация переменных N, Y и Z\n",
    "    N = n\n",
    "    Y = 1\n",
    "    Z = x_var\n",
    "    \n",
    "    # Инициализация переменной-счётчика и печать начальных значений N, Y и Z\n",
    "    iteration = 0\n",
    "    print(f\"{iteration}\\t{N}\\t{Y}\\t{Z}\")\n",
    "    \n",
    "    while N != 0:\n",
    "        if N % 2 == 0:\n",
    "            # Если N чётное, то делим его на 2 и возводим Z в квадрат\n",
    "            N = N // 2\n",
    "            Z = Z * Z\n",
    "        else:\n",
    "            # Если N нечётное, то вычитаем 1, делим на 2 и перемножаем Z с Y, а также возведём Z в квадрат, если N != 0\n",
    "            N = (N - 1) // 2\n",
    "            Y = Z * Y\n",
    "            if N != 0:\n",
    "                Z = Z * Z\n",
    "        # Увеличение значения переменной-счётчика и печать текущих значений N, Y и Z\n",
    "        iteration += 1\n",
    "        print(f\"{iteration}\\t{N}\\t{Y}\\t{Z}\")"
   ]
  },
  {
   "cell_type": "code",
   "execution_count": 25,
   "metadata": {},
   "outputs": [
    {
     "name": "stdout",
     "output_type": "stream",
     "text": [
      "0\t37\t1\tx\n",
      "1\t18\tx\tx^2\n",
      "2\t9\tx\tx^4\n",
      "3\t4\tx^5\tx^8\n",
      "4\t2\tx^5\tx^16\n",
      "5\t1\tx^5\tx^32\n",
      "6\t0\tx^37\tx^32\n"
     ]
    }
   ],
   "source": [
    "right_to_left_binary_exponentiation(37)"
   ]
  },
  {
   "cell_type": "markdown",
   "metadata": {},
   "source": [
    "| № итерации | Значение N | Значение Y | Значение Z   | \n",
    "|:----------:|:----------:|:----------:|:----------:  | \n",
    "|      0     |     37     |    1       |      $x$     | \n",
    "|      1     |     18     |    x       |    $x^2$     | \n",
    "|      2     |      9     |    x       |     $x^4$    | \n",
    "|      3     |      4     |    $x^5$   |     $x^8$    | \n",
    "|      4     |      2     |    $x^5$   |    $x^{16}$  |\n",
    "|      5     |      1     |    $x^5$|    $x^{32}$  |\n",
    "|      6     |      0     |    $x^{37}$|    $x^{32}$  |"
   ]
  },
  {
   "cell_type": "code",
   "execution_count": 26,
   "metadata": {},
   "outputs": [
    {
     "name": "stdout",
     "output_type": "stream",
     "text": [
      "0\t23\t1\tx\n",
      "1\t11\tx\tx^2\n",
      "2\t5\tx^3\tx^4\n",
      "3\t2\tx^7\tx^8\n",
      "4\t1\tx^7\tx^16\n",
      "5\t0\tx^23\tx^16\n"
     ]
    }
   ],
   "source": [
    "right_to_left_binary_exponentiation(23)"
   ]
  },
  {
   "cell_type": "markdown",
   "metadata": {},
   "source": [
    "| № итерации | Значение N | Значение Y | Значение Z |\n",
    "|:----------:|:----------:|:----------:|:----------:|\n",
    "|      0     |     23     |      1     |     $x$    |\n",
    "|      1     |     11     |      x     |    $x^2$    |\n",
    "|      2     |      5     |  $x^3$     |    $x^4$   |\n",
    "|      3     |      2     |  $x^7$     |    $x^8$   |\n",
    "|      4     |      1     |    $x^7$   |  $x^{16}$  |\n",
    "|      5     |      0     |  $x^{23}$  |  $x^{16}$  |"
   ]
  },
  {
   "cell_type": "code",
   "execution_count": 27,
   "metadata": {},
   "outputs": [
    {
     "name": "stdout",
     "output_type": "stream",
     "text": [
      "0\t17\t1\tx\n",
      "1\t8\tx\tx^2\n",
      "2\t4\tx\tx^4\n",
      "3\t2\tx\tx^8\n",
      "4\t1\tx\tx^16\n",
      "5\t0\tx^17\tx^16\n"
     ]
    }
   ],
   "source": [
    "right_to_left_binary_exponentiation(17)"
   ]
  },
  {
   "cell_type": "markdown",
   "metadata": {},
   "source": [
    "\n",
    "| № итерации | Значение N | Значение Y | Значение Z   | \n",
    "|:----------:|:----------:|:----------:|:----------:  | \n",
    "|      0     |     17     |    1       |      $x$     | \n",
    "|      1     |     8      |    x       |    $x^2$     | \n",
    "|      2     |     4      |    x       |     $x^4$    | \n",
    "|      3     |      2     |    x       |     $x^8$    | \n",
    "|      4     |      1     |    x       |    $x^{16}$  |\n",
    "|      5     |      0     |    $x^{17}$|    $x^{16}$  |"
   ]
  },
  {
   "cell_type": "markdown",
   "metadata": {},
   "source": [
    "Можно заметить, что при выполнении алгоритма право-налево бинарного возведения числа в степень, значение переменной $Z$ принимает особый вид. В общем случае, значение $Z$ выражается как $x^{2^{m-2}}$, где $m$ - количество итераций в ходе работы алгоритма (нумерация итераций начинается с 0). Таким образом, зная число итераций $m$, можно определить значение переменной $Z$, которое будет использоваться при вычислении результата возведения числа $x$ в степень $n$."
   ]
  },
  {
   "cell_type": "markdown",
   "metadata": {},
   "source": [
    "Проверка результатов полученных на практике с теоретическими:\n",
    "\n",
    "1)  $𝑛 = 37:𝜆(𝑛)=5;𝜈(𝑛)=1;𝜆(𝑛)+𝜈(𝑛) = 6$ − верно  \n",
    "2)  $𝑛 = 23:𝜆(𝑛)=4;𝜈(𝑛)=1;𝜆(𝑛)+𝜈(𝑛) = 5$ − верно  \n",
    "3)  $𝑛 = 17:𝜆(𝑛)=4;𝜈(𝑛)=1;𝜆(𝑛)+𝜈(𝑛) = 5$ − верно  \n",
    "\n",
    "Результаты совпали, значит формула для оценки операций корректна."
   ]
  },
  {
   "cell_type": "markdown",
   "metadata": {},
   "source": [
    "### Вывод\n",
    "Был реализован алгоритм возведения в степень справа налево с использованием метода бинарного возведения. Результаты работы алгоритма были представлены в виде таблицы. Сравнивая скорость работы алгоритма с другими методами возведения в степень, можно сделать вывод, что он работает быстрее, чем метод последовательного умножения.\n",
    "\n",
    "Однако, из оценки скорости работы алгоритма можно установить, что в общем случае он работает медленнее алгоритма SX. Поэтому, выбор алгоритма возведения в степень зависит от конкретной задачи и требований к скорости работы.\n",
    "\n",
    "В целом, алгоритм возведения в степень справа налево имеет ряд преимуществ, таких как простота реализации и более быстрое выполнение, чем метод последовательного умножения. Однако, для больших значений степени и числа может быть более эффективно использовать другие алгоритмы, такие как метод SX."
   ]
  },
  {
   "cell_type": "markdown",
   "metadata": {},
   "source": [
    "### 3. Сравнение бинарного метода \"SX\" и метод возведения справа налево\n",
    "При сравнении методов возведения числа в степень можно провести оценку числа операций, которые требуются для выполнения алгоритмов. Исходя из такой оценки, можно сделать вывод, что число операций в методе возведения справа налево больше, чем в методе $SX$.\n",
    "\n",
    "Число итераций в методе возведения справа налево можно оценить как $\\lfloor log_{2}(n) \\rfloor + 2$, где $n$ - степень, в которую нужно возвести число. В то же время, в методе $SX$ число итераций определяется как $\\lambda(n) + \\nu(n) - 1$, где $\\lambda(n)$ - количество единиц в двоичной записи числа $n$, а $\\nu(n)$ - количество блоков из единиц, разделенных нулями в двоичной записи числа $n$.\n",
    "\n",
    "Таким образом, метод бинарного возведения $SX$ выгоднее метода возведения числа в степень справа налево. Однако, выбор конкретного метода зависит от задачи и требований к скорости работы алгоритма. Важно также учитывать особенности реализации и доступность алгоритмов в используемой системе компьютерной алгебры."
   ]
  },
  {
   "cell_type": "markdown",
   "metadata": {},
   "source": [
    "### 4. Метод множителей"
   ]
  },
  {
   "cell_type": "markdown",
   "metadata": {},
   "source": [
    "Метод множителей для n = 37:\n",
    "\n",
    "$x^{37} = x^{36}*x$ (1 операция)<br>\n",
    "$x^{36} = (x^{2})^{18}$ (1 операция)<br>\n",
    "$x^{18} = (x^2)^9$ (1 операция)<br>\n",
    "$x^{9} = x*x^8$ (1 операция)<br>\n",
    "$x^{8} = x^2*x^4$ (1 операция)<br>\n",
    "$x^{4} = x^2*x^2$ (2 операции)<br>\n",
    "Итого 7 операций."
   ]
  },
  {
   "cell_type": "markdown",
   "metadata": {},
   "source": [
    "Метод множителей для n = 23:\n",
    "\n",
    "$x^{23} = x^{22}*x$ (1 операция)<br>\n",
    "$x^{22} = x^{2}*x^{11}$ (1 операция)<br>\n",
    "$x^{11} = x*x^{10}$ (1 операция)<br>\n",
    "$x^{10} = x^2*x^{5}$ (1 операция)<br>\n",
    "$x^{5} = x*x^{4}$ (1 операция)<br>\n",
    "$x^{4} = x^2*x^2$ (2 операции)<br>\n",
    "Итого 7 операций.\n"
   ]
  },
  {
   "cell_type": "markdown",
   "metadata": {},
   "source": [
    "Метод множителей для n = 17:\n",
    "\n",
    "$x^{17} = x*x^{16}$ (1 операция)<br>\n",
    "$x^{16} = x^{2}*x^{8}$ (1 операция)<br>\n",
    "$x^{8} = x^2*x^{4}$ (1 операция)<br>\n",
    "$x^{4} = x^2*x^2$ (2 операции)<br>\n",
    "Итого 5 операций."
   ]
  },
  {
   "cell_type": "markdown",
   "metadata": {},
   "source": [
    "### Вывод\n",
    "\n",
    "Сделан анализ и применен метод множителей. Выяснено, что эффективность метода множителей зависит от количества единиц в бинарной записи числа. Если число содержит много единиц, то метод множителей может оказаться более быстрым, чем бинарный метод SX. Однако, если число содержит мало единиц, то бинарный метод SX может оказаться более эффективным."
   ]
  },
  {
   "cell_type": "markdown",
   "metadata": {},
   "source": [
    "### 4. Дерево степеней\n",
    "\n",
    "Класс Node - класс вершины дерева.\n",
    "Класс Tree - класс дерева с различными методами-операциями."
   ]
  },
  {
   "cell_type": "code",
   "execution_count": 28,
   "metadata": {},
   "outputs": [],
   "source": [
    "class Node:\n",
    "    \"\"\"\n",
    "    Класс узла\n",
    "    \"\"\"\n",
    "    def __init__(self, value=None):\n",
    "        self.value = value\n",
    "        self.children = []\n",
    "        \n",
    "    def add_child(self, node):\n",
    "        \"\"\"\n",
    "        Добавление дочернего узла\n",
    "        \"\"\"\n",
    "        self.children.append(node)\n",
    "        \n",
    "class Tree:\n",
    "    \"\"\"\n",
    "    Класс дерева\n",
    "    \"\"\"\n",
    "    def __init__(self, root_value=None):\n",
    "        self.root = Node(root_value) if root_value is not None else None\n",
    "        \n",
    "    def add_node(self, parent_value, node_value):\n",
    "        \"\"\"\n",
    "        Добавление узла\n",
    "        \"\"\"\n",
    "        new_node = Node(node_value)\n",
    "        if self.root is None:\n",
    "            self.root = new_node\n",
    "            return\n",
    "        parent_node = self._search_node(parent_value, self.root)\n",
    "        if parent_node is None:\n",
    "            print(\"Parent node not found.\")\n",
    "        else:\n",
    "            parent_node.add_child(new_node)\n",
    "    def _search_node(self, value, current_node):\n",
    "        \"\"\"\n",
    "        Поиск узла\n",
    "        \"\"\"\n",
    "        if current_node.value == value:\n",
    "            return current_node\n",
    "        for child_node in current_node.children:\n",
    "            result = self._search_node(value, child_node)\n",
    "            if result is not None:\n",
    "                return result\n",
    "        return None\n",
    "    \n",
    "    def find_path(self, start_value, end_value):\n",
    "        \"\"\"\n",
    "        Поиск пути к узлу\n",
    "        \"\"\"\n",
    "        start_node = self._search_node(start_value, self.root)\n",
    "        end_node = self._search_node(end_value, self.root)\n",
    "        if start_node is None or end_node is None:\n",
    "            return None\n",
    "        path = self._find_path(start_node, end_node)\n",
    "        return [node.value for node in path] if path is not None else None\n",
    "    \n",
    "    def _find_path(self, start_node, end_node):\n",
    "        if start_node == end_node:\n",
    "            return [start_node]\n",
    "        for child_node in start_node.children:\n",
    "            path = self._find_path(child_node, end_node)\n",
    "            if path is not None:\n",
    "                return [start_node] + path\n",
    "        return None\n",
    "    \n",
    "    def find_node(self, value):\n",
    "        \"\"\"\n",
    "        Поиск узла относительно корня\n",
    "        \"\"\"\n",
    "        return self._search_node(value, self.root)\n",
    "    \n",
    "def get_nodes_at_level(tree, level):\n",
    "    \"\"\"\n",
    "    Получение всех вершин уровня\n",
    "    \"\"\"\n",
    "    if tree.root is None or level < 0:\n",
    "        return []\n",
    "    elif level == 0:\n",
    "        return [tree.root]\n",
    "    else:\n",
    "        return _get_nodes_at_level(tree.root.children, level-1)\n",
    "    \n",
    "def _get_nodes_at_level(nodes, level):\n",
    "    if level == 0:\n",
    "        return nodes\n",
    "    next_level_nodes = []\n",
    "    for node in nodes:\n",
    "        next_level_nodes.extend(node.children)\n",
    "    return _get_nodes_at_level(next_level_nodes, level-1)"
   ]
  },
  {
   "cell_type": "markdown",
   "metadata": {},
   "source": [
    "Функция build_tree строит дерево степеней начиная с 0-го уровня"
   ]
  },
  {
   "cell_type": "code",
   "execution_count": 29,
   "metadata": {},
   "outputs": [],
   "source": [
    "def build_tree(k):\n",
    "    \"\"\"\n",
    "    Построение дерева степеней k-го уровня\n",
    "    \"\"\"\n",
    "    tree = Tree(1)\n",
    "    for level in range(k+1):\n",
    "        edges = get_nodes_at_level(tree, level)\n",
    "        for edge in edges:\n",
    "            path = tree.find_path(1, edge.value)\n",
    "            for parent in path:\n",
    "                new_edge = edge.value + parent\n",
    "                if tree.find_node(new_edge) is None:\n",
    "                    tree.add_node(edge.value, new_edge)\n",
    "            if tree.find_node(edge.value*2) is None:\n",
    "                tree.add_node(edge.value, edge.value*2)\n",
    "    return tree          "
   ]
  },
  {
   "cell_type": "markdown",
   "metadata": {},
   "source": [
    "Функция visualize_tree визуализирует дерево степеней"
   ]
  },
  {
   "cell_type": "code",
   "execution_count": 30,
   "metadata": {},
   "outputs": [],
   "source": [
    "from sage.graphs.graph_plot import GraphPlot\n",
    "\n",
    "def build_parent_dict(root):\n",
    "    \"\"\"\n",
    "    Построение словаря с родителями (для визуализации дерева) \n",
    "    \"\"\"\n",
    "    parent_dict = {root.value: []}\n",
    "    _traverse_tree(root, parent_dict)\n",
    "    return parent_dict\n",
    "\n",
    "def _traverse_tree(node, parent_dict):\n",
    "    for child_node in node.children:\n",
    "        parent_dict[child_node.value] = [node.value]\n",
    "        _traverse_tree(child_node, parent_dict)\n",
    "\n",
    "def visualize_tree(tree, node=None):\n",
    "    \"\"\"\n",
    "    Визуализация дерева\n",
    "    \"\"\"\n",
    "    tree_map = build_parent_dict(tree.root)\n",
    "    graph = Graph(tree_map)\n",
    "    if tree.find_node(node) is None:\n",
    "        node = 1\n",
    "    path = tree.find_path(1, node)\n",
    "    tuple_way = []\n",
    "    for i in range(len(path)-1):\n",
    "        tuple_way.append((path[i], path[i+1]))\n",
    "    P = graph.plot(layout = 'tree', tree_root = 1, vertex_color = 'lightblue', by_component = True, edge_colors = {'red': tuple_way})\n",
    "    P.show()\n",
    "    return graph\n",
    "    \n",
    "def _add_node_to_graph(graph, node_map, node):\n",
    "    node_map[node] = graph.add_vertex(str(node.value))\n",
    "    for child_node in node.children:\n",
    "        child_vertex = node_map.get(child_node)\n",
    "        if child_vertex is None:\n",
    "            child_vertex = _add_node_to_graph(graph, node_map, child_node)\n",
    "        graph.add_edge(node_map[node], child_vertex)\n",
    "    return node_map[node]"
   ]
  },
  {
   "cell_type": "markdown",
   "metadata": {},
   "source": [
    "Протестируем методы, построив дерево до 4 уровня и получив путь до элемента 9"
   ]
  },
  {
   "cell_type": "code",
   "execution_count": 31,
   "metadata": {},
   "outputs": [
    {
     "data": {
      "image/png": "[encoded data removed]",
      "text/plain": [
       "Graphics object consisting of 42 graphics primitives"
      ]
     },
     "metadata": {},
     "output_type": "display_data"
    },
    {
     "data": {
      "text/plain": [
       "Graph on 21 vertices (use the .plot() method to plot)"
      ]
     },
     "execution_count": 31,
     "metadata": {},
     "output_type": "execute_result"
    }
   ],
   "source": [
    "tree = build_tree(4)\n",
    "\n",
    "visualize_tree(tree, 9)"
   ]
  },
  {
   "cell_type": "markdown",
   "metadata": {},
   "source": [
    "Протестируем методы, построив дерево до 5 уровня и получив путь до элемента 8"
   ]
  },
  {
   "cell_type": "code",
   "execution_count": 32,
   "metadata": {},
   "outputs": [
    {
     "data": {
      "image/png": "[encoded data removed]",
      "text/plain": [
       "Graphics object consisting of 72 graphics primitives"
      ]
     },
     "metadata": {},
     "output_type": "display_data"
    },
    {
     "data": {
      "text/plain": [
       "Graph on 36 vertices (use the .plot() method to plot)"
      ]
     },
     "execution_count": 32,
     "metadata": {},
     "output_type": "execute_result"
    }
   ],
   "source": [
    "tree = build_tree(5)\n",
    "\n",
    "visualize_tree(tree, 8)"
   ]
  },
  {
   "cell_type": "markdown",
   "metadata": {},
   "source": [
    "Сравним методы дерева степеней и SX<br>"
   ]
  },
  {
   "cell_type": "code",
   "execution_count": 33,
   "metadata": {},
   "outputs": [
    {
     "name": "stdout",
     "output_type": "stream",
     "text": [
      "Итераций в дереве степеней 7\n",
      "Итераций в SX методе 7\n"
     ]
    }
   ],
   "source": [
    "val = 37\n",
    "print(\"Итераций в дереве степеней\", len(build_tree(7).find_path(1, val))-1)\n",
    "print(\"Итераций в SX методе\", floor(log(val, 2)) + bin(val)[2:].count('1') - 1)"
   ]
  },
  {
   "cell_type": "code",
   "execution_count": 34,
   "metadata": {},
   "outputs": [
    {
     "name": "stdout",
     "output_type": "stream",
     "text": [
      "Итераций в дереве степеней 4\n",
      "Итераций в SX методе 4\n"
     ]
    }
   ],
   "source": [
    "val = 9\n",
    "print(\"Итераций в дереве степеней\", len(build_tree(5).find_path(1, val))-1)\n",
    "print(\"Итераций в SX методе\", floor(log(val, 2)) + bin(val)[2:].count('1') - 1)"
   ]
  },
  {
   "cell_type": "code",
   "execution_count": 35,
   "metadata": {},
   "outputs": [
    {
     "name": "stdout",
     "output_type": "stream",
     "text": [
      "Итераций в дереве степеней 5\n",
      "Итераций в SX методе 6\n"
     ]
    }
   ],
   "source": [
    "val = 15\n",
    "print(\"Итераций в дереве степеней\", len(build_tree(5).find_path(1, val))-1)\n",
    "print(\"Итераций в SX методе\", floor(log(val, 2)) + bin(val)[2:].count('1') - 1)"
   ]
  },
  {
   "cell_type": "markdown",
   "metadata": {},
   "source": [
    "### Вывод\n",
    "Был разработан метод дерева степеней, который позволяет построить дерево для получения степеней с наименьшим количеством шагов до определенного уровня n. С помощью Sage был построен график дерева, где цветом был отмечен путь от искомой вершины до корня, используя заданные параметры уровня и искомой степени. Было проверено, что метод степеней не приводит к большему количеству операций, чем метод SX.\n",
    "Использование дерева степеней имеет преимущество в том, что после построения дерева до заданного уровня можно быстро найти любую степень, не превышающую этот уровень. Это может быть полезно в различных вычислительных задачах, включая криптографию, математические моделирования и другие области.\n",
    "Однако следует отметить, что метод дерева степеней не всегда является наилучшим выбором для поиска степеней. В некоторых случаях может быть эффективнее использовать другие методы, такие как метод множителей или метод малых шагов. Все зависит от конкретной задачи и параметров."
   ]
  },
  {
   "cell_type": "markdown",
   "metadata": {},
   "source": [
    "## Выводы\n",
    "\n",
    "В результате данного исследования были получены обширные знания о работе различных алгоритмов, предназначенных для вычисления мономов с использованием минимального числа операций. Также был освоен навык применения систем компьютерной математики для эффективной реализации и анализа данных алгоритмов.\n",
    "\n",
    "В ходе исследования были успешно реализованы и проанализированы такие методы, как бинарный метод SX, метод справа-налево, метод множителей и метод степеней. Каждый из данных методов был сопоставлен друг с другом с точки зрения количества необходимых итераций для достижения результата. Кроме того, была проведена теоретическая оценка сложности каждого из алгоритмов, что позволило определить их эффективность и применимость в различных ситуациях."
   ]
  }
 ],
 "metadata": {
  "kernelspec": {
   "display_name": "SageMath 9.3",
   "language": "sage",
   "name": "sagemath"
  },
  "language_info": {
   "codemirror_mode": {
    "name": "ipython",
    "version": 3
   },
   "file_extension": ".py",
   "mimetype": "text/x-python",
   "name": "python",
   "nbconvert_exporter": "python",
   "pygments_lexer": "ipython3",
   "version": "3.7.10"
  }
 },
 "nbformat": 4,
 "nbformat_minor": 4
}
