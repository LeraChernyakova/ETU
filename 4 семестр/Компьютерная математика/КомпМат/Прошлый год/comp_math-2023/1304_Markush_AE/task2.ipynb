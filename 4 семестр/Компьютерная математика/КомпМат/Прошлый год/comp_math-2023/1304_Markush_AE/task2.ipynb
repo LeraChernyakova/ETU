{
 "cells": [
  {
   "cell_type": "markdown",
   "metadata": {},
   "source": [
    "# Практическая работа №2: Исследование алгоритмов формирования аддитивных цепочек\n",
    "\n",
    "Выполнил студент гр. 1304 Маркуш Александр. Вариант №41."
   ]
  },
  {
   "cell_type": "markdown",
   "metadata": {},
   "source": [
    "## Цель работы\n",
    "\n",
    "Формирование представления о аддитивных цепочках, выработать умение составлять и применять алгоритмы для нахождения минимальных\n",
    "аддитивных цепочек для заданного числа, привить навык использования\n",
    "систем компьютерной математики для реализации алгоритмов."
   ]
  },
  {
   "cell_type": "markdown",
   "metadata": {},
   "source": [
    "## Основные теоретические положения\n",
    "\n",
    "### Аддитивная цепочка\n",
    "Аддитивная цепочка для натурального числа $n$ – это последовательность натуральных чисел:<br>\n",
    "$$1=a_0,a_1,a_2,\\dots,a_m=n,\\quad$$\n",
    "где каждый элемент получается с помощью суммы каких-либо двух предыдущих:\n",
    "$$a_i=a_j+a_k, \\quad \\forall k \\leq j < i$$\n",
    "$l(n) = r$ – наименьшая длина,  для которой существует аддитивная цепочка для $n$.<br>\n",
    "Звёздной называется цепочка, каждый последующий элемент которой получен следующим образом:<br>\n",
    "$$a_i=a_{i-1}+a_k\\quad \\forall k<i$$\n",
    "Так же существуют следующие оценки длины минимальной аддитивной цепочки числа $n$:\n",
    "$$l(n) \\leq \\lambda(n) +\\nu(n) - 1$$\n",
    "$$l(n) \\geq \\lceil \\log_{2}(n) \\rceil$$\n",
    "\n",
    "### Алгоритм Брауэра\n",
    "&emsp; **Алгоритм Брауера** вычисляет n-ую стпенень за\n",
    "$\\lambda(n)+ \\frac{(1 +\\: o(1))\\:\\lambda(n)} {\\lambda(\\:\\lambda(n))}$ операций.\n",
    "&emsp; Для некоторых $n$, $k$ Брауерские цепочки задаются в виде рекурентной формулы:\n",
    "$$B_k(n) =\\begin{cases}1, 2, 3, ..., 2^k-1\\text{, если }n < 2^k \\\\ B_k(q), 2q, 4q, 8q, ..., 2^kq, n,\\text{ если } n \\geqslant 2^k\\ \\text{и } q = \\lfloor\\frac{n}{2^k}\\rfloor \\end{cases}$$\n",
    "В данном алгоритме можно выделить следующие шаги:\n",
    "<ol>\n",
    "    <li>Задаётся некий фиксированный пареметр $k$ для $n$. Вычисляем вспомогательные числа:\n",
    "    $$ d = 2^k,\\quad q = [n/d],\\quad r_1 = n\\mod d,\\quad n = q_1d + r_1\\quad (0 \\leqslant r_1< d)$$</li>\n",
    "    <li>Певрый пункт проводится, пока не найдётся $q_s < d$. Тогда $q_{s-1} = q_sd + r_s$</li>\n",
    "    <li>Тогда $n$:\n",
    "    $$ n = 2^kq_1+r_1 = 2^k(2^kq_2+r_2)+r_1 = \\dots = 2^k(2^kq_s + r_s)\\dots)+r_2)+r_1$$</li>\n",
    "</ol>\n",
    "\n",
    "### Алгоритм дробления вектора индексов\n",
    "Алгоритм дробления вектора индексов – алгоритм поиска минимальной аддитивной цепочки.\n",
    "<ol>\n",
    "    <li>Запускаем внешний цикл по длинам цепочек $ \\underline{l}(n) \\leq m \\leq \\overline{l}(n) $. Выбирается натуральное q. Пусть  $ q = m//2$.</li>\n",
    "    <li>Запускаем внутрненний цикл перебора всех $ \\{r_i\\}_{i=1}^{q} $. На каждом шаге вычисляем $ a_{min} = a_{q+1} + m - q $ и $ a_{max} = a_{q+1}2^{m-q} $</li>\n",
    "        <ol>\n",
    "            <li>Если последний элемент в цепочки равен числу $ n $, заканчиваем алгоритм.</li>\n",
    "            <li>Если $ n \\in [a_{min}, a_{max}] $ , то тогда перебираем часть вектора индексов $ \\{r_j\\}_{j=q+1}^m $</li>\n",
    "            <li>Если $ n \\notin [a_{min}, a_{max}] $ , то тогда перебираем часть вектора индексов $ \\{r_i\\}_{i=1}^q $</li>\n",
    "        </ol>\n",
    "    <li> Если наборы исчерпаны, увеличиваем длину во внешнем цикле</li>\n",
    "</ol>\n",
    "\n",
    "### Гипотеза Шольца-Брауэра\n",
    "$ l(2^n - 1) \\leqslant l(n) + n - 1  $, гипотеза справедлива для $n < 578469$, равенство выполняется для $ n \\leqslant 64 $. Для звёздных цепочек гипотеза является доказанной"
   ]
  },
  {
   "cell_type": "markdown",
   "metadata": {},
   "source": [
    "## Постановка задачи\n",
    "\n",
    "Реализовать точные и приближённые алгоритмы нахождения минимальных аддитивных цепочек с использованием системы компьютерной математики <em>SageMath</em>, провести анализ алгоритмов. Полученные результаты\n",
    "содержательно проинтерпретировать."
   ]
  },
  {
   "cell_type": "markdown",
   "metadata": {},
   "source": [
    "## Выполнение работы\n",
    "\n",
    "### Реализация алгоритма Брауэра\n",
    "Напишем программу, которая находит аддитивную цепочку для натурального числа $n$ методом Брауэра. Для этого реализована функция\n",
    "<em>brouwer_algorithm</em>. В ней сначала находится число d, затем найдём вспомогательными числа. Для уменьшения длины цепочки найдём максимальный модуль от деления $r_i = n\\mod d$ и построим оставшуюся цепочку вспомогательных чисел до $m//2$ для чётных $m$, и $m//2 + 1$ – для нечётных $m$. Дальше поиск происходит по описанному в теоретических данных алгоритму"
   ]
  },
  {
   "cell_type": "code",
   "execution_count": 1,
   "metadata": {},
   "outputs": [],
   "source": [
    "def brouwer_algorithm(n, k):\n",
    "    chain = [1, 2]\n",
    "    check_points = []\n",
    "    d = 2**k\n",
    "    if(n < d):\n",
    "        for i in range(3, ceil(d/2)+1):\n",
    "            chain.append(i)\n",
    "        chain.append(n)\n",
    "    else:\n",
    "        while n > d:\n",
    "            check_points.append(n)\n",
    "            remainder = n % d\n",
    "            if remainder not in chain and remainder != 0:\n",
    "                chain.append(remainder)\n",
    "            n = n // d\n",
    "        if n not in chain:\n",
    "            chain.append(n)\n",
    "        for i in range(1, ceil(max(chain)/2)+1):\n",
    "            if i not in chain:\n",
    "                chain.append(i)\n",
    "        chain.sort()\n",
    "        check_points.sort()\n",
    "        for element in check_points:\n",
    "            while n*2 < element:\n",
    "                n *= 2\n",
    "                if n not in chain:\n",
    "                    chain.append(n)\n",
    "            n = element\n",
    "            if n not in chain:\n",
    "                    chain.append(n)\n",
    "        chain.sort()\n",
    "    return chain\n",
    "\n",
    "\n",
    "def print_brouwer_algorithm(n, k):\n",
    "    chain = brouwer_algorithm(n, k)\n",
    "    print(f\"chain = {chain}, len = {len(chain)}\")"
   ]
  },
  {
   "cell_type": "code",
   "execution_count": 2,
   "metadata": {},
   "outputs": [
    {
     "name": "stdout",
     "output_type": "stream",
     "text": [
      "chain = [1, 2, 3, 6, 12, 15], len = 6\n"
     ]
    }
   ],
   "source": [
    "print_brouwer_algorithm(15, 2)"
   ]
  },
  {
   "cell_type": "code",
   "execution_count": 3,
   "metadata": {},
   "outputs": [
    {
     "name": "stdout",
     "output_type": "stream",
     "text": [
      "chain = [1, 2, 3, 4, 7, 8, 15], len = 7\n"
     ]
    }
   ],
   "source": [
    "print_brouwer_algorithm(15, 3)"
   ]
  },
  {
   "cell_type": "code",
   "execution_count": 4,
   "metadata": {},
   "outputs": [
    {
     "name": "stdout",
     "output_type": "stream",
     "text": [
      "chain = [1, 2, 3, 4, 5, 6, 7, 8, 15], len = 9\n"
     ]
    }
   ],
   "source": [
    "print_brouwer_algorithm(15, 4)"
   ]
  },
  {
   "cell_type": "code",
   "execution_count": 5,
   "metadata": {},
   "outputs": [
    {
     "name": "stdout",
     "output_type": "stream",
     "text": [
      "chain = [1, 2, 3, 4, 8, 11, 22, 44, 45], len = 9\n"
     ]
    }
   ],
   "source": [
    "print_brouwer_algorithm(45, 2)"
   ]
  },
  {
   "cell_type": "code",
   "execution_count": 6,
   "metadata": {},
   "outputs": [
    {
     "name": "stdout",
     "output_type": "stream",
     "text": [
      "chain = [1, 2, 3, 5, 10, 20, 40, 45], len = 8\n"
     ]
    }
   ],
   "source": [
    "print_brouwer_algorithm(45, 3)"
   ]
  },
  {
   "cell_type": "code",
   "execution_count": 7,
   "metadata": {},
   "outputs": [
    {
     "name": "stdout",
     "output_type": "stream",
     "text": [
      "chain = [1, 2, 3, 4, 5, 6, 7, 8, 13, 16, 32, 45], len = 12\n"
     ]
    }
   ],
   "source": [
    "print_brouwer_algorithm(45, 4)"
   ]
  },
  {
   "cell_type": "code",
   "execution_count": 8,
   "metadata": {},
   "outputs": [
    {
     "name": "stdout",
     "output_type": "stream",
     "text": [
      "chain = [1, 2, 3, 6, 12, 13, 26, 52, 53, 106, 212, 213], len = 12\n"
     ]
    }
   ],
   "source": [
    "print_brouwer_algorithm(213, 2)"
   ]
  },
  {
   "cell_type": "code",
   "execution_count": 9,
   "metadata": {},
   "outputs": [
    {
     "name": "stdout",
     "output_type": "stream",
     "text": [
      "chain = [1, 2, 3, 5, 6, 12, 24, 26, 52, 104, 208, 213], len = 12\n"
     ]
    }
   ],
   "source": [
    "print_brouwer_algorithm(213, 3)"
   ]
  },
  {
   "cell_type": "code",
   "execution_count": 10,
   "metadata": {},
   "outputs": [
    {
     "name": "stdout",
     "output_type": "stream",
     "text": [
      "chain = [1, 2, 3, 4, 5, 6, 7, 13, 26, 52, 104, 208, 213], len = 13\n"
     ]
    }
   ],
   "source": [
    "print_brouwer_algorithm(213, 4)"
   ]
  },
  {
   "cell_type": "code",
   "execution_count": 11,
   "metadata": {},
   "outputs": [
    {
     "name": "stdout",
     "output_type": "stream",
     "text": [
      "chain = [1, 2, 4, 8, 16, 32, 64, 128, 256, 512, 1024], len = 11\n"
     ]
    }
   ],
   "source": [
    "print_brouwer_algorithm(1024, 2)"
   ]
  },
  {
   "cell_type": "code",
   "execution_count": 12,
   "metadata": {},
   "outputs": [
    {
     "name": "stdout",
     "output_type": "stream",
     "text": [
      "chain = [1, 2, 4, 8, 16, 32, 64, 128, 256, 512, 1024], len = 11\n"
     ]
    }
   ],
   "source": [
    "print_brouwer_algorithm(1024, 3)"
   ]
  },
  {
   "cell_type": "code",
   "execution_count": 13,
   "metadata": {},
   "outputs": [
    {
     "name": "stdout",
     "output_type": "stream",
     "text": [
      "chain = [1, 2, 4, 8, 16, 32, 64, 128, 256, 512, 1024], len = 11\n"
     ]
    }
   ],
   "source": [
    "print_brouwer_algorithm(1024, 4)"
   ]
  },
  {
   "attachments": {},
   "cell_type": "markdown",
   "metadata": {},
   "source": [
    "| n    | k | Цепочка методом Брауэра                          | Длина методом Брауэра | Минимальная цепочка                           | Минимальная длина |\n",
    "|------|---|--------------------------------------------------|-----------------------|-----------------------------------------------|-------------------|\n",
    "| 15   | 2 | [1, 2, 3, 6, 12, 15]                             | 6                     | [1, 2, 4, 5, 10, 15]                          | 6                 |\n",
    "| 15   | 3 | [1, 2, 3, 4, 7, 8, 15]                           | 7                     | [1, 2, 4, 5, 10, 15]                          | 6                 |\n",
    "| 15   | 4 | [1, 2, 3, 4, 5, 6, 7, 8, 15]                     | 9                     | [1, 2, 4, 5, 10, 15]                          | 6                 |\n",
    "| 45   | 2 | [1, 2, 3, 4, 8, 11, 22, 44, 45]                  | 9                     | [1, 2, 4, 8, 9, 18, 36, 45]                   | 8                 |\n",
    "| 45   | 3 | [1, 2, 3, 5, 10, 20, 40, 45]                     | 8                     | [1, 2, 4, 8, 9, 18, 36, 45]                   | 8                 |\n",
    "| 45   | 4 | [1, 2, 3, 4, 5, 6, 7, 8, 13, 16, 32, 45]         | 12                    | [1, 2, 4, 8, 9, 18, 36, 45]                   | 8                 |\n",
    "| 213  | 2 | [1, 2, 3, 6, 12, 13, 26, 52, 53, 106, 212, 213]  | 12                    | [1, 2, 4, 8, 16, 32, 33, 49, 82, 164, 213]    | 11                |\n",
    "| 213  | 3 | [1, 2, 3, 5, 6, 12, 24, 26, 52, 104, 208, 213]   | 12                    | [1, 2, 4, 8, 16, 32, 33, 49, 82, 164, 213]    | 11                |\n",
    "| 213  | 4 | [1, 2, 3, 4, 5, 6, 7, 13, 26, 52, 104, 208, 213] | 13                    | [1, 2, 4, 8, 16, 32, 33, 49, 82, 164, 213]    | 11                |\n",
    "| 1024 | 2 | [1, 2, 4, 8, 16, 32, 64, 128, 256, 512, 1024]    | 11                    | [1, 2, 4, 8, 16, 32, 64, 128, 256, 512, 1024] | 11                |\n",
    "| 1024 | 3 | [1, 2, 4, 8, 16, 32, 64, 128, 256, 512, 1024]    | 11                    | [1, 2, 4, 8, 16, 32, 64, 128, 256, 512, 1024] | 11                |\n",
    "| 1024 | 4 | [1, 2, 4, 8, 16, 32, 64, 128, 256, 512, 1024]    | 11                    | [1, 2, 4, 8, 16, 32, 64, 128, 256, 512, 1024] | 11                |"
   ]
  },
  {
   "attachments": {},
   "cell_type": "markdown",
   "metadata": {},
   "source": [
    "#### Вывод \n",
    "Алгоритм Брауэра позволяет быстро найти аддитивную цепочку приближенную к оптимальной. Однако выигрывая в скорости, данный алгоритм не всегда позволяет находить кратчайшую цепочку, и вдобавок, из-за вычисления вспомогательных чисел, которые могут не учавствовать в дальнейшем нахождении аддитивной цепочки, финальная цепочка также получается длинее минимальной.Также результат работы алгоритма зависит от выбранного k, что можно увидеть сравнив результаты в таблице."
   ]
  },
  {
   "cell_type": "markdown",
   "metadata": {},
   "source": [
    "### Алгоритм дробления вектора индексов\n",
    "Была реализована программа находящая кротчайшую аддитивную цепочку методом дробления вектора индексов. Для этого были написаны функции: <em>decrement(vector, q, m)</em>, которая изменяет элементы находящиеся в векторе индексов; <em>get_star_chain(vector)</em>, которая создаёт начальный вектор для каждого внешенего цикла; <em>splitting(n, fixed_m = None)</em> (параметр <em>fixed_m</em> нужен для пункта с проверкой теоремы Шольца-Брауэра), которая реализует сам алгоритм с помощью двух предыдущих функций."
   ]
  },
  {
   "cell_type": "code",
   "execution_count": 14,
   "metadata": {},
   "outputs": [],
   "source": [
    "import time\n",
    "\n",
    "\n",
    "def decrement(vector, q, m):\n",
    "    for i in range(m, q, -1):        \n",
    "        if vector[i-1] > 1:\n",
    "            vector[i-1] -= 1\n",
    "            return vector\n",
    "        else: \n",
    "            vector[i-1] = i\n",
    "    return vector\n",
    " \n",
    "    \n",
    "def get_star_chain(vector):\n",
    "    chain = [1]\n",
    "    for i in vector:\n",
    "        chain.append(chain[-1] + chain[i-1]) \n",
    "    return chain\n",
    "\n",
    "\n",
    "def splitting(n, fixed_m = None):\n",
    "    for m in range(n.bit_length(), n.bit_length()+bin(n).count('1')):\n",
    "        if fixed_m:\n",
    "            m = fixed_m\n",
    "        vector = [i for i in range(1, m)]\n",
    "        q = m // 2 - 1\n",
    "        while True:\n",
    "            chain = get_star_chain(vector)\n",
    "            if chain[m-1] == n: \n",
    "                return chain\n",
    "            if n < (chain[q]+m-q) or chain[q]*2**(m-q) < n:\n",
    "                vector = decrement(vector, 0, q)\n",
    "                if sum(vector[:q]) == abs(q):\n",
    "                    break \n",
    "            else:\n",
    "                vector = decrement(vector, q, m-1)\n",
    "                if sum(vector[q:]) == abs(m-q-1):\n",
    "                    break\n",
    "    return chain\n",
    "\n",
    "\n",
    "def show_splitted_vector(n):\n",
    "    start_time = time.time()\n",
    "    chain = splitting(int(n))\n",
    "    print(f\"{time.time() - start_time} seconds\")        \n",
    "    print(f\"chain = {chain}, len = {len(chain)}\")"
   ]
  },
  {
   "cell_type": "code",
   "execution_count": 15,
   "metadata": {},
   "outputs": [
    {
     "name": "stdout",
     "output_type": "stream",
     "text": [
      " 0.0007221698760986328 seconds\n",
      "chain = [1, 2, 4, 5, 10, 15], len = 6\n",
      "None\n"
     ]
    }
   ],
   "source": [
    "print(show_splitted_vector(15))"
   ]
  },
  {
   "cell_type": "code",
   "execution_count": 16,
   "metadata": {},
   "outputs": [
    {
     "name": "stdout",
     "output_type": "stream",
     "text": [
      " 0.00841665267944336 seconds\n",
      "chain = [1, 2, 4, 8, 9, 18, 36, 45], len = 8\n",
      "None\n"
     ]
    }
   ],
   "source": [
    "print(show_splitted_vector(45))"
   ]
  },
  {
   "cell_type": "code",
   "execution_count": 17,
   "metadata": {},
   "outputs": [
    {
     "name": "stdout",
     "output_type": "stream",
     "text": [
      " 0.49097633361816406 seconds\n",
      "chain = [1, 2, 4, 8, 16, 32, 33, 49, 82, 164, 213], len = 11\n",
      "None\n"
     ]
    }
   ],
   "source": [
    "print(show_splitted_vector(213))"
   ]
  },
  {
   "cell_type": "code",
   "execution_count": 18,
   "metadata": {},
   "outputs": [
    {
     "name": "stdout",
     "output_type": "stream",
     "text": [
      " 50.404014587402344 seconds\n",
      "chain = [1, 2, 4, 8, 16, 32, 64, 128, 192, 200, 400, 800, 1000, 1001], len = 14\n",
      "None\n"
     ]
    }
   ],
   "source": [
    "print(show_splitted_vector(1001))"
   ]
  },
  {
   "cell_type": "code",
   "execution_count": 19,
   "metadata": {},
   "outputs": [
    {
     "name": "stdout",
     "output_type": "stream",
     "text": [
      " 50.41733193397522 seconds\n",
      "chain = [1, 2, 4, 8, 16, 32, 64, 128, 192, 200, 201, 402, 804, 1005], len = 14\n",
      "None\n"
     ]
    }
   ],
   "source": [
    "print(show_splitted_vector(1005))"
   ]
  },
  {
   "cell_type": "code",
   "execution_count": 20,
   "metadata": {},
   "outputs": [
    {
     "name": "stdout",
     "output_type": "stream",
     "text": [
      " 47.46831202507019 seconds\n",
      "chain = [1, 2, 4, 8, 16, 32, 64, 128, 256, 320, 336, 672, 1008, 1010], len = 14\n",
      "None\n"
     ]
    }
   ],
   "source": [
    "print(show_splitted_vector(1010))"
   ]
  },
  {
   "cell_type": "code",
   "execution_count": 21,
   "metadata": {},
   "outputs": [
    {
     "name": "stdout",
     "output_type": "stream",
     "text": [
      " 306.29884815216064 seconds\n",
      "chain = [1, 2, 4, 8, 16, 32, 64, 128, 136, 137, 273, 546, 683, 1366, 1503], len = 15\n",
      "None\n"
     ]
    }
   ],
   "source": [
    "print(show_splitted_vector(1503))"
   ]
  },
  {
   "cell_type": "code",
   "execution_count": 22,
   "metadata": {},
   "outputs": [
    {
     "name": "stdout",
     "output_type": "stream",
     "text": [
      " 3.886222839355469e-05 seconds\n",
      "chain = [1, 2, 4, 8, 16, 32, 64, 128, 256, 512, 1024], len = 11\n",
      "None\n"
     ]
    }
   ],
   "source": [
    "print(show_splitted_vector(1024))"
   ]
  },
  {
   "cell_type": "markdown",
   "metadata": {},
   "source": [
    "| n    | Минимальная цепочка                                                | Время работы алгоритма, сек |\n",
    "|------|--------------------------------------------------------------------|-----------------------------|\n",
    "| 15   | [1, 2, 4, 5, 10, 15]                                               | 0.0007221698760986328       |\n",
    "| 45   | [1, 2, 4, 8, 9, 18, 36, 45]                                        | 0.00841665267944336         |\n",
    "| 213  | [1, 2, 4, 8, 16, 32, 33, 49, 82, 164, 213]                         | 0.49097633361816406         |\n",
    "| 1001 | [1, 2, 4, 8, 16, 32, 64, 128, 192, 200, 400, 800, 1000, 1001]      | 50.404014587402344          |\n",
    "| 1005 | [1, 2, 4, 8, 16, 32, 64, 128, 192, 200, 201, 402, 804, 1005]       | 50.41733193397522           |\n",
    "| 1010 | [1, 2, 4, 8, 16, 32, 64, 128, 256, 320, 336, 672, 1008, 1010]      | 47.46831202507019           |\n",
    "| 1503 | [1, 2, 4, 8, 16, 32, 64, 128, 136, 137, 273, 546, 683, 1366, 1503] | 306.29884815216064          |\n",
    "| 1024 | [1, 2, 4, 8, 16, 32, 33, 49, 82, 164, 213]                         | 3.886222839355469e-05       |"
   ]
  },
  {
   "cell_type": "markdown",
   "metadata": {},
   "source": [
    "#### Вывод\n",
    "Алгоритм дробления вектора индексов находит кратчайшую аддитивную цепочку для натурального числа n. Однако за точность алгоритм требует больше времени, нежели рассмотренный ранее метод Брауэра."
   ]
  },
  {
   "cell_type": "markdown",
   "metadata": {},
   "source": [
    "### Гипотеза Шольца-Брауэра\n",
    "Для проверки гипотезы Шольца-Брауэра была написана программа, которая проверяет выполнение гипотезы для $n \\leqslant 12$ и выводит результат проверки."
   ]
  },
  {
   "cell_type": "code",
   "execution_count": 27,
   "metadata": {},
   "outputs": [
    {
     "name": "stdout",
     "output_type": "stream",
     "text": [
      "Теорема выполняется для: 1\n",
      "Теорема выполняется для: 2\n",
      "Теорема выполняется для: 3\n",
      "Теорема выполняется для: 4\n",
      "Теорема выполняется для: 5\n",
      "Теорема выполняется для: 6\n",
      "Теорема выполняется для: 7\n",
      "Теорема выполняется для: 8\n",
      "Теорема выполняется для: 9\n",
      "Теорема выполняется для: 10\n",
      "Теорема выполняется для: 11\n",
      "Теорема выполняется для: 12\n",
      "Выполняется для всех заданных n, следовательно гипотеза верна\n"
     ]
    }
   ],
   "source": [
    "def sholz_brower_theorem(n):\n",
    "    is_theorem_true = True\n",
    "    for i in range(1,n+1):\n",
    "        first_value = len(splitting(int(i))) + i - 1\n",
    "        second_value = len(splitting(int(2^i - 1), (first_value)))\n",
    "        if second_value > first_value:\n",
    "            print(\"Гипотеза неверна для {second_value}, {first_value}\")\n",
    "            is_theorem_true = False\n",
    "            break\n",
    "        else:\n",
    "            print(f\"Теорема выполняется для: {i}\")\n",
    "    if is_theorem_true:\n",
    "        print(\"Выполняется для всех заданных n, следовательно гипотеза верна\")\n",
    "        \n",
    "        \n",
    "sholz_brower_theorem(12)   "
   ]
  },
  {
   "cell_type": "markdown",
   "metadata": {},
   "source": [
    "#### Вывод\n",
    "Была подтверждена гипотеза Шольца-Брауэра для значений n, не превышающих 12. "
   ]
  },
  {
   "cell_type": "markdown",
   "metadata": {},
   "source": [
    "## Выводы\n",
    "В ходе работы приобретены знания о теории аддитивных цепочек, а также наработаны практические навыки составления и применения алгоритмов для определения минимальных аддитивных цепочек для заданных чисел. Были освоены навыки работы с SageMath для реализации алгоритмов. Также были реализованы и проверены алгоритмы Брауэра и дробления вектора индексов, а результаты сравнены между собой. Была проверена гипотеза Шольца-Брауэра для $n \\leqslant 12$."
   ]
  }
 ],
 "metadata": {
  "kernelspec": {
   "display_name": "SageMath 9.1",
   "language": "sage",
   "name": "sagemath"
  },
  "language_info": {
   "codemirror_mode": {
    "name": "ipython",
    "version": 3
   },
   "file_extension": ".py",
   "mimetype": "text/x-python",
   "name": "python",
   "nbconvert_exporter": "python",
   "pygments_lexer": "ipython3",
   "version": "3.7.3"
  }
 },
 "nbformat": 4,
 "nbformat_minor": 2
}
