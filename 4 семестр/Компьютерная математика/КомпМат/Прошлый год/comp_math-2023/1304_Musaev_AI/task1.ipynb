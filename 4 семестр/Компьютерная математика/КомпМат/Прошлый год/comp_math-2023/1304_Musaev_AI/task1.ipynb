{
 "cells": [
  {
   "cell_type": "markdown",
   "id": "cef27990",
   "metadata": {},
   "source": [
    "# Практическая работа №1: Алгоритмы эффективного вычисления одночленов\n",
    "Выполнил студент гр. 1304 Мусаев Артур. Вариант №39."
   ]
  },
  {
   "cell_type": "markdown",
   "id": "ba5610fa",
   "metadata": {},
   "source": [
    "## Цель работы\n",
    "Сформировать знания о работе алгоритмах вычисления одночленов за\n",
    "минимальное число операций, привить навык использования систем компьютерной математики для реализации алгоритмов."
   ]
  },
  {
   "cell_type": "markdown",
   "id": "5c59f0f7",
   "metadata": {},
   "source": [
    "## Основные теоретические положения\n",
    "\n",
    "Рассмотрим методы вычисления одночленов за минимальное число операций, а также приведём некоторые оценки количества операций для вычисления одночленов.<br>\n",
    "Введём понятия для оценки числа операций:<br>\n",
    "$\\lambda(n) = \\lfloor log_{2}(n) \\rfloor$ - уменьшенная на 1 длина бинарной записи n<br>\n",
    "$\\nu(n)$ - вес Хэмминга для бинарной записи числа $n$ (число единиц в бинарной записи)\n",
    "\n",
    "### Бинарный метод SX\n",
    "Алгоритм бинарного возведения в степень SX:\n",
    "<ol>\n",
    "    <li> Запишем число $n$ в бинарном виде:\n",
    "        $n = (a_m a_{m-1}...a_2 a_1)_2$\n",
    "    <li> Отбрасываем старший бит:\n",
    "        $(a_{m-1} a_{m-2}...a_2 a_1)_2$\n",
    "    <li> Делаем замену по следующему правилу: \n",
    "        <center>\n",
    "            $a_i = 1 \\Rightarrow a_i = \"SX\"$ <br>\n",
    "            $a_i = 0 \\Rightarrow a_i = \"S\"$\n",
    "       </center>\n",
    "    <li> Выполнение вычислений, где \"$S$\" - возведение в квадрат, а \"$X$\" - умножение на $x$\n",
    "</ol>\n",
    "Число операций для бинарного метода справа налево можно записать следующим образом: $\\lambda(n) + \\nu(n) -1$<br>\n",
    "\n",
    "### Бинарный метод справа-налево\n",
    "Алгоритм:\n",
    "$Z = X, Y = 1, N = n$\n",
    "<ol>\n",
    "    <li> Проверяем, что $n>0$. Если больше - п.2, иначе return Y\n",
    "    <li> Проверяем, что $N\\%2==$1. Если равно - $Y = Y * x$ - п.3, иначе - п.3.\n",
    "    <li> $N = \\lfloor N/2 \\rfloor, Z=Z*Z$\n",
    "</ol>\n",
    "Число операций для бинарного метода справа налево можно записать следующим образом: $\\lambda(n) + \\nu(n)$<br>\n",
    "\n",
    "### Метод множителей\n",
    "Алгоритм:\n",
    "<ol>\n",
    "    <li> Представим $h = pq$, где $p$ - наименьший простой множитель $n, q > 1$. Таким образом, $x^n$ можно найти, вычислив $x^p$ и возведя эту величину в степень $q$.\n",
    "    <li> Если $h$ - простое, то можно сначала вычислить $x^{n-1}$ и умножить его на $x$.\n",
    "    <li> При $n=1$ получаем $x^n$ безо всяких вычислений.\n",
    "</ol><br>\n",
    "\n",
    "### Дерево степеней \n",
    "Алгоритм:\n",
    "<ol>\n",
    "    <li> Пусть построен уровень $k$-ый уровень дерева. Необходимо построить $(k+1)$-й уровень\n",
    "    <li> Берем каждый узел на $k$-ом уровне слева направо и присоединяем к нему снизу узлы $n+a_0, n+a_1, n+a_2...n+a_{n-1}=2n$\n",
    "    <li> Порядок присоединения важен. Значение $\\{a_i\\}^{n-1}_{i=0}, a_0 = 1$ представляет собой путь от корня дерева до узла $n$.\n",
    "    <li> Если какой-то узел уже появился раньше в дереве, то он устраняется/не вносится повторно\n",
    "</ol>"
   ]
  },
  {
   "cell_type": "markdown",
   "id": "e42cff5a",
   "metadata": {},
   "source": [
    "## Постановка задачи\n",
    "Реализовать алгоритмы вычисления мономов за минимальное число операций с использованием системы компьютерной алгебры SageMath, провести анализ алгоритмов. Полученные результаты содержательно проинтерпретировать."
   ]
  },
  {
   "cell_type": "markdown",
   "id": "986cfbbe",
   "metadata": {},
   "source": [
    "## Выполнение работы"
   ]
  },
  {
   "cell_type": "markdown",
   "id": "7c41192f",
   "metadata": {},
   "source": [
    "### 1. Бинарный метод SX\n",
    "По алгоритму был реализован бинарный метод SX:"
   ]
  },
  {
   "cell_type": "code",
   "execution_count": 1,
   "id": "d4908e0c",
   "metadata": {},
   "outputs": [],
   "source": [
    "def MethodSX(x,n):\n",
    "    bin_n = bin(n)[3:]\n",
    "    command = bin_n.replace('1','SX').replace('0','S')\n",
    "    print(command)\n",
    "    res = x\n",
    "    for i, elem in enumerate(command):\n",
    "        if elem == 'S':\n",
    "            res *= res\n",
    "        else:\n",
    "            res *= x\n",
    "        print(f'x_{i+1} = {res}')\n",
    "    return res"
   ]
  },
  {
   "cell_type": "markdown",
   "id": "121f6ea3",
   "metadata": {},
   "source": [
    "Приведем пример работы программы для степений $12, 35, 42$:"
   ]
  },
  {
   "cell_type": "code",
   "execution_count": 2,
   "id": "359f675e",
   "metadata": {},
   "outputs": [
    {
     "name": "stdout",
     "output_type": "stream",
     "text": [
      "SXSS\n",
      "x_1 = x^2\n",
      "x_2 = x^3\n",
      "x_3 = x^6\n",
      "x_4 = x^12\n",
      "Result: x^12\n"
     ]
    }
   ],
   "source": [
    "var('x')\n",
    "print(f'Result: {MethodSX(x, 12)}')"
   ]
  },
  {
   "cell_type": "code",
   "execution_count": 3,
   "id": "dfbd20fc",
   "metadata": {},
   "outputs": [
    {
     "name": "stdout",
     "output_type": "stream",
     "text": [
      "SSSSXSX\n",
      "x_1 = x^2\n",
      "x_2 = x^4\n",
      "x_3 = x^8\n",
      "x_4 = x^16\n",
      "x_5 = x^17\n",
      "x_6 = x^34\n",
      "x_7 = x^35\n",
      "Result: x^35\n"
     ]
    }
   ],
   "source": [
    "print(f'Result: {MethodSX(x, 35)}')"
   ]
  },
  {
   "cell_type": "code",
   "execution_count": 4,
   "id": "2bd53952",
   "metadata": {},
   "outputs": [
    {
     "name": "stdout",
     "output_type": "stream",
     "text": [
      "SSXSSXS\n",
      "x_1 = x^2\n",
      "x_2 = x^4\n",
      "x_3 = x^5\n",
      "x_4 = x^10\n",
      "x_5 = x^20\n",
      "x_6 = x^21\n",
      "x_7 = x^42\n",
      "Result: x^42\n"
     ]
    }
   ],
   "source": [
    "print(f'Result: {MethodSX(x, 42)}')"
   ]
  },
  {
   "cell_type": "markdown",
   "id": "a116912d",
   "metadata": {},
   "source": [
    "Можем проверить оценку числа операций, для этого напишем программу, которая подсчитывает количества операций:"
   ]
  },
  {
   "cell_type": "code",
   "execution_count": 5,
   "id": "237a0127",
   "metadata": {},
   "outputs": [],
   "source": [
    "def lambd(n):\n",
    "    if n!=1:\n",
    "        return lambd(int(n/2))+1\n",
    "    else:\n",
    "        return 0\n",
    "def nu(n):\n",
    "    if n!=1:\n",
    "        return nu(int(n/2))+n%2\n",
    "    else:\n",
    "        return 1"
   ]
  },
  {
   "cell_type": "code",
   "execution_count": 6,
   "id": "6842c225",
   "metadata": {},
   "outputs": [
    {
     "name": "stdout",
     "output_type": "stream",
     "text": [
      "lambd(12) = 3, nu(12) = 2, lamd(12) + nu(12) - 1 = 4\n"
     ]
    }
   ],
   "source": [
    "print(f'lambd(12) = {lambd(12)}, nu(12) = {nu(12)}, lamd(12) + nu(12) - 1 = {lambd(12) + nu(12) - 1}')"
   ]
  },
  {
   "cell_type": "code",
   "execution_count": 148,
   "id": "0ab23435",
   "metadata": {},
   "outputs": [
    {
     "name": "stdout",
     "output_type": "stream",
     "text": [
      "lambd(35) = 5, nu(35) = 3, lamd(35) + nu(35) - 1 = 7\n"
     ]
    }
   ],
   "source": [
    "print(f'lambd(35) = {lambd(35)}, nu(35) = {nu(35)}, lamd(35) + nu(35) - 1 = {lambd(35) + nu(35) - 1}')"
   ]
  },
  {
   "cell_type": "code",
   "execution_count": 149,
   "id": "121dd072",
   "metadata": {},
   "outputs": [
    {
     "name": "stdout",
     "output_type": "stream",
     "text": [
      "lambd(42) = 5, nu(42) = 3, lamd(42) + nu(42) - 1 = 7\n"
     ]
    }
   ],
   "source": [
    "print(f'lambd(42) = {lambd(42)}, nu(42) = {nu(42)}, lamd(42) + nu(42) - 1 = {lambd(42) + nu(42) - 1}')"
   ]
  },
  {
   "cell_type": "markdown",
   "id": "43f35215",
   "metadata": {},
   "source": [
    "Можно сделать вывод, что для наших $n$ формула для вычисления количества операций корректна."
   ]
  },
  {
   "cell_type": "markdown",
   "id": "2a95935c",
   "metadata": {},
   "source": [
    "#### Вывод\n",
    "Был реализован бинарный метод возведения в степень SX. Было выявлено, что его количества операций оценена корректно. Метод является простым для понимания при этом имеет малое количества операций. Кроме того, у него легкая подсчитываемая оценка, которую можно использовать для оценивания количества итераций заранее."
   ]
  },
  {
   "cell_type": "markdown",
   "id": "b06b67df",
   "metadata": {},
   "source": [
    "### 2. Бинарный метод справа-налево\n",
    "Реализуем метод справа-налево по алгоритму и запустим на нескольких тестах:"
   ]
  },
  {
   "cell_type": "code",
   "execution_count": 151,
   "id": "a66ee78d",
   "metadata": {},
   "outputs": [],
   "source": [
    "def RightLeft(x, n):\n",
    "    #Z - x, Y - res, N - n\n",
    "    result = 1\n",
    "    i = 0\n",
    "    print(i, n, r, x)\n",
    "    while n > 0:\n",
    "        if n & 1 == 1:\n",
    "            result = (result * x)\n",
    "        x = x * x\n",
    "        n = n >> 1\n",
    "        i+=1\n",
    "        print(i, n, result, x)\n",
    "    return result"
   ]
  },
  {
   "cell_type": "code",
   "execution_count": 152,
   "id": "e9ee3e04",
   "metadata": {},
   "outputs": [
    {
     "name": "stdout",
     "output_type": "stream",
     "text": [
      "0 12 R Interpreter x\n",
      "1 6 1 x^2\n",
      "2 3 1 x^4\n",
      "3 1 x^4 x^8\n",
      "4 0 x^12 x^16\n",
      "x^12\n"
     ]
    }
   ],
   "source": [
    "var('x')\n",
    "print(RightLeft(x,12))"
   ]
  },
  {
   "cell_type": "markdown",
   "id": "69bd4ae7",
   "metadata": {},
   "source": [
    "Таблица работы программа для $n=12$:"
   ]
  },
  {
   "cell_type": "markdown",
   "id": "6cf1d321",
   "metadata": {},
   "source": [
    "\n",
    "| № итерации | Значение N | Значение Z | Значение Y |\n",
    "|:----------:|:----------:|:----------:|:----------:|\n",
    "|      0     |     12     |      $x$   |      1     |\n",
    "|      1     |     6      |      $x^2$ |      1     |\n",
    "|      2     |      3     |      $x^4$   |      1     |\n",
    "|      3     |      1     |      $x^8$   |     $x^4$  |\n",
    "|      4     |      0     |      $x^{16}$   |    $x^{12}$|"
   ]
  },
  {
   "cell_type": "markdown",
   "id": "73bfd102",
   "metadata": {},
   "source": [
    "Таблица работы программа для $n=35$:"
   ]
  },
  {
   "cell_type": "markdown",
   "id": "fc1de4fe",
   "metadata": {},
   "source": [
    "\n",
    "| № итерации | Значение N | Значение Z | Значение Y |\n",
    "|:----------:|:----------:|:----------:|:----------:|\n",
    "|      0     |     35     |     $x$    |    1       |\n",
    "|      1     |     17     |     $x^2$  |    $x$     |\n",
    "|      2     |      8     |     $x^4$  |    $x^3$   |\n",
    "|      3     |      4     |     $x^8$  |    $x^3$   |\n",
    "|      4     |      2     |     $x^{16}$ |    $x^3$|\n",
    "|      5     |      1     |     $x^{32}$ |    $x^3$|\n",
    "|      6     |      0     |     $x^{64}$ |    $x^{35}$|"
   ]
  },
  {
   "cell_type": "markdown",
   "id": "660c4f7a",
   "metadata": {},
   "source": [
    "Проверим оценку количества операций:"
   ]
  },
  {
   "cell_type": "code",
   "execution_count": 153,
   "id": "63369ebe",
   "metadata": {},
   "outputs": [
    {
     "name": "stdout",
     "output_type": "stream",
     "text": [
      "lambd(12) = 3, nu(12) = 2, lambd(12) + nu(12)  = 5\n",
      "lambd(35) = 5, nu(35) = 3, lambd(35) + nu(35)  = 8\n"
     ]
    }
   ],
   "source": [
    "print(f'lambd(12) = {lambd(12)}, nu(12) = {nu(12)}, lambd(12) + nu(12)  = {lambd(12) + nu(12)}')\n",
    "print(f'lambd(35) = {lambd(35)}, nu(35) = {nu(35)}, lambd(35) + nu(35)  = {lambd(35) + nu(35)}')"
   ]
  },
  {
   "cell_type": "markdown",
   "id": "dfc4c7a3",
   "metadata": {},
   "source": [
    "Количество операций оценено верно."
   ]
  },
  {
   "cell_type": "markdown",
   "id": "696cfcd4",
   "metadata": {},
   "source": [
    "#### Вывод\n",
    "Таким образом, реализован бинарный метод возведения справа налево, проверена его работоспособность и оценка числа операций из теоретического положения. Метод тоже является простым для понимания, но как мы можем увидеть, значение $x$ в некоторых случаях превышает нужное, значит, метод менее эффективен по памяти (по крайней мере, в данной реализации). В общем случае значение $Z$ в конце равно $x^{\\lceil log_2(n)\\rceil}$."
   ]
  },
  {
   "cell_type": "markdown",
   "id": "55bf158b",
   "metadata": {},
   "source": [
    "### 3. Сравнение бинарного метода \"SX\" и метод возведения справа налево"
   ]
  },
  {
   "cell_type": "markdown",
   "id": "a9bf8877",
   "metadata": {},
   "source": [
    "Количество итераций у обоих методов одинаковое, однако у метода справа-налево большее количество операций. Кроме того, бинарный метод справа-налевоо менее эфективен по памяти, так как приходится хранить большие степени $x$. Можно сделать вывод, что бинарный метод $SX$ лушче."
   ]
  },
  {
   "cell_type": "markdown",
   "id": "6c601c37",
   "metadata": {},
   "source": [
    "### 4. Метод множителей"
   ]
  },
  {
   "cell_type": "markdown",
   "id": "5da63188",
   "metadata": {},
   "source": [
    "Метод множителей для $n=12$:<br>\n",
    "$x^{12}= (x^2)^6$ <br>\n",
    "$(x^2)^6 = ((x^2)^2)^3$ <br>\n",
    "$((x^2)^2)^3 = ((x^2)^2)^2 * (x^2)^2$<br>\n",
    "Рассчитаем количество операций:<br>\n",
    "$x \\rightarrow x^2 \\rightarrow x^4 \\rightarrow x^8 \\rightarrow x^{12}$ (4 операции)"
   ]
  },
  {
   "cell_type": "markdown",
   "id": "7f0f7dea",
   "metadata": {},
   "source": [
    "Метод множителей для $n=35$:<br>\n",
    "$x^{35} = (x^5)^7$<br>\n",
    "$x^5 = (x^2)^2 * x$<br>\n",
    "$((x^2)^2 * x)^7 = ((((x^2)^2 * x)^2)^3)*((x^2)^2 * x)$ <br>\n",
    "Рассчитаем количество операций: <br>\n",
    "$x \\rightarrow x^2 \\rightarrow x^4 \\rightarrow x^5 \\rightarrow x^{10} \\rightarrow x^{20} \\rightarrow x^{30} \\rightarrow x^{35}$ (7 операций)"
   ]
  },
  {
   "cell_type": "markdown",
   "id": "53c88b96",
   "metadata": {},
   "source": [
    "Метод множителей для $n=42$:<br>\n",
    "$x^{42} = (x^2)^{21}$<br>\n",
    "$(x^2)^{21} = ((x^2)^3)^7$<br>\n",
    "$(x^2)^3 = ((x^2)^2)*(x^2$)<br>\n",
    "$(((x^2)^2)*x)^7 = ((((x^2)^2)*(x^2))^2)^3 * (((x^2)^2)*(x^2))$<br>\n",
    "$x \\rightarrow x^2 \\rightarrow x^4 \\rightarrow x^6 \\rightarrow x^{12} \\rightarrow x^{24} \\rightarrow x^{36} \\rightarrow x^{42}$ (7 операций)"
   ]
  },
  {
   "cell_type": "markdown",
   "id": "791fe8b6",
   "metadata": {},
   "source": [
    "На данных тестах не видно, чтобы методы различались, поэтому приведем:<br>\n",
    "Для $n=33$ метод множителей хуже бинарного метода:\n",
    "$x^{33} = (x^3)^{11}$<br>\n",
    "$(x^3)^{11} = (x^3)^{10} * x^3$<br>\n",
    "$(x^3)^{10} = ((x^3)^{2})^5$<br>\n",
    "$((x^3)^{2})^5 = ((x^3)^{2})^4 * ((x^3)^{2})$<br>\n",
    "$((x^3)^{2})^4 = (((x^3)^{2})^2)^2$<br>\n",
    "$(((x^3)^{2})^2)^2 * ((x^3)^{2}) * x^3$ <br>\n",
    "$x \\rightarrow x^2 \\rightarrow x^3 \\rightarrow x^6 \\rightarrow x^{12} \\rightarrow x^{24} \\rightarrow x^{30} \\rightarrow x^{33}$ (7 операций)\n"
   ]
  },
  {
   "cell_type": "markdown",
   "id": "a64b0879",
   "metadata": {},
   "source": [
    "В бинарном методе получаем:"
   ]
  },
  {
   "cell_type": "code",
   "execution_count": 154,
   "id": "c9102f31",
   "metadata": {},
   "outputs": [
    {
     "name": "stdout",
     "output_type": "stream",
     "text": [
      "lambd(33) = 5, nu(33) = 2, lambd(33) + nu(33) - 1 = 6\n"
     ]
    }
   ],
   "source": [
    "print(f'lambd(33) = {lambd(33)}, nu(33) = {nu(33)}, lambd(33) + nu(33) - 1 = {lambd(33) + nu(33) - 1}')"
   ]
  },
  {
   "cell_type": "markdown",
   "id": "1dc4f4b5",
   "metadata": {},
   "source": [
    "А, например, для числа 15:\n",
    "$x^{15} = (x^3)^5$<br>\n",
    "$(x^2*x)^5 = (x^2*x)^4 * x^2*x$<br>\n",
    "$(x^2*x)^4 * x^2*x = ((x^2*x)^2)^2 * x^2*x$ <br>\n",
    "$x \\rightarrow x^2 \\rightarrow x^3 \\rightarrow x^6 \\rightarrow x^{12} \\rightarrow x^{15}$ (5 операций)"
   ]
  },
  {
   "cell_type": "markdown",
   "id": "273f3209",
   "metadata": {},
   "source": [
    "В бинарном методе получаем:"
   ]
  },
  {
   "cell_type": "code",
   "execution_count": 155,
   "id": "378a3740",
   "metadata": {},
   "outputs": [
    {
     "name": "stdout",
     "output_type": "stream",
     "text": [
      "lambd(15) = 3, nu(15) = 4, lambd(15) + nu(15) - 1 = 6\n"
     ]
    }
   ],
   "source": [
    "print(f'lambd(15) = {lambd(15)}, nu(15) = {nu(15)}, lambd(15) + nu(15) - 1 = {lambd(15) + nu(15) - 1}')"
   ]
  },
  {
   "cell_type": "markdown",
   "id": "92241afe",
   "metadata": {},
   "source": [
    "Как можем увидеть, для $n=15$ метод множителей лучше бинарного метода."
   ]
  },
  {
   "cell_type": "markdown",
   "id": "2ba4e174",
   "metadata": {},
   "source": [
    "#### Вывод\n",
    "Таким образом, рассмотрен метод множителей для нескольких $n$. Его преимущество заключается в наглядности и простоте идеи, возможности легко посчитать число операций для возведения числа в степень \"руками\". Помимо этого, метод множителей может быть быстрее, чем бинарный (например, для $n=15$). Его минус - в сложности реализации. Также он иногда проигрывает другим методам (тому же бинарному при $n=33$).\n",
    "Ниже можно увидеть реализацию метода множителей, как мы видим она довольно сложная:"
   ]
  },
  {
   "cell_type": "code",
   "execution_count": 156,
   "id": "257c7825",
   "metadata": {},
   "outputs": [
    {
     "name": "stdout",
     "output_type": "stream",
     "text": [
      "x^100\n",
      "Количество операций: 8\n"
     ]
    }
   ],
   "source": [
    "def is_simple(n):\n",
    "    if n == 1:\n",
    "        return False\n",
    "    for i in range(2, int(n**0.5)+1):\n",
    "        if n % i == 0:\n",
    "            return False\n",
    "    return True\n",
    "\n",
    "ans = 0\n",
    "\n",
    "def MultMethod(x, n):\n",
    "    global ans \n",
    "    if n == 1:\n",
    "        return x\n",
    "    if is_simple(n):\n",
    "        ans += 1\n",
    "        return x*f(x, n-1)\n",
    "    for i in range(2, n):\n",
    "        if n % i == 0:\n",
    "            p = i\n",
    "            q = n//i\n",
    "            return f(f(x, p), q)\n",
    "\n",
    "var('x')\n",
    "print(MultMethod(x, 100))\n",
    "print(f'Количество операций: {ans}')"
   ]
  },
  {
   "cell_type": "markdown",
   "id": "ecfda379",
   "metadata": {},
   "source": [
    "### 5. Построение дерева степеней"
   ]
  },
  {
   "cell_type": "markdown",
   "id": "85ea584a",
   "metadata": {},
   "source": [
    "Написана функция $MakeTree$, которая создает дерево с определенным количеством уровней согласно алгоритму из теории. Функции передается количество уровней, которые нужно построить."
   ]
  },
  {
   "cell_type": "code",
   "execution_count": 157,
   "id": "1d964727",
   "metadata": {},
   "outputs": [],
   "source": [
    "def GetPathToNode(tree, node):\n",
    "    chain = [node]\n",
    "    while node != 1:\n",
    "        node = tree[node][0]\n",
    "        chain.append(node)\n",
    "    return chain[::-1]\n",
    "\n",
    "def MakeTree(k):\n",
    "    tree = {1:[]}\n",
    "    nodes = [1]\n",
    "    for level in range(k):\n",
    "        next_nodes = []\n",
    "        for parent in nodes:\n",
    "            for elem in GetPathToNode(tree, parent):\n",
    "                potent_child = parent + elem\n",
    "                if not(potent_child in tree):\n",
    "                    tree[potent_child] = [parent]\n",
    "                    next_nodes.append(potent_child)\n",
    "        nodes = next_nodes\n",
    "    return tree"
   ]
  },
  {
   "cell_type": "markdown",
   "id": "1db93c7b",
   "metadata": {},
   "source": [
    "Функция $GetEdgesToNode$ позволяет получить список ребер графа в виде кортежей. Этот список ребер используется для выделения пути от вершины дерева до определенного числа $n$ путем изменения цвета."
   ]
  },
  {
   "cell_type": "code",
   "execution_count": 159,
   "id": "a62cc322",
   "metadata": {},
   "outputs": [],
   "source": [
    "def GetEdgesToNode(tree, node):\n",
    "    chain = GetPathToNode(tree, node)\n",
    "    result = []\n",
    "    for i in range(len(chain)-1):\n",
    "        result.append((chain[i], chain[i+1]))\n",
    "    return result"
   ]
  },
  {
   "cell_type": "markdown",
   "id": "fa586e71",
   "metadata": {},
   "source": [
    "Функция $PrintTree$ используется для вывода на экран дерева и пути от корня дерева до заданной вершины $node$, если там есть соответствующий узел."
   ]
  },
  {
   "cell_type": "code",
   "execution_count": 160,
   "id": "69aa28d7",
   "metadata": {},
   "outputs": [],
   "source": [
    "def PrintTree(tree, node = None):\n",
    "    outputGraph = Graph(tree)\n",
    "    if node not in tree:\n",
    "        node = 1\n",
    "    P = outputGraph.plot(layout = 'tree', tree_root = 1, vertex_color = 'lightblue', by_component = True,\n",
    "                         edge_colors={(1, 0, 0): GetEdgesToNode(tree, node)})\n",
    "    P.show()"
   ]
  },
  {
   "cell_type": "markdown",
   "id": "ede1d420",
   "metadata": {},
   "source": [
    "Продемонстрируем работу программы. Построим дерево до 7-го уровня и выделим путь до вершины $n=35$:"
   ]
  },
  {
   "cell_type": "code",
   "execution_count": 161,
   "id": "bd6f13ef",
   "metadata": {},
   "outputs": [
    {
     "data": {
      "image/png": "[encoded data removed]",
      "text/plain": [
       "Graphics object consisting of 124 graphics primitives"
      ]
     },
     "metadata": {},
     "output_type": "display_data"
    }
   ],
   "source": [
    "PrintTree(MakeTree(7), 35)"
   ]
  },
  {
   "cell_type": "markdown",
   "id": "522f1202",
   "metadata": {},
   "source": [
    "Построим дерево до 5-го уровня и выделим путь до вершины $n = 12$:"
   ]
  },
  {
   "cell_type": "code",
   "execution_count": 162,
   "id": "09af7333",
   "metadata": {},
   "outputs": [
    {
     "data": {
      "image/png": "[encoded data removed]",
      "text/plain": [
       "Graphics object consisting of 42 graphics primitives"
      ]
     },
     "metadata": {},
     "output_type": "display_data"
    }
   ],
   "source": [
    "PrintTree(MakeTree(5), 12)"
   ]
  },
  {
   "cell_type": "markdown",
   "id": "f4918275",
   "metadata": {},
   "source": [
    "Получим цепочку вычисления $x^{35}$ с помощью дерева степеней:"
   ]
  },
  {
   "cell_type": "code",
   "execution_count": 163,
   "id": "3f4c4961",
   "metadata": {
    "scrolled": true
   },
   "outputs": [
    {
     "data": {
      "text/plain": [
       "[1, 2, 3, 5, 7, 14, 21, 35]"
      ]
     },
     "execution_count": 163,
     "metadata": {},
     "output_type": "execute_result"
    }
   ],
   "source": [
    "GetPathToNode(BuildTree(7), 35)"
   ]
  },
  {
   "cell_type": "markdown",
   "id": "dbf3905b",
   "metadata": {},
   "source": [
    "Так, получили цепочку $x, x^2, x^3, x^5, x^{7}, x^{14}, x^{21}, x^{35}$."
   ]
  },
  {
   "cell_type": "markdown",
   "id": "d7ae8078",
   "metadata": {},
   "source": [
    "Сравним данный метод с методом $SX$. Напишем функцию, возвращающую количество умножений для бинарного метода $SX$:"
   ]
  },
  {
   "cell_type": "code",
   "execution_count": 164,
   "id": "7bc55591",
   "metadata": {},
   "outputs": [],
   "source": [
    "def GetAmountOfOperationsSX(n):\n",
    "    return floor(log(n, 2)) + bin(n)[2:].count('1') - 1"
   ]
  },
  {
   "cell_type": "markdown",
   "id": "1b9f0557",
   "metadata": {},
   "source": [
    "Чтобы провести сравнение между бинарным методом и методом дерева степеней, мы внесли изменения в функцию, которая строит дерево степеней. Мы добавили количество умножений в качестве счетчика и флаг, который прекращает цикл, если было найдено значение $n$."
   ]
  },
  {
   "cell_type": "code",
   "execution_count": 165,
   "id": "25272da1",
   "metadata": {},
   "outputs": [],
   "source": [
    "def MakeTreeOper(node):\n",
    "    counter = 0\n",
    "    nodeFound = True\n",
    "    tree = {1:[]}\n",
    "    nodes = [1]\n",
    "    while nodeFound:\n",
    "        counter += 1\n",
    "        next_nodes = []\n",
    "        for parent in nodes:\n",
    "            for elem in GetPathToNode(tree, parent):\n",
    "                potent_child = parent + elem\n",
    "                if potent_child == node:\n",
    "                    nodeFound = False\n",
    "                if not(potent_child in tree):\n",
    "                    tree[potent_child] = [parent]\n",
    "                    next_nodes.append(potent_child)\n",
    "        nodes = next_nodes\n",
    "    return counter"
   ]
  },
  {
   "cell_type": "markdown",
   "id": "85a79637",
   "metadata": {},
   "source": [
    "Утверждаем, что дерево степеней не проигрывает бинарному методу (проверим до $n = 1000$)."
   ]
  },
  {
   "cell_type": "code",
   "execution_count": 166,
   "id": "b438772c",
   "metadata": {},
   "outputs": [
    {
     "name": "stdout",
     "output_type": "stream",
     "text": [
      "Утверждение корректно!\n"
     ]
    }
   ],
   "source": [
    "allGoodFlag = True\n",
    "if all([GetAmountOfOperationsSX(n) >= MakeTreeOper(n) for n in range(2,1000)]): print(\"Утверждение корректно!\")\n",
    "else: print(\"Всё плохо!\")"
   ]
  },
  {
   "cell_type": "markdown",
   "id": "b95ff1ab",
   "metadata": {},
   "source": [
    "#### Вывод\n",
    "Мы реализовали алгоритм \"дерева степеней\". С использованием $SageMath$ удалось отобразить дерево до уровня $k$ и выделить цветом путь от корня до заданного числа $n$. Сравнив данную реализацию с бинарным методом, мы пришли к выводу, что дерево степеней не проигрывает бинарному методу (то есть, дерево степеней эффективнее, чем бинарный метод справа налево)."
   ]
  },
  {
   "cell_type": "markdown",
   "id": "8bb29113",
   "metadata": {},
   "source": [
    "### 6. Изменённое дерево степеней"
   ]
  },
  {
   "cell_type": "markdown",
   "id": "1829ebbe",
   "metadata": {},
   "source": [
    "Для улучшения определения дерева степеней мы внесли несколько небольших изменений. Теперь узлы, которые находятся ниже ветви $i$, располагаются в порядке убывания:<br>\n",
    "$i+a_{k-1}, ..., i+a_{1},i+a_{0}$<br>\n",
    "В результате получаем дерево убывающих степеней. Мы также модифицировали функцию для получения узлов, находящихся ниже $i$, чтобы"
   ]
  },
  {
   "cell_type": "code",
   "execution_count": 167,
   "id": "ebe11f12",
   "metadata": {},
   "outputs": [],
   "source": [
    "def MakeTree(k):\n",
    "    tree = {1:[]}\n",
    "    nodes = [1]\n",
    "    for level in range(k):\n",
    "        next_nodes = []\n",
    "        for parent in nodes:\n",
    "            for elem in GetPathToNode(tree, parent):\n",
    "                potent_child = parent + elem\n",
    "                if not(potent_child in tree):\n",
    "                    tree[potent_child] = [parent]\n",
    "                    next_nodes.append(potent_child)\n",
    "        nodes = next_nodes\n",
    "    return tree\n",
    "\n",
    "def GetPathToNode(tree, node):\n",
    "    chain = [node]\n",
    "    while node != 1:\n",
    "        node = tree[node][0]\n",
    "        chain.append(node)\n",
    "    return chain"
   ]
  },
  {
   "cell_type": "markdown",
   "id": "c50cce58",
   "metadata": {},
   "source": [
    "Продемонстрируем работу программы. Построим дерево до 7-го уровня и выделим путь до вершины $n=35$:"
   ]
  },
  {
   "cell_type": "code",
   "execution_count": 168,
   "id": "6641497a",
   "metadata": {
    "scrolled": true
   },
   "outputs": [
    {
     "data": {
      "image/png": "[encoded data removed]",
      "text/plain": [
       "Graphics object consisting of 108 graphics primitives"
      ]
     },
     "metadata": {},
     "output_type": "display_data"
    }
   ],
   "source": [
    "PrintTree(MakeTree(7), 35)"
   ]
  },
  {
   "cell_type": "markdown",
   "id": "bc7e0123",
   "metadata": {},
   "source": [
    "Построим дерево до 5-го уровня и выделим путь до вершины $n = 12$:"
   ]
  },
  {
   "cell_type": "code",
   "execution_count": 169,
   "id": "1a61c541",
   "metadata": {
    "scrolled": true
   },
   "outputs": [
    {
     "data": {
      "image/png": "[encoded data removed]",
      "text/plain": [
       "Graphics object consisting of 40 graphics primitives"
      ]
     },
     "metadata": {},
     "output_type": "display_data"
    }
   ],
   "source": [
    "PrintTree(BuildTree(5), 12)"
   ]
  },
  {
   "cell_type": "markdown",
   "id": "7d8b6af0",
   "metadata": {},
   "source": [
    "Покажем на практике, что изменённое дерево затрачивает столько же операций умножений, сколько и бинарный метод (проверим до $n = 1000)$:"
   ]
  },
  {
   "cell_type": "code",
   "execution_count": 170,
   "id": "a7d3a565",
   "metadata": {},
   "outputs": [
    {
     "name": "stdout",
     "output_type": "stream",
     "text": [
      "Утверждение корректно!\n"
     ]
    }
   ],
   "source": [
    "if all(GetAmountOfOperationsSX(i) == MakeTreeOper(i) for i in range(2,1000)): \n",
    "       print('Утверждение корректно!')\n",
    "else:\n",
    "       print('Все плохо!')"
   ]
  },
  {
   "cell_type": "markdown",
   "id": "ee5b1704",
   "metadata": {},
   "source": [
    "## Выводы\n",
    "\n",
    "Получены знания о том, как работают алгоритмы вычисления одночленов с минимальным количеством операций. Были освоены навыки использования программного пакета $SageMath$ для создания этих алгоритмов.<br>\n",
    "Мы реализовали несколько алгоритмов, включая бинарный метод $SX$, бинарный метод возведения в степень справа налево, метод множителей и дерево степеней. Мы проверили работу алгоритмов и сравнили их с теоретическими предположениями.<br>\n",
    "Было создано дерево убывающих степеней, и мы сравнили его с бинарным методом $SX$."
   ]
  }
 ],
 "metadata": {
  "kernelspec": {
   "display_name": "SageMath 9.8",
   "language": "sage",
   "name": "sagemath-9.8"
  },
  "language_info": {
   "codemirror_mode": {
    "name": "ipython",
    "version": 3
   },
   "file_extension": ".py",
   "mimetype": "text/x-python",
   "name": "python",
   "nbconvert_exporter": "python",
   "pygments_lexer": "ipython3",
   "version": "3.11.1"
  }
 },
 "nbformat": 4,
 "nbformat_minor": 5
}
