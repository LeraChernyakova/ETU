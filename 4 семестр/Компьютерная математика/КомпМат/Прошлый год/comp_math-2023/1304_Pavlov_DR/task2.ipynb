{
 "cells": [
  {
   "cell_type": "markdown",
   "metadata": {},
   "source": [
    "# Практическая работа №2: Исследование алгоритмов формирования аддитивных цепочек\n",
    "\n",
    "Выполнил студент гр. 1304 Павлов Даниил. Вариант №45."
   ]
  },
  {
   "cell_type": "markdown",
   "metadata": {},
   "source": [
    "## Цель работы\n",
    "\n",
    "Формирование представления о аддитивных цепочках, выработать уме- ние составлять и применять алгоритмы для нахождения минимальных аддитивных цепочек для заданного числа, привить навык использования систем компьютерной математики для реализации алгоритмов."
   ]
  },
  {
   "cell_type": "markdown",
   "metadata": {},
   "source": [
    "## Основные теоретические положения\n",
    "\n",
    "#### Аддитивные цепочки\n",
    "Аддитивная цепочка для некоторого числа $n\\in \\mathbb{N}$ - это последовательность натуральных чисел $\\{a_i\\}_{i=0}^m$, где $a_0 = 1$, $a_m = n$, в которой каждый последующий элемент является суммой каких-то двух предшествующих элементов.\n",
    "\n",
    "$a_i = a_j + a_k, \\forall i:1..m, k \\leq j < i$\n",
    "$l(n) = m$\n",
    "\n",
    "Типы шагов в аддитивной цепочке:\n",
    "\n",
    "Шаг $i$ называют удвоением, если $i - 1 = k = j$;\n",
    "\n",
    "Шаг $i$ называют звездным, если $j = i - 1$, $k \\in \\{0, \\dots, i-1\\}$;\n",
    "\n",
    "Шаг $i$ называют малым, если $\\lambda(a_i)=\\lambda(a_{i-1})$\n",
    "\n",
    "Звездная цепочка - это аддитивная цепочка, в которая состоит только из звездных шагов.\n",
    "\n",
    "#### Алгоритм Брауэра\n",
    "Алгоритм Брауера вычисляет n-ую стпенень за $\\lambda(n)+\\frac{(1+o(1))\\lambda(n)}{\\lambda(\\lambda(n))}$ операций.\n",
    "\n",
    "Для некоторых $n, k$ Брауерские цепочки задаются в виде рекурентной формулы:\n",
    "$$B_k(n) =\\begin{cases}1, 2, 3, ..., 2^k-1\\text{, если }n < 2^k \\\\ B_k(q), 2q, 4q, 8q, ..., 2^kq, n,\\text{ если } n \\geqslant 2^k\\ \\text{и } q = \\lfloor\\frac{n}{2^k}\\rfloor \\end{cases}$$\n",
    "\n",
    "#### Алгоритм дробления вектора индексов\n",
    "Алгоритм дробления вектора индексов позволяет найти минимальную звездную цепочку для некоторого числа $n \\in \\mathbb{N}$.\n",
    "\n",
    "Рассмотрим вектор индексов $\\{r_i\\}_{i=1}^q \\cup {\\{{\\rho}_j \\}}_{j=q+1}^m$, где ${\\rho}_j= \\{x: 1 \\leq x \\leq j \\}$, ${\\{r_i\\}}_{i=1}^q$ - фиксированная часть, ${\\{{\\rho}_j\\}}_{j=q+1}^m$ - изменяющаяся часть.\n",
    "\n",
    "Наибольшее значение $a_m$ достигается при векторе индексов ${\\{r_i\\}}_{i=1}^{q} \\cup \\{q+1,q+2,\\dots,m\\}$.\n",
    "\n",
    "Наименьшее значение $a_m$ достигается при векторе индексов ${\\{r_i\\}}_{i=1}^{q}\\cup\\{1,1,\\dots,1\\}$.\n",
    "\n",
    "$a_{max} = a_{q+1} \\cdot {2}^{m-q}$\n",
    "\n",
    "$a_{min} = a_{q+1}+m-q$\n",
    "\n",
    "Алгоритм:\n",
    "\n",
    "1) Во внешнем цикле рассматриваем аддитивные цепочки длины $m$ от значения $\\underline{l}(n)=\\lceil log_2(n) \\rceil$ до $\\bar{l}(n)=\\lambda(n)+\\nu(n)-1$, на каждой итерации выбираем $q$ ($1 \\leq q \\leq m-1$), пусть $q = \\frac{m}{2}$\n",
    "\n",
    "2) Далее перебираем все возможные фиксированные части вектора индексов $\\{r_i\\}_{i=1}^q$ ($q!$ вариантов), для каждой строим соответствующую ей звездную цепочку, находим $a_{max}$ и ${a}_{min}$\n",
    "\n",
    "&emsp; а) Если $a_m = n$ - конец\n",
    "\n",
    "&emsp; б) Если $n \\notin [a_{min},a_{max}]$, то переходим к следующему набору $\\{r_i\\}_{i=1}^q$\n",
    "\n",
    "&emsp; в) Если $n\\in [a_{min},a_{max}]$, то перебираем все возможные изменяющиеся части вектора индексов ${\\left \\{{\\rho}_j \\right \\}}_{ j=q+1}^m$ и находим $a_m$. Если $a_m=n$, то цепочка найдена. Если все возможные изменяющиеся части вектора индексов ${\\{{\\rho}_j\\}}_{j=q+1}^m$ исчерпаны, то переходим к следующему набору $\\{r_i\\}_{i=1}^q$.\n",
    "\n",
    "3) Если все наборы вектора индексов длины $m$ исчерпаны, то увеличиваем $m$ на 1.\n",
    "\n",
    "\n",
    "#### Гипотеза Шольца-Брауэра\n",
    "Пусть $l^*(n)$ - длина звёздной цепочки.\n",
    "\n",
    "Тогда $\\forall n \\in \\mathbb{N} : n < 578469$ верно: $l^*(2^n-1)\\leq l^*(n)+n-1$\n",
    "\n",
    "*Примечание:* выполняется равенство для $n < 65$"
   ]
  },
  {
   "cell_type": "markdown",
   "metadata": {},
   "source": [
    "## Постановка задачи\n",
    "\n",
    "Реализовать точные и приближённые алгоритмы нахождения минимальных аддитивных цепочек с использованием системы компьютерной математики SageMath, провести анализ алгоритмов. Полученные результаты содержательно проинтерпретировать."
   ]
  },
  {
   "cell_type": "markdown",
   "metadata": {},
   "source": [
    "## Выполнение работы\n",
    "\n",
    "### 1. Алгоритм Брауэра\n",
    "\n",
    "Класс $Brouwer$ содержит два метода: $run$ и $do\\_test$. Он отвечает за реализацию Алгоритма Брауэра.\n",
    "- Метод $run$ отвечает за запуск вычислений последовательности определенной формулой Брауэра. Он принимает три аргумента: $n$ (целое число), $k$ (целое число) и $chain$ (список). Прямо в функции $run$ производятся вычисления и заполняется список chain значениями порядка. Если $n$ меньше, чем $2^k$, то метод заполняет список $chain$ последовательностью длиной $2^{k - 1}$.\n",
    "- Метод $do\\_test$ используется для тестирования метода $run$. Он принимает два аргумента: $n$ (целое число) и $kRange$ (целое число). Метод запускает цикл по всем значениям $k$ от $2$ до $kRange - 1$ и для каждого значения k вызывает метод $run$ с аргументами $n, k$ и пустым списком $chain$. Затем метод выводит результаты вычисления в консоль.\n",
    "\n",
    "Этот класс используется для вычисления последовательности определенной формулой Брауэра. $run$ реализует алгоритм вычисления, а $do\\_test$ используется для проверки корректности алгоритма на различных входных данных."
   ]
  },
  {
   "cell_type": "code",
   "execution_count": 13,
   "metadata": {},
   "outputs": [],
   "source": [
    "class Brouwer:    \n",
    "    def __run(self, n, k, chain):\n",
    "        if n >= 2**k:\n",
    "            q1 = q = n // 2**k\n",
    "            self.__run(q, k, chain)\n",
    "            \n",
    "            for i in range(1, k + 1):\n",
    "                q *= 2\n",
    "                \n",
    "                if not (q1 < 2**(k - i)):\n",
    "                    chain.append(q)\n",
    "            if n != q:    \n",
    "                chain.append(n)\n",
    "        else:\n",
    "            for i in range(1, 2**k):\n",
    "                chain.append(i)\n",
    "            return\n",
    "                \n",
    "    def do_test(self, n, kRange):\n",
    "        for k in range(2, kRange):\n",
    "            chain = []\n",
    "            self.__run(n, k, chain)\n",
    "            print(f\"N = {n}\\tK = {k}\\nChain = {chain}\\nChain Length = {len(chain)}\\n\")"
   ]
  },
  {
   "cell_type": "markdown",
   "metadata": {},
   "source": [
    "В качестве входных данных подставим заместо $n$ числа $123, 456, 666$. При $k \\in [2, 4]$"
   ]
  },
  {
   "cell_type": "code",
   "execution_count": 14,
   "metadata": {},
   "outputs": [
    {
     "name": "stdout",
     "output_type": "stream",
     "text": [
      "N = 123\tK = 2\n",
      "Chain = [1, 2, 3, 4, 7, 14, 28, 30, 60, 120, 123]\n",
      "Chain Length = 11\n",
      "\n",
      "N = 123\tK = 3\n",
      "Chain = [1, 2, 3, 4, 5, 6, 7, 8, 15, 30, 60, 120, 123]\n",
      "Chain Length = 13\n",
      "\n",
      "N = 123\tK = 4\n",
      "Chain = [1, 2, 3, 4, 5, 6, 7, 8, 9, 10, 11, 12, 13, 14, 15, 28, 56, 112, 123]\n",
      "Chain Length = 19\n",
      "\n"
     ]
    }
   ],
   "source": [
    "brouwer = Brouwer()\n",
    "brouwer.do_test(123, 5)"
   ]
  },
  {
   "cell_type": "code",
   "execution_count": 15,
   "metadata": {},
   "outputs": [
    {
     "name": "stdout",
     "output_type": "stream",
     "text": [
      "N = 456\tK = 2\n",
      "Chain = [1, 2, 3, 4, 7, 14, 28, 56, 112, 114, 228, 456]\n",
      "Chain Length = 12\n",
      "\n",
      "N = 456\tK = 3\n",
      "Chain = [1, 2, 3, 4, 5, 6, 7, 14, 28, 56, 57, 114, 228, 456]\n",
      "Chain Length = 14\n",
      "\n",
      "N = 456\tK = 4\n",
      "Chain = [1, 2, 3, 4, 5, 6, 7, 8, 9, 10, 11, 12, 13, 14, 15, 16, 28, 56, 112, 224, 448, 456]\n",
      "Chain Length = 22\n",
      "\n"
     ]
    }
   ],
   "source": [
    "brouwer = Brouwer()\n",
    "brouwer.do_test(456, 5)"
   ]
  },
  {
   "cell_type": "code",
   "execution_count": 16,
   "metadata": {},
   "outputs": [
    {
     "name": "stdout",
     "output_type": "stream",
     "text": [
      "N = 666\tK = 2\n",
      "Chain = [1, 2, 3, 4, 8, 10, 20, 40, 41, 82, 164, 166, 332, 664, 666]\n",
      "Chain Length = 15\n",
      "\n",
      "N = 666\tK = 3\n",
      "Chain = [1, 2, 3, 4, 5, 6, 7, 8, 10, 20, 40, 80, 83, 166, 332, 664, 666]\n",
      "Chain Length = 17\n",
      "\n",
      "N = 666\tK = 4\n",
      "Chain = [1, 2, 3, 4, 5, 6, 7, 8, 9, 10, 11, 12, 13, 14, 15, 16, 32, 41, 82, 164, 328, 656, 666]\n",
      "Chain Length = 23\n",
      "\n"
     ]
    }
   ],
   "source": [
    "brouwer = Brouwer()\n",
    "brouwer.do_test(666, 5)"
   ]
  },
  {
   "cell_type": "markdown",
   "metadata": {},
   "source": [
    "Сравним результаты с уже известным минимальным количеством операций, необходимым для формирования цепочки."
   ]
  },
  {
   "cell_type": "markdown",
   "metadata": {},
   "source": [
    "|  N  | K |Brouwer ChainLength| Shortest Length |\n",
    "|:---:|:-:|:-----------------:|:---------------:|\n",
    "| 123 | 2 | 11                | 9               |\n",
    "| 123 | 3 | 13                | 9               |\n",
    "| 123 | 4 | 19                | 9               |\n",
    "| 456 | 2 | 12                | 11              |\n",
    "| 456 | 3 | 14                | 11              |\n",
    "| 456 | 4 | 22                | 11              |\n",
    "| 666 | 2 | 15                | 12              |\n",
    "| 666 | 3 | 17                | 12              |\n",
    "| 666 | 4 | 23                | 12              |"
   ]
  },
  {
   "cell_type": "markdown",
   "metadata": {},
   "source": [
    "#### Вывод\n",
    "Можно заметить, что чем меньше значение $k$, тем длина цепочки приближается к мнимальной длине."
   ]
  },
  {
   "cell_type": "markdown",
   "metadata": {},
   "source": [
    "### 2. Алгоритм дробления вектора индексов\n",
    "\n",
    "Класс $SplitAlgorithm$ - реализация алгоритма поиска оптимальной цепочки для заданного числа методо дробления векторов, описание которого находится теоретическом положении. \n",
    "\n",
    "- $search\\_chain$ принимает на вход целое число $n$ и ищет оптимальную цепочку для него. Возвращает найденную цепочку и время выполнения поиска.\n",
    "- $binary\\_length$ вспомогательный метод, который принимает на вход целое число $n$ и возвращает количество разрядов в двоичном представлении этого числа.\n",
    "- $iterate\\_unfixed\\_par$ вспомогательный метод, который выполняет итерации по вектору индексов итераций с незафиксированными элементами. Возвращает $True$, если найдена оптимальная цепочка и $False$, если цепочка не найдена. Параметр $skip$ определяет, нужно ли пропускать первую итерацию.\n",
    "- $decrement\\_last\\_item$ вспомогательный метод, который уменьшает последний элемент вектора индексов на $1$. Используется в методе $iterate\\_unfixed\\_part$ для перебора возможных векторов индексов.\n",
    "- $find\\_star\\_chain$ вспомогательный метод, который ищет цепочку для числа $m$. Он возвращает найденную цепочку. Параметр $fSize$ определяет минимальный размер вектора индексов. Если он не указан, то определяется из числа $m$\n",
    "- $form\\_chain$ вспомогательный метод, который принимает на вход вектор индексов итераций и возвращает цепочку итераций, соответствующую этому вектору."
   ]
  },
  {
   "cell_type": "code",
   "execution_count": 20,
   "metadata": {},
   "outputs": [],
   "source": [
    "from time import time\n",
    "import numpy as np\n",
    "\n",
    "\n",
    "class SplitAlgorithm:\n",
    "    \n",
    "    def search_chain(self, n):\n",
    "        start = time()            \n",
    "        chain = self.__find_star_chain(n)\n",
    "        return chain, time() - start\n",
    "    \n",
    "    def __binary_length(self, n):\n",
    "        return floor(log(n, 2)) + str(bin(n))[2:].count('1') - 1\n",
    "    \n",
    "    def __find_star_chain(self, m, fSize = 0):\n",
    "        if (fSize == 0): fSize = ceil(log(m, 2).n())\n",
    "            \n",
    "        for vSize in range(fSize, self.__binary_length(m) + 2):\n",
    "            skip = False\n",
    "            v = [vElem for vElem in range(1, vSize + 1)]  \n",
    "                \n",
    "            minFix = 0\n",
    "            maxFix = len(v) // 2\n",
    "            \n",
    "            if (m < 10):\n",
    "                minFix = -1\n",
    "                maxFix = 1\n",
    "            for fixedPartSize in range(maxFix, minFix, -1):\n",
    "                aMin = 0\n",
    "                aMax = np.inf\n",
    "                \n",
    "                if (m > 20):\n",
    "                    aMin = v[fixedPartSize - 1] + len(v) - fixedPartSize\n",
    "                    aMax = v[fixedPartSize - 1] * 2^(len(v) - fixedPartSize)\n",
    "                if not (m >= aMin and m <= aMax): continue\n",
    "                    \n",
    "                found = self.__iterate_unfixed_part(v, fixedPartSize, m, skip)\n",
    "                skip = True\n",
    "                \n",
    "                if found[0]: return found[1]\n",
    "                \n",
    "    def __iterate_unfixed_part(self, v, fixedPartSize, m, skip=False):\n",
    "        if (skip):\n",
    "            if (fixedPartSize != 0):\n",
    "                v[fixedPartSize] -= 1\n",
    "            else:\n",
    "                return [False, v]   \n",
    "        while True:\n",
    "            vChain = self.__form_chain(v)\n",
    "            \n",
    "            if (vChain[-1] == m): return [True, vChain]\n",
    "            if v.count(1) == len(v) - fixedPartSize + 1: return [False, vChain]\n",
    "            \n",
    "            v = self.__decrement_last_item(v, fixedPartSize)\n",
    "            \n",
    "    def __decrement_last_item(self, v, start):\n",
    "        v1 = []\n",
    "        v2 = []\n",
    "        for i in range(len(v)):\n",
    "            v1.append(v[i]) if i < start else v2.append(v[i]) \n",
    "\n",
    "        eIndex = lastElemIndex = 0    \n",
    "        for e in v:\n",
    "            if (e  != 1): lastElemIndex = eIndex\n",
    "            eIndex+=1\n",
    "\n",
    "        v2[lastElemIndex - start] -= 1\n",
    "        for i in range(lastElemIndex - start + 1, len(v2)):\n",
    "            v2[i] = i + 1 + start\n",
    "        v = v1 + v2 \n",
    "        return v\n",
    "            \n",
    "    def __form_chain(self, indexVector):\n",
    "        chain = [1]\n",
    "        for r in indexVector:\n",
    "            nxtElem = chain[-1] + chain[r - 1]\n",
    "            chain.append(nxtElem)\n",
    "        return chain "
   ]
  },
  {
   "cell_type": "markdown",
   "metadata": {},
   "source": [
    "Ниже приведены тесты для чисел: $123, 456, 666$."
   ]
  },
  {
   "cell_type": "code",
   "execution_count": 22,
   "metadata": {},
   "outputs": [
    {
     "name": "stdout",
     "output_type": "stream",
     "text": [
      "N = 123\n",
      "Chain: [1, 2, 4, 8, 16, 32, 40, 41, 82, 123]\n",
      "Chain Length: 10\n",
      "Excecution Time: 0.258655309677124\n",
      "\n",
      "N = 456\n",
      "Chain: [1, 2, 4, 8, 16, 32, 64, 128, 256, 384, 448, 456]\n",
      "Chain Length: 12\n",
      "Excecution Time: 21.778913021087646\n",
      "\n",
      "N = 666\n",
      "Chain: [1, 2, 4, 8, 16, 32, 64, 128, 136, 264, 528, 664, 666]\n",
      "Chain Length: 13\n",
      "Excecution Time: 208.2409200668335\n",
      "\n"
     ]
    }
   ],
   "source": [
    "for item in [123, 456, 666]:\n",
    "    chain, excecutionTime = SplitAlgorithm().search_chain(item)\n",
    "    print(f\"N = {item}\\n\" + \n",
    "          f\"Chain: {chain}\\n\" +\n",
    "          f\"Chain Length: {len(chain)}\\n\" + \n",
    "          f\"Excecution Time: {excecutionTime}\\n\")"
   ]
  },
  {
   "cell_type": "markdown",
   "metadata": {},
   "source": [
    "#### Вывод\n",
    "Сравнивая с Алгоритм Брауэра, Алгоритм дробления вектора индексов дает более приближенную к минимальной цепочку, однако он занимает куда больше времени."
   ]
  },
  {
   "cell_type": "markdown",
   "metadata": {},
   "source": [
    "### 3. Проверка гипотезы Шольца-Брауэра\n",
    "\n",
    "Была написана функция $check\\_hypotheses$, которая проверяет числа от $3$ до $kRange - 1$ на соблюдение гипотезы Шольца-Брауэра. Если гипотеза верна - неравенство горит зеленым цветом, в противном случае - красным."
   ]
  },
  {
   "cell_type": "code",
   "execution_count": 23,
   "metadata": {},
   "outputs": [],
   "source": [
    "GREEN_COLOR, RED_COLOR, NORMAL_COLOR = \"\\033[92m\", \"\\033[91m\", \"\\033[0m\"\n",
    "\n",
    "def check_hypotheses(kRange):\n",
    "    for i in range(3, kRange):\n",
    "        chain1, excecutionTime = SplitAlgorithm().search_chain(i)\n",
    "        chain2, excecutionTime = SplitAlgorithm().search_chain(2**i - 1)\n",
    "        color = GREEN_COLOR if (len(chain2) <= len(chain1) + i - 1) else RED_COLOR\n",
    "        \n",
    "        print(f\"{i}: \" + color +\n",
    "                            (f\"l(2^{i} - 1) < l({i}) + {i} - 1\"\n",
    "                            if len(chain2) < len(chain1) + i - 1 \n",
    "                            else f\"l(2^{i} - 1) == l({i}) + {i} - 1\"\n",
    "                            if len(chain2) == len(chain1) + i - 1 \n",
    "                            else f\"l(2^{i} - 1) > l({i}) + {i} - 1\") +\n",
    "                         NORMAL_COLOR)"
   ]
  },
  {
   "cell_type": "markdown",
   "metadata": {},
   "source": [
    "Проверим интервал $[3, 8)$ на корректность гипотезы:"
   ]
  },
  {
   "cell_type": "code",
   "execution_count": 24,
   "metadata": {},
   "outputs": [
    {
     "name": "stdout",
     "output_type": "stream",
     "text": [
      "3: \u001b[92ml(2^3 - 1) == l(3) + 3 - 1\u001b[0m\n",
      "4: \u001b[92ml(2^4 - 1) == l(4) + 4 - 1\u001b[0m\n",
      "5: \u001b[92ml(2^5 - 1) == l(5) + 5 - 1\u001b[0m\n",
      "6: \u001b[92ml(2^6 - 1) == l(6) + 6 - 1\u001b[0m\n",
      "7: \u001b[92ml(2^7 - 1) == l(7) + 7 - 1\u001b[0m\n"
     ]
    }
   ],
   "source": [
    "check_hypotheses(8)"
   ]
  },
  {
   "cell_type": "markdown",
   "metadata": {},
   "source": [
    "#### Вывод\n",
    "\n",
    "Для последовательности {$3..7$} выполняется гипотеза."
   ]
  },
  {
   "cell_type": "markdown",
   "metadata": {},
   "source": [
    "## Выводы\n",
    "\n",
    "Были реализованы алгоритмы нахождения минимальных аддитивных цепочек при помощи $SageMath$: Алгоритм Брауэра и Алгоритм дробления вектора индексов; а так же проведены их сравнение, в ходе которого были выявлены плюсы и минусы методов. Более того, проведна проверка гипотезы Шольца-Брауэра."
   ]
  }
 ],
 "metadata": {
  "kernelspec": {
   "display_name": "SageMath 9.8",
   "language": "sage",
   "name": "sagemath-9.8"
  },
  "language_info": {
   "codemirror_mode": {
    "name": "ipython",
    "version": 3
   },
   "file_extension": ".py",
   "mimetype": "text/x-python",
   "name": "python",
   "nbconvert_exporter": "python",
   "pygments_lexer": "ipython3",
   "version": "3.11.1"
  }
 },
 "nbformat": 4,
 "nbformat_minor": 4
}
