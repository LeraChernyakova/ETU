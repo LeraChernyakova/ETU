{
 "cells": [
  {
   "cell_type": "markdown",
   "metadata": {},
   "source": [
    "# Практическая работа №1: Алгоритмы эффективного вычисления одночленов\n",
    "\n",
    "Выполнил студент гр. 1304 Поршнев Роман. Вариант №46."
   ]
  },
  {
   "cell_type": "markdown",
   "metadata": {},
   "source": [
    "## Цель работы\n",
    "\n",
    "Сформировать знания о работе алгоритмах вычисления одночленов за минимальное число операций, привить навыки использования систем компьютерной математики для реализации алгоритмов."
   ]
  },
  {
   "cell_type": "markdown",
   "metadata": {},
   "source": [
    "## Основные теоретические положения\n",
    "\n",
    "Возведение одночлена в степень имеет большое значение во многих разделах математики. Зачастую ставятся задачи, где нужно возвести число в достаточно большую степень. Например, стоит задача вычислить $ x^n $, где $ n \\ge 10^9 $. Наивное решение такой задачи будет получено не раньше секунды при использовании любого компилятора. Однако, были разработы алгоритмы решения данной задачи за меньшее время: бинарный метод $SX$, бинарный метод возведения в степень справа налево, метод множителей и дерево степеней. <br>\n",
    "Для оценки количества операций следует ввести следующие определения: <br>\n",
    "$ \\lambda(n) = \\lfloor \\log_2{n} \\rfloor -$ уменьшенная на единицу длина бинарной записи числа $ n $. <br>\n",
    "$ \\nu(n) -$ вес Хэмиинга для бинарной записи $ n $, а именно, число единиц в бинарной записи.\n",
    "\n",
    "### Бинарный метод $SX$\n",
    "1. Число, в которое нужно возвести одночлен, представляется в двоичной системе счисления.\n",
    "2. В двоичной записи отбрасывается старший бит.\n",
    "3. В полученной двоичной записи бит, установленный в 1, интерпретируется как набор символов $SX$, а бит, установленный в 0, как $S$. По итогу получается строка из элементов $S$ и $X$.\n",
    "4. Выполняется вычисление $ x^n $, где $S$ $-$ возведение в квадрат текущего знаечния, а $X$ $-$ умножение текущего значения на $x$. <br>\n",
    "\n",
    "Число операций для данного метода: $ \\lambda(n)  + \\nu(n) - 1 $\n",
    "### Бинарный метод возведения в степень справа налево\n",
    "1. $ N:=n $, $ Y:= 1 $, $Z := x$\n",
    "2. Если $ N -$ чётное, то $ N := \\lfloor N / 2 \\rfloor$, $Z := Z^2$, вернуться к пункту 2. <br>Если $N -$ нечётное, то то $ N := \\lfloor N / 2 \\rfloor$, $ Y := Z * Y$. Если $N = 0$, то переход к пункту 3, иначе $Z := Z^2$ и происходит возврат к пункту 2.\n",
    "3. $ Y -$ ответ на задачу, алгоритм закончил работу.<br>\n",
    "\n",
    "Число операций для данного метода: $ \\lambda(n)  + \\nu(n) $\n",
    "### Метод множителей\n",
    "1. Степень $ n $, в которую возводится одночлен $ x $, представляется следующим образом: $ n = pq $, где $p -$ наименьший простой множитель $ n $, $ q > 1$. То есть, $ x^n $ можно найти, вычислив $ x^p $ и возведя эту величину в степнь $ q $. \n",
    "2. Если $n -$ простое, то можно сначала вычислить $x^{n-1}$ и умножить его на $ x $.\n",
    "3. При $n = 1$ получаем $x^n$ безо всяких вычислений.\n",
    "\n",
    "### Дерево степеней\n",
    "1. Построить $ k $-ый уровень дерева. Необходимо построить $ (k + 1) $-ый уровень.\n",
    "2. Берём каждый узел $ n $ на $ k $-ом уровне слева направо и присоеднияем к нему снизу узлы $n + a_0n + a_1$, $n + a_2...n + a_1 = 2n$.\n",
    "3. Порядок присоединения важен. Значения $\\{a_i\\}^{n-1}_{i=0}$, $a_0 = 1$ представляет собой путь от корня до узла $n$.\n",
    "4. Если какой-то узел уже появлялся раньше в дереве, то он устраняется."
   ]
  },
  {
   "cell_type": "markdown",
   "metadata": {},
   "source": [
    "## Постановка задачи\n",
    "\n",
    "Реализовать алгоритмы вычисления мономов за минимальное число операций с использованием системы компьютерной алгебры SageMath, провести анализ алгоритмов. Полученные результаты содержательно проинтерпретировать.\n"
   ]
  },
  {
   "cell_type": "markdown",
   "metadata": {},
   "source": [
    "## Выполнение работы\n",
    "\n",
    "### 1. Реализация бинарного метода $ SX $\n",
    "Реализация данного метода выполнена строго по соответствующему алгоритму из Основных теоретических положений. <br>\n",
    "Реализована функция для составления строки, состоящей из символов $S$ и $X$:"
   ]
  },
  {
   "cell_type": "code",
   "execution_count": 1,
   "metadata": {},
   "outputs": [],
   "source": [
    "# Входные данные: степень, в которую нужно возвести x\n",
    "# Выходные данные: строка из символов \"S\" и \"X\"\n",
    "def composing_string_from_SX(n):\n",
    "    n_binary = bin(n)[3:] # перевод степени одночлена в двоичную систему счисления без старшего бита\n",
    "    SX_string = ''\n",
    "    for bit in n_binary:\n",
    "        if bit == '1':\n",
    "            SX_string += 'SX'\n",
    "        else:\n",
    "            SX_string += 'S'\n",
    "    return SX_string"
   ]
  },
  {
   "cell_type": "markdown",
   "metadata": {},
   "source": [
    "Также реализована функция для интерпретациии строки, состоящей из символов $S$ и $X$ для вычисления значения $x^n$:"
   ]
  },
  {
   "cell_type": "code",
   "execution_count": 2,
   "metadata": {},
   "outputs": [],
   "source": [
    "# Входные данные: строка из символов \"S\" и \"X\", одночлен, который нужно возвести в степень, необходимость в логах\n",
    "# Выходные данные: возведённый в степень одночлен, количество итераций\n",
    "# Стоить добавить, что количество итераций в данном методе == количеству операций\n",
    "def binary_method_SX(SX_string, x, need_logs):\n",
    "    count_iterations = 0\n",
    "    monomial = x\n",
    "    for i in range(len(SX_string)):\n",
    "        if SX_string[i] == 'S':\n",
    "            monomial *= monomial\n",
    "        else:\n",
    "            monomial *= x\n",
    "        if need_logs:\n",
    "            print(f\"№ итерации: {i + 1}. Значение монома: {monomial}\")\n",
    "        count_iterations += 1\n",
    "    return monomial, count_iterations"
   ]
  },
  {
   "cell_type": "markdown",
   "metadata": {},
   "source": [
    "Для тестирования реализованного алгоритма были выбраны следующие степени $n$ для $x$: $7$, $99$, $777$.<br>"
   ]
  },
  {
   "cell_type": "markdown",
   "metadata": {},
   "source": [
    "Пусть $n = 7$:"
   ]
  },
  {
   "cell_type": "code",
   "execution_count": 3,
   "metadata": {},
   "outputs": [
    {
     "name": "stdout",
     "output_type": "stream",
     "text": [
      "Последовательность SX: SXSX\n",
      "№ итерации: 1. Значение монома: x^2\n",
      "№ итерации: 2. Значение монома: x^3\n",
      "№ итерации: 3. Значение монома: x^6\n",
      "№ итерации: 4. Значение монома: x^7\n"
     ]
    },
    {
     "data": {
      "text/plain": [
       "(x^7, 4)"
      ]
     },
     "execution_count": 3,
     "metadata": {},
     "output_type": "execute_result"
    }
   ],
   "source": [
    "x = var('x')\n",
    "SX_string = composing_string_from_SX(7)\n",
    "print(f\"Последовательность SX: {SX_string}\")\n",
    "binary_method_SX(SX_string, x, True)"
   ]
  },
  {
   "cell_type": "markdown",
   "metadata": {},
   "source": [
    "Пусть $n = 99$:"
   ]
  },
  {
   "cell_type": "code",
   "execution_count": 4,
   "metadata": {},
   "outputs": [
    {
     "name": "stdout",
     "output_type": "stream",
     "text": [
      "Последовательность SX: SXSSSSXSX\n",
      "№ итерации: 1. Значение монома: x^2\n",
      "№ итерации: 2. Значение монома: x^3\n",
      "№ итерации: 3. Значение монома: x^6\n",
      "№ итерации: 4. Значение монома: x^12\n",
      "№ итерации: 5. Значение монома: x^24\n",
      "№ итерации: 6. Значение монома: x^48\n",
      "№ итерации: 7. Значение монома: x^49\n",
      "№ итерации: 8. Значение монома: x^98\n",
      "№ итерации: 9. Значение монома: x^99\n"
     ]
    },
    {
     "data": {
      "text/plain": [
       "(x^99, 9)"
      ]
     },
     "execution_count": 4,
     "metadata": {},
     "output_type": "execute_result"
    }
   ],
   "source": [
    "SX_string = composing_string_from_SX(99)\n",
    "print(f\"Последовательность SX: {SX_string}\")\n",
    "binary_method_SX(SX_string, x, True)"
   ]
  },
  {
   "cell_type": "markdown",
   "metadata": {},
   "source": [
    "Пусть $n = 777$:"
   ]
  },
  {
   "cell_type": "code",
   "execution_count": 5,
   "metadata": {},
   "outputs": [
    {
     "name": "stdout",
     "output_type": "stream",
     "text": [
      "Последовательность SX: SXSSSSSXSSSX\n",
      "№ итерации: 1. Значение монома: x^2\n",
      "№ итерации: 2. Значение монома: x^3\n",
      "№ итерации: 3. Значение монома: x^6\n",
      "№ итерации: 4. Значение монома: x^12\n",
      "№ итерации: 5. Значение монома: x^24\n",
      "№ итерации: 6. Значение монома: x^48\n",
      "№ итерации: 7. Значение монома: x^96\n",
      "№ итерации: 8. Значение монома: x^97\n",
      "№ итерации: 9. Значение монома: x^194\n",
      "№ итерации: 10. Значение монома: x^388\n",
      "№ итерации: 11. Значение монома: x^776\n",
      "№ итерации: 12. Значение монома: x^777\n"
     ]
    },
    {
     "data": {
      "text/plain": [
       "(x^777, 12)"
      ]
     },
     "execution_count": 5,
     "metadata": {},
     "output_type": "execute_result"
    }
   ],
   "source": [
    "SX_string = composing_string_from_SX(777)\n",
    "print(f\"Последовательность SX: {SX_string}\")\n",
    "binary_method_SX(SX_string, x, True)"
   ]
  },
  {
   "cell_type": "markdown",
   "metadata": {},
   "source": [
    "Также реализованы функции для подсчёта количества операций в бинарном методе $SX$ исходя из теоретических и практических сведений. Ниже приведены функции для рассчёта $ \\lambda(n) $ и $ \\nu(n) $, что представляют собой теоретический анализ количества операций:"
   ]
  },
  {
   "cell_type": "code",
   "execution_count": 6,
   "metadata": {},
   "outputs": [],
   "source": [
    "# Входные данные: степень одночлена\n",
    "# Выходные данные: лямбда-функция для данной степень\n",
    "def compute_lambda(n):\n",
    "    return len(bin(n)[3:])\n",
    "# Входные данные: степень одночлена\n",
    "# Выходные данные: Вес хэмминга степени одночлена\n",
    "def compute_nu(n):\n",
    "    n_binary = bin(n)[2:]\n",
    "    return n_binary.count('1')"
   ]
  },
  {
   "cell_type": "markdown",
   "metadata": {},
   "source": [
    "Для тестирования правильности подсчёта количества операций теоретических методом и практическим были выбраны следующие степени $n$: $7$, $99$, $777$.<br>"
   ]
  },
  {
   "cell_type": "markdown",
   "metadata": {},
   "source": [
    "Пусть $n = 7$:"
   ]
  },
  {
   "cell_type": "code",
   "execution_count": 7,
   "metadata": {},
   "outputs": [
    {
     "name": "stdout",
     "output_type": "stream",
     "text": [
      "Количество операций необходимых для вычисления монома: 4\n"
     ]
    }
   ],
   "source": [
    "SX_string = composing_string_from_SX(7)\n",
    "if binary_method_SX(SX_string, x, False)[1] == compute_lambda(7) + compute_nu(7) - 1:\n",
    "    print(f\"Количество операций необходимых для вычисления монома: {compute_lambda(7) + compute_nu(7) - 1}\")\n",
    "else:\n",
    "    print(\"Ошибка\")"
   ]
  },
  {
   "cell_type": "markdown",
   "metadata": {},
   "source": [
    "Пусть $n = 99$:"
   ]
  },
  {
   "cell_type": "code",
   "execution_count": 8,
   "metadata": {},
   "outputs": [
    {
     "name": "stdout",
     "output_type": "stream",
     "text": [
      "Количество операций необходимых для вычисления монома: 9\n"
     ]
    }
   ],
   "source": [
    "SX_string = composing_string_from_SX(99)\n",
    "if binary_method_SX(SX_string, x, False)[1] == compute_lambda(99) + compute_nu(99) - 1:\n",
    "    print(f\"Количество операций необходимых для вычисления монома: {compute_lambda(99) + compute_nu(99) - 1}\")\n",
    "else:\n",
    "    print(\"Ошибка\")"
   ]
  },
  {
   "cell_type": "markdown",
   "metadata": {},
   "source": [
    "Пусть $n = 777$:"
   ]
  },
  {
   "cell_type": "code",
   "execution_count": 9,
   "metadata": {},
   "outputs": [
    {
     "name": "stdout",
     "output_type": "stream",
     "text": [
      "Количество операций необходимых для вычисления монома: 12\n"
     ]
    }
   ],
   "source": [
    "SX_string = composing_string_from_SX(777)\n",
    "if binary_method_SX(SX_string, x, False)[1] == compute_lambda(777) + compute_nu(777) - 1:\n",
    "    print(f\"Количество операций необходимых для вычисления монома: {compute_lambda(777) + compute_nu(777) -1}\")\n",
    "else:\n",
    "    print(\"Ошибка\")"
   ]
  },
  {
   "cell_type": "markdown",
   "metadata": {},
   "source": [
    "####  Вывод.\n",
    "В ходе изучения бинарного метода $SX$ было установлено, что данный алгоритм намного быстрее наивного алгоритма возведения в степень. Например, если стоит задача вычислить $x^n$ при $n = 777$, то бинарный метод $SX$ решит данную задачу за 12 операций, в то время как наивный алгоритм решит её за 776 операций. Также было установлено равенство практической оценки количества операций и теоретической. Реализованы и протеcтированы соответствующие функции для данного метода."
   ]
  },
  {
   "cell_type": "markdown",
   "metadata": {},
   "source": [
    "### 2. Реализация бинарного метода возведения в степень справа налево\n",
    "Реализация данного метода выполнена строго по соответствующему алгоритму из Основных теоретических положений. <br>\n",
    "Реализована функция бинарного метода возведения в степень справа налево:"
   ]
  },
  {
   "cell_type": "code",
   "execution_count": 10,
   "metadata": {},
   "outputs": [],
   "source": [
    "# Входные данные: одночлен, степень, в которую нужно возвести одночлен, необходимость в логах\n",
    "# Выходные данные: возведённый в степень n одночлен, значение Z после завершения работы алгоритма, кол-во операций, кол-во итераций\n",
    "def binary_method_from_right_to_left(x, n, need_logs):\n",
    "    N = n\n",
    "    Y = 1\n",
    "    Z = x\n",
    "    i = 0\n",
    "    count_operations = 0\n",
    "    count_iterations = 0\n",
    "    while N != 0:\n",
    "        i += 1\n",
    "        if N % 2 == 0:\n",
    "            N = floor(N / 2)\n",
    "            Z = Z ** 2\n",
    "            count_operations += 1\n",
    "        else:\n",
    "            N = floor(N / 2)\n",
    "            Y = Z * Y\n",
    "            count_operations += 1\n",
    "            if N != 0:\n",
    "                Z = Z ** 2\n",
    "                count_operations += 1\n",
    "        if need_logs:\n",
    "            print(f\"№ итерации = {i} N = {N} Y = {Y} Z = {Z}\")\n",
    "        count_iterations += 1\n",
    "    return Y, Z, count_operations, count_iterations"
   ]
  },
  {
   "cell_type": "markdown",
   "metadata": {},
   "source": [
    "Пусть $n = 7$:"
   ]
  },
  {
   "cell_type": "code",
   "execution_count": 11,
   "metadata": {},
   "outputs": [
    {
     "name": "stdout",
     "output_type": "stream",
     "text": [
      "№ итерации = 1 N = 3 Y = x Z = x^2\n",
      "№ итерации = 2 N = 1 Y = x^3 Z = x^4\n",
      "№ итерации = 3 N = 0 Y = x^7 Z = x^4\n"
     ]
    },
    {
     "data": {
      "text/plain": [
       "(x^7, x^4, 5, 3)"
      ]
     },
     "execution_count": 11,
     "metadata": {},
     "output_type": "execute_result"
    }
   ],
   "source": [
    "binary_method_from_right_to_left(x, 7, True)"
   ]
  },
  {
   "cell_type": "markdown",
   "metadata": {},
   "source": [
    "Таблица результата работы алгоритма при $n = 7$:"
   ]
  },
  {
   "cell_type": "markdown",
   "metadata": {},
   "source": [
    "| № итерации | Значение N | Значение Y | Значение Z |\n",
    "|------------|------------|------------|------------|\n",
    "| 1          | 3          | $x$        | $x^{2}$    |\n",
    "| 2          | 1          | $x^{3}$    | $x^{4}$    |\n",
    "| 3          | 0          | $x^{7}$    | $x^{4}$    |"
   ]
  },
  {
   "cell_type": "markdown",
   "metadata": {},
   "source": [
    "Пусть $n = 99$:"
   ]
  },
  {
   "cell_type": "code",
   "execution_count": 12,
   "metadata": {},
   "outputs": [
    {
     "name": "stdout",
     "output_type": "stream",
     "text": [
      "№ итерации = 1 N = 49 Y = x Z = x^2\n",
      "№ итерации = 2 N = 24 Y = x^3 Z = x^4\n",
      "№ итерации = 3 N = 12 Y = x^3 Z = x^8\n",
      "№ итерации = 4 N = 6 Y = x^3 Z = x^16\n",
      "№ итерации = 5 N = 3 Y = x^3 Z = x^32\n",
      "№ итерации = 6 N = 1 Y = x^35 Z = x^64\n",
      "№ итерации = 7 N = 0 Y = x^99 Z = x^64\n",
      "(x^99, x^64, 10, 7)\n"
     ]
    }
   ],
   "source": [
    "print(binary_method_from_right_to_left(x, 99, True))"
   ]
  },
  {
   "cell_type": "markdown",
   "metadata": {},
   "source": [
    "Таблица результата работы алгоритма при $n = 99$:"
   ]
  },
  {
   "cell_type": "markdown",
   "metadata": {},
   "source": [
    "| № итерации | Значение N | Значение Y | Значение Z |\n",
    "|------------|------------|------------|------------|\n",
    "| 1          | 49         | $x$        | $x^{2}$    |\n",
    "| 2          | 24         | $x^{3}$    | $x^{4}$    |\n",
    "| 3          | 12         | $x^{3}$    | $x^{8}$    |\n",
    "| 4          | 6          | $x^{3}$    | $x^{16}$   |\n",
    "| 5          | 3          | $x^{3}$    | $x^{32}$   |\n",
    "| 6          | 1          | $x^{35}$   | $x^{64}$   |\n",
    "| 7          | 0          | $x^{99}$   | $x^{64}$   |"
   ]
  },
  {
   "cell_type": "markdown",
   "metadata": {},
   "source": [
    "Пусть $n = 777$:"
   ]
  },
  {
   "cell_type": "code",
   "execution_count": 13,
   "metadata": {},
   "outputs": [
    {
     "name": "stdout",
     "output_type": "stream",
     "text": [
      "№ итерации = 1 N = 388 Y = x Z = x^2\n",
      "№ итерации = 2 N = 194 Y = x Z = x^4\n",
      "№ итерации = 3 N = 97 Y = x Z = x^8\n",
      "№ итерации = 4 N = 48 Y = x^9 Z = x^16\n",
      "№ итерации = 5 N = 24 Y = x^9 Z = x^32\n",
      "№ итерации = 6 N = 12 Y = x^9 Z = x^64\n",
      "№ итерации = 7 N = 6 Y = x^9 Z = x^128\n",
      "№ итерации = 8 N = 3 Y = x^9 Z = x^256\n",
      "№ итерации = 9 N = 1 Y = x^265 Z = x^512\n",
      "№ итерации = 10 N = 0 Y = x^777 Z = x^512\n"
     ]
    },
    {
     "data": {
      "text/plain": [
       "(x^777, x^512, 13, 10)"
      ]
     },
     "execution_count": 13,
     "metadata": {},
     "output_type": "execute_result"
    }
   ],
   "source": [
    "binary_method_from_right_to_left(x, 777, True)"
   ]
  },
  {
   "cell_type": "markdown",
   "metadata": {},
   "source": [
    "Таблица результата работы алгоритма при $n = 777$:"
   ]
  },
  {
   "cell_type": "markdown",
   "metadata": {},
   "source": [
    "| № итерации | Значение N | Значение Y | Значение Z |\n",
    "|------------|------------|------------|------------|\n",
    "| 1          | 388        | $x$        | $x^{2}$    |\n",
    "| 2          | 194        | $x$        | $x^{4}$    |\n",
    "| 3          | 97         | $x$        | $x^{8}$    |\n",
    "| 4          | 48         | $x^{9}$    | $x^{16}$   |\n",
    "| 5          | 24         | $x^{9}$    | $x^{32}$   |\n",
    "| 6          | 12         | $x^{9}$    | $x^{64}$   |\n",
    "| 7          | 6          | $x^{9}$    | $x^{128}$  |\n",
    "| 8          | 3          | $x^{9}$    | $x^{256}$  |\n",
    "| 9          | 1          | $x^{265}$  | $x^{512}$  |\n",
    "| 10         | 0          | $x^{777}$  | $x^{512}$  |"
   ]
  },
  {
   "cell_type": "markdown",
   "metadata": {},
   "source": [
    "Для тестирования правильности подсчёта количества операций теоретических методом и практическим были выбраны следующие степени $n$: $7$, $99$, $777$.<br>"
   ]
  },
  {
   "cell_type": "markdown",
   "metadata": {},
   "source": [
    "Пусть $n = 7$:"
   ]
  },
  {
   "cell_type": "code",
   "execution_count": 14,
   "metadata": {},
   "outputs": [
    {
     "name": "stdout",
     "output_type": "stream",
     "text": [
      "Количество операций необходимых для вычисления монома: 5\n"
     ]
    }
   ],
   "source": [
    "if binary_method_from_right_to_left(x, 7, False)[2] == compute_lambda(7) + compute_nu(7):\n",
    "    print(f\"Количество операций необходимых для вычисления монома: {compute_lambda(7) + compute_nu(7)}\")\n",
    "else:\n",
    "    print(\"Ошибка\")"
   ]
  },
  {
   "cell_type": "markdown",
   "metadata": {},
   "source": [
    "Пусть $n = 99$:"
   ]
  },
  {
   "cell_type": "code",
   "execution_count": 15,
   "metadata": {},
   "outputs": [
    {
     "name": "stdout",
     "output_type": "stream",
     "text": [
      "Количество операций необходимых для вычисления монома: 10\n"
     ]
    }
   ],
   "source": [
    "if binary_method_from_right_to_left(x, 99, False)[2] == compute_lambda(99) + compute_nu(99):\n",
    "    print(f\"Количество операций необходимых для вычисления монома: {compute_lambda(99) + compute_nu(99)}\")\n",
    "else:\n",
    "    print(\"Ошибка\")"
   ]
  },
  {
   "cell_type": "markdown",
   "metadata": {},
   "source": [
    "Пусть $n = 777$:"
   ]
  },
  {
   "cell_type": "code",
   "execution_count": 16,
   "metadata": {},
   "outputs": [
    {
     "name": "stdout",
     "output_type": "stream",
     "text": [
      "Количество операций необходимых для вычисления монома: 13\n"
     ]
    }
   ],
   "source": [
    "if binary_method_from_right_to_left(x, 777, False)[2] == compute_lambda(777) + compute_nu(777):\n",
    "    print(f\"Количество операций необходимых для вычисления монома: {compute_lambda(777) + compute_nu(777)}\")\n",
    "else:\n",
    "    print(\"Ошибка\")"
   ]
  },
  {
   "cell_type": "markdown",
   "metadata": {},
   "source": [
    "Исходя из того, как устроен данный алгоритм, можно предположить, что после завершения его работы $Z = x^{2^{\\lambda(n)}}$. Проверка данного предположения для $ 1 \\leq n \\leq 999 $ приведена ниже: "
   ]
  },
  {
   "cell_type": "code",
   "execution_count": 17,
   "metadata": {},
   "outputs": [],
   "source": [
    "for n in range(1, 1000):\n",
    "    Z = x^2^compute_lambda(n) # предположение о значении Z после завершения работы алгоритма\n",
    "    if Z != binary_method_from_right_to_left(x, n, False)[1]:\n",
    "        print(\"Ошибка\")"
   ]
  },
  {
   "cell_type": "markdown",
   "metadata": {},
   "source": [
    "Справделиво утверждать, что $Z = x^{2^{\\lambda(n)}}$ для всех $n \\in \\mathbb{N}$."
   ]
  },
  {
   "cell_type": "markdown",
   "metadata": {},
   "source": [
    "#### Вывод.\n",
    "В ходе изучения бинарного метода возведения в степень справа налео было установлено, что данный алгоритм так же намного быстрее наивного алгоритма возведения в степень. Также было установлено равенство практической оценки количества операций и теоретической. Реализованы и протеcтированы соответствующие функции для данного метода. Также установлено, что в общем случае после завершения работы алгоритма значение $Z = x^{2^{\\lambda(n)}}$. "
   ]
  },
  {
   "cell_type": "markdown",
   "metadata": {},
   "source": [
    "### 3. Сравнение бинарного метода $SX$ и метода возведения в степень справа налево\n",
    "Исходя из теоретических сведений, количество операций умножения в бинарном методе $SX$ на 1 больше, чем в бинарном методе возведения в степень справа налево. Что касается количества итераций, бинарный метод $SX$ хуже бинарного метода возведения в степень справа налево, так как первый выигрывает лишь одну итерацию на числах $n = 2^i$, где $i \\in \\mathbb{N}$, и с ростом $n$ начинает сильно проигрывать второму методу при $n = 2^i - 1$. На остальных $n$ бинарный метод $SX$ в количестве итераций либо проигрывает бинарному методу возведения в степень справа налево, либо такой же. Так же стоит отметить то, что бинарный метод $SX$ дополнительно требует память для хранения строки из элементов $S$ и $X$ и итерации для её составления, поэтому бинарный метод $SX$ уступает в производительности методу возведения в степень справа налево. Сравнение двух методов для $1 \\leq n \\leq 35$ приведено ниже:"
   ]
  },
  {
   "cell_type": "code",
   "execution_count": 18,
   "metadata": {},
   "outputs": [
    {
     "name": "stdout",
     "output_type": "stream",
     "text": [
      "n = 1\n",
      "\tКоличество итераций для бинарного метода SX: 0\n",
      "\tКоличество итераций для бинарного метода справа налево: 1\n",
      "n = 2\n",
      "\tКоличество итераций для бинарного метода SX: 1\n",
      "\tКоличество итераций для бинарного метода справа налево: 2\n",
      "n = 3\n",
      "\tКоличество итераций для бинарного метода SX: 2\n",
      "\tКоличество итераций для бинарного метода справа налево: 2\n",
      "n = 4\n",
      "\tКоличество итераций для бинарного метода SX: 2\n",
      "\tКоличество итераций для бинарного метода справа налево: 3\n",
      "n = 5\n",
      "\tКоличество итераций для бинарного метода SX: 3\n",
      "\tКоличество итераций для бинарного метода справа налево: 3\n",
      "n = 6\n",
      "\tКоличество итераций для бинарного метода SX: 3\n",
      "\tКоличество итераций для бинарного метода справа налево: 3\n",
      "n = 7\n",
      "\tКоличество итераций для бинарного метода SX: 4\n",
      "\tКоличество итераций для бинарного метода справа налево: 3\n",
      "n = 8\n",
      "\tКоличество итераций для бинарного метода SX: 3\n",
      "\tКоличество итераций для бинарного метода справа налево: 4\n",
      "n = 9\n",
      "\tКоличество итераций для бинарного метода SX: 4\n",
      "\tКоличество итераций для бинарного метода справа налево: 4\n",
      "n = 10\n",
      "\tКоличество итераций для бинарного метода SX: 4\n",
      "\tКоличество итераций для бинарного метода справа налево: 4\n",
      "n = 11\n",
      "\tКоличество итераций для бинарного метода SX: 5\n",
      "\tКоличество итераций для бинарного метода справа налево: 4\n",
      "n = 12\n",
      "\tКоличество итераций для бинарного метода SX: 4\n",
      "\tКоличество итераций для бинарного метода справа налево: 4\n",
      "n = 13\n",
      "\tКоличество итераций для бинарного метода SX: 5\n",
      "\tКоличество итераций для бинарного метода справа налево: 4\n",
      "n = 14\n",
      "\tКоличество итераций для бинарного метода SX: 5\n",
      "\tКоличество итераций для бинарного метода справа налево: 4\n",
      "n = 15\n",
      "\tКоличество итераций для бинарного метода SX: 6\n",
      "\tКоличество итераций для бинарного метода справа налево: 4\n",
      "n = 16\n",
      "\tКоличество итераций для бинарного метода SX: 4\n",
      "\tКоличество итераций для бинарного метода справа налево: 5\n",
      "n = 17\n",
      "\tКоличество итераций для бинарного метода SX: 5\n",
      "\tКоличество итераций для бинарного метода справа налево: 5\n",
      "n = 18\n",
      "\tКоличество итераций для бинарного метода SX: 5\n",
      "\tКоличество итераций для бинарного метода справа налево: 5\n",
      "n = 19\n",
      "\tКоличество итераций для бинарного метода SX: 6\n",
      "\tКоличество итераций для бинарного метода справа налево: 5\n",
      "n = 20\n",
      "\tКоличество итераций для бинарного метода SX: 5\n",
      "\tКоличество итераций для бинарного метода справа налево: 5\n",
      "n = 21\n",
      "\tКоличество итераций для бинарного метода SX: 6\n",
      "\tКоличество итераций для бинарного метода справа налево: 5\n",
      "n = 22\n",
      "\tКоличество итераций для бинарного метода SX: 6\n",
      "\tКоличество итераций для бинарного метода справа налево: 5\n",
      "n = 23\n",
      "\tКоличество итераций для бинарного метода SX: 7\n",
      "\tКоличество итераций для бинарного метода справа налево: 5\n",
      "n = 24\n",
      "\tКоличество итераций для бинарного метода SX: 5\n",
      "\tКоличество итераций для бинарного метода справа налево: 5\n",
      "n = 25\n",
      "\tКоличество итераций для бинарного метода SX: 6\n",
      "\tКоличество итераций для бинарного метода справа налево: 5\n",
      "n = 26\n",
      "\tКоличество итераций для бинарного метода SX: 6\n",
      "\tКоличество итераций для бинарного метода справа налево: 5\n",
      "n = 27\n",
      "\tКоличество итераций для бинарного метода SX: 7\n",
      "\tКоличество итераций для бинарного метода справа налево: 5\n",
      "n = 28\n",
      "\tКоличество итераций для бинарного метода SX: 6\n",
      "\tКоличество итераций для бинарного метода справа налево: 5\n",
      "n = 29\n",
      "\tКоличество итераций для бинарного метода SX: 7\n",
      "\tКоличество итераций для бинарного метода справа налево: 5\n",
      "n = 30\n",
      "\tКоличество итераций для бинарного метода SX: 7\n",
      "\tКоличество итераций для бинарного метода справа налево: 5\n",
      "n = 31\n",
      "\tКоличество итераций для бинарного метода SX: 8\n",
      "\tКоличество итераций для бинарного метода справа налево: 5\n",
      "n = 32\n",
      "\tКоличество итераций для бинарного метода SX: 5\n",
      "\tКоличество итераций для бинарного метода справа налево: 6\n",
      "n = 33\n",
      "\tКоличество итераций для бинарного метода SX: 6\n",
      "\tКоличество итераций для бинарного метода справа налево: 6\n",
      "n = 34\n",
      "\tКоличество итераций для бинарного метода SX: 6\n",
      "\tКоличество итераций для бинарного метода справа налево: 6\n",
      "n = 35\n",
      "\tКоличество итераций для бинарного метода SX: 7\n",
      "\tКоличество итераций для бинарного метода справа налево: 6\n"
     ]
    }
   ],
   "source": [
    "for n in range(1, 36):\n",
    "    print(f\"n = {n}\")\n",
    "    SX_string = composing_string_from_SX(n)\n",
    "    print(f\"\\tКоличество итераций для бинарного метода SX: {binary_method_SX(SX_string, x, False)[1]}\")\n",
    "    print(f\"\\tКоличество итераций для бинарного метода справа налево: {binary_method_from_right_to_left(x, n, False)[3]}\")"
   ]
  },
  {
   "cell_type": "markdown",
   "metadata": {},
   "source": [
    "### 4. Исследование метода множителей\n",
    "Вычисление монома с помощью метода множителей для $n = \\{7, 99, 777, 33\\}$ приведено ниже."
   ]
  },
  {
   "cell_type": "markdown",
   "metadata": {},
   "source": [
    "Пусть $n = 7$:<br>\n",
    "$x^7 = x^6 * x$<br>\n",
    "$x^6 = (x^2)^3$<br>\n",
    "$(x^2)^3 = (x^2)^2 * x^2$<br>\n",
    "$(x^2)^2 = x^2 * x^2$<br>\n",
    "$x^2 = x * x$<br>\n",
    "$x^2-$ 1 операция<br>\n",
    "$(x^2)^2 -$ 2 операции<br>\n",
    "$(x^2)^3 -$ 3 операции<br>\n",
    "$x^7 -$ 4 операции<br>\n",
    "Итого: 4 операции."
   ]
  },
  {
   "cell_type": "markdown",
   "metadata": {},
   "source": [
    "Пусть $n = 99$:<br>\n",
    "$x^{99} = (x^3)^{11}$<br>\n",
    "$(x^3)^{11} = (x^3)^{10} * x^3$<br>\n",
    "$(x^3)^{10} = ((x^3)^2)^5$<br>\n",
    "$((x^3)^2)^5 = ((x^3)^2)^4 * (x^3)^2$<br>\n",
    "$((x^3)^2)^4 = (((x^3)^2)^2)^2$<br>\n",
    "$x^3 = x^2 * x$<br>\n",
    "$x^2 = x * x$<br>\n",
    "$x^2-$ 1 операция<br>\n",
    "$x^3 -$ 2 операции<br>\n",
    "$((x^3)^2) -$ 3 операции<br>\n",
    "$(((x^3)^2)^2) -$ 4 операции<br>\n",
    "$((((x^3)^2)^2)^2) -$ 5 операций<br>\n",
    "$((x^3)^2)^5 -$ 6 операций<br>\n",
    "$(x^3)^{11} -$ 7 операций<br>\n",
    "Итого: 7 операций."
   ]
  },
  {
   "cell_type": "markdown",
   "metadata": {},
   "source": [
    "Пусть $n = 777$:<br>\n",
    "$x^{777} = (x^3)^{111}$<br>\n",
    "$(x^3)^{111} = ((x^3)^3)^{37}$<br>\n",
    "$((x^3)^3)^{37} = ((x^3)^3)^{36} * (x^3)^3$<br>\n",
    "$((x^3)^3)^{36} = (((x^3)^3)^2)^{18}$<br>\n",
    "$((x^3)^3)^{18} = (((x^3)^3)^2)^{18}$<br>\n",
    "$(((x^3)^3)^2)^{18} = ((((x^3)^3)^2)^2)^9$<br>\n",
    "$((((x^3)^3)^2)^2)^9 = (((((x^3)^3)^2)^2)^3)^3$<br>\n",
    "$(((((x^3)^3)^2)^2)^3)^3 = (((((x^3)^3)^2)^2)^3)^2 * ((((x^3)^3)^2)^2)^3$<br>\n",
    "$(((((x^3)^3)^2)^2)^3)^2 = ((((x^3)^3)^2)^2)^3 * ((((x^3)^3)^2)^2)^3$<br>\n",
    "$((((x^3)^3)^2)^2)^3 = ((((x^3)^3)^2)^2)^2 * (((x^3)^3)^2)^2$<br>\n",
    "$((((x^3)^3)^2)^2)^2 = (((x^3)^3)^2)^2 * (((x^3)^3)^2)^2$<br>\n",
    "$(((x^3)^3)^2)^2 = ((x^3)^3)^2 * ((x^3)^3)^2$<br>\n",
    "$((x^3)^3)^2 = (x^3)^3 * (x^3)^3$<br>\n",
    "$(x^3)^3 = (x^3)^2 * x^3$<br>\n",
    "$(x^3)^2 = x^3 * x^3$<br>\n",
    "$x^3 = x^2 * x$<br>\n",
    "$x^2 = x * x$<br>\n",
    "$x^2-$ 1 операция<br>\n",
    "$x^3-$ 2 операции<br>\n",
    "$(x^3)^2-$ 3 операции<br>\n",
    "$(x^3)^3-$ 4 операции<br>\n",
    "$((x^3)^3)^2-$ 5 операций<br>\n",
    "$(((x^3)^3)^2)^2-$ 6 операций<br>\n",
    "$((((x^3)^3)^2)^2)^2-$ 7 операций<br>\n",
    "$((((x^3)^3)^2)^2)^3-$ 8 операций<br>\n",
    "$(((((x^3)^3)^2)^2)^3)^2-$ 9 операций<br>\n",
    "$(((((x^3)^3)^2)^2)^3)^3-$ 10 операций<br>\n",
    "$((x^3)^3)^{37}-$ 11 операций<br>\n",
    "Итого: 11 операций."
   ]
  },
  {
   "cell_type": "markdown",
   "metadata": {},
   "source": [
    "Пусть $n = 33$:<br>\n",
    "$x^{33} = (x^3)^{11}$<br>\n",
    "$(x^3)^{11} = (x^3)^{10} * x^3$<br>\n",
    "$(x^3)^{10} = ((x^3)^2)^5$<br>\n",
    "$((x^3)^2)^5 = ((x^3)^2)^4 * (x^3)^2$<br>\n",
    "$((x^3)^2)^4 = (((x^3)^2)^2)^2$<br>\n",
    "$x^3-$ 2 операции<br>\n",
    "$(x^3)^2-$ 3 операции<br>\n",
    "$((x^3)^2)^2-$ 4 операции<br>\n",
    "$(((x^3)^2)^2)^2-$ 5 операций<br>\n",
    "$((x^3)^2)^5-$ 6 операций<br>\n",
    "$(x^3)^{11}-$ 7 операций<br>\n",
    "Итого: 7 операций."
   ]
  },
  {
   "cell_type": "markdown",
   "metadata": {},
   "source": [
    "Количество операций в бинарном методе $SX$ при $n = 33$:"
   ]
  },
  {
   "cell_type": "code",
   "execution_count": 19,
   "metadata": {},
   "outputs": [
    {
     "name": "stdout",
     "output_type": "stream",
     "text": [
      "Количество операций в бинаром методе SX для n = 33: 6\n"
     ]
    }
   ],
   "source": [
    "print(f\"Количество операций в бинаром методе SX для n = {33}: {compute_lambda(33) + compute_nu(33) - 1}\")"
   ]
  },
  {
   "cell_type": "markdown",
   "metadata": {},
   "source": [
    "Можно сделать вывод, что количество операций в бинаром методе $SX$ на 1 меньше, чем в методе множителей при $n = 33$."
   ]
  },
  {
   "cell_type": "markdown",
   "metadata": {},
   "source": [
    "#### Вывод.\n",
    "В большинстве случаев метод множителей делает меньшее количество операций, чем бинарный метод $SX$, но первый метод сложнее в реализации."
   ]
  },
  {
   "cell_type": "markdown",
   "metadata": {},
   "source": [
    "### 5. Алгоритм ''дерева степеней\"\n",
    "Реализация данного метода представлена ниже:"
   ]
  },
  {
   "cell_type": "code",
   "execution_count": 20,
   "metadata": {},
   "outputs": [],
   "source": [
    "import copy\n",
    "# Входные данные: степень, в которую нужно возвести n и количество уровней, которое нужно построить\n",
    "# Выходные данные: путь степеней, который нужно пройти, чтобы получить степень n и дерево\n",
    "def make_degree_tree(n, k):\n",
    "    tree = Graph()\n",
    "    count_levels = -1\n",
    "    paths_for_nodes = {1: [1]} # путь степеней, который нужно пройти, чтобы получить данную степень\n",
    "    current_node = 1 # старт-узел\n",
    "    nodes_queue = [1] # очередь узлов, которые нужно рассмотреть\n",
    "    while count_levels < k - 1:\n",
    "        current_node = nodes_queue.pop(0)\n",
    "        if float(math.log2(current_node)).is_integer():\n",
    "            count_levels = int(math.log2(current_node))\n",
    "        path_for_current_node = paths_for_nodes[current_node]\n",
    "        for node in path_for_current_node:\n",
    "            if node + current_node not in paths_for_nodes.keys():\n",
    "                nodes_queue.append(node + current_node) # добавление ребёнка в очередь\n",
    "                path_for_new_node = copy.deepcopy(paths_for_nodes[current_node])\n",
    "                path_for_new_node.append(node + current_node) # путь степеней, которые нужно пройти, чтобы дойти до данного ребёнка\n",
    "                paths_for_nodes[node + current_node] = path_for_new_node\n",
    "                tree.add_edge(current_node, current_node + node)\n",
    "    tree_plot = tree.plot(layout='tree', tree_root=1, vertex_color = 'white', vertex_colors={'#bf616a': paths_for_nodes[n]})\n",
    "    return paths_for_nodes[n], tree_plot\n",
    "\n",
    "# Входные данные: дерево\n",
    "def show_degree_tree(tree_plot):\n",
    "    tree_plot.show()"
   ]
  },
  {
   "cell_type": "markdown",
   "metadata": {},
   "source": [
    "Пусть $n = 40, k = 6$"
   ]
  },
  {
   "cell_type": "code",
   "execution_count": 21,
   "metadata": {},
   "outputs": [
    {
     "data": {
      "image/png": "[encoded data removed]",
      "text/plain": [
       "Graphics object consisting of 72 graphics primitives"
      ]
     },
     "metadata": {},
     "output_type": "display_data"
    }
   ],
   "source": [
    "tree_plot = make_degree_tree(40, 6)[1]\n",
    "show_degree_tree(tree_plot)"
   ]
  },
  {
   "cell_type": "markdown",
   "metadata": {},
   "source": [
    "Пусть $n = 14, k = 6$"
   ]
  },
  {
   "cell_type": "code",
   "execution_count": 22,
   "metadata": {},
   "outputs": [
    {
     "data": {
      "image/png": "[encoded data removed]",
      "text/plain": [
       "Graphics object consisting of 72 graphics primitives"
      ]
     },
     "metadata": {},
     "output_type": "display_data"
    }
   ],
   "source": [
    "tree = make_degree_tree(14, 6)[1]\n",
    "show_degree_tree(tree)"
   ]
  },
  {
   "cell_type": "markdown",
   "metadata": {},
   "source": [
    "Пусть $n = 66, k = 7$"
   ]
  },
  {
   "cell_type": "code",
   "execution_count": 23,
   "metadata": {},
   "outputs": [
    {
     "data": {
      "image/png": "[encoded data removed]",
      "text/plain": [
       "Graphics object consisting of 124 graphics primitives"
      ]
     },
     "metadata": {},
     "output_type": "display_data"
    }
   ],
   "source": [
    "tree = make_degree_tree(66, 7)[1]\n",
    "show_degree_tree(tree)"
   ]
  },
  {
   "cell_type": "markdown",
   "metadata": {},
   "source": [
    "Следующая задача заключается в том, чтобы сравнить бинарный метод $SX$ и алгоритм \"дерева степеней\" для $1 \\leq n \\leq 35$. Реализация сравнения представлена ниже:"
   ]
  },
  {
   "cell_type": "code",
   "execution_count": 24,
   "metadata": {},
   "outputs": [
    {
     "name": "stdout",
     "output_type": "stream",
     "text": [
      "n = 1\n",
      "\tКоличество операций для бинарного метода SX: 0\n",
      "\tКоличество операций для 'дерева степеней': 0\n",
      "n = 2\n",
      "\tКоличество операций для бинарного метода SX: 1\n",
      "\tКоличество операций для 'дерева степеней': 1\n",
      "n = 3\n",
      "\tКоличество операций для бинарного метода SX: 2\n",
      "\tКоличество операций для 'дерева степеней': 2\n",
      "n = 4\n",
      "\tКоличество операций для бинарного метода SX: 2\n",
      "\tКоличество операций для 'дерева степеней': 2\n",
      "n = 5\n",
      "\tКоличество операций для бинарного метода SX: 3\n",
      "\tКоличество операций для 'дерева степеней': 3\n",
      "n = 6\n",
      "\tКоличество операций для бинарного метода SX: 3\n",
      "\tКоличество операций для 'дерева степеней': 3\n",
      "n = 7\n",
      "\tКоличество операций для бинарного метода SX: 4\n",
      "\tКоличество операций для 'дерева степеней': 4\n",
      "n = 8\n",
      "\tКоличество операций для бинарного метода SX: 3\n",
      "\tКоличество операций для 'дерева степеней': 3\n",
      "n = 9\n",
      "\tКоличество операций для бинарного метода SX: 4\n",
      "\tКоличество операций для 'дерева степеней': 4\n",
      "n = 10\n",
      "\tКоличество операций для бинарного метода SX: 4\n",
      "\tКоличество операций для 'дерева степеней': 4\n",
      "n = 11\n",
      "\tКоличество операций для бинарного метода SX: 5\n",
      "\tКоличество операций для 'дерева степеней': 5\n",
      "n = 12\n",
      "\tКоличество операций для бинарного метода SX: 4\n",
      "\tКоличество операций для 'дерева степеней': 4\n",
      "n = 13\n",
      "\tКоличество операций для бинарного метода SX: 5\n",
      "\tКоличество операций для 'дерева степеней': 5\n",
      "n = 14\n",
      "\tКоличество операций для бинарного метода SX: 5\n",
      "\tКоличество операций для 'дерева степеней': 5\n",
      "n = 15\n",
      "\tКоличество операций для бинарного метода SX: 6\n",
      "\tКоличество операций для 'дерева степеней': 5\n",
      "n = 16\n",
      "\tКоличество операций для бинарного метода SX: 4\n",
      "\tКоличество операций для 'дерева степеней': 4\n",
      "n = 17\n",
      "\tКоличество операций для бинарного метода SX: 5\n",
      "\tКоличество операций для 'дерева степеней': 5\n",
      "n = 18\n",
      "\tКоличество операций для бинарного метода SX: 5\n",
      "\tКоличество операций для 'дерева степеней': 5\n",
      "n = 19\n",
      "\tКоличество операций для бинарного метода SX: 6\n",
      "\tКоличество операций для 'дерева степеней': 6\n",
      "n = 20\n",
      "\tКоличество операций для бинарного метода SX: 5\n",
      "\tКоличество операций для 'дерева степеней': 5\n",
      "n = 21\n",
      "\tКоличество операций для бинарного метода SX: 6\n",
      "\tКоличество операций для 'дерева степеней': 6\n",
      "n = 22\n",
      "\tКоличество операций для бинарного метода SX: 6\n",
      "\tКоличество операций для 'дерева степеней': 6\n",
      "n = 23\n",
      "\tКоличество операций для бинарного метода SX: 7\n",
      "\tКоличество операций для 'дерева степеней': 6\n",
      "n = 24\n",
      "\tКоличество операций для бинарного метода SX: 5\n",
      "\tКоличество операций для 'дерева степеней': 5\n",
      "n = 25\n",
      "\tКоличество операций для бинарного метода SX: 6\n",
      "\tКоличество операций для 'дерева степеней': 6\n",
      "n = 26\n",
      "\tКоличество операций для бинарного метода SX: 6\n",
      "\tКоличество операций для 'дерева степеней': 6\n",
      "n = 27\n",
      "\tКоличество операций для бинарного метода SX: 7\n",
      "\tКоличество операций для 'дерева степеней': 6\n",
      "n = 28\n",
      "\tКоличество операций для бинарного метода SX: 6\n",
      "\tКоличество операций для 'дерева степеней': 6\n",
      "n = 29\n",
      "\tКоличество операций для бинарного метода SX: 7\n",
      "\tКоличество операций для 'дерева степеней': 7\n",
      "n = 30\n",
      "\tКоличество операций для бинарного метода SX: 7\n",
      "\tКоличество операций для 'дерева степеней': 6\n",
      "n = 31\n",
      "\tКоличество операций для бинарного метода SX: 8\n",
      "\tКоличество операций для 'дерева степеней': 7\n",
      "n = 32\n",
      "\tКоличество операций для бинарного метода SX: 5\n",
      "\tКоличество операций для 'дерева степеней': 5\n",
      "n = 33\n",
      "\tКоличество операций для бинарного метода SX: 6\n",
      "\tКоличество операций для 'дерева степеней': 6\n",
      "n = 34\n",
      "\tКоличество операций для бинарного метода SX: 6\n",
      "\tКоличество операций для 'дерева степеней': 6\n",
      "n = 35\n",
      "\tКоличество операций для бинарного метода SX: 7\n",
      "\tКоличество операций для 'дерева степеней': 7\n"
     ]
    }
   ],
   "source": [
    "for n in range(1, 36):\n",
    "    print(f\"n = {n}\")\n",
    "    SX_string = composing_string_from_SX(n)\n",
    "    print(f\"\\tКоличество операций для бинарного метода SX: {binary_method_SX(SX_string, x, False)[1]}\")\n",
    "    print(f\"\\tКоличество операций для 'дерева степеней': {len(make_degree_tree(n, 9)[0]) - 1}\")"
   ]
  },
  {
   "cell_type": "markdown",
   "metadata": {},
   "source": [
    "#### Вывод.\n",
    "Бинарный метод $SX$ на некоторых значениях уступает алгоритму \"дерева степеней\" 1 операцию, но второй метод проигрывает по памяти и является более времязатратным. Так как бинарный метод $SX$ сравним по количеству операций с методом множителей и лучше бинарного метода возведения в степень справа налево, следовательно, самый дешёвым по количеству операций является алгоритм \"дерева степеней\" при условии, что дерево уже построено. "
   ]
  },
  {
   "cell_type": "markdown",
   "metadata": {},
   "source": [
    "## Выводы\n",
    "В данной работе был изучен алгоритмический подход вычисления одночленов за минимальное количество операций, отточены навыки владения системой компьютерной алгебры SageMath и написания программ на языке Python.<br>\n",
    "<br>\n",
    "Были рассмотрены следующие алгоритмы: бинарный метод $SX$, бинарный метод возведения в степень справа налево, метод множителей и алгоритм \"дерева степеней\". Для каждого алгоритма было оценено количество операций, для первух двух, соответственно, количество итераций и для всех, кроме метода множителей, затраты по памяти. У каждого алгоритма, расмотренного в данной работе, есть как сильные стороны, так и слабые. Каждый метод протестирован. Для бинарного метода $SX$ и метода возведения в степень справа налево произведено сравнение теоретической и практической оценки количества операций."
   ]
  }
 ],
 "metadata": {
  "kernelspec": {
   "display_name": "SageMath 9.3",
   "language": "sage",
   "name": "sagemath"
  },
  "language_info": {
   "codemirror_mode": {
    "name": "ipython",
    "version": 3
   },
   "file_extension": ".py",
   "mimetype": "text/x-python",
   "name": "python",
   "nbconvert_exporter": "python",
   "pygments_lexer": "ipython3",
   "version": "3.7.10"
  }
 },
 "nbformat": 4,
 "nbformat_minor": 4
}
