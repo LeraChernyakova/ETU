{
 "cells": [
  {
   "cell_type": "markdown",
   "metadata": {},
   "source": [
    "# Практическая работа №2: Исследование алгоритмов формирования аддитивных цепочек\n",
    "\n",
    "Выполнил студент гр. 1304 Стародубов Максим. Вариант №24."
   ]
  },
  {
   "cell_type": "markdown",
   "metadata": {},
   "source": [
    "## Цель работы\n",
    "\n",
    "Формирование представления о аддитивных цепочках, выработать умение составлять и применять алгоритмы для нахождения минимальных аддитивных цепочек для заданного числа, привить навык использования систем компьютерной математики для реализации алгоритмов."
   ]
  },
  {
   "cell_type": "markdown",
   "metadata": {},
   "source": [
    "## Основные теоретические положения\n",
    "\n",
    "### Алгоритм Брауэра\n",
    "\n",
    "В общем виде алгоритм можно представить следующим образом:<br>\n",
    "$\n",
    "\\begin{equation*}\n",
    "B_k(n) = \n",
    " \\begin{cases}\n",
    "   1, 2, 3, ..., 2^k-1 &\\text{, если $n < 2^k$}\\\\\n",
    "   B_k(q), 2q, 4q, 8q, ..., 2^kq, n &\\text{, если $n \\geq 2^k, q = \\lfloor {{n} \\over {2^k}} \\rfloor$}\n",
    " \\end{cases}\n",
    "\\end{equation*}\n",
    "$\n",
    "\n",
    "Вычисления происходят следующим образом:<br>\n",
    "$d = 2^k$<br>\n",
    "$q_1 = \\lfloor {n \\over d} \\rfloor$<br>\n",
    "$r_1 = n \\text{ mod } d \\Rightarrow n = q_1d + r_1$\n",
    "\n",
    "$q_2 = \\lfloor {q_1 \\over d} \\rfloor$<br>\n",
    "$r_2 = q_1 \\text{ mod } d \\Rightarrow q_1 = q_2d + r_2$\n",
    "\n",
    "...\n",
    "\n",
    "$q_s = \\lfloor {q_{s-1} \\over d} \\rfloor$<br>\n",
    "$r_s = q_{s-1} \\text{ mod } d \\Rightarrow q_s = q_{s-1}d + r_s$\n",
    "\n",
    "Данные вычисления оканчиваются как только $q_s < d$.\n",
    "\n",
    "Используя найденные $q_i$ можно построить разложение:<br>\n",
    "$n = 2^kq_1+r_1=2^k(2^kq_2+r_2)+r_1 = ... = 2^k(2^k(...(2^kq_s+r_s)...)+r_2)+r_1$\n",
    "\n",
    "### Алгоритм Яо\n",
    "\n",
    "Введем следующие обозначения:<br>\n",
    "$k \\geq 2$<br>\n",
    "$n = \\sum_{i=0}^ia_i2^{ik}$\n",
    "\n",
    "$d(z) = \\sum_{i: a_i = z}2^{ik}$\n",
    "\n",
    "Построение базовой последовательности:<br>\n",
    "$1, 2, 4, 8, ..., 2^{\\lambda(n)}$\n",
    "\n",
    "Для всех $z \\in \\{1, 2, ...,2^k-1\\}$ происходит вычисление $d(z)$.\n",
    "\n",
    "Для всех $z \\in \\{1, 2, ...,2^k-1\\}$ происходит вычисление $zd(z)$\n",
    "\n",
    "Получено разложение $n$:<br>\n",
    "$n = \\sum_{z=1}^{2^k-1}zd(z)$\n",
    "\n",
    "### Алгоритм дробления вектора индексов\n",
    "\n",
    "* 1. Внешний цикл производит перебор возможных $m$ - длин векторов индексов. Поисходит выбор числа $q \\in N, 0 \\leq q \\leq m$.\n",
    "\n",
    "* 2. Внутренний цикл производит перебор всех фиксированных чистей векторов индексов $\\{r_1, ...,r_q\\}$. Для каждой фиксированной части происходит вычисление $a_{min} = a_{q+1} + m - q$ и $a_{max} = a^{q+1} \\cdot 2^{m-q}$.\n",
    "    \n",
    "    * 2.1. Если $n \\notin [a_{min}, a_{max}]$, то происходит переход к следующей фиксированной части $\\{r_1, ...,r_q\\}$.\n",
    "    \n",
    "    * 2.2. Если $n \\in [a_{min}, a_{max}]$, то организуется внутренний цикл перебора меняющейся части $\\{\\rho_{q+1}, ..., \\rho_{m}\\}$.\n",
    "        \n",
    "        * 2.2.1 Если обнаруживается $a_m = n$ - решение найдено.\n",
    "    \n",
    "        * 2.2.2 Если в цикле таких векторов не оказалось, то происходит переход к следующей фиксированной части.\n",
    "\n",
    "* 3. Увеличиваем длину цепочки.\n",
    "\n",
    "### Гипотеза Шольца-Брауэра\n",
    "\n",
    "$ l(2^n - 1) \\leq l(n) + n - 1 $\n",
    "\n",
    "Данная гипотеза доказана для $ l^*(2^n - 1) \\leq l^*(n) + n - 1 $."
   ]
  },
  {
   "cell_type": "markdown",
   "metadata": {},
   "source": [
    "## Постановка задачи\n",
    "\n",
    "Реализовать точные и приближённые алгоритмы нахождения минимальных аддитивных цепочек с использованием системы компьютерной математики SageMath, провести анализ алгоритмов. Полученные результаты содержательно проинтерпретировать."
   ]
  },
  {
   "cell_type": "markdown",
   "metadata": {},
   "source": [
    "## Выполнение работы\n",
    "\n",
    "### 1. Алгоритм Яо.\n",
    "В блоке кода, расположенном ниже, реализован алгорим Яо."
   ]
  },
  {
   "cell_type": "code",
   "execution_count": 1,
   "metadata": {},
   "outputs": [],
   "source": [
    "'''\n",
    "    this function calculates an approximate additive chain using the Yao algorithm\n",
    "'''\n",
    "def yao_algorithm(n, k):\n",
    "    lambda_n = len(n.binary()) - 1\n",
    "    \n",
    "    # building a base chain\n",
    "    chain = [1]\n",
    "    for _ in range(lambda_n):\n",
    "        chain.append(chain[-1] + chain[-1])\n",
    "\n",
    "    # calculation of d(z) for all z != 0\n",
    "    d = {}\n",
    "    for i, a in enumerate(n.digits(2**k)):\n",
    "        if a == 0:\n",
    "            continue\n",
    "        \n",
    "        if a not in d:\n",
    "            d[a] = chain[i * k]\n",
    "            continue\n",
    "\n",
    "        d[a] += chain[i * k]\n",
    "        chain.append(d[a])\n",
    "    \n",
    "    # calculating z*d(z) using the SX binary method\n",
    "    for a in d:\n",
    "        x = d[a]            \n",
    "        operations = a.binary()[1:]\n",
    "        operations = operations.replace('1', 'SX').replace('0', 'S')\n",
    "        for item in operations:\n",
    "            if item == 'S':\n",
    "                x += x\n",
    "            else:\n",
    "                x += d[a]\n",
    "            \n",
    "            # already calculated values are not added to the chain\n",
    "            if x in chain:\n",
    "                continue\n",
    "            chain.append(x)\n",
    "        d[a] = x\n",
    "    \n",
    "    item = d.popitem()\n",
    "    \n",
    "    # calculating the sum of all z*d(z)\n",
    "    s = item[1]\n",
    "    for a in d:\n",
    "        s += d[a]\n",
    "        chain.append(s)\n",
    "    \n",
    "    return chain"
   ]
  },
  {
   "cell_type": "markdown",
   "metadata": {},
   "source": [
    "В блоках кода, расположенных ниже, произведены вычисления аддитивных цепочек для нескольких чисел с вариацией параметра $k$."
   ]
  },
  {
   "cell_type": "code",
   "execution_count": 2,
   "metadata": {},
   "outputs": [],
   "source": [
    "def print_chain_info(n, k):\n",
    "    chain = yao_algorithm(n, k)\n",
    "    print('n = {}, k = {}, chain length = {}\\nchain = {}'.format(n, k, len(chain), chain))"
   ]
  },
  {
   "cell_type": "code",
   "execution_count": 3,
   "metadata": {},
   "outputs": [
    {
     "name": "stdout",
     "output_type": "stream",
     "text": [
      "n = 34, k = 2, chain length = 8\n",
      "chain = [1, 2, 4, 8, 16, 32, 17, 34]\n"
     ]
    }
   ],
   "source": [
    "print_chain_info(34, 2)"
   ]
  },
  {
   "cell_type": "code",
   "execution_count": 4,
   "metadata": {},
   "outputs": [
    {
     "name": "stdout",
     "output_type": "stream",
     "text": [
      "n = 34, k = 3, chain length = 7\n",
      "chain = [1, 2, 4, 8, 16, 32, 34]\n"
     ]
    }
   ],
   "source": [
    "print_chain_info(34, 3)"
   ]
  },
  {
   "cell_type": "code",
   "execution_count": 5,
   "metadata": {},
   "outputs": [
    {
     "name": "stdout",
     "output_type": "stream",
     "text": [
      "n = 180, k = 2, chain length = 11\n",
      "chain = [1, 2, 4, 8, 16, 32, 64, 128, 48, 132, 180]\n"
     ]
    }
   ],
   "source": [
    "print_chain_info(180, 2)"
   ]
  },
  {
   "cell_type": "code",
   "execution_count": 6,
   "metadata": {},
   "outputs": [
    {
     "name": "stdout",
     "output_type": "stream",
     "text": [
      "n = 180, k = 3, chain length = 12\n",
      "chain = [1, 2, 4, 8, 16, 32, 64, 128, 24, 48, 132, 180]\n"
     ]
    }
   ],
   "source": [
    "print_chain_info(180, 3)"
   ]
  },
  {
   "cell_type": "code",
   "execution_count": 7,
   "metadata": {},
   "outputs": [
    {
     "name": "stdout",
     "output_type": "stream",
     "text": [
      "n = 180, k = 4, chain length = 12\n",
      "chain = [1, 2, 4, 8, 16, 32, 64, 128, 80, 160, 176, 180]\n"
     ]
    }
   ],
   "source": [
    "print_chain_info(180, 4)"
   ]
  },
  {
   "cell_type": "code",
   "execution_count": 8,
   "metadata": {},
   "outputs": [
    {
     "name": "stdout",
     "output_type": "stream",
     "text": [
      "n = 180, k = 5, chain length = 13\n",
      "chain = [1, 2, 4, 8, 16, 32, 64, 128, 5, 10, 20, 160, 180]\n"
     ]
    }
   ],
   "source": [
    "print_chain_info(180, 5)"
   ]
  },
  {
   "cell_type": "code",
   "execution_count": 9,
   "metadata": {},
   "outputs": [
    {
     "name": "stdout",
     "output_type": "stream",
     "text": [
      "n = 180, k = 6, chain length = 15\n",
      "chain = [1, 2, 4, 8, 16, 32, 64, 128, 3, 6, 12, 13, 26, 52, 180]\n"
     ]
    }
   ],
   "source": [
    "print_chain_info(180, 6)"
   ]
  },
  {
   "cell_type": "code",
   "execution_count": 10,
   "metadata": {},
   "outputs": [
    {
     "name": "stdout",
     "output_type": "stream",
     "text": [
      "n = 180, k = 7, chain length = 15\n",
      "chain = [1, 2, 4, 8, 16, 32, 64, 128, 3, 6, 12, 13, 26, 52, 180]\n"
     ]
    }
   ],
   "source": [
    "print_chain_info(180, 7)"
   ]
  },
  {
   "cell_type": "code",
   "execution_count": 11,
   "metadata": {},
   "outputs": [
    {
     "name": "stdout",
     "output_type": "stream",
     "text": [
      "n = 180, k = 8, chain length = 16\n",
      "chain = [1, 2, 4, 8, 16, 32, 64, 128, 5, 10, 11, 22, 44, 45, 90, 180]\n"
     ]
    }
   ],
   "source": [
    "print_chain_info(180, 8)"
   ]
  },
  {
   "cell_type": "code",
   "execution_count": 12,
   "metadata": {},
   "outputs": [
    {
     "name": "stdout",
     "output_type": "stream",
     "text": [
      "n = 1088, k = 3, chain length = 12\n",
      "chain = [1, 2, 4, 8, 16, 32, 64, 128, 256, 512, 1024, 1088]\n"
     ]
    }
   ],
   "source": [
    "print_chain_info(1088, 3)"
   ]
  },
  {
   "cell_type": "code",
   "execution_count": 13,
   "metadata": {},
   "outputs": [
    {
     "name": "stdout",
     "output_type": "stream",
     "text": [
      "n = 1088, k = 4, chain length = 14\n",
      "chain = [1, 2, 4, 8, 16, 32, 64, 128, 256, 512, 1024, 272, 544, 1088]\n"
     ]
    }
   ],
   "source": [
    "print_chain_info(1088, 4)"
   ]
  },
  {
   "cell_type": "code",
   "execution_count": 14,
   "metadata": {},
   "outputs": [
    {
     "name": "stdout",
     "output_type": "stream",
     "text": [
      "n = 1088, k = 5, chain length = 12\n",
      "chain = [1, 2, 4, 8, 16, 32, 64, 128, 256, 512, 1024, 1088]\n"
     ]
    }
   ],
   "source": [
    "print_chain_info(1088, 5)"
   ]
  },
  {
   "cell_type": "markdown",
   "metadata": {},
   "source": [
    "Полученные результаты сведены в таблицу, расположенную ниже.\n",
    "\n",
    "\n",
    "| n | k | Аддитивная цепочка, полученная с помощью алгоритма Яо | Длина полученной<br>аддитивной цепочки | Длина минимальной<br>аддитивной цепочки |\n",
    "|---|---|:--|---|---|\n",
    "| 34 | 2 | \\[1, 2, 4, 8, 16, 32, 17, 34\\] | 8 | 7 |\n",
    "| 34 | 3 | \\[1, 2, 4, 8, 16, 32, 34\\] | 7 | 7 |\n",
    "| 180 | 2 | \\[1, 2, 4, 8, 16, 32, 64, 128, 48, 132, 180\\] | 11 | 10 |\n",
    "| 180 | 3 | \\[1, 2, 4, 8, 16, 32, 64, 128, 24, 48, 132, 180\\] | 12 | 10 |\n",
    "| 180 | 4 | \\[1, 2, 4, 8, 16, 32, 64, 128, 80, 160, 176, 180\\] | 12 | 10 |\n",
    "| 180 | 5 | \\[1, 2, 4, 8, 16, 32, 64, 128, 5, 10, 20, 160, 180\\] | 13 | 10 |\n",
    "| 180 | 6 | \\[1, 2, 4, 8, 16, 32, 64, 128, 3, 6, 12, 13, 26, 52, 180\\] | 15 | 10 |\n",
    "| 180 | 7 | \\[1, 2, 4, 8, 16, 32, 64, 128, 3, 6, 12, 13, 26, 52, 180\\] | 15 | 10 |\n",
    "| 180 | 8 | \\[1, 2, 4, 8, 16, 32, 64, 128, 5, 10, 11, 22, 44, 45, 90, 180\\] | 16 | 10 |\n",
    "| 1088 | 3 | \\[1, 2, 4, 8, 16, 32, 64, 128, 256, 512, 1024, 1088\\] | 12 | 12 |\n",
    "| 1088 | 4 | \\[1, 2, 4, 8, 16, 32, 64, 128, 256, 512, 1024, 272, 544, 1088\\] | 14 | 12 |\n",
    "| 1088 | 5 | \\[1, 2, 4, 8, 16, 32, 64, 128, 256, 512, 1024, 1088\\] | 12 | 12 |\n",
    "\n",
    "\n",
    "Исходя из полученных результатов можно сделать вывод, что длина аддитивной цепочки, получаемой с помощью алгоритма Яо, зависит от переданного параметра $k$. В зависимости от параметра, длина аддитивной цепочки может как увеличиваться, так и уменьшаться. Алгоритм Яо не всегда дает оптимальное решение, причем существуют $n$, такие ,что алгоритм Яо не дает оптимального решения ни при каком заданном значении параметра $k$."
   ]
  },
  {
   "cell_type": "markdown",
   "metadata": {},
   "source": [
    "### 2. Алгоритм дробление вектора индексов.\n",
    "\n",
    "В блоке кода, расположенном ниже, реализован алгоритм дробления вектора индексов."
   ]
  },
  {
   "cell_type": "code",
   "execution_count": 15,
   "metadata": {},
   "outputs": [],
   "source": [
    "'''\n",
    "    this class produces sequential generation of index vectors of star chains\n",
    "'''\n",
    "class IndexVectorIterator:\n",
    "    def __init__(self, length, start_degree=0):\n",
    "        self._start_degree = start_degree\n",
    "        self._current_vector = [start_degree + x for x in range(length)]\n",
    "        self._is_start = True\n",
    "\n",
    "    def __iter__(self):\n",
    "        return self\n",
    "    \n",
    "    def __next__(self):\n",
    "        if self._is_start:\n",
    "            self._is_start = False\n",
    "            return self._current_vector\n",
    "        \n",
    "        if all(x == 0 for x in self._current_vector):\n",
    "            raise StopIteration\n",
    "        \n",
    "        for i in range(len(self._current_vector)-1, -1, -1):\n",
    "            if self._current_vector[i] == 0:\n",
    "                self._current_vector[i] = self._start_degree + i\n",
    "                continue\n",
    "            self._current_vector[i] -= 1\n",
    "            break\n",
    "        \n",
    "        return self._current_vector\n",
    "\n",
    "'''\n",
    "    this function builds addition chain according to its index vector\n",
    "'''\n",
    "def get_responding_chain(index_vector, start=[1]):\n",
    "    chain = copy(start)\n",
    "    \n",
    "    for i in index_vector:\n",
    "        chain.append(chain[-1] + chain[i])\n",
    "    \n",
    "    return chain\n",
    "\n",
    "'''\n",
    "    this function finds the size of the changing part of the index vector \n",
    "    so that the number of permutations in it will be no more than 1000\n",
    "'''\n",
    "def get_variable_part_length(vector_length):\n",
    "    variable_part_length = 0\n",
    "    overshoot_rate = 1\n",
    "    \n",
    "    while overshoot_rate < 1000 and vector_length > 0:\n",
    "        overshoot_rate *= vector_length\n",
    "        vector_length -= 1\n",
    "        variable_part_length += 1\n",
    "    \n",
    "    return variable_part_length\n",
    "\n",
    "'''\n",
    "    this function implements the index vector splitting algorithm\n",
    "'''\n",
    "def index_vector_splitting(n):\n",
    "    if n == 1:\n",
    "        return [1]\n",
    "    \n",
    "    if n == 2:\n",
    "        return [1, 2]\n",
    "    \n",
    "    vector_length = len(bin(n)) - 3\n",
    "\n",
    "    # external loop on lengths of vectors\n",
    "    while True:\n",
    "        \n",
    "        # choice of lengths of constant and variable parts for a certain vector length\n",
    "        constant_part_length = vector_length - get_variable_part_length(vector_length)\n",
    "        # enumeration of all constant parts\n",
    "        for constant_part in IndexVectorIterator(constant_part_length):\n",
    "            \n",
    "            constant_chain = get_responding_chain(constant_part)\n",
    "            \n",
    "            # the limits of the values that can be obtained by variation of the variable part\n",
    "            a_min = constant_chain[-1] + vector_length - len(constant_part)\n",
    "            a_max = constant_chain[-1] * 2^(vector_length - len(constant_part))\n",
    "            \n",
    "            # skipping enumeration of variable parts, if at a given constant part \n",
    "            # it is impossible to get the target value\n",
    "            if not (a_min <= n <= a_max):\n",
    "                continue\n",
    "            \n",
    "            # enumeration of all variable parts\n",
    "            for variable_part in IndexVectorIterator(vector_length - len(constant_part), len(constant_part)):\n",
    "                responding_chain = get_responding_chain(variable_part, constant_chain)\n",
    "                if responding_chain[-1] == n:\n",
    "                    return responding_chain\n",
    "        \n",
    "        vector_length += 1"
   ]
  },
  {
   "cell_type": "markdown",
   "metadata": {},
   "source": [
    "В блоках, кода, расположенных ниже, приведены вычисления аддитивных цепочек для 5 значений $n > 1000$ с помощью алгоритма дробления вектора индексов."
   ]
  },
  {
   "cell_type": "code",
   "execution_count": 16,
   "metadata": {},
   "outputs": [],
   "source": [
    "from time import time\n",
    "def print_index_vector_splitting_info(n):\n",
    "    start_time = time()\n",
    "    chain = index_vector_splitting(n)\n",
    "    print('n = {}, chain length = {}, time = {}\\nchain = {}'.format(n, len(chain), time() - start_time, chain))"
   ]
  },
  {
   "cell_type": "code",
   "execution_count": 17,
   "metadata": {},
   "outputs": [
    {
     "name": "stdout",
     "output_type": "stream",
     "text": [
      "n = 1088, chain length = 12, time = 0.004200458526611328\n",
      "chain = [1, 2, 4, 8, 16, 32, 64, 128, 256, 512, 1024, 1088]\n"
     ]
    }
   ],
   "source": [
    "print_index_vector_splitting_info(1088)"
   ]
  },
  {
   "cell_type": "code",
   "execution_count": 18,
   "metadata": {},
   "outputs": [
    {
     "name": "stdout",
     "output_type": "stream",
     "text": [
      "n = 1280, chain length = 12, time = 0.003822803497314453\n",
      "chain = [1, 2, 4, 8, 16, 32, 64, 128, 256, 512, 1024, 1280]\n"
     ]
    }
   ],
   "source": [
    "print_index_vector_splitting_info(1280)"
   ]
  },
  {
   "cell_type": "code",
   "execution_count": 19,
   "metadata": {},
   "outputs": [
    {
     "name": "stdout",
     "output_type": "stream",
     "text": [
      "n = 1160, chain length = 13, time = 0.39328718185424805\n",
      "chain = [1, 2, 4, 8, 16, 32, 64, 128, 256, 512, 1024, 1152, 1160]\n"
     ]
    }
   ],
   "source": [
    "print_index_vector_splitting_info(1160)"
   ]
  },
  {
   "cell_type": "code",
   "execution_count": 20,
   "metadata": {},
   "outputs": [
    {
     "name": "stdout",
     "output_type": "stream",
     "text": [
      "n = 1172, chain length = 13, time = 0.5285634994506836\n",
      "chain = [1, 2, 4, 8, 16, 32, 64, 128, 132, 260, 520, 1040, 1172]\n"
     ]
    }
   ],
   "source": [
    "print_index_vector_splitting_info(1172)"
   ]
  },
  {
   "cell_type": "code",
   "execution_count": 21,
   "metadata": {},
   "outputs": [
    {
     "name": "stdout",
     "output_type": "stream",
     "text": [
      "n = 1920, chain length = 13, time = 0.051650047302246094\n",
      "chain = [1, 2, 4, 8, 16, 32, 64, 128, 256, 512, 640, 1280, 1920]\n"
     ]
    }
   ],
   "source": [
    "print_index_vector_splitting_info(1920)"
   ]
  },
  {
   "cell_type": "markdown",
   "metadata": {},
   "source": [
    "Полученные результаты сведены в таблицу, расположенную ниже.\n",
    "\n",
    "| $n$ | Время<br>работы, с | Аддитивная цепочка, полученная с помощью алгоритма<br>дробления вектора индексов | Длина полученной<br>аддитивной цепочки | Длина минимальной<br>аддитивной цепочки |\n",
    "|---|---|:--|---|---|\n",
    "| 1088 | 0.003418445587158203 | \\[1, 2, 4, 8, 16, 32, 64, 128, 256, 512, 1024, 1088\\] | 12 | 12 |\n",
    "| 1280 | 0.006251096725463867 | \\[1, 2, 4, 8, 16, 32, 64, 128, 256, 512, 1024, 1280\\] | 12 | 12 |\n",
    "| 1160 | 0.4568898677825928 | \\[1, 2, 4, 8, 16, 32, 64, 128, 256, 512, 1024, 1152, 1160\\] | 13 | 13 |\n",
    "| 1172 | 0.5387921333312988 | \\[1, 2, 4, 8, 16, 32, 64, 128, 132, 260, 520, 1040, 1172\\] | 13 | 13 |\n",
    "| 1920 | 0.05087733268737793 | \\[1, 2, 4, 8, 16, 32, 64, 128, 256, 512, 640, 1280, 1920\\] | 13 | 13 |\n",
    "\n",
    "В блоке кода, расположенном ниже, произведены вычисления аддитивных цепочек для $n = 1920$ с помощью алгоритма Яо при различных значениях параметра $k$."
   ]
  },
  {
   "cell_type": "code",
   "execution_count": 22,
   "metadata": {},
   "outputs": [
    {
     "name": "stdout",
     "output_type": "stream",
     "text": [
      "n = 1920, k = 2, chain length = 14\n",
      "chain = [1, 2, 4, 8, 16, 32, 64, 128, 256, 512, 1024, 768, 1152, 1920]\n",
      "n = 1920, k = 3, chain length = 15\n",
      "chain = [1, 2, 4, 8, 16, 32, 64, 128, 256, 512, 1024, 192, 384, 1536, 1920]\n",
      "n = 1920, k = 4, chain length = 15\n",
      "chain = [1, 2, 4, 8, 16, 32, 64, 128, 256, 512, 1024, 768, 1536, 1792, 1920]\n",
      "n = 1920, k = 5, chain length = 17\n",
      "chain = [1, 2, 4, 8, 16, 32, 64, 128, 256, 512, 1024, 96, 192, 224, 448, 896, 1920]\n",
      "n = 1920, k = 6, chain length = 17\n",
      "chain = [1, 2, 4, 8, 16, 32, 64, 128, 256, 512, 1024, 192, 384, 448, 896, 960, 1920]\n",
      "n = 1920, k = 7, chain length = 16\n",
      "chain = [1, 2, 4, 8, 16, 32, 64, 128, 256, 512, 1024, 384, 768, 896, 1792, 1920]\n",
      "n = 1920, k = 8, chain length = 15\n",
      "chain = [1, 2, 4, 8, 16, 32, 64, 128, 256, 512, 1024, 768, 1536, 1792, 1920]\n",
      "n = 1920, k = 9, chain length = 21\n",
      "chain = [1, 2, 4, 8, 16, 32, 64, 128, 256, 512, 1024, 3, 6, 12, 24, 48, 96, 192, 384, 1536, 1920]\n",
      "n = 1920, k = 10, chain length = 22\n",
      "chain = [1, 2, 4, 8, 16, 32, 64, 128, 256, 512, 1024, 3, 6, 7, 14, 28, 56, 112, 224, 448, 896, 1920]\n",
      "n = 1920, k = 11, chain length = 23\n",
      "chain = [1, 2, 4, 8, 16, 32, 64, 128, 256, 512, 1024, 3, 6, 7, 14, 15, 30, 60, 120, 240, 480, 960, 1920]\n"
     ]
    }
   ],
   "source": [
    "for k in range(2, 12):\n",
    "    print_chain_info(1920, k)"
   ]
  },
  {
   "cell_type": "markdown",
   "metadata": {},
   "source": [
    "Исходя из полученных результатов можно сделать вывод, что существуют $n$, для которых алгоритм дробления вектора инедксов дает более оптимальное решение, чем алгоритм Яо (к примеру $n = 1920$). При этом время работы алгоритма дробления вектора индексов значительно выше, чем время работы алгритма Яо."
   ]
  },
  {
   "cell_type": "markdown",
   "metadata": {},
   "source": [
    "### 3. Гипотеза Шольца-Брауэра.\n",
    "\n",
    "В блоке кода, расположенном ниже, реализована проверка гипотезы Шольца-Брауэра для всех натуральных $ 1 \\leq n \\leq 12 $ с использованием алгоритма дробления вектора индексов."
   ]
  },
  {
   "cell_type": "code",
   "execution_count": 23,
   "metadata": {},
   "outputs": [
    {
     "name": "stdout",
     "output_type": "stream",
     "text": [
      "| 1 | [1] | 1 | [1] | 1 | True |\n",
      "| 2 | [1, 2, 3] | 3 | [1, 2] | 2 | True |\n",
      "| 3 | [1, 2, 4, 6, 7] | 5 | [1, 2, 3] | 3 | True |\n",
      "| 4 | [1, 2, 4, 5, 10, 15] | 6 | [1, 2, 4] | 3 | True |\n",
      "| 5 | [1, 2, 4, 8, 10, 20, 30, 31] | 8 | [1, 2, 4, 5] | 4 | True |\n",
      "| 6 | [1, 2, 4, 8, 16, 20, 21, 42, 63] | 9 | [1, 2, 4, 6] | 4 | True |\n",
      "| 7 | [1, 2, 4, 8, 16, 32, 40, 42, 84, 126, 127] | 11 | [1, 2, 4, 6, 7] | 5 | True |\n",
      "| 8 | [1, 2, 4, 8, 16, 17, 34, 68, 85, 170, 255] | 11 | [1, 2, 4, 8] | 4 | True |\n",
      "| 9 | [1, 2, 4, 8, 16, 32, 64, 72, 73, 146, 292, 438, 511] | 13 | [1, 2, 4, 8, 9] | 5 | True |\n",
      "| 10 | [1, 2, 4, 8, 16, 32, 64, 68, 136, 272, 340, 341, 682, 1023] | 14 | [1, 2, 4, 8, 10] | 5 | True |\n",
      "| 11 | [1, 2, 4, 8, 16, 32, 64, 128, 256, 288, 292, 584, 585, 1170, 1755, 2047] | 16 | [1, 2, 4, 8, 10, 11] | 6 | True |\n",
      "| 12 | [1, 2, 4, 8, 16, 32, 64, 128, 256, 272, 273, 546, 1092, 1365, 2730, 4095] | 16 | [1, 2, 4, 8, 12] | 5 | True |\n"
     ]
    }
   ],
   "source": [
    "for n in range(1, 12 + 1):\n",
    "    first_chain = index_vector_splitting(int(2^n - 1))\n",
    "    second_chain = index_vector_splitting(n)\n",
    "    print('| {} | {} | {} | {} | {} | {} |'.format(n, first_chain, len(first_chain), \n",
    "                                                   second_chain, len(second_chain), \n",
    "                                                   len(first_chain) <= len(second_chain) + n - 1))"
   ]
  },
  {
   "cell_type": "markdown",
   "metadata": {},
   "source": [
    "Результаты вычислений сведены в таблицу, расположенную ниже.\n",
    "\n",
    "\n",
    "| $n$ | Аддитивная цепочка для<br>$2^n - 1$ | Длина аддитивной цепочки | Аддитивная цепочка<br>для $n$ | Длина аддитивной цепочки | Проверка утверждения<br>гипотезы |\n",
    "|---|---|---|---|---|---|\n",
    "| 1 | [1] | 1 | [1] | 1 | True |\n",
    "| 2 | [1, 2, 3] | 3 | [1, 2] | 2 | True |\n",
    "| 3 | [1, 2, 4, 6, 7] | 5 | [1, 2, 3] | 3 | True |\n",
    "| 4 | [1, 2, 4, 5, 10, 15] | 6 | [1, 2, 4] | 3 | True |\n",
    "| 5 | [1, 2, 4, 8, 10, 20, 30, 31] | 8 | [1, 2, 4, 5] | 4 | True |\n",
    "| 6 | [1, 2, 4, 8, 16, 20, 21, 42, 63] | 9 | [1, 2, 4, 6] | 4 | True |\n",
    "| 7 | [1, 2, 4, 8, 16, 32, 40, 42, 84, 126, 127] | 11 | [1, 2, 4, 6, 7] | 5 | True |\n",
    "| 8 | [1, 2, 4, 8, 16, 17, 34, 68, 85, 170, 255] | 11 | [1, 2, 4, 8] | 4 | True |\n",
    "| 9 | [1, 2, 4, 8, 16, 32, 64, 72, 73, 146, 292, 438, 511] | 13 | [1, 2, 4, 8, 9] | 5 | True |\n",
    "| 10 | [1, 2, 4, 8, 16, 32, 64, 68, 136, 272, 340, 341, 682, 1023] | 14 | [1, 2, 4, 8, 10] | 5 | True |\n",
    "| 11 | [1, 2, 4, 8, 16, 32, 64, 128, 256, 288, 292, 584, 585, 1170, 1755, 2047] | 16 | [1, 2, 4, 8, 10, 11] | 6 | True |\n",
    "| 12 | [1, 2, 4, 8, 16, 32, 64, 128, 256, 272, 273, 546, 1092, 1365, 2730, 4095] | 16 | [1, 2, 4, 8, 12] | 5 | True |\n",
    "\n",
    "\n",
    "Исходя из полученных результатов можно судить о верности утверждения гипотезы Шольца-Брауэра для $ 1 \\leq n \\leq 12 $."
   ]
  },
  {
   "cell_type": "markdown",
   "metadata": {},
   "source": [
    "### 4. Оптимизация алгоритма дробления вектора индексов.\n",
    "\n",
    "В ходе тестирования работы алгоритма дробления вектора индексов было замечено, что выбор индекса, разделяющего постоянную и меняющуюся части значительно влияет на время работы алгоритма.\n",
    "\n",
    "Предложена идея варьировать размер постоянной части. Данную идею можно реализовать следующим образом: постепенно производить построение вектора индексов, на каждой итерации уже построенная часть вектора рассматривается как постоянная часть, перед продолжением построения будут вычисляться границы диапазона значений, которые могут быть получены при продолжении построения вектора ($a_{min}$ и $a_{max}$ в оригинальом алгоритме). Если искомое значение поподает в диапазон $[a_{min}, a_{max}]$, то происходит дальнейшее построение вектора, иначе происходит переход к следующей постоянной части.\n",
    "\n",
    "В блоке кода, расположенном ниже, реализован предложенный алгоритм."
   ]
  },
  {
   "cell_type": "code",
   "execution_count": 24,
   "metadata": {},
   "outputs": [],
   "source": [
    "'''\n",
    "    this function implements the optimization of index vector splitting algorithm\n",
    "'''\n",
    "def optimized_index_vector_splitting(n):\n",
    "    if n == 1:\n",
    "        return [1]\n",
    "        \n",
    "    vector_length = len(bin(n)) - 3\n",
    "    \n",
    "    # external loop on lengths of vectors\n",
    "    while True:\n",
    "    \n",
    "        # index_stack has a similar significance as constant part of the vector of inexes \n",
    "        # from the unoptimized algorithm\n",
    "        index_stack = [0 + 1]\n",
    "        # in the process of the variation of the index vector the corresponding chain is constructed\n",
    "        chain = [1, 2]\n",
    "        \n",
    "        # the cycle of sequential construction of the index vector\n",
    "        while index_stack:\n",
    "            # at the beginning of each iteration, the index at the top of the index stack decreases\n",
    "            if not index_stack[-1]:\n",
    "                # if this is not possible, the previous index variation begins\n",
    "                index_stack.pop()\n",
    "                chain.pop()\n",
    "                continue\n",
    "            \n",
    "            # decreasing the index at the top of the stack and calculating the corresponding chain\n",
    "            index_stack[-1] -= 1\n",
    "            chain[-1] = chain[-2] + chain[index_stack[-1]]\n",
    "            \n",
    "            if chain[-1] == n:\n",
    "                return chain\n",
    "            \n",
    "            # transition to the next chain if the current chain cannot be extended and is not a solution\n",
    "            if len(index_stack) == vector_length:\n",
    "                continue\n",
    "            \n",
    "            a_min = chain[-1] + vector_length - len(index_stack)\n",
    "            a_max = chain[-1] * 2^(vector_length - len(index_stack))\n",
    "            \n",
    "            # transition to the next chain if the target value does not obtainable the range \n",
    "            # of possible values when expanding the current chain\n",
    "            if not (a_min <= n <= a_max):\n",
    "                continue\n",
    "            \n",
    "            # chain extension\n",
    "            index_stack.append(len(index_stack) + 1)\n",
    "            chain.append(None)\n",
    "            \n",
    "        vector_length += 1"
   ]
  },
  {
   "cell_type": "markdown",
   "metadata": {},
   "source": [
    "Произведем вычисления, аналогичные тем, что были приведены в пункте 2."
   ]
  },
  {
   "cell_type": "code",
   "execution_count": 25,
   "metadata": {},
   "outputs": [],
   "source": [
    "def print_optimized_index_vector_splitting_info(n):\n",
    "    start_time = time()\n",
    "    chain = optimized_index_vector_splitting(n)\n",
    "    print('n = {}, chain length = {}, time = {}\\nchain = {}'.format(n, len(chain), time() - start_time, chain))"
   ]
  },
  {
   "cell_type": "code",
   "execution_count": 26,
   "metadata": {},
   "outputs": [
    {
     "name": "stdout",
     "output_type": "stream",
     "text": [
      "n = 1088, chain length = 12, time = 0.00010514259338378906\n",
      "chain = [1, 2, 4, 8, 16, 32, 64, 128, 256, 512, 1024, 1088]\n"
     ]
    }
   ],
   "source": [
    "print_optimized_index_vector_splitting_info(1088)"
   ]
  },
  {
   "cell_type": "code",
   "execution_count": 27,
   "metadata": {},
   "outputs": [
    {
     "name": "stdout",
     "output_type": "stream",
     "text": [
      "n = 1280, chain length = 12, time = 7.987022399902344e-05\n",
      "chain = [1, 2, 4, 8, 16, 32, 64, 128, 256, 512, 1024, 1280]\n"
     ]
    }
   ],
   "source": [
    "print_optimized_index_vector_splitting_info(1280)"
   ]
  },
  {
   "cell_type": "code",
   "execution_count": 28,
   "metadata": {},
   "outputs": [
    {
     "name": "stdout",
     "output_type": "stream",
     "text": [
      "n = 1160, chain length = 13, time = 0.0020933151245117188\n",
      "chain = [1, 2, 4, 8, 16, 32, 64, 128, 256, 512, 1024, 1152, 1160]\n"
     ]
    }
   ],
   "source": [
    "print_optimized_index_vector_splitting_info(1160)"
   ]
  },
  {
   "cell_type": "code",
   "execution_count": 29,
   "metadata": {},
   "outputs": [
    {
     "name": "stdout",
     "output_type": "stream",
     "text": [
      "n = 1172, chain length = 13, time = 0.014542818069458008\n",
      "chain = [1, 2, 4, 8, 16, 32, 64, 128, 132, 260, 520, 1040, 1172]\n"
     ]
    }
   ],
   "source": [
    "print_optimized_index_vector_splitting_info(1172)"
   ]
  },
  {
   "cell_type": "code",
   "execution_count": 30,
   "metadata": {},
   "outputs": [
    {
     "name": "stdout",
     "output_type": "stream",
     "text": [
      "n = 1920, chain length = 13, time = 0.0004172325134277344\n",
      "chain = [1, 2, 4, 8, 16, 32, 64, 128, 256, 512, 640, 1280, 1920]\n"
     ]
    }
   ],
   "source": [
    "print_optimized_index_vector_splitting_info(1920)"
   ]
  },
  {
   "cell_type": "markdown",
   "metadata": {},
   "source": [
    "Дополнительно произведем вычисления для $n = 2^9 - 1$."
   ]
  },
  {
   "cell_type": "code",
   "execution_count": 31,
   "metadata": {},
   "outputs": [
    {
     "name": "stdout",
     "output_type": "stream",
     "text": [
      "n = 511, chain length = 13, time = 28.07638120651245\n",
      "chain = [1, 2, 4, 8, 16, 32, 64, 72, 73, 146, 292, 438, 511]\n"
     ]
    }
   ],
   "source": [
    "print_index_vector_splitting_info(2^9-1)"
   ]
  },
  {
   "cell_type": "code",
   "execution_count": 32,
   "metadata": {},
   "outputs": [
    {
     "name": "stdout",
     "output_type": "stream",
     "text": [
      "n = 511, chain length = 13, time = 0.5105516910552979\n",
      "chain = [1, 2, 4, 8, 16, 32, 64, 72, 73, 146, 292, 438, 511]\n"
     ]
    }
   ],
   "source": [
    "print_optimized_index_vector_splitting_info(2^9-1)"
   ]
  },
  {
   "cell_type": "markdown",
   "metadata": {},
   "source": [
    "Полученные результаты сведены в таблицу, расположенную ниже.\n",
    "\n",
    "\n",
    "| $n$ | Аддитивная цепочка | Время работы оптимизированного <br>алгоритма, с | Время работы неоптимизированного <br>алгоритма, с | Разность времени работы алгоритмов |\n",
    "|---|---|---|---|---|\n",
    "| 1088 | \\[1, 2, 4, 8, 16, 32, 64, 128, 256, 512, 1024, 1088\\] | 0.00014519691467285156 | 0.003418445587158203 | 0.0032732486724853516 |\n",
    "| 1280 | \\[1, 2, 4, 8, 16, 32, 64, 128, 256, 512, 1024, 1280\\] | 5.9604644775390625e-05 | 0.006251096725463867 | 0.0061914920806884766 |\n",
    "| 1160 | \\[1, 2, 4, 8, 16, 32, 64, 128, 256, 512, 1024, 1152, 1160\\] | 0.0024764537811279297 | 0.4568898677825928 | 0.45441341400146484 |\n",
    "| 1172 | \\[1, 2, 4, 8, 16, 32, 64, 128, 132, 260, 520, 1040, 1172\\] | 0.029340028762817383 | 0.5387921333312988 | 0.5094521045684814 |\n",
    "| 1920 | \\[1, 2, 4, 8, 16, 32, 64, 128, 256, 512, 640, 1280, 1920\\] | 0.001153707504272461 | 0.05087733268737793 | 0.04972362518310547 |\n",
    "| 511 | \\[1, 2, 4, 8, 16, 32, 64, 72, 73, 146, 292, 438, 511\\] | 0.49303507804870605 | 27.822351932525635 | 27.32931685447693 |\n",
    "\n",
    "Оптимизированный алгоритм во всех рассмотренных случаях работает быстрее, чем исходный. Для $n = 511$ оптимизированный алгоритм находит решение в 56 раз быстрее, чем неоптимизированный."
   ]
  },
  {
   "cell_type": "markdown",
   "metadata": {},
   "source": [
    "## Выводы\n",
    "\n",
    "В ходе выполнения работы был реализованы алгоритм Яо нахождения придлиженных аддитивных цепочек, алгоритм дробления вектора индексов для нахождения минимальной звездной аддитивной цепочки. Произведено сравнение данных алгоритмов, в результате которого получено, что алгоритм Яо не всегда может дать оптимальное решение, но при этом время работы алгоритма Яо значительно меньше, чем время работы алгоритма дробления вектора индексов. Для алгоритма дробления вектора индексов разработана оптимизация, основанная на варьировании длины постоянной части вектора индексов. Произведено сравнение оптимизированного и неоптимизированного алгоритмов дробления вектора индексов, в резуьтате которого показано, что оптимизированный алгоритм во всех рассмотренных случаях работает быстрее, чем неоптимизированный. "
   ]
  }
 ],
 "metadata": {
  "kernelspec": {
   "display_name": "SageMath 9.8",
   "language": "sage",
   "name": "sagemath"
  },
  "language_info": {
   "codemirror_mode": {
    "name": "ipython",
    "version": 3
   },
   "file_extension": ".py",
   "mimetype": "text/x-python",
   "name": "python",
   "nbconvert_exporter": "python",
   "pygments_lexer": "ipython3",
   "version": "3.10.10"
  }
 },
 "nbformat": 4,
 "nbformat_minor": 4
}
