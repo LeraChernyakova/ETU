{
 "cells": [
  {
   "cell_type": "markdown",
   "metadata": {},
   "source": [
    "# Практическая работа №1: Алгоритмы эффективного вычисления одночленов\n",
    "\n",
    "Выполнила студентка гр. 1304 Виноградова Маргарита. Вариант №31."
   ]
  },
  {
   "cell_type": "markdown",
   "metadata": {},
   "source": [
    "## Цель работы\n",
    "\n",
    "Сформировать знания о работе алгоритмах вычисления одночленов за минимальное число операций, привить навык использования систем компьютерной математики для реализации алгоритмов."
   ]
  },
  {
   "cell_type": "markdown",
   "metadata": {},
   "source": [
    "## Основные теоретические положения\n",
    "\n",
    "### Алгоритм бинарного метода возведения в степень SX \n",
    "1. Записать число n в бинарном виде:\n",
    "    $ n = (a_{m}a_{m-1}...a_2a_1)_2$\n",
    "    $ a_m = 1$\n",
    "2. Отбросить старший бит:\n",
    "    $ (a_{m-1}...a_2a_1)_2$\n",
    "3. Сделать замену по следующему правилу:  \n",
    "    $ a_i = 1 -> a_i = \"SX\" $  \n",
    "    $ a_i = 0 -> a_i = \"S\" $  \n",
    "    В результате будет получена строка из элементов $S$ и $X$.\n",
    "4. Выполнить вычисления, где $\"S\"$ - возведение в квадрат (умножение на само себя), $\"X\"$ - умножение на x. \n",
    "\n",
    "### Алгоритм бинарного возведения в степень справа налево\n",
    "\n",
    "1. Начальная инициализация: N = n, y=1, z=x.  \n",
    "2. Если число четное, то пункт 3, иначе пункт 4.\n",
    "3. $N=\\left\\lfloor{n/2}\\right\\rfloor, z=z^2$.\n",
    "4. $N=\\left\\lfloor{n/2}\\right\\rfloor, y=zy$.  \n",
    "    Если N равно нулю, то возвращается y и алгоритм заканчивает работу, иначе $z=z^2$ и переход к пункту 2.\n",
    "\n",
    "### Определения\n",
    " * $\\lambda(n) = \\left\\lfloor {lbn} \\right\\rfloor$  - уменьшеная на единицу длина бинарной записи числа n.\n",
    " * $\\nu(n)$ - вес Хэмминга для бинарной записи числа n.\n",
    " * число операций для бинарного метода \"SX\": $\\lambda(n) + \\nu(n) - 1$.\n",
    " * число операций для бинарного метода справа налево: $\\lambda(n) + \\nu(n)$.\n",
    "\n",
    "### Алгоритм метода множителей  \n",
    "1. Представить $n=pq$, где $p$ - наименьший простой множителей $n$, $q > 1$. Таким образом, $x^n$ можно найти, вычислив $x^p$ и возведя эту величину в степень $q$.\n",
    "2. Если $n$ - простое, то можно сначала вычислить $x^{n-1}$ и умножить его на $x$. \n",
    "3. При $n = 1$ получаем $x^n$ безовсяких  вычислений.\n",
    "\n",
    "Применяя эти правила можно получить значение $x^n$ при любом $n\\in\\mathbb{N}$.\n",
    "\n",
    "### Дерево степеней\n",
    " * Пусть построен $k$-ый уровень дерева. Необходимо построить $(k+1)$-ый уровень.\n",
    " * Берем каждый узел $n$ на $k$-ом уровне слева направо и присоединяем к нему снизу узлы\n",
    "    $ n+a_0, n+a_1, n+a_2, ..., n+a_{k-1} = 2n $\n",
    " * Порядок важен. Значения $\\left\\{ {a_i}\\right\\}^{k-1}_{i=0}, a_0=1$, представляют собой путь от корня дерева до узла n.\n",
    " * Если какой-то узел уже появлялся раньше в дереве, то он устраняется (новый не добавляется)."
   ]
  },
  {
   "cell_type": "markdown",
   "metadata": {},
   "source": [
    "## Постановка задачи\n",
    "\n",
    "\n",
    "Реализовать алгоритмы вычисления мономов за минимальное число операций с использованием системы компьютерной алгебры SageMath, провести анализ алгоритмов. Полученные результаты содержательно проинтерпретировать."
   ]
  },
  {
   "cell_type": "markdown",
   "metadata": {},
   "source": [
    "## Выполнение работы\n"
   ]
  },
  {
   "cell_type": "markdown",
   "metadata": {},
   "source": [
    "1. С помощью системы компьютерной алгебры SageMath реализовать бинарный метод «SX». Вывести последовательность «S» и «X» для заданного числа 𝑛. Последовательно вывести значения $𝑥^𝑖$ после каждой итерации. Сделать выводы."
   ]
  },
  {
   "cell_type": "code",
   "execution_count": 85,
   "metadata": {},
   "outputs": [
    {
     "name": "stdout",
     "output_type": "stream",
     "text": [
      "SSXSXSSX\n",
      "iteration 0:  x\n",
      "iteration 1: x^2\n",
      "iteration 2: x^4\n",
      "iteration 3: x^5\n",
      "iteration 4: x^10\n",
      "iteration 5: x^11\n",
      "iteration 6: x^22\n",
      "iteration 7: x^44\n",
      "iteration 8: x^45\n"
     ]
    }
   ],
   "source": [
    "def SX(n):\n",
    "    n = n.binary()[1::]#перевод в двоичную сс и отбрасывание старшего бита\n",
    "\n",
    "    #получение последовательности в виде символов S и X\n",
    "    seq='' #переменная для хранения последовательности\n",
    "    for elem in n:\n",
    "        if elem=='1' :\n",
    "            seq+='SX'\n",
    "        else:\n",
    "            seq+='S'\n",
    "    print(seq)\n",
    "    #возведение в степень в соответствие с последовательностью\n",
    "    x=var('x')\n",
    "    result=x\n",
    "    print(\"iteration 0: \",result)\n",
    "    for i,elem in enumerate(seq):\n",
    "        if elem=='S':\n",
    "            result=pow(result,2)\n",
    "        if elem=='X':\n",
    "            result=result*x\n",
    "\n",
    "        print(\"iteration \"+str(i+1)+\": \"+str(result))\n",
    "\n",
    "SX(45)"
   ]
  },
  {
   "cell_type": "markdown",
   "metadata": {},
   "source": [
    "Пример работы:  \n",
    "\n",
    "23  \n",
    "SSXSXSX  \n",
    "iteration 0: x  \n",
    "iteration 1: $x^2$  \n",
    "iteration 2: $x^4$  \n",
    "iteration 3: $x^5$  \n",
    "iteration 4: $x^{10}$  \n",
    "iteration 5: $x^{11}$  \n",
    "iteration 6: $x^{22}$  \n",
    "iteration 7: $x^{23}$  \n",
    "  \n",
    "45  \n",
    "SSXSXSSX  \n",
    "iteration 0: x  \n",
    "iteration 1: $x^2$  \n",
    "iteration 2: $x^4$  \n",
    "iteration 3: $x^5$  \n",
    "iteration 4: $x^{10}$  \n",
    "iteration 5: $x^{11}$  \n",
    "iteration 6: $x^{22}$  \n",
    "iteration 7: $x^{44}$  \n",
    "iteration 8: $x^{45}$  \n",
    "\n",
    "Вывод:  \n",
    "Реализован бинарный метод возведения в степень \"SX\". Протестирован на значениях 23  (количество итераций равно 7) и 45 (количество итераций равно 8). Количество итераций зависит от количества единиц в бинарной записи числа (те чем больше единиц, тем больше итераций). "
   ]
  },
  {
   "cell_type": "markdown",
   "metadata": {},
   "source": [
    "2. Реализовать бинарный метод возведения в степень справа налево. Привести пример работы программы на нескольких значениях 𝑛. Для каждого 𝑛 результат выводить в виде таблицы. Чему будет равно значение 𝑍 после завершения алгоритма в общем случае?"
   ]
  },
  {
   "cell_type": "code",
   "execution_count": 95,
   "metadata": {},
   "outputs": [
    {
     "name": "stdout",
     "output_type": "stream",
     "text": [
      "Iter\t N\t Y\t Z\n",
      "0 \t 45 \t 1 \t x\n",
      "1 \t 22 \t x \t x^2\n",
      "2 \t 11 \t x \t x^4\n",
      "3 \t 5 \t x^5 \t x^8\n",
      "4 \t 2 \t x^13 \t x^16\n",
      "5 \t 1 \t x^13 \t x^32\n",
      "6 \t 0 \t x^45 \t x^32\n"
     ]
    }
   ],
   "source": [
    "def right_left(n):\n",
    "    #Начальная инициализация\n",
    "    N=n\n",
    "    y=1\n",
    "    z=x\n",
    "    iter_n=0\n",
    "    #вывод заголовка таблицы и нулевого шага\n",
    "    print(\"Iter\\t N\\t Y\\t Z\")\n",
    "    print(iter_n,'\\t', N,'\\t',y,'\\t',z,)\n",
    "\n",
    "    #Выполнение алгоритма в соответствие с теоретическими положениями\n",
    "    while True:\n",
    "        if is_even(N):\n",
    "            z=z*z\n",
    "            N=floor(N/2)\n",
    "        else:\n",
    "            N=floor(N/2)\n",
    "            y=z*y\n",
    "            if N==0:\n",
    "                break\n",
    "            else:\n",
    "                z=z*z\n",
    "        iter_n+=1    \n",
    "        print(iter_n,'\\t', N,'\\t',y,'\\t',z,)\n",
    "\n",
    "    #вывод последнего шага     \n",
    "    print(iter_n+1,'\\t', N,'\\t',y,'\\t',z)\n",
    "\n",
    "\n",
    "right_left(45)"
   ]
  },
  {
   "cell_type": "markdown",
   "metadata": {},
   "source": [
    "Вывод:\n",
    "Пример с N = 23\n",
    "\n",
    "| № итерации | Значение 𝑁 | Значение 𝑌 | Значение 𝑍 |   |\n",
    "|------------|------------|------------|------------|---|\n",
    "| 0          | 23         | $1$        | $x$        |   |\n",
    "| 1          | 11         | $x$        | $x^2$      |   |\n",
    "| 2          | 5          | $x^3$      | $x^4$      |   |\n",
    "| 3          | 2          | $x^7$      | $x^8$      |   |\n",
    "| 4          | 1          | $x^7$      | $x^{16}$   |   |\n",
    "| 5          | 0          | $x^{23}$   | $x^{16}$   |   |\n",
    "\n",
    "Количество итераций - 8\n",
    "\n",
    "Пример с N = 45\n",
    "\n",
    "| № итерации | Значение 𝑁 | Значение 𝑌 | Значение 𝑍 |   |\n",
    "|------------|------------|------------|------------|---|\n",
    "| 0          | 45         | 1          | x          |   |\n",
    "| 1          | 22         | x          | $x^2$      |   |\n",
    "| 2          | 11         | x          | $x^4$      |   |\n",
    "| 3          | 5          | $x^5$      | $x^8$      |   |\n",
    "| 4          | 2          | $x^{13}$   | $x^{16}$   |   |\n",
    "| 5          | 1          | $x^{13}$   | $x^{32}$   |   |\n",
    "| 6          | 0          | $x^{45}$   | $x^{32}$   |   |\n",
    "\n",
    "Количестов итераций - 9\n",
    "\n",
    "В общем случае Z после завершения алгоритма равно x в степени $2^i$, где i это шаг после которого N стало равно нулю. В данных примерах для 23 это 4 шаг ($Z=x^{2^4}$), для 45 это 5 шаг ($Z=x^{2^5}$)."
   ]
  },
  {
   "cell_type": "markdown",
   "metadata": {},
   "source": [
    "3. Сравнить бинарный метод «SX» и метод возведения в степень справа налево. Каково количество итераций в каждом случае. Сделать выводы.\n",
    "\n",
    "число операций для бинарного метода SX равно $ \\lambda(n) + \\nu(n) - 1 $  \n",
    "число операций для бинарного метода справа налево равно $ \\lambda(n) + \\nu(n) $\n",
    "\n",
    "Проверка ранее выведенных n:  \n",
    "$n = 23$  \n",
    "$\\lambda(n) = 4$  \n",
    "$\\nu(n) = 4$  \n",
    "Таким образом, метод $SX$ - 7 итераций ($ \\lambda(n) + \\nu(n) - 1 = 4 + 4 - 1 = 7 $), метод справа налево - 8 итераций ($ \\lambda(n) + \\nu(n) = 4 + 4 = 8 $)\n",
    "Теоретические и практические результаты для n=23 совпадают.\n",
    "\n",
    "$n = 45$  \n",
    "$\\lambda(n) = 5$  \n",
    "$\\nu(n) = 4$  \n",
    "Таким образом, метод $SX$ - 8 итераций ($ \\lambda(n) + \\nu(n) - 1 = 5 + 4 - 1 = 8 $), метод справа налево - 9 итераций ($ \\lambda(n) + \\nu(n) = 5 + 4 = 9 $)\n",
    "Теоретические и практические результаты для n=45 совпадают.  \n",
    "Вывод:  \n",
    "Таким образом, бинарный метод SX всегда будет выполнен за меньшее число операций.  "
   ]
  },
  {
   "cell_type": "markdown",
   "metadata": {},
   "source": [
    "4. Для ранее приведённых 𝑛 вручную выполнить метод множителей. Показать преимущества данного метода по сравнению с предыдущими. Привести примеры когда метод множителей будет давать результат хуже, чем бинарный метод «SX». Сделать выводы.\n",
    "\n",
    "n = 23  \n",
    "$x^{23} = x^{22} \\cdot x$   \n",
    "$x^{22} = x^{2^{11}}$  \n",
    "$x^2 \\rightarrow x, x^2$   \n",
    "$x^{11} = x^{10} \\cdot x$  \n",
    "$x^{10} = x^{5^2}$  \n",
    "$x^2\\rightarrow x, x^2$  \n",
    "$x^5 = x^4 \\cdot x$  \n",
    "$x^4 \\rightarrow x,x^2,x^4 $    \n",
    "\n",
    "Таким образом, всего 7 операций ($x,x^{2},x^{4},x^{5},x^{10},x^{11},x^{22},x^{23}$).\n",
    "\n",
    "n = 45  \n",
    "$x^{45} = x^{3^{15}}$   \n",
    "$x^3 = x^2 \\cdot x$  \n",
    "$x^2 \\rightarrow x, x^2$  \n",
    "$x^15 = x^{3^5}$  \n",
    "$x^3 = x^2 \\cdot x$  \n",
    "$x^2 \\rightarrow x, x^2$  \n",
    "$x^5 = x^4 \\cdot x$  \n",
    "$x^4 \\rightarrow x,x^2,x^4 $  \n",
    "Таким образом, всего 7 операций ($x,x^{2},x^{3},x^{6},x^{12},x^{15},x^{30},x^{45}$). Лучше, чем в методе SX.    \n",
    "\n",
    "Так как оба случая работают не хуже бинарного метода \"SX\", рассмотрено дополнительные значения n = 33.  \n",
    "n = 33  \n",
    "$x^{33}=x^{3^{11}}$  \n",
    "$x^3 = x^2 \\cdot x$  \n",
    "$x^2 \\rightarrow x, x^2$  \n",
    "$x^{11} = x^{10} \\cdot x$  \n",
    "$x^{10} = x^{5^2}$  \n",
    "$x^2\\rightarrow x, x^2$  \n",
    "$x^5 = x^4 \\cdot x$  \n",
    "$x^4 \\rightarrow x,x^2,x^4 $    \n",
    "Таким образом, всего 7 операций ($x,x^{2},x^{4},x^{5},x^{10},x^{11},x^{22},x^{33}$). Хуже, чем метод SX на 1.  \n",
    "метод SX для n = 33  \n",
    "iteration 0: x  \n",
    "iteration 1: x^2  \n",
    "iteration 2: x^4  \n",
    "iteration 3: x^8  \n",
    "iteration 4: x^16  \n",
    "iteration 5: x^32  \n",
    "iteration 6: x^33  \n",
    "\n",
    "Вывод: Таким образом, метод множителей может работать как за меньшее число итераций по сравнению с методом SX, так и за большее."
   ]
  },
  {
   "cell_type": "markdown",
   "metadata": {},
   "source": [
    "5. Реализовать алгоритм «дерева степеней». Отобразить дерево средствами SageMath до заданного уровня 𝑘. Выделить цветом путь от вершины дерева до заданного числа 𝑛. Сравнить данный метод с предыдущими. Сделать выводы."
   ]
  },
  {
   "cell_type": "code",
   "execution_count": 96,
   "metadata": {},
   "outputs": [],
   "source": [
    "#функция для поиска пути между корнем и переданной вершиной\n",
    "def find_way(end,tree_dict):\n",
    "    A=[end]\n",
    "    while True:\n",
    "        if end == 1:\n",
    "            return A[::-1]\n",
    "        for vertex in list(tree_dict.keys()):\n",
    "            if end in tree_dict[vertex]:\n",
    "                end = vertex\n",
    "                A.append(vertex)\n",
    "#Дерево степеней\n",
    "def degree_tree(k):\n",
    "    \n",
    "    #словарь для построения дерева\n",
    "    tree_dict={1:[]}\n",
    "\n",
    "    kol=0\n",
    "    tmp_level=[1] # текущий уровень\n",
    "    while kol<k:\n",
    "        kol+=1\n",
    "        new_tmp_level=[]\n",
    "        #построение нового уровня\n",
    "        for node1 in tmp_level:\n",
    "            for node2 in find_way(node1,tree_dict):\n",
    "                if node1+node2 not in list(tree_dict.keys()):\n",
    "                    tree_dict[node1].append(node1+node2)\n",
    "                    tree_dict[node1+node2]=[]\n",
    "                    new_tmp_level.append(node1+node2)\n",
    "        tmp_level = new_tmp_level\n",
    "\n",
    "    return tree_dict\n",
    "#функция получения ребер, которые необходимо окрасить\n",
    "def color_way(n,tree_dict):\n",
    "    goal_way=[]\n",
    "    goal=find_way(n,tree_dict)\n",
    "    for i in range(len(goal)-1):\n",
    "        tmp = (goal[i],goal[i+1])\n",
    "        goal_way.append(tmp)\n",
    "    return goal_way\n",
    "\n",
    "#вывод графика\n",
    "def draw_tree(k,n):\n",
    "    result_tree=degree_tree(k)\n",
    "    G = Graph(result_tree)\n",
    "    G.plot(layout = 'tree',tree_root=1,edge_colors={\"red\":color_way(n,result_tree)}).show()\n"
   ]
  },
  {
   "cell_type": "code",
   "execution_count": 97,
   "metadata": {},
   "outputs": [
    {
     "data": {
      "image/png": "[encoded data removed]",
      "text/plain": [
       "Graphics object consisting of 72 graphics primitives"
      ]
     },
     "metadata": {},
     "output_type": "display_data"
    }
   ],
   "source": [
    "draw_tree(6,23)"
   ]
  },
  {
   "cell_type": "code",
   "execution_count": 98,
   "metadata": {},
   "outputs": [
    {
     "data": {
      "image/png": "[encoded data removed]",
      "text/plain": [
       "Graphics object consisting of 124 graphics primitives"
      ]
     },
     "metadata": {},
     "output_type": "display_data"
    }
   ],
   "source": [
    "draw_tree(7,45)"
   ]
  },
  {
   "cell_type": "markdown",
   "metadata": {},
   "source": [
    "Вывод:\n",
    "Для n = 23 степень может быть найдена за 6 итераций, n = 45 степень может быть найдена за 7 итераций. \n",
    "Таким образом, метод дерева степеней лучше бинарного метода возведения в степень SX и метода возведения в степень справа налево. При сравнении с методом множителей для n = 45 получается одинаковое количество итераций, при n = 23, метод дерева степеней лучше на одну итерацию.  "
   ]
  },
  {
   "cell_type": "code",
   "execution_count": 99,
   "metadata": {},
   "outputs": [
    {
     "name": "stdout",
     "output_type": "stream",
     "text": [
      "Tree win\n",
      "Tree win\n",
      "Tree win\n",
      "Tree win\n",
      "Tree win\n",
      "Tree win\n",
      "Tree win\n",
      "Tree win\n",
      "Tree win\n",
      "Tree win\n",
      "Tree win\n",
      "Tree win\n",
      "Tree win\n",
      "Tree win\n",
      "Tree win\n",
      "Tree win\n",
      "Tree win\n",
      "Tree win\n",
      "Tree win\n",
      "Tree win\n",
      "Tree win\n",
      "Tree win\n",
      "Tree win\n",
      "Tree win\n",
      "Tree win\n",
      "Tree win\n",
      "Tree win\n",
      "Tree win\n",
      "Tree win\n",
      "Tree win\n",
      "Tree win\n",
      "Tree win\n",
      "Tree win\n",
      "Tree win\n",
      "Tree win\n",
      "Tree win\n",
      "Tree win\n",
      "Tree win\n",
      "Tree win\n",
      "Tree win\n",
      "Tree win\n",
      "Tree win\n",
      "Tree win\n",
      "Tree win\n",
      "Tree win\n",
      "Tree win\n",
      "Tree win\n",
      "Tree win\n"
     ]
    }
   ],
   "source": [
    "#функция сравнения метода SX и дерева степеней\n",
    "def tree_vs_SX():\n",
    "    #построение дерева\n",
    "    tree=degree_tree(14)\n",
    "    #рассмотрение всех степеней с 2 по 50\n",
    "    for i in range(2,50):\n",
    "        seq=str(Integer(i).binary()[1::])\n",
    "        if len(find_way(i,tree))-1 <= (seq.count('1')*2+seq.count('0')):\n",
    "            print(\"Tree win\")\n",
    "        else:\n",
    "            print(\"SX win\")\n",
    "tree_vs_SX()"
   ]
  },
  {
   "cell_type": "markdown",
   "metadata": {},
   "source": [
    "Результат анализа алгоритмов:\n",
    "Так как известно, что метод SX  работает за меньшее число итераций, чем метод справа налево, принято решение провести сравнение метода SX и дерева степеней. В результате проверки 50-ти степеней, выявлено, что дерево степеней работает не хуже метода SX (те количество итераций совпадает или меньше)."
   ]
  },
  {
   "cell_type": "markdown",
   "metadata": {},
   "source": [
    "## Выводы\n",
    "\n",
    "В данной работе програмно были реализованы бинарный метод возведения в степень SX, бинарный метод возведения в степень справа налево и дерево степеней. Вручную проделан метод множителей. Наиболее эффективным оказалось дерево степеней. При реализации методов использованы системы компьютерной алгебры SageMath."
   ]
  }
 ],
 "metadata": {
  "kernelspec": {
   "display_name": "SageMath 9.7",
   "language": "sage",
   "name": "sagemath-9.7"
  },
  "language_info": {
   "codemirror_mode": {
    "name": "ipython",
    "version": 3
   },
   "file_extension": ".py",
   "mimetype": "text/x-python",
   "name": "python",
   "nbconvert_exporter": "python",
   "pygments_lexer": "ipython3",
   "version": "3.10.5"
  }
 },
 "nbformat": 4,
 "nbformat_minor": 4
}
