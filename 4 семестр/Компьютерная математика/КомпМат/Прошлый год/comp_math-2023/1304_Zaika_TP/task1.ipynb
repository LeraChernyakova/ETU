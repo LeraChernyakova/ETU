{
 "cells": [
  {
   "cell_type": "markdown",
   "metadata": {},
   "source": [
    "# Практическая работа №1: Алгоритмы эффективного вычисления многочленов\n",
    "\n",
    "Выполнил студент гр. 1304 Заика Тимофей. Вариант №35."
   ]
  },
  {
   "cell_type": "markdown",
   "metadata": {},
   "source": [
    "## Цель работы\n",
    "\n",
    "Сформировать знания о работе алгоритмах вычисления одночленов за\n",
    "минимальное число операций, привить навык использования систем компьютерной математики для реализации алгоритмов."
   ]
  },
  {
   "cell_type": "markdown",
   "metadata": {},
   "source": [
    "## Основные теоретические положения\n",
    "\n",
    "Определим понятия для оценки числа операций:\n",
    "\n",
    "$\\lambda(n)=\\lceil log_2(n) \\rceil$ - уменьшенная на 1 длина бинарной записи $n$\n",
    "\n",
    "$\\nu(n)$ - количество единиц в двоичной записи числа $n$ (вес Хемминга)\n",
    "\n",
    "### Бинарный метод $SX$\n",
    "\n",
    "Запишем $n$ в двоичной системе счисления, отбросим старший бит и заменим в этой записи каждую цифру “1” парой букв SX, а каждую цифру “0” – буквой S, после чего вычеркнем крайнюю левую пару букв SX. Результат, читаемый слева на право, превращается в правило вычисления $ х^n $, если букву “S” интерпретировать как операцию возведения в квадрат (S – square – квадрат), а букву “X ” – как операцию умножения на х.\n",
    "\n",
    "Количество операций, требуемых для возведения числа $x$ в степень $n$, для данного метода равно $\\lambda(n)+\\nu(n)-1$\n",
    "\n",
    "### Бинарный метод возведения в степень справа налево\n",
    "Представим алгоритм вычисления $x^n$:\n",
    "<ol>\n",
    "    <li>Инициализируем $N = n; Y = 1; Z = x$</li>\n",
    "    <li>Если $N$ чётно, то переходим к пункту 3, иначе к пункту 4</li>\n",
    "    <li>Сначала $N = \\lfloor N/2 \\rfloor, далее   Z = Z * Z$, затем переходим к пункту 2</li>\n",
    "    <li>Сначала $N = \\lfloor N/2 \\rfloor, далее   Y = Z * Y$</li>\n",
    "    <li>Если $N = 0$, то $Y$ - результат работы алгоритма. Иначе снова $Z = Z * Z$ и переходим к пункту 2</li>\n",
    "</ol>\n",
    "Количество операций для данного метода равно $\\lambda(n) + \\nu(n)$\n",
    "\n",
    "### Метод множителей\n",
    "Рассмотрим алгоритм метода:\n",
    "<ol>\n",
    "    <li>Представим $n$ в виде разложения $n = p * q$, где $p$ - наименьший простой множитель $n$, а $q > 1$. $x^n$ можно найти, вычислив $x^p$ и возведя эту величину в степень $q$</li>\n",
    "    <li>Если $n$ - простое, то вычислим $x^{n-1}$ и умножим его на x</li>\n",
    "    <li>При $n = 1$ - получим $x^n$ безо всяких вычислений</li>\n",
    "</ol>\n",
    "Следуя по шагам данного алгоритма можно раскладывать $p$ на любом шаге, и в итоге вычислить $x^n$ при любых натуральных $n$\n",
    "\n",
    "### Дерево степеней\n",
    "Рассмотрим алгоритм построение дерева степеней до $k$-го уровня:\n",
    "<ol>\n",
    "    <li>На нулевом уровне в дереве только один узел - $1$ - корень дерева</li>\n",
    "    <li>Далее строим $k+1$-й уровень: берём каждый узел $i$ на $k$-м уровне слева направо и присоединяем узлы $i+a_{0}, i+a_{1}, ..., i+a_{k-1}$</li>\n",
    "    <li>Если какой-то узел уде появлался раньше в дереве, то он устраняется, т.е. новый повторный узел не добавляется</li>\n",
    "</ol>\n"
   ]
  },
  {
   "cell_type": "markdown",
   "metadata": {},
   "source": [
    "## Постановка задачи\n",
    "\n",
    "Реализовать алгоритмы вычисления мономов за минимальное число операций с использованием системы компьютерной алгебры SageMath, провести анализ алгоритмов. Полученные результаты содержательно проинтерпретировать."
   ]
  },
  {
   "cell_type": "markdown",
   "metadata": {},
   "source": [
    "## Выполнение работы"
   ]
  },
  {
   "cell_type": "markdown",
   "metadata": {},
   "source": [
    "### 1. Бинарный метод \"SX\""
   ]
  },
  {
   "cell_type": "code",
   "execution_count": 3,
   "metadata": {},
   "outputs": [],
   "source": [
    "def sx_bin_method(n):\n",
    "    seq = \"\" # Храним последовательность S и X\n",
    "    bin_n = bin(n)[3:] # Бинарная запись n без старшего бита\n",
    "    # Создаем последовательность S и X из бинарной записи\n",
    "    for i in bin_n:\n",
    "        if i == '1':\n",
    "            seq += \"SX\"\n",
    "        else:\n",
    "            seq += \"S\"\n",
    "    print(\"Последовательность S и X: \", seq)\n",
    "\n",
    "    # Применяем бинарный метод SX и \n",
    "    # последовательно выводим значения x^i после каждой итерации\n",
    "    degrees = []\n",
    "    degree = 1\n",
    "    for el in seq:\n",
    "        if el == \"S\":\n",
    "            degree *= 2\n",
    "        elif el == \"X\":\n",
    "            degree += 1\n",
    "        degrees.append(degree)\n",
    "        print(x^degree, end=' ')\n",
    "\n",
    "    print(\"\\nЧисло операций: \", len(degrees))"
   ]
  },
  {
   "cell_type": "markdown",
   "metadata": {},
   "source": [
    "Приведем примеры работы при некоторых n"
   ]
  },
  {
   "cell_type": "code",
   "execution_count": 4,
   "metadata": {},
   "outputs": [
    {
     "name": "stdout",
     "output_type": "stream",
     "text": [
      "Последовательность S и X:  SSXSXSX\n",
      "x^2 x^4 x^5 x^10 x^11 x^22 x^23 \n",
      "Число операций:  7\n"
     ]
    }
   ],
   "source": [
    "# Пример работы при n=23\n",
    "sx_bin_method(23)"
   ]
  },
  {
   "cell_type": "code",
   "execution_count": 5,
   "metadata": {},
   "outputs": [
    {
     "name": "stdout",
     "output_type": "stream",
     "text": [
      "Последовательность S и X:  SSSSSX\n",
      "x^2 x^4 x^8 x^16 x^32 x^33 \n",
      "Число операций:  6\n"
     ]
    }
   ],
   "source": [
    "# Пример работы при n=33\n",
    "sx_bin_method(33)"
   ]
  },
  {
   "cell_type": "code",
   "execution_count": 6,
   "metadata": {
    "scrolled": true
   },
   "outputs": [
    {
     "name": "stdout",
     "output_type": "stream",
     "text": [
      "Последовательность S и X:  SXSSSSX\n",
      "x^2 x^3 x^6 x^12 x^24 x^48 x^49 \n",
      "Число операций:  7\n"
     ]
    }
   ],
   "source": [
    "# Пример работы при n=49\n",
    "sx_bin_method(49)"
   ]
  },
  {
   "cell_type": "markdown",
   "metadata": {},
   "source": [
    "Проверим оценку числа операций:  \n",
    "$n = 23 \\Rightarrow \\lambda(n) = \\lfloor log_{2}(n) \\rfloor = 4; \\nu(n) = 4; \\lambda(n) + \\nu(n) - 1 = 7 \\Rightarrow$ Верно<br>\n",
    "$n = 33 \\Rightarrow \\lambda(n) = \\lfloor log_{2}(n) \\rfloor = 5; \\nu(n) = 2; \\lambda(n) + \\nu(n) - 1 = 6 \\Rightarrow$ Верно<br>\n",
    "$n = 49 \\Rightarrow \\lambda(n) = \\lfloor log_{2}(n) \\rfloor = 5; \\nu(n) = 3; \\lambda(n) + \\nu(n) - 1 = 7 \\Rightarrow$ Верно<br>\n",
    "Таким образом, формула для вычисления количества операций для представленных $n$ корректна."
   ]
  },
  {
   "cell_type": "markdown",
   "metadata": {},
   "source": [
    "<b>Выводы:</b>  \n",
    "Реализован бинарный метод $SX$, проверена правильность его работы, подтвержеденная оценкой числа операций. Данный метод прост в реализации и понимании, однако при этом позволяет быстро вычислять мономы. При помощи оценки операций можно легко узнать их количество при использовании данного метода."
   ]
  },
  {
   "cell_type": "markdown",
   "metadata": {},
   "source": [
    "### 2. Бинарный метод возведения в степень справа налево"
   ]
  },
  {
   "cell_type": "code",
   "execution_count": 13,
   "metadata": {},
   "outputs": [],
   "source": [
    "# Функция реализует алгоритм из теоретического положения\n",
    "def from_right_to_left_method(n):\n",
    "    iter_counter = 0 #\n",
    "    N = n\n",
    "    Y = 1\n",
    "    Z = var('x')\n",
    "    while True:\n",
    "        if N % 2 == 0:\n",
    "            N = floor(N/2)\n",
    "            Z = Z * Z\n",
    "        else:\n",
    "            N = floor(N/2)\n",
    "            Y = Z * Y\n",
    "            if N == 0:\n",
    "                iter_counter += 1\n",
    "                break\n",
    "            else:\n",
    "                Z = Z * Z\n",
    "        iter_counter += 1\n",
    "        print(f\"i: {iter_counter} N: {N} Y: {Y} Z: {Z}\\n\") # Вывод промежуточного результата\n",
    "    print(f\"i: {iter_counter} N: {N} Y: {Y} Z: {Z}\\n\")\n",
    "    return Y"
   ]
  },
  {
   "cell_type": "markdown",
   "metadata": {},
   "source": [
    "Приведем примеры работы при некоторых n. Для каждого из них представим результат в виде таблицы."
   ]
  },
  {
   "cell_type": "code",
   "execution_count": 14,
   "metadata": {
    "scrolled": false
   },
   "outputs": [
    {
     "name": "stdout",
     "output_type": "stream",
     "text": [
      "i: 1 N: 11 Y: x Z: x^2\n",
      "\n",
      "i: 2 N: 5 Y: x^3 Z: x^4\n",
      "\n",
      "i: 3 N: 2 Y: x^7 Z: x^8\n",
      "\n",
      "i: 4 N: 1 Y: x^7 Z: x^16\n",
      "\n",
      "i: 5 N: 0 Y: x^23 Z: x^16\n",
      "\n"
     ]
    },
    {
     "data": {
      "text/plain": [
       "x^23"
      ]
     },
     "execution_count": 14,
     "metadata": {},
     "output_type": "execute_result"
    }
   ],
   "source": [
    "# Пример работы при n=23\n",
    "from_right_to_left_method(23)"
   ]
  },
  {
   "cell_type": "markdown",
   "metadata": {},
   "source": [
    "Таблица для $n$=23"
   ]
  },
  {
   "cell_type": "markdown",
   "metadata": {},
   "source": [
    "| № итерации | Значение N | Значение Y | Значение Z |\n",
    "|:----------:|:----------:|:----------:|:----------:|\n",
    "|      0     |     23     |      1     |      $x$     |\n",
    "|      1     |     11     |      $x$     |    $x^2$   |\n",
    "|      2     |      5     |      $x^3$     |     $x^4$    |\n",
    "|      3     |      2     |      $x^7$     |     $x^8$    |\n",
    "|      4     |      1     |      $x^7$     |    $x^{16}$    |\n",
    "|      5     |      0     |      $x^{23}$     |    $x^{16}$    |"
   ]
  },
  {
   "cell_type": "code",
   "execution_count": 15,
   "metadata": {},
   "outputs": [
    {
     "name": "stdout",
     "output_type": "stream",
     "text": [
      "i: 1 N: 16 Y: x Z: x^2\n",
      "\n",
      "i: 2 N: 8 Y: x Z: x^4\n",
      "\n",
      "i: 3 N: 4 Y: x Z: x^8\n",
      "\n",
      "i: 4 N: 2 Y: x Z: x^16\n",
      "\n",
      "i: 5 N: 1 Y: x Z: x^32\n",
      "\n",
      "i: 6 N: 0 Y: x^33 Z: x^32\n",
      "\n"
     ]
    },
    {
     "data": {
      "text/plain": [
       "x^33"
      ]
     },
     "execution_count": 15,
     "metadata": {},
     "output_type": "execute_result"
    }
   ],
   "source": [
    "# Пример работы при n=33\n",
    "from_right_to_left_method(33)"
   ]
  },
  {
   "cell_type": "markdown",
   "metadata": {},
   "source": [
    "Таблица для $n$=33"
   ]
  },
  {
   "cell_type": "markdown",
   "metadata": {},
   "source": [
    "| № итерации | Значение N | Значение Y | Значение Z |\n",
    "|:----------:|:----------:|:----------:|:----------:|\n",
    "|      0     |     33     |      1     |      $x$     |\n",
    "|      1     |     16     |      $x$     |    $x^2$   |\n",
    "|      2     |      8     |      $x$     |     $x^4$    |\n",
    "|      3     |      4     |      $x$     |     $x^8$    |\n",
    "|      4     |      2     |      $x$     |    $x^{16}$    |\n",
    "|      5     |      1     |      $x$     |    $x^{16}$    |\n",
    "|      6     |      0     |      $x^{33}$     |    $x^{32}$    |"
   ]
  },
  {
   "cell_type": "code",
   "execution_count": 16,
   "metadata": {
    "scrolled": true
   },
   "outputs": [
    {
     "name": "stdout",
     "output_type": "stream",
     "text": [
      "i: 1 N: 21 Y: x Z: x^2\n",
      "\n",
      "i: 2 N: 10 Y: x^3 Z: x^4\n",
      "\n",
      "i: 3 N: 5 Y: x^3 Z: x^8\n",
      "\n",
      "i: 4 N: 2 Y: x^11 Z: x^16\n",
      "\n",
      "i: 5 N: 1 Y: x^11 Z: x^32\n",
      "\n",
      "i: 6 N: 0 Y: x^43 Z: x^32\n",
      "\n"
     ]
    },
    {
     "data": {
      "text/plain": [
       "x^43"
      ]
     },
     "execution_count": 16,
     "metadata": {},
     "output_type": "execute_result"
    }
   ],
   "source": [
    "# Пример работы при n=49\n",
    "from_right_to_left_method(43)"
   ]
  },
  {
   "cell_type": "markdown",
   "metadata": {},
   "source": [
    "Таблица для $n$=49"
   ]
  },
  {
   "cell_type": "markdown",
   "metadata": {},
   "source": [
    "| № итерации | Значение N | Значение Y | Значение Z |\n",
    "|:----------:|:----------:|:----------:|:----------:|\n",
    "|      0     |     49     |      1     |      $x$     |\n",
    "|      1     |     21     |      $x$     |    $x^2$   |\n",
    "|      2     |      10     |      $x^3$     |     $x^4$    |\n",
    "|      3     |      5     |      $x^3$     |     $x^8$    |\n",
    "|      4     |      2     |      $x^{11}$     |    $x^{16}$    |\n",
    "|      5     |      1     |      $x^{11}$     |    $x^{32}$    |\n",
    "|      6     |      0     |      $x^{43}$     |    $x^{32}$    |"
   ]
  },
  {
   "cell_type": "markdown",
   "metadata": {},
   "source": [
    "Проверим оценку числа операций:  \n",
    "$n = 23 \\Rightarrow \\lambda(n) = \\lfloor log_{2}(n) \\rfloor = 4; \\nu(n) = 4; \\lambda(n) + \\nu(n) = 8 \\Rightarrow$ Верно<br>\n",
    "$n = 33 \\Rightarrow \\lambda(n) = \\lfloor log_{2}(n) \\rfloor = 5; \\nu(n) = 2; \\lambda(n) + \\nu(n) = 7 \\Rightarrow$ Верно<br>\n",
    "$n = 49 \\Rightarrow \\lambda(n) = \\lfloor log_{2}(n) \\rfloor = 5; \\nu(n) = 3; \\lambda(n) + \\nu(n) = 8 \\Rightarrow$ Верно<br>\n",
    "Таким образом, формула для вычисления количества операций для представленных $n$ корректна."
   ]
  },
  {
   "cell_type": "markdown",
   "metadata": {},
   "source": [
    "<b>Выводы:</b>  \n",
    "Реализован бинарный метод возведения справа налево, проверена правильность его работы, подтвержеденная оценкой числа операций. Данный метод менее прост в реализации и понимании, чем бинарынй метод $SX$, и при этом требуется на одну операцию больше для вычисления мономов. При помощи оценки операций можно легко узнать их количество при использовании данного метода. В общем случае после завершения алгоритма значение $Z$ равно $x^{2^{k-2}}$, где $k$ - количество итераций метода."
   ]
  },
  {
   "cell_type": "markdown",
   "metadata": {},
   "source": [
    "### 3. Сравнение бинарного метода $SX$  и метода возведение справа налево"
   ]
  },
  {
   "cell_type": "markdown",
   "metadata": {},
   "source": [
    "Опираясь на оценку числа операций, можно сказать, что количество операций в методе $SX$ меньше, чем в методе возведения справа налево. В методе $SX$ число операций равно $\\lambda(n)+\\nu(n)-1$, а в методе возведения справа налево равно $\\lambda(n)+\\nu(n)$ или же можно оценить как $\\lfloor \\log_{2}(n) \\rfloor + 2$."
   ]
  },
  {
   "cell_type": "markdown",
   "metadata": {},
   "source": [
    "<b>Выводы:</b>  \n",
    "Исходя из вышесказанного можно заключить, что бинарный метод $SX$ выгоднее метода возведения справа налево."
   ]
  },
  {
   "cell_type": "markdown",
   "metadata": {},
   "source": [
    "### 4. Метод множителей"
   ]
  },
  {
   "cell_type": "markdown",
   "metadata": {},
   "source": [
    "Выполним метод множителей вручную для некоторых n по алгоритму из теоретического положения."
   ]
  },
  {
   "cell_type": "markdown",
   "metadata": {},
   "source": [
    "При $n$=23"
   ]
  },
  {
   "cell_type": "markdown",
   "metadata": {},
   "source": [
    "$x^{23} = x*x^{22}$<br>\n",
    "$x^{22} = (x^{2})^{11}$<br>\n",
    "$(x^{2})^{11} = x*(x^{2})^{10}$<br>\n",
    "$(x^{2})^{10} = ((x^{2})^{2})^5$<br>\n",
    "Получим нужные значения.<br>\n",
    "$x^2 \\rightarrow x, x^2$ (1 операция)<br>\n",
    "$(x^2)^2 \\rightarrow x^2, (x^2)^2$ (+ 1 операция)<br>\n",
    "$(x^{2})^{10} = (((x^2))^2)^5 \\rightarrow ((x^2))^2, (((x^2))^2)^2, (((x^2))^2)^4, (((x^3))^2)^5$ (+ 3 операции)<br>\n",
    "$x^{22} = (x^{2})^{11} \\rightarrow (x^{2})^{10}, (x^{2})^{11}$ (+ 1 операция)<br>\n",
    "$x^{23} = x*(x^{2})^{11}$ (+ 1 операция)<br>\n",
    "Итого 7 операций."
   ]
  },
  {
   "cell_type": "markdown",
   "metadata": {},
   "source": [
    "При $n$=33"
   ]
  },
  {
   "cell_type": "markdown",
   "metadata": {},
   "source": [
    "$x^{33} = (x^{3})^{11}$<br>\n",
    "$(x^{3})^{11} = x^{3} * (x^{3})^{10}$<br>\n",
    "$(x^{3})^{10} = ((x^{3})^{2})^{5}$<br>\n",
    "Получим данные значения.<br>\n",
    "$x^3 \\rightarrow x, x^2, x^3$ (2 операции)<br>\n",
    "$(x^3)^2 \\rightarrow x^3, (x^3)^2$ (+ 1 операция)<br>\n",
    "$(x^{3})^{10} = (((x^3))^2)^5 \\rightarrow ((x^3))^2, (((x^3))^2)^2, (((x^3))^2)^4, (((x^3))^2)^5$ (+ 3 операции)<br>\n",
    "$x^{33} = (x^{3})^{11} \\rightarrow (x^{3})^{10}, (x^{3})^{11}$ (+1 операция)<br>\n",
    "Итого 7 операций. Здесь видно, что метод множителей хуже метода $SX$, т.к. там для $n=33$ было 6 операций."
   ]
  },
  {
   "cell_type": "markdown",
   "metadata": {},
   "source": [
    "При $n$=49"
   ]
  },
  {
   "cell_type": "markdown",
   "metadata": {},
   "source": [
    "$x^{49} = (x^{7})^{7}$<br>\n",
    "$(x^{7})^{7} = x * (x^{7})^{6}$<br>\n",
    "$(x^{7})^{6} = ((x^{7})^{2})^{3}$<br>\n",
    "Получим данные значения.<br>\n",
    "$x^7 \\rightarrow x, x^2, x^3, x^4, x^7$ (4 операции)<br>\n",
    "$(x^7)^2 \\rightarrow x^7, (x^7)^2$ (+ 1 операция)<br>\n",
    "$((x^{7})^{2})^3 = (x^7)^6 \\rightarrow ((x^7)^2), ((x^7)^2)^2, ((x^7)^2)^3$ (+ 2 операции)<br>\n",
    "$x^49 = (x^7)^7 \\rightarrow (x^7)^6, (x^7)^7$ (+ 1 операция)<br>\n",
    "Итого 8 операций. Здесь видно, что метод множителей хуже метода $SX$, т.к. там для $n=49$ было 7 операций."
   ]
  },
  {
   "cell_type": "markdown",
   "metadata": {},
   "source": [
    "Рассмотрим $n$=15 , при котором метод множителей быстрее бинарного метода $SX$."
   ]
  },
  {
   "cell_type": "markdown",
   "metadata": {},
   "source": [
    "$x^{15} = (x^3)^5$<br>\n",
    "$(x^3)^5 = x^3 * (x^3)^4$<br>\n",
    "Получим данные значения.<br>\n",
    "$x^3 \\rightarrow x, x^2, x^3$ (2 операции)<br>\n",
    "$(x^3)^4 \\rightarrow x^3, (x^3)^2, (x^3)^4$ (+ 2 операции)<br>\n",
    "$(x^3)^5 = x^3 * (x^3)^4 \\rightarrow (x^3)^4, (x^3)^5$ (+ 1 операция)<br>"
   ]
  },
  {
   "cell_type": "code",
   "execution_count": 49,
   "metadata": {},
   "outputs": [
    {
     "name": "stdout",
     "output_type": "stream",
     "text": [
      "Последовательность S и X:  SXSXSX\n",
      "x^2 x^3 x^6 x^7 x^14 x^15 \n",
      "Число операций:  6\n"
     ]
    }
   ],
   "source": [
    "sx_bin_method(15)"
   ]
  },
  {
   "cell_type": "markdown",
   "metadata": {},
   "source": [
    "В итоге 5 операций против 6 у бинарного метода $SX$"
   ]
  },
  {
   "cell_type": "markdown",
   "metadata": {},
   "source": [
    "<b>Выводы:</b>  \n",
    "Рассмотрен метод множителей для нескольких n. Его плюсы в простоте идеи и возможности прогнать алгоритм вручную. Также он бывает быстрее других методов. Его минусы в сложности программной реализации и в том, что зачастую требует больше операций, чем другие методы."
   ]
  },
  {
   "cell_type": "markdown",
   "metadata": {},
   "source": [
    "### 5. Построение дерева степеней"
   ]
  },
  {
   "cell_type": "markdown",
   "metadata": {},
   "source": [
    "Представим алгоритм построения \"дерева степеней\" (<i>create_degrees_tree</i>) до заданного уровня $k$. Дерево хранится в структуре, основанной на словаре вида {узел: спискок родителей узла}. Выполняаем перебор уровней от 0 до $k$, и если нового возможного элемента нет в дереве, то вставляем его на следующий уровень. Вспомогательная функция <i>get_path_to_node</i> строит цепочку от вершины до рассматриваемого узла."
   ]
  },
  {
   "cell_type": "code",
   "execution_count": 28,
   "metadata": {},
   "outputs": [],
   "source": [
    "def get_path_to_node(tree, node):\n",
    "    path = [node]\n",
    "    while node != 1:\n",
    "        node = tree[node][0]\n",
    "        path.append(node)\n",
    "    return path[::-1]\n",
    "\n",
    "def create_degrees_tree(k):\n",
    "    tree = {1:[]}\n",
    "    cur_lvl_nodes = [1]\n",
    "    for lvl in range(k):\n",
    "        next_lvl_nodes = []\n",
    "        for parent in cur_lvl_nodes:\n",
    "            for node_in_path in get_path_to_node(tree, parent):\n",
    "                probably_child = parent + node_in_path\n",
    "                if probably_child not in tree:\n",
    "                    tree[probably_child] = [parent]\n",
    "                    next_lvl_nodes.append(probably_child)\n",
    "        cur_lvl_nodes = next_lvl_nodes\n",
    "    return tree"
   ]
  },
  {
   "cell_type": "markdown",
   "metadata": {},
   "source": [
    "Функция <i>get_edges_to_node</i> создает список кортежей-ребер от вершины до заданного узла"
   ]
  },
  {
   "cell_type": "code",
   "execution_count": 36,
   "metadata": {},
   "outputs": [],
   "source": [
    "def get_edges_to_node(tree, node):\n",
    "    path = get_path_to_node(tree, node)\n",
    "    edges = []\n",
    "    for i in range(len(path)-1):\n",
    "        edges.append((path[i], path[i+1]))\n",
    "    return edges"
   ]
  },
  {
   "cell_type": "markdown",
   "metadata": {},
   "source": [
    "Функция <i>print_degrees_tree</i> выводит дерево в виде графа и выделяет на рисунке ребра пути до заданного $n$"
   ]
  },
  {
   "cell_type": "code",
   "execution_count": 37,
   "metadata": {},
   "outputs": [],
   "source": [
    "def print_degrees_tree(tree, node=None):\n",
    "    printable_graph = Graph(tree)\n",
    "    if node not in tree:\n",
    "        node = 1\n",
    "    graph_plot = printable_graph.plot(layout = 'tree', tree_root = 1, vertex_color = 'white', by_component = True,\n",
    "                         edge_colors={(0, 1, 0): get_edges_to_node(tree, node)})\n",
    "    graph_plot.show()"
   ]
  },
  {
   "cell_type": "markdown",
   "metadata": {},
   "source": [
    "Представим работу метода на некоторых $n$"
   ]
  },
  {
   "cell_type": "code",
   "execution_count": 38,
   "metadata": {
    "scrolled": true
   },
   "outputs": [
    {
     "data": {
      "image/png": "[encoded data removed]",
      "text/plain": [
       "Graphics object consisting of 72 graphics primitives"
      ]
     },
     "metadata": {},
     "output_type": "display_data"
    }
   ],
   "source": [
    "# При n=23 до 6 уровня\n",
    "print_degrees_tree(create_degrees_tree(6), 23)"
   ]
  },
  {
   "cell_type": "code",
   "execution_count": 39,
   "metadata": {},
   "outputs": [
    {
     "data": {
      "image/png": "[encoded data removed]",
      "text/plain": [
       "Graphics object consisting of 72 graphics primitives"
      ]
     },
     "metadata": {},
     "output_type": "display_data"
    }
   ],
   "source": [
    "# При n=33 до 6 уровня\n",
    "print_degrees_tree(create_degrees_tree(6), 33)"
   ]
  },
  {
   "cell_type": "code",
   "execution_count": 40,
   "metadata": {
    "scrolled": true
   },
   "outputs": [
    {
     "data": {
      "image/png": "[encoded data removed]",
      "text/plain": [
       "Graphics object consisting of 124 graphics primitives"
      ]
     },
     "metadata": {},
     "output_type": "display_data"
    }
   ],
   "source": [
    "# При n=49 до 7 уровня\n",
    "print_degrees_tree(create_degrees_tree(7), 49)"
   ]
  },
  {
   "cell_type": "markdown",
   "metadata": {},
   "source": [
    "Таким образом, например для $n$=49"
   ]
  },
  {
   "cell_type": "code",
   "execution_count": 41,
   "metadata": {},
   "outputs": [
    {
     "data": {
      "text/plain": [
       "[1, 2, 3, 6, 12, 24, 48, 49]"
      ]
     },
     "execution_count": 41,
     "metadata": {},
     "output_type": "execute_result"
    }
   ],
   "source": [
    "get_path_to_node(create_degrees_tree(7), 49)"
   ]
  },
  {
   "cell_type": "markdown",
   "metadata": {},
   "source": [
    "Получаем цепочку $x$, $x^2$, $x^3$, $x^6$, $x^{12}$, $x^{24}$, $x^{48}$, $x^{49}$"
   ]
  },
  {
   "cell_type": "markdown",
   "metadata": {},
   "source": [
    "Теперь сравним данный метод с бинарным методом $SX$. Для этого создадим функцию <i>get_amount_of_operations_of_bin_SX_method</i>, которая возвращает количество операций в бинарном методе $SX$, а также функцию <i>get_amount_of_operations_of_degrees_tree</i>, которая возвращает количество операций в \"дереве степеней\""
   ]
  },
  {
   "cell_type": "code",
   "execution_count": 46,
   "metadata": {},
   "outputs": [],
   "source": [
    "def get_amount_of_operations_of_bin_SX_method(n):\n",
    "    return floor(log(n, 2)) + bin(n)[2:].count('1') - 1\n",
    "\n",
    "def get_amount_of_operations_of_degrees_tree(n):\n",
    "    ops_counter = 0\n",
    "    founded_flag = False\n",
    "    tree = {1:[]}\n",
    "    cur_lvl_nodes = [1]\n",
    "    while not founded_flag:\n",
    "        ops_counter += 1\n",
    "        next_lvl_nodes = []\n",
    "        for parent in cur_lvl_nodes:\n",
    "            for node_in_path in get_path_to_node(tree, parent):\n",
    "                probably_child = parent + node_in_path\n",
    "                if probably_child == n:\n",
    "                    founded_flag = True\n",
    "                if probably_child not in tree:\n",
    "                    tree[probably_child] = [parent]\n",
    "                    next_lvl_nodes.append(probably_child)\n",
    "        cur_lvl_nodes = next_lvl_nodes\n",
    "    return ops_counter"
   ]
  },
  {
   "cell_type": "markdown",
   "metadata": {},
   "source": [
    "Проверим, что дерево степеней не хуже бинарного метода $SX$ в интервале $2 \\leq n \\leq  3000$"
   ]
  },
  {
   "cell_type": "code",
   "execution_count": 48,
   "metadata": {
    "scrolled": true
   },
   "outputs": [
    {
     "name": "stdout",
     "output_type": "stream",
     "text": [
      "Предположение верно\n"
     ]
    }
   ],
   "source": [
    "degrees_tree_is_better = True\n",
    "\n",
    "for n in range(2, 3000):\n",
    "    if get_amount_of_operations_of_bin_SX_method(n) < \\\n",
    "       get_amount_of_operations_of_degrees_tree(n):\n",
    "        degrees_tree_is_better = False\n",
    "        break\n",
    "        \n",
    "if degrees_tree_is_better:\n",
    "    print(\"Предположение верно\")\n",
    "else:\n",
    "    print(\"Суждение ошибочно\")"
   ]
  },
  {
   "cell_type": "markdown",
   "metadata": {},
   "source": [
    "<b>Выводы</b>  \n",
    "Реализован алгоритм \"дерева степеней\", дерево отображено средствами *SageMath* до заданного уровня $k$, выделен цветом путь от вершины дерева до заданного числа $n$. При сравнении определено, что метод \"дерева степеней\" лучше бинарного метода $SX$, а значит и лучше метода возведения справа налево. Также дерево степеней лучше метода множителей относительно использованного количества умножений."
   ]
  },
  {
   "cell_type": "markdown",
   "metadata": {},
   "source": [
    "## Выводы\n",
    "\n"
   ]
  },
  {
   "cell_type": "markdown",
   "metadata": {},
   "source": [
    "Сформированы знания о работе алгоритмах вычисления одночленов за\n",
    "минимальное число операций, привит навык использования систем компьютерной математики для реализации алгоритмов. Реализованы алгоритмы вычисления мономов за минимальное число операций с использованием системы компьютерной алгебры SageMath, проведен анализ алгоритмов. Полученные результаты содержательно проинтерпретированы."
   ]
  }
 ],
 "metadata": {
  "kernelspec": {
   "display_name": "SageMath 9.5",
   "language": "sage",
   "name": "sagemath"
  },
  "language_info": {
   "codemirror_mode": {
    "name": "ipython",
    "version": 3
   },
   "file_extension": ".py",
   "mimetype": "text/x-python",
   "name": "python",
   "nbconvert_exporter": "python",
   "pygments_lexer": "ipython3",
   "version": "3.10.6"
  }
 },
 "nbformat": 4,
 "nbformat_minor": 4
}
