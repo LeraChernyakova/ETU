{
 "cells": [
  {
   "cell_type": "markdown",
   "metadata": {},
   "source": [
    "# Практическая работа №2: Исследование алгоритмов формирования аддитивных цепочек\n",
    "\n",
    "Выполнил студент гр. 1304 Заика Тимофей. Вариант №35."
   ]
  },
  {
   "cell_type": "markdown",
   "metadata": {},
   "source": [
    "## Цель работы\n",
    "\n",
    "Формирование представления о аддитивных цепочках, выработать умение составлять и применять алгоритмы для нахождения минимальных аддитивных цепочек для заданного числа, привить навык использования систем компьютерной математики для реализации алгоритмов."
   ]
  },
  {
   "cell_type": "markdown",
   "metadata": {},
   "source": [
    "## Основные теоретические положения\n",
    "\n",
    "### Понятие аддитивной цепочки\n",
    "\n",
    "Аддитивной цепочкой натурального числа $n$ называется последовательность натуральных чисел<br> $$ 1=a_0,a_1,a_2,\\dots,a_m=n,\\quad   a_i=a_j+a_k, \\quad \\forall k \\leq j < i$$ Число $r$ называется длиной цепочки.<br>Длина кратчайшей цепочки для заданного $n$ обозначается $l(n) = r$<br>\n",
    "Цепочка называется звёздной, если каждый каждый её элемент получается следующим образом:<br>\n",
    "$$a_i=a_{i-1}+a_k\\quad \\forall k<i$$\n",
    "Справедливы некоторые оценки для $l(n)$:<br>\n",
    "$$l(n) \\leq \\lambda(n) +\\nu(n) - 1$$\n",
    "$$l(n) \\geq \\lceil \\log_{2}(n) \\rceil$$\n",
    "\n",
    "### Алгоритм Брауэра\n",
    "Для $n \\in \\mathbb{N}$ при заданном $k \\in \\mathbb{N}$ можно построить цепочку Брауэра с помощью рекуррентной формулы:<br>\n",
    "$$ B_{k}(n) =\n",
    "  \\begin{cases}\n",
    "    1,2,3,\\dots,2^{k} - 1       & \\quad n < 2^{k}\\\\\n",
    "    B_{k}(q),2q,4q,8q,\\dots,2^{k}q,n  & \\quad n \\ge 2^{k}, q = \\lfloor\\frac{n}{2^{k}}\\rfloor \\\\\n",
    "  \\end{cases}\n",
    "$$\n",
    "Данная цепочка будет иметь длину:\n",
    "$$ l_{B}(n) = j(k + 1) + 2^{k} - 2, $$ при условии, что $jk \\le \\lambda(n) \\lt (j + 1)k$\n",
    "\n",
    "Длина будет минимизирована  для больших $n$, если положить, что $k = \\lambda\\lambda(n) - 2\\lambda\\lambda\\lambda(n)$\n",
    "\n",
    "Сам алгоритм:\n",
    "\n",
    "1. Задается некий фиксируемый $k$ для рассматривемого $n$. Выполняется вычисление \"вспомогательных чисел\":\n",
    "$$d = 2^{k}, q_1 = \\left[\\frac{n}{d}\\right], \\quad r_1 = n \\, \\mathrm{mod} \\, d \\Rightarrow n = q_1 d + r_1 \\quad(0 \\le r_1 \\lt d)$$\n",
    "$$q_2 = \\left[\\frac{q_1}{d}\\right], \\quad r_2 = q_1 \\, \\mathrm{mod} \\, d \\Rightarrow q_1 = q_2 d + r_2 \\quad(0 \\le r_2 \\lt d)$$\n",
    "\n",
    "2. Данная процедура продолжается до тех пор, пока не появится такое $q_s \\lt d$. Следовательно $q_{s-1} = q_s d + r_s$\n",
    "\n",
    "3. Таким образом, n имеет вид:\n",
    "$$n = 2^{k}q_1 + r_1 = 2^{k}\\left(2^{k}q_2 + r_2\\right) + r_1 = \\dots = \\\\ 2^{k}\\left(2^{k} \\left(\\dots\\left(2^{k}q_s + r_s\\right)\\dots\\right) + r_2\\right) + r_1 $$\n",
    "\n",
    "### Алгоритм дробления векторов\n",
    "Вектором индексов называется последовательность $r_1,r_2,\\dots,r_{m-1}$, где $$r_i=\\{z:1\\leq z\\leq i\\}, \\quad a_i=a_{i-1}+a_{r_{i-1}},\\quad2\\leq i\\leq m-1.$$\n",
    "Зададим два вектора индексов $r=\\{r_i\\}_{i=1}^{m-1}$ и $\\widetilde r=\\{\\widetilde r_i\\}_{i=1}^{m-1}$. Тогда $r \\succ \\widetilde r$, если $r_1=\\widetilde r_1,r_2=\\widetilde r_2,\\dots,r_{m-1}=\\widetilde r_{m-1}$, а $r_m>\\widetilde r_m$.<br>\n",
    "\n",
    "Пусть задано $n \\in \\mathbb{N}$. Необходимо найти минимальную звездную цепочку, такую , что $a_m = n$.\n",
    "\n",
    "Рассмотрим вектор индексов вида $$\\left\\{r_1,r_2,r_3,\\dots,r_q\\right\\} \\cup \\left\\{\\rho_{q + 1},\\rho_{q + 2},\\rho_{q + 3},\\dots,\\rho_{m}\\right\\} $$ \n",
    "Назовем левую часть фиксированной, а правую - меняющейся.\n",
    "\n",
    "$$a_{min} = a_{q+1} + m - q, \\quad\\text{при} \\left\\{r_1,r_2,r_3,\\dots,r_q\\right\\} \\cup \\left\\{1,1,1,\\dots,1\\right\\} \\\\ \n",
    "a_{max} = a_{q+1} \\cdot 2^{m - q}, \\quad\\text{при} \\left\\{r_1,r_2,r_3,\\dots,r_q\\right\\} \\cup \\left\\{q + 1,q + 2,q + 3,\\dots,m\\right\\}$$\n",
    "\n",
    "Сам алгоритм:\n",
    "1. Запускаем внешний цикл по длинам цепочек: $\\underline{l}(n) \\le m \\le \\overline{l}(n)$.<br>\n",
    "    Выбираем число $q \\in \\mathbb{N}$. Пусть $q = \\frac{m}{2}$\n",
    "2. Запускаем внутренний цекл перебора всех $\\left\\{r_1,r_2,r_3,\\dots,r_q\\right\\}$ ($q!$ шагов). <br>\n",
    "    На каждом шаге при фиксированной части вычисляем $a_{min}$ и $a_{max}$<br>\n",
    "    1) Если $a_m = n$ - задача решена<br>\n",
    "    2) Если $n \\notin \\left[a_{min},a_{max}\\right]$, то переходим к следующему набору $\\left\\{r_1,r_2,r_3,\\dots,r_q\\right\\}$<br>\n",
    "    3) Если $n \\in \\left[a_{min},a_{max}\\right]$, то организуем внутренний цикл перебора меняющейся части $\\left\\{\\rho_{q + 1},\\rho_{q + 2},\\rho_{q + 3},\\dots,\\rho_{m}\\right\\}$. Таких наборов $\\frac{m!}{q!}$ штук:<br>\n",
    "    3.1) Если обнаруживается $a_m = n$ - задача решена.<br>\n",
    "    3.2) Если в цикле таких векторов не оказалось, то переходим к следующей (по введенной упорядоченности) фиксированной части $\\left\\{r_1,r_2,r_3,\\dots,r_q\\right\\}$\n",
    "3. Если все наборы фиксированной длины исчерпаны, то увеличиваем их длину во внешнем цикле.\n",
    "\n",
    "### Гипотеза Шольца-Брауэра\n",
    "Гипотеза заключается в следующем: \n",
    "$$l(2^{n} - 1) \\le l(n) + n - 1$$\n",
    "1. Гипотеза доказана для звездных цепочек: $l^{*}(2^{n} - 1) \\le l^{*}(n) + n - 1$\n",
    "2. Гипотеза справедлива для всех $n \\lt 5784689$\n",
    "3. Равенство выполняется для всех $1 \\le n \\le 64$"
   ]
  },
  {
   "cell_type": "markdown",
   "metadata": {},
   "source": [
    "## Постановка задачи\n",
    "\n",
    "Реализовать точные и приближенные алгоритмы нахождения минимальных аддитвных цепочек с использованием системы компьютерной математики <i>SageMath</i>, провести анализ алгоритмов. Полученные результаты содержательно проинтерпертировать."
   ]
  },
  {
   "cell_type": "markdown",
   "metadata": {},
   "source": [
    "## Выполнение работы"
   ]
  },
  {
   "cell_type": "markdown",
   "metadata": {},
   "source": [
    "### 1. Алгоритм Брауэра"
   ]
  },
  {
   "cell_type": "markdown",
   "metadata": {},
   "source": [
    "Создадим функцию brauer_algorythm.<br>\n",
    "На вход принимает число $n$, для которого необходимо найти приближенную аддитивную цепочку, и параметр $k$.<br>\n",
    "Возвращает кортеж, первый элементо которого массив вспомогательных чисел, а второй - массив с элементами аддитивной цепочки.<br>"
   ]
  },
  {
   "cell_type": "code",
   "execution_count": 42,
   "metadata": {},
   "outputs": [],
   "source": [
    "def brauer_algorythm(n, k):\n",
    "    d = pow(2, k)\n",
    "    r_array = list()\n",
    "    q_array = list()\n",
    "    q_current = n\n",
    "    \n",
    "    while q_current >= d:\n",
    "        q_tmp = q_current // d\n",
    "        q_array.append(q_tmp)\n",
    "        r_tmp = q_current % d\n",
    "        r_array.append(r_tmp)\n",
    "        q_current = q_tmp\n",
    "        \n",
    "    additive_chain = list()\n",
    "    helping_numbers = list()\n",
    "    \n",
    "    for i in range(1, d):\n",
    "        helping_numbers.append(i)\n",
    "    \n",
    "    part_of_chain = q_array[len(q_array) - 1]\n",
    "    \n",
    "    for i in range(len(q_array) - 1, -1, -1):\n",
    "        for j in range(k):\n",
    "            part_of_chain *= 2\n",
    "            additive_chain.append(part_of_chain)\n",
    "        part_of_chain += r_array[i]\n",
    "        if r_array[i] != 0:\n",
    "            additive_chain.append(part_of_chain)\n",
    "            \n",
    "    while additive_chain[0] < d:\n",
    "        additive_chain.pop(0)\n",
    "            \n",
    "    return (helping_numbers, additive_chain)"
   ]
  },
  {
   "cell_type": "markdown",
   "metadata": {},
   "source": [
    "Создадим функции для печати результата работы алгоритма, а также для его сравнения с минимальными аддитивными цепочками в виде таблицы."
   ]
  },
  {
   "cell_type": "code",
   "execution_count": 43,
   "metadata": {},
   "outputs": [],
   "source": [
    "def print_result_of_brauer(result):\n",
    "    helping_numbers, additive_chain = result[0], result[1]\n",
    "    print(\"Вспомогательные числа: \", helping_numbers)\n",
    "    print(\"Аддитивная цепочка: \", additive_chain)\n",
    "    print(\"Длина аддитивной цепочки: \", len(additive_chain), \"\\n\")\n",
    "    \n",
    "def print_compare_brauer_vs_min_chains_in_table(array_of_n, min_chains):\n",
    "    print(\"| n | k | Длина цепочки Брауэра | Аддитивная цепочка Брауэера | Длина минимальной цепочки | Минимальная цепочка |\")\n",
    "    print('|---|---|-----------------------|-----------------------------|---------------------------|---------------------|')\n",
    "    for n in array_of_n:\n",
    "        for k in range(2, 5):\n",
    "            result = brauer_algorythm(n, k)\n",
    "            additive_chain = result[0]\n",
    "            additive_chain += result[1]\n",
    "            print('|', n, '|', k,' |', len(additive_chain), '|', additive_chain, '|', len(min_chains[n]), '|', min_chains[n], '|')"
   ]
  },
  {
   "cell_type": "markdown",
   "metadata": {},
   "source": [
    "Зададим произвольные $n$ и минимальные аддитивные цепочки для них."
   ]
  },
  {
   "cell_type": "code",
   "execution_count": 44,
   "metadata": {},
   "outputs": [],
   "source": [
    "array_of_n = [232,511,723,1024,1345]\n",
    "min_chains = {\n",
    "    232: [1,2,3,6,7,14,28,29,58,116,232],\n",
    "    511: [1,2,3,6,12,15,30,60,120,240,255,510,511],\n",
    "    723: [1,2,3,5,10,20,40,45,90,180,360,720,723],\n",
    "    1024: [1,2,4,8,16,32,64,128,256,512,1024],\n",
    "    1345: [1,2,4,5,10,20,21,42,84,168,336,672,1344,1345]\n",
    "}"
   ]
  },
  {
   "cell_type": "markdown",
   "metadata": {},
   "source": [
    "Протестируем алгоритм на различных $n$ и $k$:"
   ]
  },
  {
   "cell_type": "code",
   "execution_count": 45,
   "metadata": {
    "scrolled": true
   },
   "outputs": [
    {
     "name": "stdout",
     "output_type": "stream",
     "text": [
      "n = 232, k = 2\n",
      "Вспомогательные числа:  [1, 2, 3]\n",
      "Аддитивная цепочка:  [6, 12, 14, 28, 56, 58, 116, 232]\n",
      "Длина аддитивной цепочки:  8 \n",
      "\n",
      "n = 232, k = 3\n",
      "Вспомогательные числа:  [1, 2, 3, 4, 5, 6, 7]\n",
      "Аддитивная цепочка:  [12, 24, 29, 58, 116, 232]\n",
      "Длина аддитивной цепочки:  6 \n",
      "\n",
      "n = 232, k = 4\n",
      "Вспомогательные числа:  [1, 2, 3, 4, 5, 6, 7, 8, 9, 10, 11, 12, 13, 14, 15]\n",
      "Аддитивная цепочка:  [28, 56, 112, 224, 232]\n",
      "Длина аддитивной цепочки:  5 \n",
      "\n",
      "n = 511, k = 2\n",
      "Вспомогательные числа:  [1, 2, 3]\n",
      "Аддитивная цепочка:  [4, 7, 14, 28, 31, 62, 124, 127, 254, 508, 511]\n",
      "Длина аддитивной цепочки:  11 \n",
      "\n",
      "n = 511, k = 3\n",
      "Вспомогательные числа:  [1, 2, 3, 4, 5, 6, 7]\n",
      "Аддитивная цепочка:  [14, 28, 56, 63, 126, 252, 504, 511]\n",
      "Длина аддитивной цепочки:  8 \n",
      "\n",
      "n = 511, k = 4\n",
      "Вспомогательные числа:  [1, 2, 3, 4, 5, 6, 7, 8, 9, 10, 11, 12, 13, 14, 15]\n",
      "Аддитивная цепочка:  [16, 31, 62, 124, 248, 496, 511]\n",
      "Длина аддитивной цепочки:  7 \n",
      "\n",
      "n = 723, k = 2\n",
      "Вспомогательные числа:  [1, 2, 3]\n",
      "Аддитивная цепочка:  [4, 8, 11, 22, 44, 45, 90, 180, 360, 720, 723]\n",
      "Длина аддитивной цепочки:  11 \n",
      "\n",
      "n = 723, k = 3\n",
      "Вспомогательные числа:  [1, 2, 3, 4, 5, 6, 7]\n",
      "Аддитивная цепочка:  [8, 11, 22, 44, 88, 90, 180, 360, 720, 723]\n",
      "Длина аддитивной цепочки:  10 \n",
      "\n",
      "n = 723, k = 4\n",
      "Вспомогательные числа:  [1, 2, 3, 4, 5, 6, 7, 8, 9, 10, 11, 12, 13, 14, 15]\n",
      "Аддитивная цепочка:  [16, 32, 45, 90, 180, 360, 720, 723]\n",
      "Длина аддитивной цепочки:  8 \n",
      "\n",
      "n = 1024, k = 2\n",
      "Вспомогательные числа:  [1, 2, 3]\n",
      "Аддитивная цепочка:  [4, 8, 16, 32, 64, 128, 256, 512, 1024]\n",
      "Длина аддитивной цепочки:  9 \n",
      "\n",
      "n = 1024, k = 3\n",
      "Вспомогательные числа:  [1, 2, 3, 4, 5, 6, 7]\n",
      "Аддитивная цепочка:  [8, 16, 32, 64, 128, 256, 512, 1024]\n",
      "Длина аддитивной цепочки:  8 \n",
      "\n",
      "n = 1024, k = 4\n",
      "Вспомогательные числа:  [1, 2, 3, 4, 5, 6, 7, 8, 9, 10, 11, 12, 13, 14, 15]\n",
      "Аддитивная цепочка:  [16, 32, 64, 128, 256, 512, 1024]\n",
      "Длина аддитивной цепочки:  7 \n",
      "\n",
      "n = 1345, k = 2\n",
      "Вспомогательные числа:  [1, 2, 3]\n",
      "Аддитивная цепочка:  [4, 5, 10, 20, 21, 42, 84, 168, 336, 672, 1344, 1345]\n",
      "Длина аддитивной цепочки:  12 \n",
      "\n",
      "n = 1345, k = 3\n",
      "Вспомогательные числа:  [1, 2, 3, 4, 5, 6, 7]\n",
      "Аддитивная цепочка:  [8, 16, 21, 42, 84, 168, 336, 672, 1344, 1345]\n",
      "Длина аддитивной цепочки:  10 \n",
      "\n",
      "n = 1345, k = 4\n",
      "Вспомогательные числа:  [1, 2, 3, 4, 5, 6, 7, 8, 9, 10, 11, 12, 13, 14, 15]\n",
      "Аддитивная цепочка:  [20, 40, 80, 84, 168, 336, 672, 1344, 1345]\n",
      "Длина аддитивной цепочки:  9 \n",
      "\n"
     ]
    }
   ],
   "source": [
    "for n in array_of_n:\n",
    "    for k in range(2, 5):\n",
    "        print(f\"n = {n}, k = {k}\")\n",
    "        print_result_of_brauer(brauer_algorythm(n, k))"
   ]
  },
  {
   "cell_type": "markdown",
   "metadata": {},
   "source": [
    "Приведем таблицу для разлиных $n$ и $k$ и сравним результат работы алгоритма с минимальными аддитивными цепочками для заданных $n$:"
   ]
  },
  {
   "cell_type": "markdown",
   "metadata": {},
   "source": [
    "| n | k | Длина цепочки Брауэра | Аддитивная цепочка Брауэера | Длина минимальной цепочки | Минимальная цепочка |\n",
    "|---|---|-----------------------|-----------------------------|---------------------------|---------------------|\n",
    "| 232 | 2  | 11 | [1, 2, 3, 6, 12, 14, 28, 56, 58, 116, 232] | 11 | [1, 2, 3, 6, 7, 14, 28, 29, 58, 116, 232] |\n",
    "| 232 | 3  | 13 | [1, 2, 3, 4, 5, 6, 7, 12, 24, 29, 58, 116, 232] | 11 | [1, 2, 3, 6, 7, 14, 28, 29, 58, 116, 232] |\n",
    "| 232 | 4  | 20 | [1, 2, 3, 4, 5, 6, 7, 8, 9, 10, 11, 12, 13, 14, 15, 28, 56, 112, 224, 232] | 11 | [1, 2, 3, 6, 7, 14, 28, 29, 58, 116, 232] |\n",
    "| 511 | 2  | 14 | [1, 2, 3, 4, 7, 14, 28, 31, 62, 124, 127, 254, 508, 511] | 13 | [1, 2, 3, 6, 12, 15, 30, 60, 120, 240, 255, 510, 511] |\n",
    "| 511 | 3  | 15 | [1, 2, 3, 4, 5, 6, 7, 14, 28, 56, 63, 126, 252, 504, 511] | 13 | [1, 2, 3, 6, 12, 15, 30, 60, 120, 240, 255, 510, 511] |\n",
    "| 511 | 4  | 22 | [1, 2, 3, 4, 5, 6, 7, 8, 9, 10, 11, 12, 13, 14, 15, 16, 31, 62, 124, 248, 496, 511] | 13 | [1, 2, 3, 6, 12, 15, 30, 60, 120, 240, 255, 510, 511] |\n",
    "| 723 | 2  | 14 | [1, 2, 3, 4, 8, 11, 22, 44, 45, 90, 180, 360, 720, 723] | 13 | [1, 2, 3, 5, 10, 20, 40, 45, 90, 180, 360, 720, 723] |\n",
    "| 723 | 3  | 17 | [1, 2, 3, 4, 5, 6, 7, 8, 11, 22, 44, 88, 90, 180, 360, 720, 723] | 13 | [1, 2, 3, 5, 10, 20, 40, 45, 90, 180, 360, 720, 723] |\n",
    "| 723 | 4  | 23 | [1, 2, 3, 4, 5, 6, 7, 8, 9, 10, 11, 12, 13, 14, 15, 16, 32, 45, 90, 180, 360, 720, 723] | 13 | [1, 2, 3, 5, 10, 20, 40, 45, 90, 180, 360, 720, 723] |\n",
    "| 1024 | 2  | 12 | [1, 2, 3, 4, 8, 16, 32, 64, 128, 256, 512, 1024] | 11 | [1, 2, 4, 8, 16, 32, 64, 128, 256, 512, 1024] |\n",
    "| 1024 | 3  | 15 | [1, 2, 3, 4, 5, 6, 7, 8, 16, 32, 64, 128, 256, 512, 1024] | 11 | [1, 2, 4, 8, 16, 32, 64, 128, 256, 512, 1024] |\n",
    "| 1024 | 4  | 22 | [1, 2, 3, 4, 5, 6, 7, 8, 9, 10, 11, 12, 13, 14, 15, 16, 32, 64, 128, 256, 512, 1024] | 11 | [1, 2, 4, 8, 16, 32, 64, 128, 256, 512, 1024] |\n",
    "| 1345 | 2  | 15 | [1, 2, 3, 4, 5, 10, 20, 21, 42, 84, 168, 336, 672, 1344, 1345] | 14 | [1, 2, 4, 5, 10, 20, 21, 42, 84, 168, 336, 672, 1344, 1345] |\n",
    "| 1345 | 3  | 17 | [1, 2, 3, 4, 5, 6, 7, 8, 16, 21, 42, 84, 168, 336, 672, 1344, 1345] | 14 | [1, 2, 4, 5, 10, 20, 21, 42, 84, 168, 336, 672, 1344, 1345] |\n",
    "| 1345 | 4  | 24 | [1, 2, 3, 4, 5, 6, 7, 8, 9, 10, 11, 12, 13, 14, 15, 20, 40, 80, 84, 168, 336, 672, 1344, 1345] | 14 | [1, 2, 4, 5, 10, 20, 21, 42, 84, 168, 336, 672, 1344, 1345] |"
   ]
  },
  {
   "cell_type": "markdown",
   "metadata": {},
   "source": [
    "### Вывод"
   ]
  },
  {
   "cell_type": "markdown",
   "metadata": {},
   "source": [
    "Длины аддитивных цепочек, полученные с помощью алгоритма Брауэра, могут как совпадать, так и быть больше чем длины минимальных аддитивных цепочек. Это зависит как от самого числа, так и от подобранного параметра $k$. Алгоритм выдает приближенный ответ за малое время работы."
   ]
  },
  {
   "cell_type": "markdown",
   "metadata": {},
   "source": [
    "### 2. Алгоритм дробления вектора индексов"
   ]
  },
  {
   "cell_type": "markdown",
   "metadata": {},
   "source": [
    "Для оценки длины аддитивных цепочек будем использовать следующие неравенства:\n",
    "$$l(n) \\le \\lambda(n) + \\upsilon(n) - 1\\\\\n",
    "l(n) \\ge \\lambda(n) + \\log_{2}(\\upsilon(n))$$\n",
    "Разработаем следующие функции для данных оценок."
   ]
  },
  {
   "cell_type": "code",
   "execution_count": 62,
   "metadata": {},
   "outputs": [],
   "source": [
    "def min_len(n):\n",
    "    return int(log(n,2)) + int(log(list(bin(n)).count('1'),2))\n",
    "\n",
    "def max_len(n):\n",
    "    return int(log(n,2)) + list(bin(n)).count('1') - 1"
   ]
  },
  {
   "cell_type": "markdown",
   "metadata": {},
   "source": [
    "Далее реализуем алгоритм дробления векторов. Для этого напишем вспомогательные функции <i>get_chain_from_index_vector</i>, которая возвращает аддитивную цепочку по вектору индексов, и <i>go_next_part</i>, которая возвращает следующий относительно данного вектор индексов. Сам алгоритм реализован в функции <i>subdivision_of_the_index_vector</i>."
   ]
  },
  {
   "cell_type": "code",
   "execution_count": 63,
   "metadata": {},
   "outputs": [],
   "source": [
    "import time\n",
    "\n",
    "\n",
    "def get_chain_from_index_vector(index_vector):\n",
    "    chain = [1]\n",
    "    \n",
    "    for idx in index_vector:\n",
    "        chain.append(chain[-1] + chain[idx - 1])\n",
    "        \n",
    "    return chain\n",
    "\n",
    "def go_next_part(cur_part, q = 0):\n",
    "    if cur_part == [1 for _ in range(len(cur_part))]:\n",
    "        return []\n",
    "    \n",
    "    for i in range(len(cur_part) - 1, -1, -1):\n",
    "        if cur_part[i] > 1:\n",
    "            cur_part[i] -= 1\n",
    "            break\n",
    "        elif cur_part[i] == 1:\n",
    "            cur_part[i] = i + q + 1\n",
    "    \n",
    "    return cur_part\n",
    "\n",
    "def subdivision_of_the_index_vector(n):\n",
    "    result = []\n",
    "    lower_estimate = min_len(n)\n",
    "    high_estimate = max_len(n)\n",
    "    \n",
    "    if n < 1:\n",
    "        return []\n",
    "    if n == 1:\n",
    "        return [1]\n",
    "    \n",
    "    for m in range(lower_estimate, high_estimate + 1):\n",
    "        q = m // 2 + 1\n",
    "        index_vector = [i for i in range(1, m + 1)]\n",
    "        changeable_indexes = index_vector[:q]\n",
    "        immutable_indexes = index_vector[q:]\n",
    "        while (len(changeable_indexes)):\n",
    "            current_chain = get_chain_from_index_vector(changeable_indexes + immutable_indexes)\n",
    "            a_min = current_chain[q] + m - q\n",
    "            a_max = current_chain[q] * 2 ** (m - q)\n",
    "            if current_chain[-1] == n:\n",
    "                return current_chain\n",
    "            elif n < a_min or n > a_max:\n",
    "                changeable_indexes = go_next_part(changeable_indexes)\n",
    "            else:\n",
    "                while (len(immutable_indexes)):\n",
    "                    current_chain = get_chain_from_index_vector(changeable_indexes + immutable_indexes)\n",
    "                    if n == current_chain[-1]:\n",
    "                        return current_chain\n",
    "                    immutable_indexes = go_next_part(immutable_indexes, q)\n",
    "                changeable_indexes = go_next_part(changeable_indexes)\n",
    "                immutable_indexes = index_vector[q:]"
   ]
  },
  {
   "cell_type": "markdown",
   "metadata": {},
   "source": [
    "Представим работу алгоритма на пяти $n>1000$, а именно при $n = 1003, 1005, 1010, 1011, 1026$."
   ]
  },
  {
   "cell_type": "code",
   "execution_count": null,
   "metadata": {
    "scrolled": true
   },
   "outputs": [],
   "source": [
    "def test_subdivision_of_the_index_vector_algorythm():\n",
    "    n_array = [1003, 1005, 1010, 1011, 1026]\n",
    "    \n",
    "    for n in n_array:\n",
    "        start = time.time()\n",
    "        chain = subdivision_of_the_index_vector(n)\n",
    "        end = time.time() - start\n",
    "        print('|', n, '|', len(chain), '|', chain, '|', round(end, 3) , ' секунд |')\n",
    "\n",
    "test_subdivision_of_the_index_vector_algorythm()"
   ]
  },
  {
   "cell_type": "markdown",
   "metadata": {},
   "source": [
    "Результат оформим в виде таблицы."
   ]
  },
  {
   "cell_type": "markdown",
   "metadata": {},
   "source": [
    "| n    | Длина цепочки | Цепочка                                                         | Время работы |\n",
    "|------|---------------|-----------------------------------------------------------------|--------------|\n",
    "| 1003 | 14 | [1, 2, 4, 8, 16, 32, 64, 128, 192, 200, 201, 401, 802, 1003] | 483.255  секунд |\n",
    "| 1005 | 14 | [1, 2, 4, 8, 16, 32, 64, 128, 192, 200, 201, 402, 804, 1005] | 486.751  секунд |\n",
    "| 1010 | 14 | [1, 2, 4, 8, 16, 32, 64, 128, 256, 320, 336, 672, 1008, 1010] | 489.939  секунд |\n",
    "| 1011 | 14 | [1, 2, 4, 8, 16, 32, 64, 128, 256, 320, 336, 337, 674, 1011] | 478.576  секунд |\n",
    "| 1026 | 12 | [1, 2, 4, 8, 16, 32, 64, 128, 256, 512, 1024, 1026] | 0.001  секунд |"
   ]
  },
  {
   "cell_type": "markdown",
   "metadata": {},
   "source": [
    "### Вывод"
   ]
  },
  {
   "cell_type": "markdown",
   "metadata": {},
   "source": [
    "Алгоритм позволяет получить минимальную звездную цепочку за счет полного перебора, в связи с чем имеет долгое время работы. Как видно из таблицы, по сравнению с алгоритмом Брауэра, алгоритм дробления вектора индексов является более ресурсозатратным, но в свою очередь гарантированно строит кратчайшую звездную цепочку. "
   ]
  },
  {
   "cell_type": "markdown",
   "metadata": {},
   "source": [
    "### 3. Гипотеза Шольца-Брауэра"
   ]
  },
  {
   "cell_type": "markdown",
   "metadata": {},
   "source": [
    "Проверим гипотезу Шольца-Брауэра для $1 \\le n \\le 12$, которая гласит, что для этих чисел должно выполняться равенство: \n",
    "$$l(2^{n} - 1) = l(n) + n - 1$$"
   ]
  },
  {
   "cell_type": "markdown",
   "metadata": {},
   "source": [
    "Исходя из изложенных выше теоритеческих положений, создадим функцию <i>subdivision_of_the_index_vector_for_hypothesis</i>, которая будет перебирать только длины, равные $l(n) + n - 1$."
   ]
  },
  {
   "cell_type": "code",
   "execution_count": 66,
   "metadata": {},
   "outputs": [],
   "source": [
    "def subdivision_of_the_index_vector_for_hypothesis(n, m):\n",
    "    result = []\n",
    "    \n",
    "    if n < 1:\n",
    "        return []\n",
    "    if n == 1:\n",
    "        return [1]\n",
    "    \n",
    "    m = m - 1\n",
    "    q = m // 2 + 1\n",
    "    index_vector = [i for i in range(1, m + 1)]\n",
    "    changeable_indexes = index_vector[:q]\n",
    "    immutable_indexes = index_vector[q:]\n",
    "    while (len(changeable_indexes)):\n",
    "        current_chain = get_chain_from_index_vector(changeable_indexes + immutable_indexes)\n",
    "        a_min = current_chain[q] + m - q\n",
    "        a_max = current_chain[q] * 2 ** (m - q)\n",
    "        if current_chain[-1] == n:\n",
    "            return current_chain\n",
    "        elif n < a_min or n > a_max:\n",
    "            changeable_indexes = go_next_part(changeable_indexes)\n",
    "        else:\n",
    "            while (len(immutable_indexes)):\n",
    "                current_chain = get_chain_from_index_vector(changeable_indexes + immutable_indexes)\n",
    "                if n == current_chain[-1]:\n",
    "                    return current_chain\n",
    "                immutable_indexes = go_next_part(immutable_indexes, q)\n",
    "            changeable_indexes = go_next_part(changeable_indexes)\n",
    "            immutable_indexes = index_vector[q:]"
   ]
  },
  {
   "cell_type": "markdown",
   "metadata": {},
   "source": [
    "Создадим функцию, проверяющую гипотезу для $1 \\le n \\le 12$."
   ]
  },
  {
   "cell_type": "code",
   "execution_count": null,
   "metadata": {
    "scrolled": true
   },
   "outputs": [],
   "source": [
    "def sholz_brauer(left, right):\n",
    "    for i in range(left, right + 1):\n",
    "        right_part_of_equal = len(subdivision_of_the_index_vector(i)) + i - 1\n",
    "        left_part_of_equal = len(subdivision_of_the_index_vector_for_hypothesis(2^i - 1, right_part_of_equal))\n",
    "        \n",
    "        if left_part_of_equal > right_part_of_equal:\n",
    "            print('|', i, '|', left_part_of_equal, '|', right_part_of_equal, '|', \"Неверно\", '|')\n",
    "            break\n",
    "        print('|', i, '|', left_part_of_equal, '|', right_part_of_equal, '|', \"Верно\", '|')\n",
    "        \n",
    "sholz_brauer(1, 12)"
   ]
  },
  {
   "cell_type": "markdown",
   "metadata": {},
   "source": [
    "Результат представим в виде таблицы."
   ]
  },
  {
   "cell_type": "markdown",
   "metadata": {},
   "source": [
    "|  n | $$l(2^{n}-1)$$ | $$l(n) + n - 1$$ |    Результат   |\n",
    "|----|--------------|----------------|----------------|\n",
    "| 1 | 1 | 1 | Верно |\n",
    "| 2 | 3 | 3 | Верно |\n",
    "| 3 | 5 | 5 | Верно |\n",
    "| 4 | 6 | 6 | Верно |\n",
    "| 5 | 8 | 8 | Верно |\n",
    "| 6 | 9 | 9 | Верно |\n",
    "| 7 | 11 | 11 | Верно |\n",
    "| 8 | 11 | 11 | Верно |\n",
    "| 9 | 13 | 13 | Верно |\n",
    "| 10 | 14 | 14 | Верно |\n",
    "| 11 | 16 | 16 | Верно |\n",
    "| 12 | 16 | 16 | Верно |"
   ]
  },
  {
   "cell_type": "markdown",
   "metadata": {},
   "source": [
    "### Вывод"
   ]
  },
  {
   "cell_type": "markdown",
   "metadata": {},
   "source": [
    "Таким образом, проверена корректность гипотезы Шольца-Брауэра для $1 \\le n \\le 12$. Для ускорения проверки модифицирован алгоритм дробления вектора индексов на основании следствия из теоретических положений."
   ]
  },
  {
   "cell_type": "markdown",
   "metadata": {},
   "source": [
    "## Выводы\n",
    "\n"
   ]
  },
  {
   "cell_type": "markdown",
   "metadata": {},
   "source": [
    "Сформировано представление об аддитивных цепочках, вырабатано умение составлять и применять алгоритмы для нахождения минимальных аддитивных цепочек для заданного числа. Привит навык использования системы компьютерной математики <i>SageMath</i> для реализации алгоритмов. Реализованы и сравнены алгоритмы Брауэра и дробления вектора индексов. Проверена гипотеза Шольца-Брауэра для $1 \\le n \\le 12$. Установлено, что не существует эффективного алгоритма для построения минимальной аддитивной цепочки, который бы достигал точного результата за малое количество времени."
   ]
  }
 ],
 "metadata": {
  "kernelspec": {
   "display_name": "SageMath 9.5",
   "language": "sage",
   "name": "sagemath"
  },
  "language_info": {
   "codemirror_mode": {
    "name": "ipython",
    "version": 3
   },
   "file_extension": ".py",
   "mimetype": "text/x-python",
   "name": "python",
   "nbconvert_exporter": "python",
   "pygments_lexer": "ipython3",
   "version": "3.10.6"
  }
 },
 "nbformat": 4,
 "nbformat_minor": 4
}
