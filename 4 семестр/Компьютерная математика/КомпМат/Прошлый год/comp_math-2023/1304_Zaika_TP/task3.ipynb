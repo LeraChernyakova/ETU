{
 "cells": [
  {
   "cell_type": "markdown",
   "metadata": {},
   "source": [
    "# Практическая работа №3: Исследование задач о раскрасках\n",
    "\n",
    "Выполнил студент гр. 1304 Заика Тимофей. Вариант №35."
   ]
  },
  {
   "cell_type": "markdown",
   "metadata": {},
   "source": [
    "## Цель работы\n",
    "\n",
    "Формирование представления о задачах о раскарсках, выработать умение использование леммы Бёрнсайда для решения задачи о раскрасках, привить навык использования систем компьютерной алгебры для реализации алгоритмов решения задачи."
   ]
  },
  {
   "cell_type": "markdown",
   "metadata": {},
   "source": [
    "## Основные теоретические положения\n",
    "\n",
    "### Действие группы на множество\n",
    "Пусть $G$ - группа с нейтральным элементом $e$, a $X$ - множество. Будем говорить, что $G$ действует на $X$, если задана операция $G \\times X \\rightarrow X$.   \n",
    "$\\forall$ $x \\in X$ и $g, h \\in G$, при том:\n",
    "<ul>\n",
    "<li>$ex = x$</li>  \n",
    "<li>$g(h(x)) = gh(x)$</li>\n",
    "</ul>\n",
    "\n",
    "### Определение орбиты\n",
    "Орбитой элемента $x \\in X$ под действием $G$ называется множество  \n",
    "$Gx = \\{gx : g \\in G\\}$\n",
    "Длина орбиты - количество элементов в ней, обозначается $\\#G$\n",
    "\n",
    "### Неподвижные точки\n",
    "Неподвижными точками элемента $g \\in G$ называются $x \\in X : gx = x$<br>\n",
    "Множество неподвижных точек элемента $g$ обозначается $X^g$\n",
    "\n",
    "### Лемма Бернсайда\n",
    "Количество орбит действия группы $G$ на множестве $X$ равно  \n",
    "$\\frac{1}{\\#G}\\sum_{g \\in G} \\#X^{g}$\n",
    "\n",
    "### Определение раскраски\n",
    "Пусть $I$ - произвольное множество, а $C$ - множество цветов. Раскраской множества $I$ называется функция из $I$ в $C$. Множество всех раскрасок обозначается через $C^I$, количество раскрасок равно $\\#C^{\\#I}$ \n",
    "\n",
    "### Количество раскрасок\n",
    "Количество раскрасок из $C^I$, которые сохраняют данный элемент $g \\in G$ равно $\\#C^{c(\\varphi(g)))}$  \n",
    "$с(\\varphi(g))$ - количество независимых циклов перестановки $\\varphi(g)$"
   ]
  },
  {
   "cell_type": "markdown",
   "metadata": {},
   "source": [
    "## Постановка задачи\n",
    "\n",
    "Аналитически решить задачу о раскрасках; графически отобразить решения задачи с использованием системы компьютерной алгебры <i>SageMath</i>. Полученные результаты содержательно проинтерпретировать."
   ]
  },
  {
   "cell_type": "markdown",
   "metadata": {},
   "source": [
    "## Выполнение работы"
   ]
  },
  {
   "cell_type": "markdown",
   "metadata": {},
   "source": [
    "### Условие задачи"
   ]
  },
  {
   "cell_type": "markdown",
   "metadata": {},
   "source": [
    "Сколькими способами можно составить бусы из 46 бусинок 6 различных цветов (с точностью до поворотов и осевых симметрий)?"
   ]
  },
  {
   "cell_type": "markdown",
   "metadata": {},
   "source": [
    "### 1. Лемма Бёрнсайда"
   ]
  },
  {
   "cell_type": "markdown",
   "metadata": {},
   "source": [
    "Пусть $X$ - множество всех раскрасок, которые записываются в виде $\\{ x_1, x_2, x_3, ..., x_{46} \\}$, где $x_k = \\{ a, b, c, d, e, f \\}$ - один из 6-ти цветов.<br>\n",
    "Тогда всего с учетом поворотов и осевых симметрий в множестве $X$ - $ 6^{46} $ элементов."
   ]
  },
  {
   "cell_type": "markdown",
   "metadata": {},
   "source": [
    "Пусть G - группа поворотов и осевых симметрий множества X, она изоморфна подгруппе $ G^* \\in S_{46} $,  $ G^{*} = \\{ 1, 2, 3, 4, ..., 46 \\} $"
   ]
  },
  {
   "cell_type": "markdown",
   "metadata": {},
   "source": [
    "Рассмотрим элементарные преобразования положений бусин:<br>\n",
    "Пусть $ \\tau $ - поворот на 1 бусину по часовой стрелке, а $ \\sigma $ - осевая симметрия относительно оси, отделяющей $ \\{ 1, 2, 3, ..., 22 \\} $ от $ \\{ 23, 24, 25, ..., 46 \\} $."
   ]
  },
  {
   "cell_type": "markdown",
   "metadata": {},
   "source": [
    "Опишем всес возможные повороты и осевые симметрии для бус.<br>\n",
    "Поворотот на 1 бусину по часовой:\n",
    "$$ \\tau = (1, 2, 3, 4, ... 45, 46) $$\n",
    "Всего возможно 45 поворотов, на 46 поворот бусы встанут в изначальное положение."
   ]
  },
  {
   "cell_type": "markdown",
   "metadata": {},
   "source": [
    "Представим функцию <i>rotate_counter</i>, считающую всевозможные повороты бусин по часовой стрелке:"
   ]
  },
  {
   "cell_type": "code",
   "execution_count": 2,
   "metadata": {
    "collapsed": true
   },
   "outputs": [
    {
     "name": "stdout",
     "output_type": "stream",
     "text": [
      "τ^1 = (1,2,3,4,5,6,7,8,9,10,11,12,13,14,15,16,17,18,19,20,21,22,23,24,25,26,27,28,29,30,31,32,33,34,35,36,37,38,39,40,41,42,43,44,45,46)\n",
      "τ^2 = (1,3,5,7,9,11,13,15,17,19,21,23,25,27,29,31,33,35,37,39,41,43,45)(2,4,6,8,10,12,14,16,18,20,22,24,26,28,30,32,34,36,38,40,42,44,46)\n",
      "τ^3 = (1,4,7,10,13,16,19,22,25,28,31,34,37,40,43,46,3,6,9,12,15,18,21,24,27,30,33,36,39,42,45,2,5,8,11,14,17,20,23,26,29,32,35,38,41,44)\n",
      "τ^4 = (1,5,9,13,17,21,25,29,33,37,41,45,3,7,11,15,19,23,27,31,35,39,43)(2,6,10,14,18,22,26,30,34,38,42,46,4,8,12,16,20,24,28,32,36,40,44)\n",
      "τ^5 = (1,6,11,16,21,26,31,36,41,46,5,10,15,20,25,30,35,40,45,4,9,14,19,24,29,34,39,44,3,8,13,18,23,28,33,38,43,2,7,12,17,22,27,32,37,42)\n",
      "τ^6 = (1,7,13,19,25,31,37,43,3,9,15,21,27,33,39,45,5,11,17,23,29,35,41)(2,8,14,20,26,32,38,44,4,10,16,22,28,34,40,46,6,12,18,24,30,36,42)\n",
      "τ^7 = (1,8,15,22,29,36,43,4,11,18,25,32,39,46,7,14,21,28,35,42,3,10,17,24,31,38,45,6,13,20,27,34,41,2,9,16,23,30,37,44,5,12,19,26,33,40)\n",
      "τ^8 = (1,9,17,25,33,41,3,11,19,27,35,43,5,13,21,29,37,45,7,15,23,31,39)(2,10,18,26,34,42,4,12,20,28,36,44,6,14,22,30,38,46,8,16,24,32,40)\n",
      "τ^9 = (1,10,19,28,37,46,9,18,27,36,45,8,17,26,35,44,7,16,25,34,43,6,15,24,33,42,5,14,23,32,41,4,13,22,31,40,3,12,21,30,39,2,11,20,29,38)\n",
      "τ^10 = (1,11,21,31,41,5,15,25,35,45,9,19,29,39,3,13,23,33,43,7,17,27,37)(2,12,22,32,42,6,16,26,36,46,10,20,30,40,4,14,24,34,44,8,18,28,38)\n",
      "τ^11 = (1,12,23,34,45,10,21,32,43,8,19,30,41,6,17,28,39,4,15,26,37,2,13,24,35,46,11,22,33,44,9,20,31,42,7,18,29,40,5,16,27,38,3,14,25,36)\n",
      "τ^12 = (1,13,25,37,3,15,27,39,5,17,29,41,7,19,31,43,9,21,33,45,11,23,35)(2,14,26,38,4,16,28,40,6,18,30,42,8,20,32,44,10,22,34,46,12,24,36)\n",
      "τ^13 = (1,14,27,40,7,20,33,46,13,26,39,6,19,32,45,12,25,38,5,18,31,44,11,24,37,4,17,30,43,10,23,36,3,16,29,42,9,22,35,2,15,28,41,8,21,34)\n",
      "τ^14 = (1,15,29,43,11,25,39,7,21,35,3,17,31,45,13,27,41,9,23,37,5,19,33)(2,16,30,44,12,26,40,8,22,36,4,18,32,46,14,28,42,10,24,38,6,20,34)\n",
      "τ^15 = (1,16,31,46,15,30,45,14,29,44,13,28,43,12,27,42,11,26,41,10,25,40,9,24,39,8,23,38,7,22,37,6,21,36,5,20,35,4,19,34,3,18,33,2,17,32)\n",
      "τ^16 = (1,17,33,3,19,35,5,21,37,7,23,39,9,25,41,11,27,43,13,29,45,15,31)(2,18,34,4,20,36,6,22,38,8,24,40,10,26,42,12,28,44,14,30,46,16,32)\n",
      "τ^17 = (1,18,35,6,23,40,11,28,45,16,33,4,21,38,9,26,43,14,31,2,19,36,7,24,41,12,29,46,17,34,5,22,39,10,27,44,15,32,3,20,37,8,25,42,13,30)\n",
      "τ^18 = (1,19,37,9,27,45,17,35,7,25,43,15,33,5,23,41,13,31,3,21,39,11,29)(2,20,38,10,28,46,18,36,8,26,44,16,34,6,24,42,14,32,4,22,40,12,30)\n",
      "τ^19 = (1,20,39,12,31,4,23,42,15,34,7,26,45,18,37,10,29,2,21,40,13,32,5,24,43,16,35,8,27,46,19,38,11,30,3,22,41,14,33,6,25,44,17,36,9,28)\n",
      "τ^20 = (1,21,41,15,35,9,29,3,23,43,17,37,11,31,5,25,45,19,39,13,33,7,27)(2,22,42,16,36,10,30,4,24,44,18,38,12,32,6,26,46,20,40,14,34,8,28)\n",
      "τ^21 = (1,22,43,18,39,14,35,10,31,6,27,2,23,44,19,40,15,36,11,32,7,28,3,24,45,20,41,16,37,12,33,8,29,4,25,46,21,42,17,38,13,34,9,30,5,26)\n",
      "τ^22 = (1,23,45,21,43,19,41,17,39,15,37,13,35,11,33,9,31,7,29,5,27,3,25)(2,24,46,22,44,20,42,18,40,16,38,14,36,12,34,10,32,8,30,6,28,4,26)\n",
      "τ^23 = (1,24)(2,25)(3,26)(4,27)(5,28)(6,29)(7,30)(8,31)(9,32)(10,33)(11,34)(12,35)(13,36)(14,37)(15,38)(16,39)(17,40)(18,41)(19,42)(20,43)(21,44)(22,45)(23,46)\n",
      "τ^24 = (1,25,3,27,5,29,7,31,9,33,11,35,13,37,15,39,17,41,19,43,21,45,23)(2,26,4,28,6,30,8,32,10,34,12,36,14,38,16,40,18,42,20,44,22,46,24)\n",
      "τ^25 = (1,26,5,30,9,34,13,38,17,42,21,46,25,4,29,8,33,12,37,16,41,20,45,24,3,28,7,32,11,36,15,40,19,44,23,2,27,6,31,10,35,14,39,18,43,22)\n",
      "τ^26 = (1,27,7,33,13,39,19,45,25,5,31,11,37,17,43,23,3,29,9,35,15,41,21)(2,28,8,34,14,40,20,46,26,6,32,12,38,18,44,24,4,30,10,36,16,42,22)\n",
      "τ^27 = (1,28,9,36,17,44,25,6,33,14,41,22,3,30,11,38,19,46,27,8,35,16,43,24,5,32,13,40,21,2,29,10,37,18,45,26,7,34,15,42,23,4,31,12,39,20)\n",
      "τ^28 = (1,29,11,39,21,3,31,13,41,23,5,33,15,43,25,7,35,17,45,27,9,37,19)(2,30,12,40,22,4,32,14,42,24,6,34,16,44,26,8,36,18,46,28,10,38,20)\n",
      "τ^29 = (1,30,13,42,25,8,37,20,3,32,15,44,27,10,39,22,5,34,17,46,29,12,41,24,7,36,19,2,31,14,43,26,9,38,21,4,33,16,45,28,11,40,23,6,35,18)\n",
      "τ^30 = (1,31,15,45,29,13,43,27,11,41,25,9,39,23,7,37,21,5,35,19,3,33,17)(2,32,16,46,30,14,44,28,12,42,26,10,40,24,8,38,22,6,36,20,4,34,18)\n",
      "τ^31 = (1,32,17,2,33,18,3,34,19,4,35,20,5,36,21,6,37,22,7,38,23,8,39,24,9,40,25,10,41,26,11,42,27,12,43,28,13,44,29,14,45,30,15,46,31,16)\n",
      "τ^32 = (1,33,19,5,37,23,9,41,27,13,45,31,17,3,35,21,7,39,25,11,43,29,15)(2,34,20,6,38,24,10,42,28,14,46,32,18,4,36,22,8,40,26,12,44,30,16)\n",
      "τ^33 = (1,34,21,8,41,28,15,2,35,22,9,42,29,16,3,36,23,10,43,30,17,4,37,24,11,44,31,18,5,38,25,12,45,32,19,6,39,26,13,46,33,20,7,40,27,14)\n",
      "τ^34 = (1,35,23,11,45,33,21,9,43,31,19,7,41,29,17,5,39,27,15,3,37,25,13)(2,36,24,12,46,34,22,10,44,32,20,8,42,30,18,6,40,28,16,4,38,26,14)\n",
      "τ^35 = (1,36,25,14,3,38,27,16,5,40,29,18,7,42,31,20,9,44,33,22,11,46,35,24,13,2,37,26,15,4,39,28,17,6,41,30,19,8,43,32,21,10,45,34,23,12)\n",
      "τ^36 = (1,37,27,17,7,43,33,23,13,3,39,29,19,9,45,35,25,15,5,41,31,21,11)(2,38,28,18,8,44,34,24,14,4,40,30,20,10,46,36,26,16,6,42,32,22,12)\n",
      "τ^37 = (1,38,29,20,11,2,39,30,21,12,3,40,31,22,13,4,41,32,23,14,5,42,33,24,15,6,43,34,25,16,7,44,35,26,17,8,45,36,27,18,9,46,37,28,19,10)\n",
      "τ^38 = (1,39,31,23,15,7,45,37,29,21,13,5,43,35,27,19,11,3,41,33,25,17,9)(2,40,32,24,16,8,46,38,30,22,14,6,44,36,28,20,12,4,42,34,26,18,10)\n",
      "τ^39 = (1,40,33,26,19,12,5,44,37,30,23,16,9,2,41,34,27,20,13,6,45,38,31,24,17,10,3,42,35,28,21,14,7,46,39,32,25,18,11,4,43,36,29,22,15,8)\n",
      "τ^40 = (1,41,35,29,23,17,11,5,45,39,33,27,21,15,9,3,43,37,31,25,19,13,7)(2,42,36,30,24,18,12,6,46,40,34,28,22,16,10,4,44,38,32,26,20,14,8)\n",
      "τ^41 = (1,42,37,32,27,22,17,12,7,2,43,38,33,28,23,18,13,8,3,44,39,34,29,24,19,14,9,4,45,40,35,30,25,20,15,10,5,46,41,36,31,26,21,16,11,6)\n",
      "τ^42 = (1,43,39,35,31,27,23,19,15,11,7,3,45,41,37,33,29,25,21,17,13,9,5)(2,44,40,36,32,28,24,20,16,12,8,4,46,42,38,34,30,26,22,18,14,10,6)\n",
      "τ^43 = (1,44,41,38,35,32,29,26,23,20,17,14,11,8,5,2,45,42,39,36,33,30,27,24,21,18,15,12,9,6,3,46,43,40,37,34,31,28,25,22,19,16,13,10,7,4)\n",
      "τ^44 = (1,45,43,41,39,37,35,33,31,29,27,25,23,21,19,17,15,13,11,9,7,5,3)(2,46,44,42,40,38,36,34,32,30,28,26,24,22,20,18,16,14,12,10,8,6,4)\n",
      "τ^45 = (1,46,45,44,43,42,41,40,39,38,37,36,35,34,33,32,31,30,29,28,27,26,25,24,23,22,21,20,19,18,17,16,15,14,13,12,11,10,9,8,7,6,5,4,3,2)\n"
     ]
    }
   ],
   "source": [
    "def rotate_counter():\n",
    "    G = SymmetricGroup(46)\n",
    "    beads_numbers = G(tuple(srange(1, 47)))\n",
    "    for i in range(1, 46):\n",
    "        print(f\"\\u03C4^{i} =\", beads_numbers**i)\n",
    "        \n",
    "rotate_counter()"
   ]
  },
  {
   "cell_type": "markdown",
   "metadata": {},
   "source": [
    "Отражение бус по оси симметрии:$$\\sigma = (1, 46)(2, 45)(3, 44)\\dots(20, 25)(21, 24)(22, 23)$$"
   ]
  },
  {
   "cell_type": "markdown",
   "metadata": {},
   "source": [
    "Представим функцию <i>symmetric_rotate_combination_counter()</i>, которая считает всевозможные комбинации осевой симметрии и поворотов:"
   ]
  },
  {
   "cell_type": "code",
   "execution_count": 3,
   "metadata": {
    "collapsed": true
   },
   "outputs": [
    {
     "name": "stdout",
     "output_type": "stream",
     "text": [
      "σ * τ^1 = (1,45)(2,44)(3,43)(4,42)(5,41)(6,40)(7,39)(8,38)(9,37)(10,36)(11,35)(12,34)(13,33)(14,32)(15,31)(16,30)(17,29)(18,28)(19,27)(20,26)(21,25)(22,24)\n",
      "σ * τ^2 = (1,44)(2,43)(3,42)(4,41)(5,40)(6,39)(7,38)(8,37)(9,36)(10,35)(11,34)(12,33)(13,32)(14,31)(15,30)(16,29)(17,28)(18,27)(19,26)(20,25)(21,24)(22,23)(45,46)\n",
      "σ * τ^3 = (1,43)(2,42)(3,41)(4,40)(5,39)(6,38)(7,37)(8,36)(9,35)(10,34)(11,33)(12,32)(13,31)(14,30)(15,29)(16,28)(17,27)(18,26)(19,25)(20,24)(21,23)(44,46)\n",
      "σ * τ^4 = (1,42)(2,41)(3,40)(4,39)(5,38)(6,37)(7,36)(8,35)(9,34)(10,33)(11,32)(12,31)(13,30)(14,29)(15,28)(16,27)(17,26)(18,25)(19,24)(20,23)(21,22)(43,46)(44,45)\n",
      "σ * τ^5 = (1,41)(2,40)(3,39)(4,38)(5,37)(6,36)(7,35)(8,34)(9,33)(10,32)(11,31)(12,30)(13,29)(14,28)(15,27)(16,26)(17,25)(18,24)(19,23)(20,22)(42,46)(43,45)\n",
      "σ * τ^6 = (1,40)(2,39)(3,38)(4,37)(5,36)(6,35)(7,34)(8,33)(9,32)(10,31)(11,30)(12,29)(13,28)(14,27)(15,26)(16,25)(17,24)(18,23)(19,22)(20,21)(41,46)(42,45)(43,44)\n",
      "σ * τ^7 = (1,39)(2,38)(3,37)(4,36)(5,35)(6,34)(7,33)(8,32)(9,31)(10,30)(11,29)(12,28)(13,27)(14,26)(15,25)(16,24)(17,23)(18,22)(19,21)(40,46)(41,45)(42,44)\n",
      "σ * τ^8 = (1,38)(2,37)(3,36)(4,35)(5,34)(6,33)(7,32)(8,31)(9,30)(10,29)(11,28)(12,27)(13,26)(14,25)(15,24)(16,23)(17,22)(18,21)(19,20)(39,46)(40,45)(41,44)(42,43)\n",
      "σ * τ^9 = (1,37)(2,36)(3,35)(4,34)(5,33)(6,32)(7,31)(8,30)(9,29)(10,28)(11,27)(12,26)(13,25)(14,24)(15,23)(16,22)(17,21)(18,20)(38,46)(39,45)(40,44)(41,43)\n",
      "σ * τ^10 = (1,36)(2,35)(3,34)(4,33)(5,32)(6,31)(7,30)(8,29)(9,28)(10,27)(11,26)(12,25)(13,24)(14,23)(15,22)(16,21)(17,20)(18,19)(37,46)(38,45)(39,44)(40,43)(41,42)\n",
      "σ * τ^11 = (1,35)(2,34)(3,33)(4,32)(5,31)(6,30)(7,29)(8,28)(9,27)(10,26)(11,25)(12,24)(13,23)(14,22)(15,21)(16,20)(17,19)(36,46)(37,45)(38,44)(39,43)(40,42)\n",
      "σ * τ^12 = (1,34)(2,33)(3,32)(4,31)(5,30)(6,29)(7,28)(8,27)(9,26)(10,25)(11,24)(12,23)(13,22)(14,21)(15,20)(16,19)(17,18)(35,46)(36,45)(37,44)(38,43)(39,42)(40,41)\n",
      "σ * τ^13 = (1,33)(2,32)(3,31)(4,30)(5,29)(6,28)(7,27)(8,26)(9,25)(10,24)(11,23)(12,22)(13,21)(14,20)(15,19)(16,18)(34,46)(35,45)(36,44)(37,43)(38,42)(39,41)\n",
      "σ * τ^14 = (1,32)(2,31)(3,30)(4,29)(5,28)(6,27)(7,26)(8,25)(9,24)(10,23)(11,22)(12,21)(13,20)(14,19)(15,18)(16,17)(33,46)(34,45)(35,44)(36,43)(37,42)(38,41)(39,40)\n",
      "σ * τ^15 = (1,31)(2,30)(3,29)(4,28)(5,27)(6,26)(7,25)(8,24)(9,23)(10,22)(11,21)(12,20)(13,19)(14,18)(15,17)(32,46)(33,45)(34,44)(35,43)(36,42)(37,41)(38,40)\n",
      "σ * τ^16 = (1,30)(2,29)(3,28)(4,27)(5,26)(6,25)(7,24)(8,23)(9,22)(10,21)(11,20)(12,19)(13,18)(14,17)(15,16)(31,46)(32,45)(33,44)(34,43)(35,42)(36,41)(37,40)(38,39)\n",
      "σ * τ^17 = (1,29)(2,28)(3,27)(4,26)(5,25)(6,24)(7,23)(8,22)(9,21)(10,20)(11,19)(12,18)(13,17)(14,16)(30,46)(31,45)(32,44)(33,43)(34,42)(35,41)(36,40)(37,39)\n",
      "σ * τ^18 = (1,28)(2,27)(3,26)(4,25)(5,24)(6,23)(7,22)(8,21)(9,20)(10,19)(11,18)(12,17)(13,16)(14,15)(29,46)(30,45)(31,44)(32,43)(33,42)(34,41)(35,40)(36,39)(37,38)\n",
      "σ * τ^19 = (1,27)(2,26)(3,25)(4,24)(5,23)(6,22)(7,21)(8,20)(9,19)(10,18)(11,17)(12,16)(13,15)(28,46)(29,45)(30,44)(31,43)(32,42)(33,41)(34,40)(35,39)(36,38)\n",
      "σ * τ^20 = (1,26)(2,25)(3,24)(4,23)(5,22)(6,21)(7,20)(8,19)(9,18)(10,17)(11,16)(12,15)(13,14)(27,46)(28,45)(29,44)(30,43)(31,42)(32,41)(33,40)(34,39)(35,38)(36,37)\n",
      "σ * τ^21 = (1,25)(2,24)(3,23)(4,22)(5,21)(6,20)(7,19)(8,18)(9,17)(10,16)(11,15)(12,14)(26,46)(27,45)(28,44)(29,43)(30,42)(31,41)(32,40)(33,39)(34,38)(35,37)\n",
      "σ * τ^22 = (1,24)(2,23)(3,22)(4,21)(5,20)(6,19)(7,18)(8,17)(9,16)(10,15)(11,14)(12,13)(25,46)(26,45)(27,44)(28,43)(29,42)(30,41)(31,40)(32,39)(33,38)(34,37)(35,36)\n",
      "σ * τ^23 = (1,23)(2,22)(3,21)(4,20)(5,19)(6,18)(7,17)(8,16)(9,15)(10,14)(11,13)(24,46)(25,45)(26,44)(27,43)(28,42)(29,41)(30,40)(31,39)(32,38)(33,37)(34,36)\n",
      "σ * τ^24 = (1,22)(2,21)(3,20)(4,19)(5,18)(6,17)(7,16)(8,15)(9,14)(10,13)(11,12)(23,46)(24,45)(25,44)(26,43)(27,42)(28,41)(29,40)(30,39)(31,38)(32,37)(33,36)(34,35)\n",
      "σ * τ^25 = (1,21)(2,20)(3,19)(4,18)(5,17)(6,16)(7,15)(8,14)(9,13)(10,12)(22,46)(23,45)(24,44)(25,43)(26,42)(27,41)(28,40)(29,39)(30,38)(31,37)(32,36)(33,35)\n",
      "σ * τ^26 = (1,20)(2,19)(3,18)(4,17)(5,16)(6,15)(7,14)(8,13)(9,12)(10,11)(21,46)(22,45)(23,44)(24,43)(25,42)(26,41)(27,40)(28,39)(29,38)(30,37)(31,36)(32,35)(33,34)\n",
      "σ * τ^27 = (1,19)(2,18)(3,17)(4,16)(5,15)(6,14)(7,13)(8,12)(9,11)(20,46)(21,45)(22,44)(23,43)(24,42)(25,41)(26,40)(27,39)(28,38)(29,37)(30,36)(31,35)(32,34)\n",
      "σ * τ^28 = (1,18)(2,17)(3,16)(4,15)(5,14)(6,13)(7,12)(8,11)(9,10)(19,46)(20,45)(21,44)(22,43)(23,42)(24,41)(25,40)(26,39)(27,38)(28,37)(29,36)(30,35)(31,34)(32,33)\n",
      "σ * τ^29 = (1,17)(2,16)(3,15)(4,14)(5,13)(6,12)(7,11)(8,10)(18,46)(19,45)(20,44)(21,43)(22,42)(23,41)(24,40)(25,39)(26,38)(27,37)(28,36)(29,35)(30,34)(31,33)\n",
      "σ * τ^30 = (1,16)(2,15)(3,14)(4,13)(5,12)(6,11)(7,10)(8,9)(17,46)(18,45)(19,44)(20,43)(21,42)(22,41)(23,40)(24,39)(25,38)(26,37)(27,36)(28,35)(29,34)(30,33)(31,32)\n",
      "σ * τ^31 = (1,15)(2,14)(3,13)(4,12)(5,11)(6,10)(7,9)(16,46)(17,45)(18,44)(19,43)(20,42)(21,41)(22,40)(23,39)(24,38)(25,37)(26,36)(27,35)(28,34)(29,33)(30,32)\n",
      "σ * τ^32 = (1,14)(2,13)(3,12)(4,11)(5,10)(6,9)(7,8)(15,46)(16,45)(17,44)(18,43)(19,42)(20,41)(21,40)(22,39)(23,38)(24,37)(25,36)(26,35)(27,34)(28,33)(29,32)(30,31)\n",
      "σ * τ^33 = (1,13)(2,12)(3,11)(4,10)(5,9)(6,8)(14,46)(15,45)(16,44)(17,43)(18,42)(19,41)(20,40)(21,39)(22,38)(23,37)(24,36)(25,35)(26,34)(27,33)(28,32)(29,31)\n",
      "σ * τ^34 = (1,12)(2,11)(3,10)(4,9)(5,8)(6,7)(13,46)(14,45)(15,44)(16,43)(17,42)(18,41)(19,40)(20,39)(21,38)(22,37)(23,36)(24,35)(25,34)(26,33)(27,32)(28,31)(29,30)\n",
      "σ * τ^35 = (1,11)(2,10)(3,9)(4,8)(5,7)(12,46)(13,45)(14,44)(15,43)(16,42)(17,41)(18,40)(19,39)(20,38)(21,37)(22,36)(23,35)(24,34)(25,33)(26,32)(27,31)(28,30)\n",
      "σ * τ^36 = (1,10)(2,9)(3,8)(4,7)(5,6)(11,46)(12,45)(13,44)(14,43)(15,42)(16,41)(17,40)(18,39)(19,38)(20,37)(21,36)(22,35)(23,34)(24,33)(25,32)(26,31)(27,30)(28,29)\n",
      "σ * τ^37 = (1,9)(2,8)(3,7)(4,6)(10,46)(11,45)(12,44)(13,43)(14,42)(15,41)(16,40)(17,39)(18,38)(19,37)(20,36)(21,35)(22,34)(23,33)(24,32)(25,31)(26,30)(27,29)\n",
      "σ * τ^38 = (1,8)(2,7)(3,6)(4,5)(9,46)(10,45)(11,44)(12,43)(13,42)(14,41)(15,40)(16,39)(17,38)(18,37)(19,36)(20,35)(21,34)(22,33)(23,32)(24,31)(25,30)(26,29)(27,28)\n",
      "σ * τ^39 = (1,7)(2,6)(3,5)(8,46)(9,45)(10,44)(11,43)(12,42)(13,41)(14,40)(15,39)(16,38)(17,37)(18,36)(19,35)(20,34)(21,33)(22,32)(23,31)(24,30)(25,29)(26,28)\n",
      "σ * τ^40 = (1,6)(2,5)(3,4)(7,46)(8,45)(9,44)(10,43)(11,42)(12,41)(13,40)(14,39)(15,38)(16,37)(17,36)(18,35)(19,34)(20,33)(21,32)(22,31)(23,30)(24,29)(25,28)(26,27)\n",
      "σ * τ^41 = (1,5)(2,4)(6,46)(7,45)(8,44)(9,43)(10,42)(11,41)(12,40)(13,39)(14,38)(15,37)(16,36)(17,35)(18,34)(19,33)(20,32)(21,31)(22,30)(23,29)(24,28)(25,27)\n",
      "σ * τ^42 = (1,4)(2,3)(5,46)(6,45)(7,44)(8,43)(9,42)(10,41)(11,40)(12,39)(13,38)(14,37)(15,36)(16,35)(17,34)(18,33)(19,32)(20,31)(21,30)(22,29)(23,28)(24,27)(25,26)\n",
      "σ * τ^43 = (1,3)(4,46)(5,45)(6,44)(7,43)(8,42)(9,41)(10,40)(11,39)(12,38)(13,37)(14,36)(15,35)(16,34)(17,33)(18,32)(19,31)(20,30)(21,29)(22,28)(23,27)(24,26)\n",
      "σ * τ^44 = (1,2)(3,46)(4,45)(5,44)(6,43)(7,42)(8,41)(9,40)(10,39)(11,38)(12,37)(13,36)(14,35)(15,34)(16,33)(17,32)(18,31)(19,30)(20,29)(21,28)(22,27)(23,26)(24,25)\n",
      "σ * τ^45 = (2,46)(3,45)(4,44)(5,43)(6,42)(7,41)(8,40)(9,39)(10,38)(11,37)(12,36)(13,35)(14,34)(15,33)(16,32)(17,31)(18,30)(19,29)(20,28)(21,27)(22,26)(23,25)\n"
     ]
    }
   ],
   "source": [
    "def symmetric_rotate_combination_counter():\n",
    "    G = SymmetricGroup(46)\n",
    "    beads_numbers = G(tuple(srange(1, 47)))\n",
    "    symmetric_beads_numbers = G(srange(46, 0, -1))\n",
    "    for i in range(1, 46):\n",
    "        print(f\"\\u03C3 * \\u03C4^{i} =\", (beads_numbers ** i) * symmetric_beads_numbers)\n",
    "        \n",
    "symmetric_rotate_combination_counter()"
   ]
  },
  {
   "cell_type": "markdown",
   "metadata": {},
   "source": [
    "Зададим формулой действие элементов группы G на множестве X с помощью $ G^{*} $:\n",
    "$$ g(\\{x_1, x_2, x_3, x_4, ..., x_{46}\\}) = \\{x_{(g^{*})^{−1}(1)}, x_{(g^{*})^{−1}(2)}, x_{(g^{*})^{−1}(3)}, \\dots, x_{(g^{*})^{−1}(46)}\\}, \\text{ где } g^{*} \\in G^{*}, g \\in G $$\n",
    "Цвет первой бусины $ x_1 $ после поворота по часовой на одну бусину ($ \\tau $) стал $ x_{46} $, что соответствует $ \\tau^{-1}(1) = \\tau(45) = 46 $."
   ]
  },
  {
   "cell_type": "markdown",
   "metadata": {},
   "source": [
    "В соответствии с леммой Бернсайда, количество орбит действия группы $ G $ на множестве $ X $ равно:\n",
    "$$N = \\frac{1}{\\#G}\\sum_{g \\in G}{\\#X^g}$$\n",
    "Орбиты действия - это разбиение множества X на классы эквивалентности относительно действий G и это же искомое число способов составить бусы с точностью до поворотов и осевых симметрий."
   ]
  },
  {
   "cell_type": "markdown",
   "metadata": {},
   "source": [
    "Найдем $ \\#X^g $ (количество раскрасок, которые остаются на месте под действием преобразования g) для каждого $ g \\in G $:\n",
    "$ \\tau, \\tau^2, ..., \\sigma \\times \\tau^{45} $ (они состоят из произведений независимых циклов). Получается, что если все бусины в одном цикле одинакого цвета, тогда под действием преобразования расцветка бус не изментся, изменятся только позиции, чем и являтеся $ X^g $. "
   ]
  },
  {
   "cell_type": "markdown",
   "metadata": {},
   "source": [
    "Тогда $ \\#X^g = 6^{с(g)} $, где $ с(g) $ - количество независимых циклов в перестановке $ g $, а 6 - количество цветов.<br>\n",
    "Посчитаем $\\#X^g $ для всех $ g \\in G$."
   ]
  },
  {
   "cell_type": "markdown",
   "metadata": {},
   "source": [
    "Для этого представим функцию burnside_lemma(), которая также считает $\\sum_{g \\in G}{\\#X^g}$ и $N$ и выводит результаты на экран."
   ]
  },
  {
   "cell_type": "code",
   "execution_count": 9,
   "metadata": {
    "collapsed": true
   },
   "outputs": [
    {
     "name": "stdout",
     "output_type": "stream",
     "text": [
      "#X^e = 6^46 = 623673825204293256669089197883129856\n",
      "#X^τ = 6^1 = 6\n",
      "#X^(τ^2) = 6^2 = 36\n",
      "#X^(τ^3) = 6^1 = 6\n",
      "#X^(τ^4) = 6^2 = 36\n",
      "#X^(τ^5) = 6^1 = 6\n",
      "#X^(τ^6) = 6^2 = 36\n",
      "#X^(τ^7) = 6^1 = 6\n",
      "#X^(τ^8) = 6^2 = 36\n",
      "#X^(τ^9) = 6^1 = 6\n",
      "#X^(τ^10) = 6^2 = 36\n",
      "#X^(τ^11) = 6^1 = 6\n",
      "#X^(τ^12) = 6^2 = 36\n",
      "#X^(τ^13) = 6^1 = 6\n",
      "#X^(τ^14) = 6^2 = 36\n",
      "#X^(τ^15) = 6^1 = 6\n",
      "#X^(τ^16) = 6^2 = 36\n",
      "#X^(τ^17) = 6^1 = 6\n",
      "#X^(τ^18) = 6^2 = 36\n",
      "#X^(τ^19) = 6^1 = 6\n",
      "#X^(τ^20) = 6^2 = 36\n",
      "#X^(τ^21) = 6^1 = 6\n",
      "#X^(τ^22) = 6^2 = 36\n",
      "#X^(τ^23) = 6^23 = 789730223053602816\n",
      "#X^(τ^24) = 6^2 = 36\n",
      "#X^(τ^25) = 6^1 = 6\n",
      "#X^(τ^26) = 6^2 = 36\n",
      "#X^(τ^27) = 6^1 = 6\n",
      "#X^(τ^28) = 6^2 = 36\n",
      "#X^(τ^29) = 6^1 = 6\n",
      "#X^(τ^30) = 6^2 = 36\n",
      "#X^(τ^31) = 6^1 = 6\n",
      "#X^(τ^32) = 6^2 = 36\n",
      "#X^(τ^33) = 6^1 = 6\n",
      "#X^(τ^34) = 6^2 = 36\n",
      "#X^(τ^35) = 6^1 = 6\n",
      "#X^(τ^36) = 6^2 = 36\n",
      "#X^(τ^37) = 6^1 = 6\n",
      "#X^(τ^38) = 6^2 = 36\n",
      "#X^(τ^39) = 6^1 = 6\n",
      "#X^(τ^40) = 6^2 = 36\n",
      "#X^(τ^41) = 6^1 = 6\n",
      "#X^(τ^42) = 6^2 = 36\n",
      "#X^(τ^43) = 6^1 = 6\n",
      "#X^(τ^44) = 6^2 = 36\n",
      "#X^(τ^45) = 6^1 = 6\n",
      "#X^(σ) = 6^23 = 789730223053602816\n",
      "#X^(σ * τ^1) = 6^24 = 4738381338321616896\n",
      "#X^(σ * τ^2) = 6^23 = 789730223053602816\n",
      "#X^(σ * τ^3) = 6^24 = 4738381338321616896\n",
      "#X^(σ * τ^4) = 6^23 = 789730223053602816\n",
      "#X^(σ * τ^5) = 6^24 = 4738381338321616896\n",
      "#X^(σ * τ^6) = 6^23 = 789730223053602816\n",
      "#X^(σ * τ^7) = 6^24 = 4738381338321616896\n",
      "#X^(σ * τ^8) = 6^23 = 789730223053602816\n",
      "#X^(σ * τ^9) = 6^24 = 4738381338321616896\n",
      "#X^(σ * τ^10) = 6^23 = 789730223053602816\n",
      "#X^(σ * τ^11) = 6^24 = 4738381338321616896\n",
      "#X^(σ * τ^12) = 6^23 = 789730223053602816\n",
      "#X^(σ * τ^13) = 6^24 = 4738381338321616896\n",
      "#X^(σ * τ^14) = 6^23 = 789730223053602816\n",
      "#X^(σ * τ^15) = 6^24 = 4738381338321616896\n",
      "#X^(σ * τ^16) = 6^23 = 789730223053602816\n",
      "#X^(σ * τ^17) = 6^24 = 4738381338321616896\n",
      "#X^(σ * τ^18) = 6^23 = 789730223053602816\n",
      "#X^(σ * τ^19) = 6^24 = 4738381338321616896\n",
      "#X^(σ * τ^20) = 6^23 = 789730223053602816\n",
      "#X^(σ * τ^21) = 6^24 = 4738381338321616896\n",
      "#X^(σ * τ^22) = 6^23 = 789730223053602816\n",
      "#X^(σ * τ^23) = 6^24 = 4738381338321616896\n",
      "#X^(σ * τ^24) = 6^23 = 789730223053602816\n",
      "#X^(σ * τ^25) = 6^24 = 4738381338321616896\n",
      "#X^(σ * τ^26) = 6^23 = 789730223053602816\n",
      "#X^(σ * τ^27) = 6^24 = 4738381338321616896\n",
      "#X^(σ * τ^28) = 6^23 = 789730223053602816\n",
      "#X^(σ * τ^29) = 6^24 = 4738381338321616896\n",
      "#X^(σ * τ^30) = 6^23 = 789730223053602816\n",
      "#X^(σ * τ^31) = 6^24 = 4738381338321616896\n",
      "#X^(σ * τ^32) = 6^23 = 789730223053602816\n",
      "#X^(σ * τ^33) = 6^24 = 4738381338321616896\n",
      "#X^(σ * τ^34) = 6^23 = 789730223053602816\n",
      "#X^(σ * τ^35) = 6^24 = 4738381338321616896\n",
      "#X^(σ * τ^36) = 6^23 = 789730223053602816\n",
      "#X^(σ * τ^37) = 6^24 = 4738381338321616896\n",
      "#X^(σ * τ^38) = 6^23 = 789730223053602816\n",
      "#X^(σ * τ^39) = 6^24 = 4738381338321616896\n",
      "#X^(σ * τ^40) = 6^23 = 789730223053602816\n",
      "#X^(σ * τ^41) = 6^24 = 4738381338321616896\n",
      "#X^(σ * τ^42) = 6^23 = 789730223053602816\n",
      "#X^(σ * τ^43) = 6^24 = 4738381338321616896\n",
      "#X^(σ * τ^44) = 6^23 = 789730223053602816\n",
      "#X^(σ * τ^45) = 6^24 = 4738381338321616896\n",
      "#X^g sum = 623673825204293384605385332566786972\n",
      "N = 6779063317437971571797666658334641\n"
     ]
    }
   ],
   "source": [
    "def burnside_lemma():\n",
    "    G = SymmetricGroup(46)\n",
    "    elementary_beads = G([(i) for i in range(1, 47, 1)])\n",
    "    beads_numbers = G(tuple(srange(1, 47, 1)))\n",
    "    symmetric_beads_numbers = G(srange(46, 0, -1))\n",
    "    result = 0\n",
    "    \n",
    "    X_g = len(elementary_beads.cycle_tuples(singletons=True))\n",
    "    result += 6 ** X_g\n",
    "    print(f\"#X^e = 6^{X_g} =\", 6 ** X_g)\n",
    "\n",
    "    X_g = len(beads_numbers.cycle_tuples(singletons=True))\n",
    "    result += 6 ** X_g\n",
    "    print(f\"#X^\\u03C4 = 6^{X_g} =\", 6 ** X_g)\n",
    "    for i in range(2, 46):\n",
    "        X_g = len((beads_numbers ** i).cycle_tuples(singletons=True))\n",
    "        result += 6 ** X_g\n",
    "        print(f\"#X^(\\u03C4^{i}) = 6^{X_g} =\", 6 ** X_g)\n",
    "\n",
    "    X_g = len(symmetric_beads_numbers.cycle_tuples(singletons=True))\n",
    "    result += 6 ** X_g\n",
    "    print(f\"#X^(\\u03C3) = 6^{X_g} =\", 6 ** X_g)\n",
    "    for i in range(1, 46):\n",
    "        X_g = len(((beads_numbers ** i) * symmetric_beads_numbers).cycle_tuples(singletons=True))\n",
    "        result += 6 ** X_g\n",
    "        print(f\"#X^(\\u03C3 * \\u03C4^{i}) = 6^{X_g} =\", 6 ** X_g)\n",
    "\n",
    "    print(f\"#X^g sum =\", result)\n",
    "    print(f\"N =\", result/92)\n",
    "    \n",
    "    \n",
    "burnside_lemma()"
   ]
  },
  {
   "cell_type": "markdown",
   "metadata": {},
   "source": [
    "Таким образом, искомое число возможных раскрасок бус из 46 бусинок 6 цветов (с точностью до поворотов и осевой симметрии):\n",
    "\n",
    "$$ N = 6779063317437971571797666658334641 $$"
   ]
  },
  {
   "cell_type": "markdown",
   "metadata": {},
   "source": [
    "### 2. Графическое представление раскраски"
   ]
  },
  {
   "cell_type": "markdown",
   "metadata": {},
   "source": [
    "Представим функции <i>rotate_beads</i>, которая будет вращать бусы по часовой стрелке, а также <i>draw_colored_beads</i>, которая как раз будет представлять раскраску графически:"
   ]
  },
  {
   "cell_type": "code",
   "execution_count": 31,
   "metadata": {},
   "outputs": [],
   "source": [
    "def rotate_beads(x_y, angle):\n",
    "    angle = angle * pi() / 180\n",
    "    \n",
    "    return (matrix([[cos(angle), -sin(angle)], [sin(angle), cos(angle)]]) * x_y.transpose()).transpose()\n",
    "\n",
    "\n",
    "def draw_colored_beads(coloring_number, distance_between_beads = 100, bead_size = 50, beads = 46):\n",
    "    num = 6\n",
    "    colors = [\"red\", \"green\", \"blue\", \"brown\", \"violet\", \"orange\"]\n",
    "    beads_color = []\n",
    "    \n",
    "    for _ in range(46):\n",
    "        beads_color.append(colors[coloring_number % num])\n",
    "        coloring_number //= num\n",
    "        \n",
    "    x_y = matrix([distance_between_beads, 0])\n",
    "    start_angle = 360 / beads\n",
    "    bead = point(x_y.list(), color = beads_color[0], size = bead_size)\n",
    "    \n",
    "    for i in range(1, beads):\n",
    "        current_center_x_y = (rotate_beads(x_y, start_angle * i)).list()\n",
    "        bead += point(current_center_x_y, color = beads_color[i], size = bead_size)\n",
    "        \n",
    "    show(bead, axes=False)"
   ]
  },
  {
   "cell_type": "markdown",
   "metadata": {},
   "source": [
    "Представим примеры некоторых раскрасок:"
   ]
  },
  {
   "cell_type": "code",
   "execution_count": 32,
   "metadata": {
    "scrolled": true
   },
   "outputs": [
    {
     "data": {
      "image/png": "[encoded data removed]",
      "text/plain": [
       "Graphics object consisting of 46 graphics primitives"
      ]
     },
     "metadata": {},
     "output_type": "display_data"
    }
   ],
   "source": [
    "draw_colored_beads(0)"
   ]
  },
  {
   "cell_type": "code",
   "execution_count": 33,
   "metadata": {
    "scrolled": true
   },
   "outputs": [
    {
     "data": {
      "image/png": "[encoded data removed]",
      "text/plain": [
       "Graphics object consisting of 46 graphics primitives"
      ]
     },
     "metadata": {},
     "output_type": "display_data"
    }
   ],
   "source": [
    "draw_colored_beads(10)"
   ]
  },
  {
   "cell_type": "code",
   "execution_count": 34,
   "metadata": {
    "scrolled": false
   },
   "outputs": [
    {
     "data": {
      "image/png": "[encoded data removed]",
      "text/plain": [
       "Graphics object consisting of 46 graphics primitives"
      ]
     },
     "metadata": {},
     "output_type": "display_data"
    }
   ],
   "source": [
    "draw_colored_beads(13244531231254)"
   ]
  },
  {
   "cell_type": "code",
   "execution_count": 39,
   "metadata": {
    "scrolled": true
   },
   "outputs": [
    {
     "data": {
      "image/png": "[encoded data removed]",
      "text/plain": [
       "Graphics object consisting of 46 graphics primitives"
      ]
     },
     "metadata": {},
     "output_type": "display_data"
    }
   ],
   "source": [
    "draw_colored_beads(677906331743797157179)"
   ]
  },
  {
   "cell_type": "code",
   "execution_count": 40,
   "metadata": {},
   "outputs": [
    {
     "data": {
      "image/png": "[encoded data removed]",
      "text/plain": [
       "Graphics object consisting of 46 graphics primitives"
      ]
     },
     "metadata": {},
     "output_type": "display_data"
    }
   ],
   "source": [
    "draw_colored_beads(6779063317437971571794444)"
   ]
  },
  {
   "cell_type": "markdown",
   "metadata": {},
   "source": [
    "### Вывод"
   ]
  },
  {
   "cell_type": "markdown",
   "metadata": {},
   "source": [
    "Средствами системы компьютерной алгебры <i>SageMath</i> удалось графически представить раскраску, основанную на использовании леммы Бернсайда."
   ]
  },
  {
   "cell_type": "markdown",
   "metadata": {},
   "source": [
    "## Выводы\n",
    "\n",
    "Сформированы представления о задачах о раскарсках, выработано умение использование леммы Бёрнсайда для решения задачи о раскрасках, привит навык использования систем компьютерной алгебры для реализации алгоритмов решения задачи. Аналитически решена задача о раскрасках и полученные результаты содержательно проинтерпретированны; графически отображено решение задачи о раскраске 46 бусин в 6 цветов с точностью до поворотов и осевых симметрий с использованием системы компьютерной алгебры <i>SageMath</i>."
   ]
  }
 ],
 "metadata": {
  "kernelspec": {
   "display_name": "SageMath 9.5",
   "language": "sage",
   "name": "sagemath"
  },
  "language_info": {
   "codemirror_mode": {
    "name": "ipython",
    "version": 3
   },
   "file_extension": ".py",
   "mimetype": "text/x-python",
   "name": "python",
   "nbconvert_exporter": "python",
   "pygments_lexer": "ipython3",
   "version": "3.10.6"
  }
 },
 "nbformat": 4,
 "nbformat_minor": 4
}
