{
 "cells": [
  {
   "cell_type": "markdown",
   "metadata": {},
   "source": [
    "# Практическая работа №2: Исследование задач о раскрасках\n",
    "\n",
    "Выполнил студент гр. 9381 Камакин Даниил, вариант 51."
   ]
  },
  {
   "cell_type": "markdown",
   "metadata": {},
   "source": [
    "## Цель работы\n",
    "Формирование представления о задачах о раскрасках, выработать умение использование леммы Бёрнсайда для решения задачи о раскрасках, привить навык использования систем компьютерной алгебры для реализации алгоритмов решения задачи."
   ]
  },
  {
   "cell_type": "markdown",
   "metadata": {},
   "source": [
    "## Основные теоретические положения\n",
    "\n",
    "### Определение 1\n",
    "Пусть $G$ - группа с нейтральным элементом $e$, $X$ - множество, тогда $G$ действует на $X$, если задана операция $G \\times X \\to X$, обладающая следующими свойствами ($\\forall x \\in X$ и $\\forall g,h \\in G$): \n",
    "\n",
    "1) $ex = x$\n",
    "\n",
    "2) $g(hx) = (gh)x$\n",
    "\n",
    "### Определение орбиты\n",
    "Орбитой $x \\in X$ под действием $G$ называется множество $Gx = \\{gx | g \\in G\\}$. Количество элементов в данной орбите называется длиной орбиты. Любые две орбиты либо не пересекаются, либо совпадают.\n",
    "\n",
    "### Определение неподвижной точки\n",
    "Неподвижными точками элемента $g \\in G$ называются те $x \\in X$, для которых $gx = x$. Множество неподвижных точек элемента g обозначается через $X^{g}$.\n",
    "\n",
    "### Лемма Бёрнсайда\n",
    "Количество орбит действия группы $G$ на множестве $X$ равно:\n",
    "\n",
    "$\\frac{1}{|G|}\\sum_{g \\in G} |X^{g}|$\n",
    "\n",
    "\n",
    "### Определение раскраски\n",
    "Пусть $I$ - произвольное множество, а $C$ - множество цветов. Раскраской множества $I$ называется функция из $I$ в $C$. Множество всех раскрасок обозначается через $C^{I}$. \n",
    "\n",
    "\n",
    "### Определение 2\n",
    "Количество раскрасок из $C^{I}$, которые сохраняет данный элемент $g \\in G$ равно $|C^{c(\\varphi(g))}|$, где $c(\\varphi(g))$ - количество независимых циклов перестановки $\\varphi(g)$ (считая циклы длины 1)."
   ]
  },
  {
   "cell_type": "markdown",
   "metadata": {},
   "source": [
    "## Постановка задачи\n",
    "\n",
    "Аналитически решить задачу о раскрасках; графически отобразить решения задачи с использованием системы компьютерной алгебры SageMath. Полученные результаты содержательно проинтерпретировать.\n",
    "\n",
    "### Порядок выполнения работы \n",
    "\n",
    "1. Аналитически решить задачу о раскрасках для заданного варианта. Все умозаключения в ходе решения обосновать и содержательно проинтерпретировать.\n",
    "\n",
    "2. Реализовать средствами SageMath функцию, отображающую графически раскраску по заданному номеру. Продемонстрировать работу функции на нескольких примерах. Сделать выводы.\n",
    "\n",
    "3. _Дополнительное необязательное задание: для заданного варианта решить задачу в общем виде._"
   ]
  },
  {
   "cell_type": "markdown",
   "metadata": {},
   "source": [
    "## Выполнение работы\n",
    "\n",
    "\n",
    "### Условие задачи\n",
    "\n",
    "Каждая сторона квадрата разбита на 11 равных частей и через точки деления проведены отрезки, параллельные сторонам квадрата. В получившиеся клеточки вставляют цветные стёкла 3 различных цветов. Сколькими способами можно составить такую мозаику (с точностью до поворотов и осевых симметрий квадрата)?"
   ]
  },
  {
   "cell_type": "code",
   "execution_count": 2,
   "metadata": {},
   "outputs": [],
   "source": [
    "import random\n",
    "from sage.plot.matrix_plot import MatrixPlot\n",
    "\n",
    "amountColors = 3\n",
    "amountParts = 11"
   ]
  },
  {
   "cell_type": "code",
   "execution_count": 3,
   "metadata": {},
   "outputs": [],
   "source": [
    "def printMatrix(matrix):\n",
    "    for i in range(len(matrix)):\n",
    "        print(matrix[i])"
   ]
  },
  {
   "cell_type": "code",
   "execution_count": 4,
   "metadata": {},
   "outputs": [],
   "source": [
    "def rotateMatrix(matrix):\n",
    "    return [list(reversed(col)) for col in zip(*matrix)]"
   ]
  },
  {
   "cell_type": "code",
   "execution_count": 5,
   "metadata": {},
   "outputs": [],
   "source": [
    "def mirrorVerticalAxisMatrix(matrix): \n",
    "    for i in range(len(matrix)):\n",
    "        matrix[i] = matrix[i][::-1]\n",
    "    return matrix    "
   ]
  },
  {
   "cell_type": "code",
   "execution_count": 6,
   "metadata": {},
   "outputs": [],
   "source": [
    "def mirrorHorizontalAxisMatrix(matrix): \n",
    "    length = len(matrix)\n",
    "    for i in range(length // 2):\n",
    "        for j in range(length):\n",
    "            x = matrix[i][j]\n",
    "            matrix[i][j] = matrix[length - 1 - i][j]\n",
    "            matrix[length - 1 - i][j] = x\n",
    "    return matrix"
   ]
  },
  {
   "cell_type": "code",
   "execution_count": 7,
   "metadata": {},
   "outputs": [],
   "source": [
    "def mirrorSideDiagonalMatrix(matrix):\n",
    "    length = len(matrix) - 1\n",
    "    for i in range(length):\n",
    "        for j in range(length - i + 1):\n",
    "            x = matrix[i][j]\n",
    "            matrix[i][j] = matrix[length - j][length - i]\n",
    "            matrix[length - j][length - i] = x\n",
    "    return matrix        "
   ]
  },
  {
   "cell_type": "code",
   "execution_count": 8,
   "metadata": {},
   "outputs": [],
   "source": [
    "def mirrorMainDiagonalMatrix(matrix):\n",
    "    length = len(matrix)\n",
    "    for i in range(length):\n",
    "        for j in range(i):\n",
    "            x = matrix[i][j]\n",
    "            matrix[i][j] = matrix[j][i]\n",
    "            matrix[j][i] = x\n",
    "    return matrix "
   ]
  },
  {
   "cell_type": "code",
   "execution_count": 9,
   "metadata": {},
   "outputs": [],
   "source": [
    "def randomOperations(matrix, amount):\n",
    "    for i in range(amount):\n",
    "        operation = random.randint(1,5)\n",
    "        if (operation == 1):\n",
    "            print(\"90° rotation: \")\n",
    "            matrix = rotateMatrix(matrix)\n",
    "        elif (operation == 2):\n",
    "            print(\"mirror relative vertical axis\")\n",
    "            matrix = mirrorVerticalAxisMatrix(matrix)\n",
    "        elif (operation == 3):\n",
    "            print(\"mirror relative horizontal axis\")\n",
    "            matrix = mirrorHorizontalAxisMatrix(matrix)\n",
    "        elif (operation == 4):\n",
    "            print(\"mirror relative main diagonal\")\n",
    "            matrix = mirrorMainDiagonalMatrix(matrix)\n",
    "        elif (operation == 5):\n",
    "            print(\"mirror relative side diagonal\")\n",
    "            matrix = mirrorSideDiagonalMatrix(matrix)\n",
    "    return matrix     "
   ]
  },
  {
   "cell_type": "code",
   "execution_count": 10,
   "metadata": {},
   "outputs": [],
   "source": [
    "matrix = []\n",
    "count = 1\n",
    "for i in range(amountParts):\n",
    "    currRow = []\n",
    "    for j in range(1, amountParts + 1):\n",
    "        currRow.append(count)\n",
    "        count += 1\n",
    "    matrix.append(currRow)  "
   ]
  },
  {
   "cell_type": "markdown",
   "metadata": {},
   "source": [
    "После деления сторон квадрата на 11 частей и проведения линий, параллельных сторонам, имеем мозаику размером $11x11$, каждый элемент которой принимает один из трёх цветов. Занумеруем места для кусочков мозаики числами от 1 до 121, а цвета - буквами a, b, c. Получаем последовательность $\\{x_1, x_2, x_3,...,x_121\\}$, $x_i \\in \\{a, b, c\\}$. Всего существует $3^{121}$ способов составить такую мозаику, однако не все из них различны.\n",
    "\n",
    "Пусть на первом месте стоит красный кусочек, на 11 - белый, на 121 - синий, на 111 - белый. Тогда, после поворота на 90 градусов, на первом месте будет белый цвет, на 11 - красный, на 121 - белый и на 111 - синий. Сами куски при этом такие же как и до поворота. Рассмотрим теперь симметричный поворот. Всего имеем 4 оси симметрии квадрата, рассмотрим поворот относительно центральной (проходит через места $6, 17, 28..$), имеем следующие циклы: $(1, 11), (2, 10), (3, 9),...,(115, 117), 6, 17, 28, 39, 50, 61, 72, 83, 94, 105, 110$ - таких циклов 66 для каждой оси. Таким образом на множестве всех раскрасок $X$ действует группа поворотов и осевых симметрий операция в группе - композиция, она является ассоциативной, нейтральный элемент - тождественное отображение, обратный элемент к осевой симметрии - сама симметрия, обратный элемент к повороту - поворот в другую сторону. Эту группу обозначим как $G$.\n",
    "\n",
    "Группа $G$ действует на множестве мест $\\{1, 2, 3,..., 121\\}$. Через $\\tau$ обозначим поворот, а последний элемент передвигаем на первый. Необходимо знать сколько циклов в каждой перестановке, который получаются по действием элементов группы $G$.\n",
    "\n",
    "Имеем изначальное состояние мозаики $\\tau^1 = \\{1, 2,...,121\\}$. В такой перестановке 121 цикл. Рассмотрим поворот на 90 градусов. Получаем следующие циклы: $\\tau^2 = (1, 11, 121, 111), (12, 10, 110, 112),...,(49, 52, 73, 76), 61$ - таких циклов 31.  "
   ]
  },
  {
   "cell_type": "code",
   "execution_count": 11,
   "metadata": {},
   "outputs": [
    {
     "name": "stdout",
     "output_type": "stream",
     "text": [
      "Initial state: \n",
      "[1, 2, 3, 4, 5, 6, 7, 8, 9, 10, 11]\n",
      "[12, 13, 14, 15, 16, 17, 18, 19, 20, 21, 22]\n",
      "[23, 24, 25, 26, 27, 28, 29, 30, 31, 32, 33]\n",
      "[34, 35, 36, 37, 38, 39, 40, 41, 42, 43, 44]\n",
      "[45, 46, 47, 48, 49, 50, 51, 52, 53, 54, 55]\n",
      "[56, 57, 58, 59, 60, 61, 62, 63, 64, 65, 66]\n",
      "[67, 68, 69, 70, 71, 72, 73, 74, 75, 76, 77]\n",
      "[78, 79, 80, 81, 82, 83, 84, 85, 86, 87, 88]\n",
      "[89, 90, 91, 92, 93, 94, 95, 96, 97, 98, 99]\n",
      "[100, 101, 102, 103, 104, 105, 106, 107, 108, 109, 110]\n",
      "[111, 112, 113, 114, 115, 116, 117, 118, 119, 120, 121]\n"
     ]
    }
   ],
   "source": [
    "print(\"Initial state: \")\n",
    "printMatrix(matrix)"
   ]
  },
  {
   "cell_type": "code",
   "execution_count": 12,
   "metadata": {},
   "outputs": [
    {
     "name": "stdout",
     "output_type": "stream",
     "text": [
      "90° rotation: \n",
      "[111, 100, 89, 78, 67, 56, 45, 34, 23, 12, 1]\n",
      "[112, 101, 90, 79, 68, 57, 46, 35, 24, 13, 2]\n",
      "[113, 102, 91, 80, 69, 58, 47, 36, 25, 14, 3]\n",
      "[114, 103, 92, 81, 70, 59, 48, 37, 26, 15, 4]\n",
      "[115, 104, 93, 82, 71, 60, 49, 38, 27, 16, 5]\n",
      "[116, 105, 94, 83, 72, 61, 50, 39, 28, 17, 6]\n",
      "[117, 106, 95, 84, 73, 62, 51, 40, 29, 18, 7]\n",
      "[118, 107, 96, 85, 74, 63, 52, 41, 30, 19, 8]\n",
      "[119, 108, 97, 86, 75, 64, 53, 42, 31, 20, 9]\n",
      "[120, 109, 98, 87, 76, 65, 54, 43, 32, 21, 10]\n",
      "[121, 110, 99, 88, 77, 66, 55, 44, 33, 22, 11]\n"
     ]
    }
   ],
   "source": [
    "print(\"90° rotation: \")\n",
    "printMatrix(rotateMatrix(matrix))"
   ]
  },
  {
   "cell_type": "markdown",
   "metadata": {},
   "source": [
    "Циклы после поворота на 180 градусов: $\\tau^3 = (1, 121), (2, 120),...,(49, 73), 61$ - всего 61."
   ]
  },
  {
   "cell_type": "code",
   "execution_count": 13,
   "metadata": {},
   "outputs": [
    {
     "name": "stdout",
     "output_type": "stream",
     "text": [
      "180° rotation: \n",
      "[121, 120, 119, 118, 117, 116, 115, 114, 113, 112, 111]\n",
      "[110, 109, 108, 107, 106, 105, 104, 103, 102, 101, 100]\n",
      "[99, 98, 97, 96, 95, 94, 93, 92, 91, 90, 89]\n",
      "[88, 87, 86, 85, 84, 83, 82, 81, 80, 79, 78]\n",
      "[77, 76, 75, 74, 73, 72, 71, 70, 69, 68, 67]\n",
      "[66, 65, 64, 63, 62, 61, 60, 59, 58, 57, 56]\n",
      "[55, 54, 53, 52, 51, 50, 49, 48, 47, 46, 45]\n",
      "[44, 43, 42, 41, 40, 39, 38, 37, 36, 35, 34]\n",
      "[33, 32, 31, 30, 29, 28, 27, 26, 25, 24, 23]\n",
      "[22, 21, 20, 19, 18, 17, 16, 15, 14, 13, 12]\n",
      "[11, 10, 9, 8, 7, 6, 5, 4, 3, 2, 1]\n"
     ]
    }
   ],
   "source": [
    "print(\"180° rotation: \")\n",
    "printMatrix(rotateMatrix(rotateMatrix(matrix)))"
   ]
  },
  {
   "cell_type": "markdown",
   "metadata": {},
   "source": [
    "Циклы после поворота на 270 градусов: $\\tau^4 = (1, 111, 121, 10), (2, 100, 120, 22),...,61$ - 31 цикл"
   ]
  },
  {
   "cell_type": "code",
   "execution_count": 14,
   "metadata": {},
   "outputs": [
    {
     "name": "stdout",
     "output_type": "stream",
     "text": [
      "270° rotation: \n",
      "[11, 22, 33, 44, 55, 66, 77, 88, 99, 110, 121]\n",
      "[10, 21, 32, 43, 54, 65, 76, 87, 98, 109, 120]\n",
      "[9, 20, 31, 42, 53, 64, 75, 86, 97, 108, 119]\n",
      "[8, 19, 30, 41, 52, 63, 74, 85, 96, 107, 118]\n",
      "[7, 18, 29, 40, 51, 62, 73, 84, 95, 106, 117]\n",
      "[6, 17, 28, 39, 50, 61, 72, 83, 94, 105, 116]\n",
      "[5, 16, 27, 38, 49, 60, 71, 82, 93, 104, 115]\n",
      "[4, 15, 26, 37, 48, 59, 70, 81, 92, 103, 114]\n",
      "[3, 14, 25, 36, 47, 58, 69, 80, 91, 102, 113]\n",
      "[2, 13, 24, 35, 46, 57, 68, 79, 90, 101, 112]\n",
      "[1, 12, 23, 34, 45, 56, 67, 78, 89, 100, 111]\n"
     ]
    }
   ],
   "source": [
    "print(\"270° rotation: \")\n",
    "printMatrix(rotateMatrix(rotateMatrix(rotateMatrix(matrix))))"
   ]
  },
  {
   "cell_type": "markdown",
   "metadata": {},
   "source": [
    "Таким образом мы рассмотрели все возможные повороты. Выясним, сколько элементов множества $X$ оставляет на месте каждый элемент группы $G$. По Определению 2:\n",
    "\n",
    "$|X^{\\tau^1}| = 3^{121}$\n",
    "\n",
    "$|X^{\\tau^2}| = 3^{31}$\n",
    "\n",
    "$|X^{\\tau^3}| = 3^{61}$\n",
    "\n",
    "$|X^{\\tau^4}| = 3^{31}$\n",
    "\n",
    "$|G| = 8$\n",
    "\n",
    "$\\frac{1}{|G|}\\sum_{g \\in G} |X^{g}| = \\frac{1}{8}(3^{121} + 4*3^{66} + 3^{31} + 3^{61} + 3^{31})$"
   ]
  },
  {
   "cell_type": "markdown",
   "metadata": {},
   "source": [
    "### Графическое отображение\n",
    "#### Изначальная мозаика:"
   ]
  },
  {
   "cell_type": "code",
   "execution_count": 20,
   "metadata": {},
   "outputs": [
    {
     "data": {
      "image/png": "[encoded data removed]",
      "text/plain": [
       "Graphics object consisting of 1 graphics primitive"
      ]
     },
     "metadata": {},
     "output_type": "display_data"
    }
   ],
   "source": [
    "matrix = []\n",
    "for i in range(amountParts):\n",
    "    currRow = []\n",
    "    for j in range(1, amountParts + 1):\n",
    "        currRow.append(random.randint(10,12))\n",
    "    matrix.append(currRow) \n",
    "    \n",
    "matrix_plot(matrix, cmap = \"Accent\").show(fontsize = 10)"
   ]
  },
  {
   "cell_type": "markdown",
   "metadata": {},
   "source": [
    "#### Поворот на 90°"
   ]
  },
  {
   "cell_type": "code",
   "execution_count": 19,
   "metadata": {},
   "outputs": [
    {
     "data": {
      "image/png": "[encoded data removed]",
      "text/plain": [
       "Graphics object consisting of 1 graphics primitive"
      ]
     },
     "metadata": {},
     "output_type": "display_data"
    }
   ],
   "source": [
    "matrix_plot(rotateMatrix(matrix), cmap = \"Accent\").show(fontsize = 10)"
   ]
  },
  {
   "cell_type": "markdown",
   "metadata": {},
   "source": [
    "#### Поворот на 180°"
   ]
  },
  {
   "cell_type": "code",
   "execution_count": 17,
   "metadata": {},
   "outputs": [
    {
     "data": {
      "image/png": "[encoded data removed]",
      "text/plain": [
       "Graphics object consisting of 1 graphics primitive"
      ]
     },
     "metadata": {},
     "output_type": "display_data"
    }
   ],
   "source": [
    "matrix_plot(rotateMatrix(rotateMatrix(matrix)), cmap = \"Accent\").show(fontsize = 10)"
   ]
  },
  {
   "cell_type": "markdown",
   "metadata": {},
   "source": [
    "#### Поворот на 270°"
   ]
  },
  {
   "cell_type": "code",
   "execution_count": 17,
   "metadata": {},
   "outputs": [
    {
     "data": {
      "image/png": "[encoded data removed]",
      "text/plain": [
       "Graphics object consisting of 1 graphics primitive"
      ]
     },
     "metadata": {},
     "output_type": "display_data"
    }
   ],
   "source": [
    "matrix_plot(rotateMatrix(rotateMatrix(rotateMatrix(matrix))), cmap = \"Accent\").show(fontsize = 10)"
   ]
  },
  {
   "cell_type": "markdown",
   "metadata": {},
   "source": [
    "#### Симметричное отображение относительно вертикальной оси"
   ]
  },
  {
   "cell_type": "code",
   "execution_count": 18,
   "metadata": {},
   "outputs": [
    {
     "data": {
      "image/png": "[encoded data removed]",
      "text/plain": [
       "Graphics object consisting of 1 graphics primitive"
      ]
     },
     "metadata": {},
     "output_type": "display_data"
    }
   ],
   "source": [
    "matrix_plot(mirrorVerticalAxisMatrix(matrix), cmap = \"Accent\").show(fontsize = 10)"
   ]
  },
  {
   "cell_type": "markdown",
   "metadata": {},
   "source": [
    "#### Симметричное отображение относительно горизонтальной оси"
   ]
  },
  {
   "cell_type": "code",
   "execution_count": 19,
   "metadata": {},
   "outputs": [
    {
     "data": {
      "image/png": "[encoded data removed]",
      "text/plain": [
       "Graphics object consisting of 1 graphics primitive"
      ]
     },
     "metadata": {},
     "output_type": "display_data"
    }
   ],
   "source": [
    "matrix_plot(mirrorHorizontalAxisMatrix(matrix), cmap = \"Accent\").show(fontsize = 10)"
   ]
  },
  {
   "cell_type": "markdown",
   "metadata": {},
   "source": [
    "#### Симметричное отображение относительно главной диагонали"
   ]
  },
  {
   "cell_type": "code",
   "execution_count": 20,
   "metadata": {},
   "outputs": [
    {
     "data": {
      "image/png": "[encoded data removed]",
      "text/plain": [
       "Graphics object consisting of 1 graphics primitive"
      ]
     },
     "metadata": {},
     "output_type": "display_data"
    }
   ],
   "source": [
    "matrix_plot(mirrorMainDiagonalMatrix(matrix), cmap = \"Accent\").show(fontsize = 10)"
   ]
  },
  {
   "cell_type": "markdown",
   "metadata": {},
   "source": [
    "#### Симметричное отображение относительно побочной диагонали"
   ]
  },
  {
   "cell_type": "code",
   "execution_count": 21,
   "metadata": {},
   "outputs": [
    {
     "data": {
      "image/png": "[encoded data removed]",
      "text/plain": [
       "Graphics object consisting of 1 graphics primitive"
      ]
     },
     "metadata": {},
     "output_type": "display_data"
    }
   ],
   "source": [
    "matrix_plot(mirrorSideDiagonalMatrix(matrix), cmap = \"Accent\").show(fontsize = 10)"
   ]
  },
  {
   "cell_type": "markdown",
   "metadata": {},
   "source": [
    "#### Случайные операции"
   ]
  },
  {
   "cell_type": "code",
   "execution_count": 22,
   "metadata": {},
   "outputs": [
    {
     "name": "stdout",
     "output_type": "stream",
     "text": [
      "Initial state: \n"
     ]
    },
    {
     "data": {
      "image/png": "[encoded data removed]",
      "text/plain": [
       "Graphics object consisting of 1 graphics primitive"
      ]
     },
     "metadata": {},
     "output_type": "display_data"
    },
    {
     "name": "stdout",
     "output_type": "stream",
     "text": [
      "Enter amount of random operations: 5\n",
      "mirror relative horizontal axis\n",
      "mirror relative vertical axis\n",
      "mirror relative vertical axis\n",
      "mirror relative main diagonal\n",
      "90° rotation: \n"
     ]
    },
    {
     "data": {
      "image/png": "[encoded data removed]",
      "text/plain": [
       "Graphics object consisting of 1 graphics primitive"
      ]
     },
     "metadata": {},
     "output_type": "display_data"
    }
   ],
   "source": [
    "print(\"Initial state: \")\n",
    "matrix_plot(matrix, cmap = \"Accent\").show(fontsize = 10)\n",
    "matrix_plot(randomOperations(matrix, int(input(\"Enter amount of random operations: \"))), cmap = \"Accent\").show(fontsize = 10)"
   ]
  },
  {
   "cell_type": "markdown",
   "metadata": {},
   "source": [
    "## Выводы\n"
   ]
  },
  {
   "cell_type": "markdown",
   "metadata": {},
   "source": [
    "Выработано умение использовать лемму Бёрнсайда для решения задачи о раскрасках, привиты навыки использования систем компьютерной алгебры для реализации алгоритмов решения задачи."
   ]
  }
 ],
 "metadata": {
  "kernelspec": {
   "display_name": "SageMath 9.3",
   "language": "sage",
   "name": "sagemath"
  },
  "language_info": {
   "codemirror_mode": {
    "name": "ipython",
    "version": 3
   },
   "file_extension": ".py",
   "mimetype": "text/x-python",
   "name": "python",
   "nbconvert_exporter": "python",
   "pygments_lexer": "ipython3",
   "version": "3.7.10"
  }
 },
 "nbformat": 4,
 "nbformat_minor": 4
}
