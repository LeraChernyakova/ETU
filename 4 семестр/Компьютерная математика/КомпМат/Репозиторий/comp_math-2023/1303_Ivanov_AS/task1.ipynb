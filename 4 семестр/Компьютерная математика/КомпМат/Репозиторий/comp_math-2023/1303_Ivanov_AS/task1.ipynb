{
 "cells": [
  {
   "cell_type": "markdown",
   "metadata": {},
   "source": [
    "### Практическая работа №1: Алгоритмы эффективного вычисления одночленов\n",
    "\n",
    "Выполнил студент гр. 1303 Иванов Артур. Вариант №9."
   ]
  },
  {
   "cell_type": "markdown",
   "metadata": {},
   "source": [
    "## Цель работы\n",
    "\n",
    "Сформировать знания о работе алгоритмах вычисления одночленов за\n",
    "минимальное число операций, привить навык использования систем ком-\n",
    "пьютерной математики для реализации алгоритмов."
   ]
  },
  {
   "cell_type": "markdown",
   "metadata": {},
   "source": [
    "## Основные теоретические положения\n",
    "\n",
    "Введём обозначения:<br>\n",
    "$\\lambda(n) = \\lfloor log_{2}(n) \\rfloor$ - уменьшенная на 1 длина бинарной записи n<br>\n",
    "$\\nu(n)$ - вес Хэмминга для бинарной записи числа $n$ (число единиц в бинарной записи)\n",
    "\n",
    "### Бинарный метод $SX$\n",
    "\n",
    "<ol>\n",
    "<li>Запишем $n$ в двоичной СС:<center> $n = (a_{m}, a_{m-1}, ..., a_{1})_{2}$, при этом $a_{m} = 1$</center></li>\n",
    "<li>Отбрасываем старший бит</li>\n",
    "<li>Преобразуем запись $n:$<center>$a_{i} = 1 \\Rightarrow a_{i} = SX$<br>$a_{i} = 0 \\Rightarrow a_{i} = S$</center></li>\n",
    "<li>Далее вычисляем, начиная с $x$. Далее идём по преобразованной записи $n:$<center>$a_{i} = S \\Rightarrow x = x ^ 2$<br>$a_{i} = X \\Rightarrow x = x \\cdot x$</center></li>\n",
    "</ol>\n",
    "Число операций для бинарного метода $SX$ можно записать следующим образом: $\\lambda(n) + \\nu(n) - 1$\n",
    "    \n",
    "### Бинарный метод возведения справа налево \n",
    "<ol>\n",
    "    <li>На нулевой итерации $N = n; Y = 1; Z = x$</li>\n",
    "    <li>Если $N$ чётно - переходим на пункт 3, иначе - на пункт 4</li>\n",
    "    <li>Перезаписываем $N = \\lfloor N/2 \\rfloor; Z = Z \\cdot Z$; переходим на пункт 2</li>\n",
    "    <li>Перезаписываем $N = \\lfloor N/2 \\rfloor; Y = Z \\cdot Y$</li>\n",
    "    <li>Если $N = 0$, то возвращаем $Y$ как ответ и выходим из алгоритма. Иначе - перезаписываем $Z = Z \\cdot Z$ и переходим на пункт 2</li>\n",
    "</ol>\n",
    "Число операций для бинарного метода справа налево можно записать следующим образом: $\\lambda(n) + \\nu(n)$\n",
    "\n",
    "### Метод множителей\n",
    "<ol>\n",
    "    <li>Представим $n$ в виде $n = p \\cdot q$, где $p$ - наименьший простой множитель $n$, а $q > 1$. Таким образом, $x^n$ можно найти, вычислив $x^p$ и возведя эту величину в степень $q$</li>\n",
    "    <li>Если $n$ - простое, то вычислим $x^{n-1}$ и умножим его на x</li>\n",
    "    <li>При $n = 1$ - получим $x^n$</li>\n",
    "</ol>\n",
    "\n",
    "### Дерево степеней\n",
    "<ol>\n",
    "    <li>На нулевом уровне в дереве только один узел - $1$. Это корень дерева</li>\n",
    "    <li>$k+1$-й уровень строим по следующему принципу: берется каждый узел $i$ на $k$-м уровне слева направо и присоединяются узлы $i+a_{0}, i+a_{1}, ..., i+a_{k-1}$</li>\n",
    "    <li>При этом, если узел уже появлялся - он не добавляется</li>\n",
    "</ol>\n"
   ]
  },
  {
   "cell_type": "markdown",
   "metadata": {},
   "source": [
    "## Постановка задачи\n",
    "\n",
    "Реализовать алгоритмы вычисления мономов за минимальное число операций с использованием системы компьютерной алгебры SageMath, провести анализ алгоритмов. Полученные результаты содержательно проинтерпретировать."
   ]
  },
  {
   "cell_type": "markdown",
   "metadata": {},
   "source": [
    "## Выполнение работы\n",
    "\n",
    "### Бинарный метод SX\n",
    "Реализуем функцию для бинарного метода SX:"
   ]
  },
  {
   "cell_type": "code",
   "execution_count": 81,
   "metadata": {},
   "outputs": [],
   "source": [
    "def sxMethod(n):\n",
    "    result = var('x')\n",
    "    bin_n = str(bin(n))[3:]\n",
    "    sx = bin_n.replace('1','SX').replace('0', 'S')\n",
    "    show(sx)\n",
    "    for i, el in enumerate(sx):\n",
    "        if el == 'X':\n",
    "            result *= x\n",
    "        else:\n",
    "            result ^= 2\n",
    "        print(f\"({i + 1}: {result})\", end = ' ')\n",
    "    return result"
   ]
  },
  {
   "cell_type": "markdown",
   "metadata": {},
   "source": [
    "Приведём пример работы программы на нескольких $n$, а именно $34, 61, 15$: "
   ]
  },
  {
   "cell_type": "code",
   "execution_count": 82,
   "metadata": {},
   "outputs": [
    {
     "data": {
      "text/html": [
       "SSSSXS"
      ],
      "text/plain": [
       "'SSSSXS'"
      ]
     },
     "metadata": {},
     "output_type": "display_data"
    },
    {
     "name": "stdout",
     "output_type": "stream",
     "text": [
      "(1: x^2) (2: x^4) (3: x^8) (4: x^16) (5: x^17) (6: x^34) "
     ]
    },
    {
     "data": {
      "text/html": [
       "<html><script type=\"math/tex; mode=display\">\\newcommand{\\Bold}[1]{\\mathbf{#1}}x^{34}</script></html>"
      ],
      "text/latex": [
       "$$\\newcommand{\\Bold}[1]{\\mathbf{#1}}x^{34}$$"
      ],
      "text/plain": [
       "x^34"
      ]
     },
     "metadata": {},
     "output_type": "display_data"
    }
   ],
   "source": [
    "show(sxMethod(34))"
   ]
  },
  {
   "cell_type": "code",
   "execution_count": 83,
   "metadata": {},
   "outputs": [
    {
     "data": {
      "text/html": [
       "SXSXSXSSX"
      ],
      "text/plain": [
       "'SXSXSXSSX'"
      ]
     },
     "metadata": {},
     "output_type": "display_data"
    },
    {
     "name": "stdout",
     "output_type": "stream",
     "text": [
      "(1: x^2) (2: x^3) (3: x^6) (4: x^7) (5: x^14) (6: x^15) (7: x^30) (8: x^60) (9: x^61) "
     ]
    },
    {
     "data": {
      "text/html": [
       "<html><script type=\"math/tex; mode=display\">\\newcommand{\\Bold}[1]{\\mathbf{#1}}x^{61}</script></html>"
      ],
      "text/latex": [
       "$$\\newcommand{\\Bold}[1]{\\mathbf{#1}}x^{61}$$"
      ],
      "text/plain": [
       "x^61"
      ]
     },
     "metadata": {},
     "output_type": "display_data"
    }
   ],
   "source": [
    "show(sxMethod(61))"
   ]
  },
  {
   "cell_type": "code",
   "execution_count": 84,
   "metadata": {
    "scrolled": true
   },
   "outputs": [
    {
     "data": {
      "text/html": [
       "SXSXSX"
      ],
      "text/plain": [
       "'SXSXSX'"
      ]
     },
     "metadata": {},
     "output_type": "display_data"
    },
    {
     "name": "stdout",
     "output_type": "stream",
     "text": [
      "(1: x^2) (2: x^3) (3: x^6) (4: x^7) (5: x^14) (6: x^15) "
     ]
    },
    {
     "data": {
      "text/html": [
       "<html><script type=\"math/tex; mode=display\">\\newcommand{\\Bold}[1]{\\mathbf{#1}}x^{15}</script></html>"
      ],
      "text/latex": [
       "$$\\newcommand{\\Bold}[1]{\\mathbf{#1}}x^{15}$$"
      ],
      "text/plain": [
       "x^15"
      ]
     },
     "metadata": {},
     "output_type": "display_data"
    }
   ],
   "source": [
    "show(sxMethod(15))"
   ]
  },
  {
   "cell_type": "markdown",
   "metadata": {},
   "source": [
    "Теперь проверим оценку числа операций для данных $n$:<br>\n",
    "$n = 34 \\Rightarrow \\lambda(n) = \\lfloor log_{2}(n) \\rfloor = 5; \\nu(n) = 2; \\lambda(n) + \\nu(n) - 1 = 6 \\Rightarrow$ Верно<br>\n",
    "$n = 61 \\Rightarrow \\lambda(n) = \\lfloor log_{2}(n) \\rfloor = 5; \\nu(n) = 5; \\lambda(n) + \\nu(n) - 1 = 9 \\Rightarrow$ Верно<br>\n",
    "$n = 15 \\Rightarrow \\lambda(n) = \\lfloor log_{2}(n) \\rfloor = 3; \\nu(n) = 4; \\lambda(n) + \\nu(n) - 1 = 6 \\Rightarrow$ Верно<br>\n",
    "Таким образом, для введенных $n$ формула для вычисления количества операций корректна.\n",
    "#### Вывод\n",
    "Был реализован бинарный метод $SX$, была проверена корректность алгоритма и оценка числа операций из теоретического положения. Данный метод  быстрее возводит число в степень, если сравнивать при последовательном возведении. Также было замечено, что количество итераций увеличивается, при увеличении количества единиц в двоичной записи числа."
   ]
  },
  {
   "cell_type": "markdown",
   "metadata": {},
   "source": [
    "### 2. Метод возведения справа налево"
   ]
  },
  {
   "cell_type": "markdown",
   "metadata": {},
   "source": [
    "Реализуем функцию для метода возведения справа налево:"
   ]
  },
  {
   "cell_type": "code",
   "execution_count": 85,
   "metadata": {},
   "outputs": [
    {
     "name": "stdout",
     "output_type": "stream",
     "text": [
      "Requirement already satisfied: prettytable in /opt/sagemath-9.3/local/lib/python3.7/site-packages (3.6.0)\n",
      "Requirement already satisfied: importlib-metadata in /opt/sagemath-9.3/local/lib/python3.7/site-packages (from prettytable) (1.7.0)\n",
      "Requirement already satisfied: wcwidth in /opt/sagemath-9.3/local/lib/python3.7/site-packages (from prettytable) (0.1.7)\n",
      "Requirement already satisfied: zipp>=0.5 in /opt/sagemath-9.3/local/lib/python3.7/site-packages (from importlib-metadata->prettytable) (0.5.2)\n",
      "\u001b[33mWARNING: You are using pip version 21.0.1; however, version 23.0.1 is available.\n",
      "You should consider upgrading via the '/opt/sagemath-9.3/local/bin/python3 -m pip install --upgrade pip' command.\u001b[0m\n"
     ]
    }
   ],
   "source": [
    "!pip install prettytable\n",
    "from prettytable import PrettyTable\n",
    "\n",
    "def rightToLeft(power):\n",
    "    counter = 0\n",
    "    N = power\n",
    "    Y = 1\n",
    "    Z = var('x')\n",
    "    table = PrettyTable([\"Iteration\", \"N\", \"Y\", \"Z\"])\n",
    "    table.add_row([counter, N, Y, Z])\n",
    "    while True:\n",
    "        if N % 2 == 0:\n",
    "            N = floor(N / 2)\n",
    "            Z = Z * Z\n",
    "        else:\n",
    "            N = floor(N / 2)\n",
    "            Y = Z * Y\n",
    "            if (N == 0):\n",
    "                counter += 1\n",
    "                table.add_row([counter, N, Y, Z])\n",
    "                break\n",
    "            else:\n",
    "                Z = Z * Z\n",
    "        counter += 1\n",
    "        table.add_row([counter, N, Y, Z])\n",
    "    print(table)\n",
    "    return Y"
   ]
  },
  {
   "cell_type": "markdown",
   "metadata": {},
   "source": [
    "Приведём пример работы программы на нескольких $n$, а именно $34, 61, 15$. Для каждого $n$ выведем результат в виде таблицы.: "
   ]
  },
  {
   "cell_type": "code",
   "execution_count": 86,
   "metadata": {
    "scrolled": true
   },
   "outputs": [
    {
     "name": "stdout",
     "output_type": "stream",
     "text": [
      "+-----------+----+------+------+\n",
      "| Iteration | N  |  Y   |  Z   |\n",
      "+-----------+----+------+------+\n",
      "|     0     | 34 |  1   |  x   |\n",
      "|     1     | 17 |  1   | x^2  |\n",
      "|     2     | 8  | x^2  | x^4  |\n",
      "|     3     | 4  | x^2  | x^8  |\n",
      "|     4     | 2  | x^2  | x^16 |\n",
      "|     5     | 1  | x^2  | x^32 |\n",
      "|     6     | 0  | x^34 | x^32 |\n",
      "+-----------+----+------+------+\n"
     ]
    },
    {
     "data": {
      "text/html": [
       "<html><script type=\"math/tex; mode=display\">\\newcommand{\\Bold}[1]{\\mathbf{#1}}x^{34}</script></html>"
      ],
      "text/latex": [
       "$$\\newcommand{\\Bold}[1]{\\mathbf{#1}}x^{34}$$"
      ],
      "text/plain": [
       "x^34"
      ]
     },
     "metadata": {},
     "output_type": "display_data"
    }
   ],
   "source": [
    "show(rightToLeft(34))"
   ]
  },
  {
   "cell_type": "markdown",
   "metadata": {},
   "source": [
    "Конечный результат для n = 34:"
   ]
  },
  {
   "cell_type": "markdown",
   "metadata": {},
   "source": [
    "\n",
    "| № итерации | Значение N |   Значение Y   | Значение Z |\n",
    "|:----------:|:----------:|:--------------:|:----------:|\n",
    "|      0     |     34     |        1       |      $x$     |\n",
    "|      1     |     17     |        1       |    $x^2$   |\n",
    "|      2     |      8     |      $x^2$     |     $x^4$    |\n",
    "|      3     |      4     |      $x^2$     |     $x^8$    |\n",
    "|      4     |      2     |      $x^2$     |    $x^{16}$    |\n",
    "|      5     |      1     |      $x^2$     |    $x^{32}$    |\n",
    "|      6     |      0     |    $x^{34}$    |    $x^{32}$    |"
   ]
  },
  {
   "cell_type": "code",
   "execution_count": 87,
   "metadata": {
    "scrolled": true
   },
   "outputs": [
    {
     "name": "stdout",
     "output_type": "stream",
     "text": [
      "+-----------+----+------+------+\n",
      "| Iteration | N  |  Y   |  Z   |\n",
      "+-----------+----+------+------+\n",
      "|     0     | 61 |  1   |  x   |\n",
      "|     1     | 30 |  x   | x^2  |\n",
      "|     2     | 15 |  x   | x^4  |\n",
      "|     3     | 7  | x^5  | x^8  |\n",
      "|     4     | 3  | x^13 | x^16 |\n",
      "|     5     | 1  | x^29 | x^32 |\n",
      "|     6     | 0  | x^61 | x^32 |\n",
      "+-----------+----+------+------+\n"
     ]
    },
    {
     "data": {
      "text/html": [
       "<html><script type=\"math/tex; mode=display\">\\newcommand{\\Bold}[1]{\\mathbf{#1}}x^{61}</script></html>"
      ],
      "text/latex": [
       "$$\\newcommand{\\Bold}[1]{\\mathbf{#1}}x^{61}$$"
      ],
      "text/plain": [
       "x^61"
      ]
     },
     "metadata": {},
     "output_type": "display_data"
    }
   ],
   "source": [
    "show(rightToLeft(61))"
   ]
  },
  {
   "cell_type": "markdown",
   "metadata": {},
   "source": [
    "Конечный результат для n = 61:"
   ]
  },
  {
   "cell_type": "markdown",
   "metadata": {},
   "source": [
    "| № итерации | Значение N | Значение Y | Значение Z |\n",
    "|:----------:|:----------:|:----------:|:----------:|\n",
    "|      0     |     61     |      1     |     $x$    |\n",
    "|      1     |     15     |     $x$    |    $x^2$    |\n",
    "|      2     |     14     |     $x$    |    $x^4$   |\n",
    "|      3     |      7     |    $x^5$   |    $x^8$   |\n",
    "|      4     |      3     |  $x^{13}$  |  $x^{16}$  |\n",
    "|      5     |      1     |  $x^{29}$  |  $x^{32}$  |\n",
    "|      6     |      0     |  $x^{61}$  |  $ x^{32}$ |"
   ]
  },
  {
   "cell_type": "code",
   "execution_count": 88,
   "metadata": {},
   "outputs": [
    {
     "name": "stdout",
     "output_type": "stream",
     "text": [
      "+-----------+----+------+-----+\n",
      "| Iteration | N  |  Y   |  Z  |\n",
      "+-----------+----+------+-----+\n",
      "|     0     | 15 |  1   |  x  |\n",
      "|     1     | 7  |  x   | x^2 |\n",
      "|     2     | 3  | x^3  | x^4 |\n",
      "|     3     | 1  | x^7  | x^8 |\n",
      "|     4     | 0  | x^15 | x^8 |\n",
      "+-----------+----+------+-----+\n"
     ]
    },
    {
     "data": {
      "text/html": [
       "<html><script type=\"math/tex; mode=display\">\\newcommand{\\Bold}[1]{\\mathbf{#1}}x^{15}</script></html>"
      ],
      "text/latex": [
       "$$\\newcommand{\\Bold}[1]{\\mathbf{#1}}x^{15}$$"
      ],
      "text/plain": [
       "x^15"
      ]
     },
     "metadata": {},
     "output_type": "display_data"
    }
   ],
   "source": [
    "show(rightToLeft(15))"
   ]
  },
  {
   "cell_type": "markdown",
   "metadata": {},
   "source": [
    "Конечный результат для n = 15:"
   ]
  },
  {
   "cell_type": "markdown",
   "metadata": {},
   "source": [
    "| № итерации | Значение N | Значение Y | Значение Z |\n",
    "|:----------:|:----------:|:----------:|:----------:|\n",
    "|      0     |     15     |      1     |     $x$    |\n",
    "|      1     |      7     |     $x$    |    $x^2$   |\n",
    "|      2     |      3     |    $x^3$   |    $x^4$   |\n",
    "|      3     |      1     |    $x^7$   |    $x^8$   |\n",
    "|      4     |      0     |  $x^{15}$  |   $x^{8}$  |"
   ]
  },
  {
   "cell_type": "markdown",
   "metadata": {},
   "source": [
    "### Теперь проверим оценку числа операций для данных $n$:<br>\n",
    "$n = 34 \\Rightarrow \\lambda(n) = \\lfloor log_{2}(n) \\rfloor = 5; \\nu(n) = 2; \\lambda(n) + \\nu(n)  = 7 \\Rightarrow$ Верно<br>\n",
    "$n = 61 \\Rightarrow \\lambda(n) = \\lfloor log_{2}(n) \\rfloor = 5; \\nu(n) = 5; \\lambda(n) + \\nu(n)  = 10 \\Rightarrow$ Верно<br>\n",
    "$n = 15 \\Rightarrow \\lambda(n) = \\lfloor log_{2}(n) \\rfloor = 3; \\nu(n) = 4; \\lambda(n) + \\nu(n)  = 7 \\Rightarrow$ Верно<br>\n",
    "Таким образом, для наших $n$ формула для вычисления количества операций корректна.\n",
    "#### Вывод\n",
    "Был реализован бинарный метод возведения справа налево, была проверена корректность алгоритма и оценка числа операций из теоретического положения. Было замечено, что данный метод требует на одну операцию больше, по сравнению с $SX$. При этом вычислить число операций для данного метода можно по формуле $\\lambda(n) + \\nu(n)$"
   ]
  },
  {
   "cell_type": "markdown",
   "metadata": {},
   "source": [
    "### 3. Сравнение бинарного метода \"SX\" и метод возведения справа налево"
   ]
  },
  {
   "cell_type": "markdown",
   "metadata": {},
   "source": [
    "Так как число операций в методе справа налево больше, чем в методе $SX$, то число итераций в методе справа налево можно оценить как $\\lfloor log_{2}(n) \\rfloor + 2$. В методе $SX$ же число итераций равно $\\lambda(n) + \\nu(n) - 1$.\n",
    "$\\Rightarrow$ бинарный метод $SX$ выгоднее, чем возведение справа налево."
   ]
  },
  {
   "cell_type": "markdown",
   "metadata": {},
   "source": [
    "### 4. Метод множителей"
   ]
  },
  {
   "cell_type": "markdown",
   "metadata": {},
   "source": [
    "Выполним метод множителей вручную для $n= 34, n = 61, n = 15$ по алгоритму, приведённому в теоретическом положении.<br>"
   ]
  },
  {
   "cell_type": "markdown",
   "metadata": {},
   "source": [
    "#### 1) n = 34:\n",
    "$n = 17 \\cdot 2$ <br>\n",
    "$x^{34} = (x^{2})^{17}$<br>\n",
    "$(x^{2})^{17} = x^{2} \\cdot (x^{2})^{16}$<br>\n",
    "$(x^{2})^{16} = ((x^{2})^{2})^{2})^{2})^2$ <br>\n",
    "Рассчитаем нужные значения. <br>\n",
    "$x^2 \\rightarrow x, x^2$ (+1 операция) <br>\n",
    "$(x^2)^2 \\rightarrow x^2, (x^2)^2$ (+1 операция) <br>\n",
    "$((x^2)^2)^2 \\rightarrow (x^2)^2, ((x^2)^2)^2$ (+1 операция) <br>\n",
    "$(((x^2)^2)^2)^2 \\rightarrow ((x^2)^2)^2, (((x^2)^2)^2)^2$ (+1 операция) <br>\n",
    "$((((x^2)^2)^2)^2)^2 \\rightarrow (((x^2)^2)^2)^2, ((((x^2)^2)^2)^2)^2$ (+1 операция) <br>\n",
    "$x^{34} = (x^2)^{17} \\rightarrow (x^2)^{16}, (x^2)^{17}$ (+1 операция) <br>\n",
    "Итого 6 операций. Из этого примера видно, что метод множителей может иметь столько же итераций, сколько и  метод $SX$ (в $SX$ для $n=34$ было также 6 операций)."
   ]
  },
  {
   "cell_type": "markdown",
   "metadata": {},
   "source": [
    "2) n = 61 <br>\n",
    "$x^{61} = x \\cdot x^{60}$<br>\n",
    "$x^{60} = (((x^{2})^2)^{3})^5$<br>\n",
    "Рассчитаем нужные значения<br>\n",
    "$x^2 \\rightarrow x, x^2$ (1 операция)<br>\n",
    "$(x^2)^2 \\rightarrow (x^2), (x^2)^2$ (+1 операция)<br>\n",
    "$((x^2)^2)^3 \\rightarrow ((x^2)^2), ((x^2)^2)^2, ((x^2)^2)^3$ (+2 операции)<br>\n",
    "$(((x^2)^2)^3)^5 \\rightarrow (((x^2)^2)^3), (((x^2)^2)^3)^2, (((x^2)^2)^3)^4, (((x^2)^2)^3)^5$ (+3 операции)<br>\n",
    "$x^{61}= x \\cdot x^{60} \\rightarrow x^{60}, x^{61}$ (+1 операция)<br>\n",
    "Итого 8 операций."
   ]
  },
  {
   "cell_type": "markdown",
   "metadata": {},
   "source": [
    "3) n = 15 <br>\n",
    "$n = 5 \\cdot 3$<br>\n",
    "$x^{15} = (x^3)^5$<br>\n",
    "Рассчитаем нужные значения<br>\n",
    "$x^3 \\rightarrow x, x^2, x^3$ (2 операции)<br>\n",
    "$(x^3)^5 \\rightarrow x^3, (x^3)^2, (x^3)^4, (x^3)^5$ (+3 операции)<br>\n",
    "Итого 5 операций. Из этого же примера видно, что метод множителей может быть и короче метода $SX$ (в $SX$ для $n = 15$ потребовалось 6 операций)"
   ]
  },
  {
   "cell_type": "markdown",
   "metadata": {},
   "source": [
    "\n",
    "#### Вывод\n",
    "Был рассмотрен метод множителей для нескольких $n$, было выявлено, что метод множителей в некоторых ситуациях может быть как быстрее (например для $n$ = 15), так и равной методу $SX$. Таким образом, можно сказать, что скорость выполнения напрямую зависит от конкретного значения $n$. В общих кондициях, алгоритм $SX$ является более предпочтительным, чем метод множителей, так как обладает более простой реализацией."
   ]
  },
  {
   "cell_type": "markdown",
   "metadata": {},
   "source": [
    "### 5. Построение дерева степеней"
   ]
  },
  {
   "cell_type": "markdown",
   "metadata": {},
   "source": [
    "Реализуем алгоритм построения дерева степеней:"
   ]
  },
  {
   "cell_type": "code",
   "execution_count": 2,
   "metadata": {},
   "outputs": [],
   "source": [
    "def createTree(k):\n",
    "    tree = {1: [1]}\n",
    "    node = [1]\n",
    "    for _ in range(k):\n",
    "        new_node = []\n",
    "        for el in node:\n",
    "            for parent in tree[el]:\n",
    "                tmp = el + parent\n",
    "                if tmp not in tree:\n",
    "                    new_node.append(tmp)\n",
    "                    tree[tmp] = tree[el] + [tmp]\n",
    "        node = new_node\n",
    "        \n",
    "    tree[1] = []\n",
    "    for el in tree:\n",
    "        if len(tree[el] )> 1:\n",
    "            tree[el] = [tree[el][-2]]\n",
    "    return tree\n",
    "\n",
    "\n",
    "tree = createTree(5)"
   ]
  },
  {
   "cell_type": "code",
   "execution_count": 3,
   "metadata": {},
   "outputs": [
    {
     "data": {
      "image/png": "[encoded data removed]",
      "text/plain": [
       "Graphics object consisting of 42 graphics primitives"
      ]
     },
     "metadata": {},
     "output_type": "display_data"
    }
   ],
   "source": [
    "def printTree(tree):\n",
    "    outputGraph = Graph(tree)\n",
    "    P = outputGraph.plot(layout = 'tree', tree_root = 1)\n",
    "    P.show()\n",
    "    \n",
    "printTree(tree)"
   ]
  },
  {
   "cell_type": "markdown",
   "metadata": {},
   "source": [
    "Возьмем $n$ = 15. В данном случае получим последовательность из 5 итераций: $x$, $x^2$, $x^3$, $x^5$, $x^{10}$, $x^{15}$. Сравним теперь с остальными методами: метод $SX$ - 6, метод множителей - 5, метод справа налево - 7."
   ]
  },
  {
   "cell_type": "markdown",
   "metadata": {},
   "source": [
    "#### Вывод\n",
    "Был реализован алгоритм дерева степеней. Было выявлено, что данный метод не медленнее метода $SX$ и метода множителей."
   ]
  },
  {
   "cell_type": "markdown",
   "metadata": {},
   "source": [
    "## Выводы\n",
    "\n",
    "Сформированы знания о работе алгоритмов вычисления одночленов за минимальное число операций, привит навык использования системы компьютерной алгебры *SageMath* для реализации алгоритмов.<br>\n",
    "Был реализован бинарный метод $SX$, бинарный метод возведения в степень справа налево, рассмотрен метод множителей и реализован алгоритм дерева степеней. Также была оценена теоретически и практически сложность алгоритмов."
   ]
  }
 ],
 "metadata": {
  "kernelspec": {
   "display_name": "SageMath 9.3",
   "language": "sage",
   "name": "sagemath"
  },
  "language_info": {
   "codemirror_mode": {
    "name": "ipython",
    "version": 3
   },
   "file_extension": ".py",
   "mimetype": "text/x-python",
   "name": "python",
   "nbconvert_exporter": "python",
   "pygments_lexer": "ipython3",
   "version": "3.7.10"
  }
 },
 "nbformat": 4,
 "nbformat_minor": 4
}
