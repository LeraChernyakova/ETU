{
 "cells": [
  {
   "cell_type": "markdown",
   "metadata": {},
   "source": [
    "# Практическая работа №1: Алгоритмы эффективного вычисления одночленов\n",
    "\n",
    "Выполнил студент гр. 1303 Коренев Данил. Вариант №11."
   ]
  },
  {
   "cell_type": "markdown",
   "metadata": {},
   "source": [
    "## Цель работы\n",
    "\n",
    "Сформировать знания о работе алгоритмах вычисления одночленов за\n",
    "минимальное число операций, привить навык использования систем ком\u0002пьютерной математики для реализации алгоритмов."
   ]
  },
  {
   "cell_type": "markdown",
   "metadata": {},
   "source": [
    "## Основные теоретические положения\n",
    "\n",
    "Введу основные обозначения:\n",
    "* $\\lambda \\left(n\\right) = \\left\\lfloor\\mathrm{lb} \\left(n\\right)\\right\\rfloor$ $-$ уменьшенная на единицу бинарная запись числа $n$;\n",
    "* $\\nu \\left(n\\right)$ - вес Хэмминга для бинарной записи числа $n$;"
   ]
  },
  {
   "cell_type": "markdown",
   "metadata": {},
   "source": [
    "### Бинарный метод \"SX\"\n",
    "Алгоритм возведения $x$ в степень $n$:\n",
    "1. Вычислить $\\lambda \\left(n\\right)$\n",
    "2. Провести замену в записи $\\lambda \\left(n\\right)$:  \n",
    "$a_{i} = 1 \\Rightarrow a = SX$  \n",
    "$a_{i} = 0 \\Rightarrow a = S$\n",
    "3. Вычислить $res = x^{n}$ начиная с $res = x$. Рассматривать слева направо запись $\\lambda \\left(n\\right)$ после замены на $S$ и $SX$:  \n",
    "$a_{i} = S \\Rightarrow res = res^{2}$  \n",
    "$a_{i} = X \\Rightarrow res = res \\cdot x$  \n",
    "\n",
    "Число операций для метода $SX$: $\\lambda \\left(n\\right) + \\nu \\left(n\\right) - 1$"
   ]
  },
  {
   "cell_type": "markdown",
   "metadata": {},
   "source": [
    " ### Бинарный метод справа налево  \n",
    " Алгоритм возведения $x$ в степень $n$ с помощью метода справа налево\n",
    " 1. Задать переменным значения: $N = n, Y = 1, Z = x$  \n",
    " 2. В цикле с условием окончания $N = 0$ использовать следующие операции:  \n",
    "     A. Если $N$ четное  \n",
    "     I. Присвоить $N = \\left\\lfloor\\mathrm{\\frac{N}{2}}\\right\\rfloor$  \n",
    "     B. Если $N$ нечетное  \n",
    "     I.  Присвоить $N = \\left\\lfloor\\mathrm{\\frac{N}{2}}\\right\\rfloor$\n",
    "     II.  Присвоить $Y = Z \\cdot Y$  \n",
    "     III. Если $N = 0$ выйти из цикла    \n",
    "     С. $Z = Z \\cdot Z$  \n",
    " 3. $Y$ - ответ  \n",
    " Число операций для метода справа налево: $\\lambda \\left(n\\right) + \\nu \\left(n\\right)$"
   ]
  },
  {
   "cell_type": "markdown",
   "metadata": {},
   "source": [
    "### Метод множителей:\n",
    "\n",
    "Алгоритм возведения $x$ в степень $n$ методом множителей:\n",
    "1. Представить $n$ в виде $n = p \\cdot q $, где $ p $ - минимальный простой множитель $n$, $q > 1$, получаем $x^n = (x^p)^q$ \n",
    "2. Если $n$ - простое, то необходимо вычислить $x^{n-1}$ и домножить на $ x $, получаем $x^{n} = x^{n-1} \\cdot x$\n",
    "3. Если $ n = 1$, то результат возведения $x$ в степень $n$ был найден, необходимо выйти из рекурсии алгоритма"
   ]
  },
  {
   "cell_type": "markdown",
   "metadata": {},
   "source": [
    "### Дерево степеней\n",
    "\n",
    "Алгоритм построения дерева степеней:\n",
    "1. На нулевом уровне имеется единственный узел - корень дерева - 1\n",
    "2. Уровень $i$ строиться следующим образом: к каждому узлу $\\upsilon$ добавляются новые узлы: $\\upsilon + a_{0}, \\upsilon + a_{1},...,\\upsilon + a_{i-1}$, если они не присутствовали ранее в дереве"
   ]
  },
  {
   "cell_type": "markdown",
   "metadata": {},
   "source": [
    "## Постановка задачи\n",
    "\n",
    "Реализовать алгоритмы вычисления мономов за минимальное число операций с использованием системы компьютерной алгебры SageMath, провести анализ алгоритмов. Полученные результаты содержательно проинтерпретировать."
   ]
  },
  {
   "cell_type": "markdown",
   "metadata": {},
   "source": [
    "## Выполнение работы\n",
    "\n",
    "### 1. Бинарный метод \"SX\"\n",
    "\n",
    "Реализую функцию sx(n), возводящая $x$ в степень $n$ методом SX. Функция принимает число n - степень, в которую необходимо возвести $x$. В случае, если оно больше 0, построить бинарную запись и отрезать старший бит, сделать соответствующие замены. Итеративно пройти по полученной строке и в зависимости от символа умножить result на саму себя, если встретилась S или на $x$, если встретился X."
   ]
  },
  {
   "cell_type": "code",
   "execution_count": 1,
   "metadata": {},
   "outputs": [
    {
     "name": "stdout",
     "output_type": "stream",
     "text": [
      "ssssx\n",
      "1) x * x        = x^2\n",
      "2) x^2 * x^2    = x^4\n",
      "3) x^4 * x^4    = x^8\n",
      "4) x^8 * x^8    = x^16\n",
      "5) x^16 * x     = x^17\n"
     ]
    }
   ],
   "source": [
    "def sx(n):\n",
    "    result = x\n",
    "    if n < 1:\n",
    "        return 1\n",
    "    n_bin = str(bin(n))[3:]\n",
    "    sx_string = n_bin.replace('0', 's').replace('1', 'sx')\n",
    "    print(sx_string)\n",
    "    iterations = 0\n",
    "    for i in sx_string:\n",
    "        iterations += 1\n",
    "        print(f\"{iterations})\", end = \" \")\n",
    "        if i == 'x':\n",
    "            print(f\"{result} * x\".ljust(12), end = \"\")\n",
    "            result *= x\n",
    "        else:\n",
    "            print(f\"{result} * {result}\".ljust(12), end = \"\")\n",
    "            result *= result\n",
    "        print(f\" = {result}\")\n",
    "\n",
    "sx(17)"
   ]
  },
  {
   "cell_type": "code",
   "execution_count": 2,
   "metadata": {},
   "outputs": [
    {
     "name": "stdout",
     "output_type": "stream",
     "text": [
      "sxssxsx\n",
      "1) x * x        = x^2\n",
      "2) x^2 * x      = x^3\n",
      "3) x^3 * x^3    = x^6\n",
      "4) x^6 * x^6    = x^12\n",
      "5) x^12 * x     = x^13\n",
      "6) x^13 * x^13  = x^26\n",
      "7) x^26 * x     = x^27\n"
     ]
    }
   ],
   "source": [
    "sx(27)"
   ]
  },
  {
   "cell_type": "code",
   "execution_count": 3,
   "metadata": {},
   "outputs": [
    {
     "name": "stdout",
     "output_type": "stream",
     "text": [
      "sssss\n",
      "1) x * x        = x^2\n",
      "2) x^2 * x^2    = x^4\n",
      "3) x^4 * x^4    = x^8\n",
      "4) x^8 * x^8    = x^16\n",
      "5) x^16 * x^16  = x^32\n"
     ]
    }
   ],
   "source": [
    "sx(32)"
   ]
  },
  {
   "cell_type": "markdown",
   "metadata": {},
   "source": [
    "Проверка результатов полученных на практике с теоретическими:\n",
    "\n",
    "1)  $𝑛 = 17:𝜆(𝑛)=4;𝜈(𝑛)=2;𝜆(𝑛)+𝜈(𝑛)-1= 5$ − верно  \n",
    "2)  $𝑛 = 27:𝜆(𝑛)=4;𝜈(𝑛)=4;𝜆(𝑛)+𝜈(𝑛)-1= 7$ − верно  \n",
    "3)  $𝑛 = 32:𝜆(𝑛)=5;𝜈(𝑛)=1;𝜆(𝑛)+𝜈(𝑛)-1= 5$ − верно  \n",
    "\n",
    "Результаты совпали, значит формула для оценки операций корректна."
   ]
  },
  {
   "cell_type": "markdown",
   "metadata": {},
   "source": [
    "**Вывод**  \n",
    "Был реализован метод SX для возведения числа в степень. На практике проверена формула оценки количества операций для метода SX."
   ]
  },
  {
   "cell_type": "markdown",
   "metadata": {},
   "source": [
    "### 2. Метод возведения справа налево  \n",
    "Реализую функцию right_to_left(n), возводящая $x$ в степень $n$ методом справа налево. Сначала инициализируются переменные $N = n, Y = 1, Z = x$. Далее в цикле while с условием $n != 0$ необходимо в зависимости от четности $n$ провести следующие действия:  \n",
    "    1. $n$ четно - уменьшить $n$ вдвое  \n",
    "    2. $n$ нечетно - уменьшить $n$ вдвое (с округлением вниз), умножить $y$ на $z$, увеличить счетчик итераций.  \n",
    "    В любом случае умножить $z$ на себя и увеличить счетчик итераций."
   ]
  },
  {
   "cell_type": "code",
   "execution_count": 4,
   "metadata": {},
   "outputs": [
    {
     "name": "stdout",
     "output_type": "stream",
     "text": [
      "i = 1      N = 8      Y = x      Z = x     \n",
      "i = 2      N = 8      Y = x      Z = x^2   \n",
      "i = 3      N = 4      Y = x      Z = x^4   \n",
      "i = 4      N = 2      Y = x      Z = x^8   \n",
      "i = 5      N = 1      Y = x      Z = x^16  \n",
      "i = 6      N = 0      Y = x^17   Z = x^16  \n"
     ]
    },
    {
     "data": {
      "text/plain": [
       "x^17"
      ]
     },
     "execution_count": 4,
     "metadata": {},
     "output_type": "execute_result"
    }
   ],
   "source": [
    "def right_to_left(n):\n",
    "    iterations = 0\n",
    "    y = 1\n",
    "    z = x\n",
    "    while n != 0:\n",
    "        if n % 2 == 1:\n",
    "            n = floor(n / 2)\n",
    "            y *= z\n",
    "            iterations += 1\n",
    "            print(f'i = {iterations}'.ljust(10), f'N = {n}'.ljust(10), f'Y = {y}'.ljust(10), f'Z = {z}'.ljust(10))\n",
    "            if n == 0:\n",
    "                break\n",
    "        else:\n",
    "            n = floor(n / 2)\n",
    "        z *= z\n",
    "        iterations += 1\n",
    "        print(f'i = {iterations}'.ljust(10), f'N = {n}'.ljust(10), f'Y = {y}'.ljust(10), f'Z = {z}'.ljust(10))\n",
    "    return y\n",
    "\n",
    "right_to_left(17)"
   ]
  },
  {
   "cell_type": "markdown",
   "metadata": {},
   "source": [
    "| i | N  | Y    | Z    |\n",
    "|---|----|------|------|\n",
    "| 0 | 17 | 1    | x    |\n",
    "| 1 | 8  | x    | x    |\n",
    "| 2 | 8  | x    | x^2  |\n",
    "| 3 | 4  | x    | x^4  |\n",
    "| 4 | 2  | x    | x^8  |\n",
    "| 5 | 1  | x    | x^16 |\n",
    "| 6 | 0  | x^17 | x^16 |"
   ]
  },
  {
   "cell_type": "code",
   "execution_count": 5,
   "metadata": {},
   "outputs": [
    {
     "name": "stdout",
     "output_type": "stream",
     "text": [
      "i = 1      N = 13     Y = x      Z = x     \n",
      "i = 2      N = 13     Y = x      Z = x^2   \n",
      "i = 3      N = 6      Y = x^3    Z = x^2   \n",
      "i = 4      N = 6      Y = x^3    Z = x^4   \n",
      "i = 5      N = 3      Y = x^3    Z = x^8   \n",
      "i = 6      N = 1      Y = x^11   Z = x^8   \n",
      "i = 7      N = 1      Y = x^11   Z = x^16  \n",
      "i = 8      N = 0      Y = x^27   Z = x^16  \n"
     ]
    },
    {
     "data": {
      "text/plain": [
       "x^27"
      ]
     },
     "execution_count": 5,
     "metadata": {},
     "output_type": "execute_result"
    }
   ],
   "source": [
    "right_to_left(27)"
   ]
  },
  {
   "cell_type": "markdown",
   "metadata": {},
   "source": [
    "| i | N  | Y    | Z    |\n",
    "|---|----|------|------|\n",
    "| 0 | 27 | 1    | x    |\n",
    "| 1 | 13 | x    | x    |\n",
    "| 2 | 13 | x    | x^2  |\n",
    "| 3 | 6  | x^3  | x^2  |\n",
    "| 4 | 6  | x^3  | x^4  |\n",
    "| 5 | 3  | x^3  | x^8  |\n",
    "| 6 | 1  | x^11 | x^8  |\n",
    "| 7 | 1  | x^11 | x^16 |\n",
    "| 8 | 0  | x^27 | x^16 |"
   ]
  },
  {
   "cell_type": "code",
   "execution_count": 6,
   "metadata": {},
   "outputs": [
    {
     "name": "stdout",
     "output_type": "stream",
     "text": [
      "i = 1      N = 16     Y = 1      Z = x^2   \n",
      "i = 2      N = 8      Y = 1      Z = x^4   \n",
      "i = 3      N = 4      Y = 1      Z = x^8   \n",
      "i = 4      N = 2      Y = 1      Z = x^16  \n",
      "i = 5      N = 1      Y = 1      Z = x^32  \n",
      "i = 6      N = 0      Y = x^32   Z = x^32  \n"
     ]
    },
    {
     "data": {
      "text/plain": [
       "x^32"
      ]
     },
     "execution_count": 6,
     "metadata": {},
     "output_type": "execute_result"
    }
   ],
   "source": [
    "right_to_left(32)"
   ]
  },
  {
   "cell_type": "markdown",
   "metadata": {},
   "source": [
    "| i | N  | Y    | Z    |\n",
    "|---|----|------|------|\n",
    "| 0 | 32 | 1    | x    |\n",
    "| 1 | 16 | 1    | x^2  |\n",
    "| 2 | 8  | 1    | x^4  |\n",
    "| 3 | 4  | 1    | x^8  |\n",
    "| 4 | 2  | 1    | x^16 |\n",
    "| 5 | 1  | 1    | x^32 |\n",
    "| 6 | 0  | x^32 | x^32 |"
   ]
  },
  {
   "cell_type": "markdown",
   "metadata": {},
   "source": [
    "Проверка результатов полученных на практике с теоретическими:\n",
    "\n",
    "1)  $𝑛 = 17:𝜆(𝑛)=4;𝜈(𝑛)=2;𝜆(𝑛)+𝜈(𝑛) = 6$ − верно  \n",
    "2)  $𝑛 = 27:𝜆(𝑛)=4;𝜈(𝑛)=4;𝜆(𝑛)+𝜈(𝑛) = 8$ − верно  \n",
    "3)  $𝑛 = 32:𝜆(𝑛)=5;𝜈(𝑛)=1;𝜆(𝑛)+𝜈(𝑛) = 6$ − верно  \n",
    "\n",
    "Результаты совпали, значит формула для оценки операций корректна."
   ]
  },
  {
   "cell_type": "markdown",
   "metadata": {},
   "source": [
    "**Вывод**  \n",
    "Был реализован метод справа налево возведения числа в степень. На практике проверена формула оценки количества операций для данного метода."
   ]
  },
  {
   "cell_type": "markdown",
   "metadata": {},
   "source": [
    "### 3. Сравнение бинарного метода SX и метода возведения слева направо числа в степень\n",
    "\n",
    "Число операций в методе справа налево больше, чем в методе SX. Число итераций в методе справа налево оценивается $ \\lambda (n) + \\nu (n)$, а в методе SX число итераций равно $ \\lambda (n) + \\nu (n) - 1$. А значит бинарный метод SX быстрее метода слева направо на одну итерацию."
   ]
  },
  {
   "cell_type": "markdown",
   "metadata": {},
   "source": [
    "### 4. Метод множителей  \n",
    "\n",
    "Рассмотрим метод множителей на примерах:\n",
    "\n",
    "1. Пусть $n = 17$                                                      \n",
    "    Так как $17$ - простое число, то вычислим $x^{17} = x^{16} \\cdot x $ - 1 операция  \n",
    "    Число $16$ можно представить как $8 \\cdot 2$ поэтому $x^{16} = (x^{8})^{2}$ - 1 операция  \n",
    "    Далее $8 = 4 \\cdot 2$, поэтому $x^{8} = (x^{4})^{2}$ - 1 операция\n",
    "    Далее $4 = 2 \\cdot 2$, поэтому $x^{4} = (x^{2})^{2} = x^{2} \\cdot x^{2}$ - 1 операция  \n",
    "    Остается $x^{2} = x \\cdot x$ - 1 операция  \n",
    "    \n",
    "    **всего 5 операций**\n",
    "     \n",
    "2. Пусть $n = 27$  \n",
    "    Так как $27$ представимо как $3 \\cdot 9$, то $x^{27} = (x^{3})^{9}$  \n",
    "    Для начала вычислю $x^3 = x^2 \\cdot x$ - 1 операция  \n",
    "    Выражу $x^{2} = x \\cdot x$ - 1 операция   \n",
    "    Получил, что для возведения $x$ в степень $3$ нужно 2 операции.  \n",
    "    Теперь вычислю сколько нужно операций, чтобы возвести $x^{3} = y$ в степень $9$  \n",
    "    Число $9$ представимо как $3 \\cdot 3$ поэтому $y^{9} = (y^3)^3$, возведение в $3$ степень занимает 2 операции, тогда возведение в 9 степень занимает $4$ операции.  \n",
    "    Имеем, чтобы возвести $x$ в степень $27$ необходимо $2 + 4 = 6$ операций   \n",
    "    \n",
    "    **всего 6 операций**  \n",
    "      \n",
    "3. Пусть $n = 32$  \n",
    "    Так как $32$ представимо во как $2 \\cdot 16$, то $x^{32} = (x^2)^{16}$ - 1 операция  \n",
    "    Возведение $x$ в степень $2$ требует одной операции. Поэтому теперь надо рассмотреть возведение $x^2 = y$ в степень 16  \n",
    "    Число $16$ представимо как $2 \\cdot 8$, поэтому $y^{16} = (y^2)^8$. Возведение в степень $2$ занимает 1 операцию\n",
    "    Число $8$ представимо как $2 \\cdot 4$, поэтому $(y^{2})^{8} = z^8 = (z^2)^4$. Возведение в степень $2$ занимает 1 операцию  \n",
    "    Число $4$ представимо как $2 \\cdot 2$, поэтому $(z^{2})^{4} = w^4 = (w^2)^2$. Это занимает 2 операции  \n",
    "    **всего 5 операций**\n",
    "    \n",
    "\n",
    "4. Рассмотрю пример, когда метод множителей дает результат хуже sx\n",
    "    Пусть $n = 33$:  \n",
    "    $x^{33} = \\left(x^3\\right)^{11}$ имеем из нижеизложенного 2 + 5 = 7 операций    \n",
    "    $x^{11} = x^{10} \\cdot x$ - 1 операция  \n",
    "    $x^{10} = \\left(x^2\\right)^{5}$ - 1 операция  \n",
    "    $x^{5} = x^{4} \\cdot x$ - 1 операция  \n",
    "    $x^{4} = \\left(x^2\\right)^{2}$ - 2 операции  \n",
    "    $x^{3} = x^2 \\cdot x$ - 1 операция  \n",
    "    $x^{2} = x\\cdot x$ - 1 операция  \n",
    "    **всего 7 операций**  \n",
    "    В методе $SX$ этот метод занимает $𝑛 = 33:𝜆(𝑛)=5;𝜈(𝑛)=2;𝜆(𝑛)+𝜈(𝑛)-1= 6$ операций"
   ]
  },
  {
   "cell_type": "markdown",
   "metadata": {},
   "source": [
    "**Вывод**\n",
    "\n",
    "Рассмотрен метод множителей для нескольких степеней n. В сравнении с методом $SX$ для некоторых степеней рассмотренный метод работает быстрее метода $SX$, а для некоторых быстрее, поэтому нельзя однозначно сказать, какой из методов быстрее."
   ]
  },
  {
   "cell_type": "markdown",
   "metadata": {},
   "source": [
    "### 5. Построение дерева степеней\n",
    "\n",
    "Создам функцию tree_degrees(k), которая будет строить уровни до k-го уровня. Дерево представлено в виде словаря {вершина: список родителей}. Проходясь по всем уровням, просматриваем все возможные новые элементы, которые можем добавить на следующий уровень."
   ]
  },
  {
   "cell_type": "code",
   "execution_count": 7,
   "metadata": {
    "scrolled": false
   },
   "outputs": [
    {
     "data": {
      "text/plain": [
       "{1: [],\n",
       " 2: [1],\n",
       " 3: [2],\n",
       " 4: [2],\n",
       " 5: [3],\n",
       " 6: [3],\n",
       " 8: [4],\n",
       " 7: [5],\n",
       " 10: [5],\n",
       " 9: [6],\n",
       " 12: [6],\n",
       " 16: [8],\n",
       " 14: [7],\n",
       " 11: [10],\n",
       " 13: [10],\n",
       " 15: [10],\n",
       " 20: [10],\n",
       " 18: [9],\n",
       " 24: [12],\n",
       " 17: [16],\n",
       " 32: [16],\n",
       " 19: [14],\n",
       " 21: [14],\n",
       " 28: [14],\n",
       " 22: [11],\n",
       " 23: [13],\n",
       " 26: [13],\n",
       " 25: [15],\n",
       " 30: [15],\n",
       " 40: [20],\n",
       " 27: [18],\n",
       " 36: [18],\n",
       " 48: [24],\n",
       " 33: [17],\n",
       " 34: [17],\n",
       " 64: [32]}"
      ]
     },
     "execution_count": 7,
     "metadata": {},
     "output_type": "execute_result"
    }
   ],
   "source": [
    "def tree_degrees(k):\n",
    "    tree = {1: [1]}\n",
    "    node = [1]\n",
    "    for level in range(k):\n",
    "        node_new = []\n",
    "        for elem in node:\n",
    "            for parent in tree[elem]:\n",
    "                tmp = elem + parent\n",
    "                if tmp not in tree:\n",
    "                    node_new.append(tmp)\n",
    "                    tree[tmp] = tree[elem] + [tmp]\n",
    "        node = node_new\n",
    "        \n",
    "    tree[1] = []\n",
    "    for elem in tree:\n",
    "        if len(tree[elem] )> 1:\n",
    "            tree[elem] = [tree[elem][-2]]\n",
    "    return tree\n",
    "\n",
    "\n",
    "tr = tree_degrees(6)\n",
    "tr"
   ]
  },
  {
   "cell_type": "markdown",
   "metadata": {},
   "source": [
    "Для визуализации дерева степеней, напишу функцию show_tree(tree, node = None)"
   ]
  },
  {
   "cell_type": "code",
   "execution_count": 8,
   "metadata": {},
   "outputs": [
    {
     "data": {
      "image/png": "[encoded data removed]",
      "text/plain": [
       "Graphics object consisting of 72 graphics primitives"
      ]
     },
     "metadata": {},
     "output_type": "display_data"
    }
   ],
   "source": [
    "def show_tree(tree, node=None):\n",
    "    outputGraph = Graph(tree)\n",
    "    graph = outputGraph.plot(layout = 'tree', tree_root = 1)\n",
    "    graph.show()\n",
    "    \n",
    "show_tree(tr)"
   ]
  },
  {
   "cell_type": "markdown",
   "metadata": {},
   "source": [
    "Данное дерево позволяет быстро возводить $x$ в некоторую степень $n$. Например при $n = 23$ путь от корня дерева (1) до узла (23) будет [1, 2, 3, 5, 10, 13, 23]. Это значит, что цепочка вычисления $x^{23}$ будет выглядеть следующим образом: $x, x^{2}, x^{3}, x^{5}, x^{10}, x^{13}, x^{23}$ - 6 операций.  \n",
    "  \n",
    "Проведу сравнение: в методе SX для этого потребовалось бы $𝑛 = 23:𝜆(𝑛)=4;𝜈(𝑛)=4;𝜆(𝑛)+𝜈(𝑛)-1= 7$ операций, а в методе справа налево - 8 операций.  \n",
    "  \n",
    "**Вывод**   \n",
    "\n",
    "Был реализован метод дерева степеней, найдена цепочка операций для n = 23.\n",
    "Метод дерева степеней может быть быстрее метода $SX$."
   ]
  },
  {
   "cell_type": "markdown",
   "metadata": {},
   "source": [
    "## Выводы\n",
    "\n",
    "Были сформированы знания о работе алгоритмов вычисления одночленов за минимальное число операций, привит навык использования систем компьютерной математики для реализации алгоритмов.\n",
    "\n",
    "Реализованы: бинарный метод SX, метод справа-налево, метод множителей и метод степеней. Методы были сравнены по количеству итераций, была проведена теоретическая оценка сложности."
   ]
  }
 ],
 "metadata": {
  "kernelspec": {
   "display_name": "SageMath 9.3",
   "language": "sage",
   "name": "sagemath"
  },
  "language_info": {
   "codemirror_mode": {
    "name": "ipython",
    "version": 3
   },
   "file_extension": ".py",
   "mimetype": "text/x-python",
   "name": "python",
   "nbconvert_exporter": "python",
   "pygments_lexer": "ipython3",
   "version": "3.7.10"
  }
 },
 "nbformat": 4,
 "nbformat_minor": 4
}
