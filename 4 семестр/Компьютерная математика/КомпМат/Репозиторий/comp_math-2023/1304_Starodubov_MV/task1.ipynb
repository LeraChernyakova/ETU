{
 "cells": [
  {
   "cell_type": "markdown",
   "metadata": {},
   "source": [
    "# Практическая работа №1: Алгоритмы эффективного вычисления одночленов\n",
    "\n",
    "Выполнил студент гр. 1304 Стародубов Максим. Вариант №24."
   ]
  },
  {
   "cell_type": "markdown",
   "metadata": {},
   "source": [
    "## Цель работы\n",
    "\n",
    "Сформировать знания о работе алгоритмов вычисления одночленов за минимальное число операций, привить навык использования систем компьютерной математики для реализации алгоритмов."
   ]
  },
  {
   "cell_type": "markdown",
   "metadata": {},
   "source": [
    "## Основные теоретические положения\n",
    "\n",
    "### Бинарный метод \"SX\"\n",
    "Данный алгоритм вычисляет $x^n$, где $n$ - положительное целое число.<br>\n",
    "Записать $n$ в двоичной системе счисления, затем в данной записи заменить каждую \"1\" парой букв \"SX\", заменить каждый \"0\" буквой \"S\", вычеркнуть первую пару \"SX\" в начале записи (слева). Результатом данных действий будет правило вычисления $x^n$, каждая \"S\" интерпретируется как операция возведения в квадрат (умножение промежуточного результата самого на себя), и \"X\" интерпретируется как операция умножения на $x$.\n",
    "\n",
    "### Бинарный метод справа налево\n",
    "Данный алгоритм вычисляет $x^n$, где $n$ - положительное целое число.<br>\n",
    "#### A1. Инициализация.\n",
    "Присвоить $N \\leftarrow n$, $Y \\leftarrow 1$, $Z \\leftarrow x$.\n",
    "#### A2. Уменьшить вдвое $N$.\n",
    "(На данном шаге $x^n = Y \\cdot Z^N$)\n",
    "Присвоить $N \\leftarrow \\lfloor {N \\over 2} \\rfloor$, в то же время определить, являлось $N$ четным или нечетным. Если $N$ было четным, то перейти к шагу **A5**.\n",
    "#### A3. Умножить $Y$ на $Z$.\n",
    "Присвоить $Y \\leftarrow Z \\cdot Y$.\n",
    "#### A4. Является ли $N = 0$.\n",
    "Если $N = 0$, то алгритм завершает работу, $Y$ является ответом.\n",
    "#### A5. Возвести $Z$ в квадрат.\n",
    "Присвоить $Z \\leftarrow Z \\cdot Z$, и вернуться к шагу **A2**.\n",
    "\n",
    "### Метод множителей\n",
    "Данный алгоритм вычисляет $x^n$, где $n$ - положительное целое число.<br>\n",
    "Метод мнжителей состоит в разложениии числа $n$ на множители. Если $n = p \\cdot q$, где $p$ - наименьший простой множитель числа $n$ и $q > 1$, то возможно вычислить $x^n$, вычислив сначала x^p, а затем возведя это значение в степень $q$. Если $n$ - простое, то возможно сначала вычислить $x^{n-1}$, а затем домножить на $x$. И, конечно, если $n = 1$, получить $x^n$ возможно не производя никаких вычислений. Применение данных правил дает процедуру вычисления $x^n$, при любом данном значении $n$.\n",
    "\n",
    "### Дерево степеней\n",
    "Корнем дерева является узел 1, $(k + 1)$-ый уровень дерева определяется следующим образом, предполагается что первые $k$ уровней уже были построены: Берется каждый узел $n$ принадлежащий $k$-му уровню, слева направо, и к нему прикрепляются узлы $$n+1, n+a_1, n+a_2,...,n+a_{k-1} = 2n$$\n",
    "(в данном порядке), где 1, $a_1$, $a_2$, ..., $a_{k-1}$ - путь от корня к узлу $n$; каждый узел, уже присутствующий в дереве, отбразывается.<br>\n",
    "Чтобы вычислить $x^n$, необходимо найти вершину $n$ в дереве, путь от корня до $n$ определяет последовательность степеней, котоные необходимо вычислить для эффективно вычисления $x^n$."
   ]
  },
  {
   "cell_type": "markdown",
   "metadata": {},
   "source": [
    "## Постановка задачи\n",
    "\n",
    "Реализовать алгоритмы вычисления мономов за минимальное число операций с использованием системы компьютерной алгебры SageMath, провести анализ алгоритмов. Полученные результаты содержательно интерпретировать."
   ]
  },
  {
   "cell_type": "markdown",
   "metadata": {},
   "source": [
    "## Выполнение работы\n",
    "\n",
    "\n",
    "### 1. Бинарный метод \"SX\"\n",
    "В блоке кода, расположенном ниже, реализован бинарный метод \"SX\"."
   ]
  },
  {
   "cell_type": "code",
   "execution_count": 1,
   "metadata": {},
   "outputs": [],
   "source": [
    "'''\n",
    "    this function performs the exponentiation of the passed number x to the power n using binary method\n",
    "'''\n",
    "def binary_method(x, n):\n",
    "                            # convert the degree to binary and remove the leading \"one\"\n",
    "    binary_representation = bin(n)[3:]\n",
    "    binary_representation = binary_representation.replace('1', 'SX').replace('0', 'S')\n",
    "    print(binary_representation)\n",
    "    result = x\n",
    "    power = 1\n",
    "    \n",
    "    for item in binary_representation:\n",
    "        if item == 'S':\n",
    "            result *= result\n",
    "            power *= 2\n",
    "        else:\n",
    "            result *= x\n",
    "            power += 1\n",
    "        print('{}^{} = {}'.format(x, power, result))\n",
    "    \n",
    "    print('Number of operations:', len(binary_representation))\n",
    "    return result"
   ]
  },
  {
   "cell_type": "markdown",
   "metadata": {},
   "source": [
    "Произведены возведения чисел в сепень с помощью реализованной функции, результаты данных вычислений расположены в блоках кода ниже."
   ]
  },
  {
   "cell_type": "code",
   "execution_count": 2,
   "metadata": {},
   "outputs": [
    {
     "name": "stdout",
     "output_type": "stream",
     "text": [
      "SS\n",
      "3^2 = 9\n",
      "3^4 = 81\n",
      "Number of operations: 2\n"
     ]
    },
    {
     "data": {
      "text/plain": [
       "81"
      ]
     },
     "execution_count": 2,
     "metadata": {},
     "output_type": "execute_result"
    }
   ],
   "source": [
    "binary_method(3, 4)"
   ]
  },
  {
   "cell_type": "code",
   "execution_count": 3,
   "metadata": {},
   "outputs": [
    {
     "name": "stdout",
     "output_type": "stream",
     "text": [
      "SSS\n",
      "3^2 = 9\n",
      "3^4 = 81\n",
      "3^8 = 6561\n",
      "Number of operations: 3\n"
     ]
    },
    {
     "data": {
      "text/plain": [
       "6561"
      ]
     },
     "execution_count": 3,
     "metadata": {},
     "output_type": "execute_result"
    }
   ],
   "source": [
    "binary_method(3, 8)"
   ]
  },
  {
   "cell_type": "code",
   "execution_count": 4,
   "metadata": {},
   "outputs": [
    {
     "name": "stdout",
     "output_type": "stream",
     "text": [
      "SXS\n",
      "3^2 = 9\n",
      "3^3 = 27\n",
      "3^6 = 729\n",
      "Number of operations: 3\n"
     ]
    },
    {
     "data": {
      "text/plain": [
       "729"
      ]
     },
     "execution_count": 4,
     "metadata": {},
     "output_type": "execute_result"
    }
   ],
   "source": [
    "binary_method(3, 6)"
   ]
  },
  {
   "cell_type": "code",
   "execution_count": 5,
   "metadata": {},
   "outputs": [
    {
     "name": "stdout",
     "output_type": "stream",
     "text": [
      "SSSX\n",
      "3^2 = 9\n",
      "3^4 = 81\n",
      "3^8 = 6561\n",
      "3^9 = 19683\n",
      "Number of operations: 4\n"
     ]
    },
    {
     "data": {
      "text/plain": [
       "19683"
      ]
     },
     "execution_count": 5,
     "metadata": {},
     "output_type": "execute_result"
    }
   ],
   "source": [
    "binary_method(3, 9)"
   ]
  },
  {
   "cell_type": "code",
   "execution_count": 6,
   "metadata": {},
   "outputs": [
    {
     "name": "stdout",
     "output_type": "stream",
     "text": [
      "SSXSX\n",
      "3^2 = 9\n",
      "3^4 = 81\n",
      "3^5 = 243\n",
      "3^10 = 59049\n",
      "3^11 = 177147\n",
      "Number of operations: 5\n"
     ]
    },
    {
     "data": {
      "text/plain": [
       "177147"
      ]
     },
     "execution_count": 6,
     "metadata": {},
     "output_type": "execute_result"
    }
   ],
   "source": [
    "binary_method(3, 11)"
   ]
  },
  {
   "cell_type": "markdown",
   "metadata": {},
   "source": [
    "### 2. Метод возведения в степень справа налево\n",
    "В блоке кода, расположенном ниже, реализован метод возведения в степень справа налево."
   ]
  },
  {
   "cell_type": "code",
   "execution_count": 7,
   "metadata": {},
   "outputs": [],
   "source": [
    "'''\n",
    "    this function performs the exponentiation of the passed number x to the power n using right-to-left method\n",
    "'''\n",
    "def right_to_left(x, n):\n",
    "    N = n\n",
    "    Y = 1\n",
    "    Z = x\n",
    "    operations_amt = 0\n",
    "    i = 0\n",
    "    print('№\\tN\\tY\\tZ')\n",
    "    while True:\n",
    "        print('{}\\t{}\\t{}\\t{}'.format(i, N, Y, Z))\n",
    "        i += 1\n",
    "        flag = N % 2\n",
    "        N //= 2\n",
    "        if flag:\n",
    "            Y *= Z\n",
    "            operations_amt += 1\n",
    "            if not N:\n",
    "                break\n",
    "        Z *= Z\n",
    "        operations_amt += 1\n",
    "\n",
    "    print('{}\\t{}\\t{}\\t{}'.format(i,N, Y, Z))\n",
    "    print('Number of operations:', operations_amt)\n",
    "    return Y"
   ]
  },
  {
   "cell_type": "markdown",
   "metadata": {},
   "source": [
    "Произведены возведения в степень чисел с помошью реализованной функции, результаты данных вычислений расположены в блоках кода ниже."
   ]
  },
  {
   "cell_type": "code",
   "execution_count": 8,
   "metadata": {},
   "outputs": [
    {
     "name": "stdout",
     "output_type": "stream",
     "text": [
      "№\tN\tY\tZ\n",
      "0\t4\t1\t3\n",
      "1\t2\t1\t9\n",
      "2\t1\t1\t81\n",
      "3\t0\t81\t81\n",
      "Number of operations: 3\n"
     ]
    },
    {
     "data": {
      "text/plain": [
       "81"
      ]
     },
     "execution_count": 8,
     "metadata": {},
     "output_type": "execute_result"
    }
   ],
   "source": [
    "right_to_left(3, 4)"
   ]
  },
  {
   "cell_type": "code",
   "execution_count": 9,
   "metadata": {},
   "outputs": [
    {
     "name": "stdout",
     "output_type": "stream",
     "text": [
      "№\tN\tY\tZ\n",
      "0\t8\t1\t3\n",
      "1\t4\t1\t9\n",
      "2\t2\t1\t81\n",
      "3\t1\t1\t6561\n",
      "4\t0\t6561\t6561\n",
      "Number of operations: 4\n"
     ]
    },
    {
     "data": {
      "text/plain": [
       "6561"
      ]
     },
     "execution_count": 9,
     "metadata": {},
     "output_type": "execute_result"
    }
   ],
   "source": [
    "right_to_left(3, 8)"
   ]
  },
  {
   "cell_type": "code",
   "execution_count": 10,
   "metadata": {},
   "outputs": [
    {
     "name": "stdout",
     "output_type": "stream",
     "text": [
      "№\tN\tY\tZ\n",
      "0\t6\t1\t3\n",
      "1\t3\t1\t9\n",
      "2\t1\t9\t81\n",
      "3\t0\t729\t81\n",
      "Number of operations: 4\n"
     ]
    },
    {
     "data": {
      "text/plain": [
       "729"
      ]
     },
     "execution_count": 10,
     "metadata": {},
     "output_type": "execute_result"
    }
   ],
   "source": [
    "right_to_left(3, 6)"
   ]
  },
  {
   "cell_type": "code",
   "execution_count": 11,
   "metadata": {},
   "outputs": [
    {
     "name": "stdout",
     "output_type": "stream",
     "text": [
      "№\tN\tY\tZ\n",
      "0\t9\t1\t3\n",
      "1\t4\t3\t9\n",
      "2\t2\t3\t81\n",
      "3\t1\t3\t6561\n",
      "4\t0\t19683\t6561\n",
      "Number of operations: 5\n"
     ]
    },
    {
     "data": {
      "text/plain": [
       "19683"
      ]
     },
     "execution_count": 11,
     "metadata": {},
     "output_type": "execute_result"
    }
   ],
   "source": [
    "right_to_left(3, 9)"
   ]
  },
  {
   "cell_type": "code",
   "execution_count": 12,
   "metadata": {},
   "outputs": [
    {
     "name": "stdout",
     "output_type": "stream",
     "text": [
      "№\tN\tY\tZ\n",
      "0\t11\t1\t3\n",
      "1\t5\t3\t9\n",
      "2\t2\t27\t81\n",
      "3\t1\t27\t6561\n",
      "4\t0\t177147\t6561\n",
      "Number of operations: 6\n"
     ]
    },
    {
     "data": {
      "text/plain": [
       "177147"
      ]
     },
     "execution_count": 12,
     "metadata": {},
     "output_type": "execute_result"
    }
   ],
   "source": [
    "right_to_left(3, 11)"
   ]
  },
  {
   "cell_type": "markdown",
   "metadata": {},
   "source": [
    "В общем случае после завершеня работы алгоритма значение $Z$ будет равно $2^k$, где $k$ - наибольшее число, являющееся степенью числа $2$, меньше или равное переданной степени $n$."
   ]
  },
  {
   "cell_type": "markdown",
   "metadata": {},
   "source": [
    "### 3. Сравнение бинарного метода \"SX\" и метода возведения в степень справа налево.\n",
    "В таблице ниже произведено сравнение количества операций умножения, произведенное реализованными методами для возведения в заданные степени переданных чисел.\n",
    "\n",
    "| Степень | Число умножений в<br>бинарном методе | Число умножений в<br>методе справа налево |\n",
    "|---------|--------------------------------------|-------------------------------------------|\n",
    "| 4       | 2                                    | 3                                         |\n",
    "| 8       | 3                                    | 4                                         |\n",
    "| 6       | 3                                    | 4                                         |\n",
    "| 9       | 4                                    | 5                                         |\n",
    "| 11      | 5                                    | 6                                         |\n",
    "\n",
    "Как видно из приведенной таблицы, метод возведения в степень справа налево совершает на одну операцию умножения больше, это связвно с тем, что инициалиация числа $Y$ начинается с 1, а не с переданного числа $x$, следовательно данный метод является менее эффективным."
   ]
  },
  {
   "cell_type": "markdown",
   "metadata": {},
   "source": [
    "### 4. Метод множителей"
   ]
  },
  {
   "cell_type": "markdown",
   "metadata": {},
   "source": [
    "Рассмотим работу метода множителей для ранее приведенных $n$.\n",
    "#### 1) $3^4$\n",
    "$3^4 = (3^2)^2 = y_1^2 = y_1 \\cdot y_1 = 9 \\cdot 9 = 81$ <br>\n",
    "$y_1 = 3^2 = 3 \\cdot 3 = 9$\n",
    "#### 2) $3^8$\n",
    "$3^8 = (3^2)^4 = y_1^4 = (y_1^2)^2 = y_2^2 = y_2 \\cdot y_2 = 81 \\cdot 81 = 6561$ <br>\n",
    "$y_1 = 3^2 = 3 \\cdot 3 = 9$ <br>\n",
    "$y_2 = y_1^2 = y_1 \\cdot y_1 = 9 \\cdot 9 = 81$\n",
    "#### 3) $3^6$\n",
    "$3^6 = (3^2)^3 = (y_1)^3 = y_1 \\cdot y_1^2 = y_1 \\cdot y_2 = 9 \\cdot 81 = 729$ <br>\n",
    "$y_1 = 3^2 = 3 \\cdot 3 = 9$ <br>\n",
    "$y_2 = y_1^2 = y_1 \\cdot y_1 = 9 \\cdot 9 = 81$\n",
    "#### 4) $3^9$\n",
    "$3^9 = (3^3)^3 = y_1^3 = y_1 \\cdot y_1^2 = y_1 \\cdot y_3 = 27 \\cdot 729 = 19683$ <br>\n",
    "$y_1 = 3^3 = 3 \\cdot 3^2 = 3 \\cdot y_2 = 3 \\cdot 9 = 27$ <br>\n",
    "$y_2 = 3^2 = 3 \\cdot 3 = 9$ <br>\n",
    "$y_3 = y_1^2 = y_1 \\cdot y_1 = 27 \\cdot 27 = 729$\n",
    "#### 5) $3^{11}$\n",
    "$3^11 = 3 \\cdot 3^10 = 3 \\cdot y_1 = 3 \\cdot 59049 = 177147$ <br>\n",
    "$y_1 = 3^10 = (3^2)^5 = y_2^5 = y_1 \\cdot y_2^4 = y_2 \\cdot y_3 = 9 \\cdot 6561 = 59049$ <br>\n",
    "$y_2 = 3^2 = 3 \\cdot 3 = 9$ <br>\n",
    "$y_3 = y_2^4 = (y_2^2)^2 = y_4^2 = y_4 \\cdot y_4 = 81 \\cdot 81 = 6561$ <br>\n",
    "$y_4 = y_2^2 = y_2 \\cdot y_2 = 9 \\cdot 9 = 81$"
   ]
  },
  {
   "cell_type": "markdown",
   "metadata": {},
   "source": [
    "Для рассмотренных степеней метод множителей дает такое же число умножений, что и бинарный метод \"SX\", однако существуют ситуации, когда метод множителей дает меньшее чило умножений, чем бинарный метод \"SX\", в качестве примера приведено вычисление $3^{15}$: <br>\n",
    "\n",
    "$3^{15} = (3^3)^5 = y_1^5 = y_1 \\cdot y_1^4 = y_1 \\cdot y_3 = 27 \\cdot 531441 = 14348907$ <br>\n",
    "$y_1 = 3^3 = 3 \\cdot 3^2 = 3 \\cdot y_2 = 3 \\cdot 9 = 27$ <br>\n",
    "$y_2 = 3^2 = 3 \\cdot 3 = 9$ <br>\n",
    "$y_3 = y_1^4 = (y_1^2)^2 = y_4^2 = y_4 \\cdot y_4 = 729 \\cdot 729 = 531441$ <br>\n",
    "$y_4 = y_1^2 = y_1 \\cdot y_1 = 27 \\cdot 27 = 729$"
   ]
  },
  {
   "cell_type": "code",
   "execution_count": 13,
   "metadata": {},
   "outputs": [
    {
     "name": "stdout",
     "output_type": "stream",
     "text": [
      "SXSXSX\n",
      "3^2 = 9\n",
      "3^3 = 27\n",
      "3^6 = 729\n",
      "3^7 = 2187\n",
      "3^14 = 4782969\n",
      "3^15 = 14348907\n",
      "Number of operations: 6\n"
     ]
    },
    {
     "data": {
      "text/plain": [
       "14348907"
      ]
     },
     "execution_count": 13,
     "metadata": {},
     "output_type": "execute_result"
    }
   ],
   "source": [
    "binary_method(3, 15)"
   ]
  },
  {
   "cell_type": "markdown",
   "metadata": {},
   "source": [
    "Также существуют ситуации, когда метод множителей дает большее число операций, чем бинарный метод \"SX\", в качестве примера рассмотрим вычисление $3^{33}$: <br>\n",
    "$3^{33} = (3^3)^{11} = y_1^{11} = y_1 \\cdot y_1^{10} = y_1 \\cdot y_3 = 27 \\cdot 205891132094649 = 5559060566555523$ <br>\n",
    "$y_1 = 3^3 = 3 \\cdot 3^2 = 3 \\cdot y_2 = 3 \\cdot 9 = 27$ <br>\n",
    "$y_2 = 3^2 = 3 \\cdot 3 = 9$ <br>\n",
    "$y_3 = y_1^{10} = (y_2^2)^5 = y_4^5 = y_4 \\cdot y_4 ^4 = y_4 \\cdot y_5 = 729 \\cdot 282429536481 = 205891132094649$ <br>\n",
    "$y_4 = y_1^2 = y_1 \\cdot y_1 = 27 \\cdot 27 = 729$ <br>\n",
    "$y_5 = y_4^4 = (y_4^2)^2 = y_6^2 = y_6 \\cdot y_6 = 53144 \\cdot 53144 = 282429536481$ <br>\n",
    "$y_6 = y_4^2 = y_4 \\cdot y_4 = 53144$"
   ]
  },
  {
   "cell_type": "code",
   "execution_count": 14,
   "metadata": {},
   "outputs": [
    {
     "name": "stdout",
     "output_type": "stream",
     "text": [
      "SSSSSX\n",
      "3^2 = 9\n",
      "3^4 = 81\n",
      "3^8 = 6561\n",
      "3^16 = 43046721\n",
      "3^32 = 1853020188851841\n",
      "3^33 = 5559060566555523\n",
      "Number of operations: 6\n"
     ]
    },
    {
     "data": {
      "text/plain": [
       "5559060566555523"
      ]
     },
     "execution_count": 14,
     "metadata": {},
     "output_type": "execute_result"
    }
   ],
   "source": [
    "binary_method(3, 33)"
   ]
  },
  {
   "cell_type": "markdown",
   "metadata": {},
   "source": [
    "Таким образом метод множителей, в среднем, дает меньшее число умножений, чем бинарные матоды, но существуют ситуации, при которых бинарные методы показывают лучший результат."
   ]
  },
  {
   "cell_type": "markdown",
   "metadata": {},
   "source": [
    "### 5. Дерево степеней\n",
    "В блоке кода, расположенном ниже, реализован алгоритм \"дерева степеней\"."
   ]
  },
  {
   "cell_type": "code",
   "execution_count": 15,
   "metadata": {},
   "outputs": [],
   "source": [
    "'''\n",
    "    this function finds the path to a given vertex in the tree defined as a parent dictionary\n",
    "'''\n",
    "def get_way_to_root(parents, item):\n",
    "    way_to_root = []\n",
    "    current_item = item  \n",
    "    while current_item:\n",
    "        way_to_root.append(current_item)\n",
    "        current_item = parents[current_item]\n",
    "    return way_to_root\n",
    "\n",
    "\n",
    "'''\n",
    "    this function draws the passed tree defined as a parent dictionary, \n",
    "    the path to vertex searched_item is highlighted in green\n",
    "'''\n",
    "def show_tree(parents, target_degree):\n",
    "    way_to_root = get_way_to_root(parents, target_degree)\n",
    "    G = Graph()\n",
    "    G.add_edges(list(parents.items()))\n",
    "    G.delete_vertex(0)  # remove the dummy vertex\n",
    "    G.plot(layout='tree', \n",
    "           tree_root=1, \n",
    "           edge_colors={(0, 1, 0): [(way_to_root[i], way_to_root[i+1], None) for i in range(len(way_to_root)-1)]}\n",
    "          ).show()\n",
    "\n",
    "\n",
    "'''\n",
    "    this function builds the powers tree up to a target height\n",
    "'''\n",
    "def crate_powers_tree(target_height, target_degree=1, descending_flag=False):\n",
    "    parents = {}\n",
    "    parents[1] = 0      # 0 is a dummy vertex that allows you to pass the root element\n",
    "    queue = []          # to build the tree its heights are traversed in width using the queue\n",
    "    queue.append(1)\n",
    "    height = 1\n",
    "    \n",
    "                        # the traversal direction (descending or ascending) is determined by descending_flag\n",
    "    traversal = 1 if descending_flag else -1\n",
    "    \n",
    "                        # perform a traversal until the specified level is built\n",
    "                        # or until a given degree is found\n",
    "    while height < target_height or not target_degree in parents:\n",
    "        height += 1\n",
    "        for _ in range(len(queue)): # nested loop allows you to determine the change in tree height\n",
    "            current_item = queue.pop(0)\n",
    "\n",
    "            for item in get_way_to_root(parents, current_item)[::traversal]:\n",
    "                        # look through the vertices that add up the path to the current vertex \n",
    "                        # starting from the root\n",
    "                if item + current_item in parents:      \n",
    "                    continue    # do not add vertices that are already in the tree\n",
    "                parents[item + current_item] = current_item\n",
    "                queue.append(item + current_item)\n",
    "\n",
    "    show_tree(parents, target_degree)"
   ]
  },
  {
   "cell_type": "markdown",
   "metadata": {},
   "source": [
    "Для сравнения данного метода с предыдущими, рассмотрим, сколько умножений необходимо для вычисления степеней 15 и 33. Отметим, что число умножений определяется высотой, на которой находится определенная степень."
   ]
  },
  {
   "cell_type": "code",
   "execution_count": 16,
   "metadata": {},
   "outputs": [
    {
     "data": {
      "image/png": "[encoded data removed]",
      "text/plain": [
       "Graphics object consisting of 72 graphics primitives"
      ]
     },
     "metadata": {},
     "output_type": "display_data"
    }
   ],
   "source": [
    "crate_powers_tree(7, target_degree=15)"
   ]
  },
  {
   "cell_type": "markdown",
   "metadata": {},
   "source": [
    "Для вычисления 15-ой степени дерево степеней дает на одну операцию умножения меньше, чем бинарный метод \"SX\"."
   ]
  },
  {
   "cell_type": "code",
   "execution_count": 17,
   "metadata": {},
   "outputs": [
    {
     "data": {
      "image/png": "[encoded data removed]",
      "text/plain": [
       "Graphics object consisting of 72 graphics primitives"
      ]
     },
     "metadata": {},
     "output_type": "display_data"
    }
   ],
   "source": [
    "crate_powers_tree(7, target_degree=33)"
   ]
  },
  {
   "cell_type": "markdown",
   "metadata": {},
   "source": [
    "Для вычисления 33-й степени дерево степенй дает на одну операцию умножения меньше, чем метод множителей."
   ]
  },
  {
   "cell_type": "markdown",
   "metadata": {},
   "source": [
    "В среднем для не слишком больших степеней $n$ ($n <= 100000$) дерево степеней дает результат лучше, чем бинарный метод \"SX\" и метод множителей. "
   ]
  },
  {
   "cell_type": "markdown",
   "metadata": {},
   "source": [
    "### 6. Дерево убывающих степеней"
   ]
  },
  {
   "cell_type": "code",
   "execution_count": 18,
   "metadata": {
    "scrolled": false
   },
   "outputs": [],
   "source": [
    "'''\n",
    "    this function builds a descending degree tree up to a target height\n",
    "'''\n",
    "def create_descending_powers_tree(target_height, target_degree=1):\n",
    "    crate_powers_tree(target_height, target_degree, True)"
   ]
  },
  {
   "cell_type": "markdown",
   "metadata": {},
   "source": [
    "Таким же образом рассмотрим вычисление сепеней 15 и 33 и сравним результат с бинарным методом \"SX\". "
   ]
  },
  {
   "cell_type": "code",
   "execution_count": 19,
   "metadata": {
    "scrolled": false
   },
   "outputs": [
    {
     "data": {
      "image/png": "[encoded data removed]",
      "text/plain": [
       "Graphics object consisting of 66 graphics primitives"
      ]
     },
     "metadata": {},
     "output_type": "display_data"
    },
    {
     "name": "stdout",
     "output_type": "stream",
     "text": [
      "SXSXSX\n",
      "3^2 = 9\n",
      "3^3 = 27\n",
      "3^6 = 729\n",
      "3^7 = 2187\n",
      "3^14 = 4782969\n",
      "3^15 = 14348907\n",
      "Number of operations: 6\n"
     ]
    },
    {
     "data": {
      "text/plain": [
       "14348907"
      ]
     },
     "execution_count": 19,
     "metadata": {},
     "output_type": "execute_result"
    }
   ],
   "source": [
    "create_descending_powers_tree(7, target_degree=15)\n",
    "binary_method(3, 15)"
   ]
  },
  {
   "cell_type": "code",
   "execution_count": 20,
   "metadata": {},
   "outputs": [
    {
     "data": {
      "image/png": "[encoded data removed]",
      "text/plain": [
       "Graphics object consisting of 66 graphics primitives"
      ]
     },
     "metadata": {},
     "output_type": "display_data"
    },
    {
     "name": "stdout",
     "output_type": "stream",
     "text": [
      "SSSSSX\n",
      "3^2 = 9\n",
      "3^4 = 81\n",
      "3^8 = 6561\n",
      "3^16 = 43046721\n",
      "3^32 = 1853020188851841\n",
      "3^33 = 5559060566555523\n",
      "Number of operations: 6\n"
     ]
    },
    {
     "data": {
      "text/plain": [
       "5559060566555523"
      ]
     },
     "execution_count": 20,
     "metadata": {},
     "output_type": "execute_result"
    }
   ],
   "source": [
    "create_descending_powers_tree(7, target_degree=33)\n",
    "binary_method(3, 33)"
   ]
  },
  {
   "cell_type": "markdown",
   "metadata": {},
   "source": [
    "Как видно из данных вычислений, дерево убыващих степеней дает такое же число операций умножения, что и бинарный метод \"SX\"."
   ]
  },
  {
   "cell_type": "markdown",
   "metadata": {},
   "source": [
    "## Выводы\n",
    "\n",
    "В ходе выполнения работы рассмтрены следующие методы возведения числа в сепень: бинарный метод \"SX\", метод справа налево, метод множителей, дерево степеней, дерево убывающих степеней. Написаны программы, реализующие все данные методы, кроме метода множителей. Произведено сравнение данных методов, в результате чего показано, что бинарный метод \"SX\" всегда дает меньшее число умножений, чем метод справа налево, метод множителей в среднем дает меньшее число умножений, чем бинарный метод \"SX\", дерево степеней в среденем дает меньшее число операций умножения, чем метод множителей, древо убывающих степеней дает такое же число умножений, что и бинарный меод \"SX\"."
   ]
  }
 ],
 "metadata": {
  "kernelspec": {
   "display_name": "SageMath 9.8",
   "language": "sage",
   "name": "sagemath"
  },
  "language_info": {
   "codemirror_mode": {
    "name": "ipython",
    "version": 3
   },
   "file_extension": ".py",
   "mimetype": "text/x-python",
   "name": "python",
   "nbconvert_exporter": "python",
   "pygments_lexer": "ipython3",
   "version": "3.10.10"
  }
 },
 "nbformat": 4,
 "nbformat_minor": 4
}
