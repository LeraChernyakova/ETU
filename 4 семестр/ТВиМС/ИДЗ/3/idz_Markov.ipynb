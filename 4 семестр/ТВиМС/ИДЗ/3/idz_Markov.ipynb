{
 "cells": [
  {
   "cell_type": "markdown",
   "metadata": {},
   "source": [
    "Чернякова Валерия группа 1304<br>\n",
    "ИДЗ №4 \"Цепи Маркова\"<br>\n",
    "Вариант 25<br>"
   ]
  },
  {
   "cell_type": "markdown",
   "metadata": {},
   "source": [
    "### Задание 6."
   ]
  },
  {
   "cell_type": "code",
   "execution_count": null,
   "metadata": {},
   "outputs": [],
   "source": [
    "def get_seq(steps):\n",
    "    start = 1\n",
    "    P = [[0.1, 0.2, 0.3, 0, 0.4, 0],\n",
    "         [0.4, 0.1, 0.2, 0, 0.3, 0],\n",
    "         [0.4, 0.1, 0.3, 0, 0.2, 0],\n",
    "         [0, 0.2, 0, 0.4, 0.4, 0],\n",
    "         [0.1, 0.2, 0.5, 0, 0.2, 0],\n",
    "         [0, 0, 0, 0, 0.8, 0.2]]\n",
    "    E = [[0 if x!= i else 1 for x in range(5)] for i in range(6)]\n",
    "    a = hmm.DiscreteHiddenMarkovModel(P,E,[1, 2, 3, 4, 5, 6])\n",
    "    seq = [*(a.generate_sequence(steps,starting_state=start)[0])]\n",
    "    return seq"
   ]
  },
  {
   "cell_type": "code",
   "execution_count": null,
   "metadata": {},
   "outputs": [],
   "source": [
    "print(','.join(list(map(str,get_seq(10)))))"
   ]
  }
 ],
 "metadata": {
  "kernelspec": {
   "display_name": "Python 3",
   "language": "python",
   "name": "python3"
  },
  "language_info": {
   "codemirror_mode": {
    "name": "ipython",
    "version": 3
   },
   "file_extension": ".py",
   "mimetype": "text/x-python",
   "name": "python",
   "nbconvert_exporter": "python",
   "pygments_lexer": "ipython3",
   "version": "3.7.10"
  }
 },
 "nbformat": 4,
 "nbformat_minor": 2
}
