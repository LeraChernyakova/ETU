{
 "cells": [
  {
   "cell_type": "markdown",
   "id": "fb79d399-1baf-473d-999c-04a9f8f73be6",
   "metadata": {},
   "source": [
    "# Sequelize\n",
    "[sequelize](https://sequelize.org/) - один из ORM-фреймворков для Node.js. Будем использовать его с расширением [sequelize-typescript](https://www.npmjs.com/package/sequelize-typescript).\n",
    "\n",
    "Ещё можете посмотреть использование с [Nest.js](https://docs.nestjs.com/recipes/sql-sequelize).\n",
    "\n",
    "Чтобы запустить этот notebook - [tslab](https://github.com/yunabe/tslab)"
   ]
  },
  {
   "cell_type": "markdown",
   "id": "94eefc8a-f260-42c6-bd73-fba9a4b65800",
   "metadata": {},
   "source": [
    "## Инициализация\n",
    "\n",
    "Установка:\n",
    "```\n",
    "$ yarn add sequelize@6 typescript sequelize-typescript pg pg-hstore reflect-metadata\n",
    "$ yarn add --dev @types/node @types/validator"
   ]
  },
  {
   "cell_type": "markdown",
   "id": "a3692a05-1edf-4531-a641-292032de5b73",
   "metadata": {},
   "source": [
    "a\n",
    "```\n",
    "`pg` и `pg-hstore` для подключения к postgresql."
   ]
  },
  {
   "cell_type": "code",
   "execution_count": 1,
   "id": "76caa5df-0573-4b5f-b844-060c22808f9b",
   "metadata": {},
   "outputs": [],
   "source": [
    "import { Sequelize } from 'sequelize-typescript';"
   ]
  },
  {
   "cell_type": "markdown",
   "id": "25266c3f-c969-4d8e-b4ec-6c2ecb58772c",
   "metadata": {},
   "source": [
    "Первое действие - создание объекта `Sequelize`. Он создается один раз на всё приложение.\n",
    "\n",
    "См. опции: https://sequelize.org/docs/v6/getting-started/"
   ]
  },
  {
   "cell_type": "code",
   "execution_count": 2,
   "id": "97fac8f3-6f39-42c0-8330-bb02ee23c28f",
   "metadata": {},
   "outputs": [],
   "source": [
    "let sequelize = new Sequelize({\n",
    "    host: 'localhost',\n",
    "    dialect: 'postgres',\n",
    "    username: 'postgres',\n",
    "    password: 'localdbpass',\n",
    "    port: 5432,\n",
    "    database: 'orm-demo'\n",
    "})"
   ]
  },
  {
   "cell_type": "markdown",
   "id": "183b932b-41cf-4271-953b-f2f28df42733",
   "metadata": {},
   "source": [
    "Проверка подключения"
   ]
  },
  {
   "cell_type": "code",
   "execution_count": 3,
   "id": "71b7c207-411d-4b6f-99f8-a3d3c7714d13",
   "metadata": {},
   "outputs": [
    {
     "name": "stdout",
     "output_type": "stream",
     "text": [
      "Executing (default): SELECT 1+1 AS result\n"
     ]
    }
   ],
   "source": [
    "await sequelize.authenticate();"
   ]
  },
  {
   "cell_type": "markdown",
   "id": "29f5b4b0-2511-4056-82ed-e8ecdc190652",
   "metadata": {},
   "source": [
    "^ по умолчанию sequelize логирует получающиеся SQL-запросы в консоль ^.\n",
    "\n",
    "Это нужно отключить, если у вас выполняется очень много запросов, т.к. логирование добавляет некоторый overhead."
   ]
  },
  {
   "cell_type": "markdown",
   "id": "e2597527-2e9e-4515-9614-688c49f288d3",
   "metadata": {},
   "source": [
    "## Модели\n",
    "\n",
    "1 модель sequelize = 1 класс = 1 таблица в БД.\n",
    "\n",
    "## Определение моделей"
   ]
  },
  {
   "cell_type": "code",
   "execution_count": 4,
   "id": "bbecf2ff-b52b-4524-bad5-7b123d902ab1",
   "metadata": {},
   "outputs": [],
   "source": [
    "import { \n",
    "    Table,\n",
    "    Column,\n",
    "    Model,\n",
    "    PrimaryKey,\n",
    "    AllowNull,\n",
    "    CreatedAt,\n",
    "    UpdatedAt,\n",
    "    AutoIncrement,\n",
    "    DataType,\n",
    "    Default,\n",
    "} from 'sequelize-typescript';\n",
    "import { UUIDV4 } from 'sequelize'"
   ]
  },
  {
   "cell_type": "code",
   "execution_count": 5,
   "id": "30a6b462-9f0a-487d-8ff4-b880b014600c",
   "metadata": {},
   "outputs": [],
   "source": [
    "@Table\n",
    "class User extends Model {\n",
    "    @PrimaryKey\n",
    "    @Default(UUIDV4)\n",
    "    @Column(DataType.UUID)\n",
    "    declare uuid: string;\n",
    "\n",
    "    @AllowNull(false)\n",
    "    @Column(DataType.STRING(256))\n",
    "    declare fio: string;\n",
    "\n",
    "    @Column(DataType.TEXT)\n",
    "    declare bio: string;\n",
    "}"
   ]
  },
  {
   "cell_type": "markdown",
   "id": "58336c8e-0166-453c-9f4c-42450af84838",
   "metadata": {},
   "source": [
    "* Атрибут класса, помеченный декоратором `@Column` = столбец таблицы\n",
    "  * Иногда typescript может вывести тип столбца из типа атрибута, но не в `tslab`\n",
    "  * `@Default` - значение по умолчанию\n",
    "  * `@AllowNull` - по умолчанию `true`, надо явно ставить `false`, чтобы сгенерировать `NOT NULL`\n",
    "  * `declare` стал нужен с какой-то недавней версии typescript\n",
    "* По умолчанию во все модели добавляется `id SERIAL PRIMARY KEY`, если нигде не повешен декоратор `@PrimaryKey`\n",
    "  * Поэтому в последних версиях TypeScript есть трудности с переопределением атрибута `id`. См. https://github.com/microsoft/TypeScript/issues/51515\n",
    "* Также автоматически добавляются и устанавливаются атрибуты:\n",
    "  * `createdAt` - дата создания строчки\n",
    "  * `updatedAt` - дата последнего удаления строчки\n",
    "  * Это можно выключить так: `@Table({ timestamps: false })` (но наверное не нужно)\n",
    "* Имя таблицы по умолчанию - `\"Users\"` (!)"
   ]
  },
  {
   "cell_type": "markdown",
   "id": "03f3b7f1-b9ce-49f2-b8fc-355723922f56",
   "metadata": {},
   "source": [
    "### Синхронизация моделей с БД\n",
    "Модели, созданные в качестве классов TypeScript, никуда не попадают. Надо отдельным действием перенести их в БД.\n",
    "\n",
    "Для этого нужно добавить их к объекту sequelize:"
   ]
  },
  {
   "cell_type": "code",
   "execution_count": 6,
   "id": "9717811e-99ea-4236-ba45-88ded5c07b25",
   "metadata": {},
   "outputs": [],
   "source": [
    "sequelize.addModels([User])\n",
    "// Или - https://www.npmjs.com/package/sequelize-typescript#configuration"
   ]
  },
  {
   "cell_type": "markdown",
   "id": "9118a0fe-baf5-4873-95ef-ac56fff7492a",
   "metadata": {},
   "source": [
    "Метод `sequelize.sync({ force: true })` пересоздает таблицы в БД (т.е. дропает всё и создает заново)"
   ]
  },
  {
   "cell_type": "code",
   "execution_count": 7,
   "id": "24be1bdb-02ed-4ffc-a325-5ee355eae2e6",
   "metadata": {},
   "outputs": [
    {
     "name": "stdout",
     "output_type": "stream",
     "text": [
      "Executing (default): DROP TABLE IF EXISTS \"Users\" CASCADE;\n",
      "Executing (default): SELECT DISTINCT tc.constraint_name as constraint_name, tc.constraint_schema as constraint_schema, tc.constraint_catalog as constraint_catalog, tc.table_name as table_name,tc.table_schema as table_schema,tc.table_catalog as table_catalog,tc.initially_deferred as initially_deferred,tc.is_deferrable as is_deferrable,kcu.column_name as column_name,ccu.table_schema  AS referenced_table_schema,ccu.table_catalog  AS referenced_table_catalog,ccu.table_name  AS referenced_table_name,ccu.column_name AS referenced_column_name FROM information_schema.table_constraints AS tc JOIN information_schema.key_column_usage AS kcu ON tc.constraint_name = kcu.constraint_name JOIN information_schema.constraint_column_usage AS ccu ON ccu.constraint_name = tc.constraint_name WHERE constraint_type = 'FOREIGN KEY' AND tc.table_name = 'Users' AND tc.table_catalog = 'orm-demo'\n",
      "Executing (default): DROP TABLE IF EXISTS \"Users\" CASCADE;\n",
      "Executing (default): DROP TABLE IF EXISTS \"Users\" CASCADE;\n",
      "Executing (default): CREATE TABLE IF NOT EXISTS \"Users\" (\"uuid\" UUID , \"fio\" VARCHAR(256) NOT NULL, \"bio\" TEXT, \"createdAt\" TIMESTAMP WITH TIME ZONE NOT NULL, \"updatedAt\" TIMESTAMP WITH TIME ZONE NOT NULL, PRIMARY KEY (\"uuid\"));\n",
      "Executing (default): SELECT i.relname AS name, ix.indisprimary AS primary, ix.indisunique AS unique, ix.indkey AS indkey, array_agg(a.attnum) as column_indexes, array_agg(a.attname) AS column_names, pg_get_indexdef(ix.indexrelid) AS definition FROM pg_class t, pg_class i, pg_index ix, pg_attribute a WHERE t.oid = ix.indrelid AND i.oid = ix.indexrelid AND a.attrelid = t.oid AND t.relkind = 'r' and t.relname = 'Users' GROUP BY i.relname, ix.indexrelid, ix.indisprimary, ix.indisunique, ix.indkey ORDER BY i.relname;\n"
     ]
    }
   ],
   "source": [
    "await sequelize.sync({ force: true })\n",
    "null"
   ]
  },
  {
   "cell_type": "markdown",
   "id": "71669626-fda3-4b6b-9007-cdd67a64324f",
   "metadata": {},
   "source": [
    "Без `force` будут созданы только несозданные таблицы:"
   ]
  },
  {
   "cell_type": "code",
   "execution_count": 8,
   "id": "e62ed209-8b8e-4092-8a2d-c75b8a8daaec",
   "metadata": {},
   "outputs": [
    {
     "name": "stdout",
     "output_type": "stream",
     "text": [
      "Executing (default): SELECT table_name FROM information_schema.tables WHERE table_schema = 'public' AND table_name = 'Users'\n",
      "Executing (default): SELECT i.relname AS name, ix.indisprimary AS primary, ix.indisunique AS unique, ix.indkey AS indkey, array_agg(a.attnum) as column_indexes, array_agg(a.attname) AS column_names, pg_get_indexdef(ix.indexrelid) AS definition FROM pg_class t, pg_class i, pg_index ix, pg_attribute a WHERE t.oid = ix.indrelid AND i.oid = ix.indexrelid AND a.attrelid = t.oid AND t.relkind = 'r' and t.relname = 'Users' GROUP BY i.relname, ix.indexrelid, ix.indisprimary, ix.indisunique, ix.indkey ORDER BY i.relname;\n"
     ]
    }
   ],
   "source": [
    "await sequelize.sync()\n",
    "null"
   ]
  },
  {
   "cell_type": "markdown",
   "id": "1b00accb-0426-462e-8d00-3ec2e22e9cba",
   "metadata": {},
   "source": [
    "### Создание моделей\n",
    "Создадим инстанс модели:"
   ]
  },
  {
   "cell_type": "code",
   "execution_count": 9,
   "id": "fe845824-b230-43f7-8c20-b82fbbd81b62",
   "metadata": {},
   "outputs": [
    {
     "name": "stdout",
     "output_type": "stream",
     "text": [
      "User {\n",
      "  dataValues: {\n",
      "    uuid: \u001b[32m'c17bc685-8775-4a88-9035-3e1d8f3ee4a9'\u001b[39m,\n",
      "    fio: \u001b[32m'Корытов Павел Валерьевич'\u001b[39m\n",
      "  },\n",
      "  _previousDataValues: { fio: \u001b[90mundefined\u001b[39m },\n",
      "  uniqno: \u001b[33m1\u001b[39m,\n",
      "  _changed: Set(1) { \u001b[32m'fio'\u001b[39m },\n",
      "  _options: { isNewRecord: \u001b[33mtrue\u001b[39m, _schema: \u001b[1mnull\u001b[22m, _schemaDelimiter: \u001b[32m''\u001b[39m },\n",
      "  isNewRecord: \u001b[33mtrue\u001b[39m\n",
      "}\n"
     ]
    }
   ],
   "source": [
    "let user = User.build({ fio: 'Корытов Павел Валерьевич' })\n",
    "user"
   ]
  },
  {
   "cell_type": "markdown",
   "id": "1b2ce314-ffed-4c9e-870b-3cdc92711dbb",
   "metadata": {},
   "source": [
    "Мы создали объект, но он пока находится только в коде! Чтобы сохранить объект в БД, можно вызвать метод `save`:"
   ]
  },
  {
   "cell_type": "code",
   "execution_count": 10,
   "id": "30c88fe8-fc62-4a5f-a577-724c3a93023d",
   "metadata": {},
   "outputs": [
    {
     "name": "stdout",
     "output_type": "stream",
     "text": [
      "Executing (default): INSERT INTO \"Users\" (\"uuid\",\"fio\",\"createdAt\",\"updatedAt\") VALUES ($1,$2,$3,$4) RETURNING \"uuid\",\"fio\",\"bio\",\"createdAt\",\"updatedAt\";\n",
      "User {\n",
      "  dataValues: {\n",
      "    uuid: \u001b[32m'c17bc685-8775-4a88-9035-3e1d8f3ee4a9'\u001b[39m,\n",
      "    fio: \u001b[32m'Корытов Павел Валерьевич'\u001b[39m,\n",
      "    updatedAt: \u001b[35m2023-11-08T23:35:31.193Z\u001b[39m,\n",
      "    createdAt: \u001b[35m2023-11-08T23:35:31.193Z\u001b[39m,\n",
      "    bio: \u001b[1mnull\u001b[22m\n",
      "  },\n",
      "  _previousDataValues: {\n",
      "    fio: \u001b[32m'Корытов Павел Валерьевич'\u001b[39m,\n",
      "    uuid: \u001b[32m'c17bc685-8775-4a88-9035-3e1d8f3ee4a9'\u001b[39m,\n",
      "    bio: \u001b[1mnull\u001b[22m,\n",
      "    createdAt: \u001b[35m2023-11-08T23:35:31.193Z\u001b[39m,\n",
      "    updatedAt: \u001b[35m2023-11-08T23:35:31.193Z\u001b[39m\n",
      "  },\n",
      "  uniqno: \u001b[33m1\u001b[39m,\n",
      "  _changed: Set(0) {},\n",
      "  _options: { isNewRecord: \u001b[33mtrue\u001b[39m, _schema: \u001b[1mnull\u001b[22m, _schemaDelimiter: \u001b[32m''\u001b[39m },\n",
      "  isNewRecord: \u001b[33mfalse\u001b[39m\n",
      "}\n"
     ]
    }
   ],
   "source": [
    "await user.save()"
   ]
  },
  {
   "cell_type": "markdown",
   "id": "5f714c0c-1a95-47b0-8a02-bd3f88317ceb",
   "metadata": {},
   "source": [
    "При вызове метода `save` поставились значения `createdAt` и `updatedAt`"
   ]
  },
  {
   "cell_type": "code",
   "execution_count": 11,
   "id": "bb6313cc-8161-4c4b-918d-066f44383ce2",
   "metadata": {},
   "outputs": [
    {
     "name": "stdout",
     "output_type": "stream",
     "text": [
      "\u001b[35m2023-11-08T23:35:31.193Z\u001b[39m\n"
     ]
    }
   ],
   "source": [
    "user.createdAt"
   ]
  },
  {
   "cell_type": "markdown",
   "id": "73861b95-837d-4276-8c75-af6b1c4e83af",
   "metadata": {},
   "source": [
    "Аналогично обновление:"
   ]
  },
  {
   "cell_type": "code",
   "execution_count": 12,
   "id": "8eddba2e-788d-46f8-a0e6-68c20f1f4fbd",
   "metadata": {},
   "outputs": [
    {
     "name": "stdout",
     "output_type": "stream",
     "text": [
      "Программист ОИС\n"
     ]
    }
   ],
   "source": [
    "user.bio = 'Программист ОИС'"
   ]
  },
  {
   "cell_type": "markdown",
   "id": "06e50300-5e6a-4b13-8a9a-02a7ba0f7847",
   "metadata": {},
   "source": [
    "(ничего не произошло)"
   ]
  },
  {
   "cell_type": "code",
   "execution_count": 13,
   "id": "5f343797-4d1e-464c-a134-31b69c5fde76",
   "metadata": {},
   "outputs": [
    {
     "name": "stdout",
     "output_type": "stream",
     "text": [
      "Executing (default): UPDATE \"Users\" SET \"bio\"=$1,\"updatedAt\"=$2 WHERE \"uuid\" = $3\n",
      "\u001b[35m2023-11-08T23:35:31.193Z\u001b[39m | \u001b[35m2023-11-08T23:35:31.268Z\u001b[39m\n"
     ]
    }
   ],
   "source": [
    "await user.save()\n",
    "console.log(user.createdAt,'|', user.updatedAt)"
   ]
  },
  {
   "cell_type": "markdown",
   "id": "c45c8d2a-cd9d-4c21-b852-00cffa8fc293",
   "metadata": {},
   "source": [
    "Есть shorthand-ы:"
   ]
  },
  {
   "cell_type": "code",
   "execution_count": 14,
   "id": "39f0aa85-bece-41ec-9f45-31b4d9952765",
   "metadata": {},
   "outputs": [
    {
     "name": "stdout",
     "output_type": "stream",
     "text": [
      "Executing (default): INSERT INTO \"Users\" (\"uuid\",\"fio\",\"createdAt\",\"updatedAt\") VALUES ($1,$2,$3,$4) RETURNING \"uuid\",\"fio\",\"bio\",\"createdAt\",\"updatedAt\";\n"
     ]
    }
   ],
   "source": [
    "let user1 = await User.create({ fio: 'Азаревич Артём Дмитриевич' }); // build + save\n",
    "null"
   ]
  },
  {
   "cell_type": "code",
   "execution_count": 15,
   "id": "794473c9-d50e-4b44-977a-ee39b4ce2f7b",
   "metadata": {},
   "outputs": [
    {
     "name": "stdout",
     "output_type": "stream",
     "text": [
      "Executing (default): UPDATE \"Users\" SET \"bio\"=$1,\"updatedAt\"=$2 WHERE \"uuid\" = $3\n"
     ]
    }
   ],
   "source": [
    "await user1.update({ bio: 'Аспирант каф. МОЭВМ' }) // обновление полей + save\n",
    "null"
   ]
  },
  {
   "cell_type": "markdown",
   "id": "162b2446-f744-47e2-b722-889abf7153d2",
   "metadata": {},
   "source": [
    "Как создать много человек:"
   ]
  },
  {
   "cell_type": "code",
   "execution_count": 16,
   "id": "1399b44e-74ca-4e9c-be2f-88851425643a",
   "metadata": {},
   "outputs": [
    {
     "name": "stdout",
     "output_type": "stream",
     "text": [
      "Executing (default): INSERT INTO \"Users\" (\"uuid\",\"fio\",\"bio\",\"createdAt\",\"updatedAt\") VALUES ('626e53d9-84d9-4964-b1bd-fb95ff807ede','Депрейс Александр','Студент группы 1303','2023-11-08 23:35:31.718 +00:00','2023-11-08 23:35:31.718 +00:00'),('1717ca0e-4d7e-4921-8e99-2ec72dcc87c5','Коренев Данил','Студент группы 1303','2023-11-08 23:35:31.718 +00:00','2023-11-08 23:35:31.718 +00:00'),('f82eeb99-fc89-4b42-b302-c3e0f2116c22','Кузнецов Николай','Студент группы 1303','2023-11-08 23:35:31.718 +00:00','2023-11-08 23:35:31.718 +00:00'),('30e492cd-68b5-48b7-b1d3-0247a1b1c22f','Смирнов Дмитрий','Студент группы 1303','2023-11-08 23:35:31.718 +00:00','2023-11-08 23:35:31.718 +00:00'),('b75eb344-cefb-4f25-a757-00c411be738b','Новак Полина','Студент группы 1303','2023-11-08 23:35:31.718 +00:00','2023-11-08 23:35:31.718 +00:00') RETURNING \"uuid\",\"fio\",\"bio\",\"createdAt\",\"updatedAt\";\n",
      "\u001b[33m5\u001b[39m\n"
     ]
    }
   ],
   "source": [
    "let GROUP_1303 = [\n",
    "    'Депрейс Александр',\n",
    "    'Коренев Данил',\n",
    "    'Кузнецов Николай',\n",
    "    'Смирнов Дмитрий',\n",
    "    'Новак Полина'\n",
    "]\n",
    "let group1303 = await User.bulkCreate(\n",
    "    GROUP_1303.map((fio) => ({ fio, bio: 'Студент группы 1303' }))\n",
    ")\n",
    "group1303.length"
   ]
  },
  {
   "cell_type": "markdown",
   "id": "8eb1b1a5-ad8e-4561-ac8a-8de6597707f9",
   "metadata": {},
   "source": [
    "Если нужно создать *очень* много человек, можно сэкономить время и память, не создавая инстансы `User` на каждую добавленную строчку:"
   ]
  },
  {
   "cell_type": "code",
   "execution_count": 17,
   "id": "5e72397e-74fb-4e3f-b08a-f822b535866e",
   "metadata": {},
   "outputs": [
    {
     "name": "stdout",
     "output_type": "stream",
     "text": [
      "Executing (default): INSERT INTO \"Users\" (\"uuid\",\"fio\",\"bio\",\"createdAt\",\"updatedAt\") VALUES ('cafe8f46-7d7b-407e-be99-02239ab05d8c','Исайкин Георгий','Студент группы 1381','2023-11-08 23:35:31.881 +00:00','2023-11-08 23:35:31.881 +00:00'),('d4f469d0-b28d-4baa-820f-c0181bc4e47c','Тарасов Константин','Студент группы 1381','2023-11-08 23:35:31.881 +00:00','2023-11-08 23:35:31.881 +00:00'),('c41ad5cc-b1c6-418c-9458-0f17d2be413a','Васильева Ольга','Студент группы 1381','2023-11-08 23:35:31.881 +00:00','2023-11-08 23:35:31.881 +00:00'),('6abf764d-d3da-4079-b83b-74bb79b1a750','Возмитель Влас','Студент группы 1381','2023-11-08 23:35:31.881 +00:00','2023-11-08 23:35:31.881 +00:00');\n"
     ]
    }
   ],
   "source": [
    "let GROUP_1381 = [\n",
    "    'Исайкин Георгий',\n",
    "    'Тарасов Константин',\n",
    "    'Васильева Ольга',\n",
    "    'Возмитель Влас'\n",
    "]\n",
    "await User.bulkCreate(\n",
    "    GROUP_1381.map((fio) => ({ fio, bio: 'Студент группы 1381' })),\n",
    "    { returning: false }\n",
    ")\n",
    "null"
   ]
  },
  {
   "cell_type": "markdown",
   "id": "49bc5400-06f3-4990-8a3f-a7fdbdaf2c04",
   "metadata": {},
   "source": [
    "^ RETURNING не дописан ^"
   ]
  },
  {
   "cell_type": "markdown",
   "id": "a48e3889-2a46-4849-ac41-0b47047483f6",
   "metadata": {},
   "source": [
    "### Определение связей\n",
    "Как правило, связи в ORM нужно задавать на двух уровнях:\n",
    "* Созданием внешних ключей\n",
    "* Установкой связей между моделями ORM"
   ]
  },
  {
   "cell_type": "markdown",
   "id": "0d0dc37c-a999-4a9d-8cdb-01a6760d99f7",
   "metadata": {},
   "source": [
    "#### Связь 1:n (A || --- o< B)"
   ]
  },
  {
   "cell_type": "code",
   "execution_count": 18,
   "id": "c4596af5-13af-4898-bf34-28f06d5401e4",
   "metadata": {},
   "outputs": [],
   "source": [
    "import { BelongsTo, ForeignKey, HasMany} from 'sequelize-typescript'\n",
    "\n",
    "@Table\n",
    "class Department extends Model {\n",
    "    @BelongsTo(() => Faculty, { onDelete: 'CASCADE' })\n",
    "    declare faculty: Faculty;\n",
    "    \n",
    "    @AllowNull(false)\n",
    "    @Column(DataType.STRING(256))\n",
    "    declare title: string;\n",
    "\n",
    "    @AllowNull(false)\n",
    "    @ForeignKey(() => Faculty)\n",
    "    @Column(DataType.INTEGER)\n",
    "    declare facultyId: number;\n",
    "}\n",
    "\n",
    "@Table\n",
    "class Faculty extends Model {\n",
    "    @HasMany(() => Department)\n",
    "    declare departments: Department[];\n",
    "    \n",
    "    @AllowNull(false)\n",
    "    @Column(DataType.STRING(256))\n",
    "    declare title: string;\n",
    "}"
   ]
  },
  {
   "cell_type": "markdown",
   "id": "57e5011e-2ace-4ffd-881e-ad7d2332d1a6",
   "metadata": {},
   "source": [
    "* `@ForeignKey` вешается на атрибут, являющийся внешним ключом\n",
    "* `@BelongsTo` - кладется в сущность с внешним ключом\n",
    "* `@HasMany` - кладется в сущность, на которую направлен внешний ключ\n",
    "  * Есть вариант `@HasOne`\n",
    "\n",
    "Смысл - просто создание внешних ключей не дает ORM информации о связях между моделями. Логические связи между моделями нужно установить отдельно.\n",
    "\n",
    "Если не положить в класс `@BelongsTo` / `@HasMany`, внешний ключ будет создан, но мы не сможем нормально использовать эту связь через ORM (см. далее)"
   ]
  },
  {
   "cell_type": "code",
   "execution_count": 19,
   "id": "731a289c-1278-4d80-9afd-e5980c7fb26f",
   "metadata": {},
   "outputs": [
    {
     "name": "stdout",
     "output_type": "stream",
     "text": [
      "Executing (default): SELECT table_name FROM information_schema.tables WHERE table_schema = 'public' AND table_name = 'Users'\n",
      "Executing (default): SELECT i.relname AS name, ix.indisprimary AS primary, ix.indisunique AS unique, ix.indkey AS indkey, array_agg(a.attnum) as column_indexes, array_agg(a.attname) AS column_names, pg_get_indexdef(ix.indexrelid) AS definition FROM pg_class t, pg_class i, pg_index ix, pg_attribute a WHERE t.oid = ix.indrelid AND i.oid = ix.indexrelid AND a.attrelid = t.oid AND t.relkind = 'r' and t.relname = 'Users' GROUP BY i.relname, ix.indexrelid, ix.indisprimary, ix.indisunique, ix.indkey ORDER BY i.relname;\n",
      "Executing (default): SELECT table_name FROM information_schema.tables WHERE table_schema = 'public' AND table_name = 'Faculties'\n",
      "Executing (default): CREATE TABLE IF NOT EXISTS \"Faculties\" (\"id\"   SERIAL , \"title\" VARCHAR(256) NOT NULL, \"createdAt\" TIMESTAMP WITH TIME ZONE NOT NULL, \"updatedAt\" TIMESTAMP WITH TIME ZONE NOT NULL, PRIMARY KEY (\"id\"));\n",
      "Executing (default): SELECT i.relname AS name, ix.indisprimary AS primary, ix.indisunique AS unique, ix.indkey AS indkey, array_agg(a.attnum) as column_indexes, array_agg(a.attname) AS column_names, pg_get_indexdef(ix.indexrelid) AS definition FROM pg_class t, pg_class i, pg_index ix, pg_attribute a WHERE t.oid = ix.indrelid AND i.oid = ix.indexrelid AND a.attrelid = t.oid AND t.relkind = 'r' and t.relname = 'Faculties' GROUP BY i.relname, ix.indexrelid, ix.indisprimary, ix.indisunique, ix.indkey ORDER BY i.relname;\n",
      "Executing (default): SELECT table_name FROM information_schema.tables WHERE table_schema = 'public' AND table_name = 'Departments'\n",
      "Executing (default): CREATE TABLE IF NOT EXISTS \"Departments\" (\"id\"   SERIAL , \"title\" VARCHAR(256) NOT NULL, \"facultyId\" INTEGER NOT NULL REFERENCES \"Faculties\" (\"id\") ON DELETE CASCADE ON UPDATE CASCADE, \"createdAt\" TIMESTAMP WITH TIME ZONE NOT NULL, \"updatedAt\" TIMESTAMP WITH TIME ZONE NOT NULL, PRIMARY KEY (\"id\"));\n",
      "Executing (default): SELECT i.relname AS name, ix.indisprimary AS primary, ix.indisunique AS unique, ix.indkey AS indkey, array_agg(a.attnum) as column_indexes, array_agg(a.attname) AS column_names, pg_get_indexdef(ix.indexrelid) AS definition FROM pg_class t, pg_class i, pg_index ix, pg_attribute a WHERE t.oid = ix.indrelid AND i.oid = ix.indexrelid AND a.attrelid = t.oid AND t.relkind = 'r' and t.relname = 'Departments' GROUP BY i.relname, ix.indexrelid, ix.indisprimary, ix.indisunique, ix.indkey ORDER BY i.relname;\n"
     ]
    }
   ],
   "source": [
    "sequelize.addModels([Department, Faculty])\n",
    "await sequelize.sync()\n",
    "null"
   ]
  },
  {
   "cell_type": "markdown",
   "id": "51c8a5f2-87e4-464f-b22b-0dc0538d6ac0",
   "metadata": {},
   "source": [
    "#### Связь n:m\n",
    "Foo >o --- o< Bar"
   ]
  },
  {
   "cell_type": "code",
   "execution_count": 20,
   "id": "928c91a9-d91d-4ff9-b926-b63a10749c0f",
   "metadata": {},
   "outputs": [],
   "source": [
    "import { BelongsToMany } from 'sequelize-typescript'\n",
    "\n",
    "@Table\n",
    "class Foo extends Model {\n",
    "    @BelongsToMany(() => Bar, () => FooBar)\n",
    "    declare bars: Bar[];\n",
    "    \n",
    "    @Column(DataType.STRING)\n",
    "    declare foo: string\n",
    "}\n",
    "\n",
    "@Table\n",
    "class Bar extends Model {\n",
    "    @BelongsToMany(() => Foo, () => FooBar)\n",
    "    declare foos: Foo[]\n",
    "    \n",
    "    @Column(DataType.STRING)\n",
    "    declare bar: string;\n",
    "}\n",
    "\n",
    "@Table\n",
    "class FooBar extends Model {\n",
    "    @BelongsTo(() => Foo)\n",
    "    declare foo: Foo;\n",
    "\n",
    "    @BelongsTo(() => Bar)\n",
    "    declare bar: Bar\n",
    "    \n",
    "    @ForeignKey(() => Foo)\n",
    "    @Column(DataType.INTEGER)\n",
    "    declare fooId: number;\n",
    "\n",
    "    @ForeignKey(() => Bar)\n",
    "    @Column(DataType.INTEGER)\n",
    "    declare barId: number;\n",
    "}"
   ]
  },
  {
   "cell_type": "code",
   "execution_count": 21,
   "id": "364cb67b-df72-4ef0-9d27-ae204a776c02",
   "metadata": {},
   "outputs": [
    {
     "name": "stdout",
     "output_type": "stream",
     "text": [
      "Executing (default): SELECT table_name FROM information_schema.tables WHERE table_schema = 'public' AND table_name = 'Users'\n",
      "Executing (default): SELECT i.relname AS name, ix.indisprimary AS primary, ix.indisunique AS unique, ix.indkey AS indkey, array_agg(a.attnum) as column_indexes, array_agg(a.attname) AS column_names, pg_get_indexdef(ix.indexrelid) AS definition FROM pg_class t, pg_class i, pg_index ix, pg_attribute a WHERE t.oid = ix.indrelid AND i.oid = ix.indexrelid AND a.attrelid = t.oid AND t.relkind = 'r' and t.relname = 'Users' GROUP BY i.relname, ix.indexrelid, ix.indisprimary, ix.indisunique, ix.indkey ORDER BY i.relname;\n",
      "Executing (default): SELECT table_name FROM information_schema.tables WHERE table_schema = 'public' AND table_name = 'Faculties'\n",
      "Executing (default): SELECT i.relname AS name, ix.indisprimary AS primary, ix.indisunique AS unique, ix.indkey AS indkey, array_agg(a.attnum) as column_indexes, array_agg(a.attname) AS column_names, pg_get_indexdef(ix.indexrelid) AS definition FROM pg_class t, pg_class i, pg_index ix, pg_attribute a WHERE t.oid = ix.indrelid AND i.oid = ix.indexrelid AND a.attrelid = t.oid AND t.relkind = 'r' and t.relname = 'Faculties' GROUP BY i.relname, ix.indexrelid, ix.indisprimary, ix.indisunique, ix.indkey ORDER BY i.relname;\n",
      "Executing (default): SELECT table_name FROM information_schema.tables WHERE table_schema = 'public' AND table_name = 'Departments'\n",
      "Executing (default): SELECT i.relname AS name, ix.indisprimary AS primary, ix.indisunique AS unique, ix.indkey AS indkey, array_agg(a.attnum) as column_indexes, array_agg(a.attname) AS column_names, pg_get_indexdef(ix.indexrelid) AS definition FROM pg_class t, pg_class i, pg_index ix, pg_attribute a WHERE t.oid = ix.indrelid AND i.oid = ix.indexrelid AND a.attrelid = t.oid AND t.relkind = 'r' and t.relname = 'Departments' GROUP BY i.relname, ix.indexrelid, ix.indisprimary, ix.indisunique, ix.indkey ORDER BY i.relname;\n",
      "Executing (default): SELECT table_name FROM information_schema.tables WHERE table_schema = 'public' AND table_name = 'Foos'\n",
      "Executing (default): CREATE TABLE IF NOT EXISTS \"Foos\" (\"id\"   SERIAL , \"foo\" VARCHAR(255), \"createdAt\" TIMESTAMP WITH TIME ZONE NOT NULL, \"updatedAt\" TIMESTAMP WITH TIME ZONE NOT NULL, PRIMARY KEY (\"id\"));\n",
      "Executing (default): SELECT i.relname AS name, ix.indisprimary AS primary, ix.indisunique AS unique, ix.indkey AS indkey, array_agg(a.attnum) as column_indexes, array_agg(a.attname) AS column_names, pg_get_indexdef(ix.indexrelid) AS definition FROM pg_class t, pg_class i, pg_index ix, pg_attribute a WHERE t.oid = ix.indrelid AND i.oid = ix.indexrelid AND a.attrelid = t.oid AND t.relkind = 'r' and t.relname = 'Foos' GROUP BY i.relname, ix.indexrelid, ix.indisprimary, ix.indisunique, ix.indkey ORDER BY i.relname;\n",
      "Executing (default): SELECT table_name FROM information_schema.tables WHERE table_schema = 'public' AND table_name = 'Bars'\n",
      "Executing (default): CREATE TABLE IF NOT EXISTS \"Bars\" (\"id\"   SERIAL , \"bar\" VARCHAR(255), \"createdAt\" TIMESTAMP WITH TIME ZONE NOT NULL, \"updatedAt\" TIMESTAMP WITH TIME ZONE NOT NULL, PRIMARY KEY (\"id\"));\n",
      "Executing (default): SELECT i.relname AS name, ix.indisprimary AS primary, ix.indisunique AS unique, ix.indkey AS indkey, array_agg(a.attnum) as column_indexes, array_agg(a.attname) AS column_names, pg_get_indexdef(ix.indexrelid) AS definition FROM pg_class t, pg_class i, pg_index ix, pg_attribute a WHERE t.oid = ix.indrelid AND i.oid = ix.indexrelid AND a.attrelid = t.oid AND t.relkind = 'r' and t.relname = 'Bars' GROUP BY i.relname, ix.indexrelid, ix.indisprimary, ix.indisunique, ix.indkey ORDER BY i.relname;\n",
      "Executing (default): SELECT table_name FROM information_schema.tables WHERE table_schema = 'public' AND table_name = 'FooBars'\n",
      "Executing (default): CREATE TABLE IF NOT EXISTS \"FooBars\" (\"fooId\" INTEGER  REFERENCES \"Foos\" (\"id\") ON DELETE CASCADE ON UPDATE CASCADE, \"barId\" INTEGER  REFERENCES \"Bars\" (\"id\") ON DELETE CASCADE ON UPDATE CASCADE, \"createdAt\" TIMESTAMP WITH TIME ZONE NOT NULL, \"updatedAt\" TIMESTAMP WITH TIME ZONE NOT NULL, UNIQUE (\"fooId\", \"barId\"), PRIMARY KEY (\"fooId\",\"barId\"));\n",
      "Executing (default): SELECT i.relname AS name, ix.indisprimary AS primary, ix.indisunique AS unique, ix.indkey AS indkey, array_agg(a.attnum) as column_indexes, array_agg(a.attname) AS column_names, pg_get_indexdef(ix.indexrelid) AS definition FROM pg_class t, pg_class i, pg_index ix, pg_attribute a WHERE t.oid = ix.indrelid AND i.oid = ix.indexrelid AND a.attrelid = t.oid AND t.relkind = 'r' and t.relname = 'FooBars' GROUP BY i.relname, ix.indexrelid, ix.indisprimary, ix.indisunique, ix.indkey ORDER BY i.relname;\n"
     ]
    }
   ],
   "source": [
    "sequelize.addModels([Foo, Bar, FooBar])\n",
    "await sequelize.sync()\n",
    "null"
   ]
  },
  {
   "cell_type": "markdown",
   "id": "efa3df8d-9655-47b2-a702-d5d55910020d",
   "metadata": {},
   "source": [
    "#### Несколько связей\n",
    "Если в таблице имеется несколько связей на одну таблицу, при создании надо указать, какая связь относится к какому внешнему ключу:"
   ]
  },
  {
   "cell_type": "code",
   "execution_count": 22,
   "id": "0bf855ee-fe55-44b1-9d6a-a066b3ef9368",
   "metadata": {},
   "outputs": [],
   "source": [
    "@Table\n",
    "class Baz extends Model {\n",
    "    @BelongsTo(() => Brr, { foreignKey: 'brr1Id', onDelete: 'CASCADE' } )\n",
    "    brr1: Brr\n",
    "\n",
    "    @BelongsTo(() => Brr, { foreignKey: 'brr2Id', onDelete: 'CASCADE' })\n",
    "    brr2: Brr\n",
    "\n",
    "    @ForeignKey(() => Brr)\n",
    "    @Column(DataType.INTEGER)\n",
    "    brr1Id: number\n",
    "    \n",
    "    @ForeignKey(() => Brr)\n",
    "    @Column(DataType.INTEGER)\n",
    "    brr2Id: number\n",
    "}\n",
    "\n",
    "@Table\n",
    "class Brr extends Model {}"
   ]
  },
  {
   "cell_type": "code",
   "execution_count": 23,
   "id": "b8f953fe-2202-468e-8222-1cc338846ae1",
   "metadata": {},
   "outputs": [
    {
     "name": "stdout",
     "output_type": "stream",
     "text": [
      "Executing (default): SELECT table_name FROM information_schema.tables WHERE table_schema = 'public' AND table_name = 'Users'\n",
      "Executing (default): SELECT i.relname AS name, ix.indisprimary AS primary, ix.indisunique AS unique, ix.indkey AS indkey, array_agg(a.attnum) as column_indexes, array_agg(a.attname) AS column_names, pg_get_indexdef(ix.indexrelid) AS definition FROM pg_class t, pg_class i, pg_index ix, pg_attribute a WHERE t.oid = ix.indrelid AND i.oid = ix.indexrelid AND a.attrelid = t.oid AND t.relkind = 'r' and t.relname = 'Users' GROUP BY i.relname, ix.indexrelid, ix.indisprimary, ix.indisunique, ix.indkey ORDER BY i.relname;\n",
      "Executing (default): SELECT table_name FROM information_schema.tables WHERE table_schema = 'public' AND table_name = 'Faculties'\n",
      "Executing (default): SELECT i.relname AS name, ix.indisprimary AS primary, ix.indisunique AS unique, ix.indkey AS indkey, array_agg(a.attnum) as column_indexes, array_agg(a.attname) AS column_names, pg_get_indexdef(ix.indexrelid) AS definition FROM pg_class t, pg_class i, pg_index ix, pg_attribute a WHERE t.oid = ix.indrelid AND i.oid = ix.indexrelid AND a.attrelid = t.oid AND t.relkind = 'r' and t.relname = 'Faculties' GROUP BY i.relname, ix.indexrelid, ix.indisprimary, ix.indisunique, ix.indkey ORDER BY i.relname;\n",
      "Executing (default): SELECT table_name FROM information_schema.tables WHERE table_schema = 'public' AND table_name = 'Departments'\n",
      "Executing (default): SELECT i.relname AS name, ix.indisprimary AS primary, ix.indisunique AS unique, ix.indkey AS indkey, array_agg(a.attnum) as column_indexes, array_agg(a.attname) AS column_names, pg_get_indexdef(ix.indexrelid) AS definition FROM pg_class t, pg_class i, pg_index ix, pg_attribute a WHERE t.oid = ix.indrelid AND i.oid = ix.indexrelid AND a.attrelid = t.oid AND t.relkind = 'r' and t.relname = 'Departments' GROUP BY i.relname, ix.indexrelid, ix.indisprimary, ix.indisunique, ix.indkey ORDER BY i.relname;\n",
      "Executing (default): SELECT table_name FROM information_schema.tables WHERE table_schema = 'public' AND table_name = 'Foos'\n",
      "Executing (default): SELECT i.relname AS name, ix.indisprimary AS primary, ix.indisunique AS unique, ix.indkey AS indkey, array_agg(a.attnum) as column_indexes, array_agg(a.attname) AS column_names, pg_get_indexdef(ix.indexrelid) AS definition FROM pg_class t, pg_class i, pg_index ix, pg_attribute a WHERE t.oid = ix.indrelid AND i.oid = ix.indexrelid AND a.attrelid = t.oid AND t.relkind = 'r' and t.relname = 'Foos' GROUP BY i.relname, ix.indexrelid, ix.indisprimary, ix.indisunique, ix.indkey ORDER BY i.relname;\n",
      "Executing (default): SELECT table_name FROM information_schema.tables WHERE table_schema = 'public' AND table_name = 'Bars'\n",
      "Executing (default): SELECT i.relname AS name, ix.indisprimary AS primary, ix.indisunique AS unique, ix.indkey AS indkey, array_agg(a.attnum) as column_indexes, array_agg(a.attname) AS column_names, pg_get_indexdef(ix.indexrelid) AS definition FROM pg_class t, pg_class i, pg_index ix, pg_attribute a WHERE t.oid = ix.indrelid AND i.oid = ix.indexrelid AND a.attrelid = t.oid AND t.relkind = 'r' and t.relname = 'Bars' GROUP BY i.relname, ix.indexrelid, ix.indisprimary, ix.indisunique, ix.indkey ORDER BY i.relname;\n",
      "Executing (default): SELECT table_name FROM information_schema.tables WHERE table_schema = 'public' AND table_name = 'FooBars'\n",
      "Executing (default): SELECT i.relname AS name, ix.indisprimary AS primary, ix.indisunique AS unique, ix.indkey AS indkey, array_agg(a.attnum) as column_indexes, array_agg(a.attname) AS column_names, pg_get_indexdef(ix.indexrelid) AS definition FROM pg_class t, pg_class i, pg_index ix, pg_attribute a WHERE t.oid = ix.indrelid AND i.oid = ix.indexrelid AND a.attrelid = t.oid AND t.relkind = 'r' and t.relname = 'FooBars' GROUP BY i.relname, ix.indexrelid, ix.indisprimary, ix.indisunique, ix.indkey ORDER BY i.relname;\n",
      "Executing (default): SELECT table_name FROM information_schema.tables WHERE table_schema = 'public' AND table_name = 'Brrs'\n",
      "Executing (default): CREATE TABLE IF NOT EXISTS \"Brrs\" (\"id\"   SERIAL , \"createdAt\" TIMESTAMP WITH TIME ZONE NOT NULL, \"updatedAt\" TIMESTAMP WITH TIME ZONE NOT NULL, PRIMARY KEY (\"id\"));\n",
      "Executing (default): SELECT i.relname AS name, ix.indisprimary AS primary, ix.indisunique AS unique, ix.indkey AS indkey, array_agg(a.attnum) as column_indexes, array_agg(a.attname) AS column_names, pg_get_indexdef(ix.indexrelid) AS definition FROM pg_class t, pg_class i, pg_index ix, pg_attribute a WHERE t.oid = ix.indrelid AND i.oid = ix.indexrelid AND a.attrelid = t.oid AND t.relkind = 'r' and t.relname = 'Brrs' GROUP BY i.relname, ix.indexrelid, ix.indisprimary, ix.indisunique, ix.indkey ORDER BY i.relname;\n",
      "Executing (default): SELECT table_name FROM information_schema.tables WHERE table_schema = 'public' AND table_name = 'Bazs'\n",
      "Executing (default): CREATE TABLE IF NOT EXISTS \"Bazs\" (\"id\"   SERIAL , \"brr1Id\" INTEGER REFERENCES \"Brrs\" (\"id\") ON DELETE CASCADE ON UPDATE CASCADE, \"brr2Id\" INTEGER REFERENCES \"Brrs\" (\"id\") ON DELETE CASCADE ON UPDATE CASCADE, \"createdAt\" TIMESTAMP WITH TIME ZONE NOT NULL, \"updatedAt\" TIMESTAMP WITH TIME ZONE NOT NULL, PRIMARY KEY (\"id\"));\n",
      "Executing (default): SELECT i.relname AS name, ix.indisprimary AS primary, ix.indisunique AS unique, ix.indkey AS indkey, array_agg(a.attnum) as column_indexes, array_agg(a.attname) AS column_names, pg_get_indexdef(ix.indexrelid) AS definition FROM pg_class t, pg_class i, pg_index ix, pg_attribute a WHERE t.oid = ix.indrelid AND i.oid = ix.indexrelid AND a.attrelid = t.oid AND t.relkind = 'r' and t.relname = 'Bazs' GROUP BY i.relname, ix.indexrelid, ix.indisprimary, ix.indisunique, ix.indkey ORDER BY i.relname;\n"
     ]
    }
   ],
   "source": [
    "sequelize.addModels([Baz, Brr])\n",
    "await sequelize.sync()\n",
    "null"
   ]
  },
  {
   "cell_type": "markdown",
   "id": "4327f476-fa0f-48da-b87f-a95ac8b37fb3",
   "metadata": {},
   "source": [
    "## Использование моделей"
   ]
  },
  {
   "cell_type": "markdown",
   "id": "028db78e-77cc-4f8c-9663-1fad0eae43ee",
   "metadata": {},
   "source": [
    "### Получение данных из БД"
   ]
  },
  {
   "cell_type": "markdown",
   "id": "6e7cf90b-0d45-4477-9762-9b338c30626e",
   "metadata": {},
   "source": [
    "Оператор `COUNT`:"
   ]
  },
  {
   "cell_type": "code",
   "execution_count": 24,
   "id": "8cc6f3c9-0442-44cc-af04-1286af380eb4",
   "metadata": {},
   "outputs": [
    {
     "name": "stdout",
     "output_type": "stream",
     "text": [
      "Executing (default): SELECT count(*) AS \"count\" FROM \"Users\" AS \"User\";\n",
      "\u001b[33m11\u001b[39m\n"
     ]
    }
   ],
   "source": [
    "await User.count()"
   ]
  },
  {
   "cell_type": "markdown",
   "id": "84a3ea54-8166-4026-b0d0-0f35f4737d62",
   "metadata": {},
   "source": [
    "Выбрать все записи:"
   ]
  },
  {
   "cell_type": "code",
   "execution_count": 25,
   "id": "3ee2e8ed-9ac2-49cb-b065-37d78455471f",
   "metadata": {},
   "outputs": [
    {
     "name": "stdout",
     "output_type": "stream",
     "text": [
      "Executing (default): SELECT \"uuid\", \"fio\", \"bio\", \"createdAt\", \"updatedAt\" FROM \"Users\" AS \"User\";\n",
      "\u001b[33m11\u001b[39m\n"
     ]
    }
   ],
   "source": [
    "let res = await User.findAll()\n",
    "res.length"
   ]
  },
  {
   "cell_type": "markdown",
   "id": "2ffc00be-bfe5-4201-b86a-fcfa5b3dede2",
   "metadata": {},
   "source": [
    "Фильтрация:"
   ]
  },
  {
   "cell_type": "code",
   "execution_count": 26,
   "id": "49a05bab-4db9-4935-b588-c73bb54cd815",
   "metadata": {},
   "outputs": [
    {
     "name": "stdout",
     "output_type": "stream",
     "text": [
      "Executing (default): SELECT \"uuid\", \"fio\", \"bio\", \"createdAt\", \"updatedAt\" FROM \"Users\" AS \"User\" WHERE \"User\".\"fio\" = 'Корытов Павел Валерьевич';\n",
      "Корытов Павел Валерьевич\n",
      "Executing (default): SELECT \"fio\", \"bio\" FROM \"Users\" AS \"User\" WHERE \"User\".\"fio\" ILIKE 'Корытов%';\n",
      "\u001b[33m1\u001b[39m \u001b[90mundefined\u001b[39m\n",
      "Executing (default): SELECT \"uuid\", \"fio\", \"bio\", \"createdAt\", \"updatedAt\" FROM \"Users\" AS \"User\" WHERE (\"User\".\"fio\" ILIKE 'Корытов%' OR \"User\".\"bio\" ILIKE '%Студент%') ORDER BY \"User\".\"fio\" ASC;\n",
      "\u001b[33m10\u001b[39m\n"
     ]
    }
   ],
   "source": [
    "import { Op } from 'sequelize'\n",
    "res = await User.findAll(\n",
    "    {\n",
    "        where: {\n",
    "            fio: 'Корытов Павел Валерьевич'\n",
    "        }\n",
    "    }\n",
    ")\n",
    "console.log(res[0].fio)\n",
    "\n",
    "res = await User.findAll(\n",
    "    {\n",
    "        attributes: ['fio', 'bio'],\n",
    "        where: {\n",
    "            fio: {[Op.iLike]: 'Корытов%'}\n",
    "        }\n",
    "    }\n",
    ")\n",
    "console.log(res.length, res[0].createdAt)\n",
    "\n",
    "res = await User.findAll(\n",
    "    {\n",
    "        where: {\n",
    "            [Op.or]: [\n",
    "                {\n",
    "                    fio: {[Op.iLike]: 'Корытов%'}\n",
    "                },\n",
    "                {\n",
    "                    bio: {[Op.iLike]: '%Студент%'}\n",
    "                }\n",
    "            ]\n",
    "        },\n",
    "        order: [['fio', 'ASC']]\n",
    "    },\n",
    ")\n",
    "console.log(res.length)"
   ]
  },
  {
   "cell_type": "markdown",
   "id": "7e820b71-4e09-4de0-97ca-3c70e615f9ef",
   "metadata": {},
   "source": [
    "Более подробно о доступных операторах: https://sequelize.org/docs/v6/core-concepts/model-querying-basics/"
   ]
  },
  {
   "cell_type": "markdown",
   "id": "c791be47-3a10-42a5-a5b4-4b260c2ef27c",
   "metadata": {},
   "source": [
    "Пагинация:"
   ]
  },
  {
   "cell_type": "code",
   "execution_count": 27,
   "id": "678a8fb3-24b8-4c4c-92a9-a08dc41ffd59",
   "metadata": {},
   "outputs": [
    {
     "name": "stdout",
     "output_type": "stream",
     "text": [
      "Executing (default): SELECT count(*) AS \"count\" FROM \"Users\" AS \"User\";\n",
      "Executing (default): SELECT \"uuid\", \"fio\", \"bio\", \"createdAt\", \"updatedAt\" FROM \"Users\" AS \"User\" LIMIT 10 OFFSET 0;\n",
      "\u001b[33m11\u001b[39m \u001b[33m10\u001b[39m\n",
      "Executing (default): SELECT count(*) AS \"count\" FROM \"Users\" AS \"User\";\n",
      "Executing (default): SELECT \"uuid\", \"fio\", \"bio\", \"createdAt\", \"updatedAt\" FROM \"Users\" AS \"User\" LIMIT 10 OFFSET 10;\n",
      "\u001b[33m11\u001b[39m \u001b[33m1\u001b[39m\n"
     ]
    }
   ],
   "source": [
    "let res1 = await User.findAndCountAll({ limit: 10, offset: 0 })\n",
    "console.log(res1.count, res1.rows.length)\n",
    "res1 = await User.findAndCountAll({ limit: 10, offset: 10 })\n",
    "console.log(res1.count, res1.rows.length)"
   ]
  },
  {
   "cell_type": "markdown",
   "id": "534df8b7-1e47-4f76-af9f-4d5af369e05d",
   "metadata": {},
   "source": [
    "### Связанные сущности"
   ]
  },
  {
   "cell_type": "markdown",
   "id": "8d9a7cc9-a01b-432d-8933-bfe4e1a7ed68",
   "metadata": {},
   "source": [
    "#### Создание"
   ]
  },
  {
   "cell_type": "code",
   "execution_count": 28,
   "id": "35da0d08-8619-452b-be14-1c60bc604e9c",
   "metadata": {},
   "outputs": [
    {
     "name": "stdout",
     "output_type": "stream",
     "text": [
      "Executing (default): INSERT INTO \"Faculties\" (\"id\",\"title\",\"createdAt\",\"updatedAt\") VALUES (DEFAULT,$1,$2,$3) RETURNING \"id\",\"title\",\"createdAt\",\"updatedAt\";\n",
      "Executing (default): INSERT INTO \"Departments\" (\"id\",\"title\",\"facultyId\",\"createdAt\",\"updatedAt\") VALUES (DEFAULT,$1,$2,$3,$4) RETURNING \"id\",\"title\",\"facultyId\",\"createdAt\",\"updatedAt\";\n",
      "Executing (default): INSERT INTO \"Departments\" (\"id\",\"title\",\"facultyId\",\"createdAt\",\"updatedAt\") VALUES (DEFAULT,$1,$2,$3,$4) RETURNING \"id\",\"title\",\"facultyId\",\"createdAt\",\"updatedAt\";\n",
      "Executing (default): INSERT INTO \"Departments\" (\"id\",\"title\",\"facultyId\",\"createdAt\",\"updatedAt\") VALUES (DEFAULT,$1,$2,$3,$4) RETURNING \"id\",\"title\",\"facultyId\",\"createdAt\",\"updatedAt\";\n",
      "Executing (default): INSERT INTO \"Departments\" (\"id\",\"title\",\"facultyId\",\"createdAt\",\"updatedAt\") VALUES (DEFAULT,$1,$2,$3,$4) RETURNING \"id\",\"title\",\"facultyId\",\"createdAt\",\"updatedAt\";\n",
      "Executing (default): INSERT INTO \"Faculties\" (\"id\",\"title\",\"createdAt\",\"updatedAt\") VALUES (DEFAULT,$1,$2,$3) RETURNING \"id\",\"title\",\"createdAt\",\"updatedAt\";\n",
      "Executing (default): INSERT INTO \"Departments\" (\"id\",\"title\",\"facultyId\",\"createdAt\",\"updatedAt\") VALUES (DEFAULT,$1,$2,$3,$4) RETURNING \"id\",\"title\",\"facultyId\",\"createdAt\",\"updatedAt\";\n",
      "Executing (default): INSERT INTO \"Departments\" (\"id\",\"title\",\"facultyId\",\"createdAt\",\"updatedAt\") VALUES (DEFAULT,$1,$2,$3,$4) RETURNING \"id\",\"title\",\"facultyId\",\"createdAt\",\"updatedAt\";\n",
      "Executing (default): INSERT INTO \"Departments\" (\"id\",\"title\",\"facultyId\",\"createdAt\",\"updatedAt\") VALUES (DEFAULT,$1,$2,$3,$4) RETURNING \"id\",\"title\",\"facultyId\",\"createdAt\",\"updatedAt\";\n"
     ]
    }
   ],
   "source": [
    "await Faculty.create({\n",
    "    title: 'ФКТИ',\n",
    "    departments: [\n",
    "        {\n",
    "            title: 'МО ЭВМ'\n",
    "        },\n",
    "        {\n",
    "            title: 'ВТ'\n",
    "        },\n",
    "        {\n",
    "            title: 'ИС'\n",
    "        },\n",
    "        {\n",
    "            title: 'АПУ'\n",
    "        }\n",
    "    ],\n",
    "}, { include: [Department] });\n",
    "await Faculty.create({\n",
    "    title: 'ФЭА',\n",
    "    departments: [\n",
    "        {\n",
    "            title: 'КСУ'\n",
    "        },\n",
    "        {\n",
    "            title: 'РАПС'\n",
    "        },\n",
    "        {\n",
    "            title: 'САУ'\n",
    "        }\n",
    "    ],\n",
    "}, { include: [Department] });\n",
    "null"
   ]
  },
  {
   "cell_type": "markdown",
   "id": "b21e64b6-efea-4236-b6b0-027e7ea5c520",
   "metadata": {
    "jp-MarkdownHeadingCollapsed": true
   },
   "source": [
    "Благодаря `HasMany` и `BelongsTo` можно одновременно создавать связанные сущности."
   ]
  },
  {
   "cell_type": "markdown",
   "id": "fca2a7ed-bfd1-4ba9-8a8e-686781944946",
   "metadata": {},
   "source": [
    "#### Выбор\n",
    "В sequelize, если просто вытащить сущность, связи к ней не вытаскиваются."
   ]
  },
  {
   "cell_type": "code",
   "execution_count": 29,
   "id": "509dfb14-7258-48af-a72f-8680ff11d688",
   "metadata": {},
   "outputs": [
    {
     "name": "stdout",
     "output_type": "stream",
     "text": [
      "Executing (default): SELECT \"id\", \"title\", \"createdAt\", \"updatedAt\" FROM \"Faculties\" AS \"Faculty\" WHERE \"Faculty\".\"title\" = 'ФКТИ' LIMIT 1;\n",
      "\u001b[90mundefined\u001b[39m\n"
     ]
    }
   ],
   "source": [
    "let res2 = await Faculty.findOne({ where: { title: 'ФКТИ' }})\n",
    "console.log(res2.departments)"
   ]
  },
  {
   "cell_type": "markdown",
   "id": "c4b61ab8-34e6-43a8-8325-356ccd073005",
   "metadata": {},
   "source": [
    "В разных ORM это по-разному - в SQLAlchemy по умолчанию на моменте обращения к `res2.departments` отправился бы SQL-запрос.\n",
    "\n",
    "Чтобы сделать `JOIN`, нужно использовать опцию `include`:"
   ]
  },
  {
   "cell_type": "code",
   "execution_count": 30,
   "id": "6cfc0bb3-9a65-442d-b371-95d60b10f758",
   "metadata": {},
   "outputs": [
    {
     "name": "stdout",
     "output_type": "stream",
     "text": [
      "Executing (default): SELECT \"Faculty\".\"id\", \"Faculty\".\"title\", \"Faculty\".\"createdAt\", \"Faculty\".\"updatedAt\", \"departments\".\"id\" AS \"departments.id\", \"departments\".\"title\" AS \"departments.title\", \"departments\".\"facultyId\" AS \"departments.facultyId\", \"departments\".\"createdAt\" AS \"departments.createdAt\", \"departments\".\"updatedAt\" AS \"departments.updatedAt\" FROM \"Faculties\" AS \"Faculty\" LEFT OUTER JOIN \"Departments\" AS \"departments\" ON \"Faculty\".\"id\" = \"departments\".\"facultyId\" WHERE \"Faculty\".\"title\" = 'ФКТИ';\n",
      "\u001b[33m4\u001b[39m\n"
     ]
    }
   ],
   "source": [
    "let res3 = await Faculty.findAll({ \n",
    "    where: { title: 'ФКТИ' },\n",
    "    include: [Department]\n",
    "})\n",
    "console.log(res3[0].departments.length)"
   ]
  },
  {
   "cell_type": "markdown",
   "id": "b53f7c3d-5662-432f-b672-bc83d752776e",
   "metadata": {},
   "source": [
    "По умолчанию используется `LEFT JOIN`. Чтобы сделать `INNER JOIN`, надо передать `required: true`:"
   ]
  },
  {
   "cell_type": "code",
   "execution_count": 31,
   "id": "66abab66-7c5b-448d-a6ee-b8b9c0ba8de6",
   "metadata": {},
   "outputs": [
    {
     "name": "stdout",
     "output_type": "stream",
     "text": [
      "Executing (default): SELECT \"Faculty\".\"id\", \"Faculty\".\"title\", \"Faculty\".\"createdAt\", \"Faculty\".\"updatedAt\", \"departments\".\"id\" AS \"departments.id\", \"departments\".\"title\" AS \"departments.title\" FROM \"Faculties\" AS \"Faculty\" INNER JOIN \"Departments\" AS \"departments\" ON \"Faculty\".\"id\" = \"departments\".\"facultyId\" WHERE \"Faculty\".\"title\" = 'ФКТИ';\n",
      "\u001b[33m4\u001b[39m\n"
     ]
    }
   ],
   "source": [
    "res3 = await Faculty.findAll({ \n",
    "    where: { title: 'ФКТИ' },\n",
    "    include: [\n",
    "        {\n",
    "            model: Department,\n",
    "            required: true,\n",
    "            attributes: ['id', 'title'],\n",
    "        }\n",
    "    ]\n",
    "})\n",
    "console.log(res3[0].departments.length)"
   ]
  },
  {
   "cell_type": "markdown",
   "id": "15513640-e056-4e93-9543-c764b853fdfe",
   "metadata": {},
   "source": [
    "И также можно фильтровать по связанным сущностям."
   ]
  },
  {
   "cell_type": "code",
   "execution_count": 32,
   "id": "6c61a937-fcb4-47ca-860b-21bb3a486a49",
   "metadata": {},
   "outputs": [
    {
     "name": "stdout",
     "output_type": "stream",
     "text": [
      "Executing (default): SELECT \"Faculty\".\"id\", \"Faculty\".\"title\", \"Faculty\".\"createdAt\", \"Faculty\".\"updatedAt\", \"departments\".\"id\" AS \"departments.id\", \"departments\".\"title\" AS \"departments.title\", \"departments\".\"facultyId\" AS \"departments.facultyId\", \"departments\".\"createdAt\" AS \"departments.createdAt\", \"departments\".\"updatedAt\" AS \"departments.updatedAt\" FROM \"Faculties\" AS \"Faculty\" INNER JOIN \"Departments\" AS \"departments\" ON \"Faculty\".\"id\" = \"departments\".\"facultyId\" AND \"departments\".\"title\" IN ('МО ЭВМ', 'ВТ') WHERE \"Faculty\".\"title\" = 'ФКТИ';\n",
      "\u001b[33m2\u001b[39m\n"
     ]
    }
   ],
   "source": [
    "res3 = await Faculty.findAll({ \n",
    "    where: { title: 'ФКТИ' },\n",
    "    include: [\n",
    "        {\n",
    "            model: Department,\n",
    "            required: true,\n",
    "            where: {\n",
    "                title: {[Op.in]: ['МО ЭВМ', 'ВТ']}\n",
    "            }\n",
    "        }\n",
    "    ]\n",
    "})\n",
    "console.log(res3[0].departments.length)"
   ]
  },
  {
   "cell_type": "markdown",
   "id": "291c21d9-bbb0-424d-8cb2-e953d8a800ec",
   "metadata": {},
   "source": [
    "В случае, когда сущности связаны несколькими связами, нужно указывать, какая связь используется:"
   ]
  },
  {
   "cell_type": "code",
   "execution_count": 33,
   "id": "a61617a7-65e7-4e2b-888b-df87d85120eb",
   "metadata": {},
   "outputs": [
    {
     "name": "stdout",
     "output_type": "stream",
     "text": [
      "Executing (default): SELECT \"Baz\".\"id\", \"Baz\".\"brr1Id\", \"Baz\".\"brr2Id\", \"Baz\".\"createdAt\", \"Baz\".\"updatedAt\", \"brr1\".\"id\" AS \"brr1.id\", \"brr1\".\"createdAt\" AS \"brr1.createdAt\", \"brr1\".\"updatedAt\" AS \"brr1.updatedAt\" FROM \"Bazs\" AS \"Baz\" LEFT OUTER JOIN \"Brrs\" AS \"brr1\" ON \"Baz\".\"brr1Id\" = \"brr1\".\"id\";\n",
      "[]\n"
     ]
    }
   ],
   "source": [
    "await Baz.findAll({\n",
    "    include: [\n",
    "        {\n",
    "            model: Brr,\n",
    "            as: 'brr1'\n",
    "        },\n",
    "    ]\n",
    "})"
   ]
  },
  {
   "cell_type": "markdown",
   "id": "13f70cdb-6db1-4b29-bf02-0cb3841664c0",
   "metadata": {},
   "source": [
    "См. https://sequelize.org/docs/v6/advanced-association-concepts/eager-loading/"
   ]
  },
  {
   "cell_type": "markdown",
   "id": "0e084e91-bf6b-4148-aae4-decea43701b6",
   "metadata": {},
   "source": [
    "#### Удаление сущностей\n",
    "\n",
    "Чтобы что-то удалить, можно вызвать метод `destroy` на инстансе модели:"
   ]
  },
  {
   "cell_type": "code",
   "execution_count": 34,
   "id": "b275ae48-910c-4942-82a1-dbf8db4580fb",
   "metadata": {},
   "outputs": [
    {
     "name": "stdout",
     "output_type": "stream",
     "text": [
      "Executing (default): SELECT \"id\", \"title\", \"facultyId\", \"createdAt\", \"updatedAt\" FROM \"Departments\" AS \"Department\" WHERE \"Department\".\"title\" = 'ВТ' LIMIT 1;\n",
      "Executing (default): DELETE FROM \"Departments\" WHERE \"id\" = 2\n"
     ]
    }
   ],
   "source": [
    "let dep = await Department.findOne({ where: { title: 'ВТ' }});\n",
    "await dep.destroy()\n",
    "null"
   ]
  },
  {
   "cell_type": "markdown",
   "id": "c1bce0e5-87ca-4f0b-a3b0-54e9c6d3935c",
   "metadata": {},
   "source": [
    "Или можно вызвать тот же метод на самой модели:"
   ]
  },
  {
   "cell_type": "code",
   "execution_count": 35,
   "id": "9ccb7181-8c96-4b9f-9e54-df9cd564c002",
   "metadata": {},
   "outputs": [
    {
     "name": "stdout",
     "output_type": "stream",
     "text": [
      "Executing (default): DELETE FROM \"Departments\" WHERE \"title\" = 'ИС'\n",
      "\u001b[33m1\u001b[39m\n"
     ]
    }
   ],
   "source": [
    "let res4 = await Department.destroy({ where: { title: 'ИС' }})\n",
    "console.log(res4)"
   ]
  },
  {
   "cell_type": "markdown",
   "id": "a61c3a93-011c-475f-9c59-b358531a9b3a",
   "metadata": {},
   "source": [
    "Вывод - число удаленных записей."
   ]
  },
  {
   "cell_type": "markdown",
   "id": "10c2f47c-0d12-49b3-a7b3-59bfada590f4",
   "metadata": {},
   "source": [
    "### Мягкое удаление\n",
    "\"Мягкое удаление\" - вместо удаления сущности ставить ей атрибут вроде \"удалён\". Sequelize поддерживает это из коробки с помощью `DeletedAt`"
   ]
  },
  {
   "cell_type": "code",
   "execution_count": 36,
   "id": "f0fb1716-0bbb-461d-a25e-4b18c55d8916",
   "metadata": {},
   "outputs": [
    {
     "name": "stdout",
     "output_type": "stream",
     "text": [
      "Executing (default): SELECT table_name FROM information_schema.tables WHERE table_schema = 'public' AND table_name = 'Users'\n",
      "Executing (default): SELECT i.relname AS name, ix.indisprimary AS primary, ix.indisunique AS unique, ix.indkey AS indkey, array_agg(a.attnum) as column_indexes, array_agg(a.attname) AS column_names, pg_get_indexdef(ix.indexrelid) AS definition FROM pg_class t, pg_class i, pg_index ix, pg_attribute a WHERE t.oid = ix.indrelid AND i.oid = ix.indexrelid AND a.attrelid = t.oid AND t.relkind = 'r' and t.relname = 'Users' GROUP BY i.relname, ix.indexrelid, ix.indisprimary, ix.indisunique, ix.indkey ORDER BY i.relname;\n",
      "Executing (default): SELECT table_name FROM information_schema.tables WHERE table_schema = 'public' AND table_name = 'Faculties'\n",
      "Executing (default): SELECT i.relname AS name, ix.indisprimary AS primary, ix.indisunique AS unique, ix.indkey AS indkey, array_agg(a.attnum) as column_indexes, array_agg(a.attname) AS column_names, pg_get_indexdef(ix.indexrelid) AS definition FROM pg_class t, pg_class i, pg_index ix, pg_attribute a WHERE t.oid = ix.indrelid AND i.oid = ix.indexrelid AND a.attrelid = t.oid AND t.relkind = 'r' and t.relname = 'Faculties' GROUP BY i.relname, ix.indexrelid, ix.indisprimary, ix.indisunique, ix.indkey ORDER BY i.relname;\n",
      "Executing (default): SELECT table_name FROM information_schema.tables WHERE table_schema = 'public' AND table_name = 'Departments'\n",
      "Executing (default): SELECT i.relname AS name, ix.indisprimary AS primary, ix.indisunique AS unique, ix.indkey AS indkey, array_agg(a.attnum) as column_indexes, array_agg(a.attname) AS column_names, pg_get_indexdef(ix.indexrelid) AS definition FROM pg_class t, pg_class i, pg_index ix, pg_attribute a WHERE t.oid = ix.indrelid AND i.oid = ix.indexrelid AND a.attrelid = t.oid AND t.relkind = 'r' and t.relname = 'Departments' GROUP BY i.relname, ix.indexrelid, ix.indisprimary, ix.indisunique, ix.indkey ORDER BY i.relname;\n",
      "Executing (default): SELECT table_name FROM information_schema.tables WHERE table_schema = 'public' AND table_name = 'Foos'\n",
      "Executing (default): SELECT i.relname AS name, ix.indisprimary AS primary, ix.indisunique AS unique, ix.indkey AS indkey, array_agg(a.attnum) as column_indexes, array_agg(a.attname) AS column_names, pg_get_indexdef(ix.indexrelid) AS definition FROM pg_class t, pg_class i, pg_index ix, pg_attribute a WHERE t.oid = ix.indrelid AND i.oid = ix.indexrelid AND a.attrelid = t.oid AND t.relkind = 'r' and t.relname = 'Foos' GROUP BY i.relname, ix.indexrelid, ix.indisprimary, ix.indisunique, ix.indkey ORDER BY i.relname;\n",
      "Executing (default): SELECT table_name FROM information_schema.tables WHERE table_schema = 'public' AND table_name = 'Bars'\n",
      "Executing (default): SELECT i.relname AS name, ix.indisprimary AS primary, ix.indisunique AS unique, ix.indkey AS indkey, array_agg(a.attnum) as column_indexes, array_agg(a.attname) AS column_names, pg_get_indexdef(ix.indexrelid) AS definition FROM pg_class t, pg_class i, pg_index ix, pg_attribute a WHERE t.oid = ix.indrelid AND i.oid = ix.indexrelid AND a.attrelid = t.oid AND t.relkind = 'r' and t.relname = 'Bars' GROUP BY i.relname, ix.indexrelid, ix.indisprimary, ix.indisunique, ix.indkey ORDER BY i.relname;\n",
      "Executing (default): SELECT table_name FROM information_schema.tables WHERE table_schema = 'public' AND table_name = 'FooBars'\n",
      "Executing (default): SELECT i.relname AS name, ix.indisprimary AS primary, ix.indisunique AS unique, ix.indkey AS indkey, array_agg(a.attnum) as column_indexes, array_agg(a.attname) AS column_names, pg_get_indexdef(ix.indexrelid) AS definition FROM pg_class t, pg_class i, pg_index ix, pg_attribute a WHERE t.oid = ix.indrelid AND i.oid = ix.indexrelid AND a.attrelid = t.oid AND t.relkind = 'r' and t.relname = 'FooBars' GROUP BY i.relname, ix.indexrelid, ix.indisprimary, ix.indisunique, ix.indkey ORDER BY i.relname;\n",
      "Executing (default): SELECT table_name FROM information_schema.tables WHERE table_schema = 'public' AND table_name = 'Brrs'\n",
      "Executing (default): SELECT i.relname AS name, ix.indisprimary AS primary, ix.indisunique AS unique, ix.indkey AS indkey, array_agg(a.attnum) as column_indexes, array_agg(a.attname) AS column_names, pg_get_indexdef(ix.indexrelid) AS definition FROM pg_class t, pg_class i, pg_index ix, pg_attribute a WHERE t.oid = ix.indrelid AND i.oid = ix.indexrelid AND a.attrelid = t.oid AND t.relkind = 'r' and t.relname = 'Brrs' GROUP BY i.relname, ix.indexrelid, ix.indisprimary, ix.indisunique, ix.indkey ORDER BY i.relname;\n",
      "Executing (default): SELECT table_name FROM information_schema.tables WHERE table_schema = 'public' AND table_name = 'Bazs'\n",
      "Executing (default): SELECT i.relname AS name, ix.indisprimary AS primary, ix.indisunique AS unique, ix.indkey AS indkey, array_agg(a.attnum) as column_indexes, array_agg(a.attname) AS column_names, pg_get_indexdef(ix.indexrelid) AS definition FROM pg_class t, pg_class i, pg_index ix, pg_attribute a WHERE t.oid = ix.indrelid AND i.oid = ix.indexrelid AND a.attrelid = t.oid AND t.relkind = 'r' and t.relname = 'Bazs' GROUP BY i.relname, ix.indexrelid, ix.indisprimary, ix.indisunique, ix.indkey ORDER BY i.relname;\n",
      "Executing (default): SELECT table_name FROM information_schema.tables WHERE table_schema = 'public' AND table_name = 'Fars'\n",
      "Executing (default): CREATE TABLE IF NOT EXISTS \"Fars\" (\"id\"   SERIAL , \"whatever\" VARCHAR(255), \"deletedAt\" TIMESTAMP WITH TIME ZONE, \"createdAt\" TIMESTAMP WITH TIME ZONE NOT NULL, \"updatedAt\" TIMESTAMP WITH TIME ZONE NOT NULL, PRIMARY KEY (\"id\"));\n",
      "Executing (default): SELECT i.relname AS name, ix.indisprimary AS primary, ix.indisunique AS unique, ix.indkey AS indkey, array_agg(a.attnum) as column_indexes, array_agg(a.attname) AS column_names, pg_get_indexdef(ix.indexrelid) AS definition FROM pg_class t, pg_class i, pg_index ix, pg_attribute a WHERE t.oid = ix.indrelid AND i.oid = ix.indexrelid AND a.attrelid = t.oid AND t.relkind = 'r' and t.relname = 'Fars' GROUP BY i.relname, ix.indexrelid, ix.indisprimary, ix.indisunique, ix.indkey ORDER BY i.relname;\n"
     ]
    }
   ],
   "source": [
    "import { DeletedAt } from 'sequelize-typescript'\n",
    "\n",
    "@Table\n",
    "class Far extends Model {\n",
    "    @Column(DataType.STRING)\n",
    "    declare whatever: string\n",
    "\n",
    "    @DeletedAt\n",
    "    @Column(DataType.DATE)\n",
    "    declare deletedAt: Date\n",
    "}\n",
    "sequelize.addModels([Far])\n",
    "await sequelize.sync()\n",
    "null"
   ]
  },
  {
   "cell_type": "code",
   "execution_count": 37,
   "id": "13f6623f-d904-411e-a2e6-fdc22d85cd6a",
   "metadata": {},
   "outputs": [
    {
     "name": "stdout",
     "output_type": "stream",
     "text": [
      "Executing (default): INSERT INTO \"Fars\" (\"id\",\"whatever\",\"createdAt\",\"updatedAt\") VALUES (DEFAULT,'ever','2023-11-08 23:35:34.995 +00:00','2023-11-08 23:35:34.995 +00:00'),(DEFAULT,'forever','2023-11-08 23:35:34.995 +00:00','2023-11-08 23:35:34.995 +00:00') RETURNING \"id\",\"whatever\",\"deletedAt\",\"createdAt\",\"updatedAt\";\n"
     ]
    }
   ],
   "source": [
    "await Far.bulkCreate([{ whatever: 'ever' }, { whatever: 'forever' }])\n",
    "null"
   ]
  },
  {
   "cell_type": "markdown",
   "id": "feb9702e-42aa-4a35-855e-11d992b4374f",
   "metadata": {},
   "source": [
    "SELECT к этой табличке будет проверять `deletedAt`:"
   ]
  },
  {
   "cell_type": "code",
   "execution_count": 38,
   "id": "260ab8cf-6ffc-4922-bd8d-bdd17a5e3e60",
   "metadata": {},
   "outputs": [
    {
     "name": "stdout",
     "output_type": "stream",
     "text": [
      "Executing (default): SELECT \"id\", \"whatever\", \"deletedAt\", \"createdAt\", \"updatedAt\" FROM \"Fars\" AS \"Far\" WHERE (\"Far\".\"deletedAt\" IS NULL) LIMIT 1;\n",
      "{\n",
      "  id: \u001b[33m1\u001b[39m,\n",
      "  whatever: \u001b[32m'ever'\u001b[39m,\n",
      "  deletedAt: \u001b[1mnull\u001b[22m,\n",
      "  createdAt: \u001b[35m2023-11-08T23:35:34.995Z\u001b[39m,\n",
      "  updatedAt: \u001b[35m2023-11-08T23:35:34.995Z\u001b[39m\n",
      "}\n"
     ]
    }
   ],
   "source": [
    "let far = await Far.findOne()\n",
    "far.toJSON()"
   ]
  },
  {
   "cell_type": "markdown",
   "id": "2a56919c-f888-442e-ae5a-0990d1bd6370",
   "metadata": {},
   "source": [
    "Удаление будет установкой этого атрибута:"
   ]
  },
  {
   "cell_type": "code",
   "execution_count": 39,
   "id": "e82111fa-060c-4b87-9fc7-475438988ed1",
   "metadata": {},
   "outputs": [
    {
     "name": "stdout",
     "output_type": "stream",
     "text": [
      "Executing (default): UPDATE \"Fars\" SET \"deletedAt\"=$1,\"updatedAt\"=$2 WHERE \"id\" = $3\n"
     ]
    }
   ],
   "source": [
    "await far.destroy();\n",
    "null"
   ]
  },
  {
   "cell_type": "markdown",
   "id": "0aef3a41-52bb-4601-b791-d632460d3cc3",
   "metadata": {},
   "source": [
    "Чтобы удалить по-настоящему, можно использовать force: true:"
   ]
  },
  {
   "cell_type": "code",
   "execution_count": 40,
   "id": "02f87ea6-199c-4f1c-a781-151f02b71a49",
   "metadata": {},
   "outputs": [
    {
     "name": "stdout",
     "output_type": "stream",
     "text": [
      "Executing (default): DELETE FROM \"Fars\" WHERE \"id\" = 1\n",
      "[]\n"
     ]
    }
   ],
   "source": [
    "await far.destroy({ force: true })"
   ]
  },
  {
   "cell_type": "markdown",
   "id": "fb5a6e44-b181-42d2-9939-f2ab86e4140f",
   "metadata": {},
   "source": [
    "И чтобы не проверять данную сущность на `deletedAt` в запросах, можно использовать `paranoid: false`"
   ]
  },
  {
   "cell_type": "code",
   "execution_count": 41,
   "id": "f95b4c6e-1483-4f30-bbec-6dcec7bb099d",
   "metadata": {},
   "outputs": [
    {
     "name": "stdout",
     "output_type": "stream",
     "text": [
      "Executing (default): SELECT \"id\", \"whatever\", \"deletedAt\", \"createdAt\", \"updatedAt\" FROM \"Fars\" AS \"Far\";\n",
      "Executing (default): SELECT \"id\", \"whatever\", \"deletedAt\", \"createdAt\", \"updatedAt\" FROM \"Fars\" AS \"Far\" WHERE (\"Far\".\"deletedAt\" IS NULL);\n"
     ]
    }
   ],
   "source": [
    "await Far.findAll({ paranoid: false })\n",
    "await Far.findAll({ paranoid: true })\n",
    "null"
   ]
  },
  {
   "cell_type": "markdown",
   "id": "0f76c83f-4658-48d0-a523-61374caa5075",
   "metadata": {},
   "source": [
    "### Транзакции\n",
    "Транзакция - набор операций, который либо выполниться полностью, либо никак.\n",
    "\n",
    "Более подробно - см. лекция 14"
   ]
  },
  {
   "cell_type": "code",
   "execution_count": 42,
   "id": "19013baa-3bab-46f6-ad14-ae24e9b36710",
   "metadata": {},
   "outputs": [
    {
     "name": "stdout",
     "output_type": "stream",
     "text": [
      "Executing (2ae1269f-c795-421d-b5e9-e1a6f6686665): START TRANSACTION;\n",
      "Executing (2ae1269f-c795-421d-b5e9-e1a6f6686665): INSERT INTO \"Faculties\" (\"id\",\"title\",\"createdAt\",\"updatedAt\") VALUES (DEFAULT,$1,$2,$3) RETURNING \"id\",\"title\",\"createdAt\",\"updatedAt\";\n",
      "Executing (2ae1269f-c795-421d-b5e9-e1a6f6686665): ROLLBACK;\n"
     ]
    },
    {
     "name": "stderr",
     "output_type": "stream",
     "text": [
      "Error: Oh no\n",
      "    at evalmachine.<anonymous>:5:11\n",
      "\u001b[90m    at process.processTicksAndRejections (node:internal/process/task_queues:95:5)\u001b[39m\n",
      "    at async \u001b[90m/home/pavel/20-29 Education/23 Teaching/23.01 SQL/23.01.Y23 SQL 2023/23.01.Y23.R Repos/23.01.Y23.R.01 sql-2023/orm-demo/\u001b[39mnode_modules/\u001b[4msequelize\u001b[24m/lib/sequelize.js:507:18\n",
      "    at async evalmachine.<anonymous>:3:22\n",
      "    at async Object.execute (/home/pavel/.npm-packages/lib/node_modules/\u001b[4mtslab\u001b[24m/dist/executor.js:173:17)\n",
      "    at async JupyterHandlerImpl.handleExecuteImpl (/home/pavel/.npm-packages/lib/node_modules/\u001b[4mtslab\u001b[24m/dist/jupyter.js:223:18)\n"
     ]
    }
   ],
   "source": [
    "await sequelize.transaction(async (t) => {\n",
    "    const faculty = await Faculty.create({ title: 'ИФИО' }, { transaction: t });\n",
    "    throw new Error(\"Oh no\");\n",
    "    await Department.create({ title: 'ФВиС', facultyId: faculty.id }, { transaction: t });\n",
    "});"
   ]
  },
  {
   "cell_type": "code",
   "execution_count": 43,
   "id": "3ce78e66-da01-4ea9-a5d6-ca0b094ec6a2",
   "metadata": {},
   "outputs": [
    {
     "name": "stdout",
     "output_type": "stream",
     "text": [
      "Executing (default): SELECT \"id\", \"title\", \"createdAt\", \"updatedAt\" FROM \"Faculties\" AS \"Faculty\" WHERE \"Faculty\".\"title\" = 'ИФИО' LIMIT 1;\n"
     ]
    }
   ],
   "source": [
    "await Faculty.findOne({ where: { title: 'ИФИО' }})"
   ]
  },
  {
   "cell_type": "code",
   "execution_count": 44,
   "id": "f65caecc-7e56-4941-85f3-b86cca2c6159",
   "metadata": {},
   "outputs": [
    {
     "name": "stdout",
     "output_type": "stream",
     "text": [
      "Executing (a98968d7-4787-4dec-a202-6fb150b036ba): START TRANSACTION;\n",
      "Executing (a98968d7-4787-4dec-a202-6fb150b036ba): INSERT INTO \"Faculties\" (\"id\",\"title\",\"createdAt\",\"updatedAt\") VALUES (DEFAULT,$1,$2,$3) RETURNING \"id\",\"title\",\"createdAt\",\"updatedAt\";\n",
      "Executing (a98968d7-4787-4dec-a202-6fb150b036ba): INSERT INTO \"Departments\" (\"id\",\"title\",\"facultyId\",\"createdAt\",\"updatedAt\") VALUES (DEFAULT,$1,$2,$3,$4) RETURNING \"id\",\"title\",\"facultyId\",\"createdAt\",\"updatedAt\";\n",
      "Executing (a98968d7-4787-4dec-a202-6fb150b036ba): COMMIT;\n"
     ]
    }
   ],
   "source": [
    "await sequelize.transaction(async (t) => {\n",
    "    const faculty = await Faculty.create({ title: 'ИФИО' }, { transaction: t });\n",
    "    await Department.create({ title: 'ФВиС', facultyId: faculty.id }, { transaction: t });\n",
    "});"
   ]
  },
  {
   "cell_type": "markdown",
   "id": "f7e184cf-aee8-4d7a-afb7-5ae7eef632b2",
   "metadata": {},
   "source": [
    "## Raw SQL\n",
    "\n",
    "Иногда может требоваться написать запрос на чистом SQL. Это может быть необходимо, если:\n",
    "* Недостаточно мощности ORM\n",
    "* Имеются проблемы с производительностью"
   ]
  },
  {
   "cell_type": "markdown",
   "id": "70f82fee-6a7d-4e7f-bf1c-50135c2aef8d",
   "metadata": {},
   "source": [
    "### Полностью Raw SQL\n",
    "sequelize поддерживает исполнение произвольных запросов с помощью метода `query`."
   ]
  },
  {
   "cell_type": "code",
   "execution_count": 45,
   "id": "dae07317-9882-4758-833a-cb681563875a",
   "metadata": {},
   "outputs": [
    {
     "name": "stdout",
     "output_type": "stream",
     "text": [
      "Executing (default): SELECT 2 + 3 res\n",
      "[ { res: \u001b[33m5\u001b[39m } ]\n"
     ]
    }
   ],
   "source": [
    "import { QueryTypes } from 'sequelize'\n",
    "await sequelize.query('SELECT 2 + 3 res', { type: QueryTypes.SELECT });"
   ]
  },
  {
   "cell_type": "markdown",
   "id": "de287ae2-0289-4f29-aa83-0bc467d12685",
   "metadata": {},
   "source": [
    "Можно передать параметры в запрос:"
   ]
  },
  {
   "cell_type": "code",
   "execution_count": 46,
   "id": "6a99139c-73fc-48dd-a572-7eabfe0d18ff",
   "metadata": {},
   "outputs": [
    {
     "name": "stdout",
     "output_type": "stream",
     "text": [
      "Executing (default): SELECT * FROM \"Users\" where fio like 'Корытов%'\n",
      "[\n",
      "  {\n",
      "    uuid: \u001b[32m'c17bc685-8775-4a88-9035-3e1d8f3ee4a9'\u001b[39m,\n",
      "    fio: \u001b[32m'Корытов Павел Валерьевич'\u001b[39m,\n",
      "    bio: \u001b[32m'Программист ОИС'\u001b[39m,\n",
      "    createdAt: \u001b[35m2023-11-08T23:35:31.193Z\u001b[39m,\n",
      "    updatedAt: \u001b[35m2023-11-08T23:35:31.268Z\u001b[39m\n",
      "  }\n",
      "]\n"
     ]
    }
   ],
   "source": [
    "let needle = 'Корытов'\n",
    "await sequelize.query(\n",
    "    'SELECT * FROM \"Users\" where fio like :needle', \n",
    "    { type: QueryTypes.SELECT, replacements: { needle: needle + '%' } }\n",
    ");"
   ]
  },
  {
   "cell_type": "markdown",
   "id": "6e40e08c-d97a-4e6d-ad92-373458c70fbd",
   "metadata": {},
   "source": [
    "Как видно, возращаются простые объекты js, не инстансы моделей.\n",
    "\n",
    "Никогда не делайте так, если не уверены в параметрах (например, если они приходят от пользователей):"
   ]
  },
  {
   "cell_type": "code",
   "execution_count": 47,
   "id": "00175e5d-191c-4c30-bf9c-a230a8a7f19b",
   "metadata": {},
   "outputs": [
    {
     "name": "stdout",
     "output_type": "stream",
     "text": [
      "Executing (default): SELECT * FROM \"Users\" where fio like 'Корытов%'\n",
      "[\n",
      "  {\n",
      "    uuid: \u001b[32m'c17bc685-8775-4a88-9035-3e1d8f3ee4a9'\u001b[39m,\n",
      "    fio: \u001b[32m'Корытов Павел Валерьевич'\u001b[39m,\n",
      "    bio: \u001b[32m'Программист ОИС'\u001b[39m,\n",
      "    createdAt: \u001b[35m2023-11-08T23:35:31.193Z\u001b[39m,\n",
      "    updatedAt: \u001b[35m2023-11-08T23:35:31.268Z\u001b[39m\n",
      "  }\n",
      "]\n"
     ]
    }
   ],
   "source": [
    "await sequelize.query(\n",
    "    `SELECT * FROM \"Users\" where fio like '${needle}%'`, \n",
    "    { type: QueryTypes.SELECT }\n",
    ")"
   ]
  },
  {
   "cell_type": "markdown",
   "id": "cb93b4d0-6cd2-43f6-9bad-d92eab4cc991",
   "metadata": {},
   "source": [
    "Потому что:"
   ]
  },
  {
   "cell_type": "code",
   "execution_count": 48,
   "id": "a6fbe92f-33de-4013-9559-81fa5e94ed40",
   "metadata": {},
   "outputs": [
    {
     "name": "stdout",
     "output_type": "stream",
     "text": [
      "Executing (default): SELECT * FROM \"Users\" where fio like '1' OR 1 = 1 --%'\n",
      "[\n",
      "  {\n",
      "    uuid: \u001b[32m'c17bc685-8775-4a88-9035-3e1d8f3ee4a9'\u001b[39m,\n",
      "    fio: \u001b[32m'Корытов Павел Валерьевич'\u001b[39m,\n",
      "    bio: \u001b[32m'Программист ОИС'\u001b[39m,\n",
      "    createdAt: \u001b[35m2023-11-08T23:35:31.193Z\u001b[39m,\n",
      "    updatedAt: \u001b[35m2023-11-08T23:35:31.268Z\u001b[39m\n",
      "  },\n",
      "  {\n",
      "    uuid: \u001b[32m'0f9084f1-01b6-483e-91e5-a22e8cc63f4d'\u001b[39m,\n",
      "    fio: \u001b[32m'Азаревич Артём Дмитриевич'\u001b[39m,\n",
      "    bio: \u001b[32m'Аспирант каф. МОЭВМ'\u001b[39m,\n",
      "    createdAt: \u001b[35m2023-11-08T23:35:31.494Z\u001b[39m,\n",
      "    updatedAt: \u001b[35m2023-11-08T23:35:31.521Z\u001b[39m\n",
      "  },\n",
      "  {\n",
      "    uuid: \u001b[32m'626e53d9-84d9-4964-b1bd-fb95ff807ede'\u001b[39m,\n",
      "    fio: \u001b[32m'Депрейс Александр'\u001b[39m,\n",
      "    bio: \u001b[32m'Студент группы 1303'\u001b[39m,\n",
      "    createdAt: \u001b[35m2023-11-08T23:35:31.718Z\u001b[39m,\n",
      "    updatedAt: \u001b[35m2023-11-08T23:35:31.718Z\u001b[39m\n",
      "  },\n",
      "  {\n",
      "    uuid: \u001b[32m'1717ca0e-4d7e-4921-8e99-2ec72dcc87c5'\u001b[39m,\n",
      "    fio: \u001b[32m'Коренев Данил'\u001b[39m,\n",
      "    bio: \u001b[32m'Студент группы 1303'\u001b[39m,\n",
      "    createdAt: \u001b[35m2023-11-08T23:35:31.718Z\u001b[39m,\n",
      "    updatedAt: \u001b[35m2023-11-08T23:35:31.718Z\u001b[39m\n",
      "  },\n",
      "  {\n",
      "    uuid: \u001b[32m'f82eeb99-fc89-4b42-b302-c3e0f2116c22'\u001b[39m,\n",
      "    fio: \u001b[32m'Кузнецов Николай'\u001b[39m,\n",
      "    bio: \u001b[32m'Студент группы 1303'\u001b[39m,\n",
      "    createdAt: \u001b[35m2023-11-08T23:35:31.718Z\u001b[39m,\n",
      "    updatedAt: \u001b[35m2023-11-08T23:35:31.718Z\u001b[39m\n",
      "  },\n",
      "  {\n",
      "    uuid: \u001b[32m'30e492cd-68b5-48b7-b1d3-0247a1b1c22f'\u001b[39m,\n",
      "    fio: \u001b[32m'Смирнов Дмитрий'\u001b[39m,\n",
      "    bio: \u001b[32m'Студент группы 1303'\u001b[39m,\n",
      "    createdAt: \u001b[35m2023-11-08T23:35:31.718Z\u001b[39m,\n",
      "    updatedAt: \u001b[35m2023-11-08T23:35:31.718Z\u001b[39m\n",
      "  },\n",
      "  {\n",
      "    uuid: \u001b[32m'b75eb344-cefb-4f25-a757-00c411be738b'\u001b[39m,\n",
      "    fio: \u001b[32m'Новак Полина'\u001b[39m,\n",
      "    bio: \u001b[32m'Студент группы 1303'\u001b[39m,\n",
      "    createdAt: \u001b[35m2023-11-08T23:35:31.718Z\u001b[39m,\n",
      "    updatedAt: \u001b[35m2023-11-08T23:35:31.718Z\u001b[39m\n",
      "  },\n",
      "  {\n",
      "    uuid: \u001b[32m'cafe8f46-7d7b-407e-be99-02239ab05d8c'\u001b[39m,\n",
      "    fio: \u001b[32m'Исайкин Георгий'\u001b[39m,\n",
      "    bio: \u001b[32m'Студент группы 1381'\u001b[39m,\n",
      "    createdAt: \u001b[35m2023-11-08T23:35:31.881Z\u001b[39m,\n",
      "    updatedAt: \u001b[35m2023-11-08T23:35:31.881Z\u001b[39m\n",
      "  },\n",
      "  {\n",
      "    uuid: \u001b[32m'd4f469d0-b28d-4baa-820f-c0181bc4e47c'\u001b[39m,\n",
      "    fio: \u001b[32m'Тарасов Константин'\u001b[39m,\n",
      "    bio: \u001b[32m'Студент группы 1381'\u001b[39m,\n",
      "    createdAt: \u001b[35m2023-11-08T23:35:31.881Z\u001b[39m,\n",
      "    updatedAt: \u001b[35m2023-11-08T23:35:31.881Z\u001b[39m\n",
      "  },\n",
      "  {\n",
      "    uuid: \u001b[32m'c41ad5cc-b1c6-418c-9458-0f17d2be413a'\u001b[39m,\n",
      "    fio: \u001b[32m'Васильева Ольга'\u001b[39m,\n",
      "    bio: \u001b[32m'Студент группы 1381'\u001b[39m,\n",
      "    createdAt: \u001b[35m2023-11-08T23:35:31.881Z\u001b[39m,\n",
      "    updatedAt: \u001b[35m2023-11-08T23:35:31.881Z\u001b[39m\n",
      "  },\n",
      "  {\n",
      "    uuid: \u001b[32m'6abf764d-d3da-4079-b83b-74bb79b1a750'\u001b[39m,\n",
      "    fio: \u001b[32m'Возмитель Влас'\u001b[39m,\n",
      "    bio: \u001b[32m'Студент группы 1381'\u001b[39m,\n",
      "    createdAt: \u001b[35m2023-11-08T23:35:31.881Z\u001b[39m,\n",
      "    updatedAt: \u001b[35m2023-11-08T23:35:31.881Z\u001b[39m\n",
      "  }\n",
      "]\n"
     ]
    }
   ],
   "source": [
    "needle = `1' OR 1 = 1 --`\n",
    "await sequelize.query(\n",
    "    `SELECT * FROM \"Users\" where fio like '${needle}%'`, \n",
    "    { type: QueryTypes.SELECT }\n",
    ")"
   ]
  },
  {
   "cell_type": "markdown",
   "id": "4c109a8e-adc7-4213-af27-b41ae42395f1",
   "metadata": {},
   "source": [
    "И это далеко не самый страшный вариант, что можно сделать с таким запросом."
   ]
  },
  {
   "cell_type": "markdown",
   "id": "492c3d6d-e880-44a1-8f70-dd7957d567cd",
   "metadata": {},
   "source": [
    "### Использование элементов Raw SQL в запросах Sequelize\n",
    "sequelize также позволяет встроить \"кусок\" чистого SQL в свои запросы.\n",
    "\n",
    "Это в документации практически не описано."
   ]
  },
  {
   "cell_type": "code",
   "execution_count": 49,
   "id": "0ea9e191-31ba-4759-b76b-cdcb9569354a",
   "metadata": {},
   "outputs": [],
   "source": [
    "import { literal } from 'sequelize'"
   ]
  },
  {
   "cell_type": "code",
   "execution_count": 50,
   "id": "f8668176-96d4-4544-96a5-92c38863abe3",
   "metadata": {},
   "outputs": [
    {
     "name": "stdout",
     "output_type": "stream",
     "text": [
      "Executing (default): SELECT \"uuid\", \"fio\", \"bio\", \"createdAt\", \"updatedAt\", length(\"fio\") AS \"fioLen\" FROM \"Users\" AS \"User\" WHERE (split_part(fio, ' ', 3) = 'Валерьевич') ORDER BY RANDOM();\n",
      "{\n",
      "  uuid: \u001b[32m'c17bc685-8775-4a88-9035-3e1d8f3ee4a9'\u001b[39m,\n",
      "  fio: \u001b[32m'Корытов Павел Валерьевич'\u001b[39m,\n",
      "  bio: \u001b[32m'Программист ОИС'\u001b[39m,\n",
      "  createdAt: \u001b[35m2023-11-08T23:35:31.193Z\u001b[39m,\n",
      "  updatedAt: \u001b[35m2023-11-08T23:35:31.268Z\u001b[39m,\n",
      "  fioLen: \u001b[33m24\u001b[39m\n",
      "}\n"
     ]
    }
   ],
   "source": [
    "let res5 = await User.findAll({\n",
    "    attributes: {\n",
    "        // Добавление дополнительного атрибута.\n",
    "        include: [[literal('length(\"fio\")'), 'fioLen']]\n",
    "        // Тут можно позвать и SELECT (но обычно не нужно)\n",
    "    },\n",
    "    where: {\n",
    "        [Op.and]: [\n",
    "            // Кастомное условие для WHERE\n",
    "            literal(`split_part(fio, ' ', 3) = 'Валерьевич'`), \n",
    "        ]\n",
    "    },\n",
    "    // Кастомный ORDER\n",
    "    order: literal(`RANDOM()`)\n",
    "})\n",
    "res5[0].toJSON()"
   ]
  },
  {
   "cell_type": "markdown",
   "id": "aab9c01c-c1da-4ac9-9854-26c6775e07ed",
   "metadata": {},
   "source": [
    "Важно, что обратиться к атрибутам, которых не существует в модели, так не получится:"
   ]
  },
  {
   "cell_type": "code",
   "execution_count": 51,
   "id": "7bc6e199-01c9-4178-a3ba-229581bbc045",
   "metadata": {},
   "outputs": [
    {
     "name": "stderr",
     "output_type": "stream",
     "text": [
      "1:9 - Property 'fioLen' does not exist on type 'User'.\n"
     ]
    }
   ],
   "source": [
    "res5[0].fioLen"
   ]
  },
  {
   "cell_type": "markdown",
   "id": "be0b4b5a-e632-48fd-99a4-598a359939c5",
   "metadata": {},
   "source": [
    "Можно использовать `getDataValue()`:"
   ]
  },
  {
   "cell_type": "code",
   "execution_count": 52,
   "id": "f62e6f4e-fa65-43c8-be26-166be4787dcd",
   "metadata": {},
   "outputs": [
    {
     "name": "stdout",
     "output_type": "stream",
     "text": [
      "\u001b[33m24\u001b[39m\n"
     ]
    }
   ],
   "source": [
    "res5[0].getDataValue('fioLen')"
   ]
  },
  {
   "cell_type": "markdown",
   "id": "00da2c85-b6e0-467b-90ba-869370a2a6ee",
   "metadata": {},
   "source": [
    "Главное - не делать так:"
   ]
  },
  {
   "cell_type": "code",
   "execution_count": 53,
   "id": "e03ae79d-47b1-4456-8a4b-6f6f64478ec1",
   "metadata": {},
   "outputs": [
    {
     "name": "stdout",
     "output_type": "stream",
     "text": [
      "Executing (default): SELECT \"uuid\", \"fio\", \"bio\", \"createdAt\", \"updatedAt\" FROM \"Users\" AS \"User\" WHERE (split_part(fio, ' ', 3) = '1' OR 1 = 1 OR '1' = '1');\n",
      "\u001b[33m11\u001b[39m\n"
     ]
    }
   ],
   "source": [
    "needle = `1' OR 1 = 1 OR '1' = '1`\n",
    "res5 = await User.findAll({\n",
    "    where: {\n",
    "        [Op.and]: [\n",
    "            literal(`split_part(fio, ' ', 3) = '${needle}'`), \n",
    "        ]\n",
    "    },\n",
    "})\n",
    "res5.length"
   ]
  },
  {
   "cell_type": "markdown",
   "id": "64dd32bb-ff6c-4622-bfec-9f786fbbece3",
   "metadata": {},
   "source": [
    "Можно сделать так:"
   ]
  },
  {
   "cell_type": "code",
   "execution_count": 54,
   "id": "4701239a-ec9f-4251-9cdd-d95fbe5aaf08",
   "metadata": {},
   "outputs": [
    {
     "name": "stdout",
     "output_type": "stream",
     "text": [
      "Executing (default): SELECT \"uuid\", \"fio\", \"bio\", \"createdAt\", \"updatedAt\" FROM \"Users\" AS \"User\" WHERE (split_part(fio, ' ', 3) = '1'' OR 1 = 1 OR ''1'' = ''1');\n",
      "[]\n"
     ]
    }
   ],
   "source": [
    "res5 = await User.findAll({\n",
    "    where: {\n",
    "        [Op.and]: [\n",
    "            literal(`split_part(fio, ' ', 3) = ?`), \n",
    "        ]\n",
    "    },\n",
    "    replacements: [needle]\n",
    "})"
   ]
  },
  {
   "cell_type": "markdown",
   "id": "9d7a1970-c7d5-41b1-9dcf-00a111790d7e",
   "metadata": {},
   "source": [
    "### Использование элементов Sequelize в Raw SQL\n",
    "Можно поступить и наоборот - использовать логику sequelize для генерации части запроса.\n",
    "\n",
    "Это в документации не описано совсем :-)"
   ]
  },
  {
   "cell_type": "code",
   "execution_count": 55,
   "id": "9ac1e5cd-fe4f-41ed-8542-9886f3fd9818",
   "metadata": {},
   "outputs": [],
   "source": [
    "let qgen = sequelize.getQueryInterface().queryGenerator as any"
   ]
  },
  {
   "cell_type": "code",
   "execution_count": 56,
   "id": "7bd87137-063a-45be-b63d-4bced9dd69a9",
   "metadata": {},
   "outputs": [
    {
     "name": "stdout",
     "output_type": "stream",
     "text": [
      "WHERE \"fio\" ILIKE 'Корытов%'\n",
      "\"fio\" ILIKE 'Корытов%'\n"
     ]
    }
   ],
   "source": [
    "console.log(\n",
    "    qgen.whereQuery({ fio: { [Op.iLike]: 'Корытов%' } })\n",
    ")\n",
    "console.log(\n",
    "    qgen.whereItemsQuery({ fio: { [Op.iLike]: 'Корытов%' } })\n",
    ")"
   ]
  },
  {
   "cell_type": "code",
   "execution_count": 57,
   "id": "0c179c33-4f67-4ad2-a2d6-c5e9c1123543",
   "metadata": {},
   "outputs": [
    {
     "name": "stdout",
     "output_type": "stream",
     "text": [
      "\"fio\" ASC, \"uuid\" DESC\n"
     ]
    }
   ],
   "source": [
    "console.log(\n",
    "    qgen.getQueryOrders({ order: [['fio', 'ASC'], ['uuid', 'DESC']] }).mainQueryOrder.join(', ')\n",
    ")"
   ]
  },
  {
   "cell_type": "code",
   "execution_count": 58,
   "id": "4b1b2380-d2e2-4bbd-9030-c7e96d2ced63",
   "metadata": {},
   "outputs": [
    {
     "name": "stdout",
     "output_type": "stream",
     "text": [
      " LIMIT 10 OFFSET 0\n"
     ]
    }
   ],
   "source": [
    "console.log(\n",
    "    qgen.addLimitAndOffset({ limit: 10, offset: 0 })\n",
    ")"
   ]
  },
  {
   "cell_type": "markdown",
   "id": "99e96477-a816-44c4-9125-cba7c51828b2",
   "metadata": {},
   "source": [
    "Поэтому можно так делать, если другого выхода нет:"
   ]
  },
  {
   "cell_type": "code",
   "execution_count": 59,
   "id": "cc015d64-e8ba-4248-8727-b4e088979bc2",
   "metadata": {},
   "outputs": [
    {
     "name": "stdout",
     "output_type": "stream",
     "text": [
      "Executing (default): SELECT * FROM \"Users\"\n",
      "WHERE \"fio\" ILIKE 'Корытов%'\n",
      "ORDER BY \"fio\" ASC, \"uuid\" DESC\n",
      " LIMIT 10 OFFSET 0\n",
      "[\n",
      "  {\n",
      "    uuid: \u001b[32m'c17bc685-8775-4a88-9035-3e1d8f3ee4a9'\u001b[39m,\n",
      "    fio: \u001b[32m'Корытов Павел Валерьевич'\u001b[39m,\n",
      "    bio: \u001b[32m'Программист ОИС'\u001b[39m,\n",
      "    createdAt: \u001b[35m2023-11-08T23:35:31.193Z\u001b[39m,\n",
      "    updatedAt: \u001b[35m2023-11-08T23:35:31.268Z\u001b[39m\n",
      "  }\n",
      "]\n"
     ]
    }
   ],
   "source": [
    "let whereQuery = qgen.whereQuery({ fio: { [Op.iLike]: 'Корытов%' } })\n",
    "let orderQuery = qgen.getQueryOrders({ order: [['fio', 'ASC'], ['uuid', 'DESC']] }).mainQueryOrder.join(', ')\n",
    "let paginationQuery = qgen.addLimitAndOffset({ limit: 10, offset: 0 })\n",
    "let query = `\n",
    "SELECT * FROM \"Users\"\n",
    "${whereQuery}\n",
    "ORDER BY ${orderQuery}\n",
    "${paginationQuery}\n",
    "`\n",
    "await sequelize.query(query, { type: QueryTypes.SELECT })"
   ]
  },
  {
   "cell_type": "code",
   "execution_count": null,
   "id": "8bf7eda9-4347-43de-b323-79bff45c29a2",
   "metadata": {},
   "outputs": [],
   "source": []
  }
 ],
 "metadata": {
  "kernelspec": {
   "display_name": "TypeScript",
   "language": "typescript",
   "name": "tslab"
  },
  "language_info": {
   "codemirror_mode": {
    "mode": "typescript",
    "name": "javascript",
    "typescript": true
   },
   "file_extension": ".ts",
   "mimetype": "text/typescript",
   "name": "typescript",
   "version": "3.7.2"
  }
 },
 "nbformat": 4,
 "nbformat_minor": 5
}
